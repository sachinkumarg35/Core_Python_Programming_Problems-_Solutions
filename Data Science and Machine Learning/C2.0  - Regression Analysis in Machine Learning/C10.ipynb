{
 "cells": [
  {
   "cell_type": "markdown",
   "id": "cf55f737",
   "metadata": {},
   "source": [
    "1. Create a data frame with random values. Use linear regression model on this data that predicts values."
   ]
  },
  {
   "cell_type": "markdown",
   "id": "7d4e2ee9",
   "metadata": {},
   "source": [
    "2. Consider the following data set in which salaries of the top 10 positions are mentioned with their levels. Use the polynomial\n",
    "regression model to prove that there exists a non-linear relationship between the Position levels and the salaries. Visualize the results using a scatter plot. Choose different value of degrees and test the accuracy. Also predict value for a given value of x."
   ]
  },
  {
   "cell_type": "code",
   "execution_count": 1,
   "id": "b8d014ac",
   "metadata": {},
   "outputs": [],
   "source": [
    "#Position ------------------Level(X-Variable)---------Level(Y-Variable)\n",
    "#Business Analyst--------------1-------------------------45000\n",
    "#Junior Consultant-------------2-------------------------50000\n",
    "#Senior Consultant-------------3-------------------------60000\n",
    "#Manager-----------------------4-------------------------80000\n",
    "#Country Manager---------------5-------------------------110000\n",
    "#Region Manager----------------6-------------------------150000\n",
    "#Partner-----------------------7-------------------------200000\n",
    "#Senior Partner----------------8-------------------------300000\n",
    "#C-level-----------------------9-------------------------500000\n",
    "#CEO---------------------------10------------------------1000000"
   ]
  },
  {
   "cell_type": "markdown",
   "id": "2b46d0b7",
   "metadata": {},
   "source": [
    "3. Generate some random data to compare the performance of linear and polynomial regression."
   ]
  },
  {
   "cell_type": "markdown",
   "id": "75d4127e",
   "metadata": {},
   "source": [
    "4. Perform polynomial regression on the housing data set."
   ]
  },
  {
   "cell_type": "markdown",
   "id": "e484e046",
   "metadata": {},
   "source": [
    "5. Perform Ridge regression on the housing data set."
   ]
  },
  {
   "cell_type": "markdown",
   "id": "c5c52fd6",
   "metadata": {},
   "source": [
    "6. Evaluate the Lasso regression model on the housing dataset using repeated 10-fold cross-validation and report the average mean absolute error(MAE) on the dataset. Use this model to make predictions on new data."
   ]
  },
  {
   "cell_type": "markdown",
   "id": "a07e9ff9",
   "metadata": {},
   "source": [
    "7. Perform muliple linear regression on Boston Housing data set."
   ]
  },
  {
   "cell_type": "markdown",
   "id": "8a799189",
   "metadata": {},
   "source": [
    "8. Perform linear regression on economics. csv and check the error rate."
   ]
  },
  {
   "cell_type": "markdown",
   "id": "409ef291",
   "metadata": {},
   "source": [
    "9. Use the Lasso regression model on Boston housing data set to predict values for new data."
   ]
  },
  {
   "cell_type": "markdown",
   "id": "8b389119",
   "metadata": {},
   "source": [
    "10. Use the LassoCV function to try a grid of values between 0 and 1 with a separation of 0.01 to choose the best value for alpha parameter for the housing data set."
   ]
  },
  {
   "cell_type": "markdown",
   "id": "5438c327",
   "metadata": {},
   "source": [
    "11. Write a code using automatically configured ElasticNet algorithm. Specify the values of alpha to be tested as a list."
   ]
  },
  {
   "cell_type": "markdown",
   "id": "a21f7fec",
   "metadata": {},
   "source": [
    "12. Demonstrate the application of logistic regression on MNIST dataset."
   ]
  },
  {
   "cell_type": "markdown",
   "id": "f8b5eee2",
   "metadata": {},
   "source": [
    "13. Download the Student-Pass-Fail-Data.csv from the link https://github.com/dhirak100/LogReg01/find/master and perform logistic regression on it. Use this model to predict values for Pass_Or_Fail variable and calculate its accuracy."
   ]
  },
  {
   "cell_type": "markdown",
   "id": "338fd362",
   "metadata": {},
   "source": [
    "14. Download the USer.csv from https://drive.google.com/file/d/1Upqoz2gIAYq6LByD7YjHU-9_9K4EOhOh/view and predict whether a user will purchase the product or not. Also find out the relationship between Age and Estimated Salary.\n",
    "    Hint: Scale the values of Age and Salary."
   ]
  },
  {
   "cell_type": "markdown",
   "id": "e2fba04d",
   "metadata": {},
   "source": [
    "15. Use the cars.csv and predict the value of CO2 based on weight and volume using linear regression."
   ]
  },
  {
   "cell_type": "markdown",
   "id": "cc102b27",
   "metadata": {},
   "source": [
    "16. Modify the code of Programming Exercise 15 by scaling the values before implementing linear regression model."
   ]
  },
  {
   "cell_type": "markdown",
   "id": "b3df1627",
   "metadata": {},
   "source": [
    "17. Create a 2D array with random values and demonstrate the application of linear regression on it."
   ]
  },
  {
   "cell_type": "markdown",
   "id": "789564af",
   "metadata": {},
   "source": [
    "18. Create a data set with random values and demonstrate the application of polynomial regression on it."
   ]
  },
  {
   "cell_type": "code",
   "execution_count": null,
   "id": "37c74213",
   "metadata": {},
   "outputs": [],
   "source": []
  }
 ],
 "metadata": {
  "kernelspec": {
   "display_name": "Python 3 (ipykernel)",
   "language": "python",
   "name": "python3"
  },
  "language_info": {
   "codemirror_mode": {
    "name": "ipython",
    "version": 3
   },
   "file_extension": ".py",
   "mimetype": "text/x-python",
   "name": "python",
   "nbconvert_exporter": "python",
   "pygments_lexer": "ipython3",
   "version": "3.11.4"
  }
 },
 "nbformat": 4,
 "nbformat_minor": 5
}
