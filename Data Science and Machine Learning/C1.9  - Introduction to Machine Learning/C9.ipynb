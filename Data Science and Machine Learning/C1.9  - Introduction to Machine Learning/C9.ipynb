{
 "cells": [
  {
   "cell_type": "markdown",
   "id": "cc28bbda",
   "metadata": {},
   "source": [
    "1. Read the mtcars.csv file and do the following:\n",
    "* Print the first 10 rows.\n",
    "* Print the shape.\n",
    "* Check for outliers using bar plot\n",
    "* Print outlier data values.\n",
    "* Remove outliers\n",
    "* Recheck the shape of data."
   ]
  },
  {
   "cell_type": "markdown",
   "id": "4446b6bc",
   "metadata": {},
   "source": [
    "2. Read the car-mpg.csv and do the following:\n",
    "* Check the shape of the data.\n",
    "* Print the Z-score table.\n",
    "* Identify the outliers.\n",
    "* Recheck the shape."
   ]
  },
  {
   "cell_type": "markdown",
   "id": "da2987c7",
   "metadata": {},
   "source": [
    "3. Write a Python code to detect outliers using Z-score technique."
   ]
  },
  {
   "cell_type": "markdown",
   "id": "e7fbcf79",
   "metadata": {},
   "source": [
    "4. Download the loan_applications data set that has 600 observations and 6 variables: Income, Loan_amount, Term_months, Credit_score, Age and Approval_status.\n",
    "Now, \n",
    "* Read the data set.\n",
    "* Print a statistical summary of all the quatitative variables.\n",
    "* Identify outliers using IQR technique.\n",
    "* Identify outliers using skewness in the Income column.\n",
    "* Represent distribution of data using box plot of the numeric variable \"Loan_amount\".\n",
    "* Verify skewness of Income column by plotting a histogram.\n",
    "* Identify outlier using a scatter plot.\n",
    "* Remove outlier from Income column using flooring and capping technique.\n",
    "* Trim the data set so that every row with Age < 18 abd Age > 100 are removed from the data set.\n",
    "* Remove outliers using IQR technique.\n",
    "* Use log trandformation to reduce skewness of data.\n",
    "* Replace extreme values with median value."
   ]
  },
  {
   "cell_type": "markdown",
   "id": "8e234b92",
   "metadata": {},
   "source": [
    "5. Write a code that normalizes the age, height and weight values of the baseball data set."
   ]
  },
  {
   "cell_type": "markdown",
   "id": "5ff42cb0",
   "metadata": {},
   "source": [
    "6. Use the diabetes.csv file to rescale the data values using MinMaxScaler in the range of 0 to 1. Print the first 10 rows in the output."
   ]
  },
  {
   "cell_type": "markdown",
   "id": "ac136ade",
   "metadata": {},
   "source": [
    "7. Read the diabetes.csv and then with the help of StandardScaler class, convert the data into Gaussian Distribution with mean = 0 and SD = 1."
   ]
  },
  {
   "cell_type": "markdown",
   "id": "f7be4b38",
   "metadata": {},
   "source": [
    "8. Write a code that displays outliers in the Boston data set using a scatter plot."
   ]
  },
  {
   "cell_type": "code",
   "execution_count": null,
   "id": "ec471990",
   "metadata": {},
   "outputs": [],
   "source": []
  }
 ],
 "metadata": {
  "kernelspec": {
   "display_name": "Python 3 (ipykernel)",
   "language": "python",
   "name": "python3"
  },
  "language_info": {
   "codemirror_mode": {
    "name": "ipython",
    "version": 3
   },
   "file_extension": ".py",
   "mimetype": "text/x-python",
   "name": "python",
   "nbconvert_exporter": "python",
   "pygments_lexer": "ipython3",
   "version": "3.11.4"
  }
 },
 "nbformat": 4,
 "nbformat_minor": 5
}
