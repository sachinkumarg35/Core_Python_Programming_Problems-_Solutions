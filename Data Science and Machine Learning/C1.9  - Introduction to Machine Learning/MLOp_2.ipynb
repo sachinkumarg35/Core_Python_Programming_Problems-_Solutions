{
 "cells": [
  {
   "cell_type": "raw",
   "id": "c31a7754",
   "metadata": {},
   "source": [
    "Read the car-mpg.csv and do the following:\n",
    "Check the shape of the data.\n",
    "Print the Z-score table.\n",
    "Identify the outliers.\n",
    "Recheck the shape."
   ]
  },
  {
   "cell_type": "code",
   "execution_count": 1,
   "id": "5c84f046",
   "metadata": {},
   "outputs": [],
   "source": [
    "import pandas as pd\n",
    "from scipy.stats import zscore"
   ]
  },
  {
   "cell_type": "code",
   "execution_count": 2,
   "id": "67a1b2cb",
   "metadata": {},
   "outputs": [],
   "source": [
    "# Load the CSV file\n",
    "data = pd.read_csv('car-mpg.csv')"
   ]
  },
  {
   "cell_type": "code",
   "execution_count": 7,
   "id": "11d8eaf1",
   "metadata": {},
   "outputs": [
    {
     "data": {
      "text/html": [
       "<div>\n",
       "<style scoped>\n",
       "    .dataframe tbody tr th:only-of-type {\n",
       "        vertical-align: middle;\n",
       "    }\n",
       "\n",
       "    .dataframe tbody tr th {\n",
       "        vertical-align: top;\n",
       "    }\n",
       "\n",
       "    .dataframe thead th {\n",
       "        text-align: right;\n",
       "    }\n",
       "</style>\n",
       "<table border=\"1\" class=\"dataframe\">\n",
       "  <thead>\n",
       "    <tr style=\"text-align: right;\">\n",
       "      <th></th>\n",
       "      <th>mpg</th>\n",
       "      <th>cylinders</th>\n",
       "      <th>displacement</th>\n",
       "      <th>horsepower</th>\n",
       "      <th>weight</th>\n",
       "      <th>acceleration</th>\n",
       "      <th>model-year</th>\n",
       "    </tr>\n",
       "  </thead>\n",
       "  <tbody>\n",
       "    <tr>\n",
       "      <th>0</th>\n",
       "      <td>18.0</td>\n",
       "      <td>8</td>\n",
       "      <td>307.0</td>\n",
       "      <td>130.0</td>\n",
       "      <td>3504</td>\n",
       "      <td>12.0</td>\n",
       "      <td>70</td>\n",
       "    </tr>\n",
       "    <tr>\n",
       "      <th>1</th>\n",
       "      <td>15.0</td>\n",
       "      <td>8</td>\n",
       "      <td>350.0</td>\n",
       "      <td>165.0</td>\n",
       "      <td>3693</td>\n",
       "      <td>11.5</td>\n",
       "      <td>70</td>\n",
       "    </tr>\n",
       "    <tr>\n",
       "      <th>2</th>\n",
       "      <td>18.0</td>\n",
       "      <td>8</td>\n",
       "      <td>318.0</td>\n",
       "      <td>150.0</td>\n",
       "      <td>3436</td>\n",
       "      <td>11.0</td>\n",
       "      <td>70</td>\n",
       "    </tr>\n",
       "    <tr>\n",
       "      <th>3</th>\n",
       "      <td>16.0</td>\n",
       "      <td>8</td>\n",
       "      <td>304.0</td>\n",
       "      <td>150.0</td>\n",
       "      <td>3433</td>\n",
       "      <td>12.0</td>\n",
       "      <td>70</td>\n",
       "    </tr>\n",
       "    <tr>\n",
       "      <th>4</th>\n",
       "      <td>17.0</td>\n",
       "      <td>8</td>\n",
       "      <td>302.0</td>\n",
       "      <td>140.0</td>\n",
       "      <td>3449</td>\n",
       "      <td>10.5</td>\n",
       "      <td>70</td>\n",
       "    </tr>\n",
       "  </tbody>\n",
       "</table>\n",
       "</div>"
      ],
      "text/plain": [
       "    mpg  cylinders  displacement  horsepower  weight  acceleration  model-year\n",
       "0  18.0          8         307.0       130.0    3504          12.0          70\n",
       "1  15.0          8         350.0       165.0    3693          11.5          70\n",
       "2  18.0          8         318.0       150.0    3436          11.0          70\n",
       "3  16.0          8         304.0       150.0    3433          12.0          70\n",
       "4  17.0          8         302.0       140.0    3449          10.5          70"
      ]
     },
     "execution_count": 7,
     "metadata": {},
     "output_type": "execute_result"
    }
   ],
   "source": [
    "data.head()"
   ]
  },
  {
   "cell_type": "code",
   "execution_count": 3,
   "id": "8f8c10b3",
   "metadata": {},
   "outputs": [
    {
     "name": "stdout",
     "output_type": "stream",
     "text": [
      "Shape: (398, 7)\n"
     ]
    }
   ],
   "source": [
    "# Check the shape of the data\n",
    "print(\"Shape:\", data.shape)"
   ]
  },
  {
   "cell_type": "code",
   "execution_count": 4,
   "id": "827fd5b6",
   "metadata": {},
   "outputs": [],
   "source": [
    "# Calculate Z-scores for each column\n",
    "z_scores = zscore(data)"
   ]
  },
  {
   "cell_type": "code",
   "execution_count": 5,
   "id": "f024e7d4",
   "metadata": {},
   "outputs": [],
   "source": [
    "# Create a DataFrame to hold Z-scores\n",
    "z_scores_df = pd.DataFrame(z_scores, columns=data.columns)"
   ]
  },
  {
   "cell_type": "code",
   "execution_count": 6,
   "id": "9087ef69",
   "metadata": {},
   "outputs": [
    {
     "name": "stdout",
     "output_type": "stream",
     "text": [
      "Z-Score Table:\n",
      "        mpg  cylinders  displacement  horsepower    weight  acceleration  \\\n",
      "0 -0.706439   1.498191      1.090604         NaN  0.630870     -1.295498   \n",
      "1 -1.090751   1.498191      1.503514         NaN  0.854333     -1.477038   \n",
      "2 -0.706439   1.498191      1.196232         NaN  0.550470     -1.658577   \n",
      "3 -0.962647   1.498191      1.061796         NaN  0.546923     -1.295498   \n",
      "4 -0.834543   1.498191      1.042591         NaN  0.565841     -1.840117   \n",
      "5 -1.090751   1.498191      2.262118         NaN  1.620492     -2.021656   \n",
      "6 -1.218855   1.498191      2.502182         NaN  1.635863     -2.384735   \n",
      "7 -1.218855   1.498191      2.367746         NaN  1.586204     -2.566274   \n",
      "8 -1.218855   1.498191      2.511784         NaN  1.719809     -2.021656   \n",
      "9 -1.090751   1.498191      1.887617         NaN  1.039961     -2.566274   \n",
      "\n",
      "   model-year  \n",
      "0   -1.627426  \n",
      "1   -1.627426  \n",
      "2   -1.627426  \n",
      "3   -1.627426  \n",
      "4   -1.627426  \n",
      "5   -1.627426  \n",
      "6   -1.627426  \n",
      "7   -1.627426  \n",
      "8   -1.627426  \n",
      "9   -1.627426  \n"
     ]
    }
   ],
   "source": [
    "# Print the Z-score table\n",
    "print(\"Z-Score Table:\")\n",
    "print(z_scores_df.head(10))"
   ]
  },
  {
   "cell_type": "code",
   "execution_count": 8,
   "id": "9a9314fe",
   "metadata": {},
   "outputs": [],
   "source": [
    "# Identify outliers based on Z-scores (threshold of 3 or -3)\n",
    "outliers = (z_scores_df > 3) | (z_scores_df < -3)"
   ]
  },
  {
   "cell_type": "code",
   "execution_count": 9,
   "id": "b3426602",
   "metadata": {},
   "outputs": [],
   "source": [
    "# Print the indices of outlier rows\n",
    "outlier_indices = []\n",
    "for column in outliers.columns:\n",
    "    outlier_indices.extend(outliers.index[outliers[column]])"
   ]
  },
  {
   "cell_type": "code",
   "execution_count": 10,
   "id": "42cbaf34",
   "metadata": {},
   "outputs": [
    {
     "name": "stdout",
     "output_type": "stream",
     "text": [
      "Outlier Indices: [394, 299]\n"
     ]
    }
   ],
   "source": [
    "outlier_indices = list(set(outlier_indices))  # Remove duplicates\n",
    "print(\"Outlier Indices:\", outlier_indices)"
   ]
  },
  {
   "cell_type": "code",
   "execution_count": 11,
   "id": "1619b601",
   "metadata": {},
   "outputs": [
    {
     "name": "stdout",
     "output_type": "stream",
     "text": [
      "Shape after removing outliers: (396, 7)\n"
     ]
    }
   ],
   "source": [
    "# Recheck the shape after identifying outliers\n",
    "data_no_outliers = data.drop(outlier_indices)\n",
    "print(\"Shape after removing outliers:\", data_no_outliers.shape)"
   ]
  },
  {
   "cell_type": "raw",
   "id": "9e42768c",
   "metadata": {},
   "source": [
    "Replace 'car-mpg.csv' with the actual path to your CSV file. This code will load the data, calculate Z-scores, identify outliers using a Z-score threshold of 3 or -3, and then print the indices of the outlier rows and the shape of the data after removing the outliers.\n",
    "\n",
    "Remember that Z-score based outlier detection assumes a normal distribution. Depending on your data and analysis, you might need to consider other methods of outlier detection or adjust the Z-score threshold."
   ]
  },
  {
   "cell_type": "code",
   "execution_count": null,
   "id": "a398f455",
   "metadata": {},
   "outputs": [],
   "source": []
  },
  {
   "cell_type": "code",
   "execution_count": null,
   "id": "cc7762b6",
   "metadata": {},
   "outputs": [],
   "source": []
  }
 ],
 "metadata": {
  "kernelspec": {
   "display_name": "Python 3 (ipykernel)",
   "language": "python",
   "name": "python3"
  },
  "language_info": {
   "codemirror_mode": {
    "name": "ipython",
    "version": 3
   },
   "file_extension": ".py",
   "mimetype": "text/x-python",
   "name": "python",
   "nbconvert_exporter": "python",
   "pygments_lexer": "ipython3",
   "version": "3.11.4"
  }
 },
 "nbformat": 4,
 "nbformat_minor": 5
}
