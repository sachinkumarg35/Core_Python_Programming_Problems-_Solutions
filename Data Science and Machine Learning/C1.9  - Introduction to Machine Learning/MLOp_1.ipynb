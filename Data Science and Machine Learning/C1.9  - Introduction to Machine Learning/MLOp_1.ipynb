{
 "cells": [
  {
   "cell_type": "raw",
   "id": "3b39642d",
   "metadata": {},
   "source": [
    "Read the mtcars.csv file and do the following:\n",
    "Print the first 10 rows.\n",
    "Print the shape.\n",
    "Check for outliers using bar plot\n",
    "Print outlier data values.\n",
    "Remove outliers\n",
    "Recheck the shape of data."
   ]
  },
  {
   "cell_type": "code",
   "execution_count": 1,
   "id": "a709e4dc",
   "metadata": {},
   "outputs": [],
   "source": [
    "import pandas as pd\n",
    "import matplotlib.pyplot as plt"
   ]
  },
  {
   "cell_type": "code",
   "execution_count": 3,
   "id": "a35cc1ec",
   "metadata": {},
   "outputs": [],
   "source": [
    "# Load the CSV file\n",
    "data = pd.read_csv('mtcars.csv')"
   ]
  },
  {
   "cell_type": "code",
   "execution_count": 4,
   "id": "6a0c25e3",
   "metadata": {},
   "outputs": [
    {
     "name": "stdout",
     "output_type": "stream",
     "text": [
      "    mpg  cyl   disp   hp  drat     wt   qsec  vs  am  gear  carb\n",
      "0  21.0    6  160.0  110  3.90  2.620  16.46   0   1     4     4\n",
      "1  21.0    6  160.0  110  3.90  2.875  17.02   0   1     4     4\n",
      "2  22.8    4  108.0   93  3.85  2.320  18.61   1   1     4     1\n",
      "3  21.4    6  258.0  110  3.08  3.215  19.44   1   0     3     1\n",
      "4  18.7    8  360.0  175  3.15  3.440  17.02   0   0     3     2\n",
      "5  18.1    6  225.0  105  2.76  3.460  20.22   1   0     3     1\n",
      "6  14.3    8  360.0  245  3.21  3.570  15.84   0   0     3     4\n",
      "7  24.4    4  146.7   62  3.69  3.190  20.00   1   0     4     2\n",
      "8  22.8    4  140.8   95  3.92  3.150  22.90   1   0     4     2\n",
      "9  19.2    6  167.6  123  3.92  3.440  18.30   1   0     4     4\n"
     ]
    }
   ],
   "source": [
    "# Print the first 10 rows\n",
    "print(data.head(10))"
   ]
  },
  {
   "cell_type": "code",
   "execution_count": 5,
   "id": "b685a406",
   "metadata": {},
   "outputs": [
    {
     "name": "stdout",
     "output_type": "stream",
     "text": [
      "Shape: (32, 11)\n"
     ]
    }
   ],
   "source": [
    "# Print the shape\n",
    "print(\"Shape:\", data.shape)"
   ]
  },
  {
   "cell_type": "code",
   "execution_count": 6,
   "id": "aaf9efdb",
   "metadata": {},
   "outputs": [
    {
     "data": {
      "image/png": "[encoded data removed]",
      "text/plain": [
       "<Figure size 1000x600 with 1 Axes>"
      ]
     },
     "metadata": {},
     "output_type": "display_data"
    }
   ],
   "source": [
    "# Check for outliers using a bar plot\n",
    "plt.figure(figsize=(10, 6))\n",
    "data.boxplot()\n",
    "plt.title(\"Boxplot of mtcars Data\")\n",
    "plt.show()"
   ]
  },
  {
   "cell_type": "code",
   "execution_count": 7,
   "id": "657414e6",
   "metadata": {},
   "outputs": [],
   "source": [
    "# Print outlier data values\n",
    "outliers = []\n",
    "for column in data.columns:\n",
    "    q1 = data[column].quantile(0.25)\n",
    "    q3 = data[column].quantile(0.75)\n",
    "    iqr = q3 - q1\n",
    "    lower_bound = q1 - 1.5 * iqr\n",
    "    upper_bound = q3 + 1.5 * iqr\n",
    "    column_outliers = data[(data[column] < lower_bound) | (data[column] > upper_bound)]\n",
    "    outliers.append(column_outliers)"
   ]
  },
  {
   "cell_type": "code",
   "execution_count": 8,
   "id": "ddcb2181",
   "metadata": {},
   "outputs": [
    {
     "name": "stdout",
     "output_type": "stream",
     "text": [
      "Outliers:\n",
      "Column: mpg\n",
      "     mpg  cyl  disp  hp  drat     wt  qsec  vs  am  gear  carb\n",
      "19  33.9    4  71.1  65  4.22  1.835  19.9   1   1     4     1\n",
      "Column: cyl\n",
      "Empty DataFrame\n",
      "Columns: [mpg, cyl, disp, hp, drat, wt, qsec, vs, am, gear, carb]\n",
      "Index: []\n",
      "Column: disp\n",
      "Empty DataFrame\n",
      "Columns: [mpg, cyl, disp, hp, drat, wt, qsec, vs, am, gear, carb]\n",
      "Index: []\n",
      "Column: hp\n",
      "     mpg  cyl   disp   hp  drat    wt  qsec  vs  am  gear  carb\n",
      "30  15.0    8  301.0  335  3.54  3.57  14.6   0   1     5     8\n",
      "Column: drat\n",
      "Empty DataFrame\n",
      "Columns: [mpg, cyl, disp, hp, drat, wt, qsec, vs, am, gear, carb]\n",
      "Index: []\n",
      "Column: wt\n",
      "     mpg  cyl   disp   hp  drat     wt   qsec  vs  am  gear  carb\n",
      "14  10.4    8  472.0  205  2.93  5.250  17.98   0   0     3     4\n",
      "15  10.4    8  460.0  215  3.00  5.424  17.82   0   0     3     4\n",
      "16  14.7    8  440.0  230  3.23  5.345  17.42   0   0     3     4\n",
      "Column: qsec\n",
      "    mpg  cyl   disp  hp  drat    wt  qsec  vs  am  gear  carb\n",
      "8  22.8    4  140.8  95  3.92  3.15  22.9   1   0     4     2\n",
      "Column: vs\n",
      "Empty DataFrame\n",
      "Columns: [mpg, cyl, disp, hp, drat, wt, qsec, vs, am, gear, carb]\n",
      "Index: []\n",
      "Column: am\n",
      "Empty DataFrame\n",
      "Columns: [mpg, cyl, disp, hp, drat, wt, qsec, vs, am, gear, carb]\n",
      "Index: []\n",
      "Column: gear\n",
      "Empty DataFrame\n",
      "Columns: [mpg, cyl, disp, hp, drat, wt, qsec, vs, am, gear, carb]\n",
      "Index: []\n",
      "Column: carb\n",
      "     mpg  cyl   disp   hp  drat    wt  qsec  vs  am  gear  carb\n",
      "30  15.0    8  301.0  335  3.54  3.57  14.6   0   1     5     8\n"
     ]
    }
   ],
   "source": [
    "print(\"Outliers:\")\n",
    "for i, column in enumerate(data.columns):\n",
    "    print(f\"Column: {column}\")\n",
    "    print(outliers[i])"
   ]
  },
  {
   "cell_type": "code",
   "execution_count": 9,
   "id": "defd8cd8",
   "metadata": {},
   "outputs": [],
   "source": [
    "# Remove outliers\n",
    "for i, column in enumerate(data.columns):\n",
    "    q1 = data[column].quantile(0.25)\n",
    "    q3 = data[column].quantile(0.75)\n",
    "    iqr = q3 - q1\n",
    "    lower_bound = q1 - 1.5 * iqr\n",
    "    upper_bound = q3 + 1.5 * iqr\n",
    "    data = data[(data[column] >= lower_bound) & (data[column] <= upper_bound)]"
   ]
  },
  {
   "cell_type": "code",
   "execution_count": 10,
   "id": "00bad3b0",
   "metadata": {},
   "outputs": [
    {
     "name": "stdout",
     "output_type": "stream",
     "text": [
      "Shape after removing outliers: (26, 11)\n"
     ]
    }
   ],
   "source": [
    "# Recheck the shape of data\n",
    "print(\"Shape after removing outliers:\", data.shape)"
   ]
  },
  {
   "cell_type": "markdown",
   "id": "6195bce4",
   "metadata": {},
   "source": [
    "In this code, replace 'mtcars.csv' with the actual path to your CSV file. This code will load the data, perform the requested tasks, and print relevant information. Remember that handling outliers depends on your data distribution and the context of your analysis, so be sure to adjust the outlier removal strategy if needed."
   ]
  },
  {
   "cell_type": "code",
   "execution_count": null,
   "id": "5aed9663",
   "metadata": {},
   "outputs": [],
   "source": []
  }
 ],
 "metadata": {
  "kernelspec": {
   "display_name": "Python 3 (ipykernel)",
   "language": "python",
   "name": "python3"
  },
  "language_info": {
   "codemirror_mode": {
    "name": "ipython",
    "version": 3
   },
   "file_extension": ".py",
   "mimetype": "text/x-python",
   "name": "python",
   "nbconvert_exporter": "python",
   "pygments_lexer": "ipython3",
   "version": "3.11.4"
  }
 },
 "nbformat": 4,
 "nbformat_minor": 5
}
