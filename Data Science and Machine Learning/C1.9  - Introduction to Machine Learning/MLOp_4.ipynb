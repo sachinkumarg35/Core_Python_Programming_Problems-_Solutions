{
 "cells": [
  {
   "cell_type": "markdown",
   "id": "7700a47b",
   "metadata": {},
   "source": [
    "Download the loan_applications data set that has 600 observations and 6 variables: Income, Loan_amount, Term_months, Credit_score, Age and Approval_status. Now,\n",
    "Read the data set.\n",
    "\n",
    "1. Print a statistical summary of all the quatitative variables.\n",
    "2. Identify outliers using IQR technique.\n",
    "3. Identify outliers using skewness in the Income column.\n",
    "4. Represent distribution of data using box plot of the numeric variable \"Loan_amount\".\n",
    "5. Verify skewness of Income column by plotting a histogram.\n",
    "6. Identify outlier using a scatter plot.\n",
    "7. Remove outlier from Income column using flooring and capping technique.\n",
    "8. Trim the data set so that every row with Age < 18 abd Age > 100 are removed from the data set.\n",
    "9. Remove outliers using IQR technique.\n",
    "10. Use log trandformation to reduce skewness of data.\n",
    "11. Replace extreme values with median value."
   ]
  },
  {
   "cell_type": "code",
   "execution_count": null,
   "id": "d5317e6e",
   "metadata": {},
   "outputs": [],
   "source": []
  }
 ],
 "metadata": {
  "kernelspec": {
   "display_name": "Python 3 (ipykernel)",
   "language": "python",
   "name": "python3"
  },
  "language_info": {
   "codemirror_mode": {
    "name": "ipython",
    "version": 3
   },
   "file_extension": ".py",
   "mimetype": "text/x-python",
   "name": "python",
   "nbconvert_exporter": "python",
   "pygments_lexer": "ipython3",
   "version": "3.11.4"
  }
 },
 "nbformat": 4,
 "nbformat_minor": 5
}
