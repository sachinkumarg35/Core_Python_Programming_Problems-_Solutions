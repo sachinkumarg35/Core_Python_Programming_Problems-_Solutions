{
 "cells": [
  {
   "cell_type": "markdown",
   "id": "bc006cb6",
   "metadata": {},
   "source": [
    "1. Create a sequential model with a dense layer containing 32 neurons. The first layer will have shape (16,). Use he_uniform as kernel_initializer, regularizer as kernel_regularizer, MaxNorm as kernel_constraint and relu as the activation fuction."
   ]
  },
  {
   "cell_type": "markdown",
   "id": "c256022e",
   "metadata": {},
   "source": [
    "2. Create a Keras Sequential() model in which the first layer is the hidden layer having input_dim = 4 and 7 nodes. The number of hiddenprocessing nodes should be determined by trial and error and may use tanh, sigmoid or ReLU as the activation function. The second layer or the output layer is chained to the hidden layer and has three nodes."
   ]
  },
  {
   "cell_type": "markdown",
   "id": "85aa8e1f",
   "metadata": {},
   "source": [
    "3. Download the insurance_claims.csv data set and create a sequential model to detect fraud."
   ]
  },
  {
   "cell_type": "markdown",
   "id": "261fa40c",
   "metadata": {},
   "source": [
    "4. Write a code to create a Keras initializer for the following to:"
   ]
  },
  {
   "cell_type": "markdown",
   "id": "09f9bcbd",
   "metadata": {},
   "source": [
    "a. generate 0 for all input data."
   ]
  },
  {
   "cell_type": "markdown",
   "id": "de4c7987",
   "metadata": {},
   "source": [
    "b. generate 1 for all input data."
   ]
  },
  {
   "cell_type": "markdown",
   "id": "56f055a1",
   "metadata": {},
   "source": [
    "c. generate a constant value specified by the user for all input data."
   ]
  },
  {
   "cell_type": "markdown",
   "id": "c152ee81",
   "metadata": {},
   "source": [
    "d. generate value using normal distribution of input data."
   ]
  },
  {
   "cell_type": "markdown",
   "id": "71102df8",
   "metadata": {},
   "source": [
    "e. generate value using uniform distribution of input data."
   ]
  },
  {
   "cell_type": "markdown",
   "id": "7cf41a84",
   "metadata": {},
   "source": [
    "f. generate value using truncated normal distribution of input data."
   ]
  },
  {
   "cell_type": "markdown",
   "id": "e76bf194",
   "metadata": {},
   "source": [
    "g. generate value based on the input shape and output shape of the layer along with the specified scale."
   ]
  },
  {
   "cell_type": "markdown",
   "id": "fe96ddbb",
   "metadata": {},
   "source": [
    "h. generate a random orthogonal matrix."
   ]
  },
  {
   "cell_type": "markdown",
   "id": "6d51215a",
   "metadata": {},
   "source": [
    "i. generate identity matrix."
   ]
  },
  {
   "cell_type": "markdown",
   "id": "bb6f01fc",
   "metadata": {},
   "source": [
    "j. constrain weights to be non-negative."
   ]
  },
  {
   "cell_type": "markdown",
   "id": "fae279d2",
   "metadata": {},
   "source": [
    "k. constrain weights to be unit form."
   ]
  },
  {
   "cell_type": "markdown",
   "id": "bf588ac1",
   "metadata": {},
   "source": [
    "l. constrain weight to norm less than or equals to the given value."
   ]
  },
  {
   "cell_type": "markdown",
   "id": "8aaedff5",
   "metadata": {},
   "source": [
    "m. constrain weights to be norm between specified minimum and maximum values."
   ]
  },
  {
   "cell_type": "markdown",
   "id": "99ca9426",
   "metadata": {},
   "source": [
    "n. provide L1 based regularization."
   ]
  },
  {
   "cell_type": "markdown",
   "id": "9dac7442",
   "metadata": {},
   "source": [
    "o. provide L2 based regularization."
   ]
  },
  {
   "cell_type": "markdown",
   "id": "bc088a78",
   "metadata": {},
   "source": [
    "p. apply linear activation function."
   ]
  },
  {
   "cell_type": "markdown",
   "id": "a27269b8",
   "metadata": {},
   "source": [
    "q. apply Exponential linear unit."
   ]
  },
  {
   "cell_type": "markdown",
   "id": "9a393732",
   "metadata": {},
   "source": [
    "r. apply scaled exponential linear unit."
   ]
  },
  {
   "cell_type": "markdown",
   "id": "9f989579",
   "metadata": {},
   "source": [
    "s. apply Softplus function."
   ]
  },
  {
   "cell_type": "markdown",
   "id": "047b9ddb",
   "metadata": {},
   "source": [
    "t. apply Softsign function."
   ]
  },
  {
   "cell_type": "markdown",
   "id": "d5c57fce",
   "metadata": {},
   "source": [
    "5. Download the zoo.csv from the link https://www.kaggle.com/uciml/zoo-animal-classification and create a TensorFlow model, train the model, evaluate it and demonstrate how it can be used for prediction."
   ]
  },
  {
   "cell_type": "markdown",
   "id": "9a188138",
   "metadata": {},
   "source": [
    "6. Create a deep neural network model on the iris data set. Train the model and evaluate it."
   ]
  },
  {
   "cell_type": "code",
   "execution_count": null,
   "id": "570d426d",
   "metadata": {},
   "outputs": [],
   "source": []
  }
 ],
 "metadata": {
  "kernelspec": {
   "display_name": "Python 3 (ipykernel)",
   "language": "python",
   "name": "python3"
  },
  "language_info": {
   "codemirror_mode": {
    "name": "ipython",
    "version": 3
   },
   "file_extension": ".py",
   "mimetype": "text/x-python",
   "name": "python",
   "nbconvert_exporter": "python",
   "pygments_lexer": "ipython3",
   "version": "3.10.9"
  }
 },
 "nbformat": 4,
 "nbformat_minor": 5
}
