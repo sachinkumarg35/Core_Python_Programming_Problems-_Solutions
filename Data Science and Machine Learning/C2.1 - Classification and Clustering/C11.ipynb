{
 "cells": [
  {
   "cell_type": "markdown",
   "id": "b46df9af",
   "metadata": {},
   "source": [
    "1. Apply KNN on Breast Cancer dataset."
   ]
  },
  {
   "cell_type": "markdown",
   "id": "d53a0cf7",
   "metadata": {},
   "source": [
    "2. Apply KNN on the wine dataset. This dataset is available in the scikit-learn library, or can be downloaded from the UCI Machine Learning library. The dataset comprises 13 features and a target (type of cultivars)."
   ]
  },
  {
   "cell_type": "markdown",
   "id": "f8400f07",
   "metadata": {},
   "source": [
    "3. Download the Social Ads dataset from http://www.kaggle.com/rakeshrau/social-network-ads and apply KNN on it."
   ]
  },
  {
   "cell_type": "markdown",
   "id": "8debdfcd",
   "metadata": {},
   "source": [
    "4. Implement decision tree algorithm on pima-indians-diabetes dataset."
   ]
  },
  {
   "cell_type": "markdown",
   "id": "b06a2c99",
   "metadata": {},
   "source": [
    "5. Write a code to classify the balance scale data using a decision tree with gini index. Download the dataset from https://archive.ics.uci.edu/ml/machine-learning-'+'databases/balance-scale/balance-scale.data"
   ]
  },
  {
   "cell_type": "markdown",
   "id": "4b67b022",
   "metadata": {},
   "source": [
    "6. Classify breast cancer data using a decision tree classifier."
   ]
  },
  {
   "cell_type": "markdown",
   "id": "8c577b5a",
   "metadata": {},
   "source": [
    "7. Download bike.csv dataset from https://github.com/Safa1615/BIKE-RENTAL-COUNT/blob/master/Bike.csv and predict the value of cnt column using decision tree algorithm."
   ]
  },
  {
   "cell_type": "markdown",
   "id": "0349f22b",
   "metadata": {},
   "source": [
    "8. Download the car.data from http://archive.ics.uci.edu/ml/machine-learning-databases/car/and apply decision tree algorithm for predicting class name."
   ]
  },
  {
   "cell_type": "markdown",
   "id": "450d719d",
   "metadata": {},
   "source": [
    "9. Apply the Random Forest for regression on bill_authentication.csv dataset which can be downloaded from https://drive.google.com/file/d/13nwuRXPY8XIZQxKRNZ3YIho-CYm_Qt/view"
   ]
  },
  {
   "cell_type": "markdown",
   "id": "79686c02",
   "metadata": {},
   "source": [
    "10. Consider a dataset with random values of X and Y and form clusters using K-means algorithm.\n",
    "'X':[25,3422,27,33,33,31,22,35,34,67,54,57,43,50,57,59,52,65,47,49,48,35,33,44,45,38,43,51,46],\n",
    "'Y':[79,51,53,78,59,74,73,57,74,73,57,69,75,51,32,40,47,53,36,35,58,59,50,25,20,14,12,20,5,2,9,27,8,7]"
   ]
  },
  {
   "cell_type": "markdown",
   "id": "1cdb08ab",
   "metadata": {},
   "source": [
    "11. Download the Naive-Bayes-Classification-Data.csv dataset from https://github.com/dhirajk100/Naive-Bayes and perform Naive Bayes classification on it."
   ]
  },
  {
   "cell_type": "markdown",
   "id": "ce5957cd",
   "metadata": {},
   "source": [
    "12. Demonstrate the Implementation of Gaussian and Multinomial Naive Bayes algorithm on the iris dataset."
   ]
  },
  {
   "cell_type": "markdown",
   "id": "e23fdde2",
   "metadata": {},
   "source": [
    "13. Perform Naive Bayes classification on Titanic Dataset."
   ]
  },
  {
   "cell_type": "markdown",
   "id": "d2ee35ac",
   "metadata": {},
   "source": [
    "14. Apply Naive Bayes algorithm on breast cancer dataset and check the accuracy of the model."
   ]
  },
  {
   "cell_type": "markdown",
   "id": "9527b1b8",
   "metadata": {},
   "source": [
    "15. Consider the input and outputs for the given set of data. Build a neural network model to predict the last output."
   ]
  },
  {
   "cell_type": "code",
   "execution_count": 1,
   "id": "c6bbfba6",
   "metadata": {},
   "outputs": [],
   "source": [
    "#Training Examples\n",
    "#Input 1 Input 2 Input 3 Output\n",
    "#  0       1       1       1\n",
    "#  1       0       0       0\n",
    "#  1       0       1       1"
   ]
  },
  {
   "cell_type": "markdown",
   "id": "e2326fd9",
   "metadata": {},
   "source": [
    "Now we want to predict the output the following set of inputs:"
   ]
  },
  {
   "cell_type": "code",
   "execution_count": 2,
   "id": "fdfdb028",
   "metadata": {},
   "outputs": [],
   "source": [
    "#Testing EXamples\n",
    "#   1      0       1      ?"
   ]
  },
  {
   "cell_type": "markdown",
   "id": "7eca07e1",
   "metadata": {},
   "source": [
    "16. Download the heart.dat file from https://archive.ics.uci.edu/ml/datasets/Statlog+%28Heart%29 and create a neural network that predicts if a person will have disease or not."
   ]
  },
  {
   "cell_type": "markdown",
   "id": "1d13696a",
   "metadata": {},
   "source": [
    "17. Download the points_class_0.txt and points_class_1.txt. Create a linear SVM Classifier. Modify this classifier so that it works well a.\n",
    "noisy data b. non-linear separable data with noise. Also write a function to choose the best values for parameters C and gamma."
   ]
  },
  {
   "cell_type": "markdown",
   "id": "c66e006a",
   "metadata": {},
   "source": [
    "18. Apply SVM on bill_authentication data that can be downloaded from http://drive.google.com/file/d/13nwuRXPY8XIZQxKRNZ3yYIho-CYm_Qt/view and print the confusion matrix."
   ]
  },
  {
   "cell_type": "markdown",
   "id": "57ff8f85",
   "metadata": {},
   "source": [
    "19. Download apples_and_oranges.csv and implement SVM in it to predict the class of fruit based on its weight and size. Print the confusion matrix to calculate its accuracy."
   ]
  },
  {
   "cell_type": "markdown",
   "id": "745ace9a",
   "metadata": {},
   "source": [
    "20. Use the breast-cancer-wisconsin.data.txt dataset to predict vales for values-[[4,2,1,1,1,2,3,2,1]] using SVM classifier. \n",
    "http://www.geeksforgeeks.org/random-forest-regression-in-python/"
   ]
  },
  {
   "cell_type": "code",
   "execution_count": null,
   "id": "3037c5fe",
   "metadata": {},
   "outputs": [],
   "source": []
  }
 ],
 "metadata": {
  "kernelspec": {
   "display_name": "Python 3 (ipykernel)",
   "language": "python",
   "name": "python3"
  },
  "language_info": {
   "codemirror_mode": {
    "name": "ipython",
    "version": 3
   },
   "file_extension": ".py",
   "mimetype": "text/x-python",
   "name": "python",
   "nbconvert_exporter": "python",
   "pygments_lexer": "ipython3",
   "version": "3.11.4"
  }
 },
 "nbformat": 4,
 "nbformat_minor": 5
}
