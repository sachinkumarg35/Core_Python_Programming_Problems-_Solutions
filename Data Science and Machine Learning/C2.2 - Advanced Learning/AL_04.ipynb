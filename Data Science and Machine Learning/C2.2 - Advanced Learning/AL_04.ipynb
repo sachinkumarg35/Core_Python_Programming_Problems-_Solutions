{
 "cells": [
  {
   "cell_type": "markdown",
   "id": "7a786b57",
   "metadata": {},
   "source": [
    "Create a deep neural network model on the iris data set. Train the model and evaluate it."
   ]
  },
  {
   "cell_type": "code",
   "execution_count": 1,
   "id": "5830b8d7",
   "metadata": {},
   "outputs": [],
   "source": [
    "import numpy as np\n",
    "import tensorflow as tf\n",
    "from sklearn.datasets import load_iris\n",
    "from sklearn.model_selection import train_test_split\n",
    "from sklearn.preprocessing import StandardScaler\n",
    "from tensorflow.keras.models import Sequential\n",
    "from tensorflow.keras.layers import Dense\n",
    "from tensorflow.keras.utils import to_categorical"
   ]
  },
  {
   "cell_type": "code",
   "execution_count": 2,
   "id": "9533bf57",
   "metadata": {},
   "outputs": [],
   "source": [
    "# Load the Iris dataset\n",
    "iris = load_iris()\n",
    "X = iris.data\n",
    "y = iris.target"
   ]
  },
  {
   "cell_type": "code",
   "execution_count": 3,
   "id": "2c685699",
   "metadata": {},
   "outputs": [],
   "source": [
    "# Split the data into training and testing sets\n",
    "X_train, X_test, y_train, y_test = train_test_split(X, y, test_size=0.2, random_state=42)"
   ]
  },
  {
   "cell_type": "code",
   "execution_count": 4,
   "id": "5a6ec982",
   "metadata": {},
   "outputs": [],
   "source": [
    "# Scale the features\n",
    "scaler = StandardScaler()\n",
    "X_train_scaled = scaler.fit_transform(X_train)\n",
    "X_test_scaled = scaler.transform(X_test)"
   ]
  },
  {
   "cell_type": "code",
   "execution_count": 5,
   "id": "837e47d4",
   "metadata": {},
   "outputs": [],
   "source": [
    "# One-hot encode the target labels\n",
    "y_train_encoded = to_categorical(y_train)\n",
    "y_test_encoded = to_categorical(y_test)"
   ]
  },
  {
   "cell_type": "code",
   "execution_count": 6,
   "id": "8e060a8d",
   "metadata": {},
   "outputs": [],
   "source": [
    "# Create a deep neural network model\n",
    "model = Sequential()\n",
    "model.add(Dense(64, activation='relu', input_dim=X_train.shape[1]))\n",
    "model.add(Dense(32, activation='relu'))\n",
    "model.add(Dense(3, activation='softmax'))  # 3 classes for Iris dataset"
   ]
  },
  {
   "cell_type": "code",
   "execution_count": 7,
   "id": "0a30a5e8",
   "metadata": {},
   "outputs": [],
   "source": [
    "# Compile the model\n",
    "model.compile(optimizer='adam', loss='categorical_crossentropy', metrics=['accuracy'])"
   ]
  },
  {
   "cell_type": "code",
   "execution_count": 8,
   "id": "39496b0a",
   "metadata": {},
   "outputs": [
    {
     "name": "stdout",
     "output_type": "stream",
     "text": [
      "Epoch 1/50\n",
      "6/6 [==============================] - 4s 185ms/step - loss: 1.0631 - accuracy: 0.4167 - val_loss: 1.0110 - val_accuracy: 0.6250\n",
      "Epoch 2/50\n",
      "6/6 [==============================] - 0s 20ms/step - loss: 0.9584 - accuracy: 0.6771 - val_loss: 0.8949 - val_accuracy: 0.9167\n",
      "Epoch 3/50\n",
      "6/6 [==============================] - 0s 21ms/step - loss: 0.8589 - accuracy: 0.8021 - val_loss: 0.7978 - val_accuracy: 0.9583\n",
      "Epoch 4/50\n",
      "6/6 [==============================] - 0s 21ms/step - loss: 0.7687 - accuracy: 0.8125 - val_loss: 0.7100 - val_accuracy: 0.9583\n",
      "Epoch 5/50\n",
      "6/6 [==============================] - 0s 19ms/step - loss: 0.6861 - accuracy: 0.8229 - val_loss: 0.6320 - val_accuracy: 0.9583\n",
      "Epoch 6/50\n",
      "6/6 [==============================] - 0s 19ms/step - loss: 0.6121 - accuracy: 0.8333 - val_loss: 0.5679 - val_accuracy: 0.9167\n",
      "Epoch 7/50\n",
      "6/6 [==============================] - 0s 20ms/step - loss: 0.5519 - accuracy: 0.8333 - val_loss: 0.5139 - val_accuracy: 0.9167\n",
      "Epoch 8/50\n",
      "6/6 [==============================] - 0s 20ms/step - loss: 0.4987 - accuracy: 0.8229 - val_loss: 0.4729 - val_accuracy: 0.9167\n",
      "Epoch 9/50\n",
      "6/6 [==============================] - 0s 21ms/step - loss: 0.4596 - accuracy: 0.8229 - val_loss: 0.4385 - val_accuracy: 0.9167\n",
      "Epoch 10/50\n",
      "6/6 [==============================] - 0s 20ms/step - loss: 0.4274 - accuracy: 0.8229 - val_loss: 0.4114 - val_accuracy: 0.9167\n",
      "Epoch 11/50\n",
      "6/6 [==============================] - 0s 19ms/step - loss: 0.4006 - accuracy: 0.8229 - val_loss: 0.3875 - val_accuracy: 0.9167\n",
      "Epoch 12/50\n",
      "6/6 [==============================] - 0s 19ms/step - loss: 0.3794 - accuracy: 0.8438 - val_loss: 0.3715 - val_accuracy: 0.9167\n",
      "Epoch 13/50\n",
      "6/6 [==============================] - 0s 22ms/step - loss: 0.3589 - accuracy: 0.8542 - val_loss: 0.3518 - val_accuracy: 0.9167\n",
      "Epoch 14/50\n",
      "6/6 [==============================] - 0s 22ms/step - loss: 0.3431 - accuracy: 0.8646 - val_loss: 0.3385 - val_accuracy: 0.9167\n",
      "Epoch 15/50\n",
      "6/6 [==============================] - 0s 19ms/step - loss: 0.3272 - accuracy: 0.8646 - val_loss: 0.3226 - val_accuracy: 0.9167\n",
      "Epoch 16/50\n",
      "6/6 [==============================] - 0s 21ms/step - loss: 0.3121 - accuracy: 0.8854 - val_loss: 0.3098 - val_accuracy: 0.9167\n",
      "Epoch 17/50\n",
      "6/6 [==============================] - 0s 19ms/step - loss: 0.2996 - accuracy: 0.9062 - val_loss: 0.3021 - val_accuracy: 0.9167\n",
      "Epoch 18/50\n",
      "6/6 [==============================] - 0s 22ms/step - loss: 0.2880 - accuracy: 0.9062 - val_loss: 0.2909 - val_accuracy: 0.9167\n",
      "Epoch 19/50\n",
      "6/6 [==============================] - 0s 19ms/step - loss: 0.2764 - accuracy: 0.9167 - val_loss: 0.2869 - val_accuracy: 0.9167\n",
      "Epoch 20/50\n",
      "6/6 [==============================] - 0s 17ms/step - loss: 0.2661 - accuracy: 0.9167 - val_loss: 0.2785 - val_accuracy: 0.9167\n",
      "Epoch 21/50\n",
      "6/6 [==============================] - 0s 22ms/step - loss: 0.2552 - accuracy: 0.9479 - val_loss: 0.2743 - val_accuracy: 0.9583\n",
      "Epoch 22/50\n",
      "6/6 [==============================] - 0s 20ms/step - loss: 0.2465 - accuracy: 0.9479 - val_loss: 0.2702 - val_accuracy: 0.9583\n",
      "Epoch 23/50\n",
      "6/6 [==============================] - 0s 19ms/step - loss: 0.2391 - accuracy: 0.9375 - val_loss: 0.2665 - val_accuracy: 0.9583\n",
      "Epoch 24/50\n",
      "6/6 [==============================] - 0s 19ms/step - loss: 0.2293 - accuracy: 0.9479 - val_loss: 0.2431 - val_accuracy: 0.9583\n",
      "Epoch 25/50\n",
      "6/6 [==============================] - 0s 22ms/step - loss: 0.2187 - accuracy: 0.9479 - val_loss: 0.2414 - val_accuracy: 0.9583\n",
      "Epoch 26/50\n",
      "6/6 [==============================] - 0s 19ms/step - loss: 0.2090 - accuracy: 0.9479 - val_loss: 0.2386 - val_accuracy: 0.9583\n",
      "Epoch 27/50\n",
      "6/6 [==============================] - 0s 20ms/step - loss: 0.2019 - accuracy: 0.9479 - val_loss: 0.2328 - val_accuracy: 0.9583\n",
      "Epoch 28/50\n",
      "6/6 [==============================] - 0s 19ms/step - loss: 0.1921 - accuracy: 0.9479 - val_loss: 0.2271 - val_accuracy: 0.9583\n",
      "Epoch 29/50\n",
      "6/6 [==============================] - 0s 22ms/step - loss: 0.1852 - accuracy: 0.9479 - val_loss: 0.2305 - val_accuracy: 0.9583\n",
      "Epoch 30/50\n",
      "6/6 [==============================] - 0s 20ms/step - loss: 0.1771 - accuracy: 0.9479 - val_loss: 0.2260 - val_accuracy: 0.9583\n",
      "Epoch 31/50\n",
      "6/6 [==============================] - 0s 18ms/step - loss: 0.1705 - accuracy: 0.9479 - val_loss: 0.2165 - val_accuracy: 0.9583\n",
      "Epoch 32/50\n",
      "6/6 [==============================] - 0s 23ms/step - loss: 0.1632 - accuracy: 0.9479 - val_loss: 0.2129 - val_accuracy: 0.9583\n",
      "Epoch 33/50\n",
      "6/6 [==============================] - 0s 21ms/step - loss: 0.1558 - accuracy: 0.9479 - val_loss: 0.2164 - val_accuracy: 0.9583\n",
      "Epoch 34/50\n",
      "6/6 [==============================] - 0s 22ms/step - loss: 0.1493 - accuracy: 0.9479 - val_loss: 0.2149 - val_accuracy: 0.9583\n",
      "Epoch 35/50\n",
      "6/6 [==============================] - 0s 18ms/step - loss: 0.1438 - accuracy: 0.9479 - val_loss: 0.2188 - val_accuracy: 0.9583\n",
      "Epoch 36/50\n",
      "6/6 [==============================] - 0s 18ms/step - loss: 0.1381 - accuracy: 0.9479 - val_loss: 0.2076 - val_accuracy: 0.9583\n",
      "Epoch 37/50\n",
      "6/6 [==============================] - 0s 20ms/step - loss: 0.1323 - accuracy: 0.9479 - val_loss: 0.2023 - val_accuracy: 0.9583\n",
      "Epoch 38/50\n",
      "6/6 [==============================] - 0s 22ms/step - loss: 0.1280 - accuracy: 0.9479 - val_loss: 0.2031 - val_accuracy: 0.9583\n",
      "Epoch 39/50\n",
      "6/6 [==============================] - 0s 21ms/step - loss: 0.1231 - accuracy: 0.9583 - val_loss: 0.2054 - val_accuracy: 0.9583\n",
      "Epoch 40/50\n",
      "6/6 [==============================] - 0s 18ms/step - loss: 0.1184 - accuracy: 0.9688 - val_loss: 0.2069 - val_accuracy: 0.9583\n",
      "Epoch 41/50\n",
      "6/6 [==============================] - 0s 23ms/step - loss: 0.1149 - accuracy: 0.9688 - val_loss: 0.2097 - val_accuracy: 0.9167\n",
      "Epoch 42/50\n",
      "6/6 [==============================] - 0s 19ms/step - loss: 0.1109 - accuracy: 0.9583 - val_loss: 0.2018 - val_accuracy: 0.9583\n",
      "Epoch 43/50\n",
      "6/6 [==============================] - 0s 22ms/step - loss: 0.1075 - accuracy: 0.9583 - val_loss: 0.1939 - val_accuracy: 0.9583\n",
      "Epoch 44/50\n",
      "6/6 [==============================] - 0s 22ms/step - loss: 0.1048 - accuracy: 0.9688 - val_loss: 0.1909 - val_accuracy: 0.9583\n",
      "Epoch 45/50\n",
      "6/6 [==============================] - 0s 19ms/step - loss: 0.1013 - accuracy: 0.9688 - val_loss: 0.1952 - val_accuracy: 0.9583\n",
      "Epoch 46/50\n",
      "6/6 [==============================] - 0s 23ms/step - loss: 0.1009 - accuracy: 0.9479 - val_loss: 0.2157 - val_accuracy: 0.9167\n",
      "Epoch 47/50\n",
      "6/6 [==============================] - 0s 20ms/step - loss: 0.0958 - accuracy: 0.9583 - val_loss: 0.2111 - val_accuracy: 0.9167\n",
      "Epoch 48/50\n",
      "6/6 [==============================] - 0s 21ms/step - loss: 0.0935 - accuracy: 0.9583 - val_loss: 0.2070 - val_accuracy: 0.9167\n",
      "Epoch 49/50\n",
      "6/6 [==============================] - 0s 21ms/step - loss: 0.0906 - accuracy: 0.9688 - val_loss: 0.1977 - val_accuracy: 0.9167\n",
      "Epoch 50/50\n",
      "6/6 [==============================] - 0s 21ms/step - loss: 0.0888 - accuracy: 0.9688 - val_loss: 0.1958 - val_accuracy: 0.9167\n"
     ]
    },
    {
     "data": {
      "text/plain": [
       "<keras.src.callbacks.History at 0x1dd74c45110>"
      ]
     },
     "execution_count": 8,
     "metadata": {},
     "output_type": "execute_result"
    }
   ],
   "source": [
    "# Train the model\n",
    "model.fit(X_train_scaled, y_train_encoded, epochs=50, batch_size=16, validation_split=0.2)"
   ]
  },
  {
   "cell_type": "code",
   "execution_count": 9,
   "id": "ce575e5e",
   "metadata": {},
   "outputs": [
    {
     "name": "stdout",
     "output_type": "stream",
     "text": [
      "1/1 [==============================] - 0s 63ms/step - loss: 0.0708 - accuracy: 1.0000\n",
      "Test loss: 0.07082781195640564\n",
      "Test accuracy: 1.0\n"
     ]
    }
   ],
   "source": [
    "# Evaluate the model on the test data\n",
    "loss, accuracy = model.evaluate(X_test_scaled, y_test_encoded)\n",
    "print(\"Test loss:\", loss)\n",
    "print(\"Test accuracy:\", accuracy)"
   ]
  },
  {
   "cell_type": "markdown",
   "id": "30cd82f3",
   "metadata": {},
   "source": [
    "In this example, we're using the Iris dataset, preprocessing it by scaling the features and one-hot encoding the target labels. Then, we create a deep neural network model using Keras, compile it with appropriate settings, and train it on the training data. Finally, we evaluate the trained model on the test data and print the test loss and accuracy."
   ]
  }
 ],
 "metadata": {
  "kernelspec": {
   "display_name": "Python 3 (ipykernel)",
   "language": "python",
   "name": "python3"
  },
  "language_info": {
   "codemirror_mode": {
    "name": "ipython",
    "version": 3
   },
   "file_extension": ".py",
   "mimetype": "text/x-python",
   "name": "python",
   "nbconvert_exporter": "python",
   "pygments_lexer": "ipython3",
   "version": "3.11.4"
  }
 },
 "nbformat": 4,
 "nbformat_minor": 5
}
