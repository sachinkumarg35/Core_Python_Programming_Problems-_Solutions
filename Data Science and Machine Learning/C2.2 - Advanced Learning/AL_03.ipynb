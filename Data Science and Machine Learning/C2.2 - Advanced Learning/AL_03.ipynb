{
 "cells": [
  {
   "cell_type": "raw",
   "id": "4f4a62bc",
   "metadata": {},
   "source": [
    "write a code to create a keras initializer for the following to:\n",
    "a. generate 0 for all input data.\n",
    "b. generate 1 for all input data.\n",
    "c. generate a constant value specified by the user for all input data.\n",
    "d. generate value using normal distribution of input data.\n",
    "e. generate value using uniform distribution of input data.\n",
    "f. generate value using truncated normal distribution of input data.\n",
    "g. generate value based on the input shape and output shape of the layer along with the specified scale.\n",
    "h. generate a random orthogonal matrix.\n",
    "i. generate identity matrix.\n",
    "j. constrain weights to be non-negative.\n",
    "k. constrain weights to be unit norm.\n",
    "l. constrain weight to norm less than or equals to the given value.\n",
    "m. constrain weights to be norm between specified minimum and maximum values.\n",
    "n. provide L1 based regularization.\n",
    "o. provide L2 based regularization.\n",
    "p. apply linear activation function.\n",
    "q. apply Exponential linear unit.\n",
    "r. apply Scaled exponential linear unit.\n",
    "s. apply Softplus function.\n",
    "t. apply Softsign function."
   ]
  },
  {
   "cell_type": "code",
   "execution_count": null,
   "id": "b6648a7f",
   "metadata": {},
   "outputs": [],
   "source": []
  }
 ],
 "metadata": {
  "kernelspec": {
   "display_name": "Python 3 (ipykernel)",
   "language": "python",
   "name": "python3"
  },
  "language_info": {
   "codemirror_mode": {
    "name": "ipython",
    "version": 3
   },
   "file_extension": ".py",
   "mimetype": "text/x-python",
   "name": "python",
   "nbconvert_exporter": "python",
   "pygments_lexer": "ipython3",
   "version": "3.11.4"
  }
 },
 "nbformat": 4,
 "nbformat_minor": 5
}
