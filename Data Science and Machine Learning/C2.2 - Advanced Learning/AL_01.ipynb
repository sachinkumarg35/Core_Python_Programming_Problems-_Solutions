{
 "cells": [
  {
   "cell_type": "markdown",
   "id": "5ff17fe7",
   "metadata": {},
   "source": [
    "Create a sequential model with a dense layer containing 32 neurons. The first layer will have shape (16,). Use he_uniform as kernel_initializer, regularizer as kernel_regularizer, MaxNorm as kernel_constant and relu as the activation function."
   ]
  },
  {
   "cell_type": "code",
   "execution_count": 1,
   "id": "48aed290",
   "metadata": {},
   "outputs": [],
   "source": [
    "import tensorflow as tf\n",
    "from tensorflow.keras.models import Sequential\n",
    "from tensorflow.keras.layers import Dense"
   ]
  },
  {
   "cell_type": "code",
   "execution_count": 2,
   "id": "4008ec5b",
   "metadata": {},
   "outputs": [],
   "source": [
    "# Create a sequential model\n",
    "model = Sequential()"
   ]
  },
  {
   "cell_type": "code",
   "execution_count": 3,
   "id": "5edc6d78",
   "metadata": {},
   "outputs": [],
   "source": [
    "# Add the first dense layer\n",
    "model.add(Dense(32, \n",
    "                input_shape=(16,),\n",
    "                activation='relu',\n",
    "                kernel_initializer='he_uniform',\n",
    "                kernel_regularizer=tf.keras.regularizers.l2(0.01),  # You can adjust the regularization strength as needed\n",
    "                kernel_constraint=tf.keras.constraints.MaxNorm(max_value=3)))  # You can adjust the max_value as needed"
   ]
  },
  {
   "cell_type": "code",
   "execution_count": 4,
   "id": "ac8d3d14",
   "metadata": {},
   "outputs": [
    {
     "data": {
      "text/plain": [
       "<keras.src.engine.sequential.Sequential at 0x1e0db5d7790>"
      ]
     },
     "execution_count": 4,
     "metadata": {},
     "output_type": "execute_result"
    }
   ],
   "source": [
    "model"
   ]
  },
  {
   "cell_type": "code",
   "execution_count": null,
   "id": "1ebd04bb",
   "metadata": {},
   "outputs": [],
   "source": []
  }
 ],
 "metadata": {
  "kernelspec": {
   "display_name": "Python 3 (ipykernel)",
   "language": "python",
   "name": "python3"
  },
  "language_info": {
   "codemirror_mode": {
    "name": "ipython",
    "version": 3
   },
   "file_extension": ".py",
   "mimetype": "text/x-python",
   "name": "python",
   "nbconvert_exporter": "python",
   "pygments_lexer": "ipython3",
   "version": "3.11.4"
  }
 },
 "nbformat": 4,
 "nbformat_minor": 5
}
