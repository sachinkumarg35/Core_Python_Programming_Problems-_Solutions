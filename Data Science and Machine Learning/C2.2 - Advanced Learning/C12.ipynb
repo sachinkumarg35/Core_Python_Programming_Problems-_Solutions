{
 "cells": [
  {
   "cell_type": "markdown",
   "id": "863de98a",
   "metadata": {},
   "source": [
    "Create a sequential model with a dense layer containing 32 neurons. The first layer will have shape (16,). Use he_uniform as kernel_initializer, regularizer as kernel_regularizer, MaxNorm as kernel_constant and relu as the activation function."
   ]
  },
  {
   "cell_type": "markdown",
   "id": "84020a64",
   "metadata": {},
   "source": [
    "Create a keras Sequential() model in which the first layer is the hidden layer having input_dim = 4 and 7 nodes. The number of hidden\n",
    "processing nodes should be determined by trial and error and may use tanh, sigmoid or ReLU as the activation function. The second layer or the output \n",
    "layer is chained to the hidden layer and has three nodes."
   ]
  },
  {
   "cell_type": "markdown",
   "id": "5cfbc71d",
   "metadata": {},
   "source": [
    "Download the insurance_claims.csv data set and create a sequential model to detect fraud."
   ]
  },
  {
   "cell_type": "raw",
   "id": "2f1e44e6",
   "metadata": {},
   "source": [
    "write a code to create a keras initializer for the following to:\n",
    "a. generate 0 for all input data.\n",
    "b. generate 1 for all input data.\n",
    "c. generate a constant value specified by the user for all input data.\n",
    "d. generate value using normal distribution of input data.\n",
    "e. generate value using uniform distribution of input data.\n",
    "f. generate value using truncated normal distribution of input data.\n",
    "g. generate value based on the input shape and output shape of the layer along with the specified scale.\n",
    "h. generate a random orthogonal matrix.\n",
    "i. generate identity matrix.\n",
    "j. constrain weights to be non-negative.\n",
    "k. constrain weights to be unit norm.\n",
    "l. constrain weight to norm less than or equals to the given value.\n",
    "m. constrain weights to be norm between specified minimum and maximum values.\n",
    "n. provide L1 based regularization.\n",
    "o. provide L2 based regularization.\n",
    "p. apply linear activation function.\n",
    "q. apply Exponential linear unit.\n",
    "r. apply Scaled exponential linear unit.\n",
    "s. apply Softplus function.\n",
    "t. apply Softsign function."
   ]
  },
  {
   "cell_type": "markdown",
   "id": "23afc84d",
   "metadata": {},
   "source": [
    "Download the zoo.csv from the link https://www.kaggle.com/uciml/zoo-animal-classification and create a TensorFlow model, train the model, evaluate it and demonstrate how it can be used for prediction."
   ]
  },
  {
   "cell_type": "markdown",
   "id": "0571adb5",
   "metadata": {},
   "source": [
    "Create a deep neural network model on the iris data set. Train the model and evaluate it."
   ]
  },
  {
   "cell_type": "code",
   "execution_count": null,
   "id": "99445c72",
   "metadata": {},
   "outputs": [],
   "source": []
  }
 ],
 "metadata": {
  "kernelspec": {
   "display_name": "Python 3 (ipykernel)",
   "language": "python",
   "name": "python3"
  },
  "language_info": {
   "codemirror_mode": {
    "name": "ipython",
    "version": 3
   },
   "file_extension": ".py",
   "mimetype": "text/x-python",
   "name": "python",
   "nbconvert_exporter": "python",
   "pygments_lexer": "ipython3",
   "version": "3.11.4"
  }
 },
 "nbformat": 4,
 "nbformat_minor": 5
}
