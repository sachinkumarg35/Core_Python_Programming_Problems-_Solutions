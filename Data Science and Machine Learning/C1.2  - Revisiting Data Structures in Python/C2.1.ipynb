{
 "cells": [
  {
   "cell_type": "markdown",
   "id": "0ee1c057",
   "metadata": {},
   "source": [
    "51. Write a program to read a name and then display it in abbreviated form, like Janak Raj Thareja should be displayed as J.R.Thareja."
   ]
  },
  {
   "cell_type": "code",
   "execution_count": 1,
   "id": "2a044954",
   "metadata": {},
   "outputs": [
    {
     "name": "stdout",
     "output_type": "stream",
     "text": [
      "Enter your full name: Sachin Kumar G\n",
      "Abbreviated name: S.K.G\n"
     ]
    }
   ],
   "source": [
    "def get_abbreviated_name(full_name):\n",
    "    names = full_name.split()\n",
    "    \n",
    "    if len(names) >= 2:\n",
    "        first_initial = names[0][0].upper()\n",
    "        last_name = names[-1]\n",
    "        middle_initials = '.'.join([name[0].upper() for name in names[1:-1]])\n",
    "        abbreviated_name = f\"{first_initial}.{middle_initials}.{last_name}\"\n",
    "    else:\n",
    "        abbreviated_name = full_name\n",
    "    \n",
    "    return abbreviated_name\n",
    "\n",
    "# Input the full name\n",
    "full_name = input(\"Enter your full name: \")\n",
    "\n",
    "abbreviated_name = get_abbreviated_name(full_name)\n",
    "print(\"Abbreviated name:\", abbreviated_name)"
   ]
  },
  {
   "cell_type": "raw",
   "id": "ac7350a8",
   "metadata": {},
   "source": [
    "In this program, the get_abbreviated_name function takes a full name as input. It first splits the full name into individual names using the split() method. If there are at least two names, it extracts the first initial, last name, and middle initials (if any), then constructs the abbreviated name in the specified format. If there's only one name, it keeps the name unchanged.\n",
    "\n",
    "You can run the program, input the full name, and it will display the abbreviated form of the name according to the given format."
   ]
  },
  {
   "cell_type": "markdown",
   "id": "f9acb785",
   "metadata": {},
   "source": [
    "52. Write a program to count the number of characters, words and lines in the given text."
   ]
  },
  {
   "cell_type": "code",
   "execution_count": 2,
   "id": "b4683150",
   "metadata": {},
   "outputs": [
    {
     "name": "stdout",
     "output_type": "stream",
     "text": [
      "Enter some text:\n",
      "Chandrayan 3 is Successfull\n",
      "Number of characters: 27\n",
      "Number of words: 4\n",
      "Number of lines: 1\n"
     ]
    }
   ],
   "source": [
    "def count_text_statistics(text):\n",
    "    num_characters = len(text)\n",
    "    num_words = len(text.split())\n",
    "    num_lines = text.count('\\n') + 1  # Adding 1 to count the last line\n",
    "    \n",
    "    return num_characters, num_words, num_lines\n",
    "\n",
    "# Input the text\n",
    "input_text = input(\"Enter some text:\\n\")\n",
    "\n",
    "char_count, word_count, line_count = count_text_statistics(input_text)\n",
    "print(\"Number of characters:\", char_count)\n",
    "print(\"Number of words:\", word_count)\n",
    "print(\"Number of lines:\", line_count)"
   ]
  },
  {
   "cell_type": "raw",
   "id": "ddcd00d2",
   "metadata": {},
   "source": [
    "In this program, the count_text_statistics function takes a text as input. It calculates the number of characters by using the len() function, the number of words by splitting the text into a list of words and getting the length of that list, and the number of lines by counting the occurrences of newline characters \\n and adding 1 for the last line.\n",
    "\n",
    "You can run the program, input the text, and it will display the counts of characters, words, and lines in the given text."
   ]
  },
  {
   "cell_type": "markdown",
   "id": "de18b242",
   "metadata": {},
   "source": [
    "53. Write a program to count the number of digits, upper case characters, lower case characters in a given string."
   ]
  },
  {
   "cell_type": "code",
   "execution_count": 3,
   "id": "5eafdbdf",
   "metadata": {},
   "outputs": [
    {
     "name": "stdout",
     "output_type": "stream",
     "text": [
      "Enter a string: ISRO scientist's are done very pround moment for indians\n",
      "Number of digits: 0\n",
      "Number of uppercase characters: 4\n",
      "Number of lowercase characters: 43\n"
     ]
    }
   ],
   "source": [
    "def count_characters(string):\n",
    "    num_digits = 0\n",
    "    num_uppercase = 0\n",
    "    num_lowercase = 0\n",
    "\n",
    "    for char in string:\n",
    "        if char.isdigit():\n",
    "            num_digits += 1\n",
    "        elif char.isupper():\n",
    "            num_uppercase += 1\n",
    "        elif char.islower():\n",
    "            num_lowercase += 1\n",
    "    \n",
    "    return num_digits, num_uppercase, num_lowercase\n",
    "\n",
    "# Input the string\n",
    "input_string = input(\"Enter a string: \")\n",
    "\n",
    "digit_count, uppercase_count, lowercase_count = count_characters(input_string)\n",
    "print(\"Number of digits:\", digit_count)\n",
    "print(\"Number of uppercase characters:\", uppercase_count)\n",
    "print(\"Number of lowercase characters:\", lowercase_count)"
   ]
  },
  {
   "cell_type": "raw",
   "id": "52aaa827",
   "metadata": {},
   "source": [
    "In this program, the count_characters function takes a string as input. It iterates through each character in the string and uses the isdigit(), isupper(), and islower() string methods to check if the character is a digit, uppercase letter, or lowercase letter, respectively.\n",
    "\n",
    "You can run the program, input the string, and it will display the counts of digits, uppercase characters, and lowercase characters in the given string."
   ]
  },
  {
   "cell_type": "markdown",
   "id": "5349ca0c",
   "metadata": {},
   "source": [
    "54. Write a program to extract the first n characters of a string."
   ]
  },
  {
   "cell_type": "code",
   "execution_count": 4,
   "id": "8d2ee609",
   "metadata": {},
   "outputs": [
    {
     "name": "stdout",
     "output_type": "stream",
     "text": [
      "Enter a string: Microsoft\n",
      "Enter the number of characters to extract: 2\n",
      "Extracted characters: Mi\n"
     ]
    }
   ],
   "source": [
    "def extract_first_n_characters(input_string, n):\n",
    "    if n <= 0:\n",
    "        return \"\"\n",
    "    elif n >= len(input_string):\n",
    "        return input_string\n",
    "    else:\n",
    "        return input_string[:n]\n",
    "\n",
    "# Input the string and the number of characters to extract\n",
    "input_string = input(\"Enter a string: \")\n",
    "num_characters = int(input(\"Enter the number of characters to extract: \"))\n",
    "\n",
    "extracted_characters = extract_first_n_characters(input_string, num_characters)\n",
    "print(\"Extracted characters:\", extracted_characters)"
   ]
  },
  {
   "cell_type": "raw",
   "id": "37b562d0",
   "metadata": {},
   "source": [
    "In this program, the extract_first_n_characters function takes an input string and the number of characters n as arguments. It uses slicing to extract the first n characters of the string. The function handles cases where n is less than or equal to 0 (returns an empty string), or when n is greater than or equal to the length of the input string (returns the entire input string).\n",
    "\n",
    "You can run the program, input the string and the number of characters to extract, and it will display the extracted characters from the beginning of the string."
   ]
  },
  {
   "cell_type": "markdown",
   "id": "6298f3b4",
   "metadata": {},
   "source": [
    "55. write a program to copy n characters of a string from the mth position in another string. Do not use the slice operation."
   ]
  },
  {
   "cell_type": "code",
   "execution_count": 5,
   "id": "ffcd0d74",
   "metadata": {},
   "outputs": [
    {
     "name": "stdout",
     "output_type": "stream",
     "text": [
      "Enter a source string: Local host\n",
      "Enter the starting position (m): 3\n",
      "Enter the number of characters to copy (n): 2\n",
      "Copied characters: al\n"
     ]
    }
   ],
   "source": [
    "def copy_characters(source_string, m, n):\n",
    "    if m >= len(source_string):\n",
    "        return \"\"\n",
    "    copied_string = \"\"\n",
    "    for i in range(m, min(m + n, len(source_string))):\n",
    "        copied_string += source_string[i]\n",
    "    return copied_string\n",
    "\n",
    "# Input the source string, starting position (m), and number of characters to copy (n)\n",
    "source_string = input(\"Enter a source string: \")\n",
    "starting_position = int(input(\"Enter the starting position (m): \"))\n",
    "num_characters = int(input(\"Enter the number of characters to copy (n): \"))\n",
    "\n",
    "copied_result = copy_characters(source_string, starting_position, num_characters)\n",
    "print(\"Copied characters:\", copied_result)"
   ]
  },
  {
   "cell_type": "raw",
   "id": "e54ed850",
   "metadata": {},
   "source": [
    "In this program, the copy_characters function takes a source string, starting position m, and the number of characters to copy n as arguments. It iterates through the characters in the source string starting from position m up to either position m + n or the end of the string, whichever comes first. It appends each character to the copied string.\n",
    "\n",
    "You can run the program, input the source string, starting position m, and number of characters to copy n, and it will display the copied characters from the specified position in the source string."
   ]
  },
  {
   "cell_type": "markdown",
   "id": "01f316f2",
   "metadata": {},
   "source": [
    "56. Write a program to delete the last character of a string."
   ]
  },
  {
   "cell_type": "code",
   "execution_count": 6,
   "id": "d2e292cf",
   "metadata": {},
   "outputs": [
    {
     "name": "stdout",
     "output_type": "stream",
     "text": [
      "Enter a string: delete\n",
      "String after deleting last character: delet\n"
     ]
    }
   ],
   "source": [
    "def delete_last_character(input_string):\n",
    "    if len(input_string) > 0:\n",
    "        new_string = input_string[:-1]\n",
    "        return new_string\n",
    "    else:\n",
    "        return input_string\n",
    "\n",
    "# Input the string\n",
    "input_string = input(\"Enter a string: \")\n",
    "\n",
    "new_result = delete_last_character(input_string)\n",
    "print(\"String after deleting last character:\", new_result)"
   ]
  },
  {
   "cell_type": "raw",
   "id": "92f177a4",
   "metadata": {},
   "source": [
    "In this program, the delete_last_character function takes a string as input. It uses slicing to remove the last character from the string by excluding the last character using [:-1]. If the input string is empty, it returns the same string.\n",
    "\n",
    "You can run the program, input the string, and it will display the string after deleting the last character."
   ]
  },
  {
   "cell_type": "markdown",
   "id": "43c2dacd",
   "metadata": {},
   "source": [
    "57. Write a program to delete the first character of a string."
   ]
  },
  {
   "cell_type": "code",
   "execution_count": 7,
   "id": "28d5bd99",
   "metadata": {},
   "outputs": [
    {
     "name": "stdout",
     "output_type": "stream",
     "text": [
      "Enter a string: First\n",
      "String after deleting first character: irst\n"
     ]
    }
   ],
   "source": [
    "def delete_first_character(input_string):\n",
    "    if len(input_string) > 0:\n",
    "        new_string = input_string[1:]\n",
    "        return new_string\n",
    "    else:\n",
    "        return input_string\n",
    "\n",
    "# Input the string\n",
    "input_string = input(\"Enter a string: \")\n",
    "\n",
    "new_result = delete_first_character(input_string)\n",
    "print(\"String after deleting first character:\", new_result)"
   ]
  },
  {
   "cell_type": "raw",
   "id": "ac496fcc",
   "metadata": {},
   "source": [
    "In this program, the delete_first_character function takes a string as input. It uses slicing to remove the first character from the string by excluding the first character using [1:]. If the input string is empty, it returns the same string.\n",
    "\n",
    "You can run the program, input the string, and it will display the string after deleting the first character."
   ]
  },
  {
   "cell_type": "markdown",
   "id": "92810f9f",
   "metadata": {},
   "source": [
    "58. Write a program to encrypt a string using Substitution Cipher."
   ]
  },
  {
   "cell_type": "code",
   "execution_count": 8,
   "id": "e7e9b09d",
   "metadata": {},
   "outputs": [
    {
     "name": "stdout",
     "output_type": "stream",
     "text": [
      "Enter the plain text: evkvneownvewonvekwrjvir9jfg5mvewkpvlpewlrpkvotignty5h5pohsdfvmfksvitrgmrfvrle\n",
      "Enter the key (a number between 1 and 25): 5\n",
      "Encrypted text: japasjtbsajbtsajpbwoanw9okl5rajbpuaqujbqwupatynlsyd5m5utmxikarkpxanywlrwkawqj\n"
     ]
    }
   ],
   "source": [
    "def substitution_cipher_encrypt(plain_text, key):\n",
    "    alphabet = 'abcdefghijklmnopqrstuvwxyz'\n",
    "    encrypted_text = ''\n",
    "\n",
    "    for char in plain_text:\n",
    "        if char.isalpha():\n",
    "            is_upper = char.isupper()\n",
    "            char = char.lower()\n",
    "            shifted_idx = (alphabet.index(char) + key) % 26\n",
    "            encrypted_char = alphabet[shifted_idx]\n",
    "            if is_upper:\n",
    "                encrypted_char = encrypted_char.upper()\n",
    "            encrypted_text += encrypted_char\n",
    "        else:\n",
    "            encrypted_text += char\n",
    "\n",
    "    return encrypted_text\n",
    "\n",
    "# Input the plain text and key\n",
    "plain_text = input(\"Enter the plain text: \")\n",
    "key = int(input(\"Enter the key (a number between 1 and 25): \"))\n",
    "\n",
    "encrypted_text = substitution_cipher_encrypt(plain_text, key)\n",
    "print(\"Encrypted text:\", encrypted_text)"
   ]
  },
  {
   "cell_type": "raw",
   "id": "21d31256",
   "metadata": {},
   "source": [
    "In this program, the substitution_cipher_encrypt function takes a plain text and a key (shift value) as arguments. It iterates through each character in the plain text, shifting each alphabetical character by the key value. Non-alphabetical characters are left unchanged.\n",
    "\n",
    "You can run the program, input the plain text and a key (a number between 1 and 25), and it will display the encrypted text using the substitution cipher encryption. Please note that this is a simple example and might not be suitable for strong encryption purposes."
   ]
  },
  {
   "cell_type": "markdown",
   "id": "3878e8b2",
   "metadata": {},
   "source": [
    "59. Write a program that encrypts a string using multiplicative cipher. Generate the key randomly."
   ]
  },
  {
   "cell_type": "code",
   "execution_count": 9,
   "id": "268892b5",
   "metadata": {},
   "outputs": [
    {
     "name": "stdout",
     "output_type": "stream",
     "text": [
      "Enter the plain text: Chandranyan 3 is Successfully done ISRO Scientist's now full of India celebrate this happy moment\n",
      "Generated Key: 7\n",
      "Encrypted text: Oxanvpanman 3 ew Wkoocwwjkzzm vunc EWPU Woecndewd'w nuy jkzz uj Envea oczchpadc dxew xabbm gugcnd\n"
     ]
    }
   ],
   "source": [
    "import random\n",
    "\n",
    "def generate_random_key():\n",
    "    return random.randint(1, 25)\n",
    "\n",
    "def multiplicative_cipher_encrypt(plain_text, key):\n",
    "    encrypted_text = ''\n",
    "    \n",
    "    for char in plain_text:\n",
    "        if char.isalpha():\n",
    "            is_upper = char.isupper()\n",
    "            char = char.lower()\n",
    "            shifted_idx = (ord(char) - ord('a')) * key % 26\n",
    "            encrypted_char = chr(shifted_idx + ord('a'))\n",
    "            if is_upper:\n",
    "                encrypted_char = encrypted_char.upper()\n",
    "            encrypted_text += encrypted_char\n",
    "        else:\n",
    "            encrypted_text += char\n",
    "    \n",
    "    return encrypted_text\n",
    "\n",
    "# Input the plain text\n",
    "plain_text = input(\"Enter the plain text: \")\n",
    "\n",
    "# Generate a random key\n",
    "key = generate_random_key()\n",
    "print(\"Generated Key:\", key)\n",
    "\n",
    "encrypted_text = multiplicative_cipher_encrypt(plain_text, key)\n",
    "print(\"Encrypted text:\", encrypted_text)"
   ]
  },
  {
   "cell_type": "raw",
   "id": "db221933",
   "metadata": {},
   "source": [
    "In this program, the generate_random_key function generates a random key between 1 and 25. The multiplicative_cipher_encrypt function takes a plain text and a key as arguments. It uses the key to shift each alphabetical character's Unicode value, then converts it back to a character.\n",
    "\n",
    "You can run the program, input the plain text, and it will generate a random key and display the encrypted text using the multiplicative cipher encryption. Keep in mind that this example is for educational purposes and may not provide strong encryption."
   ]
  },
  {
   "cell_type": "markdown",
   "id": "88f451f2",
   "metadata": {},
   "source": [
    "60. Write the command to print \"hello world\" as \"Hello world\"."
   ]
  },
  {
   "cell_type": "raw",
   "id": "fc591d5a",
   "metadata": {},
   "source": [
    "To print \"Hello world\" with an uppercase \"H\", you can use the capitalize() method on the string \"hello world\". Here's how you can do it:"
   ]
  },
  {
   "cell_type": "code",
   "execution_count": 10,
   "id": "5a385042",
   "metadata": {},
   "outputs": [
    {
     "name": "stdout",
     "output_type": "stream",
     "text": [
      "Hello world\n"
     ]
    }
   ],
   "source": [
    "text = \"hello world\"\n",
    "capitalized_text = text.capitalize()\n",
    "print(capitalized_text)"
   ]
  },
  {
   "cell_type": "markdown",
   "id": "72efd049",
   "metadata": {},
   "source": [
    "61. Write the command to print \"hello world\" as \"Hello World\""
   ]
  },
  {
   "cell_type": "raw",
   "id": "c653110e",
   "metadata": {},
   "source": [
    "To print \"Hello World\" with both the first letter of each word capitalized, you can use the title() method on the string \"hello world\". Here's how you can do it:"
   ]
  },
  {
   "cell_type": "code",
   "execution_count": 11,
   "id": "058b0e95",
   "metadata": {},
   "outputs": [
    {
     "name": "stdout",
     "output_type": "stream",
     "text": [
      "Hello World\n"
     ]
    }
   ],
   "source": [
    "text = \"hello world\"\n",
    "title_case_text = text.title()\n",
    "print(title_case_text)"
   ]
  },
  {
   "cell_type": "markdown",
   "id": "b1c5998a",
   "metadata": {},
   "source": [
    "62. Write the command to print \"hEiLo WoRlD\" as \"HeLio wOrLd\""
   ]
  },
  {
   "cell_type": "raw",
   "id": "83879e8e",
   "metadata": {},
   "source": [
    "To achieve this transformation where each letter alternates between uppercase and lowercase, you can loop through the characters in the string and toggle their case accordingly. Here's how you can do it:"
   ]
  },
  {
   "cell_type": "code",
   "execution_count": 12,
   "id": "4a330bbe",
   "metadata": {},
   "outputs": [
    {
     "name": "stdout",
     "output_type": "stream",
     "text": [
      "HeIlO wOrLd\n"
     ]
    }
   ],
   "source": [
    "text = \"hEiLo WoRlD\"\n",
    "transformed_text = \"\"\n",
    "\n",
    "for char in text:\n",
    "    if char.islower():\n",
    "        transformed_text += char.upper()\n",
    "    else:\n",
    "        transformed_text += char.lower()\n",
    "\n",
    "print(transformed_text)"
   ]
  },
  {
   "cell_type": "markdown",
   "id": "65a400e9",
   "metadata": {},
   "source": [
    "63. Write the command to print \"hello world\" as \"Hello Friends\""
   ]
  },
  {
   "cell_type": "raw",
   "id": "ba18f214",
   "metadata": {},
   "source": [
    "To replace \"world\" with \"Friends\" and capitalize the first letter of the string, you can use the replace() method along with string capitalization. Here's how you can do it:"
   ]
  },
  {
   "cell_type": "code",
   "execution_count": 13,
   "id": "1fe1b161",
   "metadata": {},
   "outputs": [
    {
     "name": "stdout",
     "output_type": "stream",
     "text": [
      "Hello friends\n"
     ]
    }
   ],
   "source": [
    "text = \"hello world\"\n",
    "modified_text = text.replace(\"world\", \"Friends\").capitalize()\n",
    "print(modified_text)"
   ]
  },
  {
   "cell_type": "markdown",
   "id": "fc1787b6",
   "metadata": {},
   "source": [
    "64. Write a program that prompts the user to enter a 10-digit mobile number. Display the number by putting a '-' after area code and next three digits. (like 123-456-7890)."
   ]
  },
  {
   "cell_type": "code",
   "execution_count": 15,
   "id": "7552eee8",
   "metadata": {},
   "outputs": [
    {
     "name": "stdout",
     "output_type": "stream",
     "text": [
      "Enter a 10-digit mobile number: 4561237890\n",
      "Formatted mobile number: 456-123-7890\n"
     ]
    }
   ],
   "source": [
    "def format_mobile_number(number):\n",
    "    formatted_number = \"{}-{}-{}\".format(number[:3], number[3:6], number[6:])\n",
    "    return formatted_number\n",
    "\n",
    "# Input the mobile number\n",
    "mobile_number = input(\"Enter a 10-digit mobile number: \")\n",
    "\n",
    "if len(mobile_number) == 10 and mobile_number.isdigit():\n",
    "    formatted_result = format_mobile_number(mobile_number)\n",
    "    print(\"Formatted mobile number:\", formatted_result)\n",
    "else:\n",
    "    print(\"Invalid mobile number. Please enter a 10-digit numeric mobile number.\")"
   ]
  },
  {
   "cell_type": "raw",
   "id": "1e847e30",
   "metadata": {},
   "source": [
    "In this program, the format_mobile_number function takes a 10-digit mobile number as input and uses string formatting to insert hyphens at the appropriate positions.\n",
    "\n",
    "The user is prompted to enter a 10-digit mobile number. The program then checks if the input is a 10-digit numeric value. If it is, the format_mobile_number function is used to format the number and display it with hyphens. If the input is invalid, an error message is displayed."
   ]
  },
  {
   "cell_type": "markdown",
   "id": "baac59db",
   "metadata": {},
   "source": [
    "65. Write a program that prompts the user to enter five words. If the length of any word is less than 8 or if the word does not contain any digit then prompt the user to enter that word again."
   ]
  },
  {
   "cell_type": "code",
   "execution_count": 16,
   "id": "600a2760",
   "metadata": {},
   "outputs": [
    {
     "name": "stdout",
     "output_type": "stream",
     "text": [
      "Enter word 1 of 5: king\n",
      "Invalid word. Please enter a word with at least 8 characters and containing at least one digit.\n",
      "Enter word 1 of 5: Now the tech OpenAI is extremly high it reduces the work load of many issues/project's in ITBT since 2022\n",
      "Enter word 2 of 5: Chandrayan 3 is successfull\n",
      "Enter word 3 of 5: ISRO Scientist's are did very proud moment\n",
      "Invalid word. Please enter a word with at least 8 characters and containing at least one digit.\n",
      "Enter word 3 of 5: ISRO Scientist's are did very proud moment in 2023.\n",
      "Enter word 4 of 5: Now the pain of Chandrayan 2 is no more in India.\n",
      "Enter word 5 of 5: Vikram lander are did that job 2023\n",
      "You entered the following words: [\"Now the tech OpenAI is extremly high it reduces the work load of many issues/project's in ITBT since 2022\", 'Chandrayan 3 is successfull', \"ISRO Scientist's are did very proud moment in 2023.\", 'Now the pain of Chandrayan 2 is no more in India.', 'Vikram lander are did that job 2023']\n"
     ]
    }
   ],
   "source": [
    "def is_valid_word(word):\n",
    "    return len(word) >= 8 and any(char.isdigit() for char in word)\n",
    "\n",
    "def get_valid_word(prompt):\n",
    "    while True:\n",
    "        word = input(prompt)\n",
    "        if is_valid_word(word):\n",
    "            return word\n",
    "        else:\n",
    "            print(\"Invalid word. Please enter a word with at least 8 characters and containing at least one digit.\")\n",
    "\n",
    "# Input five valid words\n",
    "words = []\n",
    "for i in range(5):\n",
    "    word = get_valid_word(\"Enter word {} of 5: \".format(i + 1))\n",
    "    words.append(word)\n",
    "\n",
    "print(\"You entered the following words:\", words)"
   ]
  },
  {
   "cell_type": "raw",
   "id": "cbc42f96",
   "metadata": {},
   "source": [
    "In this program, the is_valid_word function checks whether a word's length is at least 8 characters and if it contains at least one digit. The get_valid_word function prompts the user to enter a word and repeatedly asks until a valid word is entered.\n",
    "\n",
    "The user is prompted to input five valid words using the get_valid_word function. The program stores the valid words in a list and then prints them out."
   ]
  },
  {
   "cell_type": "markdown",
   "id": "917f7d91",
   "metadata": {},
   "source": [
    "66. Write a program that creates a list of numbers in the series 2n-1. Display only the even indexed values in this list."
   ]
  },
  {
   "cell_type": "code",
   "execution_count": 20,
   "id": "da1b3c30",
   "metadata": {},
   "outputs": [
    {
     "name": "stdout",
     "output_type": "stream",
     "text": [
      "Enter the limit for the series: 1 2 3 4 5 6 \n"
     ]
    },
    {
     "ename": "ValueError",
     "evalue": "invalid literal for int() with base 10: '1 2 3 4 5 6 '",
     "output_type": "error",
     "traceback": [
      "\u001b[1;31m---------------------------------------------------------------------------\u001b[0m",
      "\u001b[1;31mValueError\u001b[0m                                Traceback (most recent call last)",
      "Cell \u001b[1;32mIn[20], line 10\u001b[0m\n\u001b[0;32m      7\u001b[0m     \u001b[38;5;28;01mreturn\u001b[39;00m even_indexed\n\u001b[0;32m      9\u001b[0m \u001b[38;5;66;03m# Input the limit for the series\u001b[39;00m\n\u001b[1;32m---> 10\u001b[0m limit \u001b[38;5;241m=\u001b[39m \u001b[38;5;28;43mint\u001b[39;49m\u001b[43m(\u001b[49m\u001b[38;5;28;43minput\u001b[39;49m\u001b[43m(\u001b[49m\u001b[38;5;124;43m\"\u001b[39;49m\u001b[38;5;124;43mEnter the limit for the series: \u001b[39;49m\u001b[38;5;124;43m\"\u001b[39;49m\u001b[43m)\u001b[49m\u001b[43m)\u001b[49m\n\u001b[0;32m     12\u001b[0m numbers_input \u001b[38;5;241m=\u001b[39m \u001b[38;5;28minput\u001b[39m(\u001b[38;5;124m\"\u001b[39m\u001b[38;5;124mEnter space-separated numbers: \u001b[39m\u001b[38;5;124m\"\u001b[39m)\n\u001b[0;32m     13\u001b[0m numbers_list \u001b[38;5;241m=\u001b[39m [\u001b[38;5;28mint\u001b[39m(num) \u001b[38;5;28;01mfor\u001b[39;00m num \u001b[38;5;129;01min\u001b[39;00m numbers_input\u001b[38;5;241m.\u001b[39msplit()]\n",
      "\u001b[1;31mValueError\u001b[0m: invalid literal for int() with base 10: '1 2 3 4 5 6 '"
     ]
    }
   ],
   "source": [
    "def create_series(limit):\n",
    "    series = [2 * n - 1 for n in range(1, limit + 1)]\n",
    "    return series\n",
    "\n",
    "def even_index_values(numbers_list):\n",
    "    even_indexed = [numbers_list[i] for i in range(len(numbers_list)) if i % 2 == 0]\n",
    "    return even_indexed\n",
    "\n",
    "# Input the limit for the series\n",
    "limit = int(input(\"Enter the limit for the series: \"))\n",
    "\n",
    "numbers_input = input(\"Enter space-separated numbers: \")\n",
    "numbers_list = [int(num) for num in numbers_input.split()]\n",
    "\n",
    "even_indexed_values = even_index_values(numbers_list)\n",
    "\n",
    "print(\"Generated series:\", create_series(limit))\n",
    "print(\"Input numbers list:\", numbers_list)\n",
    "print(\"Even indexed values:\", even_indexed_values)"
   ]
  },
  {
   "cell_type": "code",
   "execution_count": null,
   "id": "4f09cbb8",
   "metadata": {},
   "outputs": [],
   "source": []
  },
  {
   "cell_type": "markdown",
   "id": "35afc908",
   "metadata": {},
   "source": [
    "67. Write a program that prints the elements along with their indices from the start and end of the list."
   ]
  },
  {
   "cell_type": "code",
   "execution_count": 22,
   "id": "dad1227b",
   "metadata": {},
   "outputs": [
    {
     "name": "stdout",
     "output_type": "stream",
     "text": [
      "Enter space-separated elements: duck pool\n",
      "Elements and their indices from the start:\n",
      "Index: 0 Value: duck\n",
      "Index: 1 Value: pool\n",
      "\n",
      "Elements and their indices from the end:\n",
      "Index: 1 Value: pool\n",
      "Index: 0 Value: duck\n"
     ]
    }
   ],
   "source": [
    "def print_elements_with_indices(lst):\n",
    "    print(\"Elements and their indices from the start:\")\n",
    "    for index, value in enumerate(lst):\n",
    "        print(\"Index:\", index, \"Value:\", value)\n",
    "    \n",
    "    print(\"\\nElements and their indices from the end:\")\n",
    "    for index, value in enumerate(reversed(lst)):\n",
    "        print(\"Index:\", len(lst) - index - 1, \"Value:\", value)\n",
    "\n",
    "# Input a list of elements\n",
    "input_list = input(\"Enter space-separated elements: \").split()\n",
    "\n",
    "print_elements_with_indices(input_list)"
   ]
  },
  {
   "cell_type": "raw",
   "id": "65672c61",
   "metadata": {},
   "source": [
    "In this program, the print_elements_with_indices function takes a list as input. It uses the enumerate function to iterate through the list along with their indices. It then prints the elements and their indices from both the start and end of the list.\n",
    "\n",
    "You can run the program, input space-separated elements, and it will display the elements along with their indices from both the start and end of the list."
   ]
  },
  {
   "cell_type": "markdown",
   "id": "50a540fb",
   "metadata": {},
   "source": [
    "68. Write a program that reads two lists. Make another list of all those elements in the first list that are also present in the second list."
   ]
  },
  {
   "cell_type": "code",
   "execution_count": 24,
   "id": "a6f806ba",
   "metadata": {},
   "outputs": [
    {
     "name": "stdout",
     "output_type": "stream",
     "text": [
      "Enter elements for the first list (space-separated): to or in \n",
      "Enter elements for the second list (space-separated): and the for to\n",
      "Common elements: ['to']\n"
     ]
    }
   ],
   "source": [
    "def common_elements(list1, list2):\n",
    "    common_list = [element for element in list1 if element in list2]\n",
    "    return common_list\n",
    "\n",
    "# Input two lists from the user\n",
    "list1 = input(\"Enter elements for the first list (space-separated): \").split()\n",
    "list2 = input(\"Enter elements for the second list (space-separated): \").split()\n",
    "\n",
    "common_elements_list = common_elements(list1, list2)\n",
    "print(\"Common elements:\", common_elements_list)"
   ]
  },
  {
   "cell_type": "raw",
   "id": "ef06259f",
   "metadata": {},
   "source": [
    "In this program, the common_elements function takes two lists as input. It uses a list comprehension to create a new list containing elements that are present in both of the input lists.\n",
    "\n",
    "You can run the program, input space-separated elements for both lists, and it will display the common elements between the two lists."
   ]
  },
  {
   "cell_type": "markdown",
   "id": "0b4d28b7",
   "metadata": {},
   "source": [
    "69. Write a program that creates a list ['a', 'bb', 'ccc', 'dddd', ....]"
   ]
  },
  {
   "cell_type": "code",
   "execution_count": 25,
   "id": "b60e1d15",
   "metadata": {},
   "outputs": [
    {
     "name": "stdout",
     "output_type": "stream",
     "text": [
      "Enter the length of the list: 5\n",
      "Generated list: ['a', 'bb', 'ccc', 'dddd', 'eeeee']\n"
     ]
    }
   ],
   "source": [
    "def generate_list(n):\n",
    "    string_list = [chr(ord('a') + i) * (i + 1) for i in range(n)]\n",
    "    return string_list\n",
    "\n",
    "# Input the length of the list\n",
    "list_length = int(input(\"Enter the length of the list: \"))\n",
    "\n",
    "result_list = generate_list(list_length)\n",
    "print(\"Generated list:\", result_list)"
   ]
  },
  {
   "cell_type": "raw",
   "id": "4e75035f",
   "metadata": {},
   "source": [
    "In this program, the generate_list function takes a length n as input. It uses a list comprehension to generate strings where each character is repeated its index + 1 times, starting from 'a'.\n",
    "\n",
    "You can run the program, input the desired length of the list, and it will display the generated list of strings. For example, if you input 5, the output will be ['a', 'bb', 'ccc', 'dddd', 'eeeee']."
   ]
  },
  {
   "cell_type": "markdown",
   "id": "5e1be714",
   "metadata": {},
   "source": [
    "70. Write a program that forms a list of numbers in the series \n",
    "a. 2/9, -5/13, 8/17....\n",
    "b. x, -x2/2!, x3/3!, -x4/4!, x5/5!,...."
   ]
  },
  {
   "cell_type": "code",
   "execution_count": 27,
   "id": "2d97f643",
   "metadata": {},
   "outputs": [
    {
     "name": "stdout",
     "output_type": "stream",
     "text": [
      "Enter the number of terms for series a: 4\n",
      "Series a: [0.2222222222222222, -0.15384615384615385, 0.11764705882352941, -0.09523809523809523]\n"
     ]
    }
   ],
   "source": [
    "#Series a: 2/9, -5/13, 8/17, ...\n",
    "def generate_series_a(n):\n",
    "    series_a = []\n",
    "    numerator = 2\n",
    "    denominator = 9\n",
    "    \n",
    "    for i in range(n):\n",
    "        term = numerator / denominator\n",
    "        series_a.append(term)\n",
    "        \n",
    "        numerator *= (-1)  # Alternate sign change\n",
    "        denominator += 4   # Increment by 4 for each term\n",
    "    \n",
    "    return series_a\n",
    "\n",
    "# Input the number of terms\n",
    "n_terms_a = int(input(\"Enter the number of terms for series a: \"))\n",
    "series_a_result = generate_series_a(n_terms_a)\n",
    "print(\"Series a:\", series_a_result)"
   ]
  },
  {
   "cell_type": "code",
   "execution_count": 28,
   "id": "e9581581",
   "metadata": {},
   "outputs": [
    {
     "name": "stdout",
     "output_type": "stream",
     "text": [
      "Enter the value of x for series b: 4\n",
      "Enter the number of terms for series b: 4\n",
      "Series b: [4.0, -8.0, 10.666666666666666, -10.666666666666666]\n"
     ]
    }
   ],
   "source": [
    "#Series b: x, -x^2/2!, x^3/3!, -x^4/4!, x^5/5!, ...\n",
    "def factorial(n):\n",
    "    if n == 0:\n",
    "        return 1\n",
    "    else:\n",
    "        return n * factorial(n - 1)\n",
    "\n",
    "def generate_series_b(x, n):\n",
    "    series_b = []\n",
    "    \n",
    "    for i in range(1, n + 1):\n",
    "        term = ((-1) ** (i - 1)) * (x ** i) / factorial(i)\n",
    "        series_b.append(term)\n",
    "    \n",
    "    return series_b\n",
    "\n",
    "# Input the value of x and the number of terms\n",
    "x_value = float(input(\"Enter the value of x for series b: \"))\n",
    "n_terms_b = int(input(\"Enter the number of terms for series b: \"))\n",
    "series_b_result = generate_series_b(x_value, n_terms_b)\n",
    "print(\"Series b:\", series_b_result)"
   ]
  },
  {
   "cell_type": "markdown",
   "id": "71fcc874",
   "metadata": {},
   "source": [
    "71. Make a list of five random numbers. Write instructions to sum the elements and find mean of the elements."
   ]
  },
  {
   "cell_type": "code",
   "execution_count": 1,
   "id": "4c61aef8",
   "metadata": {},
   "outputs": [
    {
     "name": "stdout",
     "output_type": "stream",
     "text": [
      "Generated random numbers: [94, 24, 8, 43, 27]\n",
      "Sum of elements: 196\n",
      "Mean of elements: 39.2\n"
     ]
    }
   ],
   "source": [
    "import random\n",
    "\n",
    "# Generate a list of five random numbers between 1 and 100\n",
    "random_numbers = [random.randint(1, 100) for _ in range(5)]\n",
    "\n",
    "# Calculate the sum of the elements\n",
    "sum_of_elements = sum(random_numbers)\n",
    "\n",
    "# Calculate the mean (average) of the elements\n",
    "mean_of_elements = sum_of_elements / len(random_numbers)\n",
    "\n",
    "print(\"Generated random numbers:\", random_numbers)\n",
    "print(\"Sum of elements:\", sum_of_elements)\n",
    "print(\"Mean of elements:\", mean_of_elements)"
   ]
  },
  {
   "cell_type": "raw",
   "id": "d422f4b4",
   "metadata": {},
   "source": [
    "In this program, the random_numbers list is created using a list comprehension to generate five random integers between 1 and 100. Then, the sum() function is used to calculate the sum of the elements, and the mean is calculated by dividing the sum by the number of elements.\n",
    "\n",
    "Running the program will display the generated random numbers, the sum of the elements, and the mean of the elements."
   ]
  },
  {
   "cell_type": "markdown",
   "id": "42882540",
   "metadata": {},
   "source": [
    "72. Write a program that adds corresponding elements of two lists."
   ]
  },
  {
   "cell_type": "code",
   "execution_count": 2,
   "id": "213ebdd2",
   "metadata": {},
   "outputs": [
    {
     "name": "stdout",
     "output_type": "stream",
     "text": [
      "Enter elements for the first list (space-separated): 1 2 3 4 5\n",
      "Enter elements for the second list (space-separated): 6 7 8 9 10\n",
      "Sum of corresponding elements: [7, 9, 11, 13, 15]\n"
     ]
    }
   ],
   "source": [
    "def add_lists(list1, list2):\n",
    "    if len(list1) != len(list2):\n",
    "        return None  # Lists must be of the same length\n",
    "    \n",
    "    sum_list = [x + y for x, y in zip(list1, list2)]\n",
    "    return sum_list\n",
    "\n",
    "# Input two lists from the user\n",
    "list1 = [int(x) for x in input(\"Enter elements for the first list (space-separated): \").split()]\n",
    "list2 = [int(x) for x in input(\"Enter elements for the second list (space-separated): \").split()]\n",
    "\n",
    "result_list = add_lists(list1, list2)\n",
    "\n",
    "if result_list is not None:\n",
    "    print(\"Sum of corresponding elements:\", result_list)\n",
    "else:\n",
    "    print(\"Lists must be of the same length for addition.\")"
   ]
  },
  {
   "cell_type": "raw",
   "id": "b5425295",
   "metadata": {},
   "source": [
    "In this program, the add_lists function takes two lists as input and checks if they are of the same length. If they are, it uses list comprehension with the zip() function to add the corresponding elements and create a new list.\n",
    "\n",
    "You can run the program, input space-separated elements for both lists, and it will display the new list with the sum of corresponding elements. Note that the input lists must be of the same length for valid addition."
   ]
  },
  {
   "cell_type": "markdown",
   "id": "0c75d435",
   "metadata": {},
   "source": [
    "73. Make a list pf first ten letters of the alphabet, then using the slicing operation do the following operations\n",
    "- Print the first three letters from the list.\n",
    "- Print any three letters from the middle.\n",
    "- Print the letters from any particular index to the end of the list."
   ]
  },
  {
   "cell_type": "code",
   "execution_count": 3,
   "id": "a569a43a",
   "metadata": {},
   "outputs": [
    {
     "name": "stdout",
     "output_type": "stream",
     "text": [
      "First three letters: ['a', 'b', 'c']\n",
      "Middle three letters: ['d', 'e', 'f']\n",
      "From index 5 to the end: ['f', 'g', 'h', 'i', 'j']\n"
     ]
    }
   ],
   "source": [
    "# Create a list of the first ten letters of the alphabet\n",
    "alphabet = ['a', 'b', 'c', 'd', 'e', 'f', 'g', 'h', 'i', 'j']\n",
    "\n",
    "# Print the first three letters\n",
    "print(\"First three letters:\", alphabet[:3])\n",
    "\n",
    "# Print any three letters from the middle (e.g., index 3 to index 6)\n",
    "print(\"Middle three letters:\", alphabet[3:6])\n",
    "\n",
    "# Print the letters from a particular index (e.g., index 5) to the end\n",
    "print(\"From index 5 to the end:\", alphabet[5:])"
   ]
  },
  {
   "cell_type": "raw",
   "id": "b40256fe",
   "metadata": {},
   "source": [
    "In this program, slicing is used to perform the specified operations on the list of letters. The colon (:) in the slicing notation is used to indicate the range of elements to select from the list.\n",
    "\n",
    "You can run the program, and it will display the results of the slicing operations as described."
   ]
  },
  {
   "cell_type": "markdown",
   "id": "9a9ce8bc",
   "metadata": {},
   "source": [
    "74. Write a program that prints the maximum value of the second half of the list."
   ]
  },
  {
   "cell_type": "code",
   "execution_count": 4,
   "id": "c937f761",
   "metadata": {},
   "outputs": [
    {
     "name": "stdout",
     "output_type": "stream",
     "text": [
      "Enter elements of the list (space-separated): 1 2 3 4 5\n",
      "Maximum value of the second half: 5\n"
     ]
    }
   ],
   "source": [
    "def find_max_second_half(input_list):\n",
    "    second_half = input_list[len(input_list)//2:]\n",
    "    max_value = max(second_half)\n",
    "    return max_value\n",
    "\n",
    "# Input a list of numbers\n",
    "input_list = [int(x) for x in input(\"Enter elements of the list (space-separated): \").split()]\n",
    "\n",
    "if len(input_list) >= 2:\n",
    "    max_second_half = find_max_second_half(input_list)\n",
    "    print(\"Maximum value of the second half:\", max_second_half)\n",
    "else:\n",
    "    print(\"List should have at least two elements.\")"
   ]
  },
  {
   "cell_type": "raw",
   "id": "685188b7",
   "metadata": {},
   "source": [
    "In this program, the find_max_second_half function takes a list as input, extracts the second half of the list, and then finds the maximum value within that second half.\n",
    "\n",
    "You can run the program, input space-separated numbers for the list, and it will display the maximum value of the second half of the list. Note that the list should have at least two elements for this operation to be meaningful."
   ]
  },
  {
   "cell_type": "markdown",
   "id": "ccb316a9",
   "metadata": {},
   "source": [
    "75. Write a program that finds the sum of all the numbers using a while loop."
   ]
  },
  {
   "cell_type": "code",
   "execution_count": 5,
   "id": "6f69bd90",
   "metadata": {},
   "outputs": [
    {
     "name": "stdout",
     "output_type": "stream",
     "text": [
      "Enter numbers separated by spaces: 1 2 3 4 5\n",
      "Sum of the numbers: 15\n"
     ]
    }
   ],
   "source": [
    "def sum_of_numbers(numbers):\n",
    "    total = 0\n",
    "    for num in numbers:\n",
    "        total += num\n",
    "    return total\n",
    "\n",
    "# Input numbers from the user\n",
    "numbers = [int(x) for x in input(\"Enter numbers separated by spaces: \").split()]\n",
    "\n",
    "sum_result = sum_of_numbers(numbers)\n",
    "print(\"Sum of the numbers:\", sum_result)"
   ]
  },
  {
   "cell_type": "raw",
   "id": "f46e80ca",
   "metadata": {},
   "source": [
    "In this program, the sum_of_numbers function takes a list of numbers as input and iterates through the list, adding up each number to calculate the sum.\n",
    "\n",
    "You can run the program, input space-separated numbers, and it will display the sum of those numbers using a while loop."
   ]
  },
  {
   "cell_type": "markdown",
   "id": "c2360f1d",
   "metadata": {},
   "source": [
    "76. Write a program that finds sum of all even numbers in a list."
   ]
  },
  {
   "cell_type": "code",
   "execution_count": 6,
   "id": "ba8d9621",
   "metadata": {},
   "outputs": [
    {
     "name": "stdout",
     "output_type": "stream",
     "text": [
      "Enter numbers separated by spaces: 1 2 3 4 5\n",
      "Sum of even numbers: 6\n"
     ]
    }
   ],
   "source": [
    "def sum_of_even_numbers(numbers):\n",
    "    total = 0\n",
    "    for num in numbers:\n",
    "        if num % 2 == 0:\n",
    "            total += num\n",
    "    return total\n",
    "\n",
    "# Input numbers from the user\n",
    "numbers = [int(x) for x in input(\"Enter numbers separated by spaces: \").split()]\n",
    "\n",
    "sum_of_even = sum_of_even_numbers(numbers)\n",
    "print(\"Sum of even numbers:\", sum_of_even)"
   ]
  },
  {
   "cell_type": "raw",
   "id": "ce476f5b",
   "metadata": {},
   "source": [
    "In this program, the sum_of_even_numbers function takes a list of numbers as input and iterates through the list. It checks if each number is even (i.e., divisible by 2) and adds it to the total if it's even.\n",
    "\n",
    "You can run the program, input space-separated numbers, and it will display the sum of the even numbers in the list."
   ]
  },
  {
   "cell_type": "markdown",
   "id": "c83cf064",
   "metadata": {},
   "source": [
    "77. Write a program that reverses a list using a loop."
   ]
  },
  {
   "cell_type": "code",
   "execution_count": 7,
   "id": "20f810ce",
   "metadata": {},
   "outputs": [
    {
     "name": "stdout",
     "output_type": "stream",
     "text": [
      "Enter elements of the list separated by spaces: 1 2 3 4 5\n",
      "Reversed list: [5, 4, 3, 2, 1]\n"
     ]
    }
   ],
   "source": [
    "def reverse_list(input_list):\n",
    "    reversed_list = []\n",
    "    for i in range(len(input_list) - 1, -1, -1):\n",
    "        reversed_list.append(input_list[i])\n",
    "    return reversed_list\n",
    "\n",
    "# Input numbers from the user\n",
    "input_list = [int(x) for x in input(\"Enter elements of the list separated by spaces: \").split()]\n",
    "\n",
    "reversed_result = reverse_list(input_list)\n",
    "print(\"Reversed list:\", reversed_result)"
   ]
  },
  {
   "cell_type": "raw",
   "id": "fb4cd11f",
   "metadata": {},
   "source": [
    "In this program, the reverse_list function takes a list as input and iterates through the input list in reverse order using a for loop with a step of -1. It appends each element to the reversed_list, effectively reversing the order of the elements.\n",
    "\n",
    "You can run the program, input space-separated elements for the list, and it will display the reversed list using a loop."
   ]
  },
  {
   "cell_type": "markdown",
   "id": "75b5387a",
   "metadata": {},
   "source": [
    "78. Write a program to find whether a particular elements is present in the list using a loop."
   ]
  },
  {
   "cell_type": "code",
   "execution_count": 9,
   "id": "1db3950f",
   "metadata": {},
   "outputs": [
    {
     "name": "stdout",
     "output_type": "stream",
     "text": [
      "Enter elements of the list separated by spaces: 1 2 3 4 5\n",
      "Enter the element to search for: 2\n",
      "Element 2 is present in the list.\n"
     ]
    }
   ],
   "source": [
    "def is_element_present(input_list, target_element):\n",
    "    for element in input_list:\n",
    "        if element == target_element:\n",
    "            return True\n",
    "    return False\n",
    "\n",
    "# Input elements for the list\n",
    "input_list = [int(x) for x in input(\"Enter elements of the list separated by spaces: \").split()]\n",
    "\n",
    "target_element = int(input(\"Enter the element to search for: \"))\n",
    "\n",
    "if is_element_present(input_list, target_element):\n",
    "    print(\"Element {} is present in the list.\".format(target_element))\n",
    "else:\n",
    "    print(\"Element {} is not present in the list.\".format(target_element))"
   ]
  },
  {
   "cell_type": "raw",
   "id": "8b4313e4",
   "metadata": {},
   "source": [
    "In this program, the is_element_present function takes a list and a target element as input. It iterates through the list using a loop and checks if the current element matches the target element. If a match is found, it returns True; otherwise, it returns False.\n",
    "\n",
    "You can run the program, input space-separated elements for the list, and specify the target element to search for. It will then display whether the target element is present in the list using a loop."
   ]
  },
  {
   "cell_type": "markdown",
   "id": "77482dd8",
   "metadata": {},
   "source": [
    "79. Write a program that prompts user to enter an alphabet. Print all the words in the list that starts with that alphabet."
   ]
  },
  {
   "cell_type": "code",
   "execution_count": 12,
   "id": "589c54a7",
   "metadata": {},
   "outputs": [
    {
     "name": "stdout",
     "output_type": "stream",
     "text": [
      "Enter words separated by spaces: ISRO vikram lunar\n",
      "Enter an alphabet to search for: vikram\n",
      "Words starting with 'vikram':\n",
      "vikram\n"
     ]
    }
   ],
   "source": [
    "def words_starting_with(alphabet, word_list):\n",
    "    matching_words = [word for word in word_list if word.startswith(alphabet)]\n",
    "    return matching_words\n",
    "\n",
    "# Input words from the user\n",
    "word_list = input(\"Enter words separated by spaces: \").split()\n",
    "search_alphabet = input(\"Enter an alphabet to search for: \").lower()\n",
    "\n",
    "matching_words_result = words_starting_with(search_alphabet, word_list)\n",
    "if matching_words_result:\n",
    "    print(\"Words starting with '{}':\".format(search_alphabet))\n",
    "    for word in matching_words_result:\n",
    "        print(word)\n",
    "else:\n",
    "    print(\"No words found starting with '{}'.\".format(search_alphabet))"
   ]
  },
  {
   "cell_type": "raw",
   "id": "172b1a5f",
   "metadata": {},
   "source": [
    "In this program, the words_starting_with function takes an alphabet and a list of words as input. It uses a list comprehension to filter out the words that start with the specified alphabet.\n",
    "\n",
    "You can run the program, input space-separated words and the alphabet to search for, and it will display the words in the list that start with the specified alphabet."
   ]
  },
  {
   "cell_type": "markdown",
   "id": "fc0a1d74",
   "metadata": {},
   "source": [
    "80. Write a program that prompts a number from user and adds it in a list. If the value entered by user is greater than 100, then add \"EXCESS\" in the list."
   ]
  },
  {
   "cell_type": "code",
   "execution_count": 14,
   "id": "620e863b",
   "metadata": {},
   "outputs": [
    {
     "name": "stdout",
     "output_type": "stream",
     "text": [
      "Enter a number (or 'q' to quit): 5\n",
      "Enter a number (or 'q' to quit): 1\n",
      "Enter a number (or 'q' to quit): 2\n",
      "Enter a number (or 'q' to quit): q\n",
      "List: [5, 1, 2]\n"
     ]
    }
   ],
   "source": [
    "number_list = []\n",
    "\n",
    "while True:\n",
    "    user_input = input(\"Enter a number (or 'q' to quit): \")\n",
    "    \n",
    "    if user_input.lower() == 'q':\n",
    "        break\n",
    "    \n",
    "    number = int(user_input)\n",
    "    if number > 100:\n",
    "        number_list.append(\"EXCESS\")\n",
    "    else:\n",
    "        number_list.append(number)\n",
    "\n",
    "print(\"List:\", number_list)"
   ]
  },
  {
   "cell_type": "raw",
   "id": "6bdbe8ab",
   "metadata": {},
   "source": [
    "In this program, a while loop continuously prompts the user to input numbers. If the input is \"q\", the loop exits. Otherwise, it converts the input to an integer and checks whether it's greater than 100. If it is, \"EXCESS\" is appended to the list; otherwise, the number itself is appended.\n",
    "\n",
    "You can run the program, input numbers (or 'q' to quit), and it will display the list with numbers and \"EXCESS\" as appropriate."
   ]
  },
  {
   "cell_type": "markdown",
   "id": "fbcc2c57",
   "metadata": {},
   "source": [
    "81. Write a program that counts the number of times a value appears in the list. Use a loop to do the same."
   ]
  },
  {
   "cell_type": "code",
   "execution_count": 15,
   "id": "5b1a7d6f",
   "metadata": {},
   "outputs": [
    {
     "name": "stdout",
     "output_type": "stream",
     "text": [
      "Enter elements of the list separated by spaces: 1 2 3 4 5\n",
      "Enter the value to count: 3\n",
      "Number of occurrences of 3: 1\n"
     ]
    }
   ],
   "source": [
    "def count_occurrences(target_value, input_list):\n",
    "    count = 0\n",
    "    for value in input_list:\n",
    "        if value == target_value:\n",
    "            count += 1\n",
    "    return count\n",
    "\n",
    "# Input elements for the list\n",
    "input_list = [int(x) for x in input(\"Enter elements of the list separated by spaces: \").split()]\n",
    "\n",
    "target_value = int(input(\"Enter the value to count: \"))\n",
    "\n",
    "occurrences_count = count_occurrences(target_value, input_list)\n",
    "print(\"Number of occurrences of {}: {}\".format(target_value, occurrences_count))"
   ]
  },
  {
   "cell_type": "raw",
   "id": "dbdde02f",
   "metadata": {},
   "source": [
    "In this program, the count_occurrences function takes a target value and a list as input. It iterates through the list using a loop and checks if each value matches the target value. If a match is found, the count is incremented.\n",
    "\n",
    "You can run the program, input space-separated elements for the list, and specify the value to count occurrences for. It will then display the number of times the value appears in the list using a loop."
   ]
  },
  {
   "cell_type": "markdown",
   "id": "6be61134",
   "metadata": {},
   "source": [
    "82. Write a program to insert a value in a list at the specified location using while loop."
   ]
  },
  {
   "cell_type": "code",
   "execution_count": 16,
   "id": "32b6ebf3",
   "metadata": {},
   "outputs": [
    {
     "name": "stdout",
     "output_type": "stream",
     "text": [
      "Enter elements of the list separated by spaces: 1 2 3 4 5\n",
      "Enter the value to insert: 6\n",
      "Enter the location to insert the value: 5\n",
      "Modified list: [1, 2, 3, 4, 5, 6]\n"
     ]
    }
   ],
   "source": [
    "def insert_value_at_location(input_list, value, location):\n",
    "    input_list.insert(location, value)\n",
    "    return input_list\n",
    "\n",
    "# Input elements for the list\n",
    "input_list = [int(x) for x in input(\"Enter elements of the list separated by spaces: \").split()]\n",
    "\n",
    "value_to_insert = int(input(\"Enter the value to insert: \"))\n",
    "insert_location = int(input(\"Enter the location to insert the value: \"))\n",
    "\n",
    "if 0 <= insert_location <= len(input_list):\n",
    "    modified_list = insert_value_at_location(input_list, value_to_insert, insert_location)\n",
    "    print(\"Modified list:\", modified_list)\n",
    "else:\n",
    "    print(\"Invalid insert location. Should be within 0 and {}.\".format(len(input_list)))"
   ]
  },
  {
   "cell_type": "raw",
   "id": "4ea3866d",
   "metadata": {},
   "source": [
    "In this program, the insert_value_at_location function takes a list, a value, and a location as input. It uses the insert() method of lists to insert the value at the specified location.\n",
    "\n",
    "You can run the program, input space-separated elements for the list, specify the value to insert, and provide the insert location. It will then display the modified list after the insertion using a while loop."
   ]
  },
  {
   "cell_type": "markdown",
   "id": "9f921751",
   "metadata": {},
   "source": [
    "83. Write a program that creates a list of numbers from 1-50 that are either divisible by 3 or divisible by 6."
   ]
  },
  {
   "cell_type": "code",
   "execution_count": 17,
   "id": "9e86d4b1",
   "metadata": {},
   "outputs": [
    {
     "name": "stdout",
     "output_type": "stream",
     "text": [
      "Numbers divisible by 3 or 6: [3, 6, 9, 12, 15, 18, 21, 24, 27, 30, 33, 36, 39, 42, 45, 48]\n"
     ]
    }
   ],
   "source": [
    "divisible_by_3_or_6 = [num for num in range(1, 51) if num % 3 == 0 or num % 6 == 0]\n",
    "print(\"Numbers divisible by 3 or 6:\", divisible_by_3_or_6)"
   ]
  },
  {
   "cell_type": "raw",
   "id": "b90aa0da",
   "metadata": {},
   "source": [
    "In this program, a list comprehension is used to generate a list of numbers from 1 to 50 that meet the criteria of being either divisible by 3 or divisible by 6.\n",
    "\n",
    "You can run the program, and it will display the list of numbers that are divisible by 3 or 6 within the range of 1 to 50."
   ]
  },
  {
   "cell_type": "markdown",
   "id": "1185b2c8",
   "metadata": {},
   "source": [
    "84. Write a program to create a list of numbers in the range 1 to 20. Then, delete all the numbers from the list that are divisible by 3."
   ]
  },
  {
   "cell_type": "code",
   "execution_count": 18,
   "id": "cf748aa0",
   "metadata": {},
   "outputs": [
    {
     "name": "stdout",
     "output_type": "stream",
     "text": [
      "Modified list: [1, 2, 4, 5, 7, 8, 10, 11, 13, 14, 16, 17, 19, 20]\n"
     ]
    }
   ],
   "source": [
    "number_list = list(range(1, 21))\n",
    "\n",
    "# Delete numbers divisible by 3 from the list\n",
    "number_list = [num for num in number_list if num % 3 != 0]\n",
    "\n",
    "print(\"Modified list:\", number_list)"
   ]
  },
  {
   "cell_type": "raw",
   "id": "6f0f5bf8",
   "metadata": {},
   "source": [
    "In this program, a list comprehension is used to create the initial list of numbers in the range 1 to 20. Then, another list comprehension is used to filter out the numbers that are divisible by 3. The result is the modified list without the numbers divisible by 3.\n",
    "\n",
    "You can run the program, and it will display the modified list of numbers without the ones that are divisible by 3."
   ]
  },
  {
   "cell_type": "markdown",
   "id": "196c68db",
   "metadata": {},
   "source": [
    "85. Write a program to randomly select an item from a list."
   ]
  },
  {
   "cell_type": "code",
   "execution_count": 19,
   "id": "8610a573",
   "metadata": {},
   "outputs": [
    {
     "name": "stdout",
     "output_type": "stream",
     "text": [
      "Enter elements of the list separated by spaces: 1 2 3 4 5\n",
      "Randomly selected item: 5\n"
     ]
    }
   ],
   "source": [
    "import random\n",
    "\n",
    "def random_item_from_list(input_list):\n",
    "    return random.choice(input_list)\n",
    "\n",
    "# Input elements for the list\n",
    "input_list = input(\"Enter elements of the list separated by spaces: \").split()\n",
    "\n",
    "if input_list:\n",
    "    random_item = random_item_from_list(input_list)\n",
    "    print(\"Randomly selected item:\", random_item)\n",
    "else:\n",
    "    print(\"List is empty.\")"
   ]
  },
  {
   "cell_type": "raw",
   "id": "40c3c381",
   "metadata": {},
   "source": [
    "In this program, the random_item_from_list function takes a list as input and uses the random.choice() function from the random module to select a random item from the list.\n",
    "\n",
    "You can run the program, input space-separated elements for the list, and it will display a randomly selected item from the list using the random module."
   ]
  },
  {
   "cell_type": "markdown",
   "id": "e3572e08",
   "metadata": {},
   "source": [
    "86. Write a program to print the string \"HELLOWORLD\" as "
   ]
  },
  {
   "cell_type": "code",
   "execution_count": null,
   "id": "eef1bfdb",
   "metadata": {},
   "outputs": [],
   "source": []
  },
  {
   "cell_type": "code",
   "execution_count": null,
   "id": "17ccf784",
   "metadata": {},
   "outputs": [],
   "source": []
  },
  {
   "cell_type": "markdown",
   "id": "492389d4",
   "metadata": {},
   "source": [
    "87. Write a program that creates a list ['a', 'b', 'c'], then create a tuple from that list. Now, do the opposite. That is create the tuple ('a', 'b', 'c'), and then create a list from it."
   ]
  },
  {
   "cell_type": "code",
   "execution_count": 20,
   "id": "7658a851",
   "metadata": {},
   "outputs": [
    {
     "name": "stdout",
     "output_type": "stream",
     "text": [
      "Tuple: ('a', 'b', 'c')\n",
      "List: ['a', 'b', 'c']\n"
     ]
    }
   ],
   "source": [
    "# Create a list ['a', 'b', 'c']\n",
    "list_original = ['a', 'b', 'c']\n",
    "\n",
    "# Create a tuple from the list\n",
    "tuple_created = tuple(list_original)\n",
    "\n",
    "# Print the tuple\n",
    "print(\"Tuple:\", tuple_created)\n",
    "\n",
    "# Create a tuple ('a', 'b', 'c')\n",
    "tuple_original = ('a', 'b', 'c')\n",
    "\n",
    "# Create a list from the tuple\n",
    "list_created = list(tuple_original)\n",
    "\n",
    "# Print the list\n",
    "print(\"List:\", list_created)"
   ]
  },
  {
   "cell_type": "raw",
   "id": "9c5a8f87",
   "metadata": {},
   "source": [
    "In this program, the tuple() function is used to convert a list to a tuple, and the list() function is used to convert a tuple to a list.\n",
    "\n",
    "You can run the program, and it will demonstrate creating both a tuple from a list and a list from a tuple."
   ]
  },
  {
   "cell_type": "markdown",
   "id": "d1e73995",
   "metadata": {},
   "source": [
    "88. Create a tuple that has just one element which in turn may have three elements 'a', 'b' and 'c'. Print the length of this tuple."
   ]
  },
  {
   "cell_type": "code",
   "execution_count": 21,
   "id": "55fd1fc9",
   "metadata": {},
   "outputs": [
    {
     "name": "stdout",
     "output_type": "stream",
     "text": [
      "Length of the tuple: 1\n"
     ]
    }
   ],
   "source": [
    "# Create a tuple with a single element tuple ('a', 'b', 'c')\n",
    "nested_tuple = (('a', 'b', 'c'),)\n",
    "\n",
    "# Print the length of the tuple\n",
    "length = len(nested_tuple)\n",
    "print(\"Length of the tuple:\", length)"
   ]
  },
  {
   "cell_type": "raw",
   "id": "53a61049",
   "metadata": {},
   "source": [
    "In this program, a single-element tuple is created using the syntax (('a', 'b', 'c'),), where the comma after the inner tuple is necessary to indicate that it's a tuple element and not just a grouping of parentheses.\n",
    "\n",
    "You can run the program, and it will print the length of the outer tuple, which is 1 in this case."
   ]
  },
  {
   "cell_type": "markdown",
   "id": "b633b92a",
   "metadata": {},
   "source": [
    "89. Write a program that has a predefined list. Create a copy of this list in such a way that only those values are in valid_tuple are added in the new list."
   ]
  },
  {
   "cell_type": "code",
   "execution_count": 22,
   "id": "2b479537",
   "metadata": {},
   "outputs": [
    {
     "name": "stdout",
     "output_type": "stream",
     "text": [
      "Original List: [1, 2, 3, 4, 5, 6, 7]\n",
      "Valid Tuple: (2, 4, 6)\n",
      "New List with valid values: [2, 4, 6]\n"
     ]
    }
   ],
   "source": [
    "# Predefined list and tuple\n",
    "original_list = [1, 2, 3, 4, 5, 6, 7]\n",
    "valid_tuple = (2, 4, 6)\n",
    "\n",
    "# Create a new list with only values from valid_tuple\n",
    "new_list = [value for value in original_list if value in valid_tuple]\n",
    "\n",
    "print(\"Original List:\", original_list)\n",
    "print(\"Valid Tuple:\", valid_tuple)\n",
    "print(\"New List with valid values:\", new_list)"
   ]
  },
  {
   "cell_type": "raw",
   "id": "b55d083c",
   "metadata": {},
   "source": [
    "In this program, a new list is created using a list comprehension. It iterates through the original_list and checks if each value is present in the valid_tuple. If it is, the value is included in the new_list.\n",
    "\n",
    "You can run the program, and it will display the original list, valid tuple, and the new list containing only the values present in the valid tuple."
   ]
  },
  {
   "cell_type": "markdown",
   "id": "67fdc0c3",
   "metadata": {},
   "source": [
    "90. Create a nested tuple that has marks of at least 5 students obtained in three subjects. Now, perform the following operations on it.\n",
    "* Display the marks of the fourth student.\n",
    "* Display the marks obtained by second student in the first subject.\n",
    "* Total marks obtained by each student.\n",
    "* Average (or mean) marks obtained by each student.\n",
    "* Using the average marks obtained by each student, calculate the average marks obtained by all the students (finding the mean of means)\n",
    "* For each student display the maximum and minimum marks obtained."
   ]
  },
  {
   "cell_type": "code",
   "execution_count": 23,
   "id": "ad55095a",
   "metadata": {},
   "outputs": [
    {
     "name": "stdout",
     "output_type": "stream",
     "text": [
      "Marks of the fourth student: (95, 88, 92)\n",
      "Marks obtained by the second student in the first subject: 70\n",
      "Total marks obtained by each student: [267, 225, 195, 275, 243]\n",
      "Average marks obtained by each student: [89.0, 75.0, 65.0, 91.66666666666667, 81.0]\n",
      "Average marks obtained by all the students (mean of means): 80.33333333333334\n",
      "Student 1: Maximum marks: 92, Minimum marks: 85\n",
      "Student 2: Maximum marks: 80, Minimum marks: 70\n",
      "Student 3: Maximum marks: 70, Minimum marks: 60\n",
      "Student 4: Maximum marks: 95, Minimum marks: 88\n",
      "Student 5: Maximum marks: 85, Minimum marks: 78\n"
     ]
    }
   ],
   "source": [
    "# Nested tuple containing marks of students in three subjects\n",
    "student_marks = (\n",
    "    (85, 90, 92),\n",
    "    (70, 80, 75),\n",
    "    (60, 65, 70),\n",
    "    (95, 88, 92),\n",
    "    (78, 85, 80)\n",
    ")\n",
    "\n",
    "# Display the marks of the fourth student\n",
    "print(\"Marks of the fourth student:\", student_marks[3])\n",
    "\n",
    "# Display the marks obtained by the second student in the first subject\n",
    "print(\"Marks obtained by the second student in the first subject:\", student_marks[1][0])\n",
    "\n",
    "# Total marks obtained by each student\n",
    "total_marks = [sum(subject_marks) for subject_marks in student_marks]\n",
    "print(\"Total marks obtained by each student:\", total_marks)\n",
    "\n",
    "# Average (mean) marks obtained by each student\n",
    "average_marks = [sum(subject_marks) / len(subject_marks) for subject_marks in student_marks]\n",
    "print(\"Average marks obtained by each student:\", average_marks)\n",
    "\n",
    "# Calculate the average marks obtained by all the students (mean of means)\n",
    "average_of_averages = sum(average_marks) / len(average_marks)\n",
    "print(\"Average marks obtained by all the students (mean of means):\", average_of_averages)\n",
    "\n",
    "# For each student, display the maximum and minimum marks obtained\n",
    "for idx, subject_marks in enumerate(student_marks, start=1):\n",
    "    max_marks = max(subject_marks)\n",
    "    min_marks = min(subject_marks)\n",
    "    print(f\"Student {idx}: Maximum marks: {max_marks}, Minimum marks: {min_marks}\")"
   ]
  },
  {
   "cell_type": "raw",
   "id": "68a39a0e",
   "metadata": {},
   "source": [
    "In this program, the nested tuple student_marks contains marks of five students in three subjects. The specified operations are performed using indexing, list comprehensions, and built-in functions.\n",
    "\n",
    "You can run the program to see the output for each operation based on the provided student marks."
   ]
  },
  {
   "cell_type": "markdown",
   "id": "850a8a34",
   "metadata": {},
   "source": [
    "91. Write a program that concatenates the first tuple at the end of the second tuple."
   ]
  },
  {
   "cell_type": "code",
   "execution_count": 24,
   "id": "f127373b",
   "metadata": {},
   "outputs": [
    {
     "name": "stdout",
     "output_type": "stream",
     "text": [
      "Tuple 1: (1, 2, 3)\n",
      "Tuple 2: (4, 5, 6)\n",
      "Concatenated Tuple: (4, 5, 6, 1, 2, 3)\n"
     ]
    }
   ],
   "source": [
    "# Two tuples to concatenate\n",
    "tuple1 = (1, 2, 3)\n",
    "tuple2 = (4, 5, 6)\n",
    "\n",
    "# Concatenate the first tuple at the end of the second tuple\n",
    "concatenated_tuple = tuple2 + tuple1\n",
    "\n",
    "print(\"Tuple 1:\", tuple1)\n",
    "print(\"Tuple 2:\", tuple2)\n",
    "print(\"Concatenated Tuple:\", concatenated_tuple)"
   ]
  },
  {
   "cell_type": "raw",
   "id": "dd5d6c05",
   "metadata": {},
   "source": [
    "In this program, the + operator is used to concatenate the first tuple (tuple1) at the end of the second tuple (tuple2).\n",
    "\n",
    "You can run the program, and it will display the original tuples along with the concatenated tuple."
   ]
  },
  {
   "cell_type": "markdown",
   "id": "3151ef34",
   "metadata": {},
   "source": [
    "92. Write a program that creates the following tuples.\n",
    "* Squares of first 10 natural numbers\n",
    "* Cube of first 10 odd numbers\n",
    "* First 10 multiples of 7\n",
    "* -5, -3, -1, 1, 3"
   ]
  },
  {
   "cell_type": "code",
   "execution_count": 25,
   "id": "7dbc7bdf",
   "metadata": {},
   "outputs": [
    {
     "name": "stdout",
     "output_type": "stream",
     "text": [
      "Squares of first 10 natural numbers: (1, 4, 9, 16, 25, 36, 49, 64, 81, 100)\n",
      "Cube of first 10 odd numbers: (1, 27, 125, 343, 729, 1331, 2197, 3375, 4913, 6859)\n",
      "First 10 multiples of 7: (7, 14, 21, 28, 35, 42, 49, 56, 63, 70)\n",
      "Tuple containing specified values: (-5, -3, -1, 1, 3)\n"
     ]
    }
   ],
   "source": [
    "# Squares of first 10 natural numbers\n",
    "squares_tuple = tuple(x ** 2 for x in range(1, 11))\n",
    "\n",
    "# Cube of first 10 odd numbers\n",
    "odd_cubes_tuple = tuple(x ** 3 for x in range(1, 20, 2))  # 1, 3, 5, ..., 19\n",
    "\n",
    "# First 10 multiples of 7\n",
    "multiples_of_7_tuple = tuple(7 * x for x in range(1, 11))\n",
    "\n",
    "# Tuple containing the specified values\n",
    "specified_values_tuple = (-5, -3, -1, 1, 3)\n",
    "\n",
    "# Display the created tuples\n",
    "print(\"Squares of first 10 natural numbers:\", squares_tuple)\n",
    "print(\"Cube of first 10 odd numbers:\", odd_cubes_tuple)\n",
    "print(\"First 10 multiples of 7:\", multiples_of_7_tuple)\n",
    "print(\"Tuple containing specified values:\", specified_values_tuple)"
   ]
  },
  {
   "cell_type": "raw",
   "id": "ca3fbb2d",
   "metadata": {},
   "source": [
    "In this program, list comprehensions are used to generate the required tuples for squares, cubes, multiples, and the tuple with specified values.\n",
    "\n",
    "You can run the program, and it will display the tuples as described."
   ]
  },
  {
   "cell_type": "markdown",
   "id": "68cf1a77",
   "metadata": {},
   "source": [
    "93. Write a program that creates a tuple of at least 10 pair if values. Count the number of pairs having both values odd."
   ]
  },
  {
   "cell_type": "code",
   "execution_count": 26,
   "id": "cbddf593",
   "metadata": {},
   "outputs": [
    {
     "name": "stdout",
     "output_type": "stream",
     "text": [
      "Number of pairs with both values odd: 0\n"
     ]
    }
   ],
   "source": [
    "# Create a tuple of at least 10 pairs of values\n",
    "pair_values_tuple = (\n",
    "    (1, 2), (3, 4), (5, 6), (7, 8), (9, 10),\n",
    "    (11, 12), (13, 14), (15, 16), (17, 18), (19, 20)\n",
    ")\n",
    "\n",
    "# Count the number of pairs where both values are odd\n",
    "count_odd_pairs = sum(1 for pair in pair_values_tuple if pair[0] % 2 != 0 and pair[1] % 2 != 0)\n",
    "\n",
    "# Display the results\n",
    "print(\"Number of pairs with both values odd:\", count_odd_pairs)"
   ]
  },
  {
   "cell_type": "raw",
   "id": "0b35e27f",
   "metadata": {},
   "source": [
    "In this program, a tuple pair_values_tuple is created with at least 10 pairs of values. The sum() function with a generator expression is used to count the number of pairs where both values are odd.\n",
    "\n",
    "You can run the program, and it will display the number of pairs with both values odd in the tuple."
   ]
  },
  {
   "cell_type": "markdown",
   "id": "e4d6c950",
   "metadata": {},
   "source": [
    "94. Write a program that has two tuples. Check if the first tuple is a super-set of the second tuple."
   ]
  },
  {
   "cell_type": "code",
   "execution_count": 27,
   "id": "9c21b250",
   "metadata": {},
   "outputs": [
    {
     "name": "stdout",
     "output_type": "stream",
     "text": [
      "Tuple 1: (1, 2, 3, 4, 5, 6)\n",
      "Tuple 2: (3, 5)\n",
      "Tuple 1 is a superset of Tuple 2.\n"
     ]
    }
   ],
   "source": [
    "# Two tuples to compare\n",
    "tuple1 = (1, 2, 3, 4, 5, 6)\n",
    "tuple2 = (3, 5)\n",
    "\n",
    "# Check if the first tuple is a superset of the second tuple\n",
    "is_superset = set(tuple2).issubset(set(tuple1))\n",
    "\n",
    "print(\"Tuple 1:\", tuple1)\n",
    "print(\"Tuple 2:\", tuple2)\n",
    "\n",
    "if is_superset:\n",
    "    print(\"Tuple 1 is a superset of Tuple 2.\")\n",
    "else:\n",
    "    print(\"Tuple 1 is not a superset of Tuple 2.\")"
   ]
  },
  {
   "cell_type": "raw",
   "id": "46e9f19d",
   "metadata": {},
   "source": [
    "In this program, the set() function is used to convert both tuples into sets, and then the issubset() method is used to check if tuple2 is a subset of tuple1.\n",
    "\n",
    "You can run the program, and it will display whether the first tuple is a superset of the second tuple or not."
   ]
  },
  {
   "cell_type": "markdown",
   "id": "c30de8eb",
   "metadata": {},
   "source": [
    "95. Create a dictionary of products purchased and their MRPs. Calculate the bill and display to the customer."
   ]
  },
  {
   "cell_type": "code",
   "execution_count": 28,
   "id": "bcb2055e",
   "metadata": {},
   "outputs": [
    {
     "name": "stdout",
     "output_type": "stream",
     "text": [
      "Products purchased:\n",
      "Item 1: Rs.50\n",
      "Item 2: Rs.30\n",
      "Item 3: Rs.25\n",
      "Item 4: Rs.15\n",
      "\n",
      "Total Bill: Rs. 120\n"
     ]
    }
   ],
   "source": [
    "def calculate_total_bill(products, prices):\n",
    "    total_bill = sum(prices.values())\n",
    "    return total_bill\n",
    "\n",
    "# Create a dictionary of purchased products and their MRPs\n",
    "purchased_products = {\n",
    "    \"Item 1\": 50,\n",
    "    \"Item 2\": 30,\n",
    "    \"Item 3\": 25,\n",
    "    \"Item 4\": 15\n",
    "}\n",
    "\n",
    "# Calculate the total bill\n",
    "total_bill = calculate_total_bill(purchased_products, purchased_products)\n",
    "\n",
    "# Display the bill to the customer\n",
    "print(\"Products purchased:\")\n",
    "for product, price in purchased_products.items():\n",
    "    print(f\"{product}: Rs.{price}\")\n",
    "\n",
    "print(\"\\nTotal Bill: Rs.\", total_bill)"
   ]
  },
  {
   "cell_type": "raw",
   "id": "4301cc5c",
   "metadata": {},
   "source": [
    "In this program, the calculate_total_bill function takes a dictionary of products and their prices as input and calculates the total bill by summing up the prices. The dictionary purchased_products contains the items purchased along with their MRPs.\n",
    "\n",
    "You can run the program, and it will display the purchased products, their prices, and the total bill to the customer. You can modify the purchased_products dictionary to include the actual products and MRPs."
   ]
  },
  {
   "cell_type": "markdown",
   "id": "2a50b345",
   "metadata": {},
   "source": [
    "96. Find fib(n) using dictionaries."
   ]
  },
  {
   "cell_type": "code",
   "execution_count": 30,
   "id": "077a94bc",
   "metadata": {},
   "outputs": [
    {
     "name": "stdout",
     "output_type": "stream",
     "text": [
      "Enter a positive integer n: 4\n",
      "The 4th Fibonacci number is: 3\n"
     ]
    }
   ],
   "source": [
    "def fib(n, memo={}):\n",
    "    if n in memo:\n",
    "        return memo[n]\n",
    "    if n <= 2:\n",
    "        return 1\n",
    "    memo[n] = fib(n - 1, memo) + fib(n - 2, memo)\n",
    "    return memo[n]\n",
    "\n",
    "# Get input from the user\n",
    "n = int(input(\"Enter a positive integer n: \"))\n",
    "\n",
    "if n <= 0:\n",
    "    print(\"Please enter a positive integer.\")\n",
    "else:\n",
    "    result = fib(n)\n",
    "    print(f\"The {n}th Fibonacci number is:\", result)"
   ]
  },
  {
   "cell_type": "raw",
   "id": "f197dde4",
   "metadata": {},
   "source": [
    "In this program, the fib function calculates the nth Fibonacci number using memoization, which involves storing previously computed Fibonacci numbers in a dictionary memo. This way, redundant calculations are avoided, improving the efficiency of the Fibonacci number calculation.\n",
    "\n",
    "You can run the program, input a positive integer n, and it will display the nth Fibonacci number using memoization with dictionaries."
   ]
  },
  {
   "cell_type": "markdown",
   "id": "1e35c496",
   "metadata": {},
   "source": [
    "97. Write a program that prompts user to enter a string and returns in alphabetical order, a letter and its frequency of occurence in the string. (Ignore Case)"
   ]
  },
  {
   "cell_type": "code",
   "execution_count": 31,
   "id": "ed2fcaed",
   "metadata": {},
   "outputs": [
    {
     "name": "stdout",
     "output_type": "stream",
     "text": [
      "Enter a string: forest\n",
      "Letter Frequencies:\n",
      "e: 1\n",
      "f: 1\n",
      "o: 1\n",
      "r: 1\n",
      "s: 1\n",
      "t: 1\n"
     ]
    }
   ],
   "source": [
    "def count_letters_frequency(input_string):\n",
    "    letter_frequency = {}\n",
    "    for char in input_string:\n",
    "        if char.isalpha():\n",
    "            char = char.lower()\n",
    "            if char in letter_frequency:\n",
    "                letter_frequency[char] += 1\n",
    "            else:\n",
    "                letter_frequency[char] = 1\n",
    "    return letter_frequency\n",
    "\n",
    "# Get input from the user\n",
    "user_input = input(\"Enter a string: \")\n",
    "\n",
    "# Calculate letter frequencies\n",
    "frequency_dict = count_letters_frequency(user_input)\n",
    "\n",
    "# Display the result in alphabetical order\n",
    "print(\"Letter Frequencies:\")\n",
    "for char in sorted(frequency_dict):\n",
    "    print(f\"{char}: {frequency_dict[char]}\")"
   ]
  },
  {
   "cell_type": "raw",
   "id": "7d3f361f",
   "metadata": {},
   "source": [
    "In this program, the count_letters_frequency function iterates through the characters of the input string. For each alphabetic character, it converts the character to lowercase, updates the count in the letter_frequency dictionary, and then displays the letter frequencies in alphabetical order.\n",
    "\n",
    "You can run the program, input a string, and it will display the letter frequencies (ignoring case) in alphabetical order."
   ]
  },
  {
   "cell_type": "markdown",
   "id": "54e123c7",
   "metadata": {},
   "source": [
    "98. Write a program to implement sparse matrix using a dictionary."
   ]
  },
  {
   "cell_type": "code",
   "execution_count": 32,
   "id": "e68ae4cf",
   "metadata": {},
   "outputs": [
    {
     "name": "stdout",
     "output_type": "stream",
     "text": [
      "Sparse Matrix:\n",
      "0\t5\t\n",
      "0\t0\t9\t\n",
      "3\t0\t0\t7\t\n"
     ]
    }
   ],
   "source": [
    "def create_sparse_matrix(rows, columns, elements):\n",
    "    sparse_matrix = {}\n",
    "    for row, col, value in elements:\n",
    "        if row not in sparse_matrix:\n",
    "            sparse_matrix[row] = {}\n",
    "        sparse_matrix[row][col] = value\n",
    "    return sparse_matrix\n",
    "\n",
    "def display_sparse_matrix(matrix):\n",
    "    for row in matrix:\n",
    "        row_values = matrix[row]\n",
    "        for col in range(1, max(row_values.keys()) + 1):\n",
    "            value = row_values.get(col, 0)\n",
    "            print(value, end=\"\\t\")\n",
    "        print()\n",
    "\n",
    "# Example: Creating a sparse matrix\n",
    "elements = [(1, 2, 5), (2, 3, 9), (3, 1, 3), (3, 4, 7)]\n",
    "sparse_matrix = create_sparse_matrix(3, 4, elements)\n",
    "\n",
    "# Displaying the sparse matrix\n",
    "print(\"Sparse Matrix:\")\n",
    "display_sparse_matrix(sparse_matrix)"
   ]
  },
  {
   "cell_type": "raw",
   "id": "c272fd18",
   "metadata": {},
   "source": [
    "In this program, the create_sparse_matrix function takes the number of rows, columns, and a list of elements (row, column, value) as input. It creates a dictionary where each row is a key, and its corresponding value is another dictionary with column-value pairs.\n",
    "\n",
    "The display_sparse_matrix function prints the sparse matrix in a readable format.\n",
    "\n",
    "You can run the program as-is or modify the example elements to create your own sparse matrix and see the results."
   ]
  },
  {
   "cell_type": "markdown",
   "id": "8e99d7a0",
   "metadata": {},
   "source": [
    "99. Write a program that has a dictionary of your friend's name (as keys) and their birthdays. Print the items in the dictionary in a sorted order. Prompt the user to enter a name and check if it is present in the dictionary. If the name does not exist, then ask the user to enter DOB. Add the details in the dictionary."
   ]
  },
  {
   "cell_type": "code",
   "execution_count": 33,
   "id": "ba985741",
   "metadata": {},
   "outputs": [
    {
     "name": "stdout",
     "output_type": "stream",
     "text": [
      "Friend's Birthdays (Sorted):\n",
      "Alice: 2000-05-15\n",
      "Charlie: 2002-03-10\n",
      "Dob: 1998-09-20\n",
      "Enter a friend's name: Bubly\n",
      "Bubly's birthday is not found. Please enter their DOB (YYYY-MM-DD): 1141-01-04\n",
      "Added Bubly's birthday (1141-01-04) to the dictionary.\n",
      "Updated Friend's Birthdays:\n",
      "Alice: 2000-05-15\n",
      "Bubly: 1141-01-04\n",
      "Charlie: 2002-03-10\n",
      "Dob: 1998-09-20\n"
     ]
    }
   ],
   "source": [
    "def print_sorted_dictionary(dictionary):\n",
    "    for name, dob in sorted(dictionary.items()):\n",
    "        print(f\"{name}: {dob}\")\n",
    "\n",
    "# Create a dictionary of friend's names and birthdays\n",
    "friends_dict = {\n",
    "    \"Alice\": \"2000-05-15\",\n",
    "    \"Dob\": \"1998-09-20\",\n",
    "    \"Charlie\": \"2002-03-10\"\n",
    "}\n",
    "\n",
    "# Display sorted dictionary items\n",
    "print(\"Friend's Birthdays (Sorted):\")\n",
    "print_sorted_dictionary(friends_dict)\n",
    "\n",
    "# Prompt the user for a name\n",
    "user_name = input(\"Enter a friend's name: \")\n",
    "\n",
    "if user_name in friends_dict:\n",
    "    print(f\"{user_name}'s birthday is on {friends_dict[user_name]}.\")\n",
    "else:\n",
    "    user_dob = input(f\"{user_name}'s birthday is not found. Please enter their DOB (YYYY-MM-DD): \")\n",
    "    friends_dict[user_name] = user_dob\n",
    "    print(f\"Added {user_name}'s birthday ({user_dob}) to the dictionary.\")\n",
    "\n",
    "# Display updated dictionary\n",
    "print(\"Updated Friend's Birthdays:\")\n",
    "print_sorted_dictionary(friends_dict)"
   ]
  },
  {
   "cell_type": "raw",
   "id": "c39e58d2",
   "metadata": {},
   "source": [
    "In this program, the print_sorted_dictionary function is used to display dictionary items in a sorted order. The program then prompts the user for a friend's name, checks if the name exists in the dictionary, and either displays the existing birthday or prompts for a new one and adds it to the dictionary.\n",
    "\n",
    "You can run the program, interact with it by entering friend's names, and it will display the sorted dictionary items along with any updates made."
   ]
  },
  {
   "cell_type": "markdown",
   "id": "7fe1c849",
   "metadata": {},
   "source": [
    "100. Write a program that displays a menu and its price. Take the order from the customer. Check if the ordered product is in the menu. In case it is not there, the customer should be asked to reorder and if it is present then product should be added in the bill."
   ]
  },
  {
   "cell_type": "code",
   "execution_count": 34,
   "id": "26d993e1",
   "metadata": {},
   "outputs": [
    {
     "name": "stdout",
     "output_type": "stream",
     "text": [
      "Menu:\n",
      "Burger: Rs.150\n",
      "Pizza: Rs.250\n",
      "Pasta: Rs.180\n",
      "Coke: Rs.50\n",
      "Ice Cream: Rs.100\n",
      "Enter the product you want to order: Burger\n",
      "You ordered Burger for Rs.150.\n"
     ]
    }
   ],
   "source": [
    "def display_menu(menu):\n",
    "    print(\"Menu:\")\n",
    "    for item, price in menu.items():\n",
    "        print(f\"{item}: Rs.{price}\")\n",
    "\n",
    "# Create a dictionary for the menu\n",
    "menu = {\n",
    "    \"Burger\": 150,\n",
    "    \"Pizza\": 250,\n",
    "    \"Pasta\": 180,\n",
    "    \"Coke\": 50,\n",
    "    \"Ice Cream\": 100\n",
    "}\n",
    "\n",
    "# Display the menu\n",
    "display_menu(menu)\n",
    "\n",
    "# Take order from the customer\n",
    "customer_order = input(\"Enter the product you want to order: \")\n",
    "\n",
    "# Check if the ordered product is in the menu\n",
    "if customer_order in menu:\n",
    "    order_price = menu[customer_order]\n",
    "    print(f\"You ordered {customer_order} for Rs.{order_price}.\")\n",
    "else:\n",
    "    print(f\"Sorry, {customer_order} is not in the menu. Please reorder.\")\n",
    "\n",
    "# Note: You can add more functionality to handle multiple orders and calculate the total bill."
   ]
  },
  {
   "cell_type": "raw",
   "id": "8b74092d",
   "metadata": {},
   "source": [
    "In this program, the display_menu function is used to display the menu items and their prices. The program then takes an order from the customer and checks if the ordered product is in the menu. If it is, it displays the product's price; otherwise, it prompts the customer to reorder.\n",
    "\n",
    "You can run the program, input a product name, and it will handle the order based on the menu items provided. You can also extend the program to handle multiple orders and calculate the total bill."
   ]
  },
  {
   "cell_type": "markdown",
   "id": "95699c1d",
   "metadata": {},
   "source": [
    "101. Write a program that prints the maximum and minimum value in a dictionary."
   ]
  },
  {
   "cell_type": "code",
   "execution_count": 35,
   "id": "4cecffa9",
   "metadata": {},
   "outputs": [
    {
     "name": "stdout",
     "output_type": "stream",
     "text": [
      "Dictionary: {'A': 30, 'B': 15, 'C': 50, 'D': 10, 'E': 25}\n",
      "Maximum Value: 50\n",
      "Minimum Value: 10\n"
     ]
    }
   ],
   "source": [
    "def find_max_min_values(dictionary):\n",
    "    if not dictionary:\n",
    "        return None, None\n",
    "\n",
    "    max_value = max(dictionary.values())\n",
    "    min_value = min(dictionary.values())\n",
    "    return max_value, min_value\n",
    "\n",
    "# Create a dictionary\n",
    "data = {\n",
    "    \"A\": 30,\n",
    "    \"B\": 15,\n",
    "    \"C\": 50,\n",
    "    \"D\": 10,\n",
    "    \"E\": 25\n",
    "}\n",
    "\n",
    "# Find and print the maximum and minimum values\n",
    "max_value, min_value = find_max_min_values(data)\n",
    "\n",
    "if max_value is not None and min_value is not None:\n",
    "    print(\"Dictionary:\", data)\n",
    "    print(\"Maximum Value:\", max_value)\n",
    "    print(\"Minimum Value:\", min_value)\n",
    "else:\n",
    "    print(\"The dictionary is empty.\")"
   ]
  },
  {
   "cell_type": "raw",
   "id": "06d0ea55",
   "metadata": {},
   "source": [
    "In this program, the find_max_min_values function calculates the maximum and minimum values in the dictionary using the max() and min() functions. It returns these values, and then the program prints them along with the original dictionary.\n",
    "\n",
    "You can run the program and see the maximum and minimum values in the given dictionary."
   ]
  },
  {
   "cell_type": "markdown",
   "id": "fe3d2c07",
   "metadata": {},
   "source": [
    "102. Write a program to remove duplicates from Dictionary."
   ]
  },
  {
   "cell_type": "code",
   "execution_count": 36,
   "id": "30de4047",
   "metadata": {},
   "outputs": [
    {
     "name": "stdout",
     "output_type": "stream",
     "text": [
      "Original Dictionary: {'A': 10, 'B': 20, 'C': 30, 'D': 20, 'E': 40}\n",
      "Dictionary after removing duplicates: {'A': 10, 'B': 20, 'C': 30, 'E': 40}\n"
     ]
    }
   ],
   "source": [
    "def remove_duplicates(dictionary):\n",
    "    unique_dict = {}\n",
    "    for key, value in dictionary.items():\n",
    "        if value not in unique_dict.values():\n",
    "            unique_dict[key] = value\n",
    "    return unique_dict\n",
    "\n",
    "# Create a dictionary with duplicates\n",
    "original_dict = {\n",
    "    \"A\": 10,\n",
    "    \"B\": 20,\n",
    "    \"C\": 30,\n",
    "    \"D\": 20,\n",
    "    \"E\": 40\n",
    "}\n",
    "\n",
    "# Remove duplicates from the dictionary\n",
    "unique_dict = remove_duplicates(original_dict)\n",
    "\n",
    "# Display the original and unique dictionaries\n",
    "print(\"Original Dictionary:\", original_dict)\n",
    "print(\"Dictionary after removing duplicates:\", unique_dict)"
   ]
  },
  {
   "cell_type": "raw",
   "id": "de13ab9d",
   "metadata": {},
   "source": [
    "In this program, the remove_duplicates function creates a new dictionary unique_dict and iterates through the original dictionary's items. It checks if the value is already present in the unique_dict values. If not, it adds the key-value pair to the unique_dict.\n",
    "\n",
    "You can run the program, and it will display the original dictionary and the dictionary after removing duplicates."
   ]
  },
  {
   "cell_type": "markdown",
   "id": "509c8737",
   "metadata": {},
   "source": [
    "103. Write a program to check whether a dictionary has some key-value pairs stored in it or not."
   ]
  },
  {
   "cell_type": "code",
   "execution_count": 37,
   "id": "af6b051f",
   "metadata": {},
   "outputs": [
    {
     "name": "stdout",
     "output_type": "stream",
     "text": [
      "The dictionary contains the specified key-value pairs.\n"
     ]
    }
   ],
   "source": [
    "def has_key_value_pairs(dictionary, key_value_pairs):\n",
    "    for key, value in key_value_pairs.items():\n",
    "        if key not in dictionary or dictionary[key] != value:\n",
    "            return False\n",
    "    return True\n",
    "\n",
    "# Create a dictionary\n",
    "data = {\n",
    "    \"A\": 10,\n",
    "    \"B\": 20,\n",
    "    \"C\": 30,\n",
    "    \"D\": 40\n",
    "}\n",
    "\n",
    "# Check for specific key-value pairs\n",
    "pairs_to_check = {\n",
    "    \"A\": 10,\n",
    "    \"B\": 20\n",
    "}\n",
    "\n",
    "if has_key_value_pairs(data, pairs_to_check):\n",
    "    print(\"The dictionary contains the specified key-value pairs.\")\n",
    "else:\n",
    "    print(\"The dictionary does not contain the specified key-value pairs.\")"
   ]
  },
  {
   "cell_type": "raw",
   "id": "2509797f",
   "metadata": {},
   "source": [
    "In this program, the has_key_value_pairs function checks whether the given dictionary contains specific key-value pairs as specified in the key_value_pairs dictionary.\n",
    "\n",
    "You can run the program, and it will display whether the dictionary contains the specified key-value pairs or not based on the example provided."
   ]
  },
  {
   "cell_type": "markdown",
   "id": "a1dc9cd7",
   "metadata": {},
   "source": [
    "104. Write a program that display's information about an employee. Use nested dictionary to do the task."
   ]
  },
  {
   "cell_type": "code",
   "execution_count": 38,
   "id": "247c6759",
   "metadata": {},
   "outputs": [
    {
     "name": "stdout",
     "output_type": "stream",
     "text": [
      "Employee Information:\n",
      "Name: John Doe\n",
      "Age: 30\n",
      "Position: Software Engineer\n",
      "Contact:\n",
      "   Email: john@example.com\n",
      "   Phone: 123-456-7890\n",
      "Address:\n",
      "   Street: 123 Main St\n",
      "   City: Cityville\n",
      "   State: State\n",
      "   Zipcode: 12345\n"
     ]
    }
   ],
   "source": [
    "# Create a nested dictionary for employee information\n",
    "employee = {\n",
    "    \"name\": \"John Doe\",\n",
    "    \"age\": 30,\n",
    "    \"position\": \"Software Engineer\",\n",
    "    \"contact\": {\n",
    "        \"email\": \"john@example.com\",\n",
    "        \"phone\": \"123-456-7890\"\n",
    "    },\n",
    "    \"address\": {\n",
    "        \"street\": \"123 Main St\",\n",
    "        \"city\": \"Cityville\",\n",
    "        \"state\": \"State\",\n",
    "        \"zipcode\": \"12345\"\n",
    "    }\n",
    "}\n",
    "\n",
    "# Display employee information\n",
    "print(\"Employee Information:\")\n",
    "print(\"Name:\", employee[\"name\"])\n",
    "print(\"Age:\", employee[\"age\"])\n",
    "print(\"Position:\", employee[\"position\"])\n",
    "print(\"Contact:\")\n",
    "print(\"   Email:\", employee[\"contact\"][\"email\"])\n",
    "print(\"   Phone:\", employee[\"contact\"][\"phone\"])\n",
    "print(\"Address:\")\n",
    "print(\"   Street:\", employee[\"address\"][\"street\"])\n",
    "print(\"   City:\", employee[\"address\"][\"city\"])\n",
    "print(\"   State:\", employee[\"address\"][\"state\"])\n",
    "print(\"   Zipcode:\", employee[\"address\"][\"zipcode\"])"
   ]
  },
  {
   "cell_type": "raw",
   "id": "29f595e7",
   "metadata": {},
   "source": [
    "In this program, the employee dictionary contains nested dictionaries for contact and address information. The program then displays the employee's information using nested dictionary access.\n",
    "\n",
    "You can run the program and modify the information within the employee dictionary to suit your needs."
   ]
  },
  {
   "cell_type": "markdown",
   "id": "36306901",
   "metadata": {},
   "source": [
    "105. Write a program that prints keys with same values in the dictionary."
   ]
  },
  {
   "cell_type": "code",
   "execution_count": 39,
   "id": "1b87c02d",
   "metadata": {},
   "outputs": [
    {
     "name": "stdout",
     "output_type": "stream",
     "text": [
      "Keys with the same values:\n",
      "Value 10: Keys A, C\n",
      "Value 20: Keys B, E\n",
      "Value 30: Keys D, F\n"
     ]
    }
   ],
   "source": [
    "def find_keys_with_same_value(dictionary):\n",
    "    value_to_keys = {}\n",
    "    for key, value in dictionary.items():\n",
    "        if value in value_to_keys:\n",
    "            value_to_keys[value].append(key)\n",
    "        else:\n",
    "            value_to_keys[value] = [key]\n",
    "    \n",
    "    return {value: keys for value, keys in value_to_keys.items() if len(keys) > 1}\n",
    "\n",
    "# Create a dictionary\n",
    "data = {\n",
    "    \"A\": 10,\n",
    "    \"B\": 20,\n",
    "    \"C\": 10,\n",
    "    \"D\": 30,\n",
    "    \"E\": 20,\n",
    "    \"F\": 30\n",
    "}\n",
    "\n",
    "# Find keys with the same values\n",
    "keys_with_same_values = find_keys_with_same_value(data)\n",
    "\n",
    "# Display the result\n",
    "print(\"Keys with the same values:\")\n",
    "for value, keys in keys_with_same_values.items():\n",
    "    print(f\"Value {value}: Keys {', '.join(keys)}\")"
   ]
  },
  {
   "cell_type": "raw",
   "id": "7e410045",
   "metadata": {},
   "source": [
    "In this program, the find_keys_with_same_value function creates a new dictionary value_to_keys to store keys grouped by their values. Then, it iterates through the original dictionary and populates the value_to_keys dictionary. Finally, it filters out the values that have more than one key and displays them.\n",
    "\n",
    "You can run the program, and it will display the keys with the same values in the given dictionary."
   ]
  },
  {
   "cell_type": "markdown",
   "id": "8ef04623",
   "metadata": {},
   "source": [
    "106. Writes a program that prints keys with different values in the dictionary."
   ]
  },
  {
   "cell_type": "code",
   "execution_count": 40,
   "id": "408dc403",
   "metadata": {},
   "outputs": [
    {
     "name": "stdout",
     "output_type": "stream",
     "text": [
      "Keys with different values:\n"
     ]
    }
   ],
   "source": [
    "def find_keys_with_different_values(dictionary):\n",
    "    value_to_keys = {}\n",
    "    for key, value in dictionary.items():\n",
    "        if value in value_to_keys:\n",
    "            value_to_keys[value].append(key)\n",
    "        else:\n",
    "            value_to_keys[value] = [key]\n",
    "    \n",
    "    return {value: keys for value, keys in value_to_keys.items() if len(keys) == 1}\n",
    "\n",
    "# Create a dictionary\n",
    "data = {\n",
    "    \"A\": 10,\n",
    "    \"B\": 20,\n",
    "    \"C\": 10,\n",
    "    \"D\": 30,\n",
    "    \"E\": 20,\n",
    "    \"F\": 30\n",
    "}\n",
    "\n",
    "# Find keys with different values\n",
    "keys_with_different_values = find_keys_with_different_values(data)\n",
    "\n",
    "# Display the result\n",
    "print(\"Keys with different values:\")\n",
    "for value, keys in keys_with_different_values.items():\n",
    "    print(f\"Value {value}: Key {keys[0]}\")"
   ]
  },
  {
   "cell_type": "raw",
   "id": "4db17ac8",
   "metadata": {},
   "source": [
    "In this program, the find_keys_with_different_values function works similarly to the previous example, but it filters out values that have only one key.\n",
    "\n",
    "You can run the program, and it will display the keys with different values in the given dictionary."
   ]
  },
  {
   "cell_type": "markdown",
   "id": "85841578",
   "metadata": {},
   "source": [
    "107. Write a program that accepts two dictionaries. Print all the keys that are present in both the dictionaries."
   ]
  },
  {
   "cell_type": "code",
   "execution_count": 43,
   "id": "4641c7a7",
   "metadata": {},
   "outputs": [
    {
     "name": "stdout",
     "output_type": "stream",
     "text": [
      "Enter the first dictionary: {'A':1, 'B':2}\n",
      "Enter the second dictionary: {'A':1, 'C':3}\n",
      "Common keys in both dictionaries: ['A']\n"
     ]
    }
   ],
   "source": [
    "def common_keys(dict1, dict2):\n",
    "    common_keys_list = []\n",
    "    for key in dict1:\n",
    "        if key in dict2:\n",
    "            common_keys_list.append(key)\n",
    "    return common_keys_list\n",
    "\n",
    "# Accept two dictionaries from the user\n",
    "dict1 = eval(input(\"Enter the first dictionary: \"))\n",
    "dict2 = eval(input(\"Enter the second dictionary: \"))\n",
    "\n",
    "# Find and print common keys\n",
    "common_keys_list = common_keys(dict1, dict2)\n",
    "\n",
    "if common_keys_list:\n",
    "    print(\"Common keys in both dictionaries:\", common_keys_list)\n",
    "else:\n",
    "    print(\"There are no common keys in the dictionaries.\")"
   ]
  },
  {
   "cell_type": "raw",
   "id": "244c0397",
   "metadata": {},
   "source": [
    "In this program, the common_keys function takes two dictionaries as input and iterates through the keys of the first dictionary. If a key is also present in the second dictionary, it is added to the common_keys_list.\n",
    "\n",
    "You can run the program, input two dictionaries (in the format {'key1': value1, 'key2': value2, ...}), and it will display the common keys present in both dictionaries."
   ]
  },
  {
   "cell_type": "markdown",
   "id": "99c03515",
   "metadata": {},
   "source": [
    "108. Create a dictionary which has name of the student as key and his total marks as value. Now, perform the following operations on this dictionary.\n",
    "* Display the marks obtained by a particular student.\n",
    "* Display the names of all the students who scored 90 and above.\n",
    "* Display all key-value pairs sorted by keys.\n",
    "* Display all key-value pairs sorted by marks.\n",
    "* Create a list of all students.\n",
    "* Create another list having marks obtained by the students."
   ]
  },
  {
   "cell_type": "code",
   "execution_count": 44,
   "id": "1645ad59",
   "metadata": {},
   "outputs": [
    {
     "name": "stdout",
     "output_type": "stream",
     "text": [
      "Alice's marks: 95\n",
      "Students who scored 90 and above: Alice, Charlie, Eva\n",
      "Key-Value pairs sorted by keys:\n",
      "Alice: 95\n",
      "Bob: 85\n",
      "Charlie: 92\n",
      "David: 78\n",
      "Eva: 98\n",
      "Key-Value pairs sorted by marks:\n",
      "Eva: 98\n",
      "Alice: 95\n",
      "Charlie: 92\n",
      "Bob: 85\n",
      "David: 78\n",
      "List of all students: ['Alice', 'Bob', 'Charlie', 'David', 'Eva']\n",
      "List of marks obtained by students: [95, 85, 92, 78, 98]\n"
     ]
    }
   ],
   "source": [
    "def display_student_marks(student_dict, student_name):\n",
    "    if student_name in student_dict:\n",
    "        print(f\"{student_name}'s marks:\", student_dict[student_name])\n",
    "    else:\n",
    "        print(f\"{student_name} is not found in the dictionary.\")\n",
    "\n",
    "def display_high_scorers(student_dict, threshold):\n",
    "    high_scorers = [name for name, marks in student_dict.items() if marks >= threshold]\n",
    "    if high_scorers:\n",
    "        print(f\"Students who scored {threshold} and above:\", \", \".join(high_scorers))\n",
    "    else:\n",
    "        print(f\"No student scored {threshold} and above.\")\n",
    "\n",
    "# Create a dictionary of student names and their total marks\n",
    "student_marks = {\n",
    "    \"Alice\": 95,\n",
    "    \"Bob\": 85,\n",
    "    \"Charlie\": 92,\n",
    "    \"David\": 78,\n",
    "    \"Eva\": 98\n",
    "}\n",
    "\n",
    "# Display marks obtained by a particular student\n",
    "display_student_marks(student_marks, \"Alice\")\n",
    "\n",
    "# Display names of students who scored 90 and above\n",
    "display_high_scorers(student_marks, 90)\n",
    "\n",
    "# Display key-value pairs sorted by keys\n",
    "print(\"Key-Value pairs sorted by keys:\")\n",
    "for name, marks in sorted(student_marks.items()):\n",
    "    print(f\"{name}: {marks}\")\n",
    "\n",
    "# Display key-value pairs sorted by marks\n",
    "print(\"Key-Value pairs sorted by marks:\")\n",
    "for name, marks in sorted(student_marks.items(), key=lambda item: item[1], reverse=True):\n",
    "    print(f\"{name}: {marks}\")\n",
    "\n",
    "# Create lists of all students and their marks\n",
    "student_names = list(student_marks.keys())\n",
    "student_marks_list = list(student_marks.values())\n",
    "\n",
    "print(\"List of all students:\", student_names)\n",
    "print(\"List of marks obtained by students:\", student_marks_list)"
   ]
  },
  {
   "cell_type": "raw",
   "id": "850a5142",
   "metadata": {},
   "source": [
    "In this program, the operations on the dictionary are implemented through various functions. The program displays marks obtained by a particular student, students who scored 90 and above, key-value pairs sorted by keys, key-value pairs sorted by marks, and lists of all students and their marks.\n",
    "\n",
    "You can run the program to see the results based on the given dictionary of student names and marks."
   ]
  },
  {
   "cell_type": "markdown",
   "id": "61bf5a68",
   "metadata": {},
   "source": [
    "109. Create a dictionary storing names of months as keys and the number of days as values."
   ]
  },
  {
   "cell_type": "code",
   "execution_count": 45,
   "id": "07216862",
   "metadata": {},
   "outputs": [
    {
     "name": "stdout",
     "output_type": "stream",
     "text": [
      "January: 31 days\n",
      "February: 28 days\n",
      "March: 31 days\n",
      "April: 30 days\n",
      "May: 31 days\n",
      "June: 30 days\n",
      "July: 31 days\n",
      "August: 31 days\n",
      "September: 30 days\n",
      "October: 31 days\n",
      "November: 30 days\n",
      "December: 31 days\n"
     ]
    }
   ],
   "source": [
    "# Create a dictionary of months and their corresponding days\n",
    "months_days = {\n",
    "    \"January\": 31,\n",
    "    \"February\": 28,\n",
    "    \"March\": 31,\n",
    "    \"April\": 30,\n",
    "    \"May\": 31,\n",
    "    \"June\": 30,\n",
    "    \"July\": 31,\n",
    "    \"August\": 31,\n",
    "    \"September\": 30,\n",
    "    \"October\": 31,\n",
    "    \"November\": 30,\n",
    "    \"December\": 31\n",
    "}\n",
    "\n",
    "# Display the dictionary\n",
    "for month, days in months_days.items():\n",
    "    print(f\"{month}: {days} days\")"
   ]
  },
  {
   "cell_type": "raw",
   "id": "26737acf",
   "metadata": {},
   "source": [
    "In this dictionary, each month's name is a key, and the corresponding number of days in that month is the value. The program then displays the months and their respective number of days.\n",
    "\n",
    "You can run the program to see the months and the number of days in each month."
   ]
  },
  {
   "cell_type": "markdown",
   "id": "a4b02607",
   "metadata": {},
   "source": [
    "110. Create a dictionary using nested tuple."
   ]
  },
  {
   "cell_type": "code",
   "execution_count": 46,
   "id": "6f8ad210",
   "metadata": {},
   "outputs": [
    {
     "name": "stdout",
     "output_type": "stream",
     "text": [
      "Alice: Age 25, Major Computer Science\n",
      "Bob: Age 22, Major Engineering\n",
      "Charlie: Age 21, Major Mathematics\n",
      "David: Age 24, Major Physics\n"
     ]
    }
   ],
   "source": [
    "# Create a dictionary using nested tuples\n",
    "students = {\n",
    "    \"Alice\": (25, \"Computer Science\"),\n",
    "    \"Bob\": (22, \"Engineering\"),\n",
    "    \"Charlie\": (21, \"Mathematics\"),\n",
    "    \"David\": (24, \"Physics\")\n",
    "}\n",
    "\n",
    "# Display information about students\n",
    "for name, info in students.items():\n",
    "    age, major = info\n",
    "    print(f\"{name}: Age {age}, Major {major}\")"
   ]
  },
  {
   "cell_type": "raw",
   "id": "47d05874",
   "metadata": {},
   "source": [
    "In this example, each student's name is a key, and the corresponding value is a tuple containing the student's age and major. The program then displays information about each student using the nested tuple.\n",
    "\n",
    "You can modify the program to suit your own data and run it to see the results."
   ]
  },
  {
   "cell_type": "code",
   "execution_count": null,
   "id": "fdf04ae8",
   "metadata": {},
   "outputs": [],
   "source": []
  }
 ],
 "metadata": {
  "kernelspec": {
   "display_name": "Python 3 (ipykernel)",
   "language": "python",
   "name": "python3"
  },
  "language_info": {
   "codemirror_mode": {
    "name": "ipython",
    "version": 3
   },
   "file_extension": ".py",
   "mimetype": "text/x-python",
   "name": "python",
   "nbconvert_exporter": "python",
   "pygments_lexer": "ipython3",
   "version": "3.11.4"
  }
 },
 "nbformat": 4,
 "nbformat_minor": 5
}
