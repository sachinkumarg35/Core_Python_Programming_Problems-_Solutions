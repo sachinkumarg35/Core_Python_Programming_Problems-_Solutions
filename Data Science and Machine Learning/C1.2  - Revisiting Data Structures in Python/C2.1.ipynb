{
 "cells": [
  {
   "cell_type": "markdown",
   "id": "0ee1c057",
   "metadata": {},
   "source": [
    "51. Write a program to read a name and then display it in abbreviated form, like Janak Raj Thareja should be displayed as J.R.Thareja."
   ]
  },
  {
   "cell_type": "markdown",
   "id": "f9acb785",
   "metadata": {},
   "source": [
    "52. Write a program to count the number of characters, words and lines in the given text."
   ]
  },
  {
   "cell_type": "markdown",
   "id": "de18b242",
   "metadata": {},
   "source": [
    "53. Write a program to count the number of digits, upper case characters, lower case characters in a given string."
   ]
  },
  {
   "cell_type": "markdown",
   "id": "5349ca0c",
   "metadata": {},
   "source": [
    "54. Write a program to extract the first n characters of a string."
   ]
  },
  {
   "cell_type": "markdown",
   "id": "6298f3b4",
   "metadata": {},
   "source": [
    "55. write a program to copy n characters of a string from the mth position in another string. Do not use the slice operation."
   ]
  },
  {
   "cell_type": "markdown",
   "id": "01f316f2",
   "metadata": {},
   "source": [
    "56. Write a program to delete the last character of a string."
   ]
  },
  {
   "cell_type": "markdown",
   "id": "43c2dacd",
   "metadata": {},
   "source": [
    "57. Write a program to delete the first character of a string."
   ]
  },
  {
   "cell_type": "markdown",
   "id": "92810f9f",
   "metadata": {},
   "source": [
    "58. Write a program to encrypt a string using Substitution Cipher."
   ]
  },
  {
   "cell_type": "markdown",
   "id": "3878e8b2",
   "metadata": {},
   "source": [
    "59. Write a program that encrypts a string using multiplicative cipher. Generate the key randomly."
   ]
  },
  {
   "cell_type": "markdown",
   "id": "88f451f2",
   "metadata": {},
   "source": [
    "60. Write the command to print \"hello world\" as \"Hello world\"."
   ]
  },
  {
   "cell_type": "markdown",
   "id": "72efd049",
   "metadata": {},
   "source": [
    "61. Write the command to print \"hello world\" as \"Hello World\""
   ]
  },
  {
   "cell_type": "markdown",
   "id": "b1c5998a",
   "metadata": {},
   "source": [
    "62. Write the command to print \"hEiLo WoRlD\" as \"HeLio wOrLd\""
   ]
  },
  {
   "cell_type": "markdown",
   "id": "65a400e9",
   "metadata": {},
   "source": [
    "63. Write the command to print \"hello world\" as \"Hello Friends\""
   ]
  },
  {
   "cell_type": "markdown",
   "id": "fc1787b6",
   "metadata": {},
   "source": [
    "64. Write a program that prompts the user to enter a 10-digit mobile number. Display the number by putting a '-' after area code and next three digits. (like 123-456-7890)."
   ]
  },
  {
   "cell_type": "markdown",
   "id": "baac59db",
   "metadata": {},
   "source": [
    "65. Write a program that prompts the user to enter five words. If the length of any word is less than 8 or if the word does not contain any digit then prompt the user to enter that word again."
   ]
  },
  {
   "cell_type": "markdown",
   "id": "917f7d91",
   "metadata": {},
   "source": [
    "66. Write a program that creates a list of numbers in the series 2n-1. Display only the even indexed values in this list."
   ]
  },
  {
   "cell_type": "markdown",
   "id": "35afc908",
   "metadata": {},
   "source": [
    "67. Write a program that prints the elements along with their indices from the start and end of the list."
   ]
  },
  {
   "cell_type": "markdown",
   "id": "50a540fb",
   "metadata": {},
   "source": [
    "68. Write a program that reads two lists. Make another list of all those elements in the first list that are also present in the second list."
   ]
  },
  {
   "cell_type": "markdown",
   "id": "0b4d28b7",
   "metadata": {},
   "source": [
    "69. Write a program that creates a list ['a', 'bb', 'ccc', 'dddd', ....]"
   ]
  },
  {
   "cell_type": "markdown",
   "id": "5e1be714",
   "metadata": {},
   "source": [
    "70. Write a program that forms a list of numbers in the series \n",
    "a. 2/9, -5/13, 8/17....\n",
    "b. x, -x2/2!, x3/3!, -x4/4!, x5/5!,...."
   ]
  },
  {
   "cell_type": "markdown",
   "id": "71fcc874",
   "metadata": {},
   "source": [
    "71. Make a list of five random numbers. Write instructions to sum the elements and find mean of the elements."
   ]
  },
  {
   "cell_type": "markdown",
   "id": "42882540",
   "metadata": {},
   "source": [
    "72. Write a program that adds corresponding elements of two lists."
   ]
  },
  {
   "cell_type": "markdown",
   "id": "0c75d435",
   "metadata": {},
   "source": [
    "73. Make a list pf first ten letters of the alphabet, then using the slicing operation do the following operations\n",
    "- Print the first three letters from the list.\n",
    "- Print any three letters from the middle.\n",
    "- Print the letters from any particular index to the end of the list."
   ]
  },
  {
   "cell_type": "markdown",
   "id": "9a9ce8bc",
   "metadata": {},
   "source": [
    "74. Write a program that prints the maximum value of the second half of the list."
   ]
  },
  {
   "cell_type": "markdown",
   "id": "ccb316a9",
   "metadata": {},
   "source": [
    "75. Write a program that finds the sum of all the numbers using a while loop."
   ]
  },
  {
   "cell_type": "markdown",
   "id": "c2360f1d",
   "metadata": {},
   "source": [
    "76. Write a program that finds sum of all even numbers in a list."
   ]
  },
  {
   "cell_type": "markdown",
   "id": "c83cf064",
   "metadata": {},
   "source": [
    "77. Write a program that reverses a list using a loop."
   ]
  },
  {
   "cell_type": "markdown",
   "id": "75b5387a",
   "metadata": {},
   "source": [
    "78. Write a program to find whether a particular elements is present in the list using a loop."
   ]
  },
  {
   "cell_type": "markdown",
   "id": "77482dd8",
   "metadata": {},
   "source": [
    "79. Write a program that prompts user to enter an alphabet. Print all the words in the list that starts with that alphabet."
   ]
  },
  {
   "cell_type": "markdown",
   "id": "fc0a1d74",
   "metadata": {},
   "source": [
    "80. Write a program that prompts a number from user and adds it in a list. If the value entered by user is greater than 100, then add \"EXCESS\" in the list."
   ]
  },
  {
   "cell_type": "markdown",
   "id": "fbcc2c57",
   "metadata": {},
   "source": [
    "81. Write a program that counts the number of times a value appears in the list. Use a loop to do the same."
   ]
  },
  {
   "cell_type": "markdown",
   "id": "6be61134",
   "metadata": {},
   "source": [
    "82. Write a program to insert a value in a list at the specified location using while loop."
   ]
  },
  {
   "cell_type": "markdown",
   "id": "9f921751",
   "metadata": {},
   "source": [
    "83. Write a program that creates a list of numbers from 1-50 that are either divisible by 3 or divisible by 6."
   ]
  },
  {
   "cell_type": "markdown",
   "id": "1185b2c8",
   "metadata": {},
   "source": [
    "84. Write a program to create a list of numbers in the range 1 to 20. Then, delete all the numbers from the list that are divisible by 3."
   ]
  },
  {
   "cell_type": "markdown",
   "id": "196c68db",
   "metadata": {},
   "source": [
    "85. Write a program to randomly select an item from a list."
   ]
  },
  {
   "cell_type": "markdown",
   "id": "e3572e08",
   "metadata": {},
   "source": [
    "86. Write a program to print the string \"HELLOWORLD\" as "
   ]
  },
  {
   "cell_type": "markdown",
   "id": "492389d4",
   "metadata": {},
   "source": [
    "87. Write a program that creates a list ['a', 'b', 'c'], then create a tuple from that list. Now, do the opposite. That is create the tuple ('a', 'b', 'c'), and then create a list from it."
   ]
  },
  {
   "cell_type": "markdown",
   "id": "d1e73995",
   "metadata": {},
   "source": [
    "88. Create a tuple that has just one element which in turn may have three elements 'a', 'b' and 'c'. Print the length of this tuple."
   ]
  },
  {
   "cell_type": "markdown",
   "id": "b633b92a",
   "metadata": {},
   "source": [
    "89. Write a program that has a predefined list. Create a copy of this list in such a way that only those values are in valid_tuple are added in the new list."
   ]
  },
  {
   "cell_type": "markdown",
   "id": "67fdc0c3",
   "metadata": {},
   "source": [
    "90. Create a nested tuple that has marks of at least 5 students obtained in three subjects. Now, perform the following operations on it.\n",
    "* Display the marks of the fourth student.\n",
    "* Display the marks obtained by second student in the first subject.\n",
    "* Total marks obtained by each student.\n",
    "* Average (or mean) marks obtained by each student.\n",
    "* Using the average marks obtained by each student, calculate the average marks obtained by all the students (finding the mean of means)\n",
    "* For each student display the maximum and minimum marks obtained."
   ]
  },
  {
   "cell_type": "markdown",
   "id": "850a8a34",
   "metadata": {},
   "source": [
    "91. Write a program that concatenates the first tuple at the end of the second tuple."
   ]
  },
  {
   "cell_type": "markdown",
   "id": "3151ef34",
   "metadata": {},
   "source": [
    "92. Write a program that creates the following tuples.\n",
    "* Squares of first 10 natural numbers\n",
    "* Cube of first 10 odd numbers\n",
    "* First 10 multiples of 7\n",
    "* -5, -3, -1, 1, 3"
   ]
  },
  {
   "cell_type": "markdown",
   "id": "68cf1a77",
   "metadata": {},
   "source": [
    "93. Write a program that creates a tuple of at least 10 pair if values. Count the number of pairs having both values odd."
   ]
  },
  {
   "cell_type": "markdown",
   "id": "e4d6c950",
   "metadata": {},
   "source": [
    "94. Write a program that has two tuples. Check if the first tuple is a super-set of the second tuple."
   ]
  },
  {
   "cell_type": "markdown",
   "id": "c30de8eb",
   "metadata": {},
   "source": [
    "95. Create a dictionary of products purchased and their MRPs. Calculate the bill and display to the customer."
   ]
  },
  {
   "cell_type": "markdown",
   "id": "2a50b345",
   "metadata": {},
   "source": [
    "96. Find fib(n) using dictionaries."
   ]
  },
  {
   "cell_type": "markdown",
   "id": "1e35c496",
   "metadata": {},
   "source": [
    "97. Write a program that prompts user to enter a string and returns in alphabetical order, a letter and its frequency of occurence in the string. (Ignore Case)"
   ]
  },
  {
   "cell_type": "markdown",
   "id": "54e123c7",
   "metadata": {},
   "source": [
    "98. Write a program to implement sparse matrix using a dictionary."
   ]
  },
  {
   "cell_type": "markdown",
   "id": "8e99d7a0",
   "metadata": {},
   "source": [
    "99. Write a program that has a dictionary of your friend's name (as keys) and their birthdays. Print the items in the dictionary in a sorted order. Prompt the user to enter a name and check if it is present in the dictionary. If the name does not exist, then ask the user to enter DOB. Add the details in the dictionary."
   ]
  },
  {
   "cell_type": "markdown",
   "id": "7fe1c849",
   "metadata": {},
   "source": [
    "100. Write a program that displays a menu and its price. Take the order from the customer. Check if the ordered product is in the menu. In case it is not there, the customer should be asked to reorder and if it is present then product should be added in the bill."
   ]
  },
  {
   "cell_type": "markdown",
   "id": "95699c1d",
   "metadata": {},
   "source": [
    "101. Write a program that prints the maximum and minimum value in a dictionary."
   ]
  },
  {
   "cell_type": "markdown",
   "id": "fe3d2c07",
   "metadata": {},
   "source": [
    "102. Write a program to remove duplicates from Dictionary."
   ]
  },
  {
   "cell_type": "markdown",
   "id": "509c8737",
   "metadata": {},
   "source": [
    "103. Write a program to check whether a dictionary has some key-value pairs stored in it or not."
   ]
  },
  {
   "cell_type": "markdown",
   "id": "a1dc9cd7",
   "metadata": {},
   "source": [
    "104. Write a program that display's information about an employee. Use nested dictionary to do the task."
   ]
  },
  {
   "cell_type": "markdown",
   "id": "36306901",
   "metadata": {},
   "source": [
    "105. Write a program that prints keys with same values in the dictionary."
   ]
  },
  {
   "cell_type": "markdown",
   "id": "8ef04623",
   "metadata": {},
   "source": [
    "106. Writes a program that prints keys with different values in the dictionary."
   ]
  },
  {
   "cell_type": "markdown",
   "id": "85841578",
   "metadata": {},
   "source": [
    "107. Write a program that accepts two dictionaries. Print all the keys that are present in both the dictionaries."
   ]
  },
  {
   "cell_type": "markdown",
   "id": "99c03515",
   "metadata": {},
   "source": [
    "108. Create a dictionary which has name of the student as key and his total marks as value. Now, perform the following operations on this dictionary.\n",
    "* Display the marks obtained by a particular student.\n",
    "* Display the names of all the students who scored 90 and above.\n",
    "* Display all key-value pairs sorted by keys.\n",
    "* Display all key-value pairs sorted by marks.\n",
    "* Create a list of all students.\n",
    "* Create another list having marks obtained by the students."
   ]
  },
  {
   "cell_type": "markdown",
   "id": "61bf5a68",
   "metadata": {},
   "source": [
    "109. Create a dictionary storing names of months as keys and the number of days as values."
   ]
  },
  {
   "cell_type": "markdown",
   "id": "a4b02607",
   "metadata": {},
   "source": [
    "110. Create a dictionary using nested tuple."
   ]
  },
  {
   "cell_type": "code",
   "execution_count": null,
   "id": "fec04d4d",
   "metadata": {},
   "outputs": [],
   "source": []
  }
 ],
 "metadata": {
  "kernelspec": {
   "display_name": "Python 3 (ipykernel)",
   "language": "python",
   "name": "python3"
  },
  "language_info": {
   "codemirror_mode": {
    "name": "ipython",
    "version": 3
   },
   "file_extension": ".py",
   "mimetype": "text/x-python",
   "name": "python",
   "nbconvert_exporter": "python",
   "pygments_lexer": "ipython3",
   "version": "3.10.9"
  }
 },
 "nbformat": 4,
 "nbformat_minor": 5
}
