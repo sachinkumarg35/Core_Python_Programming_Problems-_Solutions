{
 "cells": [
  {
   "cell_type": "markdown",
   "id": "cc47fffc",
   "metadata": {},
   "source": [
    "1. Modify the find_ch function so that it starts finding the character from the specified position in the string. "
   ]
  },
  {
   "cell_type": "code",
   "execution_count": 1,
   "id": "fd84833e",
   "metadata": {},
   "outputs": [
    {
     "name": "stdout",
     "output_type": "stream",
     "text": [
      "initial_strings :  abcdef   xyze \n",
      "character_to_find :  b\n",
      "Character b in string abcdef is present at 2\n",
      "No such character available in string xyze\n"
     ]
    }
   ],
   "source": [
    "# Initializing string\n",
    "ini_string = 'abcdef'\n",
    "ini_string2 = 'xyze'\n",
    "\n",
    "# Character to find\n",
    "c = \"b\"\n",
    "# printing initial string and character\n",
    "print(\"initial_strings : \", ini_string, \" \",\n",
    "\tini_string2, \"\\ncharacter_to_find : \", c)\n",
    "\n",
    "# Using find Method\n",
    "res1 = ini_string.find(c)\n",
    "res2 = ini_string2.find(c)\n",
    "\n",
    "if res1 == -1:\n",
    "\tprint(\"No such character available in string {}\".format(\n",
    "\t\tini_string))\n",
    "else:\n",
    "\tprint(\"Character {} in string {} is present at {}\".format(\n",
    "\t\tc, ini_string, str(res1 + 1)))\n",
    "\n",
    "if res2 == -1:\n",
    "\tprint(\"No such character available in string {}\".format(\n",
    "\t\tini_string2))\n",
    "else:\n",
    "\tprint(\"Character {} in string {} is present at {}\".format(\n",
    "\t\tc, ini_string2, str(res2 + 1)))"
   ]
  },
  {
   "cell_type": "markdown",
   "id": "cf6ddffc",
   "metadata": {},
   "source": [
    "2. Write a program to calculate the length of a string."
   ]
  },
  {
   "cell_type": "code",
   "execution_count": 2,
   "id": "06505b3d",
   "metadata": {},
   "outputs": [
    {
     "name": "stdout",
     "output_type": "stream",
     "text": [
      "Enter a string: Artificial Intelligence\n",
      "The length of the string is: 23\n"
     ]
    }
   ],
   "source": [
    "def calculate_length(input_string):\n",
    "    length = 0\n",
    "    for char in input_string:\n",
    "        length += 1\n",
    "    return length\n",
    "\n",
    "# Example usage\n",
    "user_input = input(\"Enter a string: \")\n",
    "length = calculate_length(user_input)\n",
    "print(f\"The length of the string is: {length}\")"
   ]
  },
  {
   "cell_type": "raw",
   "id": "650ae1a8",
   "metadata": {},
   "source": [
    "You can run this program, and it will prompt you to enter a string. After you enter the string, it will calculate and display the length of the input string."
   ]
  },
  {
   "cell_type": "markdown",
   "id": "37f13568",
   "metadata": {},
   "source": [
    "3. Write a program to count the number of vowels and consonants present in a user-inputted string."
   ]
  },
  {
   "cell_type": "code",
   "execution_count": 4,
   "id": "8bfe7a09",
   "metadata": {},
   "outputs": [
    {
     "name": "stdout",
     "output_type": "stream",
     "text": [
      "Enter a string: Laptop\n",
      "Number of vowels: 2\n",
      "Number of consonants: 4\n"
     ]
    }
   ],
   "source": [
    "def count_vowels_and_consonants(input_string):\n",
    "    vowels = \"aeiouAEIOU\"\n",
    "    vowel_count = 0\n",
    "    consonant_count = 0\n",
    "\n",
    "    for char in input_string:\n",
    "        if char.isalpha():\n",
    "            if char in vowels:\n",
    "                vowel_count += 1\n",
    "            else:\n",
    "                consonant_count += 1\n",
    "\n",
    "    return vowel_count, consonant_count\n",
    "\n",
    "# Example usage\n",
    "user_input = input(\"Enter a string: \")\n",
    "vowels, consonants = count_vowels_and_consonants(user_input)\n",
    "print(f\"Number of vowels: {vowels}\")\n",
    "print(f\"Number of consonants: {consonants}\")"
   ]
  },
  {
   "cell_type": "raw",
   "id": "16b0124b",
   "metadata": {},
   "source": [
    "When you run this program, it will prompt you to enter a string. After you enter the string, it will calculate and display the number of vowels and consonants in the input string."
   ]
  },
  {
   "cell_type": "markdown",
   "id": "bc61552e",
   "metadata": {},
   "source": [
    "4. Write a program to count the number of lower case and upper case characters present in a user-inputted string."
   ]
  },
  {
   "cell_type": "code",
   "execution_count": 5,
   "id": "d8dd2beb",
   "metadata": {},
   "outputs": [
    {
     "name": "stdout",
     "output_type": "stream",
     "text": [
      "Enter a string: Cinema\n",
      "Number of lowercase characters: 5\n",
      "Number of uppercase characters: 1\n"
     ]
    }
   ],
   "source": [
    "def count_case_characters(input_string):\n",
    "    lowercase_count = 0\n",
    "    uppercase_count = 0\n",
    "\n",
    "    for char in input_string:\n",
    "        if char.isalpha():\n",
    "            if char.islower():\n",
    "                lowercase_count += 1\n",
    "            else:\n",
    "                uppercase_count += 1\n",
    "\n",
    "    return lowercase_count, uppercase_count\n",
    "\n",
    "# Example usage\n",
    "user_input = input(\"Enter a string: \")\n",
    "lowercase, uppercase = count_case_characters(user_input)\n",
    "print(f\"Number of lowercase characters: {lowercase}\")\n",
    "print(f\"Number of uppercase characters: {uppercase}\")"
   ]
  },
  {
   "cell_type": "raw",
   "id": "d879e6d9",
   "metadata": {},
   "source": [
    "When you run this program, it will prompt you to enter a string. After you enter the string, it will calculate and display the number of lowercase and uppercase characters in the input string."
   ]
  },
  {
   "cell_type": "markdown",
   "id": "434a7479",
   "metadata": {},
   "source": [
    "5. Write a program to count the number digits, spaces and alphabets present in a user-inputted string."
   ]
  },
  {
   "cell_type": "code",
   "execution_count": 7,
   "id": "0c22299e",
   "metadata": {},
   "outputs": [
    {
     "name": "stdout",
     "output_type": "stream",
     "text": [
      "Enter a string: House Rent 5000\n",
      "Number of digits: 4\n",
      "Number of spaces: 2\n",
      "Number of alphabetic characters: 9\n"
     ]
    }
   ],
   "source": [
    "def count_characters(input_string):\n",
    "    digit_count = 0\n",
    "    space_count = 0\n",
    "    alphabet_count = 0\n",
    "\n",
    "    for char in input_string:\n",
    "        if char.isdigit():\n",
    "            digit_count += 1\n",
    "        elif char.isspace():\n",
    "            space_count += 1\n",
    "        elif char.isalpha():\n",
    "            alphabet_count += 1\n",
    "\n",
    "    return digit_count, space_count, alphabet_count\n",
    "\n",
    "# Example usage\n",
    "user_input = input(\"Enter a string: \")\n",
    "digits, spaces, alphabets = count_characters(user_input)\n",
    "print(f\"Number of digits: {digits}\")\n",
    "print(f\"Number of spaces: {spaces}\")\n",
    "print(f\"Number of alphabetic characters: {alphabets}\")"
   ]
  },
  {
   "cell_type": "raw",
   "id": "fa096e08",
   "metadata": {},
   "source": [
    "When you run this program, it will prompt you to enter a string. After you enter the string, it will calculate and display the number of digits, spaces, and alphabetic characters in the input string."
   ]
  },
  {
   "cell_type": "markdown",
   "id": "c9d9cbee",
   "metadata": {},
   "source": [
    "6. Write a Python program to get a string made of the first 2 and the last 2 chars from a given a string. If the string length is less than 2, return instead the empty string. "
   ]
  },
  {
   "cell_type": "code",
   "execution_count": 8,
   "id": "ddcb480e",
   "metadata": {},
   "outputs": [
    {
     "name": "stdout",
     "output_type": "stream",
     "text": [
      "Enter a string: Forest Officer\n",
      "Resulting string: Foer\n"
     ]
    }
   ],
   "source": [
    "def get_first_and_last_chars(input_string):\n",
    "    if len(input_string) < 2:\n",
    "        return \"\"\n",
    "    else:\n",
    "        first_chars = input_string[:2]\n",
    "        last_chars = input_string[-2:]\n",
    "        return first_chars + last_chars\n",
    "\n",
    "# Example usage\n",
    "user_input = input(\"Enter a string: \")\n",
    "result = get_first_and_last_chars(user_input)\n",
    "print(f\"Resulting string: {result}\")"
   ]
  },
  {
   "cell_type": "raw",
   "id": "6dabfcc7",
   "metadata": {},
   "source": [
    "When you run this program, it will prompt you to enter a string. It will then check the length of the input string and construct a new string containing the first two and last two characters (if the length is at least 2). If the length is less than 2, it will return an empty string. The resulting string will be displayed as output."
   ]
  },
  {
   "cell_type": "markdown",
   "id": "bb72d7a3",
   "metadata": {},
   "source": [
    "7. Write a Python program to get a string from a string where all occurences of its first char have been changed to '$', except the first char itself."
   ]
  },
  {
   "cell_type": "code",
   "execution_count": 12,
   "id": "d8f2e302",
   "metadata": {},
   "outputs": [
    {
     "name": "stdout",
     "output_type": "stream",
     "text": [
      "Enter a string: $deer\n",
      "Modified string: $deer\n"
     ]
    }
   ],
   "source": [
    "def replace_first_char_occurrences(input_string):\n",
    "    if len(input_string) < 2:\n",
    "        return input_string\n",
    "    \n",
    "    first_char = input_string[0]\n",
    "    modified_string = first_char + input_string[1:].replace(first_char, '$')\n",
    "    return modified_string\n",
    "\n",
    "# Example usage\n",
    "user_input = input(\"Enter a string: \")\n",
    "result = replace_first_char_occurrences(user_input)\n",
    "print(f\"Modified string: {result}\")"
   ]
  },
  {
   "cell_type": "raw",
   "id": "1b9ed8f8",
   "metadata": {},
   "source": [
    "When you run this program, it will prompt you to enter a string. It will then replace all occurrences of the first character (except the first character itself) with '$' and display the modified string as output. If the input string has a length less than 2, it will return the input string as is."
   ]
  },
  {
   "cell_type": "markdown",
   "id": "3f28f78a",
   "metadata": {},
   "source": [
    "8. Write a Python program to get a single string from given strings, seperated by a space and swap the first two characters of each string."
   ]
  },
  {
   "cell_type": "code",
   "execution_count": 13,
   "id": "98eb8ca4",
   "metadata": {},
   "outputs": [
    {
     "name": "stdout",
     "output_type": "stream",
     "text": [
      "Enter the number of strings: 3\n",
      "Enter string 1: Space\n",
      "Enter string 2: Enter\n",
      "Enter string 3: Tab\n",
      "Resulting string: pSace nEter aTb\n"
     ]
    }
   ],
   "source": [
    "def swap_first_two_chars(input_string):\n",
    "    if len(input_string) < 2:\n",
    "        return input_string\n",
    "    return input_string[1] + input_string[0] + input_string[2:]\n",
    "\n",
    "# Example usage\n",
    "num_strings = int(input(\"Enter the number of strings: \"))\n",
    "strings = []\n",
    "for i in range(num_strings):\n",
    "    user_input = input(f\"Enter string {i + 1}: \")\n",
    "    strings.append(swap_first_two_chars(user_input))\n",
    "\n",
    "result = \" \".join(strings)\n",
    "print(f\"Resulting string: {result}\")"
   ]
  },
  {
   "cell_type": "raw",
   "id": "c1a922f5",
   "metadata": {},
   "source": [
    "When you run this program, it will first ask you to enter the number of strings you want to input. Then, it will prompt you to enter each string. For each string, it will swap the first two characters and store the modified strings. Finally, it will concatenate the modified strings with spaces in between and display the resulting single string as output."
   ]
  },
  {
   "cell_type": "markdown",
   "id": "c3311399",
   "metadata": {},
   "source": [
    "9. Program to copy a string."
   ]
  },
  {
   "cell_type": "code",
   "execution_count": 14,
   "id": "383e7aab",
   "metadata": {},
   "outputs": [
    {
     "name": "stdout",
     "output_type": "stream",
     "text": [
      "Enter a string: Duck\n",
      "Copied string: Duck\n"
     ]
    }
   ],
   "source": [
    "def copy_string(input_string):\n",
    "    copied_string = input_string[:]\n",
    "    return copied_string\n",
    "\n",
    "# Example usage\n",
    "user_input = input(\"Enter a string: \")\n",
    "copied_result = copy_string(user_input)\n",
    "print(f\"Copied string: {copied_result}\")"
   ]
  },
  {
   "cell_type": "raw",
   "id": "667f1b68",
   "metadata": {},
   "source": [
    "When you run this program, it will prompt you to enter a string. It will then create a copy of the input string and display the copied string as output. The [:] slicing notation is used to create a new string that contains all the characters of the original string, effectively copying it."
   ]
  },
  {
   "cell_type": "markdown",
   "id": "7949f7cf",
   "metadata": {},
   "source": [
    "10. Write a Python program to add 'ing' at the end of a given string (length should be at least 3). If the given string is already ends with 'ing' then add 'ly' instead. If the string length of the given string is less than 3, leave it unchanged."
   ]
  },
  {
   "cell_type": "code",
   "execution_count": 21,
   "id": "66eb0c15",
   "metadata": {},
   "outputs": [
    {
     "name": "stdout",
     "output_type": "stream",
     "text": [
      "Enter a string: Think\n",
      "Modified string: Thinking\n"
     ]
    }
   ],
   "source": [
    "def modify_string(input_string):\n",
    "    if len(input_string) < 3:\n",
    "        return input_string\n",
    "    \n",
    "    if input_string[-3:] == 'ing':\n",
    "        modified_string = input_string + 'ly'\n",
    "    else:\n",
    "        modified_string = input_string + 'ing'\n",
    "    \n",
    "    return modified_string\n",
    "\n",
    "# Example usage\n",
    "user_input = input(\"Enter a string: \")\n",
    "modified_result = modify_string(user_input)\n",
    "print(f\"Modified string: {modified_result}\")"
   ]
  },
  {
   "cell_type": "raw",
   "id": "db083b19",
   "metadata": {},
   "source": [
    "When you run this program, it will prompt you to enter a string. It will then modify the string based on the rules you've specified and display the modified string as output. If the string length is less than 3, it will leave the string unchanged."
   ]
  },
  {
   "cell_type": "markdown",
   "id": "6dc2070b",
   "metadata": {},
   "source": [
    "11. Write a program to find the first appearances of the substring 'not' and 'poor' from a given string. If 'bad' follows the 'poor', replace the whole 'not'..'poor' substring with 'good'. Return the resulting string."
   ]
  },
  {
   "cell_type": "code",
   "execution_count": 1,
   "id": "9194cd69",
   "metadata": {},
   "outputs": [
    {
     "name": "stdout",
     "output_type": "stream",
     "text": [
      "Enter a string: sachin\n",
      "Modified string: sachin\n"
     ]
    }
   ],
   "source": [
    "def replace_substring(input_string):\n",
    "    not_index = input_string.find('not')\n",
    "    poor_index = input_string.find('poor')\n",
    "\n",
    "    if not_index != -1 and poor_index != -1 and poor_index > not_index:\n",
    "        bad_index = input_string.find('bad')\n",
    "        if bad_index != -1 and bad_index > poor_index:\n",
    "            modified_string = input_string[:not_index] + 'good' + input_string[bad_index+3:]\n",
    "        else:\n",
    "            modified_string = input_string[:not_index] + 'good' + input_string[poor_index+4:]\n",
    "    else:\n",
    "        modified_string = input_string\n",
    "\n",
    "    return modified_string\n",
    "\n",
    "# Example usage\n",
    "user_input = input(\"Enter a string: \")\n",
    "result = replace_substring(user_input)\n",
    "print(f\"Modified string: {result}\")"
   ]
  },
  {
   "cell_type": "raw",
   "id": "db4d9406",
   "metadata": {},
   "source": [
    "When you run this program, it will prompt you to enter a string. It will then search for the first appearances of the substrings 'not' and 'poor'. If 'not' is followed by 'poor' and 'bad' follows 'poor', the program will replace the substring from 'not' to 'poor' with 'good'. Finally, it will display the modified string as output."
   ]
  },
  {
   "cell_type": "markdown",
   "id": "e74b50ad",
   "metadata": {},
   "source": [
    "12. Write a function that takes a list of words and returns the length of the longest one."
   ]
  },
  {
   "cell_type": "code",
   "execution_count": 2,
   "id": "23f0b0b1",
   "metadata": {},
   "outputs": [
    {
     "name": "stdout",
     "output_type": "stream",
     "text": [
      "The length of the longest word is: 10\n"
     ]
    }
   ],
   "source": [
    "def find_longest_word_length(word_list):\n",
    "    longest_length = 0\n",
    "\n",
    "    for word in word_list:\n",
    "        word_length = len(word)\n",
    "        if word_length > longest_length:\n",
    "            longest_length = word_length\n",
    "    \n",
    "    return longest_length\n",
    "\n",
    "# Example usage\n",
    "word_list = ['apple', 'banana', 'cherry', 'grapefruit', 'orange']\n",
    "longest_length = find_longest_word_length(word_list)\n",
    "print(f\"The length of the longest word is: {longest_length}\")"
   ]
  },
  {
   "cell_type": "raw",
   "id": "70c2dec0",
   "metadata": {},
   "source": [
    "You can call the find_longest_word_length function with a list of words as an argument, and it will return the length of the longest word in the list. In the example usage provided, the function is called with a list of fruit names, and it will display the length of the longest word in the list."
   ]
  },
  {
   "cell_type": "markdown",
   "id": "ad5619f3",
   "metadata": {},
   "source": [
    "13. Write a program to remove the n^th index character from a non-empty string."
   ]
  },
  {
   "cell_type": "code",
   "execution_count": 5,
   "id": "fc7a8c61",
   "metadata": {},
   "outputs": [
    {
     "name": "stdout",
     "output_type": "stream",
     "text": [
      "Enter a string: Data Model\n",
      "Enter the index of the character to remove: 4\n",
      "Modified string: DataModel\n"
     ]
    }
   ],
   "source": [
    "def remove_nth_character(input_string, n):\n",
    "    if n < 0 or n >= len(input_string):\n",
    "        return \"Invalid index\"\n",
    "\n",
    "    modified_string = input_string[:n] + input_string[n+1:]\n",
    "    return modified_string\n",
    "\n",
    "# Example usage\n",
    "user_input = input(\"Enter a string: \")\n",
    "index = int(input(\"Enter the index of the character to remove: \"))\n",
    "result = remove_nth_character(user_input, index)\n",
    "print(f\"Modified string: {result}\")"
   ]
  },
  {
   "cell_type": "raw",
   "id": "76536d10",
   "metadata": {},
   "source": [
    "When you run this program, it will prompt you to enter a string. It will then ask you to enter the index of the character you want to remove (0-based indexing). The program will remove the character at the specified index and display the modified string as output. If the provided index is invalid (less than 0 or greater than or equal to the string length), it will return \"Invalid index\"."
   ]
  },
  {
   "cell_type": "markdown",
   "id": "ee76692c",
   "metadata": {},
   "source": [
    "14. Write a program to change a given string to a new string where the first and last chars have been exchanged."
   ]
  },
  {
   "cell_type": "code",
   "execution_count": 6,
   "id": "4d4e1ce9",
   "metadata": {},
   "outputs": [
    {
     "name": "stdout",
     "output_type": "stream",
     "text": [
      "Enter a string: Rose\n",
      "Modified string: eosR\n"
     ]
    }
   ],
   "source": [
    "def swap_first_and_last(input_string):\n",
    "    if len(input_string) <= 1:\n",
    "        return input_string\n",
    "\n",
    "    first_char = input_string[0]\n",
    "    last_char = input_string[-1]\n",
    "    modified_string = last_char + input_string[1:-1] + first_char\n",
    "    return modified_string\n",
    "\n",
    "# Example usage\n",
    "user_input = input(\"Enter a string: \")\n",
    "result = swap_first_and_last(user_input)\n",
    "print(f\"Modified string: {result}\")"
   ]
  },
  {
   "cell_type": "raw",
   "id": "2d6fdf3b",
   "metadata": {},
   "source": [
    "When you run this program, it will prompt you to enter a string. It will then swap the first and last characters of the input string (if the length of the string is greater than 1) and display the modified string as output. If the string length is 1 or less, the function will return the input string as is."
   ]
  },
  {
   "cell_type": "markdown",
   "id": "62b53001",
   "metadata": {},
   "source": [
    "15. Write a program to remove the characters that have odd index values of a given string."
   ]
  },
  {
   "cell_type": "code",
   "execution_count": 7,
   "id": "ae2851bb",
   "metadata": {},
   "outputs": [
    {
     "name": "stdout",
     "output_type": "stream",
     "text": [
      "Enter a string: Duck\n",
      "Modified string: Dc\n"
     ]
    }
   ],
   "source": [
    "def remove_odd_index_characters(input_string):\n",
    "    modified_string = input_string[::2]\n",
    "    return modified_string\n",
    "\n",
    "# Example usage\n",
    "user_input = input(\"Enter a string: \")\n",
    "result = remove_odd_index_characters(user_input)\n",
    "print(f\"Modified string: {result}\")"
   ]
  },
  {
   "cell_type": "raw",
   "id": "240b9a10",
   "metadata": {},
   "source": [
    "When you run this program, it will prompt you to enter a string. It will then create a modified string by taking every character at even index positions (0-based indexing) from the input string. The resulting string will have characters only from even index positions, effectively removing characters at odd index positions, and it will be displayed as output."
   ]
  },
  {
   "cell_type": "markdown",
   "id": "ab94388e",
   "metadata": {},
   "source": [
    "16. Write a program to count the occurences of each word in a given sentence."
   ]
  },
  {
   "cell_type": "code",
   "execution_count": 9,
   "id": "6ad25a38",
   "metadata": {},
   "outputs": [
    {
     "name": "stdout",
     "output_type": "stream",
     "text": [
      "Enter a sentence: Forest Word\n",
      "Word occurrences:\n",
      "'Forest': 1\n",
      "'Word': 1\n"
     ]
    }
   ],
   "source": [
    "def count_word_occurrences(sentence):\n",
    "    words = sentence.split()\n",
    "    word_count = {}\n",
    "\n",
    "    for word in words:\n",
    "        if word in word_count:\n",
    "            word_count[word] += 1\n",
    "        else:\n",
    "            word_count[word] = 1\n",
    "    \n",
    "    return word_count\n",
    "\n",
    "# Example usage\n",
    "user_input = input(\"Enter a sentence: \")\n",
    "word_occurrences = count_word_occurrences(user_input)\n",
    "\n",
    "print(\"Word occurrences:\")\n",
    "for word, count in word_occurrences.items():\n",
    "    print(f\"'{word}': {count}\")"
   ]
  },
  {
   "cell_type": "raw",
   "id": "98370b65",
   "metadata": {},
   "source": [
    "When you run this program, it will prompt you to enter a sentence. It will then split the sentence into individual words and count the occurrences of each word. Finally, it will display the word occurrences with their respective counts."
   ]
  },
  {
   "cell_type": "markdown",
   "id": "c4bf3395",
   "metadata": {},
   "source": [
    "17. Write a program that accepts a comma separated sequence of words as input and prints the unique words in sorted form (alphabetically)."
   ]
  },
  {
   "cell_type": "code",
   "execution_count": 10,
   "id": "bdd4b480",
   "metadata": {},
   "outputs": [
    {
     "name": "stdout",
     "output_type": "stream",
     "text": [
      "Enter a comma-separated sequence of words: S,a,c,h,i,n\n",
      "Unique words in sorted order:\n",
      "S\n",
      "a\n",
      "c\n",
      "h\n",
      "i\n",
      "n\n"
     ]
    }
   ],
   "source": [
    "def print_unique_sorted_words(input_sequence):\n",
    "    words = input_sequence.split(',')\n",
    "    unique_words = set(words)\n",
    "    sorted_unique_words = sorted(unique_words)\n",
    "    \n",
    "    print(\"Unique words in sorted order:\")\n",
    "    for word in sorted_unique_words:\n",
    "        print(word.strip())  # Remove leading/trailing spaces if any\n",
    "\n",
    "# Example usage\n",
    "user_input = input(\"Enter a comma-separated sequence of words: \")\n",
    "print_unique_sorted_words(user_input)"
   ]
  },
  {
   "cell_type": "raw",
   "id": "a929a3dd",
   "metadata": {},
   "source": [
    "When you run this program, it will prompt you to enter a comma-separated sequence of words. It will then extract the words, remove duplicates, sort them alphabetically, and print each unique word in sorted order."
   ]
  },
  {
   "cell_type": "markdown",
   "id": "19c54c85",
   "metadata": {},
   "source": [
    "18. Write a function to insert a string in the middle of a string."
   ]
  },
  {
   "cell_type": "code",
   "execution_count": 11,
   "id": "33792163",
   "metadata": {},
   "outputs": [
    {
     "name": "stdout",
     "output_type": "stream",
     "text": [
      "Enter the main string: Structure\n",
      "Enter the string to insert: /\n",
      "Modified string: Stru/cture\n"
     ]
    }
   ],
   "source": [
    "def insert_in_middle(main_string, insert_string):\n",
    "    middle_index = len(main_string) // 2\n",
    "    modified_string = main_string[:middle_index] + insert_string + main_string[middle_index:]\n",
    "    return modified_string\n",
    "\n",
    "# Example usage\n",
    "main_string = input(\"Enter the main string: \")\n",
    "insert_string = input(\"Enter the string to insert: \")\n",
    "result = insert_in_middle(main_string, insert_string)\n",
    "print(f\"Modified string: {result}\")"
   ]
  },
  {
   "cell_type": "raw",
   "id": "b0918338",
   "metadata": {},
   "source": [
    "When you run this program, it will prompt you to enter the main string and the string you want to insert. The function insert_in_middle will then insert the given string in the middle of the main string and return the modified string. The modified string will be displayed as output."
   ]
  },
  {
   "cell_type": "markdown",
   "id": "65356590",
   "metadata": {},
   "source": [
    "19. Write a function to get a string made of 4 copies of the last two characters of a specified string (length must be at least 2)."
   ]
  },
  {
   "cell_type": "code",
   "execution_count": 12,
   "id": "6dc6e3ee",
   "metadata": {},
   "outputs": [
    {
     "name": "stdout",
     "output_type": "stream",
     "text": [
      "Enter a string (length at least 2): Dynamic\n",
      "Resulting string: icicicic\n"
     ]
    }
   ],
   "source": [
    "def get_last_two_characters(input_string):\n",
    "    if len(input_string) < 2:\n",
    "        return \"String length must be at least 2\"\n",
    "    \n",
    "    last_two_chars = input_string[-2:]\n",
    "    result_string = last_two_chars * 4\n",
    "    return result_string\n",
    "\n",
    "# Example usage\n",
    "user_input = input(\"Enter a string (length at least 2): \")\n",
    "result = get_last_two_characters(user_input)\n",
    "print(f\"Resulting string: {result}\")"
   ]
  },
  {
   "cell_type": "raw",
   "id": "6cdc49e3",
   "metadata": {},
   "source": [
    "When you run this program, it will prompt you to enter a string with a length of at least 2 characters. The function get_last_two_characters will then create a new string containing 4 copies of the last two characters of the input string and return the result. The resulting string will be displayed as output."
   ]
  },
  {
   "cell_type": "markdown",
   "id": "bcfab40d",
   "metadata": {},
   "source": [
    "20. Write a function to get a string made of its first three characters of a specified string. If the length of the string is less than 3 then return the original string."
   ]
  },
  {
   "cell_type": "code",
   "execution_count": 13,
   "id": "26043f2f",
   "metadata": {},
   "outputs": [
    {
     "name": "stdout",
     "output_type": "stream",
     "text": [
      "Enter a string: Statistics\n",
      "Resulting string: Sta\n"
     ]
    }
   ],
   "source": [
    "def get_first_three_characters(input_string):\n",
    "    if len(input_string) < 3:\n",
    "        return input_string\n",
    "    else:\n",
    "        return input_string[:3]\n",
    "\n",
    "# Example usage\n",
    "user_input = input(\"Enter a string: \")\n",
    "result = get_first_three_characters(user_input)\n",
    "print(f\"Resulting string: {result}\")"
   ]
  },
  {
   "cell_type": "raw",
   "id": "e3a0d61c",
   "metadata": {},
   "source": [
    "When you run this program, it will prompt you to enter a string. The function get_first_three_characters will then create a new string containing the first three characters of the input string, unless the length of the string is less than 3, in which case it will return the original string. The resulting string will be displayed as output."
   ]
  },
  {
   "cell_type": "markdown",
   "id": "3fa267d6",
   "metadata": {},
   "source": [
    "21. Write a function to get the first half of a specified string of even length."
   ]
  },
  {
   "cell_type": "code",
   "execution_count": 14,
   "id": "27e16f69",
   "metadata": {},
   "outputs": [
    {
     "name": "stdout",
     "output_type": "stream",
     "text": [
      "Enter a string: Word Count\n",
      "Resulting string: Word \n"
     ]
    }
   ],
   "source": [
    "def get_first_half_even_length(input_string):\n",
    "    if len(input_string) % 2 == 0:\n",
    "        half_length = len(input_string) // 2\n",
    "        return input_string[:half_length]\n",
    "    else:\n",
    "        return \"String length is not even\"\n",
    "\n",
    "# Example usage\n",
    "user_input = input(\"Enter a string: \")\n",
    "result = get_first_half_even_length(user_input)\n",
    "print(f\"Resulting string: {result}\")"
   ]
  },
  {
   "cell_type": "raw",
   "id": "44efa8f2",
   "metadata": {},
   "source": [
    "When you run this program, it will prompt you to enter a string. The function get_first_half_even_length will then check if the length of the input string is even. If it's even, it will return the first half of the input string. If the length is not even, it will return a message indicating that the string length is not even. The resulting string or message will be displayed as output."
   ]
  },
  {
   "cell_type": "markdown",
   "id": "22d40e30",
   "metadata": {},
   "source": [
    "22. Write a function to reverses a string if its length is a multiple of 4."
   ]
  },
  {
   "cell_type": "code",
   "execution_count": 17,
   "id": "48926ba9",
   "metadata": {},
   "outputs": [
    {
     "name": "stdout",
     "output_type": "stream",
     "text": [
      "Enter a string: high\n",
      "Resulting string: hgih\n"
     ]
    }
   ],
   "source": [
    "def reverse_string_if_multiple_of_four(input_string):\n",
    "    if len(input_string) % 4 == 0:\n",
    "        return input_string[::-1]  # Reverse the string using slicing\n",
    "    else:\n",
    "        return input_string\n",
    "\n",
    "# Example usage\n",
    "user_input = input(\"Enter a string: \")\n",
    "result = reverse_string_if_multiple_of_four(user_input)\n",
    "print(f\"Resulting string: {result}\")"
   ]
  },
  {
   "cell_type": "raw",
   "id": "2dae7950",
   "metadata": {},
   "source": [
    "When you run this program, it will prompt you to enter a string. The function reverse_string_if_multiple_of_four will then check if the length of the input string is a multiple of 4. If it is, it will reverse the string using slicing. If the length is not a multiple of 4, it will return the original string. The resulting string will be displayed as output."
   ]
  },
  {
   "cell_type": "markdown",
   "id": "6736b9e1",
   "metadata": {},
   "source": [
    "23. Write a function to convert a given string to all uppercase if it contains at least 2 uppercase characters in the first 4 characters."
   ]
  },
  {
   "cell_type": "code",
   "execution_count": 18,
   "id": "683c6d1d",
   "metadata": {},
   "outputs": [
    {
     "name": "stdout",
     "output_type": "stream",
     "text": [
      "Enter a string: FORT Super\n",
      "Resulting string: FORT SUPER\n"
     ]
    }
   ],
   "source": [
    "def convert_to_uppercase_if_condition_met(input_string):\n",
    "    if len(input_string) >= 4:\n",
    "        uppercase_count = sum(1 for char in input_string[:4] if char.isupper())\n",
    "        if uppercase_count >= 2:\n",
    "            return input_string.upper()\n",
    "    \n",
    "    return input_string\n",
    "\n",
    "# Example usage\n",
    "user_input = input(\"Enter a string: \")\n",
    "result = convert_to_uppercase_if_condition_met(user_input)\n",
    "print(f\"Resulting string: {result}\")"
   ]
  },
  {
   "cell_type": "raw",
   "id": "31649695",
   "metadata": {},
   "source": [
    "When you run this program, it will prompt you to enter a string. The function convert_to_uppercase_if_condition_met will then check if the string has at least 4 characters and if there are at least 2 uppercase characters among the first 4 characters. If the condition is met, it will convert the entire string to uppercase. Otherwise, it will return the original string. The resulting string will be displayed as output."
   ]
  },
  {
   "cell_type": "markdown",
   "id": "2a9f1db7",
   "metadata": {},
   "source": [
    "24. Write a program to sort a string lexicographically."
   ]
  },
  {
   "cell_type": "code",
   "execution_count": 19,
   "id": "54304904",
   "metadata": {},
   "outputs": [
    {
     "name": "stdout",
     "output_type": "stream",
     "text": [
      "Enter a string: Gold \n",
      "Lexicographically sorted string:  Gdlo\n"
     ]
    }
   ],
   "source": [
    "def lexicographic_sort(input_string):\n",
    "    sorted_string = ''.join(sorted(input_string))\n",
    "    return sorted_string\n",
    "\n",
    "# Example usage\n",
    "user_input = input(\"Enter a string: \")\n",
    "result = lexicographic_sort(user_input)\n",
    "print(f\"Lexicographically sorted string: {result}\")"
   ]
  },
  {
   "cell_type": "raw",
   "id": "3a75c4dc",
   "metadata": {},
   "source": [
    "When you run this program, it will prompt you to enter a string. The function lexicographic_sort will then sort the characters of the input string lexicographically and return the sorted string. The lexicographically sorted string will be displayed as output."
   ]
  },
  {
   "cell_type": "markdown",
   "id": "ec218179",
   "metadata": {},
   "source": [
    "25. Write a program to remove newline characters from text."
   ]
  },
  {
   "cell_type": "code",
   "execution_count": 21,
   "id": "c5bb20d0",
   "metadata": {},
   "outputs": [
    {
     "name": "stdout",
     "output_type": "stream",
     "text": [
      "Enter text with newline characters: duck deer\n",
      "Text without newline characters: duck deer\n"
     ]
    }
   ],
   "source": [
    "def remove_newlines(text):\n",
    "    cleaned_text = text.replace('\\n', '')\n",
    "    return cleaned_text\n",
    "\n",
    "# Example usage\n",
    "user_input = input(\"Enter text with newline characters: \")\n",
    "result = remove_newlines(user_input)\n",
    "print(f\"Text without newline characters: {result}\")"
   ]
  },
  {
   "cell_type": "raw",
   "id": "37b207ff",
   "metadata": {},
   "source": [
    "When you run this program, it will prompt you to enter text that may contain newline characters. The function remove_newlines will then replace all newline characters (\\n) with an empty string, effectively removing them from the text. The resulting text without newline characters will be displayed as output."
   ]
  },
  {
   "cell_type": "markdown",
   "id": "001bdb54",
   "metadata": {},
   "source": [
    "26. Write a program to check whether a string starts with specified characters."
   ]
  },
  {
   "cell_type": "code",
   "execution_count": null,
   "id": "b8e3f1f9",
   "metadata": {},
   "outputs": [],
   "source": []
  },
  {
   "cell_type": "code",
   "execution_count": null,
   "id": "cd0e313c",
   "metadata": {},
   "outputs": [],
   "source": []
  },
  {
   "cell_type": "markdown",
   "id": "e8110ad0",
   "metadata": {},
   "source": [
    "27. Write a program to remove existing indentation from all of the lines in a given text."
   ]
  },
  {
   "cell_type": "code",
   "execution_count": null,
   "id": "8b4696df",
   "metadata": {},
   "outputs": [],
   "source": []
  },
  {
   "cell_type": "code",
   "execution_count": null,
   "id": "6419d052",
   "metadata": {},
   "outputs": [],
   "source": []
  },
  {
   "cell_type": "markdown",
   "id": "ce9b77e8",
   "metadata": {},
   "source": [
    "28. Write a program to add a prefix text to all of the lines in a string."
   ]
  },
  {
   "cell_type": "code",
   "execution_count": null,
   "id": "b27634fa",
   "metadata": {},
   "outputs": [],
   "source": []
  },
  {
   "cell_type": "code",
   "execution_count": null,
   "id": "7c5ba8f5",
   "metadata": {},
   "outputs": [],
   "source": []
  },
  {
   "cell_type": "markdown",
   "id": "380f33c5",
   "metadata": {},
   "source": [
    "29. Write a program to set the indentation of the first line."
   ]
  },
  {
   "cell_type": "code",
   "execution_count": null,
   "id": "b6fbef67",
   "metadata": {},
   "outputs": [],
   "source": []
  },
  {
   "cell_type": "code",
   "execution_count": null,
   "id": "4f7e41f0",
   "metadata": {},
   "outputs": [],
   "source": []
  },
  {
   "cell_type": "markdown",
   "id": "d7c4df75",
   "metadata": {},
   "source": [
    "30. Write a program to print floating numbers up to 2 decimal places."
   ]
  },
  {
   "cell_type": "code",
   "execution_count": null,
   "id": "028c0c58",
   "metadata": {},
   "outputs": [],
   "source": []
  },
  {
   "cell_type": "code",
   "execution_count": null,
   "id": "c48bd6a5",
   "metadata": {},
   "outputs": [],
   "source": []
  },
  {
   "cell_type": "markdown",
   "id": "1c609e8e",
   "metadata": {},
   "source": [
    "31. Write a program to print floating numbers up to 2 decimal places. with sign. "
   ]
  },
  {
   "cell_type": "code",
   "execution_count": null,
   "id": "f3cbc375",
   "metadata": {},
   "outputs": [],
   "source": []
  },
  {
   "cell_type": "code",
   "execution_count": null,
   "id": "d6383ff3",
   "metadata": {},
   "outputs": [],
   "source": []
  },
  {
   "cell_type": "markdown",
   "id": "1ba81d42",
   "metadata": {},
   "source": [
    "32. Write a program to print floating numbers with no decimal places."
   ]
  },
  {
   "cell_type": "code",
   "execution_count": null,
   "id": "2c69b9b2",
   "metadata": {},
   "outputs": [],
   "source": []
  },
  {
   "cell_type": "code",
   "execution_count": null,
   "id": "c9d491a6",
   "metadata": {},
   "outputs": [],
   "source": []
  },
  {
   "cell_type": "markdown",
   "id": "0bcf72af",
   "metadata": {},
   "source": [
    "33. Write a program to print integers with zeros on the left of specified width."
   ]
  },
  {
   "cell_type": "code",
   "execution_count": null,
   "id": "6451d947",
   "metadata": {},
   "outputs": [],
   "source": []
  },
  {
   "cell_type": "code",
   "execution_count": null,
   "id": "4a13c0a5",
   "metadata": {},
   "outputs": [],
   "source": []
  },
  {
   "cell_type": "markdown",
   "id": "e44d3e05",
   "metadata": {},
   "source": [
    "34. Write a program to print integers with '*' on the right of specified width."
   ]
  },
  {
   "cell_type": "code",
   "execution_count": null,
   "id": "dc433892",
   "metadata": {},
   "outputs": [],
   "source": []
  },
  {
   "cell_type": "code",
   "execution_count": null,
   "id": "7b7e18aa",
   "metadata": {},
   "outputs": [],
   "source": []
  },
  {
   "cell_type": "markdown",
   "id": "e58d24f1",
   "metadata": {},
   "source": [
    "35. Write a program to display a number with comma separator."
   ]
  },
  {
   "cell_type": "code",
   "execution_count": null,
   "id": "90136746",
   "metadata": {},
   "outputs": [],
   "source": []
  },
  {
   "cell_type": "code",
   "execution_count": null,
   "id": "fbdc63e8",
   "metadata": {},
   "outputs": [],
   "source": []
  },
  {
   "cell_type": "markdown",
   "id": "0aef5d0f",
   "metadata": {},
   "source": [
    "36. Write a program to format a number with percentage."
   ]
  },
  {
   "cell_type": "code",
   "execution_count": null,
   "id": "09ce07e0",
   "metadata": {},
   "outputs": [],
   "source": []
  },
  {
   "cell_type": "code",
   "execution_count": null,
   "id": "b60c9c05",
   "metadata": {},
   "outputs": [],
   "source": []
  },
  {
   "cell_type": "markdown",
   "id": "31bd673c",
   "metadata": {},
   "source": [
    "37. Write a program to display a number in left, right and centre aligned of width 10. Write a program to reverse words in string."
   ]
  },
  {
   "cell_type": "code",
   "execution_count": null,
   "id": "131865fa",
   "metadata": {},
   "outputs": [],
   "source": []
  },
  {
   "cell_type": "code",
   "execution_count": null,
   "id": "4c285763",
   "metadata": {},
   "outputs": [],
   "source": []
  },
  {
   "cell_type": "markdown",
   "id": "cc26eece",
   "metadata": {},
   "source": [
    "38. Write a program to strip a set of characters from a string."
   ]
  },
  {
   "cell_type": "code",
   "execution_count": null,
   "id": "eef879a4",
   "metadata": {},
   "outputs": [],
   "source": []
  },
  {
   "cell_type": "code",
   "execution_count": null,
   "id": "5c977b69",
   "metadata": {},
   "outputs": [],
   "source": []
  },
  {
   "cell_type": "markdown",
   "id": "b1c09e88",
   "metadata": {},
   "source": [
    "39. Write a program to create a mirror of the given string. For example, \"abc\" = \"abccba\"."
   ]
  },
  {
   "cell_type": "code",
   "execution_count": null,
   "id": "5bf7ff17",
   "metadata": {},
   "outputs": [],
   "source": []
  },
  {
   "cell_type": "code",
   "execution_count": null,
   "id": "7b5be52e",
   "metadata": {},
   "outputs": [],
   "source": []
  },
  {
   "cell_type": "markdown",
   "id": "f98b067d",
   "metadata": {},
   "source": [
    "40. Write a program that removes all the occurences of a specified character from a given string."
   ]
  },
  {
   "cell_type": "code",
   "execution_count": null,
   "id": "cdb0ebbd",
   "metadata": {},
   "outputs": [],
   "source": []
  },
  {
   "cell_type": "code",
   "execution_count": null,
   "id": "13ab9621",
   "metadata": {},
   "outputs": [],
   "source": []
  },
  {
   "cell_type": "markdown",
   "id": "8dda1795",
   "metadata": {},
   "source": [
    "41. Write a program to check whether a string is palindrome or not."
   ]
  },
  {
   "cell_type": "code",
   "execution_count": null,
   "id": "7390948a",
   "metadata": {},
   "outputs": [],
   "source": []
  },
  {
   "cell_type": "code",
   "execution_count": null,
   "id": "108728fa",
   "metadata": {},
   "outputs": [],
   "source": []
  },
  {
   "cell_type": "markdown",
   "id": "dce37d8c",
   "metadata": {},
   "source": [
    "42. Write a program to remove all the occurences of a given word from the string."
   ]
  },
  {
   "cell_type": "code",
   "execution_count": null,
   "id": "08374dc3",
   "metadata": {},
   "outputs": [],
   "source": []
  },
  {
   "cell_type": "code",
   "execution_count": null,
   "id": "ddc89023",
   "metadata": {},
   "outputs": [],
   "source": []
  },
  {
   "cell_type": "markdown",
   "id": "18f2d501",
   "metadata": {},
   "source": [
    "43. Write a program to concatenate two strings in a third string. Do not use + operator."
   ]
  },
  {
   "cell_type": "code",
   "execution_count": null,
   "id": "09170ddc",
   "metadata": {},
   "outputs": [],
   "source": []
  },
  {
   "cell_type": "code",
   "execution_count": null,
   "id": "ad1efb8b",
   "metadata": {},
   "outputs": [],
   "source": []
  },
  {
   "cell_type": "markdown",
   "id": "33a73285",
   "metadata": {},
   "source": [
    "44. Write a program to append a string to another string. Do not use += operator"
   ]
  },
  {
   "cell_type": "code",
   "execution_count": null,
   "id": "b050a163",
   "metadata": {},
   "outputs": [],
   "source": []
  },
  {
   "cell_type": "code",
   "execution_count": null,
   "id": "83238a07",
   "metadata": {},
   "outputs": [],
   "source": []
  },
  {
   "cell_type": "markdown",
   "id": "01a9cc74",
   "metadata": {},
   "source": [
    "45. Write a program to swap the two strings."
   ]
  },
  {
   "cell_type": "code",
   "execution_count": null,
   "id": "fc8cfedf",
   "metadata": {},
   "outputs": [],
   "source": []
  },
  {
   "cell_type": "code",
   "execution_count": null,
   "id": "d86364a8",
   "metadata": {},
   "outputs": [],
   "source": []
  },
  {
   "cell_type": "markdown",
   "id": "6e3e7818",
   "metadata": {},
   "source": [
    "46. Write a program to insert a string in another string."
   ]
  },
  {
   "cell_type": "code",
   "execution_count": null,
   "id": "38075200",
   "metadata": {},
   "outputs": [],
   "source": []
  },
  {
   "cell_type": "code",
   "execution_count": null,
   "id": "e6a5b3fe",
   "metadata": {},
   "outputs": [],
   "source": []
  },
  {
   "cell_type": "markdown",
   "id": "e017cfd1",
   "metadata": {},
   "source": [
    "47. Write a program to delete a string from another string."
   ]
  },
  {
   "cell_type": "code",
   "execution_count": null,
   "id": "46e8bb09",
   "metadata": {},
   "outputs": [],
   "source": []
  },
  {
   "cell_type": "code",
   "execution_count": null,
   "id": "679f4178",
   "metadata": {},
   "outputs": [],
   "source": []
  },
  {
   "cell_type": "markdown",
   "id": "59ca32b3",
   "metadata": {},
   "source": [
    "48. Write a program to replace a string with another string. Do not use the replace()"
   ]
  },
  {
   "cell_type": "code",
   "execution_count": null,
   "id": "0a611188",
   "metadata": {},
   "outputs": [],
   "source": []
  },
  {
   "cell_type": "code",
   "execution_count": null,
   "id": "b48dce51",
   "metadata": {},
   "outputs": [],
   "source": []
  },
  {
   "cell_type": "markdown",
   "id": "a7eef1eb",
   "metadata": {},
   "source": [
    "49. Write a program that removes leading and trailing spaces from a string."
   ]
  },
  {
   "cell_type": "code",
   "execution_count": null,
   "id": "bb50f05d",
   "metadata": {},
   "outputs": [],
   "source": []
  },
  {
   "cell_type": "code",
   "execution_count": null,
   "id": "6f28bda4",
   "metadata": {},
   "outputs": [],
   "source": []
  },
  {
   "cell_type": "markdown",
   "id": "4918f465",
   "metadata": {},
   "source": [
    "50. Write a program to read a name and then display it in abbreviated form, like Janak Raj Thareja should be displayed as JRT."
   ]
  },
  {
   "cell_type": "code",
   "execution_count": null,
   "id": "b49ef66d",
   "metadata": {},
   "outputs": [],
   "source": []
  },
  {
   "cell_type": "code",
   "execution_count": null,
   "id": "e3973f57",
   "metadata": {},
   "outputs": [],
   "source": []
  },
  {
   "cell_type": "code",
   "execution_count": null,
   "id": "bf9647f5",
   "metadata": {},
   "outputs": [],
   "source": []
  }
 ],
 "metadata": {
  "kernelspec": {
   "display_name": "Python 3 (ipykernel)",
   "language": "python",
   "name": "python3"
  },
  "language_info": {
   "codemirror_mode": {
    "name": "ipython",
    "version": 3
   },
   "file_extension": ".py",
   "mimetype": "text/x-python",
   "name": "python",
   "nbconvert_exporter": "python",
   "pygments_lexer": "ipython3",
   "version": "3.11.4"
  }
 },
 "nbformat": 4,
 "nbformat_minor": 5
}
