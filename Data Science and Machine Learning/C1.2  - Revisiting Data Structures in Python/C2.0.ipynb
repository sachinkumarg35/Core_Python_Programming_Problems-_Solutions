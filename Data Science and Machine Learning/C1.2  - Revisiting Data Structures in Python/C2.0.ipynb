{
 "cells": [
  {
   "cell_type": "markdown",
   "id": "cc47fffc",
   "metadata": {},
   "source": [
    "1. Modify the find_ch function so that it starts finding the character from the specified position in the string. "
   ]
  },
  {
   "cell_type": "code",
   "execution_count": 1,
   "id": "fd84833e",
   "metadata": {},
   "outputs": [
    {
     "name": "stdout",
     "output_type": "stream",
     "text": [
      "initial_strings :  abcdef   xyze \n",
      "character_to_find :  b\n",
      "Character b in string abcdef is present at 2\n",
      "No such character available in string xyze\n"
     ]
    }
   ],
   "source": [
    "# Initializing string\n",
    "ini_string = 'abcdef'\n",
    "ini_string2 = 'xyze'\n",
    "\n",
    "# Character to find\n",
    "c = \"b\"\n",
    "# printing initial string and character\n",
    "print(\"initial_strings : \", ini_string, \" \",\n",
    "\tini_string2, \"\\ncharacter_to_find : \", c)\n",
    "\n",
    "# Using find Method\n",
    "res1 = ini_string.find(c)\n",
    "res2 = ini_string2.find(c)\n",
    "\n",
    "if res1 == -1:\n",
    "\tprint(\"No such character available in string {}\".format(\n",
    "\t\tini_string))\n",
    "else:\n",
    "\tprint(\"Character {} in string {} is present at {}\".format(\n",
    "\t\tc, ini_string, str(res1 + 1)))\n",
    "\n",
    "if res2 == -1:\n",
    "\tprint(\"No such character available in string {}\".format(\n",
    "\t\tini_string2))\n",
    "else:\n",
    "\tprint(\"Character {} in string {} is present at {}\".format(\n",
    "\t\tc, ini_string2, str(res2 + 1)))"
   ]
  },
  {
   "cell_type": "markdown",
   "id": "cf6ddffc",
   "metadata": {},
   "source": [
    "2. Write a program to calculate the length of a string."
   ]
  },
  {
   "cell_type": "code",
   "execution_count": 2,
   "id": "06505b3d",
   "metadata": {},
   "outputs": [
    {
     "name": "stdout",
     "output_type": "stream",
     "text": [
      "Enter a string: Artificial Intelligence\n",
      "The length of the string is: 23\n"
     ]
    }
   ],
   "source": [
    "def calculate_length(input_string):\n",
    "    length = 0\n",
    "    for char in input_string:\n",
    "        length += 1\n",
    "    return length\n",
    "\n",
    "# Example usage\n",
    "user_input = input(\"Enter a string: \")\n",
    "length = calculate_length(user_input)\n",
    "print(f\"The length of the string is: {length}\")"
   ]
  },
  {
   "cell_type": "raw",
   "id": "650ae1a8",
   "metadata": {},
   "source": [
    "You can run this program, and it will prompt you to enter a string. After you enter the string, it will calculate and display the length of the input string."
   ]
  },
  {
   "cell_type": "markdown",
   "id": "37f13568",
   "metadata": {},
   "source": [
    "3. Write a program to count the number of vowels and consonants present in a user-inputted string."
   ]
  },
  {
   "cell_type": "code",
   "execution_count": 4,
   "id": "8bfe7a09",
   "metadata": {},
   "outputs": [
    {
     "name": "stdout",
     "output_type": "stream",
     "text": [
      "Enter a string: Laptop\n",
      "Number of vowels: 2\n",
      "Number of consonants: 4\n"
     ]
    }
   ],
   "source": [
    "def count_vowels_and_consonants(input_string):\n",
    "    vowels = \"aeiouAEIOU\"\n",
    "    vowel_count = 0\n",
    "    consonant_count = 0\n",
    "\n",
    "    for char in input_string:\n",
    "        if char.isalpha():\n",
    "            if char in vowels:\n",
    "                vowel_count += 1\n",
    "            else:\n",
    "                consonant_count += 1\n",
    "\n",
    "    return vowel_count, consonant_count\n",
    "\n",
    "# Example usage\n",
    "user_input = input(\"Enter a string: \")\n",
    "vowels, consonants = count_vowels_and_consonants(user_input)\n",
    "print(f\"Number of vowels: {vowels}\")\n",
    "print(f\"Number of consonants: {consonants}\")"
   ]
  },
  {
   "cell_type": "raw",
   "id": "16b0124b",
   "metadata": {},
   "source": [
    "When you run this program, it will prompt you to enter a string. After you enter the string, it will calculate and display the number of vowels and consonants in the input string."
   ]
  },
  {
   "cell_type": "markdown",
   "id": "bc61552e",
   "metadata": {},
   "source": [
    "4. Write a program to count the number of lower case and upper case characters present in a user-inputted string."
   ]
  },
  {
   "cell_type": "code",
   "execution_count": 5,
   "id": "d8dd2beb",
   "metadata": {},
   "outputs": [
    {
     "name": "stdout",
     "output_type": "stream",
     "text": [
      "Enter a string: Cinema\n",
      "Number of lowercase characters: 5\n",
      "Number of uppercase characters: 1\n"
     ]
    }
   ],
   "source": [
    "def count_case_characters(input_string):\n",
    "    lowercase_count = 0\n",
    "    uppercase_count = 0\n",
    "\n",
    "    for char in input_string:\n",
    "        if char.isalpha():\n",
    "            if char.islower():\n",
    "                lowercase_count += 1\n",
    "            else:\n",
    "                uppercase_count += 1\n",
    "\n",
    "    return lowercase_count, uppercase_count\n",
    "\n",
    "# Example usage\n",
    "user_input = input(\"Enter a string: \")\n",
    "lowercase, uppercase = count_case_characters(user_input)\n",
    "print(f\"Number of lowercase characters: {lowercase}\")\n",
    "print(f\"Number of uppercase characters: {uppercase}\")"
   ]
  },
  {
   "cell_type": "raw",
   "id": "d879e6d9",
   "metadata": {},
   "source": [
    "When you run this program, it will prompt you to enter a string. After you enter the string, it will calculate and display the number of lowercase and uppercase characters in the input string."
   ]
  },
  {
   "cell_type": "markdown",
   "id": "434a7479",
   "metadata": {},
   "source": [
    "5. Write a program to count the number digits, spaces and alphabets present in a user-inputted string."
   ]
  },
  {
   "cell_type": "code",
   "execution_count": 7,
   "id": "0c22299e",
   "metadata": {},
   "outputs": [
    {
     "name": "stdout",
     "output_type": "stream",
     "text": [
      "Enter a string: House Rent 5000\n",
      "Number of digits: 4\n",
      "Number of spaces: 2\n",
      "Number of alphabetic characters: 9\n"
     ]
    }
   ],
   "source": [
    "def count_characters(input_string):\n",
    "    digit_count = 0\n",
    "    space_count = 0\n",
    "    alphabet_count = 0\n",
    "\n",
    "    for char in input_string:\n",
    "        if char.isdigit():\n",
    "            digit_count += 1\n",
    "        elif char.isspace():\n",
    "            space_count += 1\n",
    "        elif char.isalpha():\n",
    "            alphabet_count += 1\n",
    "\n",
    "    return digit_count, space_count, alphabet_count\n",
    "\n",
    "# Example usage\n",
    "user_input = input(\"Enter a string: \")\n",
    "digits, spaces, alphabets = count_characters(user_input)\n",
    "print(f\"Number of digits: {digits}\")\n",
    "print(f\"Number of spaces: {spaces}\")\n",
    "print(f\"Number of alphabetic characters: {alphabets}\")"
   ]
  },
  {
   "cell_type": "raw",
   "id": "fa096e08",
   "metadata": {},
   "source": [
    "When you run this program, it will prompt you to enter a string. After you enter the string, it will calculate and display the number of digits, spaces, and alphabetic characters in the input string."
   ]
  },
  {
   "cell_type": "markdown",
   "id": "c9d9cbee",
   "metadata": {},
   "source": [
    "6. Write a Python program to get a string made of the first 2 and the last 2 chars from a given a string. If the string length is less than 2, return instead the empty string. "
   ]
  },
  {
   "cell_type": "code",
   "execution_count": 8,
   "id": "ddcb480e",
   "metadata": {},
   "outputs": [
    {
     "name": "stdout",
     "output_type": "stream",
     "text": [
      "Enter a string: Forest Officer\n",
      "Resulting string: Foer\n"
     ]
    }
   ],
   "source": [
    "def get_first_and_last_chars(input_string):\n",
    "    if len(input_string) < 2:\n",
    "        return \"\"\n",
    "    else:\n",
    "        first_chars = input_string[:2]\n",
    "        last_chars = input_string[-2:]\n",
    "        return first_chars + last_chars\n",
    "\n",
    "# Example usage\n",
    "user_input = input(\"Enter a string: \")\n",
    "result = get_first_and_last_chars(user_input)\n",
    "print(f\"Resulting string: {result}\")"
   ]
  },
  {
   "cell_type": "raw",
   "id": "6dabfcc7",
   "metadata": {},
   "source": [
    "When you run this program, it will prompt you to enter a string. It will then check the length of the input string and construct a new string containing the first two and last two characters (if the length is at least 2). If the length is less than 2, it will return an empty string. The resulting string will be displayed as output."
   ]
  },
  {
   "cell_type": "markdown",
   "id": "bb72d7a3",
   "metadata": {},
   "source": [
    "7. Write a Python program to get a string from a string where all occurences of its first char have been changed to '$', except the first char itself."
   ]
  },
  {
   "cell_type": "code",
   "execution_count": 12,
   "id": "d8f2e302",
   "metadata": {},
   "outputs": [
    {
     "name": "stdout",
     "output_type": "stream",
     "text": [
      "Enter a string: $deer\n",
      "Modified string: $deer\n"
     ]
    }
   ],
   "source": [
    "def replace_first_char_occurrences(input_string):\n",
    "    if len(input_string) < 2:\n",
    "        return input_string\n",
    "    \n",
    "    first_char = input_string[0]\n",
    "    modified_string = first_char + input_string[1:].replace(first_char, '$')\n",
    "    return modified_string\n",
    "\n",
    "# Example usage\n",
    "user_input = input(\"Enter a string: \")\n",
    "result = replace_first_char_occurrences(user_input)\n",
    "print(f\"Modified string: {result}\")"
   ]
  },
  {
   "cell_type": "raw",
   "id": "1b9ed8f8",
   "metadata": {},
   "source": [
    "When you run this program, it will prompt you to enter a string. It will then replace all occurrences of the first character (except the first character itself) with '$' and display the modified string as output. If the input string has a length less than 2, it will return the input string as is."
   ]
  },
  {
   "cell_type": "markdown",
   "id": "3f28f78a",
   "metadata": {},
   "source": [
    "8. Write a Python program to get a single string from given strings, seperated by a space and swap the first two characters of each string."
   ]
  },
  {
   "cell_type": "code",
   "execution_count": 13,
   "id": "98eb8ca4",
   "metadata": {},
   "outputs": [
    {
     "name": "stdout",
     "output_type": "stream",
     "text": [
      "Enter the number of strings: 3\n",
      "Enter string 1: Space\n",
      "Enter string 2: Enter\n",
      "Enter string 3: Tab\n",
      "Resulting string: pSace nEter aTb\n"
     ]
    }
   ],
   "source": [
    "def swap_first_two_chars(input_string):\n",
    "    if len(input_string) < 2:\n",
    "        return input_string\n",
    "    return input_string[1] + input_string[0] + input_string[2:]\n",
    "\n",
    "# Example usage\n",
    "num_strings = int(input(\"Enter the number of strings: \"))\n",
    "strings = []\n",
    "for i in range(num_strings):\n",
    "    user_input = input(f\"Enter string {i + 1}: \")\n",
    "    strings.append(swap_first_two_chars(user_input))\n",
    "\n",
    "result = \" \".join(strings)\n",
    "print(f\"Resulting string: {result}\")"
   ]
  },
  {
   "cell_type": "raw",
   "id": "c1a922f5",
   "metadata": {},
   "source": [
    "When you run this program, it will first ask you to enter the number of strings you want to input. Then, it will prompt you to enter each string. For each string, it will swap the first two characters and store the modified strings. Finally, it will concatenate the modified strings with spaces in between and display the resulting single string as output."
   ]
  },
  {
   "cell_type": "markdown",
   "id": "c3311399",
   "metadata": {},
   "source": [
    "9. Program to copy a string."
   ]
  },
  {
   "cell_type": "code",
   "execution_count": 14,
   "id": "383e7aab",
   "metadata": {},
   "outputs": [
    {
     "name": "stdout",
     "output_type": "stream",
     "text": [
      "Enter a string: Duck\n",
      "Copied string: Duck\n"
     ]
    }
   ],
   "source": [
    "def copy_string(input_string):\n",
    "    copied_string = input_string[:]\n",
    "    return copied_string\n",
    "\n",
    "# Example usage\n",
    "user_input = input(\"Enter a string: \")\n",
    "copied_result = copy_string(user_input)\n",
    "print(f\"Copied string: {copied_result}\")"
   ]
  },
  {
   "cell_type": "raw",
   "id": "667f1b68",
   "metadata": {},
   "source": [
    "When you run this program, it will prompt you to enter a string. It will then create a copy of the input string and display the copied string as output. The [:] slicing notation is used to create a new string that contains all the characters of the original string, effectively copying it."
   ]
  },
  {
   "cell_type": "markdown",
   "id": "7949f7cf",
   "metadata": {},
   "source": [
    "10. Write a Python program to add 'ing' at the end of a given string (length should be at least 3). If the given string is already ends with 'ing' then add 'ly' instead. If the string length of the given string is less than 3, leave it unchanged."
   ]
  },
  {
   "cell_type": "code",
   "execution_count": 21,
   "id": "66eb0c15",
   "metadata": {},
   "outputs": [
    {
     "name": "stdout",
     "output_type": "stream",
     "text": [
      "Enter a string: Think\n",
      "Modified string: Thinking\n"
     ]
    }
   ],
   "source": [
    "def modify_string(input_string):\n",
    "    if len(input_string) < 3:\n",
    "        return input_string\n",
    "    \n",
    "    if input_string[-3:] == 'ing':\n",
    "        modified_string = input_string + 'ly'\n",
    "    else:\n",
    "        modified_string = input_string + 'ing'\n",
    "    \n",
    "    return modified_string\n",
    "\n",
    "# Example usage\n",
    "user_input = input(\"Enter a string: \")\n",
    "modified_result = modify_string(user_input)\n",
    "print(f\"Modified string: {modified_result}\")"
   ]
  },
  {
   "cell_type": "raw",
   "id": "db083b19",
   "metadata": {},
   "source": [
    "When you run this program, it will prompt you to enter a string. It will then modify the string based on the rules you've specified and display the modified string as output. If the string length is less than 3, it will leave the string unchanged."
   ]
  },
  {
   "cell_type": "markdown",
   "id": "6dc2070b",
   "metadata": {},
   "source": [
    "11. Write a program to find the first appearances of the substring 'not' and 'poor' from a given string. If 'bad' follows the 'poor', replace the whole 'not'..'poor' substring with 'good'. Return the resulting string."
   ]
  },
  {
   "cell_type": "code",
   "execution_count": 1,
   "id": "9194cd69",
   "metadata": {},
   "outputs": [
    {
     "name": "stdout",
     "output_type": "stream",
     "text": [
      "Enter a string: sachin\n",
      "Modified string: sachin\n"
     ]
    }
   ],
   "source": [
    "def replace_substring(input_string):\n",
    "    not_index = input_string.find('not')\n",
    "    poor_index = input_string.find('poor')\n",
    "\n",
    "    if not_index != -1 and poor_index != -1 and poor_index > not_index:\n",
    "        bad_index = input_string.find('bad')\n",
    "        if bad_index != -1 and bad_index > poor_index:\n",
    "            modified_string = input_string[:not_index] + 'good' + input_string[bad_index+3:]\n",
    "        else:\n",
    "            modified_string = input_string[:not_index] + 'good' + input_string[poor_index+4:]\n",
    "    else:\n",
    "        modified_string = input_string\n",
    "\n",
    "    return modified_string\n",
    "\n",
    "# Example usage\n",
    "user_input = input(\"Enter a string: \")\n",
    "result = replace_substring(user_input)\n",
    "print(f\"Modified string: {result}\")"
   ]
  },
  {
   "cell_type": "raw",
   "id": "db4d9406",
   "metadata": {},
   "source": [
    "When you run this program, it will prompt you to enter a string. It will then search for the first appearances of the substrings 'not' and 'poor'. If 'not' is followed by 'poor' and 'bad' follows 'poor', the program will replace the substring from 'not' to 'poor' with 'good'. Finally, it will display the modified string as output."
   ]
  },
  {
   "cell_type": "markdown",
   "id": "e74b50ad",
   "metadata": {},
   "source": [
    "12. Write a function that takes a list of words and returns the length of the longest one."
   ]
  },
  {
   "cell_type": "code",
   "execution_count": 2,
   "id": "23f0b0b1",
   "metadata": {},
   "outputs": [
    {
     "name": "stdout",
     "output_type": "stream",
     "text": [
      "The length of the longest word is: 10\n"
     ]
    }
   ],
   "source": [
    "def find_longest_word_length(word_list):\n",
    "    longest_length = 0\n",
    "\n",
    "    for word in word_list:\n",
    "        word_length = len(word)\n",
    "        if word_length > longest_length:\n",
    "            longest_length = word_length\n",
    "    \n",
    "    return longest_length\n",
    "\n",
    "# Example usage\n",
    "word_list = ['apple', 'banana', 'cherry', 'grapefruit', 'orange']\n",
    "longest_length = find_longest_word_length(word_list)\n",
    "print(f\"The length of the longest word is: {longest_length}\")"
   ]
  },
  {
   "cell_type": "raw",
   "id": "70c2dec0",
   "metadata": {},
   "source": [
    "You can call the find_longest_word_length function with a list of words as an argument, and it will return the length of the longest word in the list. In the example usage provided, the function is called with a list of fruit names, and it will display the length of the longest word in the list."
   ]
  },
  {
   "cell_type": "markdown",
   "id": "ad5619f3",
   "metadata": {},
   "source": [
    "13. Write a program to remove the n^th index character from a non-empty string."
   ]
  },
  {
   "cell_type": "code",
   "execution_count": 5,
   "id": "fc7a8c61",
   "metadata": {},
   "outputs": [
    {
     "name": "stdout",
     "output_type": "stream",
     "text": [
      "Enter a string: Data Model\n",
      "Enter the index of the character to remove: 4\n",
      "Modified string: DataModel\n"
     ]
    }
   ],
   "source": [
    "def remove_nth_character(input_string, n):\n",
    "    if n < 0 or n >= len(input_string):\n",
    "        return \"Invalid index\"\n",
    "\n",
    "    modified_string = input_string[:n] + input_string[n+1:]\n",
    "    return modified_string\n",
    "\n",
    "# Example usage\n",
    "user_input = input(\"Enter a string: \")\n",
    "index = int(input(\"Enter the index of the character to remove: \"))\n",
    "result = remove_nth_character(user_input, index)\n",
    "print(f\"Modified string: {result}\")"
   ]
  },
  {
   "cell_type": "raw",
   "id": "76536d10",
   "metadata": {},
   "source": [
    "When you run this program, it will prompt you to enter a string. It will then ask you to enter the index of the character you want to remove (0-based indexing). The program will remove the character at the specified index and display the modified string as output. If the provided index is invalid (less than 0 or greater than or equal to the string length), it will return \"Invalid index\"."
   ]
  },
  {
   "cell_type": "markdown",
   "id": "ee76692c",
   "metadata": {},
   "source": [
    "14. Write a program to change a given string to a new string where the first and last chars have been exchanged."
   ]
  },
  {
   "cell_type": "code",
   "execution_count": 6,
   "id": "4d4e1ce9",
   "metadata": {},
   "outputs": [
    {
     "name": "stdout",
     "output_type": "stream",
     "text": [
      "Enter a string: Rose\n",
      "Modified string: eosR\n"
     ]
    }
   ],
   "source": [
    "def swap_first_and_last(input_string):\n",
    "    if len(input_string) <= 1:\n",
    "        return input_string\n",
    "\n",
    "    first_char = input_string[0]\n",
    "    last_char = input_string[-1]\n",
    "    modified_string = last_char + input_string[1:-1] + first_char\n",
    "    return modified_string\n",
    "\n",
    "# Example usage\n",
    "user_input = input(\"Enter a string: \")\n",
    "result = swap_first_and_last(user_input)\n",
    "print(f\"Modified string: {result}\")"
   ]
  },
  {
   "cell_type": "raw",
   "id": "2d6fdf3b",
   "metadata": {},
   "source": [
    "When you run this program, it will prompt you to enter a string. It will then swap the first and last characters of the input string (if the length of the string is greater than 1) and display the modified string as output. If the string length is 1 or less, the function will return the input string as is."
   ]
  },
  {
   "cell_type": "markdown",
   "id": "62b53001",
   "metadata": {},
   "source": [
    "15. Write a program to remove the characters that have odd index values of a given string."
   ]
  },
  {
   "cell_type": "code",
   "execution_count": 7,
   "id": "ae2851bb",
   "metadata": {},
   "outputs": [
    {
     "name": "stdout",
     "output_type": "stream",
     "text": [
      "Enter a string: Duck\n",
      "Modified string: Dc\n"
     ]
    }
   ],
   "source": [
    "def remove_odd_index_characters(input_string):\n",
    "    modified_string = input_string[::2]\n",
    "    return modified_string\n",
    "\n",
    "# Example usage\n",
    "user_input = input(\"Enter a string: \")\n",
    "result = remove_odd_index_characters(user_input)\n",
    "print(f\"Modified string: {result}\")"
   ]
  },
  {
   "cell_type": "raw",
   "id": "240b9a10",
   "metadata": {},
   "source": [
    "When you run this program, it will prompt you to enter a string. It will then create a modified string by taking every character at even index positions (0-based indexing) from the input string. The resulting string will have characters only from even index positions, effectively removing characters at odd index positions, and it will be displayed as output."
   ]
  },
  {
   "cell_type": "markdown",
   "id": "ab94388e",
   "metadata": {},
   "source": [
    "16. Write a program to count the occurences of each word in a given sentence."
   ]
  },
  {
   "cell_type": "code",
   "execution_count": 9,
   "id": "6ad25a38",
   "metadata": {},
   "outputs": [
    {
     "name": "stdout",
     "output_type": "stream",
     "text": [
      "Enter a sentence: Forest Word\n",
      "Word occurrences:\n",
      "'Forest': 1\n",
      "'Word': 1\n"
     ]
    }
   ],
   "source": [
    "def count_word_occurrences(sentence):\n",
    "    words = sentence.split()\n",
    "    word_count = {}\n",
    "\n",
    "    for word in words:\n",
    "        if word in word_count:\n",
    "            word_count[word] += 1\n",
    "        else:\n",
    "            word_count[word] = 1\n",
    "    \n",
    "    return word_count\n",
    "\n",
    "# Example usage\n",
    "user_input = input(\"Enter a sentence: \")\n",
    "word_occurrences = count_word_occurrences(user_input)\n",
    "\n",
    "print(\"Word occurrences:\")\n",
    "for word, count in word_occurrences.items():\n",
    "    print(f\"'{word}': {count}\")"
   ]
  },
  {
   "cell_type": "raw",
   "id": "98370b65",
   "metadata": {},
   "source": [
    "When you run this program, it will prompt you to enter a sentence. It will then split the sentence into individual words and count the occurrences of each word. Finally, it will display the word occurrences with their respective counts."
   ]
  },
  {
   "cell_type": "markdown",
   "id": "c4bf3395",
   "metadata": {},
   "source": [
    "17. Write a program that accepts a comma separated sequence of words as input and prints the unique words in sorted form (alphabetically)."
   ]
  },
  {
   "cell_type": "code",
   "execution_count": 10,
   "id": "bdd4b480",
   "metadata": {},
   "outputs": [
    {
     "name": "stdout",
     "output_type": "stream",
     "text": [
      "Enter a comma-separated sequence of words: S,a,c,h,i,n\n",
      "Unique words in sorted order:\n",
      "S\n",
      "a\n",
      "c\n",
      "h\n",
      "i\n",
      "n\n"
     ]
    }
   ],
   "source": [
    "def print_unique_sorted_words(input_sequence):\n",
    "    words = input_sequence.split(',')\n",
    "    unique_words = set(words)\n",
    "    sorted_unique_words = sorted(unique_words)\n",
    "    \n",
    "    print(\"Unique words in sorted order:\")\n",
    "    for word in sorted_unique_words:\n",
    "        print(word.strip())  # Remove leading/trailing spaces if any\n",
    "\n",
    "# Example usage\n",
    "user_input = input(\"Enter a comma-separated sequence of words: \")\n",
    "print_unique_sorted_words(user_input)"
   ]
  },
  {
   "cell_type": "raw",
   "id": "a929a3dd",
   "metadata": {},
   "source": [
    "When you run this program, it will prompt you to enter a comma-separated sequence of words. It will then extract the words, remove duplicates, sort them alphabetically, and print each unique word in sorted order."
   ]
  },
  {
   "cell_type": "markdown",
   "id": "19c54c85",
   "metadata": {},
   "source": [
    "18. Write a function to insert a string in the middle of a string."
   ]
  },
  {
   "cell_type": "code",
   "execution_count": 11,
   "id": "33792163",
   "metadata": {},
   "outputs": [
    {
     "name": "stdout",
     "output_type": "stream",
     "text": [
      "Enter the main string: Structure\n",
      "Enter the string to insert: /\n",
      "Modified string: Stru/cture\n"
     ]
    }
   ],
   "source": [
    "def insert_in_middle(main_string, insert_string):\n",
    "    middle_index = len(main_string) // 2\n",
    "    modified_string = main_string[:middle_index] + insert_string + main_string[middle_index:]\n",
    "    return modified_string\n",
    "\n",
    "# Example usage\n",
    "main_string = input(\"Enter the main string: \")\n",
    "insert_string = input(\"Enter the string to insert: \")\n",
    "result = insert_in_middle(main_string, insert_string)\n",
    "print(f\"Modified string: {result}\")"
   ]
  },
  {
   "cell_type": "raw",
   "id": "b0918338",
   "metadata": {},
   "source": [
    "When you run this program, it will prompt you to enter the main string and the string you want to insert. The function insert_in_middle will then insert the given string in the middle of the main string and return the modified string. The modified string will be displayed as output."
   ]
  },
  {
   "cell_type": "markdown",
   "id": "65356590",
   "metadata": {},
   "source": [
    "19. Write a function to get a string made of 4 copies of the last two characters of a specified string (length must be at least 2)."
   ]
  },
  {
   "cell_type": "code",
   "execution_count": 12,
   "id": "6dc6e3ee",
   "metadata": {},
   "outputs": [
    {
     "name": "stdout",
     "output_type": "stream",
     "text": [
      "Enter a string (length at least 2): Dynamic\n",
      "Resulting string: icicicic\n"
     ]
    }
   ],
   "source": [
    "def get_last_two_characters(input_string):\n",
    "    if len(input_string) < 2:\n",
    "        return \"String length must be at least 2\"\n",
    "    \n",
    "    last_two_chars = input_string[-2:]\n",
    "    result_string = last_two_chars * 4\n",
    "    return result_string\n",
    "\n",
    "# Example usage\n",
    "user_input = input(\"Enter a string (length at least 2): \")\n",
    "result = get_last_two_characters(user_input)\n",
    "print(f\"Resulting string: {result}\")"
   ]
  },
  {
   "cell_type": "raw",
   "id": "6cdc49e3",
   "metadata": {},
   "source": [
    "When you run this program, it will prompt you to enter a string with a length of at least 2 characters. The function get_last_two_characters will then create a new string containing 4 copies of the last two characters of the input string and return the result. The resulting string will be displayed as output."
   ]
  },
  {
   "cell_type": "markdown",
   "id": "bcfab40d",
   "metadata": {},
   "source": [
    "20. Write a function to get a string made of its first three characters of a specified string. If the length of the string is less than 3 then return the original string."
   ]
  },
  {
   "cell_type": "code",
   "execution_count": 13,
   "id": "26043f2f",
   "metadata": {},
   "outputs": [
    {
     "name": "stdout",
     "output_type": "stream",
     "text": [
      "Enter a string: Statistics\n",
      "Resulting string: Sta\n"
     ]
    }
   ],
   "source": [
    "def get_first_three_characters(input_string):\n",
    "    if len(input_string) < 3:\n",
    "        return input_string\n",
    "    else:\n",
    "        return input_string[:3]\n",
    "\n",
    "# Example usage\n",
    "user_input = input(\"Enter a string: \")\n",
    "result = get_first_three_characters(user_input)\n",
    "print(f\"Resulting string: {result}\")"
   ]
  },
  {
   "cell_type": "raw",
   "id": "e3a0d61c",
   "metadata": {},
   "source": [
    "When you run this program, it will prompt you to enter a string. The function get_first_three_characters will then create a new string containing the first three characters of the input string, unless the length of the string is less than 3, in which case it will return the original string. The resulting string will be displayed as output."
   ]
  },
  {
   "cell_type": "markdown",
   "id": "3fa267d6",
   "metadata": {},
   "source": [
    "21. Write a function to get the first half of a specified string of even length."
   ]
  },
  {
   "cell_type": "code",
   "execution_count": 14,
   "id": "27e16f69",
   "metadata": {},
   "outputs": [
    {
     "name": "stdout",
     "output_type": "stream",
     "text": [
      "Enter a string: Word Count\n",
      "Resulting string: Word \n"
     ]
    }
   ],
   "source": [
    "def get_first_half_even_length(input_string):\n",
    "    if len(input_string) % 2 == 0:\n",
    "        half_length = len(input_string) // 2\n",
    "        return input_string[:half_length]\n",
    "    else:\n",
    "        return \"String length is not even\"\n",
    "\n",
    "# Example usage\n",
    "user_input = input(\"Enter a string: \")\n",
    "result = get_first_half_even_length(user_input)\n",
    "print(f\"Resulting string: {result}\")"
   ]
  },
  {
   "cell_type": "raw",
   "id": "44efa8f2",
   "metadata": {},
   "source": [
    "When you run this program, it will prompt you to enter a string. The function get_first_half_even_length will then check if the length of the input string is even. If it's even, it will return the first half of the input string. If the length is not even, it will return a message indicating that the string length is not even. The resulting string or message will be displayed as output."
   ]
  },
  {
   "cell_type": "markdown",
   "id": "22d40e30",
   "metadata": {},
   "source": [
    "22. Write a function to reverses a string if its length is a multiple of 4."
   ]
  },
  {
   "cell_type": "code",
   "execution_count": 17,
   "id": "48926ba9",
   "metadata": {},
   "outputs": [
    {
     "name": "stdout",
     "output_type": "stream",
     "text": [
      "Enter a string: high\n",
      "Resulting string: hgih\n"
     ]
    }
   ],
   "source": [
    "def reverse_string_if_multiple_of_four(input_string):\n",
    "    if len(input_string) % 4 == 0:\n",
    "        return input_string[::-1]  # Reverse the string using slicing\n",
    "    else:\n",
    "        return input_string\n",
    "\n",
    "# Example usage\n",
    "user_input = input(\"Enter a string: \")\n",
    "result = reverse_string_if_multiple_of_four(user_input)\n",
    "print(f\"Resulting string: {result}\")"
   ]
  },
  {
   "cell_type": "raw",
   "id": "2dae7950",
   "metadata": {},
   "source": [
    "When you run this program, it will prompt you to enter a string. The function reverse_string_if_multiple_of_four will then check if the length of the input string is a multiple of 4. If it is, it will reverse the string using slicing. If the length is not a multiple of 4, it will return the original string. The resulting string will be displayed as output."
   ]
  },
  {
   "cell_type": "markdown",
   "id": "6736b9e1",
   "metadata": {},
   "source": [
    "23. Write a function to convert a given string to all uppercase if it contains at least 2 uppercase characters in the first 4 characters."
   ]
  },
  {
   "cell_type": "code",
   "execution_count": 18,
   "id": "683c6d1d",
   "metadata": {},
   "outputs": [
    {
     "name": "stdout",
     "output_type": "stream",
     "text": [
      "Enter a string: FORT Super\n",
      "Resulting string: FORT SUPER\n"
     ]
    }
   ],
   "source": [
    "def convert_to_uppercase_if_condition_met(input_string):\n",
    "    if len(input_string) >= 4:\n",
    "        uppercase_count = sum(1 for char in input_string[:4] if char.isupper())\n",
    "        if uppercase_count >= 2:\n",
    "            return input_string.upper()\n",
    "    \n",
    "    return input_string\n",
    "\n",
    "# Example usage\n",
    "user_input = input(\"Enter a string: \")\n",
    "result = convert_to_uppercase_if_condition_met(user_input)\n",
    "print(f\"Resulting string: {result}\")"
   ]
  },
  {
   "cell_type": "raw",
   "id": "31649695",
   "metadata": {},
   "source": [
    "When you run this program, it will prompt you to enter a string. The function convert_to_uppercase_if_condition_met will then check if the string has at least 4 characters and if there are at least 2 uppercase characters among the first 4 characters. If the condition is met, it will convert the entire string to uppercase. Otherwise, it will return the original string. The resulting string will be displayed as output."
   ]
  },
  {
   "cell_type": "markdown",
   "id": "2a9f1db7",
   "metadata": {},
   "source": [
    "24. Write a program to sort a string lexicographically."
   ]
  },
  {
   "cell_type": "code",
   "execution_count": 19,
   "id": "54304904",
   "metadata": {},
   "outputs": [
    {
     "name": "stdout",
     "output_type": "stream",
     "text": [
      "Enter a string: Gold \n",
      "Lexicographically sorted string:  Gdlo\n"
     ]
    }
   ],
   "source": [
    "def lexicographic_sort(input_string):\n",
    "    sorted_string = ''.join(sorted(input_string))\n",
    "    return sorted_string\n",
    "\n",
    "# Example usage\n",
    "user_input = input(\"Enter a string: \")\n",
    "result = lexicographic_sort(user_input)\n",
    "print(f\"Lexicographically sorted string: {result}\")"
   ]
  },
  {
   "cell_type": "raw",
   "id": "3a75c4dc",
   "metadata": {},
   "source": [
    "When you run this program, it will prompt you to enter a string. The function lexicographic_sort will then sort the characters of the input string lexicographically and return the sorted string. The lexicographically sorted string will be displayed as output."
   ]
  },
  {
   "cell_type": "markdown",
   "id": "ec218179",
   "metadata": {},
   "source": [
    "25. Write a program to remove newline characters from text."
   ]
  },
  {
   "cell_type": "code",
   "execution_count": 21,
   "id": "c5bb20d0",
   "metadata": {},
   "outputs": [
    {
     "name": "stdout",
     "output_type": "stream",
     "text": [
      "Enter text with newline characters: duck deer\n",
      "Text without newline characters: duck deer\n"
     ]
    }
   ],
   "source": [
    "def remove_newlines(text):\n",
    "    cleaned_text = text.replace('\\n', '')\n",
    "    return cleaned_text\n",
    "\n",
    "# Example usage\n",
    "user_input = input(\"Enter text with newline characters: \")\n",
    "result = remove_newlines(user_input)\n",
    "print(f\"Text without newline characters: {result}\")"
   ]
  },
  {
   "cell_type": "raw",
   "id": "37b207ff",
   "metadata": {},
   "source": [
    "When you run this program, it will prompt you to enter text that may contain newline characters. The function remove_newlines will then replace all newline characters (\\n) with an empty string, effectively removing them from the text. The resulting text without newline characters will be displayed as output."
   ]
  },
  {
   "cell_type": "markdown",
   "id": "001bdb54",
   "metadata": {},
   "source": [
    "26. Write a program to check whether a string starts with specified characters."
   ]
  },
  {
   "cell_type": "code",
   "execution_count": 1,
   "id": "b8e3f1f9",
   "metadata": {},
   "outputs": [
    {
     "name": "stdout",
     "output_type": "stream",
     "text": [
      "Enter a string: Sachin\n",
      "Enter the specified characters: S\n",
      "The string starts with the specified characters.\n"
     ]
    }
   ],
   "source": [
    "def starts_with_specified_characters(string, specified_characters):\n",
    "    return string.startswith(specified_characters)\n",
    "\n",
    "input_string = input(\"Enter a string: \")\n",
    "specified_characters = input(\"Enter the specified characters: \")\n",
    "\n",
    "if starts_with_specified_characters(input_string, specified_characters):\n",
    "    print(\"The string starts with the specified characters.\")\n",
    "else:\n",
    "    print(\"The string does not start with the specified characters.\")"
   ]
  },
  {
   "cell_type": "raw",
   "id": "47c5c0d8",
   "metadata": {},
   "source": [
    "In this program, the starts_with_specified_characters function takes two arguments: the string you want to check and the specified characters you want to check for. It uses the startswith method of strings to determine if the string starts with the specified characters. The user is prompted to enter the string and the specified characters, and then the program prints whether the string starts with the specified characters or not."
   ]
  },
  {
   "cell_type": "markdown",
   "id": "e8110ad0",
   "metadata": {},
   "source": [
    "27. Write a program to remove existing indentation from all of the lines in a given text."
   ]
  },
  {
   "cell_type": "code",
   "execution_count": 2,
   "id": "8b4696df",
   "metadata": {},
   "outputs": [
    {
     "name": "stdout",
     "output_type": "stream",
     "text": [
      "This is an example\n",
      "with some indentation\n",
      "  that we want to remove\n",
      "    from all lines.\n"
     ]
    }
   ],
   "source": [
    "def remove_indentation(text):\n",
    "    lines = text.split('\\n')\n",
    "    if lines:\n",
    "        min_indent = float('inf')\n",
    "        for line in lines:\n",
    "            stripped_line = line.lstrip()\n",
    "            if stripped_line:  # Skip empty lines\n",
    "                indent = len(line) - len(stripped_line)\n",
    "                min_indent = min(min_indent, indent)\n",
    "        \n",
    "        if min_indent != float('inf'):\n",
    "            cleaned_lines = [line[min_indent:] for line in lines]\n",
    "            return '\\n'.join(cleaned_lines)\n",
    "    return text\n",
    "\n",
    "input_text = \"\"\"    This is an example\n",
    "    with some indentation\n",
    "      that we want to remove\n",
    "        from all lines.\"\"\"\n",
    "\n",
    "cleaned_text = remove_indentation(input_text)\n",
    "print(cleaned_text)"
   ]
  },
  {
   "cell_type": "raw",
   "id": "e8ef5838",
   "metadata": {},
   "source": [
    "In this program, the remove_indentation function takes a text as input and processes each line to find the minimum indentation value across all non-empty lines. Then, it removes that minimum indentation value from each line and returns the modified text. The example input_text provided is processed, and the cleaned text is printed.\n",
    "\n",
    "You can replace the input_text with your desired text input to remove the existing indentation from it."
   ]
  },
  {
   "cell_type": "markdown",
   "id": "ce9b77e8",
   "metadata": {},
   "source": [
    "28. Write a program to add a prefix text to all of the lines in a string."
   ]
  },
  {
   "cell_type": "code",
   "execution_count": 3,
   "id": "b27634fa",
   "metadata": {},
   "outputs": [
    {
     "name": "stdout",
     "output_type": "stream",
     "text": [
      ">> This is a sample text.\n",
      ">> We will add a prefix to each line.\n",
      ">> Let's see how it works.\n"
     ]
    }
   ],
   "source": [
    "def add_prefix_to_lines(text, prefix):\n",
    "    lines = text.split('\\n')\n",
    "    prefixed_lines = [prefix + line for line in lines]\n",
    "    return '\\n'.join(prefixed_lines)\n",
    "\n",
    "input_text = \"\"\"This is a sample text.\n",
    "We will add a prefix to each line.\n",
    "Let's see how it works.\"\"\"\n",
    "\n",
    "prefix = \">> \"\n",
    "modified_text = add_prefix_to_lines(input_text, prefix)\n",
    "print(modified_text)"
   ]
  },
  {
   "cell_type": "raw",
   "id": "16e32c0f",
   "metadata": {},
   "source": [
    "In this program, the add_prefix_to_lines function takes the input text and a prefix as arguments. It splits the text into lines, then adds the specified prefix to each line using a list comprehension. Finally, it joins the prefixed lines back into a single string using '\\n'.join().\n",
    "\n",
    "Replace the input_text and prefix with your desired text and prefix to add the desired prefix to each line in the text."
   ]
  },
  {
   "cell_type": "markdown",
   "id": "380f33c5",
   "metadata": {},
   "source": [
    "29. Write a program to set the indentation of the first line."
   ]
  },
  {
   "cell_type": "code",
   "execution_count": 4,
   "id": "b6fbef67",
   "metadata": {},
   "outputs": [
    {
     "name": "stdout",
     "output_type": "stream",
     "text": [
      "    This is a sample text.\n",
      "We will set the indentation of the first line.\n",
      "The rest of the lines will remain unchanged.\n"
     ]
    }
   ],
   "source": [
    "def set_first_line_indentation(text, indentation):\n",
    "    lines = text.split('\\n')\n",
    "    if lines:\n",
    "        first_line = lines[0]\n",
    "        stripped_first_line = first_line.lstrip()\n",
    "        indent = len(first_line) - len(stripped_first_line)\n",
    "        new_first_line = indentation + stripped_first_line\n",
    "        lines[0] = new_first_line\n",
    "        return '\\n'.join(lines)\n",
    "    return text\n",
    "\n",
    "input_text = \"\"\"This is a sample text.\n",
    "We will set the indentation of the first line.\n",
    "The rest of the lines will remain unchanged.\"\"\"\n",
    "\n",
    "new_indentation = \"    \"\n",
    "modified_text = set_first_line_indentation(input_text, new_indentation)\n",
    "print(modified_text)"
   ]
  },
  {
   "cell_type": "raw",
   "id": "7a06fa29",
   "metadata": {},
   "source": [
    "In this program, the set_first_line_indentation function takes the input text and the desired indentation as arguments. It calculates the existing indentation of the first line, removes it, and then adds the specified indentation to the first line. The modified first line is then joined with the rest of the lines to create the modified text.\n",
    "\n",
    "Replace the input_text and new_indentation with your desired text and indentation to set the desired indentation for the first line of the text."
   ]
  },
  {
   "cell_type": "markdown",
   "id": "d7c4df75",
   "metadata": {},
   "source": [
    "30. Write a program to print floating numbers up to 2 decimal places."
   ]
  },
  {
   "cell_type": "code",
   "execution_count": 5,
   "id": "028c0c58",
   "metadata": {},
   "outputs": [
    {
     "name": "stdout",
     "output_type": "stream",
     "text": [
      "3.14\n",
      "2.72\n",
      "1.23\n",
      "0.99\n"
     ]
    }
   ],
   "source": [
    "def print_floats_with_2_decimals(numbers):\n",
    "    for num in numbers:\n",
    "        print(\"{:.2f}\".format(num))\n",
    "\n",
    "# Example list of floating-point numbers\n",
    "floating_numbers = [3.14159, 2.71828, 1.2345, 0.987654]\n",
    "print_floats_with_2_decimals(floating_numbers)"
   ]
  },
  {
   "cell_type": "raw",
   "id": "537dfd38",
   "metadata": {},
   "source": [
    "In this program, the print_floats_with_2_decimals function takes a list of floating-point numbers as an argument and then uses the \"{:.2f}\".format(num) format specifier to print each number up to 2 decimal places. You can replace the floating_numbers list with your own list of numbers that you want to print with 2 decimal places."
   ]
  },
  {
   "cell_type": "markdown",
   "id": "1c609e8e",
   "metadata": {},
   "source": [
    "31. Write a program to print floating numbers up to 2 decimal places. with sign. "
   ]
  },
  {
   "cell_type": "code",
   "execution_count": 6,
   "id": "f3cbc375",
   "metadata": {},
   "outputs": [
    {
     "name": "stdout",
     "output_type": "stream",
     "text": [
      "+3.14\n",
      "-2.72\n",
      "+1.23\n",
      "-0.99\n"
     ]
    }
   ],
   "source": [
    "def print_floats_with_sign_and_2_decimals(numbers):\n",
    "    for num in numbers:\n",
    "        if num >= 0:\n",
    "            print(\"+{:.2f}\".format(num))\n",
    "        else:\n",
    "            print(\"{:.2f}\".format(num))\n",
    "\n",
    "# Example list of floating-point numbers\n",
    "floating_numbers = [3.14159, -2.71828, 1.2345, -0.987654]\n",
    "print_floats_with_sign_and_2_decimals(floating_numbers)"
   ]
  },
  {
   "cell_type": "raw",
   "id": "0e69dff6",
   "metadata": {},
   "source": [
    "In this program, the print_floats_with_sign_and_2_decimals function takes a list of floating-point numbers as an argument. It uses an if statement to determine whether each number is positive or negative. Then, it uses the \"{:.2f}\".format(num) format specifier to print each number up to 2 decimal places along with a plus sign for positive numbers. You can replace the floating_numbers list with your own list of numbers that you want to print with signs and 2 decimal places."
   ]
  },
  {
   "cell_type": "markdown",
   "id": "1ba81d42",
   "metadata": {},
   "source": [
    "32. Write a program to print floating numbers with no decimal places."
   ]
  },
  {
   "cell_type": "code",
   "execution_count": 7,
   "id": "2c69b9b2",
   "metadata": {},
   "outputs": [
    {
     "name": "stdout",
     "output_type": "stream",
     "text": [
      "3\n",
      "3\n",
      "1\n",
      "1\n"
     ]
    }
   ],
   "source": [
    "def print_floats_with_no_decimal(numbers):\n",
    "    for num in numbers:\n",
    "        print(\"{:.0f}\".format(num))\n",
    "\n",
    "# Example list of floating-point numbers\n",
    "floating_numbers = [3.14159, 2.71828, 1.2345, 0.987654]\n",
    "print_floats_with_no_decimal(floating_numbers)"
   ]
  },
  {
   "cell_type": "raw",
   "id": "97c174cc",
   "metadata": {},
   "source": [
    "In this program, the print_floats_with_no_decimal function takes a list of floating-point numbers as an argument. It uses the \"{:.0f}\".format(num) format specifier to print each number without any decimal places. You can replace the floating_numbers list with your own list of numbers that you want to print without decimal places."
   ]
  },
  {
   "cell_type": "markdown",
   "id": "0bcf72af",
   "metadata": {},
   "source": [
    "33. Write a program to print integers with zeros on the left of specified width."
   ]
  },
  {
   "cell_type": "code",
   "execution_count": 8,
   "id": "6451d947",
   "metadata": {},
   "outputs": [
    {
     "name": "stdout",
     "output_type": "stream",
     "text": [
      "000005\n",
      "000123\n",
      "007890\n",
      "000042\n"
     ]
    }
   ],
   "source": [
    "def print_integers_with_zeros(numbers, width):\n",
    "    for num in numbers:\n",
    "        print(\"{:0{width}d}\".format(num, width=width))\n",
    "\n",
    "# Example list of integers and width\n",
    "integers = [5, 123, 7890, 42]\n",
    "specified_width = 6\n",
    "print_integers_with_zeros(integers, specified_width)"
   ]
  },
  {
   "cell_type": "raw",
   "id": "e0676d68",
   "metadata": {},
   "source": [
    "In this program, the print_integers_with_zeros function takes a list of integers and the specified width as arguments. It uses the \"{:0{width}d}\".format(num, width=width) format specifier to print each integer with leading zeros to match the specified width. The {width} inside the format specifier is replaced with the value of the width argument. You can replace the integers list and specified_width with your own values as needed."
   ]
  },
  {
   "cell_type": "markdown",
   "id": "e44d3e05",
   "metadata": {},
   "source": [
    "34. Write a program to print integers with '*' on the right of specified width."
   ]
  },
  {
   "cell_type": "code",
   "execution_count": 9,
   "id": "dc433892",
   "metadata": {},
   "outputs": [
    {
     "name": "stdout",
     "output_type": "stream",
     "text": [
      "       5*\n",
      "     123*\n",
      "    7890*\n",
      "      42*\n"
     ]
    }
   ],
   "source": [
    "def print_integers_with_asterisks(numbers, width):\n",
    "    for num in numbers:\n",
    "        print(\"{:{width}}*\".format(num, width=width))\n",
    "\n",
    "# Example list of integers and width\n",
    "integers = [5, 123, 7890, 42]\n",
    "specified_width = 8\n",
    "print_integers_with_asterisks(integers, specified_width)"
   ]
  },
  {
   "cell_type": "raw",
   "id": "b14199ed",
   "metadata": {},
   "source": [
    "In this program, the print_integers_with_asterisks function takes a list of integers and the specified width as arguments. It uses the \"{:{width}}*\" format specifier to print each integer with asterisks aligned to the right to match the specified width. The {width} inside the format specifier is replaced with the value of the width argument. You can replace the integers list and specified_width with your own values as needed."
   ]
  },
  {
   "cell_type": "markdown",
   "id": "e58d24f1",
   "metadata": {},
   "source": [
    "35. Write a program to display a number with comma separator."
   ]
  },
  {
   "cell_type": "code",
   "execution_count": 10,
   "id": "90136746",
   "metadata": {},
   "outputs": [
    {
     "name": "stdout",
     "output_type": "stream",
     "text": [
      "1,234,567\n",
      "9,876,543.21\n"
     ]
    }
   ],
   "source": [
    "def display_number_with_commas(number):\n",
    "    formatted_number = \"{:,}\".format(number)\n",
    "    print(formatted_number)\n",
    "\n",
    "# Example numbers\n",
    "integer_number = 1234567\n",
    "floating_point_number = 9876543.21\n",
    "\n",
    "display_number_with_commas(integer_number)\n",
    "display_number_with_commas(floating_point_number)"
   ]
  },
  {
   "cell_type": "raw",
   "id": "3de97e30",
   "metadata": {},
   "source": [
    "In this program, the display_number_with_commas function takes a number (either an integer or a floating-point number) as an argument. It uses the \"{:,}\" format specifier to format the number with comma separators for thousands. The print statement then displays the formatted number with commas. Replace the integer_number and floating_point_number with your own numbers that you want to display with comma separators."
   ]
  },
  {
   "cell_type": "markdown",
   "id": "0aef5d0f",
   "metadata": {},
   "source": [
    "36. Write a program to format a number with percentage."
   ]
  },
  {
   "cell_type": "code",
   "execution_count": 11,
   "id": "09ce07e0",
   "metadata": {},
   "outputs": [
    {
     "name": "stdout",
     "output_type": "stream",
     "text": [
      "75.00%\n",
      "25.00%\n"
     ]
    }
   ],
   "source": [
    "def format_as_percentage(number):\n",
    "    formatted_percentage = \"{:.2%}\".format(number)\n",
    "    print(formatted_percentage)\n",
    "\n",
    "# Example numbers\n",
    "decimal_number = 0.75\n",
    "fraction_number = 0.25\n",
    "\n",
    "format_as_percentage(decimal_number)\n",
    "format_as_percentage(fraction_number)"
   ]
  },
  {
   "cell_type": "raw",
   "id": "2d992ad4",
   "metadata": {},
   "source": [
    "In this program, the format_as_percentage function takes a number as an argument. It uses the \"{:.2%}\" format specifier to format the number as a percentage with two decimal places. The print statement then displays the formatted percentage. Replace the decimal_number and fraction_number with your own numbers that you want to format as percentages."
   ]
  },
  {
   "cell_type": "markdown",
   "id": "31bd673c",
   "metadata": {},
   "source": [
    "37. Write a program to display a number in left, right and centre aligned of width 10. Write a program to reverse words in string."
   ]
  },
  {
   "cell_type": "code",
   "execution_count": 12,
   "id": "131865fa",
   "metadata": {},
   "outputs": [
    {
     "name": "stdout",
     "output_type": "stream",
     "text": [
      "Left aligned: 12345     \n",
      "Right aligned:      12345\n",
      "Center aligned:   12345   \n"
     ]
    }
   ],
   "source": [
    "#1. Displaying a Number in Left, Right, and Center Aligned of Width 10:\n",
    "def display_aligned_numbers(number):\n",
    "    print(\"Left aligned: {:<10}\".format(number))\n",
    "    print(\"Right aligned: {:>10}\".format(number))\n",
    "    print(\"Center aligned: {:^10}\".format(number))\n",
    "\n",
    "# Example number\n",
    "example_number = 12345\n",
    "\n",
    "display_aligned_numbers(example_number)"
   ]
  },
  {
   "cell_type": "raw",
   "id": "cb8f7754",
   "metadata": {},
   "source": [
    "In this program, the display_aligned_numbers function takes a number as an argument and uses the format specifiers :<10, :>10, and :^10 to format the number in left, right, and center alignment with a width of 10 characters."
   ]
  },
  {
   "cell_type": "code",
   "execution_count": 13,
   "id": "26de8985",
   "metadata": {},
   "outputs": [
    {
     "name": "stdout",
     "output_type": "stream",
     "text": [
      "you? are how world, Hello\n"
     ]
    }
   ],
   "source": [
    "#2. Reversing Words in a String:\n",
    "def reverse_words_in_string(input_string):\n",
    "    words = input_string.split()\n",
    "    reversed_words = ' '.join(reversed(words))\n",
    "    return reversed_words\n",
    "\n",
    "# Example string\n",
    "example_string = \"Hello world, how are you?\"\n",
    "\n",
    "reversed_string = reverse_words_in_string(example_string)\n",
    "print(reversed_string)"
   ]
  },
  {
   "cell_type": "raw",
   "id": "9c4e1c92",
   "metadata": {},
   "source": [
    "In this program, the reverse_words_in_string function takes an input string, splits it into words using split(), and then uses the reversed() function to reverse the order of the words. The reversed words are then joined back together using join() and returned as the result. The example example_string is reversed and printed."
   ]
  },
  {
   "cell_type": "markdown",
   "id": "cc26eece",
   "metadata": {},
   "source": [
    "38. Write a program to strip a set of characters from a string."
   ]
  },
  {
   "cell_type": "code",
   "execution_count": 14,
   "id": "eef879a4",
   "metadata": {},
   "outputs": [
    {
     "name": "stdout",
     "output_type": "stream",
     "text": [
      "Hello this is an example string Let's strip some characters\n"
     ]
    }
   ],
   "source": [
    "def strip_characters(input_string, characters_to_strip):\n",
    "    stripped_string = input_string.translate(str.maketrans(\"\", \"\", characters_to_strip))\n",
    "    return stripped_string\n",
    "\n",
    "# Example string and characters to strip\n",
    "example_string = \"Hello, this is an example string! Let's strip some characters.\"\n",
    "characters_to_strip = \",!.\"\n",
    "\n",
    "stripped_result = strip_characters(example_string, characters_to_strip)\n",
    "print(stripped_result)"
   ]
  },
  {
   "cell_type": "raw",
   "id": "173b4782",
   "metadata": {},
   "source": [
    "In this program, the strip_characters function takes an input string and a set of characters to strip as arguments. It uses the str.maketrans() function to create a translation table that specifies which characters to remove. The translate() method is then used on the input string to remove the specified characters. The example example_string is stripped of the characters specified in characters_to_strip and the stripped result is printed."
   ]
  },
  {
   "cell_type": "markdown",
   "id": "b1c09e88",
   "metadata": {},
   "source": [
    "39. Write a program to create a mirror of the given string. For example, \"abc\" = \"abccba\"."
   ]
  },
  {
   "cell_type": "code",
   "execution_count": 15,
   "id": "5bf7ff17",
   "metadata": {},
   "outputs": [
    {
     "name": "stdout",
     "output_type": "stream",
     "text": [
      "abccba\n"
     ]
    }
   ],
   "source": [
    "def create_mirror(input_string):\n",
    "    mirrored_string = input_string + input_string[::-1]\n",
    "    return mirrored_string\n",
    "\n",
    "# Example string\n",
    "example_string = \"abc\"\n",
    "\n",
    "mirrored_result = create_mirror(example_string)\n",
    "print(mirrored_result)"
   ]
  },
  {
   "cell_type": "raw",
   "id": "b390b1c2",
   "metadata": {},
   "source": [
    "In this program, the create_mirror function takes an input string and first appends the reversed version of the same string to it. This creates a mirrored effect. The example example_string is mirrored using the function, and the mirrored result is printed."
   ]
  },
  {
   "cell_type": "markdown",
   "id": "f98b067d",
   "metadata": {},
   "source": [
    "40. Write a program that removes all the occurences of a specified character from a given string."
   ]
  },
  {
   "cell_type": "code",
   "execution_count": 16,
   "id": "cdb0ebbd",
   "metadata": {},
   "outputs": [
    {
     "name": "stdout",
     "output_type": "stream",
     "text": [
      "Hllo, this is an xampl string with charactrs to rmov.\n"
     ]
    }
   ],
   "source": [
    "def remove_character(input_string, char_to_remove):\n",
    "    cleaned_string = input_string.replace(char_to_remove, \"\")\n",
    "    return cleaned_string\n",
    "\n",
    "# Example string and character to remove\n",
    "example_string = \"Hello, this is an example string with characters to remove.\"\n",
    "char_to_remove = \"e\"\n",
    "\n",
    "cleaned_result = remove_character(example_string, char_to_remove)\n",
    "print(cleaned_result)"
   ]
  },
  {
   "cell_type": "raw",
   "id": "c235ffbb",
   "metadata": {},
   "source": [
    "In this program, the remove_character function takes an input string and a character to remove as arguments. It uses the replace() method to replace all occurrences of the specified character with an empty string, effectively removing them. The example example_string has occurrences of the character specified in char_to_remove removed, and the cleaned result is printed."
   ]
  },
  {
   "cell_type": "markdown",
   "id": "8dda1795",
   "metadata": {},
   "source": [
    "41. Write a program to check whether a string is palindrome or not."
   ]
  },
  {
   "cell_type": "code",
   "execution_count": 17,
   "id": "7390948a",
   "metadata": {},
   "outputs": [
    {
     "name": "stdout",
     "output_type": "stream",
     "text": [
      "The string is a palindrome.\n"
     ]
    }
   ],
   "source": [
    "def is_palindrome(input_string):\n",
    "    cleaned_string = input_string.lower().replace(\" \", \"\")\n",
    "    reversed_string = cleaned_string[::-1]\n",
    "    return cleaned_string == reversed_string\n",
    "\n",
    "# Example string\n",
    "example_string = \"A man a plan a canal Panama\"\n",
    "\n",
    "if is_palindrome(example_string):\n",
    "    print(\"The string is a palindrome.\")\n",
    "else:\n",
    "    print(\"The string is not a palindrome.\")"
   ]
  },
  {
   "cell_type": "raw",
   "id": "99d79422",
   "metadata": {},
   "source": [
    "In this program, the is_palindrome function takes an input string, converts it to lowercase, and removes spaces using the replace() method. Then, it compares the cleaned string to its reverse to determine if it's a palindrome. The example example_string is checked, and the program prints whether it's a palindrome or not."
   ]
  },
  {
   "cell_type": "markdown",
   "id": "dce37d8c",
   "metadata": {},
   "source": [
    "42. Write a program to remove all the occurences of a given word from the string."
   ]
  },
  {
   "cell_type": "code",
   "execution_count": 18,
   "id": "08374dc3",
   "metadata": {},
   "outputs": [
    {
     "name": "stdout",
     "output_type": "stream",
     "text": [
      "This is an  sentence with an  word.\n"
     ]
    }
   ],
   "source": [
    "def remove_word(input_string, word_to_remove):\n",
    "    cleaned_string = input_string.replace(word_to_remove, \"\")\n",
    "    return cleaned_string\n",
    "\n",
    "# Example string and word to remove\n",
    "example_string = \"This is an example sentence with an example word.\"\n",
    "word_to_remove = \"example\"\n",
    "\n",
    "cleaned_result = remove_word(example_string, word_to_remove)\n",
    "print(cleaned_result)"
   ]
  },
  {
   "cell_type": "raw",
   "id": "25f60b8f",
   "metadata": {},
   "source": [
    "In this program, the remove_word function takes an input string and a word to remove as arguments. It uses the replace() method to replace all occurrences of the specified word with an empty string, effectively removing them. The example example_string has occurrences of the word specified in word_to_remove removed, and the cleaned result is printed."
   ]
  },
  {
   "cell_type": "markdown",
   "id": "18f2d501",
   "metadata": {},
   "source": [
    "43. Write a program to concatenate two strings in a third string. Do not use + operator."
   ]
  },
  {
   "cell_type": "code",
   "execution_count": 19,
   "id": "09170ddc",
   "metadata": {},
   "outputs": [
    {
     "name": "stdout",
     "output_type": "stream",
     "text": [
      "Hello, world!\n"
     ]
    }
   ],
   "source": [
    "def concatenate_strings(str1, str2):\n",
    "    concatenated_string = \"{}{}\".format(str1, str2)\n",
    "    return concatenated_string\n",
    "\n",
    "# Example strings\n",
    "string1 = \"Hello, \"\n",
    "string2 = \"world!\"\n",
    "\n",
    "result = concatenate_strings(string1, string2)\n",
    "print(result)"
   ]
  },
  {
   "cell_type": "markdown",
   "id": "d56e872f",
   "metadata": {},
   "source": [
    "In this program, the concatenate_strings function uses string formatting with the {} placeholders to concatenate the two strings together. The example string1 and string2 are concatenated, and the result is printed.\n",
    "\n",
    "Alternatively, you can achieve the same using the .join() method:"
   ]
  },
  {
   "cell_type": "code",
   "execution_count": 20,
   "id": "388554ce",
   "metadata": {},
   "outputs": [
    {
     "name": "stdout",
     "output_type": "stream",
     "text": [
      "Hello, world!\n"
     ]
    }
   ],
   "source": [
    "def concatenate_strings(str1, str2):\n",
    "    concatenated_string = ''.join((str1, str2))\n",
    "    return concatenated_string\n",
    "\n",
    "# Example strings\n",
    "string1 = \"Hello, \"\n",
    "string2 = \"world!\"\n",
    "\n",
    "result = concatenate_strings(string1, string2)\n",
    "print(result)"
   ]
  },
  {
   "cell_type": "raw",
   "id": "c9cbcd20",
   "metadata": {},
   "source": [
    "In this version, the concatenate_strings function uses the .join() method to concatenate the two strings together. The example string1 and string2 are concatenated, and the result is printed."
   ]
  },
  {
   "cell_type": "markdown",
   "id": "33a73285",
   "metadata": {},
   "source": [
    "44. Write a program to append a string to another string. Do not use += operator"
   ]
  },
  {
   "cell_type": "code",
   "execution_count": 21,
   "id": "b050a163",
   "metadata": {},
   "outputs": [
    {
     "name": "stdout",
     "output_type": "stream",
     "text": [
      "Hello, world!\n"
     ]
    }
   ],
   "source": [
    "def append_strings(str1, str2):\n",
    "    appended_string = \"{}{}\".format(str1, str2)\n",
    "    return appended_string\n",
    "\n",
    "# Example strings\n",
    "string1 = \"Hello, \"\n",
    "string2 = \"world!\"\n",
    "\n",
    "result = append_strings(string1, string2)\n",
    "print(result)"
   ]
  },
  {
   "cell_type": "markdown",
   "id": "112f215f",
   "metadata": {},
   "source": [
    "In this program, the append_strings function uses string formatting with the {} placeholders to append one string to another. The example string1 and string2 are appended, and the result is printed.\n",
    "\n",
    "You can also use the .join() method to achieve the same:"
   ]
  },
  {
   "cell_type": "code",
   "execution_count": 22,
   "id": "1fdba280",
   "metadata": {},
   "outputs": [
    {
     "name": "stdout",
     "output_type": "stream",
     "text": [
      "Hello, world!\n"
     ]
    }
   ],
   "source": [
    "def append_strings(str1, str2):\n",
    "    appended_string = ''.join((str1, str2))\n",
    "    return appended_string\n",
    "\n",
    "# Example strings\n",
    "string1 = \"Hello, \"\n",
    "string2 = \"world!\"\n",
    "\n",
    "result = append_strings(string1, string2)\n",
    "print(result)"
   ]
  },
  {
   "cell_type": "raw",
   "id": "d3b8cdc8",
   "metadata": {},
   "source": [
    "In this version, the append_strings function uses the .join() method to append one string to another. The example string1 and string2 are appended, and the result is printed."
   ]
  },
  {
   "cell_type": "markdown",
   "id": "01a9cc74",
   "metadata": {},
   "source": [
    "45. Write a program to swap the two strings."
   ]
  },
  {
   "cell_type": "code",
   "execution_count": 23,
   "id": "fc8cfedf",
   "metadata": {},
   "outputs": [
    {
     "name": "stdout",
     "output_type": "stream",
     "text": [
      "String 1: World\n",
      "String 2: Hello\n"
     ]
    }
   ],
   "source": [
    "def swap_strings(str1, str2):\n",
    "    temp = str1\n",
    "    str1 = str2\n",
    "    str2 = temp\n",
    "    return str1, str2\n",
    "\n",
    "# Example strings\n",
    "string1 = \"Hello\"\n",
    "string2 = \"World\"\n",
    "\n",
    "string1, string2 = swap_strings(string1, string2)\n",
    "print(\"String 1:\", string1)\n",
    "print(\"String 2:\", string2)"
   ]
  },
  {
   "cell_type": "raw",
   "id": "9a062c8c",
   "metadata": {},
   "source": [
    "In this program, the swap_strings function takes two strings as arguments. It uses a temporary variable temp to hold the value of one of the strings, then swaps the values of the two strings. The values are then returned from the function.\n",
    "\n",
    "The example string1 and string2 are swapped using the function, and the swapped values are printed."
   ]
  },
  {
   "cell_type": "markdown",
   "id": "6e3e7818",
   "metadata": {},
   "source": [
    "46. Write a program to insert a string in another string."
   ]
  },
  {
   "cell_type": "code",
   "execution_count": 24,
   "id": "38075200",
   "metadata": {},
   "outputs": [
    {
     "name": "stdout",
     "output_type": "stream",
     "text": [
      "Hello, beautiful world!\n"
     ]
    }
   ],
   "source": [
    "def insert_string(main_string, string_to_insert, position):\n",
    "    new_string = main_string[:position] + string_to_insert + main_string[position:]\n",
    "    return new_string\n",
    "\n",
    "# Example main string, string to insert, and position\n",
    "main_string = \"Hello, world!\"\n",
    "string_to_insert = \"beautiful \"\n",
    "insert_position = 7\n",
    "\n",
    "new_result = insert_string(main_string, string_to_insert, insert_position)\n",
    "print(new_result)"
   ]
  },
  {
   "cell_type": "raw",
   "id": "1e7dffab",
   "metadata": {},
   "source": [
    "In this program, the insert_string function takes a main string, a string to insert, and a position at which to insert the second string. It creates a new string by slicing the main string into two parts at the specified position and then inserting the second string between them.\n",
    "\n",
    "The example main_string, string_to_insert, and insert_position are used with the function to insert the second string into the main string, and the result is printed."
   ]
  },
  {
   "cell_type": "markdown",
   "id": "e017cfd1",
   "metadata": {},
   "source": [
    "47. Write a program to delete a string from another string."
   ]
  },
  {
   "cell_type": "code",
   "execution_count": 25,
   "id": "46e8bb09",
   "metadata": {},
   "outputs": [
    {
     "name": "stdout",
     "output_type": "stream",
     "text": [
      "beautiful world! lovely world!\n"
     ]
    }
   ],
   "source": [
    "def delete_string(main_string, string_to_delete):\n",
    "    new_string = main_string.replace(string_to_delete, \"\")\n",
    "    return new_string\n",
    "\n",
    "# Example main string and string to delete\n",
    "main_string = \"Hello, beautiful world! Hello, lovely world!\"\n",
    "string_to_delete = \"Hello, \"\n",
    "\n",
    "new_result = delete_string(main_string, string_to_delete)\n",
    "print(new_result)"
   ]
  },
  {
   "cell_type": "raw",
   "id": "7feb0f0d",
   "metadata": {},
   "source": [
    "In this program, the delete_string function takes a main string and a string to delete as arguments. It uses the replace() method to replace all occurrences of the second string with an empty string, effectively removing them.\n",
    "\n",
    "The example main_string and string_to_delete are used with the function to remove the occurrences of the second string from the main string, and the result is printed."
   ]
  },
  {
   "cell_type": "markdown",
   "id": "59ca32b3",
   "metadata": {},
   "source": [
    "48. Write a program to replace a string with another string. Do not use the replace()"
   ]
  },
  {
   "cell_type": "code",
   "execution_count": 26,
   "id": "0a611188",
   "metadata": {},
   "outputs": [
    {
     "name": "stdout",
     "output_type": "stream",
     "text": [
      "Hello, new world! Hello, new world!\n"
     ]
    }
   ],
   "source": [
    "def custom_replace(main_string, old_substring, new_substring):\n",
    "    while old_substring in main_string:\n",
    "        index = main_string.find(old_substring)\n",
    "        main_string = main_string[:index] + new_substring + main_string[index + len(old_substring):]\n",
    "    return main_string\n",
    "\n",
    "# Example main string, old substring, and new substring\n",
    "main_string = \"Hello, old world! Hello, old world!\"\n",
    "old_substring = \"old\"\n",
    "new_substring = \"new\"\n",
    "\n",
    "new_result = custom_replace(main_string, old_substring, new_substring)\n",
    "print(new_result)"
   ]
  },
  {
   "cell_type": "raw",
   "id": "49e9c29b",
   "metadata": {},
   "source": [
    "In this program, the custom_replace function takes a main string, an old substring to replace, and a new substring as arguments. It iterates over the main string, finding the index of each occurrence of the old substring using the find() method. Then, it constructs a new string by concatenating the parts of the main string before and after the occurrence, along with the new substring.\n",
    "\n",
    "The example main_string, old_substring, and new_substring are used with the function to replace occurrences of the old substring with the new substring, and the result is printed."
   ]
  },
  {
   "cell_type": "markdown",
   "id": "a7eef1eb",
   "metadata": {},
   "source": [
    "49. Write a program that removes leading and trailing spaces from a string."
   ]
  },
  {
   "cell_type": "code",
   "execution_count": 1,
   "id": "bb50f05d",
   "metadata": {},
   "outputs": [
    {
     "name": "stdout",
     "output_type": "stream",
     "text": [
      "This is a string with spaces.\n"
     ]
    }
   ],
   "source": [
    "def remove_spaces(input_string):\n",
    "    cleaned_string = input_string.strip()\n",
    "    return cleaned_string\n",
    "\n",
    "# Example string with leading and trailing spaces\n",
    "example_string = \"   This is a string with spaces.   \"\n",
    "\n",
    "cleaned_result = remove_spaces(example_string)\n",
    "print(cleaned_result)"
   ]
  },
  {
   "cell_type": "raw",
   "id": "dfa6f4f7",
   "metadata": {},
   "source": [
    "In this program, the remove_spaces function takes an input string and uses the strip() method to remove leading and trailing spaces. The example example_string is processed, and the cleaned result is printed."
   ]
  },
  {
   "cell_type": "markdown",
   "id": "4918f465",
   "metadata": {},
   "source": [
    "50. Write a program to read a name and then display it in abbreviated form, like Janak Raj Thareja should be displayed as JRT."
   ]
  },
  {
   "cell_type": "code",
   "execution_count": 2,
   "id": "b49ef66d",
   "metadata": {},
   "outputs": [
    {
     "name": "stdout",
     "output_type": "stream",
     "text": [
      "Enter your full name: Sachin Kumar G\n",
      "Abbreviated name: SKG\n"
     ]
    }
   ],
   "source": [
    "def get_abbreviated_name(full_name):\n",
    "    names = full_name.split()\n",
    "    abbreviated_name = ''.join([name[0] for name in names])\n",
    "    return abbreviated_name.upper()\n",
    "\n",
    "# Input the full name\n",
    "full_name = input(\"Enter your full name: \")\n",
    "\n",
    "abbreviated_name = get_abbreviated_name(full_name)\n",
    "print(\"Abbreviated name:\", abbreviated_name)"
   ]
  },
  {
   "cell_type": "raw",
   "id": "ff3ab104",
   "metadata": {},
   "source": [
    "In this program, the get_abbreviated_name function takes a full name as input. It splits the full name into individual names using the split() method and then uses a list comprehension to extract the first letter of each name. The join() method is used to join these letters together to form the abbreviated name. Finally, the upper() method is used to convert the abbreviated name to uppercase.\n",
    "\n",
    "You can run the program, input the full name, and it will display the abbreviated form of the name as required."
   ]
  },
  {
   "cell_type": "code",
   "execution_count": null,
   "id": "bf9647f5",
   "metadata": {},
   "outputs": [],
   "source": []
  }
 ],
 "metadata": {
  "kernelspec": {
   "display_name": "Python 3 (ipykernel)",
   "language": "python",
   "name": "python3"
  },
  "language_info": {
   "codemirror_mode": {
    "name": "ipython",
    "version": 3
   },
   "file_extension": ".py",
   "mimetype": "text/x-python",
   "name": "python",
   "nbconvert_exporter": "python",
   "pygments_lexer": "ipython3",
   "version": "3.11.4"
  }
 },
 "nbformat": 4,
 "nbformat_minor": 5
}
