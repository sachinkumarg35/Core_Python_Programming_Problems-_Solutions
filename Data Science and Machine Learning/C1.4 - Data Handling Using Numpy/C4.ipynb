{
 "cells": [
  {
   "cell_type": "markdown",
   "id": "d077cf45",
   "metadata": {},
   "source": [
    "1. Create a Python list that stores temperature of 10 consecutive days measured in degree Celcius. convert this into a Numpy array."
   ]
  },
  {
   "cell_type": "code",
   "execution_count": 1,
   "id": "eceb263e",
   "metadata": {},
   "outputs": [
    {
     "name": "stdout",
     "output_type": "stream",
     "text": [
      "Temperature list: [28.5, 30.2, 31.8, 29.5, 27.4, 26.7, 28.9, 29.1, 30.5, 32.0]\n",
      "Temperature array: [28.5 30.2 31.8 29.5 27.4 26.7 28.9 29.1 30.5 32. ]\n"
     ]
    }
   ],
   "source": [
    "import numpy as np\n",
    "\n",
    "# Create a Python list of temperatures for 10 consecutive days\n",
    "temperature_list = [28.5, 30.2, 31.8, 29.5, 27.4, 26.7, 28.9, 29.1, 30.5, 32.0]\n",
    "\n",
    "# Convert the list into a NumPy array\n",
    "temperature_array = np.array(temperature_list)\n",
    "\n",
    "print(\"Temperature list:\", temperature_list)\n",
    "print(\"Temperature array:\", temperature_array)"
   ]
  },
  {
   "cell_type": "raw",
   "id": "d88b3992",
   "metadata": {},
   "source": [
    "In this example, I've assumed that the temperatures are in degrees Celsius. You can adjust the values in the temperature_list according to your data. The np.array() function is used to convert the list into a NumPy array. The printed output will show both the original list and the NumPy array containing the temperature data."
   ]
  },
  {
   "cell_type": "markdown",
   "id": "f84fb871",
   "metadata": {},
   "source": [
    "2. Create a Numpy array containing multiples of 3 in the range 1 to 100."
   ]
  },
  {
   "cell_type": "code",
   "execution_count": 2,
   "id": "f8c540a4",
   "metadata": {},
   "outputs": [
    {
     "name": "stdout",
     "output_type": "stream",
     "text": [
      "Multiples of 3 array: [ 3  6  9 12 15 18 21 24 27 30 33 36 39 42 45 48 51 54 57 60 63 66 69 72\n",
      " 75 78 81 84 87 90 93 96 99]\n"
     ]
    }
   ],
   "source": [
    "import numpy as np\n",
    "\n",
    "# Create a NumPy array containing multiples of 3\n",
    "multiples_of_3 = np.arange(3, 101, 3)\n",
    "\n",
    "print(\"Multiples of 3 array:\", multiples_of_3)"
   ]
  },
  {
   "cell_type": "raw",
   "id": "7995d144",
   "metadata": {},
   "source": [
    "In this code, the np.arange() function is used to generate an array of numbers starting from 3 up to 100 (inclusive) with a step of 3, effectively generating all the multiples of 3 in that range. The printed output will display the NumPy array containing the desired multiples of 3."
   ]
  },
  {
   "cell_type": "markdown",
   "id": "1e46d396",
   "metadata": {},
   "source": [
    "3. Create a Numpy array containing 10 evenly spaced values from 100 to 105."
   ]
  },
  {
   "cell_type": "code",
   "execution_count": 3,
   "id": "6046f8ca",
   "metadata": {},
   "outputs": [
    {
     "name": "stdout",
     "output_type": "stream",
     "text": [
      "Evenly spaced array: [100.         100.55555556 101.11111111 101.66666667 102.22222222\n",
      " 102.77777778 103.33333333 103.88888889 104.44444444 105.        ]\n"
     ]
    }
   ],
   "source": [
    "import numpy as np\n",
    "\n",
    "# Create a NumPy array with 10 evenly spaced values from 100 to 105\n",
    "evenly_spaced_array = np.linspace(100, 105, 10)\n",
    "\n",
    "print(\"Evenly spaced array:\", evenly_spaced_array)"
   ]
  },
  {
   "cell_type": "raw",
   "id": "a0865fb2",
   "metadata": {},
   "source": [
    "In this code, the np.linspace() function is used to generate an array of 10 values that are evenly spaced between 100 and 105, inclusive. The printed output will display the NumPy array containing the desired evenly spaced values."
   ]
  },
  {
   "cell_type": "markdown",
   "id": "cf0133c4",
   "metadata": {},
   "source": [
    "4. Create a 4*3 Numpy array filled with value 3.9."
   ]
  },
  {
   "cell_type": "code",
   "execution_count": 4,
   "id": "3c430ec9",
   "metadata": {},
   "outputs": [
    {
     "name": "stdout",
     "output_type": "stream",
     "text": [
      "Filled array:\n",
      " [[3.9 3.9 3.9]\n",
      " [3.9 3.9 3.9]\n",
      " [3.9 3.9 3.9]\n",
      " [3.9 3.9 3.9]]\n"
     ]
    }
   ],
   "source": [
    "import numpy as np\n",
    "\n",
    "# Create a 4x3 NumPy array filled with the value 3.9\n",
    "filled_array = np.full((4, 3), 3.9)\n",
    "\n",
    "print(\"Filled array:\\n\", filled_array)"
   ]
  },
  {
   "cell_type": "raw",
   "id": "a7ed1de1",
   "metadata": {},
   "source": [
    "In this code, the np.full() function is used to generate a 4x3 array with all elements set to the value 3.9. The printed output will display the resulting filled array."
   ]
  },
  {
   "cell_type": "markdown",
   "id": "9d10e82b",
   "metadata": {},
   "source": [
    "5. Create a 5*5 Numpy array filled with random values."
   ]
  },
  {
   "cell_type": "code",
   "execution_count": 5,
   "id": "3ca61b6f",
   "metadata": {},
   "outputs": [
    {
     "name": "stdout",
     "output_type": "stream",
     "text": [
      "Random array:\n",
      " [[0.22723372 0.82771483 0.15801421 0.63732631 0.32875927]\n",
      " [0.07093499 0.36487212 0.24802412 0.48312778 0.21684207]\n",
      " [0.63489202 0.75439799 0.72364495 0.2758758  0.25850354]\n",
      " [0.58242097 0.82778178 0.74243004 0.32280464 0.33269386]\n",
      " [0.70891683 0.00142111 0.8467669  0.49793422 0.93770101]]\n"
     ]
    }
   ],
   "source": [
    "import numpy as np\n",
    "\n",
    "# Create a 5x5 NumPy array filled with random values\n",
    "random_array = np.random.rand(5, 5)\n",
    "\n",
    "print(\"Random array:\\n\", random_array)"
   ]
  },
  {
   "cell_type": "raw",
   "id": "7431e141",
   "metadata": {},
   "source": [
    "In this code, the np.random.rand(5, 5) function call generates a 5x5 array filled with random values between 0 and 1. The printed output will display the resulting random array."
   ]
  },
  {
   "cell_type": "markdown",
   "id": "35eaa55d",
   "metadata": {},
   "source": [
    "6. Create a two-dimensional array and print its attributes."
   ]
  },
  {
   "cell_type": "code",
   "execution_count": 6,
   "id": "4499b79e",
   "metadata": {},
   "outputs": [
    {
     "name": "stdout",
     "output_type": "stream",
     "text": [
      "Array:\n",
      "[[ 1  2  3  4]\n",
      " [ 5  6  7  8]\n",
      " [ 9 10 11 12]]\n",
      "\n",
      "Attributes:\n",
      "Shape: (3, 4)\n",
      "Dimensions: 2\n",
      "Size: 12\n",
      "Data Type: int32\n"
     ]
    }
   ],
   "source": [
    "import numpy as np\n",
    "\n",
    "# Create a 2D NumPy array (3x4)\n",
    "two_dimensional_array = np.array([[1, 2, 3, 4],\n",
    "                                  [5, 6, 7, 8],\n",
    "                                  [9, 10, 11, 12]])\n",
    "\n",
    "# Print array attributes\n",
    "print(\"Array:\")\n",
    "print(two_dimensional_array)\n",
    "\n",
    "print(\"\\nAttributes:\")\n",
    "print(\"Shape:\", two_dimensional_array.shape)\n",
    "print(\"Dimensions:\", two_dimensional_array.ndim)\n",
    "print(\"Size:\", two_dimensional_array.size)\n",
    "print(\"Data Type:\", two_dimensional_array.dtype)"
   ]
  },
  {
   "cell_type": "raw",
   "id": "ca69bd9b",
   "metadata": {},
   "source": [
    "In this code, the np.array() function is used to create a 2D array with 3 rows and 4 columns. The array attributes such as shape, dimensions, size, and data type are printed using various attributes and methods provided by NumPy. The printed output will display the array itself along with its attributes."
   ]
  },
  {
   "cell_type": "markdown",
   "id": "420d37c8",
   "metadata": {},
   "source": [
    "7. Create an array of students enrolled in Arts, Dance, and Music activities. Form a single array containing a list of all the students."
   ]
  },
  {
   "cell_type": "code",
   "execution_count": 7,
   "id": "5fd7a205",
   "metadata": {},
   "outputs": [
    {
     "name": "stdout",
     "output_type": "stream",
     "text": [
      "All students: ['Alice' 'Bob' 'Carol' 'David' 'Eve' 'Frank' 'Grace' 'Henry' 'Isabel']\n"
     ]
    }
   ],
   "source": [
    "import numpy as np\n",
    "\n",
    "# Arrays of students enrolled in different activities\n",
    "arts_students = np.array(['Alice', 'Bob', 'Carol'])\n",
    "dance_students = np.array(['David', 'Eve', 'Frank'])\n",
    "music_students = np.array(['Grace', 'Henry', 'Isabel'])\n",
    "\n",
    "# Combine all arrays into a single array\n",
    "all_students = np.concatenate((arts_students, dance_students, music_students))\n",
    "\n",
    "print(\"All students:\", all_students)"
   ]
  },
  {
   "cell_type": "raw",
   "id": "75faa6d1",
   "metadata": {},
   "source": [
    "In this example, the np.concatenate() function is used to concatenate the arrays representing students from different activities into a single array. The resulting all_students array will contain a list of all the students."
   ]
  },
  {
   "cell_type": "markdown",
   "id": "085628a0",
   "metadata": {},
   "source": [
    "8. Create an array storing marks obtained by 5 students in 4 different subjects.\n",
    "\n",
    "* Find the highest marks obtained in each subject.\n",
    "* Print the minimum marks obtained by each student\n",
    "* Insert marks of one more student in this array.\n",
    "* Insert marks of one more subject in the array.\n",
    "* Delete a specific row from this array.\n",
    "* Delete a user specified column from this array."
   ]
  },
  {
   "cell_type": "code",
   "execution_count": 2,
   "id": "174f1183",
   "metadata": {},
   "outputs": [
    {
     "name": "stdout",
     "output_type": "stream",
     "text": [
      "Highest marks per subject: [95 90 92 92]\n",
      "Minimum marks per student: [78 75 79 68 78]\n",
      "Array after adding a new student's marks:\n",
      " [[85 90 78 92]\n",
      " [75 88 92 85]\n",
      " [92 85 88 79]\n",
      " [68 75 82 90]\n",
      " [95 89 78 88]\n",
      " [82 78 88 90]]\n",
      "New subject marks shape doesn't match existing data shape\n",
      "Array after deleting a row:\n",
      " [[85 90 78 92]\n",
      " [75 88 92 85]\n",
      " [68 75 82 90]\n",
      " [95 89 78 88]\n",
      " [82 78 88 90]]\n",
      "Array after deleting a column:\n",
      " [[85 90 92]\n",
      " [75 88 85]\n",
      " [68 75 90]\n",
      " [95 89 88]\n",
      " [82 78 90]]\n"
     ]
    }
   ],
   "source": [
    "import numpy as np\n",
    "\n",
    "# Create an array of marks obtained by 5 students in 4 subjects\n",
    "marks_array = np.array([[85, 90, 78, 92],\n",
    "                        [75, 88, 92, 85],\n",
    "                        [92, 85, 88, 79],\n",
    "                        [68, 75, 82, 90],\n",
    "                        [95, 89, 78, 88]])\n",
    "\n",
    "# Find the highest marks obtained in each subject\n",
    "highest_marks_per_subject = np.max(marks_array, axis=0)\n",
    "print(\"Highest marks per subject:\", highest_marks_per_subject)\n",
    "\n",
    "# Find the minimum marks obtained by each student\n",
    "minimum_marks_per_student = np.min(marks_array, axis=1)\n",
    "print(\"Minimum marks per student:\", minimum_marks_per_student)\n",
    "\n",
    "# Insert marks of one more student\n",
    "new_student_marks = np.array([82, 78, 88, 90])\n",
    "if new_student_marks.shape == marks_array.shape[1:]:\n",
    "    marks_array = np.vstack((marks_array, new_student_marks))\n",
    "    print(\"Array after adding a new student's marks:\\n\", marks_array)\n",
    "else:\n",
    "    print(\"New student marks shape doesn't match existing data shape\")\n",
    "\n",
    "# Insert marks of one more subject\n",
    "new_subject_marks = np.array([91, 83, 78, 94, 88])\n",
    "if new_subject_marks.shape[0] == marks_array.shape[0]:\n",
    "    marks_array = np.column_stack((marks_array, new_subject_marks))\n",
    "    print(\"Array after adding a new subject's marks:\\n\", marks_array)\n",
    "else:\n",
    "    print(\"New subject marks shape doesn't match existing data shape\")\n",
    "\n",
    "# Delete a specific row (e.g., 2nd row)\n",
    "row_to_delete = 2\n",
    "marks_array = np.delete(marks_array, row_to_delete, axis=0)\n",
    "print(\"Array after deleting a row:\\n\", marks_array)\n",
    "\n",
    "# Delete a user-specified column (e.g., 3rd column)\n",
    "column_to_delete = 2\n",
    "marks_array = np.delete(marks_array, column_to_delete, axis=1)\n",
    "print(\"Array after deleting a column:\\n\", marks_array)\n"
   ]
  },
  {
   "cell_type": "code",
   "execution_count": null,
   "id": "d318d368",
   "metadata": {},
   "outputs": [],
   "source": []
  },
  {
   "cell_type": "markdown",
   "id": "5457c2d7",
   "metadata": {},
   "source": [
    "9. Create a 3D array and print elements at even columns and odd row index."
   ]
  },
  {
   "cell_type": "code",
   "execution_count": 3,
   "id": "d3a14018",
   "metadata": {},
   "outputs": [
    {
     "name": "stdout",
     "output_type": "stream",
     "text": [
      "Elements at even columns and odd row indices:\n",
      "[[[ 6  8 10]\n",
      "  [16 18 20]]\n",
      "\n",
      " [[26 28 30]\n",
      "  [36 38 40]]\n",
      "\n",
      " [[46 48 50]\n",
      "  [56 58 60]]]\n"
     ]
    }
   ],
   "source": [
    "import numpy as np\n",
    "\n",
    "# Create a 3D NumPy array (3x4x5)\n",
    "array_3d = np.array([[[1, 2, 3, 4, 5],\n",
    "                      [6, 7, 8, 9, 10],\n",
    "                      [11, 12, 13, 14, 15],\n",
    "                      [16, 17, 18, 19, 20]],\n",
    "                     \n",
    "                     [[21, 22, 23, 24, 25],\n",
    "                      [26, 27, 28, 29, 30],\n",
    "                      [31, 32, 33, 34, 35],\n",
    "                      [36, 37, 38, 39, 40]],\n",
    "                     \n",
    "                     [[41, 42, 43, 44, 45],\n",
    "                      [46, 47, 48, 49, 50],\n",
    "                      [51, 52, 53, 54, 55],\n",
    "                      [56, 57, 58, 59, 60]]])\n",
    "\n",
    "# Print elements at even columns and odd row indices\n",
    "even_columns = array_3d[:, :, ::2]  # Slicing for even columns\n",
    "odd_rows_even_columns = even_columns[:, 1::2, :]  # Slicing for odd row indices\n",
    "\n",
    "print(\"Elements at even columns and odd row indices:\")\n",
    "print(odd_rows_even_columns)"
   ]
  },
  {
   "cell_type": "raw",
   "id": "1f2cb117",
   "metadata": {},
   "source": [
    "In this example, the array_3d represents a 3D array with dimensions 3x4x5. The slicing techniques are used to extract the elements at even columns and odd row indices. The printed output will display the resulting subarray containing the desired elements."
   ]
  },
  {
   "cell_type": "markdown",
   "id": "396dc917",
   "metadata": {},
   "source": [
    "10. Write a program that prints the first column elements of a 2D array."
   ]
  },
  {
   "cell_type": "code",
   "execution_count": 4,
   "id": "f7b34259",
   "metadata": {},
   "outputs": [
    {
     "name": "stdout",
     "output_type": "stream",
     "text": [
      "First column elements: [ 1  4  7 10]\n"
     ]
    }
   ],
   "source": [
    "import numpy as np\n",
    "\n",
    "# Create a 2D NumPy array (4x3)\n",
    "array_2d = np.array([[1, 2, 3],\n",
    "                     [4, 5, 6],\n",
    "                     [7, 8, 9],\n",
    "                     [10, 11, 12]])\n",
    "\n",
    "# Get the first column elements\n",
    "first_column = array_2d[:, 0]\n",
    "\n",
    "# Print the first column elements\n",
    "print(\"First column elements:\", first_column)"
   ]
  },
  {
   "cell_type": "raw",
   "id": "a41497c9",
   "metadata": {},
   "source": [
    "In this program, the array_2d represents a 2D array with dimensions 4x3. The slicing [:, 0] extracts all rows from the first column. The printed output will display the elements of the first column. You can adjust the content of array_2d as needed."
   ]
  },
  {
   "cell_type": "markdown",
   "id": "e00673a8",
   "metadata": {},
   "source": [
    "11. Write a program that creates an array from a tuple and vice versa."
   ]
  },
  {
   "cell_type": "code",
   "execution_count": 5,
   "id": "78cd4208",
   "metadata": {},
   "outputs": [
    {
     "name": "stdout",
     "output_type": "stream",
     "text": [
      "Tuple: (1, 2, 3, 4, 5)\n",
      "Array from tuple: [1 2 3 4 5]\n",
      "Tuple from array: (1, 2, 3, 4, 5)\n"
     ]
    }
   ],
   "source": [
    "import numpy as np\n",
    "\n",
    "# Create a tuple\n",
    "original_tuple = (1, 2, 3, 4, 5)\n",
    "\n",
    "# Convert tuple to a NumPy array\n",
    "array_from_tuple = np.array(original_tuple)\n",
    "\n",
    "print(\"Tuple:\", original_tuple)\n",
    "print(\"Array from tuple:\", array_from_tuple)\n",
    "\n",
    "# Convert NumPy array back to a tuple\n",
    "tuple_from_array = tuple(array_from_tuple)\n",
    "\n",
    "print(\"Tuple from array:\", tuple_from_array)"
   ]
  },
  {
   "cell_type": "raw",
   "id": "e27b72bd",
   "metadata": {},
   "source": [
    "In this program, we first create a tuple named original_tuple. Then, we use np.array() to convert the tuple into a NumPy array called array_from_tuple. Finally, we use the tuple() function to convert the NumPy array back to a tuple named tuple_from_array. The printed output will show the original tuple, the array created from the tuple, and the tuple created from the array."
   ]
  },
  {
   "cell_type": "markdown",
   "id": "e7decd02",
   "metadata": {},
   "source": [
    "12. Create a program that converts a 1D array into 3D array and vice versa."
   ]
  },
  {
   "cell_type": "code",
   "execution_count": 6,
   "id": "3973bdfc",
   "metadata": {},
   "outputs": [
    {
     "name": "stdout",
     "output_type": "stream",
     "text": [
      "Original 1D array: [ 1  2  3  4  5  6  7  8  9 10 11 12]\n",
      "Reshaped 3D array:\n",
      "[[[ 1  2]\n",
      "  [ 3  4]\n",
      "  [ 5  6]]\n",
      "\n",
      " [[ 7  8]\n",
      "  [ 9 10]\n",
      "  [11 12]]]\n",
      "Flattened 1D array: [ 1  2  3  4  5  6  7  8  9 10 11 12]\n"
     ]
    }
   ],
   "source": [
    "import numpy as np\n",
    "\n",
    "# Create a 1D NumPy array\n",
    "original_1d_array = np.array([1, 2, 3, 4, 5, 6, 7, 8, 9, 10, 11, 12])\n",
    "\n",
    "# Convert 1D array to a 3D array (2x3x2)\n",
    "reshaped_3d_array = original_1d_array.reshape(2, 3, 2)\n",
    "\n",
    "print(\"Original 1D array:\", original_1d_array)\n",
    "print(\"Reshaped 3D array:\")\n",
    "print(reshaped_3d_array)\n",
    "\n",
    "# Convert 3D array back to a 1D array\n",
    "flattened_1d_array = reshaped_3d_array.flatten()\n",
    "\n",
    "print(\"Flattened 1D array:\", flattened_1d_array)"
   ]
  },
  {
   "cell_type": "raw",
   "id": "ec0ad5e2",
   "metadata": {},
   "source": [
    "In this program, we first create a 1D array named original_1d_array. Then, we use the reshape() function to convert the 1D array into a 3D array named reshaped_3d_array. We provide the new dimensions as (2, 3, 2) which means 2 arrays of size 3x2. Finally, we use the flatten() function to convert the 3D array back to a 1D array named flattened_1d_array. The printed output will display the original 1D array, the reshaped 3D array, and the flattened 1D array."
   ]
  },
  {
   "cell_type": "markdown",
   "id": "b9b7b3e2",
   "metadata": {},
   "source": [
    "13. Write a program that prints the cube of odd numbers in the array."
   ]
  },
  {
   "cell_type": "code",
   "execution_count": 7,
   "id": "8ea3e60a",
   "metadata": {},
   "outputs": [
    {
     "name": "stdout",
     "output_type": "stream",
     "text": [
      "Odd numbers: [1 3 5 7 9]\n",
      "Cubes of odd numbers: [  1  27 125 343 729]\n"
     ]
    }
   ],
   "source": [
    "import numpy as np\n",
    "\n",
    "# Create a NumPy array\n",
    "num_array = np.array([1, 2, 3, 4, 5, 6, 7, 8, 9, 10])\n",
    "\n",
    "# Find odd numbers and print their cubes\n",
    "odd_numbers = num_array[num_array % 2 != 0]\n",
    "odd_cubes = odd_numbers ** 3\n",
    "\n",
    "print(\"Odd numbers:\", odd_numbers)\n",
    "print(\"Cubes of odd numbers:\", odd_cubes)"
   ]
  },
  {
   "cell_type": "raw",
   "id": "af925240",
   "metadata": {},
   "source": [
    "In this program, we first create a NumPy array named num_array. Then, we use boolean indexing to find the odd numbers in the array by checking the remainder when divided by 2 (num_array % 2 != 0). We then calculate the cubes of the odd numbers using the exponentiation operator (**). Finally, we print the odd numbers and their corresponding cube values."
   ]
  },
  {
   "cell_type": "markdown",
   "id": "1621cdde",
   "metadata": {},
   "source": [
    "14. Write a program that sums the columns of a 2D array and prints the columns whose sum is divisible by 5."
   ]
  },
  {
   "cell_type": "code",
   "execution_count": 8,
   "id": "badcf18a",
   "metadata": {},
   "outputs": [
    {
     "name": "stdout",
     "output_type": "stream",
     "text": [
      "Column sums: [22 34 34]\n",
      "Columns whose sum is divisible by 5: []\n"
     ]
    }
   ],
   "source": [
    "import numpy as np\n",
    "\n",
    "# Create a 2D NumPy array (4x3)\n",
    "array_2d = np.array([[10, 15, 5],\n",
    "                     [3, 8, 12],\n",
    "                     [7, 6, 9],\n",
    "                     [2, 5, 8]])\n",
    "\n",
    "# Sum the columns of the 2D array\n",
    "column_sums = np.sum(array_2d, axis=0)\n",
    "\n",
    "print(\"Column sums:\", column_sums)\n",
    "\n",
    "# Find and print columns whose sum is divisible by 5\n",
    "divisible_by_5_columns = np.where(column_sums % 5 == 0)[0]\n",
    "\n",
    "print(\"Columns whose sum is divisible by 5:\", divisible_by_5_columns)"
   ]
  },
  {
   "cell_type": "raw",
   "id": "9c7324b3",
   "metadata": {},
   "source": [
    "In this program, we first create a 2D array named array_2d. We then calculate the column sums using np.sum() with axis=0 to sum along columns. Next, we use the np.where() function to find the indices of columns whose sum is divisible by 5. Finally, we print the column sums and the indices of the columns whose sum is divisible by 5."
   ]
  },
  {
   "cell_type": "markdown",
   "id": "48f48f71",
   "metadata": {},
   "source": [
    "15. Write a program that prints the sum of columns of a 3D array."
   ]
  },
  {
   "cell_type": "code",
   "execution_count": 9,
   "id": "78573419",
   "metadata": {},
   "outputs": [
    {
     "name": "stdout",
     "output_type": "stream",
     "text": [
      "Column sums: [66 72 78 84]\n"
     ]
    }
   ],
   "source": [
    "import numpy as np\n",
    "\n",
    "# Create a 3D NumPy array (2x3x4)\n",
    "array_3d = np.array([[[1, 2, 3, 4],\n",
    "                      [5, 6, 7, 8],\n",
    "                      [9, 10, 11, 12]],\n",
    "                     \n",
    "                     [[13, 14, 15, 16],\n",
    "                      [17, 18, 19, 20],\n",
    "                      [21, 22, 23, 24]]])\n",
    "\n",
    "# Sum the columns of the 3D array\n",
    "column_sums = np.sum(array_3d, axis=(0, 1))  # Sum along both rows and depth\n",
    "\n",
    "print(\"Column sums:\", column_sums)"
   ]
  },
  {
   "cell_type": "raw",
   "id": "1dd180f8",
   "metadata": {},
   "source": [
    "In this program, we first create a 3D array named array_3d with dimensions 2x3x4. Then, we use np.sum() with axis=(0, 1) to sum along both rows and depth. The result will be the sum of columns across all the matrices in the 3D array. Finally, we print the column sums."
   ]
  },
  {
   "cell_type": "markdown",
   "id": "fdbca3f5",
   "metadata": {},
   "source": [
    "16. Convert a 1D array with 12 elements into a 2-D array. The outermost dimension will have 4 arrays, each with 3 elements."
   ]
  },
  {
   "cell_type": "code",
   "execution_count": 10,
   "id": "34150e37",
   "metadata": {},
   "outputs": [
    {
     "name": "stdout",
     "output_type": "stream",
     "text": [
      "Original 1D array:\n",
      "[ 1  2  3  4  5  6  7  8  9 10 11 12]\n",
      "\n",
      "Reshaped 2D array:\n",
      "[[ 1  2  3]\n",
      " [ 4  5  6]\n",
      " [ 7  8  9]\n",
      " [10 11 12]]\n"
     ]
    }
   ],
   "source": [
    "import numpy as np\n",
    "\n",
    "# Create a 1D NumPy array with 12 elements\n",
    "original_1d_array = np.array([1, 2, 3, 4, 5, 6, 7, 8, 9, 10, 11, 12])\n",
    "\n",
    "# Reshape the 1D array into a 2D array (4x3)\n",
    "reshaped_2d_array = original_1d_array.reshape(4, 3)\n",
    "\n",
    "print(\"Original 1D array:\")\n",
    "print(original_1d_array)\n",
    "\n",
    "print(\"\\nReshaped 2D array:\")\n",
    "print(reshaped_2d_array)"
   ]
  },
  {
   "cell_type": "raw",
   "id": "5f3f4236",
   "metadata": {},
   "source": [
    "In this program, the reshape() method is used to convert the 1D array original_1d_array into a 2D array with dimensions 4x3. The printed output will display both the original 1D array and the reshaped 2D array."
   ]
  },
  {
   "cell_type": "markdown",
   "id": "12f62ef5",
   "metadata": {},
   "source": [
    "17. Create a 3D array with only one 2D array as its element. Reduce dimension of this array and print the resultant array."
   ]
  },
  {
   "cell_type": "code",
   "execution_count": 11,
   "id": "ee67b1e5",
   "metadata": {},
   "outputs": [
    {
     "name": "stdout",
     "output_type": "stream",
     "text": [
      "Original 3D array:\n",
      "[[[ 1  2  3  4]\n",
      "  [ 5  6  7  8]\n",
      "  [ 9 10 11 12]]]\n",
      "\n",
      "Reduced 2D array:\n",
      "[[ 1  2  3  4]\n",
      " [ 5  6  7  8]\n",
      " [ 9 10 11 12]]\n"
     ]
    }
   ],
   "source": [
    "import numpy as np\n",
    "\n",
    "# Create a 3D NumPy array with a single 2D array element (1x3x4)\n",
    "array_3d = np.array([[[1, 2, 3, 4],\n",
    "                      [5, 6, 7, 8],\n",
    "                      [9, 10, 11, 12]]])\n",
    "\n",
    "# Reduce the dimensions to a 2D array\n",
    "reduced_2d_array = array_3d[0]\n",
    "\n",
    "print(\"Original 3D array:\")\n",
    "print(array_3d)\n",
    "\n",
    "print(\"\\nReduced 2D array:\")\n",
    "print(reduced_2d_array)"
   ]
  },
  {
   "cell_type": "raw",
   "id": "4da8827e",
   "metadata": {},
   "source": [
    "In this example, we create a 3D array array_3d with a single 2D array element. We then extract the 2D array from the 3D array by indexing with [0], which effectively reduces the dimensions. The printed output will show both the original 3D array and the reduced 2D array."
   ]
  },
  {
   "cell_type": "code",
   "execution_count": null,
   "id": "958a3997",
   "metadata": {},
   "outputs": [],
   "source": []
  }
 ],
 "metadata": {
  "kernelspec": {
   "display_name": "Python 3 (ipykernel)",
   "language": "python",
   "name": "python3"
  },
  "language_info": {
   "codemirror_mode": {
    "name": "ipython",
    "version": 3
   },
   "file_extension": ".py",
   "mimetype": "text/x-python",
   "name": "python",
   "nbconvert_exporter": "python",
   "pygments_lexer": "ipython3",
   "version": "3.11.4"
  }
 },
 "nbformat": 4,
 "nbformat_minor": 5
}
