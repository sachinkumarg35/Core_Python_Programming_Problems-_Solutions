{
 "cells": [
  {
   "cell_type": "markdown",
   "id": "56582d03",
   "metadata": {},
   "source": [
    "1. Write a program that finds greater of three given numbers using functions. Pass the numbers as arguments."
   ]
  },
  {
   "cell_type": "code",
   "execution_count": 1,
   "id": "99297ea6",
   "metadata": {},
   "outputs": [
    {
     "name": "stdout",
     "output_type": "stream",
     "text": [
      "Enter the first number: 1\n",
      "Enter the second number: 2\n",
      "Enter the third number: 3\n",
      "The greatest number is: 3.0\n"
     ]
    }
   ],
   "source": [
    "def find_greatest(num1, num2, num3):\n",
    "    if num1 >= num2 and num1 >= num3:\n",
    "        return num1\n",
    "    elif num2 >= num1 and num2 >= num3:\n",
    "        return num2\n",
    "    else:\n",
    "        return num3\n",
    "\n",
    "def main():\n",
    "    num1 = float(input(\"Enter the first number: \"))\n",
    "    num2 = float(input(\"Enter the second number: \"))\n",
    "    num3 = float(input(\"Enter the third number: \"))\n",
    "    \n",
    "    greatest = find_greatest(num1, num2, num3)\n",
    "    print(\"The greatest number is:\", greatest)\n",
    "\n",
    "if __name__ == \"__main__\":\n",
    "    main()"
   ]
  },
  {
   "cell_type": "raw",
   "id": "aa5c0b8c",
   "metadata": {},
   "source": [
    "Copy and paste this code into a Python file (e.g., find_greatest.py), and run it using a Python interpreter. The program will prompt you to enter three numbers, and it will then display the greatest number among the three."
   ]
  },
  {
   "cell_type": "markdown",
   "id": "dfd27dac",
   "metadata": {},
   "source": [
    "2. Write a program that prints the time taken to execute a program in python."
   ]
  },
  {
   "cell_type": "code",
   "execution_count": 2,
   "id": "dc8fbb2c",
   "metadata": {},
   "outputs": [
    {
     "name": "stdout",
     "output_type": "stream",
     "text": [
      "Time taken to execute: 0.171777 seconds\n"
     ]
    }
   ],
   "source": [
    "import time\n",
    "\n",
    "def main():\n",
    "    start_time = time.time()  # Record the start time\n",
    "    \n",
    "    # Your program's code here\n",
    "    total = 0\n",
    "    for i in range(1, 1000001):\n",
    "        total += i\n",
    "    \n",
    "    end_time = time.time()  # Record the end time\n",
    "    elapsed_time = end_time - start_time  # Calculate the elapsed time\n",
    "    \n",
    "    print(\"Time taken to execute: {:.6f} seconds\".format(elapsed_time))\n",
    "\n",
    "if __name__ == \"__main__\":\n",
    "    main()"
   ]
  },
  {
   "cell_type": "raw",
   "id": "7297c01d",
   "metadata": {},
   "source": [
    "Replace the for loop and the code within the main() function with the program you want to measure. This example measures the time taken to sum up numbers from 1 to 1,000,000. When you run the program, it will print the time taken to execute the code in seconds."
   ]
  },
  {
   "cell_type": "markdown",
   "id": "d213da25",
   "metadata": {},
   "source": [
    "3. Write a function that returns the absolute value of a number."
   ]
  },
  {
   "cell_type": "code",
   "execution_count": 5,
   "id": "6bed6df7",
   "metadata": {},
   "outputs": [
    {
     "name": "stdout",
     "output_type": "stream",
     "text": [
      "Enter a number: -52.514\n",
      "The absolute value of -52.514 is 52.514\n"
     ]
    }
   ],
   "source": [
    "def absolute_value(number):\n",
    "    if number < 0:\n",
    "        return -number\n",
    "    else:\n",
    "        return number\n",
    "\n",
    "# Example usage\n",
    "num = float(input(\"Enter a number: \"))\n",
    "abs_value = absolute_value(num)\n",
    "print(\"The absolute value of {} is {}\".format(num, abs_value))"
   ]
  },
  {
   "cell_type": "raw",
   "id": "5676a40b",
   "metadata": {},
   "source": [
    "You can call the absolute_value() function with a number as an argument, and it will return the absolute value of that number."
   ]
  },
  {
   "cell_type": "markdown",
   "id": "9a7b8ed0",
   "metadata": {},
   "source": [
    "4. Write a function is_prime() that returns a 1 if the argument passed to it is a prime a number and a 0 otherwise."
   ]
  },
  {
   "cell_type": "code",
   "execution_count": 7,
   "id": "3b6d1dc3",
   "metadata": {},
   "outputs": [
    {
     "name": "stdout",
     "output_type": "stream",
     "text": [
      "Enter a number: 4\n",
      "4 is not a prime number.\n"
     ]
    }
   ],
   "source": [
    "def is_prime(number):\n",
    "    if number <= 1:\n",
    "        return 0  # 0 and 1 are not prime\n",
    "    \n",
    "    if number <= 3:\n",
    "        return 1  # 2 and 3 are prime\n",
    "    \n",
    "    if number % 2 == 0 or number % 3 == 0:\n",
    "        return 0  # Divisible by 2 or 3\n",
    "    \n",
    "    i = 5\n",
    "    while i * i <= number:\n",
    "        if number % i == 0 or number % (i + 2) == 0:\n",
    "            return 0  # Divisible by i or i + 2\n",
    "        i += 6\n",
    "        \n",
    "    return 1\n",
    "\n",
    "# Example usage\n",
    "num = int(input(\"Enter a number: \"))\n",
    "if is_prime(num):\n",
    "    print(\"{} is a prime number.\".format(num))\n",
    "else:\n",
    "    print(\"{} is not a prime number.\".format(num))"
   ]
  },
  {
   "cell_type": "raw",
   "id": "df0b8cde",
   "metadata": {},
   "source": [
    "This code defines the is_prime() function and then asks the user for a number. It checks whether the entered number is prime or not and prints the result accordingly."
   ]
  },
  {
   "cell_type": "markdown",
   "id": "2b8c1cc2",
   "metadata": {},
   "source": [
    "5. Write a function that accepts an integer between 1 and 12 to represent the month number and displays the corresponding month of the year (For example, if month = 1, then display JANUARY)."
   ]
  },
  {
   "cell_type": "code",
   "execution_count": 8,
   "id": "dff1d3b3",
   "metadata": {},
   "outputs": [
    {
     "name": "stdout",
     "output_type": "stream",
     "text": [
      "Enter a month number (1-12): 2\n",
      "Corresponding month: FEBRUARY\n"
     ]
    }
   ],
   "source": [
    "def display_month(month_number):\n",
    "    if month_number == 1:\n",
    "        return \"JANUARY\"\n",
    "    elif month_number == 2:\n",
    "        return \"FEBRUARY\"\n",
    "    elif month_number == 3:\n",
    "        return \"MARCH\"\n",
    "    elif month_number == 4:\n",
    "        return \"APRIL\"\n",
    "    elif month_number == 5:\n",
    "        return \"MAY\"\n",
    "    elif month_number == 6:\n",
    "        return \"JUNE\"\n",
    "    elif month_number == 7:\n",
    "        return \"JULY\"\n",
    "    elif month_number == 8:\n",
    "        return \"AUGUST\"\n",
    "    elif month_number == 9:\n",
    "        return \"SEPTEMBER\"\n",
    "    elif month_number == 10:\n",
    "        return \"OCTOBER\"\n",
    "    elif month_number == 11:\n",
    "        return \"NOVEMBER\"\n",
    "    elif month_number == 12:\n",
    "        return \"DECEMBER\"\n",
    "    else:\n",
    "        return \"Invalid month number\"\n",
    "\n",
    "# Example usage\n",
    "month_num = int(input(\"Enter a month number (1-12): \"))\n",
    "month_name = display_month(month_num)\n",
    "print(\"Corresponding month: {}\".format(month_name))"
   ]
  },
  {
   "cell_type": "raw",
   "id": "874d93b1",
   "metadata": {},
   "source": [
    "You can call the display_month() function with a month number between 1 and 12, and it will return the corresponding month name."
   ]
  },
  {
   "cell_type": "markdown",
   "id": "dc6e235d",
   "metadata": {},
   "source": [
    "6. Write a function is_a leap_year, which takes the year as its argument and checks whether the year is a leap year or not and then displays an appropriate message on the screen."
   ]
  },
  {
   "cell_type": "code",
   "execution_count": 9,
   "id": "33d1f3a0",
   "metadata": {},
   "outputs": [
    {
     "name": "stdout",
     "output_type": "stream",
     "text": [
      "Enter a year: 2006\n",
      "2006 is not a leap year.\n"
     ]
    }
   ],
   "source": [
    "def is_leap_year(year):\n",
    "    if (year % 4 == 0 and year % 100 != 0) or (year % 400 == 0):\n",
    "        return True\n",
    "    else:\n",
    "        return False\n",
    "\n",
    "def main():\n",
    "    year = int(input(\"Enter a year: \"))\n",
    "    \n",
    "    if is_leap_year(year):\n",
    "        print(\"{} is a leap year.\".format(year))\n",
    "    else:\n",
    "        print(\"{} is not a leap year.\".format(year))\n",
    "\n",
    "if __name__ == \"__main__\":\n",
    "    main()"
   ]
  },
  {
   "cell_type": "raw",
   "id": "bc095e89",
   "metadata": {},
   "source": [
    "This code defines the is_leap_year() function, which checks whether the given year is a leap year using the leap year rule (divisible by 4 but not divisible by 100 unless also divisible by 400). The main() function takes user input for a year and then calls the is_leap_year() function to determine whether it's a leap year or not. The program then prints the appropriate message."
   ]
  },
  {
   "cell_type": "markdown",
   "id": "0d6760e7",
   "metadata": {},
   "source": [
    "7. Write a program to swap two variables that are defined as global variables."
   ]
  },
  {
   "cell_type": "code",
   "execution_count": 10,
   "id": "6a27beaa",
   "metadata": {},
   "outputs": [
    {
     "name": "stdout",
     "output_type": "stream",
     "text": [
      "Before swapping:\n",
      "global_var1 = 5\n",
      "global_var2 = 10\n",
      "\n",
      "After swapping:\n",
      "global_var1 = 10\n",
      "global_var2 = 5\n"
     ]
    }
   ],
   "source": [
    "# Define global variables\n",
    "global_var1 = 5\n",
    "global_var2 = 10\n",
    "\n",
    "def swap_globals():\n",
    "    global global_var1, global_var2\n",
    "    global_var1, global_var2 = global_var2, global_var1\n",
    "\n",
    "# Display initial values\n",
    "print(\"Before swapping:\")\n",
    "print(\"global_var1 =\", global_var1)\n",
    "print(\"global_var2 =\", global_var2)\n",
    "\n",
    "# Swap the global variables\n",
    "swap_globals()\n",
    "\n",
    "# Display values after swapping\n",
    "print(\"\\nAfter swapping:\")\n",
    "print(\"global_var1 =\", global_var1)\n",
    "print(\"global_var2 =\", global_var2)"
   ]
  },
  {
   "cell_type": "raw",
   "id": "f4fbcbef",
   "metadata": {},
   "source": [
    "In this example, global_var1 and global_var2 are the global variables that you want to swap. The swap_globals() function uses a temporary variable to swap the values of these variables. The initial values of the global variables are displayed before swapping, and then the swapped values are displayed after swapping."
   ]
  },
  {
   "cell_type": "markdown",
   "id": "f0432360",
   "metadata": {},
   "source": [
    "8. Write a menu-driven program to add, subtract, multiply and divide two integers using functions."
   ]
  },
  {
   "cell_type": "code",
   "execution_count": 11,
   "id": "d50bc94d",
   "metadata": {},
   "outputs": [
    {
     "name": "stdout",
     "output_type": "stream",
     "text": [
      "Menu:\n",
      "1. Add\n",
      "2. Subtract\n",
      "3. Multiply\n",
      "4. Divide\n",
      "5. Quit\n",
      "Enter your choice (1/2/3/4/5): 3\n",
      "Enter the first number: 4\n",
      "Enter the second number: 2\n",
      "Result: 8\n",
      "\n",
      "Menu:\n",
      "1. Add\n",
      "2. Subtract\n",
      "3. Multiply\n",
      "4. Divide\n",
      "5. Quit\n",
      "Enter your choice (1/2/3/4/5): 5\n",
      "Exiting the program.\n"
     ]
    }
   ],
   "source": [
    "def add(x, y):\n",
    "    return x + y\n",
    "\n",
    "def subtract(x, y):\n",
    "    return x - y\n",
    "\n",
    "def multiply(x, y):\n",
    "    return x * y\n",
    "\n",
    "def divide(x, y):\n",
    "    if y == 0:\n",
    "        return \"Cannot divide by zero\"\n",
    "    return x / y\n",
    "\n",
    "def main():\n",
    "    while True:\n",
    "        print(\"Menu:\")\n",
    "        print(\"1. Add\")\n",
    "        print(\"2. Subtract\")\n",
    "        print(\"3. Multiply\")\n",
    "        print(\"4. Divide\")\n",
    "        print(\"5. Quit\")\n",
    "        \n",
    "        choice = int(input(\"Enter your choice (1/2/3/4/5): \"))\n",
    "        \n",
    "        if choice == 5:\n",
    "            print(\"Exiting the program.\")\n",
    "            break\n",
    "        \n",
    "        num1 = int(input(\"Enter the first number: \"))\n",
    "        num2 = int(input(\"Enter the second number: \"))\n",
    "        \n",
    "        if choice == 1:\n",
    "            result = add(num1, num2)\n",
    "        elif choice == 2:\n",
    "            result = subtract(num1, num2)\n",
    "        elif choice == 3:\n",
    "            result = multiply(num1, num2)\n",
    "        elif choice == 4:\n",
    "            result = divide(num1, num2)\n",
    "        else:\n",
    "            print(\"Invalid choice\")\n",
    "            continue\n",
    "        \n",
    "        print(\"Result:\", result)\n",
    "        print()\n",
    "\n",
    "if __name__ == \"__main__\":\n",
    "    main()"
   ]
  },
  {
   "cell_type": "raw",
   "id": "3ae3e247",
   "metadata": {},
   "source": [
    "This program presents a menu to the user, allowing them to choose an operation (add, subtract, multiply, divide) or exit the program. It takes two integer inputs from the user and performs the chosen operation using the corresponding function. The program then displays the result."
   ]
  },
  {
   "cell_type": "markdown",
   "id": "ec184127",
   "metadata": {},
   "source": [
    "9. Write a program using function that calculates the hypotenuse of a right-angled triangle."
   ]
  },
  {
   "cell_type": "code",
   "execution_count": 12,
   "id": "d772a629",
   "metadata": {},
   "outputs": [
    {
     "name": "stdout",
     "output_type": "stream",
     "text": [
      "Calculate the hypotenuse of a right-angled triangle\n",
      "Enter the length of side 'a': 5\n",
      "Enter the length of side 'b': 5\n",
      "The hypotenuse is: 7.0710678118654755\n"
     ]
    }
   ],
   "source": [
    "import math\n",
    "\n",
    "def calculate_hypotenuse(a, b):\n",
    "    return math.sqrt(a**2 + b**2)\n",
    "\n",
    "def main():\n",
    "    print(\"Calculate the hypotenuse of a right-angled triangle\")\n",
    "    side_a = float(input(\"Enter the length of side 'a': \"))\n",
    "    side_b = float(input(\"Enter the length of side 'b': \"))\n",
    "    \n",
    "    hypotenuse = calculate_hypotenuse(side_a, side_b)\n",
    "    print(\"The hypotenuse is:\", hypotenuse)\n",
    "\n",
    "if __name__ == \"__main__\":\n",
    "    main()"
   ]
  },
  {
   "cell_type": "raw",
   "id": "bc0b8bbe",
   "metadata": {},
   "source": [
    "In this program, the calculate_hypotenuse() function takes the lengths of the two shorter sides of the right-angled triangle as arguments and calculates the hypotenuse using the Pythagorean theorem. The main() function takes user input for the lengths of the two sides and then calculates and displays the hypotenuse."
   ]
  },
  {
   "cell_type": "markdown",
   "id": "0bdea2ad",
   "metadata": {},
   "source": [
    "10. Write a function that accepts a number n as input and returns the average of numbers from 1 to n."
   ]
  },
  {
   "cell_type": "code",
   "execution_count": 13,
   "id": "54b7c2a2",
   "metadata": {},
   "outputs": [
    {
     "name": "stdout",
     "output_type": "stream",
     "text": [
      "Enter a number: 10\n",
      "The average of numbers from 1 to 10 is 5.50\n"
     ]
    }
   ],
   "source": [
    "def calculate_average(n):\n",
    "    total = 0\n",
    "    for i in range(1, n + 1):\n",
    "        total += i\n",
    "    average = total / n\n",
    "    return average\n",
    "\n",
    "# Example usage\n",
    "num = int(input(\"Enter a number: \"))\n",
    "avg = calculate_average(num)\n",
    "print(\"The average of numbers from 1 to {} is {:.2f}\".format(num, avg))"
   ]
  },
  {
   "cell_type": "raw",
   "id": "3b9e9a98",
   "metadata": {},
   "source": [
    "You can call the calculate_average() function with a number n, and it will calculate and return the average of numbers from 1 to n."
   ]
  },
  {
   "cell_type": "markdown",
   "id": "50c0f33c",
   "metadata": {},
   "source": [
    "11. Write a program to calculate the area of a triangle using function."
   ]
  },
  {
   "cell_type": "code",
   "execution_count": 14,
   "id": "486efa40",
   "metadata": {},
   "outputs": [
    {
     "name": "stdout",
     "output_type": "stream",
     "text": [
      "Calculate the area of a triangle\n",
      "Enter the base length: 28\n",
      "Enter the height: 64\n",
      "The area of the triangle is: 896.0\n"
     ]
    }
   ],
   "source": [
    "def calculate_triangle_area(base, height):\n",
    "    return 0.5 * base * height\n",
    "\n",
    "def main():\n",
    "    print(\"Calculate the area of a triangle\")\n",
    "    base = float(input(\"Enter the base length: \"))\n",
    "    height = float(input(\"Enter the height: \"))\n",
    "    \n",
    "    area = calculate_triangle_area(base, height)\n",
    "    print(\"The area of the triangle is:\", area)\n",
    "\n",
    "if __name__ == \"__main__\":\n",
    "    main()"
   ]
  },
  {
   "cell_type": "raw",
   "id": "ae90172f",
   "metadata": {},
   "source": [
    "In this program, the calculate_triangle_area() function takes the base length and height of the triangle as arguments and calculates the area using the formula (1/2) * base * height. The main() function takes user input for the base length and height, calculates the area using the function, and then displays the result."
   ]
  },
  {
   "cell_type": "markdown",
   "id": "aad329d2",
   "metadata": {},
   "source": [
    "12. Write a program using function to calculate x to the power of y, where y be either negative or positive. Pass dictionary as an argument to the function."
   ]
  },
  {
   "cell_type": "code",
   "execution_count": 15,
   "id": "8fda5dba",
   "metadata": {},
   "outputs": [
    {
     "name": "stdout",
     "output_type": "stream",
     "text": [
      "Enter the value of x: 2\n",
      "Enter the value of y: 3\n",
      "Result: 8.0\n"
     ]
    }
   ],
   "source": [
    "def power_of_x(dictionary):\n",
    "    x = dictionary['x']\n",
    "    y = dictionary['y']\n",
    "    result = x ** y\n",
    "    return result\n",
    "\n",
    "def main():\n",
    "    input_dict = {\n",
    "        'x': float(input(\"Enter the value of x: \")),\n",
    "        'y': float(input(\"Enter the value of y: \"))\n",
    "    }\n",
    "    \n",
    "    result = power_of_x(input_dict)\n",
    "    print(\"Result:\", result)\n",
    "\n",
    "if __name__ == \"__main__\":\n",
    "    main()"
   ]
  },
  {
   "cell_type": "raw",
   "id": "af2ff816",
   "metadata": {},
   "source": [
    "In this program, the power_of_x() function takes a dictionary as an argument containing the values of x and y. It calculates x to the power of y using the ** operator. The main() function takes user input for the values of x and y, constructs the dictionary, calls the power_of_x() function, and then displays the result."
   ]
  },
  {
   "cell_type": "markdown",
   "id": "dc214369",
   "metadata": {},
   "source": [
    "13. Write a program using function to calculate compound interest given the principal, rate of interest and number of years."
   ]
  },
  {
   "cell_type": "code",
   "execution_count": 16,
   "id": "4aa3739d",
   "metadata": {},
   "outputs": [
    {
     "name": "stdout",
     "output_type": "stream",
     "text": [
      "Enter the principal amount: 62350.00\n",
      "Enter the rate of interest (in %): 8.526452\n",
      "Enter the number of years: 4.24\n",
      "Compound Interest: 25857.887924479757\n"
     ]
    }
   ],
   "source": [
    "def calculate_compound_interest(principal, rate, time):\n",
    "    compound_interest = principal * (1 + rate/100)**time - principal\n",
    "    return compound_interest\n",
    "\n",
    "def main():\n",
    "    principal = float(input(\"Enter the principal amount: \"))\n",
    "    rate = float(input(\"Enter the rate of interest (in %): \"))\n",
    "    time = float(input(\"Enter the number of years: \"))\n",
    "    \n",
    "    interest = calculate_compound_interest(principal, rate, time)\n",
    "    print(\"Compound Interest:\", interest)\n",
    "\n",
    "if __name__ == \"__main__\":\n",
    "    main()"
   ]
  },
  {
   "cell_type": "raw",
   "id": "7e78e270",
   "metadata": {},
   "source": [
    "In this program, the calculate_compound_interest() function takes the principal amount, rate of interest (in percentage), and number of years as arguments. It calculates the compound interest using the formula principal * (1 + rate/100)**time - principal. The main() function takes user input for the principal, rate, and time, then calculates and displays the compound interest using the function."
   ]
  },
  {
   "cell_type": "markdown",
   "id": "e487dfa6",
   "metadata": {},
   "source": [
    "14. Write a function that converts temperature given in Celcius into Fahrenheit."
   ]
  },
  {
   "cell_type": "code",
   "execution_count": 17,
   "id": "5a9a1188",
   "metadata": {},
   "outputs": [
    {
     "name": "stdout",
     "output_type": "stream",
     "text": [
      "Enter temperature in Celsius: 12\n",
      "Temperature in Fahrenheit: 53.6\n"
     ]
    }
   ],
   "source": [
    "def celsius_to_fahrenheit(celsius):\n",
    "    fahrenheit = (celsius * 9/5) + 32\n",
    "    return fahrenheit\n",
    "\n",
    "# Example usage\n",
    "celsius_temp = float(input(\"Enter temperature in Celsius: \"))\n",
    "fahrenheit_temp = celsius_to_fahrenheit(celsius_temp)\n",
    "print(\"Temperature in Fahrenheit:\", fahrenheit_temp)"
   ]
  },
  {
   "cell_type": "raw",
   "id": "d87da6b4",
   "metadata": {},
   "source": [
    "You can call the celsius_to_fahrenheit() function with a temperature in Celsius as an argument, and it will return the equivalent temperature in Fahrenheit."
   ]
  },
  {
   "cell_type": "markdown",
   "id": "7f46d691",
   "metadata": {},
   "source": [
    "15. Write a function to draw the following pattern on the screen."
   ]
  },
  {
   "cell_type": "markdown",
   "id": "fec94034",
   "metadata": {},
   "source": [
    "# **************\n",
    "# !            !\n",
    "# !            !\n",
    "# !            !\n",
    "# **************"
   ]
  },
  {
   "cell_type": "code",
   "execution_count": 18,
   "id": "86f535e7",
   "metadata": {},
   "outputs": [
    {
     "name": "stdout",
     "output_type": "stream",
     "text": [
      "**************\n",
      "!        !\n",
      "!         !\n",
      "!         !\n",
      "**************\n"
     ]
    }
   ],
   "source": [
    "def draw_pattern():\n",
    "    print(\"**************\")\n",
    "    print(\"!        !\")\n",
    "    print(\"!         !\")\n",
    "    print(\"!         !\")\n",
    "    print(\"**************\")\n",
    "\n",
    "# Call the function to draw the pattern\n",
    "draw_pattern()"
   ]
  },
  {
   "cell_type": "raw",
   "id": "52c52528",
   "metadata": {},
   "source": [
    "When you call the draw_pattern() function, it will print the pattern on the screen as described."
   ]
  },
  {
   "cell_type": "markdown",
   "id": "b1abf3e4",
   "metadata": {},
   "source": [
    "16. Write a function called printStatus that is passed status code. 'S', 'M', 'D' or 'U'  and returns the string 'Separated', 'Married', \n",
    "'Divorced' or 'Unmarried'. respectively. In case an inappropriate message. Also include a docstring with your function."
   ]
  },
  {
   "cell_type": "code",
   "execution_count": 20,
   "id": "6f33d773",
   "metadata": {},
   "outputs": [
    {
     "name": "stdout",
     "output_type": "stream",
     "text": [
      "Enter status code (S/M/D/U): U\n",
      "Status: Unmarried\n"
     ]
    }
   ],
   "source": [
    "def printStatus(status_code):\n",
    "    \"\"\"\n",
    "    Converts status code to corresponding status string.\n",
    "\n",
    "    Parameters:\n",
    "    status_code (str): The status code to be converted. Can be 'S', 'M', 'D', or 'U'.\n",
    "\n",
    "    Returns:\n",
    "    str: The corresponding status string.\n",
    "    \"\"\"\n",
    "\n",
    "    if status_code == 'S':\n",
    "        return \"Separated\"\n",
    "    elif status_code == 'M':\n",
    "        return \"Married\"\n",
    "    elif status_code == 'D':\n",
    "        return \"Divorced\"\n",
    "    elif status_code == 'U':\n",
    "        return \"Unmarried\"\n",
    "    else:\n",
    "        return \"Inappropriate status code\"\n",
    "\n",
    "# Example usage\n",
    "status_code = input(\"Enter status code (S/M/D/U): \").upper()\n",
    "status_string = printStatus(status_code)\n",
    "print(\"Status:\", status_string)"
   ]
  },
  {
   "cell_type": "raw",
   "id": "15ad008e",
   "metadata": {},
   "source": [
    "This function printStatus() takes a status code ('S', 'M', 'D', or 'U') as an argument and returns the corresponding status string. It includes a docstring that explains the function's purpose, parameters, and return value. The example usage takes user input for a status code and then displays the corresponding status string."
   ]
  },
  {
   "cell_type": "markdown",
   "id": "d33911f6",
   "metadata": {},
   "source": [
    "17. Write a function that accepta three integers and returns True if any of the integers is 0, otherwise it returns False."
   ]
  },
  {
   "cell_type": "code",
   "execution_count": 21,
   "id": "9027a655",
   "metadata": {},
   "outputs": [
    {
     "name": "stdout",
     "output_type": "stream",
     "text": [
      "Enter the first number: 5\n",
      "Enter the second number: 2\n",
      "Enter the third number: 6\n",
      "Contains zero: False\n"
     ]
    }
   ],
   "source": [
    "def has_zero(x, y, z):\n",
    "    if x == 0 or y == 0 or z == 0:\n",
    "        return True\n",
    "    else:\n",
    "        return False\n",
    "\n",
    "# Example usage\n",
    "num1 = int(input(\"Enter the first number: \"))\n",
    "num2 = int(input(\"Enter the second number: \"))\n",
    "num3 = int(input(\"Enter the third number: \"))\n",
    "\n",
    "result = has_zero(num1, num2, num3)\n",
    "print(\"Contains zero:\", result)"
   ]
  },
  {
   "cell_type": "raw",
   "id": "8565ed9d",
   "metadata": {},
   "source": [
    "You can call the has_zero() function with three integers as arguments, and it will return True if any of the integers is 0, and False otherwise."
   ]
  },
  {
   "cell_type": "markdown",
   "id": "a4d487b1",
   "metadata": {},
   "source": [
    "18. Write a function that accepts two positive numbers n and m where m<=n, and returns numbers between 1 and n that are divisible by m."
   ]
  },
  {
   "cell_type": "code",
   "execution_count": 22,
   "id": "4231ee92",
   "metadata": {},
   "outputs": [
    {
     "name": "stdout",
     "output_type": "stream",
     "text": [
      "Enter a positive number n: 5\n",
      "Enter a positive number m (m <= n): 2\n",
      "Numbers between 1 and 5 divisible by 2: [2, 4]\n"
     ]
    }
   ],
   "source": [
    "def find_divisible_numbers(n, m):\n",
    "    divisible_numbers = []\n",
    "    for num in range(1, n + 1):\n",
    "        if num % m == 0:\n",
    "            divisible_numbers.append(num)\n",
    "    return divisible_numbers\n",
    "\n",
    "# Example usage\n",
    "n = int(input(\"Enter a positive number n: \"))\n",
    "m = int(input(\"Enter a positive number m (m <= n): \"))\n",
    "\n",
    "if m > n:\n",
    "    print(\"Invalid input: m should be less than or equal to n.\")\n",
    "else:\n",
    "    result = find_divisible_numbers(n, m)\n",
    "    print(\"Numbers between 1 and {} divisible by {}: {}\".format(n, m, result))"
   ]
  },
  {
   "cell_type": "raw",
   "id": "e684ea8e",
   "metadata": {},
   "source": [
    "You can call the find_divisible_numbers() function with n and m as arguments, and it will return a list of numbers between 1 and n that are divisible by m."
   ]
  },
  {
   "cell_type": "markdown",
   "id": "16bfbfd5",
   "metadata": {},
   "source": [
    "19. Write a function that displays 'Hello name', for any given name passed to it.   "
   ]
  },
  {
   "cell_type": "code",
   "execution_count": 23,
   "id": "1417391d",
   "metadata": {},
   "outputs": [
    {
     "name": "stdout",
     "output_type": "stream",
     "text": [
      "Enter your name: Sachin\n",
      "Hello Sachin\n"
     ]
    }
   ],
   "source": [
    "def greet(name):\n",
    "    print(\"Hello\", name)\n",
    "\n",
    "# Example usage\n",
    "user_name = input(\"Enter your name: \")\n",
    "greet(user_name)"
   ]
  },
  {
   "cell_type": "raw",
   "id": "4d99d23a",
   "metadata": {},
   "source": [
    "You can call the greet() function with a name as an argument, and it will display \"Hello [name]\"."
   ]
  },
  {
   "cell_type": "markdown",
   "id": "83ad6b18",
   "metadata": {},
   "source": [
    "20. Write a program to print the prime factors of a number."
   ]
  },
  {
   "cell_type": "code",
   "execution_count": 24,
   "id": "f3bdac05",
   "metadata": {},
   "outputs": [
    {
     "name": "stdout",
     "output_type": "stream",
     "text": [
      "Enter a number: 5\n",
      "Prime factors of 5:\n",
      "5 "
     ]
    }
   ],
   "source": [
    "def is_prime(number):\n",
    "    if number <= 1:\n",
    "        return False\n",
    "    if number <= 3:\n",
    "        return True\n",
    "    if number % 2 == 0 or number % 3 == 0:\n",
    "        return False\n",
    "    i = 5\n",
    "    while i * i <= number:\n",
    "        if number % i == 0 or number % (i + 2) == 0:\n",
    "            return False\n",
    "        i += 6\n",
    "    return True\n",
    "\n",
    "def prime_factors(n):\n",
    "    factors = []\n",
    "    i = 2\n",
    "    while i <= n:\n",
    "        if n % i == 0 and is_prime(i):\n",
    "            factors.append(i)\n",
    "            n //= i\n",
    "        else:\n",
    "            i += 1\n",
    "    return factors\n",
    "\n",
    "def main():\n",
    "    number = int(input(\"Enter a number: \"))\n",
    "    factors = prime_factors(number)\n",
    "    \n",
    "    print(\"Prime factors of {}:\".format(number))\n",
    "    for factor in factors:\n",
    "        print(factor, end=\" \")\n",
    "\n",
    "if __name__ == \"__main__\":\n",
    "    main()"
   ]
  },
  {
   "cell_type": "raw",
   "id": "367d5ff9",
   "metadata": {},
   "source": [
    "This program defines two functions: is_prime() to check if a number is prime, and prime_factors() to find the prime factors of a given number. The main() function takes user input for a number, calculates its prime factors using the prime_factors() function, and then displays the prime factors."
   ]
  },
  {
   "cell_type": "markdown",
   "id": "e3c90514",
   "metadata": {},
   "source": [
    "21. Write a program that prompts user to enter 10 numbers. Find the smallest and the second smallest number entered by the user."
   ]
  },
  {
   "cell_type": "code",
   "execution_count": 25,
   "id": "08566b9e",
   "metadata": {},
   "outputs": [
    {
     "name": "stdout",
     "output_type": "stream",
     "text": [
      "Enter number 1: 54\n",
      "Enter number 2: 41\n",
      "Enter number 3: 415\n",
      "Enter number 4: 426\n",
      "Enter number 5: 411\n",
      "Enter number 6: 74\n",
      "Enter number 7: 12\n",
      "Enter number 8: 11\n",
      "Enter number 9: 522\n",
      "Enter number 10: 112\n",
      "Smallest number: 11.0\n",
      "Second smallest number: 12.0\n"
     ]
    }
   ],
   "source": [
    "def main():\n",
    "    numbers = []\n",
    "    for i in range(10):\n",
    "        num = float(input(\"Enter number {}: \".format(i + 1)))\n",
    "        numbers.append(num)\n",
    "    \n",
    "    numbers.sort()\n",
    "    \n",
    "    smallest = numbers[0]\n",
    "    second_smallest = numbers[1]\n",
    "    \n",
    "    for num in numbers[2:]:\n",
    "        if num < second_smallest:\n",
    "            second_smallest = num\n",
    "    \n",
    "    print(\"Smallest number:\", smallest)\n",
    "    print(\"Second smallest number:\", second_smallest)\n",
    "\n",
    "if __name__ == \"__main__\":\n",
    "    main()"
   ]
  },
  {
   "cell_type": "raw",
   "id": "4cb8c1ea",
   "metadata": {},
   "source": [
    "This program takes user input for 10 numbers, stores them in a list, sorts the list, and then finds the smallest and second smallest numbers by examining the first and second elements of the sorted list. It then prints the smallest and second smallest numbers."
   ]
  },
  {
   "cell_type": "code",
   "execution_count": null,
   "id": "defbd428",
   "metadata": {},
   "outputs": [],
   "source": []
  }
 ],
 "metadata": {
  "kernelspec": {
   "display_name": "Python 3 (ipykernel)",
   "language": "python",
   "name": "python3"
  },
  "language_info": {
   "codemirror_mode": {
    "name": "ipython",
    "version": 3
   },
   "file_extension": ".py",
   "mimetype": "text/x-python",
   "name": "python",
   "nbconvert_exporter": "python",
   "pygments_lexer": "ipython3",
   "version": "3.11.4"
  }
 },
 "nbformat": 4,
 "nbformat_minor": 5
}
