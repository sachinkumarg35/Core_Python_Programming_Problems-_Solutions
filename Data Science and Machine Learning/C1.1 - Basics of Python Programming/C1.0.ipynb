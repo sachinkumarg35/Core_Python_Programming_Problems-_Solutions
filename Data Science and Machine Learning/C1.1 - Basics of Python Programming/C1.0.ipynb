{
 "cells": [
  {
   "cell_type": "markdown",
   "id": "e7d0b414",
   "metadata": {},
   "source": [
    " 1.  Write a program to calculate the body mass index (BMI) of a person. (BMI = kg/m^2, where kg is person's weight and m is his/her height in meters)"
   ]
  },
  {
   "cell_type": "code",
   "execution_count": 4,
   "id": "1d60e315",
   "metadata": {},
   "outputs": [
    {
     "name": "stdout",
     "output_type": "stream",
     "text": [
      "Enter your weight in kilograms: 70\n",
      "Enter your height in meters: 1.79832\n",
      "Your BMI is: 21.64532402096181\n"
     ]
    }
   ],
   "source": [
    "def calculate_bmi(weight_kg, height_m):\n",
    "    bmi = weight_kg / (height_m ** 2)\n",
    "    return bmi\n",
    "\n",
    "def main():\n",
    "    try:\n",
    "        weight = float(input(\"Enter your weight in kilograms: \"))\n",
    "        height = float(input(\"Enter your height in meters: \"))\n",
    "        \n",
    "        bmi = calculate_bmi(weight, height)\n",
    "        \n",
    "        print(\"Your BMI is:\", bmi)\n",
    "    except ValueError:\n",
    "        print(\"Invalid input. Please enter valid numbers for weight and height.\")\n",
    "\n",
    "if __name__ == \"__main__\":\n",
    "    main()"
   ]
  },
  {
   "cell_type": "code",
   "execution_count": 1,
   "id": "0b5aeed2",
   "metadata": {},
   "outputs": [
    {
     "name": "stdout",
     "output_type": "stream",
     "text": [
      "The BMI is 21.64532402096181 so Healthy\n"
     ]
    }
   ],
   "source": [
    "#Python program to illustrate \n",
    "# how to calculate BMI\n",
    "def BMI(height, weight):\n",
    "    bmi = weight/(height**2)\n",
    "    return bmi\n",
    "  \n",
    "# Driver code\n",
    "height = 1.79832\n",
    "weight = 70\n",
    "  \n",
    "# calling the BMI function\n",
    "bmi = BMI(height, weight)\n",
    "print(\"The BMI is\", format(bmi), \"so \", end='')\n",
    "  \n",
    "# Conditions to find out BMI category\n",
    "if (bmi < 18.5):\n",
    "    print(\"underweight\")\n",
    "  \n",
    "elif ( bmi >= 18.5 and bmi < 24.9):\n",
    "    print(\"Healthy\")\n",
    "  \n",
    "elif ( bmi >= 24.9 and bmi < 30):\n",
    "    print(\"overweight\")\n",
    "  \n",
    "elif ( bmi >=30):\n",
    "    print(\"Suffering from Obesity\")"
   ]
  },
  {
   "cell_type": "code",
   "execution_count": null,
   "id": "fa460784",
   "metadata": {},
   "outputs": [],
   "source": []
  },
  {
   "cell_type": "markdown",
   "id": "495a0eb2",
   "metadata": {},
   "source": [
    "2. Write a program to perform string concatenation"
   ]
  },
  {
   "cell_type": "code",
   "execution_count": 5,
   "id": "c27f77ad",
   "metadata": {},
   "outputs": [
    {
     "name": "stdout",
     "output_type": "stream",
     "text": [
      "Enter the first string: Python\n",
      "Enter the second string: Programming\n",
      "Concatenated string: Python Programming\n"
     ]
    }
   ],
   "source": [
    "def main():\n",
    "    string1 = input(\"Enter the first string: \")\n",
    "    string2 = input(\"Enter the second string: \")\n",
    "    \n",
    "    concatenated_string = string1 + \" \" + string2\n",
    "    \n",
    "    print(\"Concatenated string:\", concatenated_string)\n",
    "\n",
    "if __name__ == \"__main__\":\n",
    "    main()"
   ]
  },
  {
   "cell_type": "code",
   "execution_count": null,
   "id": "dd691704",
   "metadata": {},
   "outputs": [],
   "source": []
  },
  {
   "cell_type": "markdown",
   "id": "b4f16ffe",
   "metadata": {},
   "source": [
    "3. Write a program to demonstrate printing a string within single quotes , double quotes and triple quote."
   ]
  },
  {
   "cell_type": "code",
   "execution_count": 6,
   "id": "744430dd",
   "metadata": {},
   "outputs": [
    {
     "name": "stdout",
     "output_type": "stream",
     "text": [
      "String within single quotes: This is a string within single quotes.\n",
      "String within double quotes: This is a string within double quotes.\n",
      "String within triple quotes: This is a string within triple quotes.\n",
      "    It can span multiple lines.\n",
      "    Like this.\n"
     ]
    }
   ],
   "source": [
    "def main():\n",
    "    single_quoted_string = 'This is a string within single quotes.'\n",
    "    double_quoted_string = \"This is a string within double quotes.\"\n",
    "    triple_quoted_string = '''This is a string within triple quotes.\n",
    "    It can span multiple lines.\n",
    "    Like this.'''\n",
    "    \n",
    "    print(\"String within single quotes:\", single_quoted_string)\n",
    "    print(\"String within double quotes:\", double_quoted_string)\n",
    "    print(\"String within triple quotes:\", triple_quoted_string)\n",
    "\n",
    "if __name__ == \"__main__\":\n",
    "    main()"
   ]
  },
  {
   "cell_type": "code",
   "execution_count": null,
   "id": "376ff5cb",
   "metadata": {},
   "outputs": [],
   "source": []
  },
  {
   "cell_type": "markdown",
   "id": "f9246a4c",
   "metadata": {},
   "source": [
    "4. Write a program to print the ASCII value of a character."
   ]
  },
  {
   "cell_type": "code",
   "execution_count": 11,
   "id": "f4beed3c",
   "metadata": {},
   "outputs": [
    {
     "name": "stdout",
     "output_type": "stream",
     "text": [
      "Enter a character: d\n",
      "The ASCII value of 'd' is 100.\n"
     ]
    }
   ],
   "source": [
    "def main():\n",
    "    char = input(\"Enter a character: \")\n",
    "    \n",
    "    if len(char) == 1:\n",
    "        ascii_value = ord(char)\n",
    "        print(f\"The ASCII value of '{char}' is {ascii_value}.\")\n",
    "    else:\n",
    "        print(\"Please enter a single character.\")\n",
    "\n",
    "if __name__ == \"__main__\":\n",
    "    main()"
   ]
  },
  {
   "cell_type": "code",
   "execution_count": null,
   "id": "b55940a9",
   "metadata": {},
   "outputs": [],
   "source": []
  },
  {
   "cell_type": "markdown",
   "id": "5a73aaa2",
   "metadata": {},
   "source": [
    "5. Write a program to read a character in upper case and then print it in lower case."
   ]
  },
  {
   "cell_type": "code",
   "execution_count": 14,
   "id": "6209b4ad",
   "metadata": {},
   "outputs": [
    {
     "name": "stdout",
     "output_type": "stream",
     "text": [
      "Enter a character in uppercase: P\n",
      "The lowercase version of 'P' is 'p'.\n"
     ]
    }
   ],
   "source": [
    "def main():\n",
    "    uppercase_char = input(\"Enter a character in uppercase: \")\n",
    "    \n",
    "    if len(uppercase_char) == 1 and uppercase_char.isalpha() and uppercase_char.isupper():\n",
    "        lowercase_char = uppercase_char.lower()\n",
    "        print(f\"The lowercase version of '{uppercase_char}' is '{lowercase_char}'.\")\n",
    "    else:\n",
    "        print(\"Please enter a single uppercase character.\")\n",
    "\n",
    "if __name__ == \"__main__\":\n",
    "    main()"
   ]
  },
  {
   "cell_type": "raw",
   "id": "a8ace497",
   "metadata": {},
   "source": [
    "In this program, the lower() method is used to convert the uppercase character to lowercase. The program first checks if the entered input is a single character, consists of letters, and is in uppercase. If these conditions are met, the program converts the character to lowercase and prints the result. If the input does not meet these conditions, the program provides an appropriate error message."
   ]
  },
  {
   "cell_type": "markdown",
   "id": "b9b42846",
   "metadata": {},
   "source": [
    "6. Write a program to swap two numbers using a temporary variable."
   ]
  },
  {
   "cell_type": "code",
   "execution_count": 15,
   "id": "ce8d33a8",
   "metadata": {},
   "outputs": [
    {
     "name": "stdout",
     "output_type": "stream",
     "text": [
      "Enter the first number: 1.5\n",
      "Enter the second number: 2.5\n",
      "Before swapping:\n",
      "num1 = 1.5\n",
      "num2 = 2.5\n",
      "\n",
      "After swapping:\n",
      "num1 = 2.5\n",
      "num2 = 1.5\n"
     ]
    }
   ],
   "source": [
    "def main():\n",
    "    num1 = float(input(\"Enter the first number: \"))\n",
    "    num2 = float(input(\"Enter the second number: \"))\n",
    "    \n",
    "    print(\"Before swapping:\")\n",
    "    print(\"num1 =\", num1)\n",
    "    print(\"num2 =\", num2)\n",
    "    \n",
    "    # Swapping using a temporary variable\n",
    "    temp = num1\n",
    "    num1 = num2\n",
    "    num2 = temp\n",
    "    \n",
    "    print(\"\\nAfter swapping:\")\n",
    "    print(\"num1 =\", num1)\n",
    "    print(\"num2 =\", num2)\n",
    "\n",
    "if __name__ == \"__main__\":\n",
    "    main()"
   ]
  },
  {
   "cell_type": "raw",
   "id": "b4e3a904",
   "metadata": {},
   "source": [
    "In this program, the values of num1 and num2 are swapped using a temporary variable temp. The program first prints the values before swapping, performs the swapping operation, and then prints the values after swapping."
   ]
  },
  {
   "cell_type": "markdown",
   "id": "e3e3e166",
   "metadata": {},
   "source": [
    "7. Write a program to read the address of a user. Display the result by breaking it in multiple lines."
   ]
  },
  {
   "cell_type": "code",
   "execution_count": 16,
   "id": "52664190",
   "metadata": {},
   "outputs": [
    {
     "name": "stdout",
     "output_type": "stream",
     "text": [
      "Enter your address:\n",
      "Line 1: Bengaluru\n",
      "Line 2: Hassan\n",
      "City: H.N Pura\n",
      "State: Karnataka\n",
      "Postal Code: 573102\n",
      "\n",
      "Your address:\n",
      "Bengaluru\n",
      "Hassan\n",
      "H.N Pura, Karnataka\n",
      "Postal Code: 573102\n"
     ]
    }
   ],
   "source": [
    "def main():\n",
    "    print(\"Enter your address:\")\n",
    "    line1 = input(\"Line 1: \")\n",
    "    line2 = input(\"Line 2: \")\n",
    "    city = input(\"City: \")\n",
    "    state = input(\"State: \")\n",
    "    postal_code = input(\"Postal Code: \")\n",
    "    \n",
    "    print(\"\\nYour address:\")\n",
    "    print(line1)\n",
    "    print(line2)\n",
    "    print(city + \", \" + state)\n",
    "    print(\"Postal Code:\", postal_code)\n",
    "\n",
    "if __name__ == \"__main__\":\n",
    "    main()"
   ]
  },
  {
   "cell_type": "raw",
   "id": "68214665",
   "metadata": {},
   "source": [
    "In this program, the user is prompted to enter different parts of their address, including line 1, line 2, city, state, and postal code. Then, the program prints the address in a formatted manner, breaking it into multiple lines for better readability."
   ]
  },
  {
   "cell_type": "markdown",
   "id": "ea228700",
   "metadata": {},
   "source": [
    "8. Write a program to calculate simple interest and compound interest."
   ]
  },
  {
   "cell_type": "code",
   "execution_count": 18,
   "id": "cb78069b",
   "metadata": {},
   "outputs": [
    {
     "name": "stdout",
     "output_type": "stream",
     "text": [
      "Enter the principal amount: 1000.00\n",
      "Enter the interest rate (in percentage): 60.00\n",
      "Enter the time (in years): 5.00\n",
      "\n",
      "Simple Interest: 3000.0\n",
      "Compound Interest: 9485.760000000002\n"
     ]
    }
   ],
   "source": [
    "def calculate_simple_interest(principal, rate, time):\n",
    "    simple_interest = (principal * rate * time) / 100\n",
    "    return simple_interest\n",
    "\n",
    "def calculate_compound_interest(principal, rate, time):\n",
    "    compound_interest = principal * ((1 + rate / 100) ** time - 1)\n",
    "    return compound_interest\n",
    "\n",
    "def main():\n",
    "    principal = float(input(\"Enter the principal amount: \"))\n",
    "    rate = float(input(\"Enter the interest rate (in percentage): \"))\n",
    "    time = float(input(\"Enter the time (in years): \"))\n",
    "    \n",
    "    simple_interest = calculate_simple_interest(principal, rate, time)\n",
    "    compound_interest = calculate_compound_interest(principal, rate, time)\n",
    "    \n",
    "    print(\"\\nSimple Interest:\", simple_interest)\n",
    "    print(\"Compound Interest:\", compound_interest)\n",
    "\n",
    "if __name__ == \"__main__\":\n",
    "    main()"
   ]
  },
  {
   "cell_type": "raw",
   "id": "22a7de24",
   "metadata": {},
   "source": [
    "In this program, the user is prompted to input the principal amount, interest rate (in percentage), and time (in years). The calculate_simple_interest() function calculates the simple interest, while the calculate_compound_interest() function calculates the compound interest. The program then prints both the simple and compound interest."
   ]
  },
  {
   "cell_type": "markdown",
   "id": "7aadc00f",
   "metadata": {},
   "source": [
    "9. Write a program that prompts users to enter two integers x and y. The program then calculates and displays x^y."
   ]
  },
  {
   "cell_type": "code",
   "execution_count": 19,
   "id": "2d639726",
   "metadata": {},
   "outputs": [
    {
     "name": "stdout",
     "output_type": "stream",
     "text": [
      "Enter the value of x: 5\n",
      "Enter the value of y: 2\n",
      "5 raised to the power of 2 is: 25\n"
     ]
    }
   ],
   "source": [
    "def main():\n",
    "    x = int(input(\"Enter the value of x: \"))\n",
    "    y = int(input(\"Enter the value of y: \"))\n",
    "    \n",
    "    result = x ** y\n",
    "    \n",
    "    print(f\"{x} raised to the power of {y} is: {result}\")\n",
    "\n",
    "if __name__ == \"__main__\":\n",
    "    main()"
   ]
  },
  {
   "cell_type": "raw",
   "id": "c3a5f196",
   "metadata": {},
   "source": [
    "In this program, the ** operator is used to calculate the power of x to y. The user is prompted to input the values of x and y, and then the program calculates and displays the result."
   ]
  },
  {
   "cell_type": "markdown",
   "id": "cc00317b",
   "metadata": {},
   "source": [
    "10. Write a program that prompts user to enter his first name and last name and then displays a message \"Greetings!!! First name Last name\"."
   ]
  },
  {
   "cell_type": "code",
   "execution_count": 20,
   "id": "a6f9fd93",
   "metadata": {},
   "outputs": [
    {
     "name": "stdout",
     "output_type": "stream",
     "text": [
      "Enter your first name: Machine\n",
      "Enter your last name: Learning\n",
      "Greetings!!! Machine Learning\n"
     ]
    }
   ],
   "source": [
    "def main():\n",
    "    first_name = input(\"Enter your first name: \")\n",
    "    last_name = input(\"Enter your last name: \")\n",
    "    \n",
    "    full_name = f\"{first_name} {last_name}\"\n",
    "    print(f\"Greetings!!! {full_name}\")\n",
    "\n",
    "if __name__ == \"__main__\":\n",
    "    main()"
   ]
  },
  {
   "cell_type": "raw",
   "id": "202de66c",
   "metadata": {},
   "source": [
    "In this program, the user is prompted to input their first name and last name. The f\"{first_name} {last_name}\" syntax is used to concatenate the first name and last name with a space in between, forming the full name. The program then displays the greeting message with the full name."
   ]
  },
  {
   "cell_type": "markdown",
   "id": "1aa76f6f",
   "metadata": {},
   "source": [
    "11. Write a program to calculate salary of an employee given his basic pay (to be entered by the user), HRA = 10 per cent of basic pay, TA = five per cent of basic pay. Define HRA and TA as constants and use them to calculate the salary of the employee."
   ]
  },
  {
   "cell_type": "code",
   "execution_count": 21,
   "id": "5945bd4c",
   "metadata": {},
   "outputs": [
    {
     "name": "stdout",
     "output_type": "stream",
     "text": [
      "Enter the basic pay: 15000.00\n",
      "Employee's Salary: 17250.0\n"
     ]
    }
   ],
   "source": [
    "def calculate_salary(basic_pay):\n",
    "    HRA_PERCENT = 0.10  # 10% of basic pay\n",
    "    TA_PERCENT = 0.05   # 5% of basic pay\n",
    "    \n",
    "    HRA = basic_pay * HRA_PERCENT\n",
    "    TA = basic_pay * TA_PERCENT\n",
    "    \n",
    "    salary = basic_pay + HRA + TA\n",
    "    return salary\n",
    "\n",
    "def main():\n",
    "    basic_pay = float(input(\"Enter the basic pay: \"))\n",
    "    \n",
    "    salary = calculate_salary(basic_pay)\n",
    "    \n",
    "    print(\"Employee's Salary:\", salary)\n",
    "\n",
    "if __name__ == \"__main__\":\n",
    "    main()"
   ]
  },
  {
   "cell_type": "raw",
   "id": "3c15bcb8",
   "metadata": {},
   "source": [
    "In this program, the constants HRA_PERCENT and TA_PERCENT are defined to represent the percentages for HRA and TA. The calculate_salary() function takes the basic pay as input, calculates the HRA and TA amounts, and then calculates the total salary. The user is prompted to enter the basic pay, and the program then calculates and displays the employee's salary."
   ]
  },
  {
   "cell_type": "markdown",
   "id": "e6773c97",
   "metadata": {},
   "source": [
    "12. Write a program to prepare a grocery bill. For that enter the name of the items purchased, quantity in which it is purchased and it is price per unit. Then, display the bill in the following format.\n",
    "#### ********* BILL ************\n",
    "#### Item Quantity      Price Amount\n",
    "#### *************************\n",
    "#### Total Amount to be paid\n",
    "#### *************************"
   ]
  },
  {
   "cell_type": "code",
   "execution_count": 23,
   "id": "9eb8298c",
   "metadata": {},
   "outputs": [
    {
     "name": "stdout",
     "output_type": "stream",
     "text": [
      "Welcome to Grocery Bill Generator\n",
      "\n",
      "Enter the number of items purchased: 5\n",
      "Enter the name of item 1: Wheel\n",
      "Enter the quantity of Wheel: 3\n",
      "Enter the price per unit of Wheel: 53\n",
      "Enter the name of item 2: Chik\n",
      "Enter the quantity of Chik: 10\n",
      "Enter the price per unit of Chik: 1\n",
      "Enter the name of item 3: Colgate\n",
      "Enter the quantity of Colgate: 2\n",
      "Enter the price per unit of Colgate: 118\n",
      "Enter the name of item 4: Santoor\n",
      "Enter the quantity of Santoor: 3\n",
      "Enter the price per unit of Santoor: 38\n",
      "Enter the name of item 5: Blue Pen\n",
      "Enter the quantity of Blue Pen: 2\n",
      "Enter the price per unit of Blue Pen: 7\n",
      "\n",
      "********* BILL ************\n",
      "Item\t\tQuantity\tPrice\tAmount\n",
      "*****************************\n",
      "Wheel\t\t3.0\t\t53.0\t159.0\n",
      "Chik\t\t10.0\t\t1.0\t10.0\n",
      "Colgate\t\t2.0\t\t118.0\t236.0\n",
      "Santoor\t\t3.0\t\t38.0\t114.0\n",
      "Blue Pen\t\t2.0\t\t7.0\t14.0\n",
      "*****************************\n",
      "Total Amount to be paid: 533.0\n",
      "*****************************\n"
     ]
    }
   ],
   "source": [
    "def main():\n",
    "    print(\"Welcome to Grocery Bill Generator\\n\")\n",
    "    \n",
    "    num_items = int(input(\"Enter the number of items purchased: \"))\n",
    "    \n",
    "    items = []\n",
    "    quantities = []\n",
    "    prices = []\n",
    "    \n",
    "    for i in range(num_items):\n",
    "        item_name = input(f\"Enter the name of item {i + 1}: \")\n",
    "        item_quantity = float(input(f\"Enter the quantity of {item_name}: \"))\n",
    "        item_price = float(input(f\"Enter the price per unit of {item_name}: \"))\n",
    "        \n",
    "        items.append(item_name)\n",
    "        quantities.append(item_quantity)\n",
    "        prices.append(item_price)\n",
    "    \n",
    "    print(\"\\n********* BILL ************\")\n",
    "    print(\"Item\\t\\tQuantity\\tPrice\\tAmount\")\n",
    "    print(\"*****************************\")\n",
    "    \n",
    "    total_amount = 0\n",
    "    \n",
    "    for i in range(num_items):\n",
    "        amount = quantities[i] * prices[i]\n",
    "        total_amount += amount\n",
    "        print(f\"{items[i]}\\t\\t{quantities[i]}\\t\\t{prices[i]}\\t{amount}\")\n",
    "    \n",
    "    print(\"*****************************\")\n",
    "    print(f\"Total Amount to be paid: {total_amount}\")\n",
    "    print(\"*****************************\")\n",
    "\n",
    "if __name__ == \"__main__\":\n",
    "    main()\n"
   ]
  },
  {
   "cell_type": "markdown",
   "id": "a9f49a6a",
   "metadata": {},
   "source": [
    "In this program, the user is prompted to input the number of items purchased. Then, a loop iterates over each item to gather its name, quantity, and price. After collecting the details of all items, the program prints the grocery bill in the specified format, including the total amount to be paid."
   ]
  },
  {
   "cell_type": "markdown",
   "id": "8b173009",
   "metadata": {},
   "source": [
    "13. Momentum is calculated as, e = mc^2, where m is the mass of the object and c is its velocity. Write a Program that accets  an object's mass (in kilograms) and velocity in (in meters per second) and displays its momentum."
   ]
  },
  {
   "cell_type": "raw",
   "id": "b6d6eb62",
   "metadata": {},
   "source": [
    "It seems there might be a slight confusion in your equation. The equation you provided, e = mc^2, is actually Einstein's famous equation that relates energy (e) and mass (m), not momentum. The correct formula for calculating momentum is p = mv, where p is momentum, m is mass, and v is velocity.\n",
    "\n",
    "Here's a Python program that calculates and displays the momentum of an object based on its mass and velocity:"
   ]
  },
  {
   "cell_type": "code",
   "execution_count": 24,
   "id": "a45769b9",
   "metadata": {},
   "outputs": [
    {
     "name": "stdout",
     "output_type": "stream",
     "text": [
      "Enter the mass of the object (in kilograms): 68\n",
      "Enter the velocity of the object (in meters per second): 1.58620\n",
      "The momentum of the object is: 107.86160000000001 kg m/s\n"
     ]
    }
   ],
   "source": [
    "def calculate_momentum(mass, velocity):\n",
    "    momentum = mass * velocity\n",
    "    return momentum\n",
    "\n",
    "def main():\n",
    "    mass = float(input(\"Enter the mass of the object (in kilograms): \"))\n",
    "    velocity = float(input(\"Enter the velocity of the object (in meters per second): \"))\n",
    "    \n",
    "    momentum = calculate_momentum(mass, velocity)\n",
    "    \n",
    "    print(\"The momentum of the object is:\", momentum, \"kg m/s\")\n",
    "\n",
    "if __name__ == \"__main__\":\n",
    "    main()"
   ]
  },
  {
   "cell_type": "raw",
   "id": "124015f1",
   "metadata": {},
   "source": [
    "In this program, the calculate_momentum() function takes the mass and velocity as inputs and calculates the momentum using the formula p = mv. The user is prompted to input the mass and velocity of the object, and then the program calculates and displays the momentum in units of kilogram meters per second (kg m/s)."
   ]
  },
  {
   "cell_type": "markdown",
   "id": "44388f83",
   "metadata": {},
   "source": [
    "14. Write a Program that calculates number of seconds in a day."
   ]
  },
  {
   "cell_type": "code",
   "execution_count": 25,
   "id": "35b0f17c",
   "metadata": {},
   "outputs": [
    {
     "name": "stdout",
     "output_type": "stream",
     "text": [
      "Number of seconds in a day: 86400\n"
     ]
    }
   ],
   "source": [
    "def main():\n",
    "    seconds_per_minute = 60\n",
    "    minutes_per_hour = 60\n",
    "    hours_per_day = 24\n",
    "    \n",
    "    seconds_in_a_day = seconds_per_minute * minutes_per_hour * hours_per_day\n",
    "    \n",
    "    print(\"Number of seconds in a day:\", seconds_in_a_day)\n",
    "\n",
    "if __name__ == \"__main__\":\n",
    "    main()"
   ]
  },
  {
   "cell_type": "raw",
   "id": "f23f88df",
   "metadata": {},
   "source": [
    "In this program, we calculate the number of seconds in a day by multiplying the number of seconds in a minute (60), the number of minutes in an hour (60), and the number of hours in a day (24). The result is then printed as the output."
   ]
  },
  {
   "cell_type": "markdown",
   "id": "3100f875",
   "metadata": {},
   "source": [
    "15. Write a program to read and display the details of a student. While printing use '-' to seperate two values."
   ]
  },
  {
   "cell_type": "code",
   "execution_count": 26,
   "id": "958cf0e8",
   "metadata": {},
   "outputs": [
    {
     "name": "stdout",
     "output_type": "stream",
     "text": [
      "Enter the details of the student:\n",
      "Student Name: Reddy\n",
      "Roll Number: 562\n",
      "Age: 15\n",
      "Grade: A+\n",
      "\n",
      "Student Details:\n",
      "Name: Reddy\n",
      "Roll Number: 562\n",
      "Age: 15\n",
      "Grade: A+\n"
     ]
    }
   ],
   "source": [
    "def main():\n",
    "    print(\"Enter the details of the student:\")\n",
    "    \n",
    "    student_name = input(\"Student Name: \")\n",
    "    student_roll = input(\"Roll Number: \")\n",
    "    student_age = input(\"Age: \")\n",
    "    student_grade = input(\"Grade: \")\n",
    "    \n",
    "    print(\"\\nStudent Details:\")\n",
    "    print(\"Name:\", student_name)\n",
    "    print(\"Roll Number:\", student_roll)\n",
    "    print(\"Age:\", student_age)\n",
    "    print(\"Grade:\", student_grade)\n",
    "\n",
    "if __name__ == \"__main__\":\n",
    "    main()"
   ]
  },
  {
   "cell_type": "raw",
   "id": "92c048d3",
   "metadata": {},
   "source": [
    "In this program, the user is prompted to input the student's name, roll number, age, and grade. The program then displays these details with '-' used as a separator between the details."
   ]
  },
  {
   "cell_type": "markdown",
   "id": "9be0d194",
   "metadata": {},
   "source": [
    "16. Write a program that prompts the user to enter the first name and the last name Then, display the following message\n",
    "#### Hello firstname last name \n",
    "#### Welcome to Python!"
   ]
  },
  {
   "cell_type": "code",
   "execution_count": 27,
   "id": "e865e246",
   "metadata": {},
   "outputs": [
    {
     "name": "stdout",
     "output_type": "stream",
     "text": [
      "Enter your first name: Data\n",
      "Enter your last name: Science\n",
      "Hello Data Science\n",
      "Welcome to Python!\n"
     ]
    }
   ],
   "source": [
    "def main():\n",
    "    first_name = input(\"Enter your first name: \")\n",
    "    last_name = input(\"Enter your last name: \")\n",
    "    \n",
    "    welcome_message = f\"Hello {first_name} {last_name}\\nWelcome to Python!\"\n",
    "    \n",
    "    print(welcome_message)\n",
    "\n",
    "if __name__ == \"__main__\":\n",
    "    main()"
   ]
  },
  {
   "cell_type": "raw",
   "id": "d5ef6a9d",
   "metadata": {},
   "source": [
    "In this program, the f\"{first_name} {last_name}\" syntax is used to concatenate the first name and last name with a space in between. This concatenated name is then used in the welcome message. The program prompts the user to input their first and last names, and then it displays the welcome message with their full name."
   ]
  },
  {
   "cell_type": "markdown",
   "id": "e2b5e030",
   "metadata": {},
   "source": [
    "17. Write a program to check whether a number is divisble by 10 or not. If the number is not divisible then print how much should be added to it to make it completely divisible by 10."
   ]
  },
  {
   "cell_type": "code",
   "execution_count": 28,
   "id": "3f964371",
   "metadata": {},
   "outputs": [
    {
     "name": "stdout",
     "output_type": "stream",
     "text": [
      "Enter a number: 15\n",
      "15 is not divisible by 10.\n",
      "You need to add 5 to make it divisible by 10.\n"
     ]
    }
   ],
   "source": [
    "def main():\n",
    "    number = int(input(\"Enter a number: \"))\n",
    "    \n",
    "    if number % 10 == 0:\n",
    "        print(f\"{number} is already divisible by 10.\")\n",
    "    else:\n",
    "        remainder = number % 10\n",
    "        to_add = 10 - remainder\n",
    "        print(f\"{number} is not divisible by 10.\")\n",
    "        print(f\"You need to add {to_add} to make it divisible by 10.\")\n",
    "\n",
    "if __name__ == \"__main__\":\n",
    "    main()"
   ]
  },
  {
   "cell_type": "raw",
   "id": "1ab6670f",
   "metadata": {},
   "source": [
    "In this program, the number entered by the user is checked using the modulo operator %. If the remainder when dividing by 10 is 0, the program indicates that the number is already divisible by 10. If the remainder is not 0, the program calculates how much needs to be added to the number to make it divisible by 10 and displays that information."
   ]
  },
  {
   "cell_type": "markdown",
   "id": "4c651beb",
   "metadata": {},
   "source": [
    "18. Write a program to verify whether a candidate is eligible to appear for an exam or not. The minimum and maximum age of person appearing for the exam is 21 and 35, respectively."
   ]
  },
  {
   "cell_type": "code",
   "execution_count": 29,
   "id": "55d4fb6e",
   "metadata": {},
   "outputs": [
    {
     "name": "stdout",
     "output_type": "stream",
     "text": [
      "Enter the candidate's age: 25\n",
      "The candidate is eligible to appear for the exam.\n"
     ]
    }
   ],
   "source": [
    "def main():\n",
    "    min_age = 21\n",
    "    max_age = 35\n",
    "    \n",
    "    try:\n",
    "        age = int(input(\"Enter the candidate's age: \"))\n",
    "        \n",
    "        if age >= min_age and age <= max_age:\n",
    "            print(\"The candidate is eligible to appear for the exam.\")\n",
    "        else:\n",
    "            print(\"The candidate is not eligible to appear for the exam.\")\n",
    "    except ValueError:\n",
    "        print(\"Invalid input. Please enter a valid age.\")\n",
    "\n",
    "if __name__ == \"__main__\":\n",
    "    main()"
   ]
  },
  {
   "cell_type": "raw",
   "id": "2e0630c4",
   "metadata": {},
   "source": [
    "In this program, the user is prompted to enter the candidate's age. The program then checks if the entered age is within the specified range (21 to 35). If the age is within the range, the candidate is considered eligible; otherwise, they are considered not eligible. The program also handles cases where the user enters invalid input by using a try-except block to catch ValueError."
   ]
  },
  {
   "cell_type": "markdown",
   "id": "a6a40cc5",
   "metadata": {},
   "source": [
    "19. Write a program that prompts user to enter an angle and then print its quadrant."
   ]
  },
  {
   "cell_type": "code",
   "execution_count": 30,
   "id": "4a68d5db",
   "metadata": {},
   "outputs": [
    {
     "name": "stdout",
     "output_type": "stream",
     "text": [
      "Enter an angle in degrees: 180\n",
      "The angle 180.0 degrees is in Quadrant 3.\n"
     ]
    }
   ],
   "source": [
    "def main():\n",
    "    angle = float(input(\"Enter an angle in degrees: \"))\n",
    "    \n",
    "    if angle >= 0 and angle < 90:\n",
    "        quadrant = \"Quadrant 1\"\n",
    "    elif angle >= 90 and angle < 180:\n",
    "        quadrant = \"Quadrant 2\"\n",
    "    elif angle >= 180 and angle < 270:\n",
    "        quadrant = \"Quadrant 3\"\n",
    "    elif angle >= 270 and angle < 360:\n",
    "        quadrant = \"Quadrant 4\"\n",
    "    else:\n",
    "        quadrant = \"Invalid angle\"\n",
    "    \n",
    "    print(f\"The angle {angle} degrees is in {quadrant}.\")\n",
    "\n",
    "if __name__ == \"__main__\":\n",
    "    main()"
   ]
  },
  {
   "cell_type": "raw",
   "id": "d5b8aba7",
   "metadata": {},
   "source": [
    "In this program, the user is prompted to input an angle in degrees. The program then uses a series of if-elif statements to determine which quadrant the angle lies in based on the ranges of angles in each quadrant. If the angle is not within 0 to 360 degrees, it's considered invalid. The program then prints the result accordingly."
   ]
  },
  {
   "cell_type": "markdown",
   "id": "8e0d0ded",
   "metadata": {},
   "source": [
    "20. Write a program that prompts user to enter a number between 1 and 12 and then displays the corresponding month of the year."
   ]
  },
  {
   "cell_type": "code",
   "execution_count": 31,
   "id": "343d2d62",
   "metadata": {},
   "outputs": [
    {
     "name": "stdout",
     "output_type": "stream",
     "text": [
      "Enter a number between 1 and 12: 8\n",
      "The corresponding month is August.\n"
     ]
    }
   ],
   "source": [
    "def main():\n",
    "    try:\n",
    "        month_number = int(input(\"Enter a number between 1 and 12: \"))\n",
    "        \n",
    "        if month_number >= 1 and month_number <= 12:\n",
    "            months = [\"January\", \"February\", \"March\", \"April\", \"May\", \"June\",\n",
    "                      \"July\", \"August\", \"September\", \"October\", \"November\", \"December\"]\n",
    "            month_name = months[month_number - 1]\n",
    "            print(f\"The corresponding month is {month_name}.\")\n",
    "        else:\n",
    "            print(\"Invalid input. Please enter a number between 1 and 12.\")\n",
    "    except ValueError:\n",
    "        print(\"Invalid input. Please enter a valid number.\")\n",
    "\n",
    "if __name__ == \"__main__\":\n",
    "    main()"
   ]
  },
  {
   "cell_type": "raw",
   "id": "62b88776",
   "metadata": {},
   "source": [
    "In this program, the user is prompted to input a number. The program then checks if the entered number is within the range 1 to 12. If it is, the program uses the months list to retrieve the corresponding month name. If the input is not valid (not a number or not within the specified range), the program provides an appropriate error message."
   ]
  },
  {
   "cell_type": "markdown",
   "id": "28788b08",
   "metadata": {},
   "source": [
    "21. Write a menu driven program that prompts user to enter two sides of a rectangle. The user can then choose from a given set of options. if he/she needs to calculate perimeter, area or diagonal of the rectangle."
   ]
  },
  {
   "cell_type": "code",
   "execution_count": 32,
   "id": "7e1c281c",
   "metadata": {},
   "outputs": [
    {
     "name": "stdout",
     "output_type": "stream",
     "text": [
      "Enter the length of the rectangle: 75\n",
      "Enter the width of the rectangle: 50\n",
      "\n",
      "Menu:\n",
      "1. Calculate Perimeter\n",
      "2. Calculate Area\n",
      "3. Calculate Diagonal\n",
      "Enter your choice (1/2/3): 2\n",
      "The area of the rectangle is: 3750.0\n"
     ]
    }
   ],
   "source": [
    "def calculate_perimeter(length, width):\n",
    "    perimeter = 2 * (length + width)\n",
    "    return perimeter\n",
    "\n",
    "def calculate_area(length, width):\n",
    "    area = length * width\n",
    "    return area\n",
    "\n",
    "def calculate_diagonal(length, width):\n",
    "    diagonal = (length**2 + width**2)**0.5\n",
    "    return diagonal\n",
    "\n",
    "def main():\n",
    "    length = float(input(\"Enter the length of the rectangle: \"))\n",
    "    width = float(input(\"Enter the width of the rectangle: \"))\n",
    "    \n",
    "    print(\"\\nMenu:\")\n",
    "    print(\"1. Calculate Perimeter\")\n",
    "    print(\"2. Calculate Area\")\n",
    "    print(\"3. Calculate Diagonal\")\n",
    "    \n",
    "    choice = int(input(\"Enter your choice (1/2/3): \"))\n",
    "    \n",
    "    if choice == 1:\n",
    "        perimeter = calculate_perimeter(length, width)\n",
    "        print(f\"The perimeter of the rectangle is: {perimeter}\")\n",
    "    elif choice == 2:\n",
    "        area = calculate_area(length, width)\n",
    "        print(f\"The area of the rectangle is: {area}\")\n",
    "    elif choice == 3:\n",
    "        diagonal = calculate_diagonal(length, width)\n",
    "        print(f\"The diagonal of the rectangle is: {diagonal}\")\n",
    "    else:\n",
    "        print(\"Invalid choice. Please select 1, 2, or 3.\")\n",
    "\n",
    "if __name__ == \"__main__\":\n",
    "    main()"
   ]
  },
  {
   "cell_type": "raw",
   "id": "ca9ffccf",
   "metadata": {},
   "source": [
    "In this program, the user is prompted to enter the length and width of the rectangle. Then, a menu is presented with options to calculate the perimeter, area, or diagonal of the rectangle. The user's choice is taken as input, and based on the choice, the corresponding function is called to perform the calculation and display the result."
   ]
  },
  {
   "cell_type": "markdown",
   "id": "92f6f631",
   "metadata": {},
   "source": [
    "22. Write a program that prompts users to enter a character (A, B, C, D, E). Then using if-elif-else construct display Outstanding, Very Good, Good, Average and Fail, respectively."
   ]
  },
  {
   "cell_type": "code",
   "execution_count": 33,
   "id": "488cbd16",
   "metadata": {},
   "outputs": [
    {
     "name": "stdout",
     "output_type": "stream",
     "text": [
      "Enter the grade (A/B/C/D/E): A\n",
      "Outstanding\n"
     ]
    }
   ],
   "source": [
    "def main():\n",
    "    grade = input(\"Enter the grade (A/B/C/D/E): \")\n",
    "    \n",
    "    if grade == \"A\":\n",
    "        print(\"Outstanding\")\n",
    "    elif grade == \"B\":\n",
    "        print(\"Very Good\")\n",
    "    elif grade == \"C\":\n",
    "        print(\"Good\")\n",
    "    elif grade == \"D\":\n",
    "        print(\"Average\")\n",
    "    elif grade == \"E\":\n",
    "        print(\"Fail\")\n",
    "    else:\n",
    "        print(\"Invalid input. Please enter a valid grade.\")\n",
    "\n",
    "if __name__ == \"__main__\":\n",
    "    main()"
   ]
  },
  {
   "cell_type": "raw",
   "id": "58d56149",
   "metadata": {},
   "source": [
    "In this program, the user is prompted to input a character representing a grade. The program then uses the if-elif-else construct to determine the corresponding performance level based on the entered grade. If the input is not one of the specified characters, the program provides an appropriate error message."
   ]
  },
  {
   "cell_type": "markdown",
   "id": "844fa98e",
   "metadata": {},
   "source": [
    "23. Write a program that determines whether a student is eligible for PG course or not. To be eligible, the student must have obtained more than 80% in X and X2 examination, and 70% plus marks in graduation. If the student changes his stream (Science, Commerce, Arts), then deduct 5% from his graduation score."
   ]
  },
  {
   "cell_type": "code",
   "execution_count": 34,
   "id": "fa61887b",
   "metadata": {},
   "outputs": [
    {
     "name": "stdout",
     "output_type": "stream",
     "text": [
      "Enter the percentage obtained in X examination: 73.92\n",
      "Enter the percentage obtained in X2 examination: 68.95\n",
      "Enter the percentage obtained in graduation: 55.53\n",
      "Did the student change the stream (yes/no): yes\n",
      "The student is not eligible for the PG course.\n"
     ]
    }
   ],
   "source": [
    "def main():\n",
    "    x_percentage = float(input(\"Enter the percentage obtained in X examination: \"))\n",
    "    x2_percentage = float(input(\"Enter the percentage obtained in X2 examination: \"))\n",
    "    graduation_percentage = float(input(\"Enter the percentage obtained in graduation: \"))\n",
    "    stream_change = input(\"Did the student change the stream (yes/no): \").lower()\n",
    "    \n",
    "    if x_percentage > 80 and x2_percentage > 80 and graduation_percentage >= 70:\n",
    "        if stream_change == \"yes\":\n",
    "            graduation_percentage -= 5\n",
    "        \n",
    "        if graduation_percentage >= 70:\n",
    "            print(\"Congratulations! The student is eligible for the PG course.\")\n",
    "        else:\n",
    "            print(\"The student's graduation percentage is below the required minimum.\")\n",
    "    else:\n",
    "        print(\"The student is not eligible for the PG course.\")\n",
    "\n",
    "if __name__ == \"__main__\":\n",
    "    main()"
   ]
  },
  {
   "cell_type": "raw",
   "id": "33d09483",
   "metadata": {},
   "source": [
    "In this program, the user is prompted to input the percentages obtained in X, X2, and graduation examinations, as well as whether the student changed their stream. Based on these inputs and the given criteria, the program determines whether the student is eligible for the PG course or not. If the student changed their stream, their graduation percentage is adjusted accordingly."
   ]
  },
  {
   "cell_type": "markdown",
   "id": "b2a46498",
   "metadata": {},
   "source": [
    "24. Write a program to read a floating-point number and an integer. If the value of the floating-point number is greater than 3.14, then multiply the value of the integer with 100."
   ]
  },
  {
   "cell_type": "code",
   "execution_count": 35,
   "id": "9ef74c49",
   "metadata": {},
   "outputs": [
    {
     "name": "stdout",
     "output_type": "stream",
     "text": [
      "Enter a floating-point number: 4.25\n",
      "Enter an integer: 5\n",
      "Result: 500\n"
     ]
    }
   ],
   "source": [
    "def main():\n",
    "    floating_number = float(input(\"Enter a floating-point number: \"))\n",
    "    integer_value = int(input(\"Enter an integer: \"))\n",
    "    \n",
    "    if floating_number > 3.14:\n",
    "        integer_value *= 100\n",
    "    \n",
    "    print(\"Result:\", integer_value)\n",
    "\n",
    "if __name__ == \"__main__\":\n",
    "    main()"
   ]
  },
  {
   "cell_type": "raw",
   "id": "5440edbd",
   "metadata": {},
   "source": [
    "In this program, the user is prompted to input a floating-point number and an integer. The program then checks if the value of the floating-point number is greater than 3.14. If the condition is true, the program multiplies the value of the integer by 100. Finally, the program prints the result."
   ]
  },
  {
   "cell_type": "markdown",
   "id": "30ca28be",
   "metadata": {},
   "source": [
    "25. Write a program that prompts user to enter two integers. Divide the greater number with the smaller one and print the remainder and quotient thus obtained."
   ]
  },
  {
   "cell_type": "code",
   "execution_count": 36,
   "id": "f12dbbcb",
   "metadata": {},
   "outputs": [
    {
     "name": "stdout",
     "output_type": "stream",
     "text": [
      "Enter the first integer: 1\n",
      "Enter the second integer: 2\n",
      "Quotient: 2\n",
      "Remainder: 0\n"
     ]
    }
   ],
   "source": [
    "def main():\n",
    "    num1 = int(input(\"Enter the first integer: \"))\n",
    "    num2 = int(input(\"Enter the second integer: \"))\n",
    "    \n",
    "    if num1 > num2:\n",
    "        greater = num1\n",
    "        smaller = num2\n",
    "    else:\n",
    "        greater = num2\n",
    "        smaller = num1\n",
    "    \n",
    "    quotient = greater // smaller\n",
    "    remainder = greater % smaller\n",
    "    \n",
    "    print(f\"Quotient: {quotient}\")\n",
    "    print(f\"Remainder: {remainder}\")\n",
    "\n",
    "if __name__ == \"__main__\":\n",
    "    main()"
   ]
  },
  {
   "cell_type": "raw",
   "id": "1a1f60b6",
   "metadata": {},
   "source": [
    "In this program, the user is prompted to input two integers. The program determines which one is the greater number and calculates the quotient and remainder of the division. The result is then displayed using the print() function."
   ]
  },
  {
   "cell_type": "markdown",
   "id": "3452b2cd",
   "metadata": {},
   "source": [
    "26. Write a program that accepts the current date and date of birth of the user. then, calculate the age of the user and display it on the screen. Note that the date should be displayed in the format specified as dd/mm//yy."
   ]
  },
  {
   "cell_type": "code",
   "execution_count": 1,
   "id": "dad06b73",
   "metadata": {},
   "outputs": [
    {
     "name": "stdout",
     "output_type": "stream",
     "text": [
      "Enter the current date (dd/mm/yyyy): 23/08/2023\n",
      "Enter your date of birth (dd/mm/yyyy): 10/09/1999\n",
      "Your age is: 23\n"
     ]
    }
   ],
   "source": [
    "from datetime import datetime\n",
    "\n",
    "# Function to calculate age\n",
    "def calculate_age(current_date, birth_date):\n",
    "    age = current_date.year - birth_date.year - ((current_date.month, current_date.day) < (birth_date.month, birth_date.day))\n",
    "    return age\n",
    "\n",
    "# Get current date from the user\n",
    "current_date_str = input(\"Enter the current date (dd/mm/yyyy): \")\n",
    "current_date = datetime.strptime(current_date_str, \"%d/%m/%Y\")\n",
    "\n",
    "# Get user's date of birth\n",
    "dob_str = input(\"Enter your date of birth (dd/mm/yyyy): \")\n",
    "dob = datetime.strptime(dob_str, \"%d/%m/%Y\")\n",
    "\n",
    "# Calculate and display age\n",
    "age = calculate_age(current_date, dob)\n",
    "print(\"Your age is:\", age)"
   ]
  },
  {
   "cell_type": "raw",
   "id": "ea60d182",
   "metadata": {},
   "source": [
    "Copy and paste this code into a Python interpreter or a script file. It uses the datetime module to handle date-related operations. The calculate_age function calculates the age based on the current date and date of birth. The user is prompted to input the current date and date of birth in the specified format (dd/mm/yyyy), and the program then calculates and displays the user's age."
   ]
  },
  {
   "cell_type": "markdown",
   "id": "4e763a06",
   "metadata": {},
   "source": [
    "27. Write a code to calculate the amount to be paid by a customer by considering the following points.\n",
    "* if the amount_to_be_paid >= 30000, then discount = 30%.\n",
    "* if the amount_to_be_paid >= 20000, then discount = 20%.\n",
    "* if the amount_to_be_paid >= 10000, then discount = 10%.\n",
    "\n",
    "otherwise, discount = 5%."
   ]
  },
  {
   "cell_type": "code",
   "execution_count": 2,
   "id": "9366f0a9",
   "metadata": {},
   "outputs": [
    {
     "name": "stdout",
     "output_type": "stream",
     "text": [
      "Enter the amount to be paid: 50000.00\n",
      "Amount to be paid after discount: 35000.0\n"
     ]
    }
   ],
   "source": [
    "def calculate_amount_to_be_paid(amount_to_be_paid):\n",
    "    if amount_to_be_paid >= 30000:\n",
    "        discount = 0.30  # 30% discount\n",
    "    elif amount_to_be_paid >= 20000:\n",
    "        discount = 0.20  # 20% discount\n",
    "    elif amount_to_be_paid >= 10000:\n",
    "        discount = 0.10  # 10% discount\n",
    "    else:\n",
    "        discount = 0.05  # 5% discount\n",
    "    \n",
    "    discounted_amount = amount_to_be_paid - (amount_to_be_paid * discount)\n",
    "    return discounted_amount\n",
    "\n",
    "# Get the amount to be paid from the user\n",
    "amount_to_be_paid = float(input(\"Enter the amount to be paid: \"))\n",
    "\n",
    "# Calculate the discounted amount\n",
    "discounted_amount = calculate_amount_to_be_paid(amount_to_be_paid)\n",
    "\n",
    "print(\"Amount to be paid after discount:\", discounted_amount)"
   ]
  },
  {
   "cell_type": "raw",
   "id": "69a4cfeb",
   "metadata": {},
   "source": [
    "This code defines a function calculate_amount_to_be_paid() that takes the amount_to_be_paid as an argument and calculates the discounted amount based on the given discount criteria. The user is prompted to enter the amount to be paid, and the program calculates and displays the amount to be paid after applying the appropriate discount."
   ]
  },
  {
   "cell_type": "markdown",
   "id": "61b0712e",
   "metadata": {},
   "source": [
    "28. Write a program that prompts user to enter his/her age (15-18 years) and then display the perfect height and weight for that age."
   ]
  },
  {
   "cell_type": "code",
   "execution_count": 1,
   "id": "81e53fbd",
   "metadata": {},
   "outputs": [],
   "source": [
    "#Age--------Height(cms)---------Weight(kgs)\n",
    "#15-----------56-------------------170\n",
    "#16-----------60-------------------173\n",
    "#17-----------64-------------------175\n",
    "#18-----------66-------------------176"
   ]
  },
  {
   "cell_type": "code",
   "execution_count": 4,
   "id": "d23b8ee8",
   "metadata": {},
   "outputs": [
    {
     "name": "stdout",
     "output_type": "stream",
     "text": [
      "Enter your age (15-18 years): 18\n",
      "For age 18, perfect height: 66 cms, perfect weight: 176 kgs\n"
     ]
    }
   ],
   "source": [
    "def display_perfect_height_weight(age):\n",
    "    age_data = {\n",
    "        15: {\"height\": 56, \"weight\": 170},\n",
    "        16: {\"height\": 60, \"weight\": 173},\n",
    "        17: {\"height\": 64, \"weight\": 175},\n",
    "        18: {\"height\": 66, \"weight\": 176}\n",
    "    }\n",
    "    \n",
    "    if age in age_data:\n",
    "        height = age_data[age][\"height\"]\n",
    "        weight = age_data[age][\"weight\"]\n",
    "        print(f\"For age {age}, perfect height: {height} cms, perfect weight: {weight} kgs\")\n",
    "    else:\n",
    "        print(\"Sorry, the age entered is not in the specified range.\")\n",
    "\n",
    "# Get age from the user\n",
    "age = int(input(\"Enter your age (15-18 years): \"))\n",
    "\n",
    "# Check if the age is within the specified range and display height and weight\n",
    "if 15 <= age <= 18:\n",
    "    display_perfect_height_weight(age)\n",
    "else:\n",
    "    print(\"Invalid age entered. Please enter an age between 15 and 18 years.\")"
   ]
  },
  {
   "cell_type": "raw",
   "id": "9d36153e",
   "metadata": {},
   "source": [
    "This code defines a function display_perfect_height_weight() that takes the age as input and retrieves the perfect height and weight data from a dictionary based on the given age. The user is prompted to enter their age, and the program displays the corresponding perfect height and weight if the entered age is within the specified range (15-18 years). If the age is not within the range, an appropriate message is displayed."
   ]
  },
  {
   "cell_type": "markdown",
   "id": "d461b47a",
   "metadata": {},
   "source": [
    "29. Write a program that user to enter his/her body temperature. Check and display whether the user has normal body temperature, high fever or low fever."
   ]
  },
  {
   "cell_type": "code",
   "execution_count": 5,
   "id": "9b400474",
   "metadata": {},
   "outputs": [
    {
     "name": "stdout",
     "output_type": "stream",
     "text": [
      "Enter your body temperature (in degrees Celsius): 36.0\n",
      "You have normal body temperature.\n"
     ]
    }
   ],
   "source": [
    "def check_body_temperature(temperature):\n",
    "    if temperature < 35.0:\n",
    "        return \"low fever\"\n",
    "    elif 35.0 <= temperature <= 37.0:\n",
    "        return \"normal body temperature\"\n",
    "    elif temperature > 37.0:\n",
    "        return \"high fever\"\n",
    "    else:\n",
    "        return \"invalid input\"\n",
    "\n",
    "# Get body temperature from the user\n",
    "temperature = float(input(\"Enter your body temperature (in degrees Celsius): \"))\n",
    "\n",
    "# Check and display the result\n",
    "result = check_body_temperature(temperature)\n",
    "print(f\"You have {result}.\")"
   ]
  },
  {
   "cell_type": "raw",
   "id": "59ea86e6",
   "metadata": {},
   "source": [
    "In this code, the check_body_temperature() function takes the body temperature as input and checks whether it falls within the range of low fever, normal body temperature, or high fever based on the specified criteria. The user is prompted to enter their body temperature, and the program then displays the corresponding result."
   ]
  },
  {
   "cell_type": "markdown",
   "id": "1c51412f",
   "metadata": {},
   "source": [
    "30. Write a program that prompts user to enter a number. Display the square root of the number. Remember that square root of negative numbers is not defined."
   ]
  },
  {
   "cell_type": "code",
   "execution_count": 6,
   "id": "e5bbff38",
   "metadata": {},
   "outputs": [
    {
     "name": "stdout",
     "output_type": "stream",
     "text": [
      "Enter a number: 6\n",
      "The square root of 6.0 is: 2.449489742783178\n"
     ]
    }
   ],
   "source": [
    "import math\n",
    "\n",
    "# Get a number from the user\n",
    "number = float(input(\"Enter a number: \"))\n",
    "\n",
    "# Check if the number is positive or zero before calculating the square root\n",
    "if number >= 0:\n",
    "    square_root = math.sqrt(number)\n",
    "    print(f\"The square root of {number} is: {square_root}\")\n",
    "else:\n",
    "    print(\"The square root of a negative number is not defined.\")"
   ]
  },
  {
   "cell_type": "raw",
   "id": "1a1d2fc6",
   "metadata": {},
   "source": [
    "In this program, the math.sqrt() function from the math module is used to calculate the square root of the entered number. However, before calculating, the program checks whether the number is non-negative (greater than or equal to 0) because the square root of negative numbers is not defined in the real number system. If the number is non-negative, the square root is calculated and displayed. Otherwise, a message is displayed indicating that the square root of a negative number is not defined."
   ]
  },
  {
   "cell_type": "markdown",
   "id": "d1f6cd3f",
   "metadata": {},
   "source": [
    "31. Write a program that prompts user to enter lengths of three sides. Check whether these are the sides of a triangle."
   ]
  },
  {
   "cell_type": "code",
   "execution_count": 7,
   "id": "f7b56b8e",
   "metadata": {},
   "outputs": [
    {
     "name": "stdout",
     "output_type": "stream",
     "text": [
      "Enter the length of the first side: 15\n",
      "Enter the length of the second side: 14\n",
      "Enter the length of the third side: 15\n",
      "These sides can form a valid triangle.\n"
     ]
    }
   ],
   "source": [
    "def is_triangle(side1, side2, side3):\n",
    "    if side1 + side2 > side3 and side1 + side3 > side2 and side2 + side3 > side1:\n",
    "        return True\n",
    "    else:\n",
    "        return False\n",
    "\n",
    "# Get lengths of three sides from the user\n",
    "side1 = float(input(\"Enter the length of the first side: \"))\n",
    "side2 = float(input(\"Enter the length of the second side: \"))\n",
    "side3 = float(input(\"Enter the length of the third side: \"))\n",
    "\n",
    "# Check and display the result\n",
    "if is_triangle(side1, side2, side3):\n",
    "    print(\"These sides can form a valid triangle.\")\n",
    "else:\n",
    "    print(\"These sides cannot form a valid triangle.\")"
   ]
  },
  {
   "cell_type": "raw",
   "id": "a17f94e8",
   "metadata": {},
   "source": [
    "In this program, the is_triangle() function checks whether the given lengths can form a valid triangle by applying the triangle inequality theorem. The theorem states that the sum of the lengths of any two sides of a triangle must be greater than the length of the third side. The program prompts the user to enter the lengths of the three sides, checks if they satisfy the triangle inequality theorem, and then displays whether the given lengths can form a valid triangle or not."
   ]
  },
  {
   "cell_type": "markdown",
   "id": "e54b7be9",
   "metadata": {},
   "source": [
    "32. Hint: sides of a triangle follow the rule, a+b>c, similarly, b+c>a and a+c>b."
   ]
  },
  {
   "cell_type": "code",
   "execution_count": 8,
   "id": "ecf7078c",
   "metadata": {},
   "outputs": [
    {
     "name": "stdout",
     "output_type": "stream",
     "text": [
      "Enter the length of the first side: 10\n",
      "Enter the length of the second side: 5\n",
      "Enter the length of the third side: 10\n",
      "These sides can form a valid triangle.\n"
     ]
    }
   ],
   "source": [
    "# Get lengths of three sides from the user\n",
    "side1 = float(input(\"Enter the length of the first side: \"))\n",
    "side2 = float(input(\"Enter the length of the second side: \"))\n",
    "side3 = float(input(\"Enter the length of the third side: \"))\n",
    "\n",
    "# Check and display the result\n",
    "if side1 + side2 > side3 and side1 + side3 > side2 and side2 + side3 > side1:\n",
    "    print(\"These sides can form a valid triangle.\")\n",
    "else:\n",
    "    print(\"These sides cannot form a valid triangle.\")"
   ]
  },
  {
   "cell_type": "raw",
   "id": "8d630e78",
   "metadata": {},
   "source": [
    "You're absolutely right! The triangle inequality theorem states that the sum of the lengths of any two sides of a triangle must be greater than the length of the third side. Here's the updated program with the correct conditions:"
   ]
  },
  {
   "cell_type": "markdown",
   "id": "34b05c0c",
   "metadata": {},
   "source": [
    "33. Write a program that prompts user to enter the angles of a triangle. Check whether the triangle is acute, obtuse or right angled."
   ]
  },
  {
   "cell_type": "code",
   "execution_count": 9,
   "id": "09dd3d7f",
   "metadata": {},
   "outputs": [
    {
     "name": "stdout",
     "output_type": "stream",
     "text": [
      "Enter the first angle: 15.00\n",
      "Enter the second angle: 16.00\n",
      "Enter the third angle: 18.00\n",
      "The triangle is acute\n"
     ]
    }
   ],
   "source": [
    "def classify_triangle(angle1, angle2, angle3):\n",
    "    angles = [angle1, angle2, angle3]\n",
    "    angles.sort()\n",
    "\n",
    "    if angles[0] + angles[1] > angles[2]:\n",
    "        if angles[2] == 90:\n",
    "            return \"right-angled\"\n",
    "        elif angles[2] > 90:\n",
    "            return \"obtuse\"\n",
    "        else:\n",
    "            return \"acute\"\n",
    "    else:\n",
    "        return \"not a valid triangle\"\n",
    "\n",
    "# Get angles of the triangle from the user\n",
    "angle1 = float(input(\"Enter the first angle: \"))\n",
    "angle2 = float(input(\"Enter the second angle: \"))\n",
    "angle3 = float(input(\"Enter the third angle: \"))\n",
    "\n",
    "# Check and display the result\n",
    "result = classify_triangle(angle1, angle2, angle3)\n",
    "print(\"The triangle is\", result)"
   ]
  },
  {
   "cell_type": "raw",
   "id": "3a19e777",
   "metadata": {},
   "source": [
    "In this program, the classify_triangle() function takes the three angles of the triangle as input. It sorts the angles in ascending order and then checks whether the angles form a valid triangle based on the triangle inequality theorem. If the angles form a valid triangle, the function classifies it as acute, obtuse, or right-angled based on the value of the largest angle. The program prompts the user to enter the angles of the triangle and then displays the classification result."
   ]
  },
  {
   "cell_type": "markdown",
   "id": "331beac5",
   "metadata": {},
   "source": [
    "34. Write a program to check whether a number entered by user is positive, negative or equal to zero."
   ]
  },
  {
   "cell_type": "code",
   "execution_count": 10,
   "id": "a43a307b",
   "metadata": {},
   "outputs": [
    {
     "name": "stdout",
     "output_type": "stream",
     "text": [
      "Enter a number: 1\n",
      "The number is positive.\n"
     ]
    }
   ],
   "source": [
    "# Get a number from the user\n",
    "number = float(input(\"Enter a number: \"))\n",
    "\n",
    "# Check and display the result\n",
    "if number > 0:\n",
    "    print(\"The number is positive.\")\n",
    "elif number < 0:\n",
    "    print(\"The number is negative.\")\n",
    "else:\n",
    "    print(\"The number is equal to zero.\")"
   ]
  },
  {
   "cell_type": "raw",
   "id": "6c4ebc98",
   "metadata": {},
   "source": [
    "In this program, the user is prompted to enter a number. The program then uses if, elif, and else statements to check whether the number is positive, negative, or equal to zero, and displays the appropriate message accordingly."
   ]
  },
  {
   "cell_type": "markdown",
   "id": "92a1613c",
   "metadata": {},
   "source": [
    "35. Write a program that prompts user to enter the distance between his/her home and school. If the distance is in kilometers, display it in meters and vice versa."
   ]
  },
  {
   "cell_type": "code",
   "execution_count": 11,
   "id": "b869b906",
   "metadata": {},
   "outputs": [
    {
     "name": "stdout",
     "output_type": "stream",
     "text": [
      "Enter the distance: 100\n",
      "Enter the unit (km or m): m\n",
      "The distance is 0.10 kilometers.\n"
     ]
    }
   ],
   "source": [
    "def convert_to_meters(distance_km):\n",
    "    return distance_km * 1000\n",
    "\n",
    "def convert_to_kilometers(distance_m):\n",
    "    return distance_m / 1000\n",
    "\n",
    "# Get distance from the user\n",
    "distance = float(input(\"Enter the distance: \"))\n",
    "unit = input(\"Enter the unit (km or m): \")\n",
    "\n",
    "# Convert and display the result\n",
    "if unit == \"km\":\n",
    "    distance_meters = convert_to_meters(distance)\n",
    "    print(f\"The distance is {distance_meters:.2f} meters.\")\n",
    "elif unit == \"m\":\n",
    "    distance_kilometers = convert_to_kilometers(distance)\n",
    "    print(f\"The distance is {distance_kilometers:.2f} kilometers.\")\n",
    "else:\n",
    "    print(\"Invalid unit entered. Please enter 'km' or 'm'.\")"
   ]
  },
  {
   "cell_type": "raw",
   "id": "346a971c",
   "metadata": {},
   "source": [
    "In this program, the convert_to_meters() function converts distance from kilometers to meters, and the convert_to_kilometers() function converts distance from meters to kilometers. The user is prompted to enter the distance and the unit of measurement (\"km\" or \"m\"). Based on the unit entered, the program performs the appropriate conversion and displays the result."
   ]
  },
  {
   "cell_type": "markdown",
   "id": "44593e02",
   "metadata": {},
   "source": [
    "36. Write a program that prompts users to enter status code 'S', 'M', 'D', or 'U' and returns the string 'Separated', 'Married', 'Divorced', or 'Unmarried'. respectively. In case an inappropriate letter is passed, print an appropriate message."
   ]
  },
  {
   "cell_type": "code",
   "execution_count": 12,
   "id": "ae405d18",
   "metadata": {},
   "outputs": [
    {
     "name": "stdout",
     "output_type": "stream",
     "text": [
      "Enter the status code (S/M/D/U): U\n",
      "Marital status: Unmarried\n"
     ]
    }
   ],
   "source": [
    "# Get status code from the user\n",
    "status_code = input(\"Enter the status code (S/M/D/U): \")\n",
    "\n",
    "# Convert status code to marital status\n",
    "if status_code == 'S':\n",
    "    marital_status = 'Separated'\n",
    "elif status_code == 'M':\n",
    "    marital_status = 'Married'\n",
    "elif status_code == 'D':\n",
    "    marital_status = 'Divorced'\n",
    "elif status_code == 'U':\n",
    "    marital_status = 'Unmarried'\n",
    "else:\n",
    "    marital_status = 'Invalid status code'\n",
    "\n",
    "# Display the result\n",
    "print(\"Marital status:\", marital_status)"
   ]
  },
  {
   "cell_type": "raw",
   "id": "58412f55",
   "metadata": {},
   "source": [
    "In this program, the user is prompted to enter a status code, and then the program uses conditional statements to convert the status code into the corresponding marital status. If the entered code is not one of the expected codes, the program will display \"Invalid status code\"."
   ]
  },
  {
   "cell_type": "markdown",
   "id": "dec6f8a7",
   "metadata": {},
   "source": [
    "37. An employee's total weekly pay is calculated by multiplying the hourly wage and number of regular hours plus any and overtimepay, which in turn is calculated as total overtime hours multiplied by 1.5 times the hourly wage. Write a program that takes as inputs the hourly wage, total regular hours and total overtime hours and prints an employee's total weekly pay."
   ]
  },
  {
   "cell_type": "code",
   "execution_count": 13,
   "id": "c3ccddcb",
   "metadata": {},
   "outputs": [
    {
     "name": "stdout",
     "output_type": "stream",
     "text": [
      "Enter the hourly wage: 6\n",
      "Enter the total regular hours: 4\n",
      "Enter the total overtime hours: 2\n",
      "Total weekly pay: $42.00\n"
     ]
    }
   ],
   "source": [
    "# Get inputs from the user\n",
    "hourly_wage = float(input(\"Enter the hourly wage: \"))\n",
    "total_regular_hours = float(input(\"Enter the total regular hours: \"))\n",
    "total_overtime_hours = float(input(\"Enter the total overtime hours: \"))\n",
    "\n",
    "# Calculate regular pay and overtime pay\n",
    "regular_pay = hourly_wage * total_regular_hours\n",
    "overtime_pay = hourly_wage * 1.5 * total_overtime_hours\n",
    "\n",
    "# Calculate total weekly pay\n",
    "total_weekly_pay = regular_pay + overtime_pay\n",
    "\n",
    "# Display the result\n",
    "print(f\"Total weekly pay: ${total_weekly_pay:.2f}\")"
   ]
  },
  {
   "cell_type": "raw",
   "id": "a7104ea5",
   "metadata": {},
   "source": [
    "In this program, the user is prompted to enter the hourly wage, total regular hours, and total overtime hours. The program then calculates the regular pay, overtime pay, and total weekly pay based on the provided inputs. Finally, the program displays the calculated total weekly pay."
   ]
  },
  {
   "cell_type": "markdown",
   "id": "d7892561",
   "metadata": {},
   "source": [
    "38. Write a program to calculate electricity bill based on following information."
   ]
  },
  {
   "cell_type": "code",
   "execution_count": 2,
   "id": "24cbbebe",
   "metadata": {},
   "outputs": [],
   "source": [
    "#Consumption Unit ---------------- Rate of Charge\n",
    "#0-150-----------------------------Rs 3 per unit\n",
    "#151-350---------------------------Rs 100 plus Rs 3.75 per unit exceeding 150 units\n",
    "#301-450---------------------------Rs 250 plus Rs 4 per unit exceeding 350 units\n",
    "#451-600---------------------------Rs 300 plus Rs 4.25 per unit exceeding 450 units\n",
    "#above 600-------------------------Rs 400 plus Rs 5 per unit exceeding 600 units"
   ]
  },
  {
   "cell_type": "code",
   "execution_count": 14,
   "id": "d44295a0",
   "metadata": {},
   "outputs": [
    {
     "name": "stdout",
     "output_type": "stream",
     "text": [
      "Enter the consumption units: 66\n",
      "Electricity bill: Rs 198.00\n"
     ]
    }
   ],
   "source": [
    "def calculate_electricity_bill(units):\n",
    "    if units <= 150:\n",
    "        bill = units * 3\n",
    "    elif units <= 350:\n",
    "        bill = 150 * 3 + (units - 150) * 3.75\n",
    "    elif units <= 450:\n",
    "        bill = 150 * 3 + 200 * 3.75 + (units - 350) * 4\n",
    "    elif units <= 600:\n",
    "        bill = 150 * 3 + 200 * 3.75 + 100 * 4 + (units - 450) * 4.25\n",
    "    else:\n",
    "        bill = 150 * 3 + 200 * 3.75 + 100 * 4 + 150 * 4.25 + (units - 600) * 5\n",
    "    \n",
    "    return bill\n",
    "\n",
    "# Get consumption units from the user\n",
    "units = float(input(\"Enter the consumption units: \"))\n",
    "\n",
    "# Calculate and display the electricity bill\n",
    "electricity_bill = calculate_electricity_bill(units)\n",
    "print(f\"Electricity bill: Rs {electricity_bill:.2f}\")"
   ]
  },
  {
   "cell_type": "raw",
   "id": "df07a55c",
   "metadata": {},
   "source": [
    "In this program, the calculate_electricity_bill() function takes the consumption units as input and calculates the electricity bill based on the provided rates. The program then prompts the user to enter the consumption units and displays the calculated electricity bill."
   ]
  },
  {
   "cell_type": "markdown",
   "id": "e9954de9",
   "metadata": {},
   "source": [
    "39. Write a program to check whether a number is divisible by 10 or not. If the number is not divisible, then print how much should be added to it to make it completely divisible by 10."
   ]
  },
  {
   "cell_type": "code",
   "execution_count": 15,
   "id": "365759d5",
   "metadata": {},
   "outputs": [
    {
     "name": "stdout",
     "output_type": "stream",
     "text": [
      "Enter a number: 22\n",
      "The number is not divisible by 10. Add 8 to make it divisible.\n"
     ]
    }
   ],
   "source": [
    "# Get a number from the user\n",
    "number = int(input(\"Enter a number: \"))\n",
    "\n",
    "# Check if the number is divisible by 10\n",
    "if number % 10 == 0:\n",
    "    print(\"The number is divisible by 10.\")\n",
    "else:\n",
    "    remainder = number % 10\n",
    "    amount_to_add = 10 - remainder\n",
    "    print(f\"The number is not divisible by 10. Add {amount_to_add} to make it divisible.\")"
   ]
  },
  {
   "cell_type": "raw",
   "id": "d1c0a831",
   "metadata": {},
   "source": [
    "In this program, the user is prompted to enter a number. The program then checks if the number is divisible by 10 using the modulus operator (%). If the remainder is 0, it means the number is divisible by 10. If the remainder is not 0, the program calculates the amount needed to add to the number to make it completely divisible by 10 and displays the result."
   ]
  },
  {
   "cell_type": "markdown",
   "id": "b23c5b6d",
   "metadata": {},
   "source": [
    "40. Write a program to verify whether a candidate is eligible to appear for an exam or not. The minimum and maximum age of person appearing for the exam is 21 and 35, respectively."
   ]
  },
  {
   "cell_type": "code",
   "execution_count": 17,
   "id": "838bbbc6",
   "metadata": {},
   "outputs": [
    {
     "name": "stdout",
     "output_type": "stream",
     "text": [
      "Enter the candidate's age: 26\n",
      "The candidate is eligible to appear for the exam.\n"
     ]
    }
   ],
   "source": [
    "# Get the candidate's age from the user\n",
    "age = int(input(\"Enter the candidate's age: \"))\n",
    "\n",
    "# Check if the candidate is eligible to appear for the exam\n",
    "if 21 <= age <= 35:\n",
    "    print(\"The candidate is eligible to appear for the exam.\")\n",
    "else:\n",
    "    print(\"The candidate is not eligible to appear for the exam.\")"
   ]
  },
  {
   "cell_type": "raw",
   "id": "4513a110",
   "metadata": {},
   "source": [
    "In this program, the user is prompted to enter the candidate's age. The program then uses conditional statements to check if the age is within the specified range (between 21 and 35, inclusive). If the age falls within the range, the candidate is eligible to appear for the exam. Otherwise, the candidate is not eligible."
   ]
  },
  {
   "cell_type": "markdown",
   "id": "11656539",
   "metadata": {},
   "source": [
    "41. Write a program that prompts user to enter an angle and then prints its quadrant."
   ]
  },
  {
   "cell_type": "code",
   "execution_count": 18,
   "id": "39262337",
   "metadata": {},
   "outputs": [
    {
     "name": "stdout",
     "output_type": "stream",
     "text": [
      "Enter an angle in degrees: 90\n",
      "The angle 90.0 degrees is in Positive y-axis.\n"
     ]
    }
   ],
   "source": [
    "# Get an angle from the user\n",
    "angle = float(input(\"Enter an angle in degrees: \"))\n",
    "\n",
    "# Determine the quadrant based on the angle\n",
    "if 0 < angle < 90:\n",
    "    quadrant = \"Quadrant 1\"\n",
    "elif 90 < angle < 180:\n",
    "    quadrant = \"Quadrant 2\"\n",
    "elif 180 < angle < 270:\n",
    "    quadrant = \"Quadrant 3\"\n",
    "elif 270 < angle < 360:\n",
    "    quadrant = \"Quadrant 4\"\n",
    "elif angle == 0 or angle == 360:\n",
    "    quadrant = \"Positive x-axis\"\n",
    "elif angle == 90:\n",
    "    quadrant = \"Positive y-axis\"\n",
    "elif angle == 180:\n",
    "    quadrant = \"Negative x-axis\"\n",
    "elif angle == 270:\n",
    "    quadrant = \"Negative y-axis\"\n",
    "else:\n",
    "    quadrant = \"Invalid angle\"\n",
    "\n",
    "# Display the quadrant\n",
    "print(f\"The angle {angle} degrees is in {quadrant}.\")"
   ]
  },
  {
   "cell_type": "raw",
   "id": "827ecafa",
   "metadata": {},
   "source": [
    "In this program, the user is prompted to enter an angle in degrees. The program then uses conditional statements to determine the quadrant or axis in which the angle lies based on its value. The result is displayed accordingly."
   ]
  },
  {
   "cell_type": "markdown",
   "id": "12a538eb",
   "metadata": {},
   "source": [
    "42. Write a program that prompts user to enter a number between 1-12 and then displays the corresponding month of the year."
   ]
  },
  {
   "cell_type": "code",
   "execution_count": 19,
   "id": "a80f39d6",
   "metadata": {},
   "outputs": [
    {
     "name": "stdout",
     "output_type": "stream",
     "text": [
      "Enter a number between 1 and 12: 4\n",
      "The corresponding month is: April\n"
     ]
    }
   ],
   "source": [
    "# Get a number from the user\n",
    "number = int(input(\"Enter a number between 1 and 12: \"))\n",
    "\n",
    "# Define a list of month names\n",
    "months = [\"January\", \"February\", \"March\", \"April\", \"May\", \"June\",\n",
    "          \"July\", \"August\", \"September\", \"October\", \"November\", \"December\"]\n",
    "\n",
    "# Check if the number is within the valid range\n",
    "if 1 <= number <= 12:\n",
    "    month = months[number - 1]\n",
    "    print(f\"The corresponding month is: {month}\")\n",
    "else:\n",
    "    print(\"Invalid input. Please enter a number between 1 and 12.\")"
   ]
  },
  {
   "cell_type": "raw",
   "id": "63052447",
   "metadata": {},
   "source": [
    "In this program, the user is prompted to enter a number. The program then uses conditional statements to check if the number is within the valid range (1 to 12). If the number is valid, the corresponding month is retrieved from the months list and displayed. If the number is not valid, an appropriate message is displayed."
   ]
  },
  {
   "cell_type": "markdown",
   "id": "80d97200",
   "metadata": {},
   "source": [
    "43. Write a menu driven program that prompts user to enter two sides of a rectangle. The user can then choose from a given set of options if he/she needs to calculate perimeter, area or diagonal of the rectangle."
   ]
  },
  {
   "cell_type": "code",
   "execution_count": 20,
   "id": "420e8c91",
   "metadata": {},
   "outputs": [
    {
     "name": "stdout",
     "output_type": "stream",
     "text": [
      "Enter the length of the rectangle: 60\n",
      "Enter the width of the rectangle: 40\n",
      "\n",
      "Menu:\n",
      "1. Calculate Perimeter\n",
      "2. Calculate Area\n",
      "3. Calculate Diagonal\n",
      "Enter your choice (1/2/3): 2\n",
      "The area of the rectangle is: 2400.0\n"
     ]
    }
   ],
   "source": [
    "import math\n",
    "\n",
    "def calculate_perimeter(length, width):\n",
    "    return 2 * (length + width)\n",
    "\n",
    "def calculate_area(length, width):\n",
    "    return length * width\n",
    "\n",
    "def calculate_diagonal(length, width):\n",
    "    return math.sqrt(length ** 2 + width ** 2)\n",
    "\n",
    "# Get sides of the rectangle from the user\n",
    "length = float(input(\"Enter the length of the rectangle: \"))\n",
    "width = float(input(\"Enter the width of the rectangle: \"))\n",
    "\n",
    "# Display the menu\n",
    "print(\"\\nMenu:\")\n",
    "print(\"1. Calculate Perimeter\")\n",
    "print(\"2. Calculate Area\")\n",
    "print(\"3. Calculate Diagonal\")\n",
    "\n",
    "# Get user's choice from the menu\n",
    "choice = int(input(\"Enter your choice (1/2/3): \"))\n",
    "\n",
    "# Perform the chosen calculation and display the result\n",
    "if choice == 1:\n",
    "    perimeter = calculate_perimeter(length, width)\n",
    "    print(f\"The perimeter of the rectangle is: {perimeter}\")\n",
    "elif choice == 2:\n",
    "    area = calculate_area(length, width)\n",
    "    print(f\"The area of the rectangle is: {area}\")\n",
    "elif choice == 3:\n",
    "    diagonal = calculate_diagonal(length, width)\n",
    "    print(f\"The diagonal of the rectangle is: {diagonal}\")\n",
    "else:\n",
    "    print(\"Invalid choice. Please select a valid option.\")"
   ]
  },
  {
   "cell_type": "raw",
   "id": "539b4cc1",
   "metadata": {},
   "source": [
    "In this program, the user is prompted to enter the sides of the rectangle. Then, a menu is displayed with options to calculate the perimeter, area, or diagonal of the rectangle. The user's choice is taken, and the corresponding calculation is performed based on the entered sides. The result is then displayed."
   ]
  },
  {
   "cell_type": "markdown",
   "id": "825decc7",
   "metadata": {},
   "source": [
    "44. Write a program that prompts users to enter a character (A, B, C, D, E). Then, using if-elif-else construct display Outstanding, Very Good, Good, Average and Fail, respectively."
   ]
  },
  {
   "cell_type": "code",
   "execution_count": 21,
   "id": "512edca7",
   "metadata": {},
   "outputs": [
    {
     "name": "stdout",
     "output_type": "stream",
     "text": [
      "Enter a character (A, B, C, D, E): C\n",
      "Good\n"
     ]
    }
   ],
   "source": [
    "# Get a character from the user\n",
    "character = input(\"Enter a character (A, B, C, D, E): \")\n",
    "\n",
    "# Using if-elif-else construct to determine the performance level\n",
    "if character == 'A':\n",
    "    print(\"Outstanding\")\n",
    "elif character == 'B':\n",
    "    print(\"Very Good\")\n",
    "elif character == 'C':\n",
    "    print(\"Good\")\n",
    "elif character == 'D':\n",
    "    print(\"Average\")\n",
    "elif character == 'E':\n",
    "    print(\"Fail\")\n",
    "else:\n",
    "    print(\"Invalid input. Please enter a valid character (A, B, C, D, E).\")"
   ]
  },
  {
   "cell_type": "raw",
   "id": "4d35faec",
   "metadata": {},
   "source": [
    "In this program, the user is prompted to enter a character. The program then uses the if-elif-else construct to check the value of the entered character and displays the corresponding performance level. If the entered character is not one of the expected characters, an appropriate message is displayed."
   ]
  },
  {
   "cell_type": "markdown",
   "id": "0e414a6c",
   "metadata": {},
   "source": [
    "46. Write a program to read a floating-point number and an integer. If the value of the floating-point number is greater than 3.14, then multiply the value of the integer with 100."
   ]
  },
  {
   "cell_type": "code",
   "execution_count": 23,
   "id": "6a2a22f4",
   "metadata": {},
   "outputs": [
    {
     "name": "stdout",
     "output_type": "stream",
     "text": [
      "Enter a floating-point number: 4.6\n",
      "Enter an integer: 3\n",
      "Result: 300\n"
     ]
    }
   ],
   "source": [
    "# Get a floating-point number and an integer from the user\n",
    "float_number = float(input(\"Enter a floating-point number: \"))\n",
    "integer_number = int(input(\"Enter an integer: \"))\n",
    "\n",
    "# Check if the floating-point number is greater than 3.14\n",
    "if float_number > 3.14:\n",
    "    integer_number *= 100\n",
    "\n",
    "# Display the result\n",
    "print(f\"Result: {integer_number}\")"
   ]
  },
  {
   "cell_type": "raw",
   "id": "52afa235",
   "metadata": {},
   "source": [
    "In this program, the user is prompted to enter a floating-point number and an integer. The program then uses an if statement to check if the floating-point number is greater than 3.14. If the condition is met, the value of the integer is multiplied by 100. The final result is displayed."
   ]
  },
  {
   "cell_type": "markdown",
   "id": "d765bb81",
   "metadata": {},
   "source": [
    "47. Write a program that prompts user to enter two integers. Divide the greater number with the smaller one and print the remainder and quotient thus obtained."
   ]
  },
  {
   "cell_type": "code",
   "execution_count": 24,
   "id": "bc308d85",
   "metadata": {},
   "outputs": [
    {
     "name": "stdout",
     "output_type": "stream",
     "text": [
      "Enter the first integer: 8\n",
      "Enter the second integer: 9\n",
      "The quotient of 9 divided by 8 is: 1\n",
      "The remainder of 9 divided by 8 is: 1\n"
     ]
    }
   ],
   "source": [
    "# Get two integers from the user\n",
    "num1 = int(input(\"Enter the first integer: \"))\n",
    "num2 = int(input(\"Enter the second integer: \"))\n",
    "\n",
    "# Find the greater and smaller numbers\n",
    "greater_num = max(num1, num2)\n",
    "smaller_num = min(num1, num2)\n",
    "\n",
    "# Calculate quotient and remainder\n",
    "quotient = greater_num // smaller_num\n",
    "remainder = greater_num % smaller_num\n",
    "\n",
    "# Display the result\n",
    "print(f\"The quotient of {greater_num} divided by {smaller_num} is: {quotient}\")\n",
    "print(f\"The remainder of {greater_num} divided by {smaller_num} is: {remainder}\")"
   ]
  },
  {
   "cell_type": "raw",
   "id": "d8865024",
   "metadata": {},
   "source": [
    "In this program, the user is prompted to enter two integers. The program then determines the greater and smaller numbers using the max() and min() functions. It calculates the quotient and remainder using the division and modulus operators, and then displays the calculated quotient and remainder."
   ]
  },
  {
   "cell_type": "markdown",
   "id": "b883f3c7",
   "metadata": {},
   "source": [
    "48. What ouput will be gerated when the expression 5 or 100/0 is evaluated? What change can you do so that Python reports a Divide-by-Zero Error?"
   ]
  },
  {
   "cell_type": "raw",
   "id": "8fc2ee71",
   "metadata": {},
   "source": [
    "The expression 5 or 100/0 will result in the value 5 without raising a Divide-by-Zero Error. This is because the or operator in Python short-circuits when the first operand is True (non-zero), so it doesn't need to evaluate the second operand (100/0 in this case).\n",
    "\n",
    "If you want to ensure that Python reports a Divide-by-Zero Error, you can isolate the division operation and handle the exception using a try and except block. Here's how you can do it:"
   ]
  },
  {
   "cell_type": "code",
   "execution_count": 25,
   "id": "6c3294d9",
   "metadata": {},
   "outputs": [
    {
     "name": "stdout",
     "output_type": "stream",
     "text": [
      "Divide-by-Zero Error occurred!\n"
     ]
    }
   ],
   "source": [
    "try:\n",
    "    result = 100 / 0\n",
    "except ZeroDivisionError:\n",
    "    print(\"Divide-by-Zero Error occurred!\")"
   ]
  },
  {
   "cell_type": "raw",
   "id": "6ee71f25",
   "metadata": {},
   "source": [
    "In this code, the division operation 100 / 0 is enclosed within a try block. If a ZeroDivisionError occurs (indicating a division by zero), the program will catch the exception and print a corresponding error message. This way, you can explicitly handle the divide-by-zero scenario and avoid having the code continue without any error reporting."
   ]
  },
  {
   "cell_type": "code",
   "execution_count": null,
   "id": "e43dc576",
   "metadata": {},
   "outputs": [],
   "source": []
  }
 ],
 "metadata": {
  "kernelspec": {
   "display_name": "Python 3 (ipykernel)",
   "language": "python",
   "name": "python3"
  },
  "language_info": {
   "codemirror_mode": {
    "name": "ipython",
    "version": 3
   },
   "file_extension": ".py",
   "mimetype": "text/x-python",
   "name": "python",
   "nbconvert_exporter": "python",
   "pygments_lexer": "ipython3",
   "version": "3.11.4"
  }
 },
 "nbformat": 4,
 "nbformat_minor": 5
}
