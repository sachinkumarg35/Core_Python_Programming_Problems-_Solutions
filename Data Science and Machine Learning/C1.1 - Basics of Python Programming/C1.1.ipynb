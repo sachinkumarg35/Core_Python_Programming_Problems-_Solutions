{
 "cells": [
  {
   "cell_type": "markdown",
   "id": "a1a47f66",
   "metadata": {},
   "source": [
    "51. Write a program that prompts user to enter the angles of a triangle. Check whether the triangle is acute, obtuse or right angled."
   ]
  },
  {
   "cell_type": "markdown",
   "id": "99881cbc",
   "metadata": {},
   "source": [
    "52. Write a program to check whether a number entered by user is positive, negative or equal to zero."
   ]
  },
  {
   "cell_type": "markdown",
   "id": "4504d048",
   "metadata": {},
   "source": [
    "53. Write a program that converts a decimal number into its equivalent octal value."
   ]
  },
  {
   "cell_type": "markdown",
   "id": "a9dc0951",
   "metadata": {},
   "source": [
    "54. Write a program that converts an octal number into its equivalent decimal value."
   ]
  },
  {
   "cell_type": "markdown",
   "id": "32fa6569",
   "metadata": {},
   "source": [
    "55. Write a function that accepts two positive numbers n and m where m<=n, and returns numbers between 1 and n that are divisible by m."
   ]
  },
  {
   "cell_type": "markdown",
   "id": "bf3dfb67",
   "metadata": {},
   "source": [
    "56. Write a program to convert time in hours into minutes and vice versa."
   ]
  },
  {
   "cell_type": "markdown",
   "id": "9e595f15",
   "metadata": {},
   "source": [
    "57. Write a program to calculate conveyance charges to be paid by the users. Enter the type of car as a character (like s for sedan, p for prime, m for mini) and distance in kms. Calculate charges as given below:\n",
    "    sedan - 17 Rs per km, prime - 12 Rs per km and mini - 10 Rs per km."
   ]
  },
  {
   "cell_type": "markdown",
   "id": "1073c86a",
   "metadata": {},
   "source": [
    "58. Modify the above program to calculate the conveyance charges. Read the kms when the user sits in the car and the time of his/her exit. Calculate the difference between the two readings and calculate the charges based on following rules."
   ]
  },
  {
   "cell_type": "code",
   "execution_count": 1,
   "id": "d61e32b2",
   "metadata": {},
   "outputs": [],
   "source": [
    "#Car Type ----------- Rate till first 5 kms ------ Rate after first 5 kms\n",
    "#Mini ---------------------10-------------------------10\n",
    "#Prime---------------------20-------------------------12\n",
    "#Sedan---------------------30-------------------------17"
   ]
  },
  {
   "cell_type": "markdown",
   "id": "94796de9",
   "metadata": {},
   "source": [
    "59. Write a program to sum the series\n",
    "1^2/1 + 2^2/2 + 3^2/3 +.....+n^2/n."
   ]
  },
  {
   "cell_type": "markdown",
   "id": "4cfa24c1",
   "metadata": {},
   "source": [
    "60. Write a program that prints cube of numbers in the range (1, n)."
   ]
  },
  {
   "cell_type": "markdown",
   "id": "8e6a5e78",
   "metadata": {},
   "source": [
    "61. Write a program that prompts user to enter the distance between his/her home and school. If the distance is in kilometers, display it in meters and vice versa."
   ]
  },
  {
   "cell_type": "markdown",
   "id": "411b2a22",
   "metadata": {},
   "source": [
    "62. Write a program that displays Python Programming as \n",
    "* python programming\n",
    "* PYTHON PROGRAMMING\n",
    "* pYTHON pROGRAMMING"
   ]
  },
  {
   "cell_type": "markdown",
   "id": "51481042",
   "metadata": {},
   "source": [
    "63. Write a program that prompts users to enter numbers.Once the user enters -1, it displays the count, sum and average of even numbers and that of odd numbers."
   ]
  },
  {
   "cell_type": "markdown",
   "id": "a2367da4",
   "metadata": {},
   "source": [
    "64. Write a program to display the sin(x) value where x ranges from 0 to 360 in steps of 45."
   ]
  },
  {
   "cell_type": "markdown",
   "id": "068aa47a",
   "metadata": {},
   "source": [
    "65. Write a program that displays all the numbers from 1-100 that are not divisible 7 as well as by 11."
   ]
  },
  {
   "cell_type": "markdown",
   "id": "e2b2de8a",
   "metadata": {},
   "source": [
    "66. Write a program that accepts any number and prints the number of digits in that number."
   ]
  },
  {
   "cell_type": "markdown",
   "id": "7426b730",
   "metadata": {},
   "source": [
    "67. Write a program that prints numbers from 100 to 1 in steps of 4."
   ]
  },
  {
   "cell_type": "markdown",
   "id": "3e2d9fc2",
   "metadata": {},
   "source": [
    "68. Write a program to generate the following pattern:"
   ]
  },
  {
   "cell_type": "code",
   "execution_count": 2,
   "id": "1440457a",
   "metadata": {},
   "outputs": [],
   "source": [
    "#*********\n",
    "#*       *\n",
    "#*       *\n",
    "#*       *\n",
    "#*       *\n",
    "#*       *\n",
    "#*********"
   ]
  },
  {
   "cell_type": "markdown",
   "id": "a395a183",
   "metadata": {},
   "source": [
    "69. Write a program to generate the following pattern:"
   ]
  },
  {
   "cell_type": "code",
   "execution_count": 3,
   "id": "86eb5c6c",
   "metadata": {},
   "outputs": [],
   "source": [
    "#$******$\n",
    "# $     *\n",
    "#  $    *\n",
    "#    $  *\n",
    "#       *\n",
    "#       *\n",
    "#*******$"
   ]
  },
  {
   "cell_type": "markdown",
   "id": "95c607fe",
   "metadata": {},
   "source": [
    "70. Write a program to generate the following pattern:"
   ]
  },
  {
   "cell_type": "markdown",
   "id": "972f3483",
   "metadata": {},
   "source": [
    "71. Write a program that reads integers until the user wants to stop. When the user stops entering numbers, display the largest of all the numbers entered."
   ]
  },
  {
   "cell_type": "markdown",
   "id": "75fcfa16",
   "metadata": {},
   "source": [
    "72. Write a program to generate the Fibonacci series."
   ]
  },
  {
   "cell_type": "markdown",
   "id": "c41d38e4",
   "metadata": {},
   "source": [
    "73. Write a program to print first 20 even numbers in descending order."
   ]
  },
  {
   "cell_type": "markdown",
   "id": "5b8a67fa",
   "metadata": {},
   "source": [
    "74. Write a program to print the sum of the following series:\n",
    "    \n",
    "a. -x + x^2 - x^3 + x^4 + .....\n",
    "\n",
    "b. 1 - x + x^2/2! - x^3/3! + ...."
   ]
  },
  {
   "cell_type": "code",
   "execution_count": null,
   "id": "b6f74301",
   "metadata": {},
   "outputs": [],
   "source": []
  }
 ],
 "metadata": {
  "kernelspec": {
   "display_name": "Python 3 (ipykernel)",
   "language": "python",
   "name": "python3"
  },
  "language_info": {
   "codemirror_mode": {
    "name": "ipython",
    "version": 3
   },
   "file_extension": ".py",
   "mimetype": "text/x-python",
   "name": "python",
   "nbconvert_exporter": "python",
   "pygments_lexer": "ipython3",
   "version": "3.10.9"
  }
 },
 "nbformat": 4,
 "nbformat_minor": 5
}
