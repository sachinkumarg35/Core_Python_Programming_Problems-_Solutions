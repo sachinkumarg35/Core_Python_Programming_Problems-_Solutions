{
 "cells": [
  {
   "cell_type": "markdown",
   "id": "a1a47f66",
   "metadata": {},
   "source": [
    "51. Write a program that prompts user to enter the angles of a triangle. Check whether the triangle is acute, obtuse or right angled."
   ]
  },
  {
   "cell_type": "code",
   "execution_count": null,
   "id": "bd3acbf4",
   "metadata": {},
   "outputs": [],
   "source": [
    "# Get angles of the triangle from the user\n",
    "angle1 = float(input(\"Enter the first angle: \"))\n",
    "angle2 = float(input(\"Enter the second angle: \"))\n",
    "angle3 = float(input(\"Enter the third angle: \"))\n",
    "\n",
    "# Calculate the sum of angles\n",
    "sum_of_angles = angle1 + angle2 + angle3\n",
    "\n",
    "# Determine the type of triangle based on angles\n",
    "if sum_of_angles == 180:\n",
    "    if angle1 < 90 and angle2 < 90 and angle3 < 90:\n",
    "        triangle_type = \"Acute triangle\"\n",
    "    elif angle1 == 90 or angle2 == 90 or angle3 == 90:\n",
    "        triangle_type = \"Right-angled triangle\"\n",
    "    else:\n",
    "        triangle_type = \"Obtuse triangle\"\n",
    "    print(f\"The triangle is a {triangle_type}.\")\n",
    "else:print(\"The angles do not form a valid triangle.\")"
   ]
  },
  {
   "cell_type": "raw",
   "id": "ef42d738",
   "metadata": {},
   "source": [
    "In this program, the user is prompted to enter the three angles of a triangle. The program then calculates the sum of the angles. If the sum is 180 (indicating a valid triangle), the program further checks the type of triangle based on the angles:\n",
    "\n",
    "If all angles are less than 90 degrees, it's an acute triangle.\n",
    "If one angle is 90 degrees, it's a right-angled triangle.\n",
    "If any angle is greater than 90 degrees, it's an obtuse triangle.\n",
    "If the angles do not form a valid triangle (sum of angles not equal to 180), an appropriate message is displayed."
   ]
  },
  {
   "cell_type": "markdown",
   "id": "99881cbc",
   "metadata": {},
   "source": [
    "52. Write a program to check whether a number entered by user is positive, negative or equal to zero."
   ]
  },
  {
   "cell_type": "code",
   "execution_count": null,
   "id": "6d53d31e",
   "metadata": {},
   "outputs": [],
   "source": [
    "# Get a number from the user\n",
    "number = float(input(\"Enter a number: \"))\n",
    "\n",
    "# Check and display the result\n",
    "if number > 0:\n",
    "    print(\"The number is positive.\")\n",
    "elif number < 0:\n",
    "    print(\"The number is negative.\")\n",
    "else:\n",
    "    print(\"The number is equal to zero.\")"
   ]
  },
  {
   "cell_type": "raw",
   "id": "0384c1ac",
   "metadata": {},
   "source": [
    "In this program, the user is prompted to enter a number. The program then uses if, elif, and else statements to check whether the number is positive, negative, or equal to zero, and displays the appropriate message accordingly."
   ]
  },
  {
   "cell_type": "markdown",
   "id": "4504d048",
   "metadata": {},
   "source": [
    "53. Write a program that converts a decimal number into its equivalent octal value."
   ]
  },
  {
   "cell_type": "code",
   "execution_count": null,
   "id": "dc81e3ec",
   "metadata": {},
   "outputs": [],
   "source": [
    "# Get a decimal number from the user\n",
    "decimal_number = int(input(\"Enter a decimal number: \"))\n",
    "\n",
    "# Convert the decimal number to its octal equivalent\n",
    "octal_number = oct(decimal_number)\n",
    "\n",
    "# Display the equivalent octal value\n",
    "print(f\"The equivalent octal value of {decimal_number} is: {octal_number[2:]}\")"
   ]
  },
  {
   "cell_type": "raw",
   "id": "a35fc6b3",
   "metadata": {},
   "source": [
    "In this program, the user is prompted to enter a decimal number. The oct() function is then used to convert the decimal number to its octal equivalent. The octal representation will have a prefix of '0o', so we slice the string to remove the prefix and display the equivalent octal value."
   ]
  },
  {
   "cell_type": "markdown",
   "id": "a9dc0951",
   "metadata": {},
   "source": [
    "54. Write a program that converts an octal number into its equivalent decimal value."
   ]
  },
  {
   "cell_type": "code",
   "execution_count": null,
   "id": "2247325e",
   "metadata": {},
   "outputs": [],
   "source": [
    "# Get an octal number from the user\n",
    "octal_number = input(\"Enter an octal number: \")\n",
    "\n",
    "# Convert the octal number to its equivalent decimal value\n",
    "decimal_number = int(octal_number, 8)\n",
    "\n",
    "# Display the equivalent decimal value\n",
    "print(f\"The equivalent decimal value of {octal_number} is: {decimal_number}\")"
   ]
  },
  {
   "cell_type": "raw",
   "id": "45a4288b",
   "metadata": {},
   "source": [
    "In this program, the user is prompted to enter an octal number. The int() function is then used to convert the octal number into its equivalent decimal value by specifying the base as 8 (octal). The program then displays the equivalent decimal value."
   ]
  },
  {
   "cell_type": "markdown",
   "id": "32fa6569",
   "metadata": {},
   "source": [
    "55. Write a function that accepts two positive numbers n and m where m<=n, and returns numbers between 1 and n that are divisible by m."
   ]
  },
  {
   "cell_type": "code",
   "execution_count": null,
   "id": "4ad44001",
   "metadata": {},
   "outputs": [],
   "source": [
    "def find_divisible_numbers(n, m):\n",
    "    divisible_numbers = []\n",
    "    \n",
    "    for num in range(1, n + 1):\n",
    "        if num % m == 0:\n",
    "            divisible_numbers.append(num)\n",
    "    \n",
    "    return divisible_numbers\n",
    "\n",
    "# Get input from the user\n",
    "n = int(input(\"Enter a positive number n: \"))\n",
    "m = int(input(f\"Enter a positive number m (where m <= {n}): \"))\n",
    "\n",
    "# Check if m is less than or equal to n\n",
    "if m <= n:\n",
    "    result = find_divisible_numbers(n, m)\n",
    "    print(f\"Numbers between 1 and {n} that are divisible by {m}: {result}\")\n",
    "else:\n",
    "    print(f\"Invalid input. Please make sure m <= n.\")"
   ]
  },
  {
   "cell_type": "raw",
   "id": "42a88102",
   "metadata": {},
   "source": [
    "In this program, the function find_divisible_numbers() takes two arguments, n and m, and iterates through numbers from 1 to n. If a number is divisible by m, it is added to the divisible_numbers list. The program then prompts the user to enter the values of n and m, and if m is less than or equal to n, it calls the function and displays the resulting list of numbers that are divisible by m."
   ]
  },
  {
   "cell_type": "markdown",
   "id": "bf3dfb67",
   "metadata": {},
   "source": [
    "56. Write a program to convert time in hours into minutes and vice versa."
   ]
  },
  {
   "cell_type": "code",
   "execution_count": null,
   "id": "642f5261",
   "metadata": {},
   "outputs": [],
   "source": [
    "def hours_to_minutes(hours):\n",
    "    return hours * 60\n",
    "\n",
    "def minutes_to_hours(minutes):\n",
    "    return minutes / 60\n",
    "\n",
    "# Display the menu\n",
    "print(\"Menu:\")\n",
    "print(\"1. Convert hours to minutes\")\n",
    "print(\"2. Convert minutes to hours\")\n",
    "\n",
    "# Get user's choice from the menu\n",
    "choice = int(input(\"Enter your choice (1/2): \"))\n",
    "\n",
    "if choice == 1:\n",
    "    hours = float(input(\"Enter the time in hours: \"))\n",
    "    minutes = hours_to_minutes(hours)\n",
    "    print(f\"{hours} hours is equal to {minutes} minutes.\")\n",
    "elif choice == 2:\n",
    "    minutes = float(input(\"Enter the time in minutes: \"))\n",
    "    hours = minutes_to_hours(minutes)\n",
    "    print(f\"{minutes} minutes is equal to {hours} hours.\")\n",
    "else:\n",
    "    print(\"Invalid choice. Please select a valid option.\")"
   ]
  },
  {
   "cell_type": "raw",
   "id": "a8458f28",
   "metadata": {},
   "source": [
    "# In this program, the user is provided with a menu to choose whether to convert hours to minutes or minutes to hours. The hours_to_minutes() function converts hours to minutes, and the minutes_to_hours() function converts minutes to hours. Depending on the user's choice, the program performs the appropriate conversion and displays the result."
   ]
  },
  {
   "cell_type": "markdown",
   "id": "9e595f15",
   "metadata": {},
   "source": [
    "57. Write a program to calculate conveyance charges to be paid by the users. Enter the type of car as a character (like s for sedan, p for prime, m for mini) and distance in kms. Calculate charges as given below:\n",
    "    sedan - 17 Rs per km, prime - 12 Rs per km and mini - 10 Rs per km."
   ]
  },
  {
   "cell_type": "code",
   "execution_count": null,
   "id": "b6cf93f9",
   "metadata": {},
   "outputs": [],
   "source": [
    "# Get the type of car and distance from the user\n",
    "car_type = input(\"Enter the type of car (s for sedan, p for prime, m for mini): \")\n",
    "distance = float(input(\"Enter the distance in kilometers: \"))\n",
    "\n",
    "# Calculate the conveyance charges based on car type\n",
    "if car_type == 's':\n",
    "    charges = 17 * distance\n",
    "    car_name = \"Sedan\"\n",
    "elif car_type == 'p':\n",
    "    charges = 12 * distance\n",
    "    car_name = \"Prime\"\n",
    "elif car_type == 'm':\n",
    "    charges = 10 * distance\n",
    "    car_name = \"Mini\"\n",
    "else:\n",
    "    charges = 0\n",
    "    car_name = \"Unknown\"\n",
    "\n",
    "# Display the calculated charges\n",
    "if charges > 0:\n",
    "    print(f\"Conveyance charges for {distance} km using {car_name} car: Rs {charges:.2f}\")\n",
    "else:\n",
    "    print(\"Invalid car type. Please enter a valid car type.\")"
   ]
  },
  {
   "cell_type": "raw",
   "id": "96a42262",
   "metadata": {},
   "source": [
    "In this program, the user is prompted to enter the type of car and the distance in kilometers. The program then calculates the conveyance charges based on the given rates for each car type. The calculated charges are displayed along with the car type. If the entered car type is invalid, an appropriate message is displayed."
   ]
  },
  {
   "cell_type": "markdown",
   "id": "1073c86a",
   "metadata": {},
   "source": [
    "58. Modify the above program to calculate the conveyance charges. Read the kms when the user sits in the car and the time of his/her exit. Calculate the difference between the two readings and calculate the charges based on following rules."
   ]
  },
  {
   "cell_type": "code",
   "execution_count": null,
   "id": "d61e32b2",
   "metadata": {},
   "outputs": [],
   "source": [
    "#Car Type ----------- Rate till first 5 kms ------ Rate after first 5 kms\n",
    "#Mini ---------------------10-------------------------10\n",
    "#Prime---------------------20-------------------------12\n",
    "#Sedan---------------------30-------------------------17"
   ]
  },
  {
   "cell_type": "code",
   "execution_count": null,
   "id": "82c8c0b3",
   "metadata": {},
   "outputs": [],
   "source": [
    "# Get the type of car, distance, and time from the user\n",
    "car_type = input(\"Enter the type of car (mini, prime, sedan): \")\n",
    "entry_kms = float(input(\"Enter the distance at entry in kilometers: \"))\n",
    "exit_kms = float(input(\"Enter the distance at exit in kilometers: \"))\n",
    "\n",
    "# Calculate the distance traveled\n",
    "distance = exit_kms - entry_kms\n",
    "\n",
    "# Calculate the conveyance charges based on car type and distance\n",
    "if car_type == 'mini':\n",
    "    if distance <= 5:\n",
    "        charges = 10 * distance\n",
    "    else:\n",
    "        charges = 10 * 5 + 10 * (distance - 5)\n",
    "    car_name = \"Mini\"\n",
    "elif car_type == 'prime':\n",
    "    if distance <= 5:\n",
    "        charges = 20 * distance\n",
    "    else:\n",
    "        charges = 20 * 5 + 12 * (distance - 5)\n",
    "    car_name = \"Prime\"\n",
    "elif car_type == 'sedan':\n",
    "    if distance <= 5:\n",
    "        charges = 30 * distance\n",
    "    else:\n",
    "        charges = 30 * 5 + 17 * (distance - 5)\n",
    "    car_name = \"Sedan\"\n",
    "else:\n",
    "    charges = 0\n",
    "    car_name = \"Unknown\"\n",
    "\n",
    "# Display the calculated charges\n",
    "if charges > 0:\n",
    "    print(f\"Conveyance charges for traveling {distance} km using {car_name} car: Rs {charges:.2f}\")\n",
    "else:\n",
    "    print(\"Invalid car type. Please enter a valid car type.\")"
   ]
  },
  {
   "cell_type": "raw",
   "id": "f8927782",
   "metadata": {},
   "source": [
    "In this modified program, the user is prompted to enter the type of car, the distance at entry, and the distance at exit. The program calculates the distance traveled and then calculates the conveyance charges based on the given rates for each car type and distance. The calculated charges are displayed along with the car type. If the entered car type is invalid, an appropriate message is displayed."
   ]
  },
  {
   "cell_type": "markdown",
   "id": "94796de9",
   "metadata": {},
   "source": [
    "59. Write a program to sum the series\n",
    "1^2/1 + 2^2/2 + 3^2/3 +.....+n^2/n."
   ]
  },
  {
   "cell_type": "code",
   "execution_count": null,
   "id": "55f97f77",
   "metadata": {},
   "outputs": [],
   "source": [
    "def calculate_series_sum(n):\n",
    "    series_sum = 0\n",
    "    for i in range(1, n + 1):\n",
    "        series_sum += i ** 2 / i\n",
    "    return series_sum\n",
    "\n",
    "# Get the value of n from the user\n",
    "n = int(input(\"Enter the value of n: \"))\n",
    "\n",
    "# Calculate the sum of the series\n",
    "sum_of_series = calculate_series_sum(n)\n",
    "\n",
    "# Display the sum of the series\n",
    "print(f\"The sum of the series is: {sum_of_series}\")"
   ]
  },
  {
   "cell_type": "raw",
   "id": "f469fbba",
   "metadata": {},
   "source": [
    "In this program, the function calculate_series_sum() takes the value of n as an argument and calculates the sum of the series using a loop that iterates from 1 to n. The sum is calculated by adding the value of i squared divided by i in each iteration. The user is prompted to enter the value of n, and the program calculates and displays the sum of the series."
   ]
  },
  {
   "cell_type": "markdown",
   "id": "4cfa24c1",
   "metadata": {},
   "source": [
    "60. Write a program that prints cube of numbers in the range (1, n)."
   ]
  },
  {
   "cell_type": "code",
   "execution_count": null,
   "id": "160d15cd",
   "metadata": {},
   "outputs": [],
   "source": [
    "def print_cube_range(n):\n",
    "    for num in range(1, n):\n",
    "        cube = num ** 3\n",
    "        print(f\"The cube of {num} is: {cube}\")\n",
    "\n",
    "# Get the value of n from the user\n",
    "n = int(input(\"Enter the value of n: \"))\n",
    "\n",
    "# Print the cube of numbers in the range (1, n)\n",
    "print_cube_range(n)"
   ]
  },
  {
   "cell_type": "raw",
   "id": "3ea55d4c",
   "metadata": {},
   "source": [
    "In this program, the function print_cube_range() takes the value of n as an argument and uses a loop to iterate through the numbers in the range (1, n). For each number, it calculates the cube and prints it along with the number. The user is prompted to enter the value of n, and the program prints the cubes of numbers in the specified range."
   ]
  },
  {
   "cell_type": "markdown",
   "id": "8e6a5e78",
   "metadata": {},
   "source": [
    "61. Write a program that prompts user to enter the distance between his/her home and school. If the distance is in kilometers, display it in meters and vice versa."
   ]
  },
  {
   "cell_type": "code",
   "execution_count": null,
   "id": "1418ff8c",
   "metadata": {},
   "outputs": [],
   "source": [
    "def convert_to_meters(kilometers):\n",
    "    return kilometers * 1000\n",
    "\n",
    "def convert_to_kilometers(meters):\n",
    "    return meters / 1000\n",
    "\n",
    "# Get the distance from the user\n",
    "distance = float(input(\"Enter the distance: \"))\n",
    "unit = input(\"Enter the unit (km/m): \")\n",
    "\n",
    "if unit == 'km':\n",
    "    meters = convert_to_meters(distance)\n",
    "    print(f\"The distance in meters is: {meters} m\")\n",
    "elif unit == 'm':\n",
    "    kilometers = convert_to_kilometers(distance)\n",
    "    print(f\"The distance in kilometers is: {kilometers} km\")\n",
    "else:\n",
    "    print(\"Invalid unit. Please enter 'km' or 'm'.\")"
   ]
  },
  {
   "cell_type": "raw",
   "id": "4c2b7048",
   "metadata": {},
   "source": [
    "In this program, the functions convert_to_meters() and convert_to_kilometers() are used to perform the conversions between kilometers and meters. The user is prompted to enter the distance and the unit (kilometers or meters). Depending on the unit entered, the program performs the appropriate conversion and displays the converted distance. If an invalid unit is entered, an appropriate message is displayed."
   ]
  },
  {
   "cell_type": "markdown",
   "id": "411b2a22",
   "metadata": {},
   "source": [
    "62. Write a program that displays Python Programming as \n",
    "* python programming\n",
    "* PYTHON PROGRAMMING\n",
    "* pYTHON pROGRAMMING"
   ]
  },
  {
   "cell_type": "code",
   "execution_count": null,
   "id": "ba8ba731",
   "metadata": {},
   "outputs": [],
   "source": [
    "text = \"Python Programming\"\n",
    "\n",
    "# Convert to lowercase\n",
    "lowercase = text.lower()\n",
    "print(\"Lowercase:\", lowercase)\n",
    "\n",
    "# Convert to uppercase\n",
    "uppercase = text.upper()\n",
    "print(\"Uppercase:\", uppercase)\n",
    "\n",
    "# Swap case\n",
    "swapcase = text.swapcase()\n",
    "print(\"Swapped Case:\", swapcase)\n",
    "\n",
    "# Title case\n",
    "titlecase = text.title()\n",
    "print(\"Title Case:\", titlecase)"
   ]
  },
  {
   "cell_type": "raw",
   "id": "258173e5",
   "metadata": {},
   "source": [
    "In this program, the provided text \"Python Programming\" is manipulated using string methods to display it in different formats. The lower() method converts the text to lowercase, the upper() method converts it to uppercase, the swapcase() method swaps the case of each character, and the title() method converts it to title case. The program then prints each of these formatted versions of the text."
   ]
  },
  {
   "cell_type": "markdown",
   "id": "51481042",
   "metadata": {},
   "source": [
    "63. Write a program that prompts users to enter numbers.Once the user enters -1, it displays the count, sum and average of even numbers and that of odd numbers."
   ]
  },
  {
   "cell_type": "code",
   "execution_count": null,
   "id": "517efc58",
   "metadata": {},
   "outputs": [],
   "source": [
    "even_count = 0\n",
    "even_sum = 0\n",
    "odd_count = 0\n",
    "odd_sum = 0\n",
    "\n",
    "while True:\n",
    "    num = int(input(\"Enter a number (-1 to stop): \"))\n",
    "    \n",
    "    if num == -1:\n",
    "        break\n",
    "    \n",
    "    if num % 2 == 0:\n",
    "        even_count += 1\n",
    "        even_sum += num\n",
    "    else:\n",
    "        odd_count += 1\n",
    "        odd_sum += num\n",
    "\n",
    "if even_count > 0:\n",
    "    even_average = even_sum / even_count\n",
    "else:\n",
    "    even_average = 0\n",
    "\n",
    "if odd_count > 0:\n",
    "    odd_average = odd_sum / odd_count\n",
    "else:\n",
    "    odd_average = 0\n",
    "\n",
    "print(f\"Even numbers: Count = {even_count}, Sum = {even_sum}, Average = {even_average:.2f}\")\n",
    "print(f\"Odd numbers: Count = {odd_count}, Sum = {odd_sum}, Average = {odd_average:.2f}\")"
   ]
  },
  {
   "cell_type": "raw",
   "id": "2da1c002",
   "metadata": {},
   "source": [
    "In this program, a while loop continues to prompt the user for numbers until they enter -1. The program keeps track of the count and sum of even and odd numbers separately. Once the user enters -1, the program calculates the average of even and odd numbers (if there are any) and then displays the counts, sums, and averages for both even and odd numbers."
   ]
  },
  {
   "cell_type": "markdown",
   "id": "a2367da4",
   "metadata": {},
   "source": [
    "64. Write a program to display the sin(x) value where x ranges from 0 to 360 in steps of 45."
   ]
  },
  {
   "cell_type": "code",
   "execution_count": null,
   "id": "82e09607",
   "metadata": {},
   "outputs": [],
   "source": [
    "import math\n",
    "\n",
    "# Calculate and display sin(x) values for angles from 0 to 360 in steps of 45\n",
    "for angle in range(0, 361, 45):\n",
    "    radians = math.radians(angle)  # Convert degrees to radians\n",
    "    sin_value = math.sin(radians)\n",
    "    print(f\"sin({angle}°) = {sin_value:.4f}\")"
   ]
  },
  {
   "cell_type": "raw",
   "id": "aee98270",
   "metadata": {},
   "source": [
    "In this program, the math module is imported to access the sin() function. The for loop iterates through angles from 0 to 360 degrees in steps of 45 degrees. For each angle, the angle is converted to radians using the math.radians() function, and then the sine value is calculated using math.sin(). The program then prints the sine value for each angle."
   ]
  },
  {
   "cell_type": "markdown",
   "id": "068aa47a",
   "metadata": {},
   "source": [
    "65. Write a program that displays all the numbers from 1-100 that are not divisible 7 as well as by 11."
   ]
  },
  {
   "cell_type": "code",
   "execution_count": null,
   "id": "1e859fd8",
   "metadata": {},
   "outputs": [],
   "source": [
    "# Display numbers from 1 to 100 that are not divisible by 7 and 11\n",
    "for num in range(1, 101):\n",
    "    if num % 7 != 0 and num % 11 != 0:\n",
    "        print(num)"
   ]
  },
  {
   "cell_type": "raw",
   "id": "fff55095",
   "metadata": {},
   "source": [
    "In this program, a for loop iterates through the numbers from 1 to 100. The if statement checks if the number is not divisible by 7 and 11 using the modulo operator (%). If the condition is satisfied, the number is printed. This way, only the numbers that are not divisible by both 7 and 11 are displayed."
   ]
  },
  {
   "cell_type": "markdown",
   "id": "e2b2de8a",
   "metadata": {},
   "source": [
    "66. Write a program that accepts any number and prints the number of digits in that number."
   ]
  },
  {
   "cell_type": "code",
   "execution_count": null,
   "id": "8ac4d05a",
   "metadata": {},
   "outputs": [],
   "source": [
    "# Get a list of space-separated numbers from the user\n",
    "number_list = input(\"Enter numbers separated by spaces: \")\n",
    "\n",
    "# Split the input string into individual numbers\n",
    "numbers = number_list.split()\n",
    "\n",
    "# Initialize a counter for total digits\n",
    "total_digits = 0\n",
    "\n",
    "# Iterate through each number and count its digits\n",
    "for num_str in numbers:\n",
    "    try:\n",
    "        num_digits = len(num_str)\n",
    "        total_digits += num_digits\n",
    "    except ValueError:\n",
    "        pass\n",
    "\n",
    "# Display the total number of digits\n",
    "print(f\"The total number of digits is: {total_digits}\")"
   ]
  },
  {
   "cell_type": "raw",
   "id": "f758f96b",
   "metadata": {},
   "source": [
    "In this version of the program, the user is prompted to enter numbers separated by spaces. The input is split into individual numbers using the split() method. Then, for each number, the program calculates the number of digits using len(), and the total number of digits is accumulated. The program handles invalid inputs by using a try and except block. Finally, the total number of digits is displayed."
   ]
  },
  {
   "cell_type": "markdown",
   "id": "7426b730",
   "metadata": {},
   "source": [
    "67. Write a program that prints numbers from 100 to 1 in steps of 4."
   ]
  },
  {
   "cell_type": "code",
   "execution_count": null,
   "id": "3efd9612",
   "metadata": {},
   "outputs": [],
   "source": [
    "# Print numbers from 100 to 1 in steps of 4\n",
    "for num in range(100, 0, -4):\n",
    "    print(num)"
   ]
  },
  {
   "cell_type": "raw",
   "id": "30a85c93",
   "metadata": {},
   "source": [
    "In this program, the range() function is used with three arguments: the starting point (100), the ending point (1), and the step (-4). The for loop iterates through the numbers in this range with the specified step of -4, and each number is printed. This will print the numbers from 100 to 1 in steps of 4."
   ]
  },
  {
   "cell_type": "markdown",
   "id": "3e2d9fc2",
   "metadata": {},
   "source": [
    "68. Write a program to generate the following pattern:"
   ]
  },
  {
   "cell_type": "code",
   "execution_count": null,
   "id": "1440457a",
   "metadata": {},
   "outputs": [],
   "source": [
    "#*********\n",
    "#*       *\n",
    "#*       *\n",
    "#*       *\n",
    "#*       *\n",
    "#*       *\n",
    "#*********"
   ]
  },
  {
   "cell_type": "code",
   "execution_count": null,
   "id": "c1581c45",
   "metadata": {},
   "outputs": [],
   "source": []
  },
  {
   "cell_type": "code",
   "execution_count": null,
   "id": "505e366b",
   "metadata": {},
   "outputs": [],
   "source": []
  },
  {
   "cell_type": "markdown",
   "id": "a395a183",
   "metadata": {},
   "source": [
    "69. Write a program to generate the following pattern:"
   ]
  },
  {
   "cell_type": "code",
   "execution_count": null,
   "id": "86eb5c6c",
   "metadata": {},
   "outputs": [],
   "source": [
    "#$******$\n",
    "# $     *\n",
    "#  $    *\n",
    "#    $  *\n",
    "#       *\n",
    "#       *\n",
    "#*******$"
   ]
  },
  {
   "cell_type": "code",
   "execution_count": null,
   "id": "f61ce02d",
   "metadata": {},
   "outputs": [],
   "source": []
  },
  {
   "cell_type": "code",
   "execution_count": null,
   "id": "9fbd595c",
   "metadata": {},
   "outputs": [],
   "source": []
  },
  {
   "cell_type": "markdown",
   "id": "95c607fe",
   "metadata": {},
   "source": [
    "70. Write a program to generate the following pattern:"
   ]
  },
  {
   "cell_type": "code",
   "execution_count": null,
   "id": "0c92ed8a",
   "metadata": {},
   "outputs": [],
   "source": []
  },
  {
   "cell_type": "code",
   "execution_count": null,
   "id": "d7acd697",
   "metadata": {},
   "outputs": [],
   "source": []
  },
  {
   "cell_type": "markdown",
   "id": "972f3483",
   "metadata": {},
   "source": [
    "71. Write a program that reads integers until the user wants to stop. When the user stops entering numbers, display the largest of all the numbers entered."
   ]
  },
  {
   "cell_type": "code",
   "execution_count": null,
   "id": "e068bcc1",
   "metadata": {},
   "outputs": [],
   "source": [
    "largest = float('-inf')  # Initialize largest with negative infinity\n",
    "\n",
    "while True:\n",
    "    try:\n",
    "        num = int(input(\"Enter an integer (or 'stop' to quit): \"))\n",
    "        \n",
    "        if num == 'stop':\n",
    "            break\n",
    "        \n",
    "        if num > largest:\n",
    "            largest = num\n",
    "    except ValueError:\n",
    "        print(\"Invalid input. Please enter an integer.\")\n",
    "\n",
    "if largest != float('-inf'):\n",
    "    print(f\"The largest number entered is: {largest}\")\n",
    "else:\n",
    "    print(\"No numbers were entered.\")"
   ]
  },
  {
   "cell_type": "code",
   "execution_count": null,
   "id": "bbf1a6fd",
   "metadata": {},
   "outputs": [],
   "source": []
  },
  {
   "cell_type": "markdown",
   "id": "75fcfa16",
   "metadata": {},
   "source": [
    "72. Write a program to generate the Fibonacci series."
   ]
  },
  {
   "cell_type": "code",
   "execution_count": 1,
   "id": "a38ce7fc",
   "metadata": {},
   "outputs": [
    {
     "name": "stdout",
     "output_type": "stream",
     "text": [
      "Enter the number of terms in the Fibonacci series: 5\n",
      "Fibonacci Series: [0, 1, 1, 2, 3]\n"
     ]
    }
   ],
   "source": [
    "def generate_fibonacci(n):\n",
    "    fibonacci_series = [0, 1]  # Initialize the first two numbers in the series\n",
    "    \n",
    "    while len(fibonacci_series) < n:\n",
    "        next_number = fibonacci_series[-1] + fibonacci_series[-2]\n",
    "        fibonacci_series.append(next_number)\n",
    "    \n",
    "    return fibonacci_series\n",
    "\n",
    "# Get the number of terms from the user\n",
    "n = int(input(\"Enter the number of terms in the Fibonacci series: \"))\n",
    "\n",
    "# Generate and display the Fibonacci series\n",
    "fibonacci_series = generate_fibonacci(n)\n",
    "print(\"Fibonacci Series:\", fibonacci_series)"
   ]
  },
  {
   "cell_type": "raw",
   "id": "9fd8d955",
   "metadata": {},
   "source": [
    "In this program, the generate_fibonacci() function takes the number of terms n as an argument and generates the Fibonacci series up to n terms. The first two numbers (0 and 1) are initialized, and then the loop continues to add the next number by summing up the last two numbers in the series. The user is prompted to enter the number of terms they want in the Fibonacci series, and the program generates and displays the series accordingly."
   ]
  },
  {
   "cell_type": "markdown",
   "id": "c41d38e4",
   "metadata": {},
   "source": [
    "73. Write a program to print first 20 even numbers in descending order."
   ]
  },
  {
   "cell_type": "code",
   "execution_count": 2,
   "id": "718d0bba",
   "metadata": {},
   "outputs": [
    {
     "name": "stdout",
     "output_type": "stream",
     "text": [
      "40\n",
      "38\n",
      "36\n",
      "34\n",
      "32\n",
      "30\n",
      "28\n",
      "26\n",
      "24\n",
      "22\n",
      "20\n",
      "18\n",
      "16\n",
      "14\n",
      "12\n",
      "10\n",
      "8\n",
      "6\n",
      "4\n",
      "2\n"
     ]
    }
   ],
   "source": [
    "count = 0\n",
    "num = 40  # Starting from a multiple of 20 to get even numbers\n",
    "\n",
    "while count < 20:\n",
    "    print(num)\n",
    "    num -= 2  # Decrement by 2 to get the next even number\n",
    "    count += 1"
   ]
  },
  {
   "cell_type": "raw",
   "id": "0a32850c",
   "metadata": {},
   "source": [
    "In this program, a while loop is used to print the first 20 even numbers in descending order. The variable num is initialized with 40 (a multiple of 20 to ensure even numbers) and is decremented by 2 in each iteration to get the next even number. The loop continues until 20 even numbers are printed."
   ]
  },
  {
   "cell_type": "markdown",
   "id": "5b8a67fa",
   "metadata": {},
   "source": [
    "74. Write a program to print the sum of the following series:\n",
    "    \n",
    "a. -x + x^2 - x^3 + x^4 + .....\n",
    "\n",
    "b. 1 - x + x^2/2! - x^3/3! + ...."
   ]
  },
  {
   "cell_type": "code",
   "execution_count": 5,
   "id": "4c05da29",
   "metadata": {},
   "outputs": [
    {
     "name": "stdout",
     "output_type": "stream",
     "text": [
      "Enter the value of x: 2\n",
      "Enter the number of terms: 10\n",
      "The sum of the series is: 682.0\n"
     ]
    }
   ],
   "source": [
    "#a. Sum of the series: -x + x^2 - x^3 + x^4 + ...\n",
    "x = float(input(\"Enter the value of x: \"))\n",
    "n = int(input(\"Enter the number of terms: \"))\n",
    "\n",
    "sum_a = 0\n",
    "sign = -1\n",
    "\n",
    "for i in range(1, n + 1):\n",
    "    term = sign * (x ** i)\n",
    "    sum_a += term\n",
    "    sign *= -1  # Alternate the sign for each term\n",
    "\n",
    "print(f\"The sum of the series is: {sum_a}\")"
   ]
  },
  {
   "cell_type": "code",
   "execution_count": 6,
   "id": "ce8c51e1",
   "metadata": {},
   "outputs": [
    {
     "name": "stdout",
     "output_type": "stream",
     "text": [
      "Enter the value of x: 2\n",
      "Enter the number of terms: 10\n",
      "The sum of the series is: 0.1350970017636685\n"
     ]
    }
   ],
   "source": [
    "#b. Sum of the series: 1 - x + x^2/2! - x^3/3! + ...\n",
    "import math\n",
    "\n",
    "x = float(input(\"Enter the value of x: \"))\n",
    "n = int(input(\"Enter the number of terms: \"))\n",
    "\n",
    "sum_b = 0\n",
    "sign = 1\n",
    "\n",
    "for i in range(n):\n",
    "    term = (sign * (x ** i)) / math.factorial(i)\n",
    "    sum_b += term\n",
    "    sign *= -1  # Alternate the sign for each term\n",
    "\n",
    "print(f\"The sum of the series is: {sum_b}\")"
   ]
  },
  {
   "cell_type": "raw",
   "id": "b6b88f43",
   "metadata": {},
   "source": [
    "In both programs, the user is prompted to enter the value of x and the number of terms n. The series terms are calculated based on the given formulas, and the sum of the series is accumulated using a loop. The sign of each term alternates for the first program (series a) and changes for each term in the second program (series b). The calculated sum of the series is then displayed."
   ]
  },
  {
   "cell_type": "code",
   "execution_count": null,
   "id": "61b531f7",
   "metadata": {},
   "outputs": [],
   "source": []
  }
 ],
 "metadata": {
  "kernelspec": {
   "display_name": "Python 3 (ipykernel)",
   "language": "python",
   "name": "python3"
  },
  "language_info": {
   "codemirror_mode": {
    "name": "ipython",
    "version": 3
   },
   "file_extension": ".py",
   "mimetype": "text/x-python",
   "name": "python",
   "nbconvert_exporter": "python",
   "pygments_lexer": "ipython3",
   "version": "3.11.4"
  }
 },
 "nbformat": 4,
 "nbformat_minor": 5
}
