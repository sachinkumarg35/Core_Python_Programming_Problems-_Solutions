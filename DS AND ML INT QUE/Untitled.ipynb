{
 "cells": [
  {
   "cell_type": "markdown",
   "metadata": {},
   "source": [
    "### Python Programming Questions"
   ]
  },
  {
   "cell_type": "code",
   "execution_count": 3,
   "metadata": {},
   "outputs": [
    {
     "data": {
      "text/plain": [
       "int"
      ]
     },
     "execution_count": 3,
     "metadata": {},
     "output_type": "execute_result"
    }
   ],
   "source": [
    "#How to get data type of a particular variable? \n",
    "\"This function is used in the data type of enclosed variable For Example: \"\n",
    "a = 10\n",
    "type(a)"
   ]
  },
  {
   "cell_type": "code",
   "execution_count": 4,
   "metadata": {},
   "outputs": [
    {
     "name": "stdout",
     "output_type": "stream",
     "text": [
      "The Zen of Python, by Tim Peters\n",
      "\n",
      "Beautiful is better than ugly.\n",
      "Explicit is better than implicit.\n",
      "Simple is better than complex.\n",
      "Complex is better than complicated.\n",
      "Flat is better than nested.\n",
      "Sparse is better than dense.\n",
      "Readability counts.\n",
      "Special cases aren't special enough to break the rules.\n",
      "Although practicality beats purity.\n",
      "Errors should never pass silently.\n",
      "Unless explicitly silenced.\n",
      "In the face of ambiguity, refuse the temptation to guess.\n",
      "There should be one-- and preferably only one --obvious way to do it.\n",
      "Although that way may not be obvious at first unless you're Dutch.\n",
      "Now is better than never.\n",
      "Although never is often better than *right* now.\n",
      "If the implementation is hard to explain, it's a bad idea.\n",
      "If the implementation is easy to explain, it may be a good idea.\n",
      "Namespaces are one honking great idea -- let's do more of those!\n",
      "<module 'this' from 'C:\\\\Users\\\\HP\\\\anaconda3\\\\lib\\\\this.py'>\n"
     ]
    }
   ],
   "source": [
    "#How to print zen in python?\n",
    "\"We can print zen of python using: \"\n",
    "import this\n",
    "print(this)"
   ]
  },
  {
   "cell_type": "code",
   "execution_count": 7,
   "metadata": {},
   "outputs": [
    {
     "name": "stdout",
     "output_type": "stream",
     "text": [
      "5 becomes to this type <class 'int'>\n",
      "2.0 belongs to this type <class 'float'>\n",
      "(1+2j) has type <class 'complex'>\n",
      "Hello World has type <class 'str'>\n",
      "True has type <class 'bool'>\n",
      "Is complex number?.\n"
     ]
    },
    {
     "data": {
      "text/plain": [
       "True"
      ]
     },
     "execution_count": 7,
     "metadata": {},
     "output_type": "execute_result"
    }
   ],
   "source": [
    "#Explain python data types? \n",
    "\"\"\"Integers :- Represents numbers without decimals\n",
    "Floating point :- Represents numbers with decimals\n",
    "Complex numbers represents numbers having real and imaginary part.\n",
    "String collection characters.\n",
    "Boolean represents the value as True or False.\n",
    "For Example.\"\"\"\n",
    "a = 5\n",
    "print(a, \"becomes to this type\", type(a))\n",
    "\n",
    "a = 2.0\n",
    "print(a, \"belongs to this type\", type(a))\n",
    "\n",
    "a = 1+2j\n",
    "print(a, \"has type\", type(a))\n",
    "\n",
    "a = \"Hello World\"\n",
    "print(a, \"has type\", type(a))\n",
    "\n",
    "a = True\n",
    "print(a, \"has type\", type(a))\n",
    "\n",
    "a= 1+2j\n",
    "print(\"Is complex number?.\")\n",
    "isinstance(a, complex)"
   ]
  },
  {
   "cell_type": "code",
   "execution_count": 8,
   "metadata": {},
   "outputs": [
    {
     "name": "stdout",
     "output_type": "stream",
     "text": [
      "Hello World\n",
      "World Hello\n"
     ]
    }
   ],
   "source": [
    "#How we can switch variables in Python?\n",
    "a = 'Hello'\n",
    "b = 'World'\n",
    "print(a, b)\n",
    "a, b = b, a \n",
    "print(a, b)"
   ]
  },
  {
   "cell_type": "code",
   "execution_count": 9,
   "metadata": {},
   "outputs": [
    {
     "name": "stdout",
     "output_type": "stream",
     "text": [
      "Chained comparision. \n"
     ]
    },
    {
     "data": {
      "text/plain": [
       "'In the above example, 16 is compared with 8 which is further compared with 2.'"
      ]
     },
     "execution_count": 9,
     "metadata": {},
     "output_type": "execute_result"
    }
   ],
   "source": [
    "#Does python supports chained operations?\n",
    "\"Yes, chained operations are supported by Python.\"\n",
    "no = 8\n",
    "if 16 > no > 2:\n",
    "    print(\"Chained comparision. \")\n",
    "\"In the above example, 16 is compared with 8 which is further compared with 2.\""
   ]
  },
  {
   "cell_type": "code",
   "execution_count": 11,
   "metadata": {},
   "outputs": [
    {
     "name": "stdout",
     "output_type": "stream",
     "text": [
      "False\n",
      "True\n",
      "True\n",
      "False\n"
     ]
    }
   ],
   "source": [
    "#Explain ALL and ANY?\n",
    "\"\"\"ALL returns TRUE, only when all the conditions are TRUE.\n",
    "ANY return TRUE even when one condition is TRUE.\"\"\"\n",
    "lst = range(20)\n",
    "print(all(value > 18 for value in lst)) #return false since range starts with 0\n",
    "lst = range(21, 100)\n",
    "print(all(value > 18 for value in lst)) #returns true because range starts with 21.\n",
    "print(any(value > 18 for value in lst)) #returns true since 22 is greater than 18 and is true.\n",
    "print(any(value < 18 for value in lst)) #which return false since not a single value exists which satisfies a given condition."
   ]
  },
  {
   "cell_type": "code",
   "execution_count": 12,
   "metadata": {},
   "outputs": [
    {
     "name": "stdout",
     "output_type": "stream",
     "text": [
      "False\n",
      "True\n",
      "True\n"
     ]
    }
   ],
   "source": [
    "#Explain the difference between IS and == ?\n",
    "\"\"\"IS: True only if 2 variables point to same object.\n",
    "==: True if objects which are referred by objects are equal.\"\"\"\n",
    "\n",
    "x = (1, 2, 3)\n",
    "\n",
    "y = (1, 2, 3)\n",
    "\n",
    "print(x is y)\n",
    "\n",
    "print(x == y)\n",
    "\n",
    "z = y\n",
    "\n",
    "print(z is y)"
   ]
  },
  {
   "cell_type": "code",
   "execution_count": 15,
   "metadata": {},
   "outputs": [
    {
     "name": "stdout",
     "output_type": "stream",
     "text": [
      "Nested list ['hello', [100, 101], ['aAA', ['pAA', 'rAA']]]\n",
      "hello\n",
      "rAA\n"
     ]
    }
   ],
   "source": [
    "#Can you create nested list?\n",
    "\"\"\"Following is a nested list of three elements having list again at index1 and nested list at location 2:\"\"\"\n",
    "nestedLst = [\"hello\", [100, 101], ['aAA', ['pAA', 'rAA']]]\n",
    "print('Nested list', nestedLst)\n",
    "print(nestedLst[0]) #prints hello\n",
    "print(nestedLst[2][1][1]) #prints rAA"
   ]
  },
  {
   "cell_type": "code",
   "execution_count": 16,
   "metadata": {},
   "outputs": [
    {
     "name": "stdout",
     "output_type": "stream",
     "text": [
      "[1, 2, 3, 4, 5, 65]\n",
      "[1, 2, 4]\n",
      "[1, 2, 4]\n",
      "[]\n",
      "4\n"
     ]
    }
   ],
   "source": [
    "#Explain CRUD (Create, Update, and Delete) operations from list.\n",
    "\"Creation:\"\n",
    "lst = [11, 22, 33, 44]\n",
    "\"Above statement creates a list with the same name lst.\"\n",
    "\n",
    "\"Empty list creation:\"\n",
    "lst = []\n",
    "\n",
    "\"The above statement creates an empty list.\"\n",
    "\"Adding single element in list:\"\n",
    "lst.append(55)\n",
    "\n",
    "\"Adding elements of another list:\"\n",
    "lst.extend([44, 44, 33])\n",
    "\n",
    "\"Concatenate list:\"\n",
    "\"\"\"Concatenate is to join two list.\n",
    "Following code adds two list and creates a new list containing elements from both list.\"\"\"\n",
    "a = [1, 2, 3, 4]\n",
    "b = [5, 65]\n",
    "c = a + b\n",
    "print(c) #outputs 1, 2, 3, 4, 5, 65\n",
    "\n",
    "#Remove element using value:\n",
    "a = [1, 2, 3, 4]\n",
    "a.remove(3)\n",
    "print(a) #[1, 2, 4]\n",
    "\"In above code, element with value 3 is removed.\"\n",
    "\n",
    "#Delete elements by using index:\n",
    "a = [1, 2, 3, 4]\n",
    "del a[2] #removes element at index 2\n",
    "print(a) #[1, 2, 4]\n",
    "\n",
    "\"Clear or Empty a list:\"\n",
    "a = [1,2,3,4]\n",
    "a.clear()\n",
    "print(a) #prints []\n",
    "\n",
    "\"Length of list: \"\n",
    "\"To print size of list len, function is used.\"\n",
    "a = [1, 2, 3, 4]\n",
    "print(len(a)) #prints 4"
   ]
  },
  {
   "cell_type": "code",
   "execution_count": 18,
   "metadata": {},
   "outputs": [
    {
     "name": "stdout",
     "output_type": "stream",
     "text": [
      "{1: 'one', 2: 'two', 5: 'five'}\n",
      "{1: 'one', 2: 'two', 5: 'five'}\n",
      "{}\n"
     ]
    },
    {
     "data": {
      "text/plain": [
       "0"
      ]
     },
     "execution_count": 18,
     "metadata": {},
     "output_type": "execute_result"
    }
   ],
   "source": [
    "#Explain operations in dictionary\n",
    "\"Creation\" \n",
    "sdict = {1:'one', 2:'two'}\n",
    "\n",
    "\"\"\"The above statements creates a dictionary of two items having keys 1 and 2 \n",
    "and corresponding values as one and two respectively.\"\"\"\n",
    "\"Creation of empty\"\n",
    "sdict = {}\n",
    "#Add key value pair\n",
    "sdict = {}\n",
    "sdict[3] = 'three'\n",
    "\"\"\"The above statement adds an item in the dictionary with the key as 3 and value as three.\"\"\"\n",
    "\"Add or Update elements from another dictionary\"\n",
    "#Addition of new elements from another dictionary.\n",
    "dict1 = {1:'one', 2:'two'}\n",
    "dict2 = {5:'five'}\n",
    "dict1.update(dict2)\n",
    "print(dict1) #prints 1:one, 2:two, 5:five\n",
    "\n",
    "\"Updating of existing element from another dictionary.\"\n",
    "dict1 = {1:'one', 2:'two', 5:'five'}\n",
    "dict2 = {5:'five'}\n",
    "dict1.update(dict2)\n",
    "print(dict1) #1:one 2:two 5:five\n",
    "\n",
    "\"In the above example the value of key 5 is replaced from FIVE to five.\"\n",
    "#Thus update is taken from dict2.\n",
    "\"Clear or Empty dictionary\"\n",
    "dict1 = {1:'one', 2:'two', 5:'five'}\n",
    "dict1.clear()\n",
    "print(dict1) #prints {}\n",
    "#Length of dictionary\n",
    "len(dict1) #get length of dictionary"
   ]
  },
  {
   "cell_type": "code",
   "execution_count": 19,
   "metadata": {},
   "outputs": [
    {
     "data": {
      "text/plain": [
       "4"
      ]
     },
     "execution_count": 19,
     "metadata": {},
     "output_type": "execute_result"
    }
   ],
   "source": [
    "#Explain Operation with tuples\n",
    "\"Creation\"\n",
    "tup = (3, 4)\n",
    "\"Creation of empty tuple:\"\n",
    "tup = ()\n",
    "\"\"\"Creation of tuple with single element\n",
    "This is a bit of challenge because since (1) is taken as number as compared to tuple.\n",
    "So, to create tuple with one element we make use of the following:\"\"\"\n",
    "tup = (1,)\n",
    "\"\"\"Adding new elements or removing elements from tuples are not possible since tuples are immutable.\"\"\"\n",
    "\"Length of tuples: \"\n",
    "len(a)"
   ]
  },
  {
   "cell_type": "code",
   "execution_count": 20,
   "metadata": {},
   "outputs": [
    {
     "name": "stdout",
     "output_type": "stream",
     "text": [
      "(1, 2, 3)\n"
     ]
    },
    {
     "ename": "NameError",
     "evalue": "name 'a' is not defined",
     "output_type": "error",
     "traceback": [
      "\u001b[1;31m---------------------------------------------------------------------------\u001b[0m",
      "\u001b[1;31mNameError\u001b[0m                                 Traceback (most recent call last)",
      "\u001b[1;32m<ipython-input-20-e06cc650c346>\u001b[0m in \u001b[0;36m<module>\u001b[1;34m\u001b[0m\n\u001b[0;32m      4\u001b[0m \u001b[0mprint\u001b[0m\u001b[1;33m(\u001b[0m\u001b[0ma\u001b[0m\u001b[1;33m)\u001b[0m \u001b[1;31m#prints 1 2 3\u001b[0m\u001b[1;33m\u001b[0m\u001b[1;33m\u001b[0m\u001b[0m\n\u001b[0;32m      5\u001b[0m \u001b[1;32mdel\u001b[0m \u001b[0ma\u001b[0m\u001b[1;33m\u001b[0m\u001b[1;33m\u001b[0m\u001b[0m\n\u001b[1;32m----> 6\u001b[1;33m \u001b[0mprint\u001b[0m\u001b[1;33m(\u001b[0m\u001b[0ma\u001b[0m\u001b[1;33m)\u001b[0m \u001b[1;31m#gives a not defined error\u001b[0m\u001b[1;33m\u001b[0m\u001b[1;33m\u001b[0m\u001b[0m\n\u001b[0m",
      "\u001b[1;31mNameError\u001b[0m: name 'a' is not defined"
     ]
    }
   ],
   "source": [
    "#Explain del?\n",
    "\"The del is used to remove variables from memory.\"\n",
    "a = (1, 2, 3)\n",
    "print(a) #prints 1 2 3\n",
    "del a\n",
    "print(a) #gives a not defined error"
   ]
  },
  {
   "cell_type": "code",
   "execution_count": 21,
   "metadata": {},
   "outputs": [
    {
     "name": "stdout",
     "output_type": "stream",
     "text": [
      "[1, 2, 3]\n"
     ]
    }
   ],
   "source": [
    "#Delete last element in a list\n",
    "lst = [1, 2, 3, 4]\n",
    "del lst[-1]\n",
    "print(lst) #[1, 2, 3]"
   ]
  },
  {
   "cell_type": "code",
   "execution_count": 22,
   "metadata": {},
   "outputs": [
    {
     "name": "stdout",
     "output_type": "stream",
     "text": [
      "0 a\n",
      "1 b\n",
      "2 c\n"
     ]
    }
   ],
   "source": [
    "#Explain the preferred way for looping through list?\n",
    "\"\"\"The preferred way of looping through list is with the help of enumerate function.\n",
    "Enumerate function returns index and corresponding value.\"\"\"\n",
    "mylist = ['a', 'b', 'c']\n",
    "for index, item in enumerate(mylist):\n",
    "    print(index, item)"
   ]
  },
  {
   "cell_type": "code",
   "execution_count": 23,
   "metadata": {},
   "outputs": [
    {
     "name": "stdout",
     "output_type": "stream",
     "text": [
      "{'UK': 1, 'USA': 2}\n"
     ]
    }
   ],
   "source": [
    "#Find the reverse of the dictionary?\n",
    "\"\"\"Reverse of dictionary means key becomes value and value becomes the key.\n",
    "It is easily achivable in Python.\"\"\"\n",
    "countryDict = {1:'UK', 2:'USA'}\n",
    "reveresed_dict = {value: key for key, value in countryDict.items()}\n",
    "print(reveresed_dict)"
   ]
  },
  {
   "cell_type": "code",
   "execution_count": 24,
   "metadata": {},
   "outputs": [
    {
     "name": "stdout",
     "output_type": "stream",
     "text": [
      "[('UK', 1), ('USA', 2), ('IN', 3), ('CN', 4), ('FR', 5), ('GM', 6)]\n"
     ]
    }
   ],
   "source": [
    "#How to sort dictionary by value?\n",
    "import operator as o\n",
    "countryDict = {'CN':4, 'FR':5, 'UK':1, 'USA':2, 'IN':3, 'GM':6}\n",
    "print(sorted(countryDict.items(), key=o.itemgetter(1)))"
   ]
  },
  {
   "cell_type": "code",
   "execution_count": 25,
   "metadata": {},
   "outputs": [
    {
     "name": "stdout",
     "output_type": "stream",
     "text": [
      "Country not found\n",
      "1\n"
     ]
    }
   ],
   "source": [
    "#What is the preferred way to get a value based on key in Python?\n",
    "\"\"\"The preferred way to get a value based on key is to use get method with default value.\n",
    "The default value will be used whenever key is absent in the dictionary.\"\"\"\n",
    "countryDict = {'UK':1, 'USA':2}\n",
    "print(countryDict.get('NZ', 'Country not found'))\n",
    "print(countryDict.get('UK', 'Country not found'))"
   ]
  },
  {
   "cell_type": "code",
   "execution_count": 27,
   "metadata": {},
   "outputs": [
    {
     "name": "stdout",
     "output_type": "stream",
     "text": [
      "{'UK': 1, 'USA': 2, 'IN': 3, 'CN': 4, 'FR': 5, 'GM': 6}\n"
     ]
    }
   ],
   "source": [
    "#Explain alternate way of merging 2 or more dictionaries without using update method?\n",
    "countryDict1 = {'UK':1, 'USA':2}\n",
    "countryDict2 = {'IN':3, 'CN':4}\n",
    "countryDict3 = {'FR':5, 'GM':6}\n",
    "countryDict = {**countryDict1, **countryDict2, **countryDict3}\n",
    "print(countryDict)"
   ]
  },
  {
   "cell_type": "code",
   "execution_count": 29,
   "metadata": {},
   "outputs": [
    {
     "name": "stdout",
     "output_type": "stream",
     "text": [
      "5\n",
      "4\n"
     ]
    }
   ],
   "source": [
    "#What is the preferred way of fetching last element/second last and so on from a list?\n",
    "\"Python supports negative indexes on list.\"\n",
    "#1. -1 refers to last element\n",
    "#2. -2 refers to second last element\n",
    "l = [1, 2, 3, 4, 5]\n",
    "print(l[-1]) #prints 5\n",
    "print(l[-2]) #prints 4"
   ]
  },
  {
   "cell_type": "code",
   "execution_count": 31,
   "metadata": {},
   "outputs": [
    {
     "name": "stdout",
     "output_type": "stream",
     "text": [
      "5\n",
      "4\n",
      "3\n",
      "2\n",
      "1\n"
     ]
    }
   ],
   "source": [
    "#What is the preferred way for reversing a list?\n",
    "\"The prefered way for returning a list is with help of reversed function.\"\n",
    "i = {1, 2, 3, 4, 5}\n",
    "for i in reversed(l):\n",
    "    print(i)"
   ]
  },
  {
   "cell_type": "code",
   "execution_count": 36,
   "metadata": {},
   "outputs": [
    {
     "name": "stdout",
     "output_type": "stream",
     "text": [
      "isdisjoint True\n",
      "Is SetB subset of setD  True\n",
      "Is setD superset of setD  True\n",
      "common elements are  {44, 22}\n",
      "common elements are  {44, 22}\n",
      "Elements in A but not in B  {33, 11, 5}\n",
      "Elements in B but not in A  {1}\n",
      "Elements in A but not in B  {33, 11, 5}\n",
      "Elements in B but not in A  {1}\n"
     ]
    }
   ],
   "source": [
    "#Explain set theory operations supported by set data type.\n",
    "\"Sample code for operations\"\n",
    "setA = {11, 22, 33, 44, 5}\n",
    "setB = {44, 22, 1}\n",
    "setC = {55}\n",
    "setD = {44, 22, 1, 447}\n",
    "print('isdisjoint',setA.isdisjoint(setC))\n",
    "print('Is SetB subset of setD ', setB.issubset(setD))\n",
    "print('Is setD superset of setD ', setD.issuperset(setB))\n",
    "print('common elements are ', setA & setB)\n",
    "print('common elements are ', setA.intersection(setB))\n",
    "print('Elements in A but not in B ', setA-setB)\n",
    "print('Elements in B but not in A ', setB-setA)\n",
    "print('Elements in A but not in B ', setA.difference(setB))\n",
    "print('Elements in B but not in A ', setB.difference(setA))"
   ]
  },
  {
   "cell_type": "code",
   "execution_count": 3,
   "metadata": {},
   "outputs": [],
   "source": [
    "#Explain functions in Python? \n",
    "\"\"\"A function is a group of statements intended to do particular task. In python we can define functions with the help of def.\"\"\"\n",
    "def fun():\n",
    "    print('hello')\n",
    "\"\"\"Above creates a function fun which prints hello message.\"\"\"\n",
    "def fun1(ip):\n",
    "    print('hello', ip)\n",
    "\"Above creates a function with the name fun1 which takes parameter ip and prints corresponding hello message with parameters.\"\n",
    "def area(r):\n",
    "    return 3.14 * r * r\n",
    "#\"Above creates a function which returns result with the help of return type.\""
   ]
  },
  {
   "cell_type": "code",
   "execution_count": 5,
   "metadata": {},
   "outputs": [
    {
     "name": "stdout",
     "output_type": "stream",
     "text": [
      "True\n"
     ]
    }
   ],
   "source": [
    "#What is a Boolean function?\n",
    "def isdivisible(num, den):\n",
    "    if num % den == 0:\n",
    "        return True\n",
    "    else:\n",
    "        return False\n",
    "print(isdivisible(10, 2))"
   ]
  },
  {
   "cell_type": "code",
   "execution_count": 6,
   "metadata": {},
   "outputs": [
    {
     "name": "stdout",
     "output_type": "stream",
     "text": [
      "89.10000000000001\n"
     ]
    }
   ],
   "source": [
    "#Can we specify data type for arguments as well as return types in Python?\n",
    "def mul(x: float, y: int) -> float:\n",
    "    return x * y\n",
    "print(mul(9, 9.9)) #prints 89.10000"
   ]
  },
  {
   "cell_type": "code",
   "execution_count": 7,
   "metadata": {},
   "outputs": [
    {
     "name": "stdout",
     "output_type": "stream",
     "text": [
      "()\n",
      "(1,)\n",
      "(1, 2)\n"
     ]
    }
   ],
   "source": [
    "#Explain variable arguments?\n",
    "def fun(*args):\n",
    "    print(args)\n",
    "fun()\n",
    "fun(1)\n",
    "fun(1, 2)"
   ]
  },
  {
   "cell_type": "code",
   "execution_count": 9,
   "metadata": {},
   "outputs": [
    {
     "name": "stdout",
     "output_type": "stream",
     "text": [
      "Counter({'a': 3, 'h': 2, 'n': 2, 'V': 1, 'i': 1, 's': 1, 'w': 1, 't': 1})\n"
     ]
    }
   ],
   "source": [
    "#Write a program to find occurences or count of characters in given word.\n",
    "import collections as c\n",
    "counter = c.Counter('Vishwanathan')\n",
    "print(counter)"
   ]
  },
  {
   "cell_type": "code",
   "execution_count": 10,
   "metadata": {},
   "outputs": [
    {
     "name": "stdout",
     "output_type": "stream",
     "text": [
      "{}\n",
      "{'a': 1}\n",
      "{'a': 1, 'b': 2}\n"
     ]
    }
   ],
   "source": [
    "#What is **kwargs?\n",
    "def fun(**kwargs):\n",
    "    print(kwargs)\n",
    "fun()\n",
    "fun(a=1)\n",
    "fun(a=1, b=2)"
   ]
  },
  {
   "cell_type": "code",
   "execution_count": 11,
   "metadata": {},
   "outputs": [
    {
     "name": "stdout",
     "output_type": "stream",
     "text": [
      "5\n"
     ]
    }
   ],
   "source": [
    "#Write a simple lambda expression?\n",
    "sumlambda = lambda x, y: x + y\n",
    "print(sumlambda(2, 3))"
   ]
  },
  {
   "cell_type": "code",
   "execution_count": 13,
   "metadata": {},
   "outputs": [
    {
     "name": "stdout",
     "output_type": "stream",
     "text": [
      "2\n",
      "4\n",
      "6\n"
     ]
    }
   ],
   "source": [
    "#Explain filter function?\n",
    "a = [1, 2, 3, 4, 5, 6]\n",
    "for i in filter(lambda x : x % 2 == 0, a):\n",
    "    print(i)"
   ]
  },
  {
   "cell_type": "code",
   "execution_count": 14,
   "metadata": {},
   "outputs": [
    {
     "name": "stdout",
     "output_type": "stream",
     "text": [
      "3.141592653589793\n",
      "3.141592653589793\n"
     ]
    }
   ],
   "source": [
    "#Explain different ways of importing modules?\n",
    "from math import pi\n",
    "print(pi)\n",
    "import math\n",
    "print(math.pi)"
   ]
  },
  {
   "cell_type": "code",
   "execution_count": 16,
   "metadata": {},
   "outputs": [
    {
     "name": "stdout",
     "output_type": "stream",
     "text": [
      "199\n",
      "-1\n",
      "['__builtins__', '__cached__', '__doc__', '__file__', '__loader__', '__name__', '__package__', '__spec__', 'sub', 'sum']\n"
     ]
    }
   ],
   "source": [
    "#usage.py\n",
    "import mathop\n",
    "print(mathop.sum(99, 100))\n",
    "print(mathop.sub(99, 100))\n",
    "print(dir(mathop))"
   ]
  },
  {
   "cell_type": "code",
   "execution_count": 19,
   "metadata": {},
   "outputs": [
    {
     "name": "stdout",
     "output_type": "stream",
     "text": [
      "Equal\n"
     ]
    }
   ],
   "source": [
    "#User defined exception?\n",
    "class NotEqualError(Exception):\n",
    "    pass\n",
    "n1 = 10\n",
    "n2 = 10\n",
    "try:\n",
    "    if n1 != n2:\n",
    "        raise NotEqualError\n",
    "    else:\n",
    "        print('Equal')\n",
    "except NotEqualError as e:\n",
    "    print('NotEqualError', e)"
   ]
  },
  {
   "cell_type": "code",
   "execution_count": 20,
   "metadata": {},
   "outputs": [
    {
     "name": "stdout",
     "output_type": "stream",
     "text": [
      "3 4\n"
     ]
    }
   ],
   "source": [
    "#How to create our own class in Python? Explain constructors.\n",
    "class Complex:\n",
    "    def __init__(self, real, imag):\n",
    "        self.real = real\n",
    "        self.imag = imag\n",
    "    def display(self):\n",
    "        print(self.real, self.imag)\n",
    "        \n",
    "c = Complex(3, 4)\n",
    "c.display()"
   ]
  },
  {
   "cell_type": "code",
   "execution_count": 21,
   "metadata": {},
   "outputs": [
    {
     "name": "stdout",
     "output_type": "stream",
     "text": [
      "raj 33\n"
     ]
    }
   ],
   "source": [
    "#Explain inheritance in Python?\n",
    "class A:\n",
    "    def __init__(self, name):\n",
    "        self.name = name\n",
    "    def display(self):\n",
    "        print(self.name)\n",
    "\n",
    "class B(A):\n",
    "    def __init__(self, name, age):\n",
    "        super().__init__(name)\n",
    "        self.age = age\n",
    "    def display(self):\n",
    "        print(self.name, self.age)\n",
    "bb = B('raj', 33)\n",
    "bb.display()"
   ]
  },
  {
   "cell_type": "code",
   "execution_count": 23,
   "metadata": {},
   "outputs": [
    {
     "name": "stdout",
     "output_type": "stream",
     "text": [
      "Hello from parent1\n"
     ]
    }
   ],
   "source": [
    "#How is diamond problem resolved in case of Python?\n",
    "class Parent1:\n",
    "    def hello(self):\n",
    "        print(\"Hello from parent1\")\n",
    "class Parent2:\n",
    "    def hello(self):\n",
    "        print('Hello from parent2')\n",
    "class Child(Parent1, Parent2):\n",
    "    pass\n",
    "c = Child()\n",
    "c.hello()"
   ]
  },
  {
   "cell_type": "code",
   "execution_count": 26,
   "metadata": {},
   "outputs": [],
   "source": [
    "#Does Python support abstract classes?\n",
    "import abc\n",
    "class SampleAbstract(abc.ABC):\n",
    "    def __init__(self, someValue):\n",
    "        self.value = someValue\n",
    "        super().__init__()\n",
    "@abc.abstractmethod\n",
    "def abstractM1(self):\n",
    "    pass"
   ]
  },
  {
   "cell_type": "code",
   "execution_count": 27,
   "metadata": {},
   "outputs": [
    {
     "name": "stdout",
     "output_type": "stream",
     "text": [
      "Point(x=1, y=2)\n",
      "Point(x=1, y=72)\n"
     ]
    }
   ],
   "source": [
    "#What are named tuple?\n",
    "from collections import namedtuple\n",
    "Point = namedtuple('Point', ['x', 'y'])\n",
    "p1 = Point(1, 2)\n",
    "p2 = Point(1, 72)\n",
    "print(p1)\n",
    "print(p2)"
   ]
  },
  {
   "cell_type": "code",
   "execution_count": 30,
   "metadata": {},
   "outputs": [
    {
     "name": "stdout",
     "output_type": "stream",
     "text": [
      "[Emp(name='Raj', age=28), Emp(name='Vishwa', age=30), Emp(name='Joe', age=42)]\n",
      "[Emp(name='Joe', age=42), Emp(name='Vishwa', age=30), Emp(name='Raj', age=28)]\n"
     ]
    }
   ],
   "source": [
    "#How to sort using lambdas?\n",
    "from collections import namedtuple\n",
    "Emp = namedtuple('Emp', ['name', 'age'])\n",
    "employees = (Emp('Vishwa', 30), Emp('Raj', 28), Emp('Joe', 42))\n",
    "print(sorted(employees, key = lambda p:p.age))\n",
    "print(sorted(employees, key = lambda p: p.age, reverse = True))"
   ]
  },
  {
   "cell_type": "code",
   "execution_count": 31,
   "metadata": {},
   "outputs": [
    {
     "name": "stdout",
     "output_type": "stream",
     "text": [
      "Vishwa\n",
      "Vishwa\n",
      "Vishwa\n"
     ]
    }
   ],
   "source": [
    "#Explain Generators?\n",
    "def fixed_generator(value, max_repeats):\n",
    "    for i in range(max_repeats):\n",
    "        yield value\n",
    "        \n",
    "iterator = fixed_generator('Vishwa', 3)\n",
    "print(next(iterator))\n",
    "print(next(iterator))\n",
    "print(next(iterator))"
   ]
  },
  {
   "cell_type": "code",
   "execution_count": 32,
   "metadata": {},
   "outputs": [
    {
     "name": "stdout",
     "output_type": "stream",
     "text": [
      "Hello0\n",
      "Hello1\n",
      "Hello2\n"
     ]
    },
    {
     "ename": "StopIteration",
     "evalue": "",
     "output_type": "error",
     "traceback": [
      "\u001b[1;31m---------------------------------------------------------------------------\u001b[0m",
      "\u001b[1;31mStopIteration\u001b[0m                             Traceback (most recent call last)",
      "\u001b[1;32m<ipython-input-32-7474d79369be>\u001b[0m in \u001b[0;36m<module>\u001b[1;34m\u001b[0m\n\u001b[0;32m      4\u001b[0m \u001b[0mprint\u001b[0m\u001b[1;33m(\u001b[0m\u001b[0mnext\u001b[0m\u001b[1;33m(\u001b[0m\u001b[0mgenexpr\u001b[0m\u001b[1;33m)\u001b[0m\u001b[1;33m)\u001b[0m\u001b[1;33m\u001b[0m\u001b[1;33m\u001b[0m\u001b[0m\n\u001b[0;32m      5\u001b[0m \u001b[0mprint\u001b[0m\u001b[1;33m(\u001b[0m\u001b[0mnext\u001b[0m\u001b[1;33m(\u001b[0m\u001b[0mgenexpr\u001b[0m\u001b[1;33m)\u001b[0m\u001b[1;33m)\u001b[0m\u001b[1;33m\u001b[0m\u001b[1;33m\u001b[0m\u001b[0m\n\u001b[1;32m----> 6\u001b[1;33m \u001b[0mprint\u001b[0m\u001b[1;33m(\u001b[0m\u001b[0mnext\u001b[0m\u001b[1;33m(\u001b[0m\u001b[0mgenexpr\u001b[0m\u001b[1;33m)\u001b[0m\u001b[1;33m)\u001b[0m\u001b[1;33m\u001b[0m\u001b[1;33m\u001b[0m\u001b[0m\n\u001b[0m",
      "\u001b[1;31mStopIteration\u001b[0m: "
     ]
    }
   ],
   "source": [
    "#What is generator expression?\n",
    "genexpr = ('Hello'+str(i) for i in range(3))\n",
    "print(next(genexpr))\n",
    "print(next(genexpr))\n",
    "print(next(genexpr))\n",
    "print(next(genexpr))"
   ]
  },
  {
   "cell_type": "code",
   "execution_count": 33,
   "metadata": {},
   "outputs": [
    {
     "ename": "TypeError",
     "evalue": "'list' object is not callable",
     "output_type": "error",
     "traceback": [
      "\u001b[1;31m---------------------------------------------------------------------------\u001b[0m",
      "\u001b[1;31mTypeError\u001b[0m                                 Traceback (most recent call last)",
      "\u001b[1;32m<ipython-input-33-14225ad84a67>\u001b[0m in \u001b[0;36m<module>\u001b[1;34m\u001b[0m\n\u001b[0;32m      3\u001b[0m     \u001b[0mprint\u001b[0m\u001b[1;33m(\u001b[0m\u001b[1;34m\"Hello from say_hello\"\u001b[0m\u001b[1;33m)\u001b[0m\u001b[1;33m\u001b[0m\u001b[1;33m\u001b[0m\u001b[0m\n\u001b[0;32m      4\u001b[0m     \u001b[0mprint\u001b[0m\u001b[1;33m(\u001b[0m\u001b[1;34m\"Start calling function passed\"\u001b[0m\u001b[1;33m)\u001b[0m\u001b[1;33m\u001b[0m\u001b[1;33m\u001b[0m\u001b[0m\n\u001b[1;32m----> 5\u001b[1;33m \u001b[0ma\u001b[0m\u001b[1;33m(\u001b[0m\u001b[1;33m)\u001b[0m\u001b[1;33m\u001b[0m\u001b[1;33m\u001b[0m\u001b[0m\n\u001b[0m\u001b[0;32m      6\u001b[0m \u001b[0mprint\u001b[0m\u001b[1;33m(\u001b[0m\u001b[1;34m\"Finished calling function passed\"\u001b[0m\u001b[1;33m)\u001b[0m\u001b[1;33m\u001b[0m\u001b[1;33m\u001b[0m\u001b[0m\n\u001b[0;32m      7\u001b[0m \u001b[1;32mdef\u001b[0m \u001b[0msay_hi\u001b[0m\u001b[1;33m(\u001b[0m\u001b[1;33m)\u001b[0m\u001b[1;33m:\u001b[0m\u001b[1;33m\u001b[0m\u001b[1;33m\u001b[0m\u001b[0m\n",
      "\u001b[1;31mTypeError\u001b[0m: 'list' object is not callable"
     ]
    }
   ],
   "source": [
    "#Can a function be passed as parameter to another function?\n",
    "def say_hello(a):\n",
    "    print(\"Hello from say_hello\")\n",
    "    print(\"Start calling function passed\")\n",
    "a()\n",
    "print(\"Finished calling function passed\")\n",
    "def say_hi():\n",
    "    print(\"Hi from say_hi\")\n",
    "say_hello(say_hi)"
   ]
  },
  {
   "cell_type": "code",
   "execution_count": 35,
   "metadata": {},
   "outputs": [
    {
     "name": "stdout",
     "output_type": "stream",
     "text": [
      "Hello\n",
      "ddddd\n",
      "Hi\n"
     ]
    }
   ],
   "source": [
    "#Can a function be retuned as result from another function?\n",
    "def say_hello():\n",
    "    print(\"Hello\")\n",
    "    def say_hi():\n",
    "        print(\"Hi\")\n",
    "    return say_hi\n",
    "a = say_hello()\n",
    "print('ddddd')\n",
    "a()"
   ]
  },
  {
   "cell_type": "code",
   "execution_count": 39,
   "metadata": {},
   "outputs": [
    {
     "name": "stdout",
     "output_type": "stream",
     "text": [
      "Wrapper function started\n",
      "Hello\n",
      "Wrapper function ended\n"
     ]
    },
    {
     "ename": "TypeError",
     "evalue": "wrapper_func() missing 1 required positional argument: 'world_var'",
     "output_type": "error",
     "traceback": [
      "\u001b[1;31m---------------------------------------------------------------------------\u001b[0m",
      "\u001b[1;31mTypeError\u001b[0m                                 Traceback (most recent call last)",
      "\u001b[1;32m<ipython-input-39-e1b4194250e5>\u001b[0m in \u001b[0;36m<module>\u001b[1;34m\u001b[0m\n\u001b[0;32m     17\u001b[0m \u001b[1;32mdef\u001b[0m \u001b[0msay_hello\u001b[0m\u001b[1;33m(\u001b[0m\u001b[0mhello_var\u001b[0m\u001b[1;33m,\u001b[0m \u001b[0mworld_var\u001b[0m\u001b[1;33m)\u001b[0m\u001b[1;33m:\u001b[0m\u001b[1;33m\u001b[0m\u001b[1;33m\u001b[0m\u001b[0m\n\u001b[0;32m     18\u001b[0m     \u001b[0mprint\u001b[0m\u001b[1;33m(\u001b[0m\u001b[0mhello_var\u001b[0m \u001b[1;33m+\u001b[0m \u001b[1;34m\" \"\u001b[0m \u001b[1;33m+\u001b[0m \u001b[0mworld_var\u001b[0m\u001b[1;33m)\u001b[0m\u001b[1;33m\u001b[0m\u001b[1;33m\u001b[0m\u001b[0m\n\u001b[1;32m---> 19\u001b[1;33m \u001b[0msay_hello\u001b[0m\u001b[1;33m(\u001b[0m\u001b[1;34m\"welcome \"\u001b[0m \u001b[1;33m+\u001b[0m \u001b[1;34m\"here\"\u001b[0m\u001b[1;33m)\u001b[0m\u001b[1;33m\u001b[0m\u001b[1;33m\u001b[0m\u001b[0m\n\u001b[0m",
      "\u001b[1;31mTypeError\u001b[0m: wrapper_func() missing 1 required positional argument: 'world_var'"
     ]
    }
   ],
   "source": [
    "#Explain decorator function?\n",
    "def decorator_func(some_func):\n",
    "    def wrapper_func():\n",
    "        print(\"Wrapper function started\")\n",
    "        some_func()\n",
    "        print(\"Wrapper function ended\")\n",
    "    return wrapper_func\n",
    "def say_hello():\n",
    "    print(\"Hello\")\n",
    "a = decorator_func(say_hello)\n",
    "a()\n",
    "def decorator_func(a):\n",
    "    def wrapper_func(hello_var, world_var):\n",
    "        return a(hello_var, world_var)\n",
    "    return wrapper_func\n",
    "@decorator_func\n",
    "def say_hello(hello_var, world_var):\n",
    "    print(hello_var + \" \" + world_var)\n",
    "say_hello(\"welcome \" + \"here\")"
   ]
  },
  {
   "cell_type": "code",
   "execution_count": 41,
   "metadata": {},
   "outputs": [
    {
     "name": "stdout",
     "output_type": "stream",
     "text": [
      "78\n",
      "Hi from me!\n",
      "42\n"
     ]
    }
   ],
   "source": [
    "#Explain meta programming?\n",
    "class A:\n",
    "    pass\n",
    "A.f = 42\n",
    "x = A()\n",
    "x.f = 78\n",
    "print(x.f) #prints 78\n",
    "A.sayHi = lambda self: print(\"Hi from me!\")\n",
    "x.sayHi() #prints Hi from me\n",
    "x1 = A()\n",
    "print(x1.f) #prints 42 the default value"
   ]
  },
  {
   "cell_type": "code",
   "execution_count": 42,
   "metadata": {},
   "outputs": [
    {
     "ename": "TypeError",
     "evalue": "type.__new__() argument 1 must be str, not type",
     "output_type": "error",
     "traceback": [
      "\u001b[1;31m---------------------------------------------------------------------------\u001b[0m",
      "\u001b[1;31mTypeError\u001b[0m                                 Traceback (most recent call last)",
      "\u001b[1;32m<ipython-input-42-d71f7b3c8672>\u001b[0m in \u001b[0;36m<module>\u001b[1;34m\u001b[0m\n\u001b[1;32m----> 1\u001b[1;33m \u001b[0mB\u001b[0m \u001b[1;33m=\u001b[0m \u001b[0mtype\u001b[0m\u001b[1;33m(\u001b[0m\u001b[0mB\u001b[0m\u001b[1;33m,\u001b[0m \u001b[1;33m(\u001b[0m\u001b[0mA\u001b[0m\u001b[1;33m,\u001b[0m\u001b[1;33m)\u001b[0m\u001b[1;33m,\u001b[0m \u001b[0mdict\u001b[0m\u001b[1;33m(\u001b[0m\u001b[0mf\u001b[0m\u001b[1;33m=\u001b[0m\u001b[1;36m100\u001b[0m\u001b[1;33m)\u001b[0m\u001b[1;33m)\u001b[0m\u001b[1;33m\u001b[0m\u001b[1;33m\u001b[0m\u001b[0m\n\u001b[0m",
      "\u001b[1;31mTypeError\u001b[0m: type.__new__() argument 1 must be str, not type"
     ]
    }
   ],
   "source": [
    "B = type(B, (A,), dict(f=100))"
   ]
  },
  {
   "cell_type": "code",
   "execution_count": null,
   "metadata": {},
   "outputs": [],
   "source": []
  }
 ],
 "metadata": {
  "kernelspec": {
   "display_name": "Python 3",
   "language": "python",
   "name": "python3"
  },
  "language_info": {
   "codemirror_mode": {
    "name": "ipython",
    "version": 3
   },
   "file_extension": ".py",
   "mimetype": "text/x-python",
   "name": "python",
   "nbconvert_exporter": "python",
   "pygments_lexer": "ipython3",
   "version": "3.8.5"
  }
 },
 "nbformat": 4,
 "nbformat_minor": 4
}
