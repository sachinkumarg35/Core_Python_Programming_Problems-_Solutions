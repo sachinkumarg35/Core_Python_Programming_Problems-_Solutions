{
 "cells": [
  {
   "cell_type": "markdown",
   "metadata": {},
   "source": [
    "### Numpy"
   ]
  },
  {
   "cell_type": "code",
   "execution_count": 1,
   "metadata": {},
   "outputs": [
    {
     "name": "stdout",
     "output_type": "stream",
     "text": [
      "[1.  2.5 8.  0.  1. ]\n"
     ]
    }
   ],
   "source": [
    "#How to create single dimension numpy array?\n",
    "import numpy as np\n",
    "ip = [1, 2.5, 8, 0, 1]\n",
    "arr1 = np.array(ip)\n",
    "print(arr1) #print [1, 2.5, 8, 0, 1]"
   ]
  },
  {
   "cell_type": "code",
   "execution_count": 4,
   "metadata": {},
   "outputs": [
    {
     "name": "stdout",
     "output_type": "stream",
     "text": [
      "[[1 2 3 4]\n",
      " [5 6 7 8]]\n",
      "dimension 2\n",
      "Shape (2, 4)\n",
      "type int32\n"
     ]
    }
   ],
   "source": [
    "#Explain different attributes provided by numpy?\n",
    "import numpy as np\n",
    "ip = [[1, 2, 3, 4], [5, 6, 7, 8]]\n",
    "arr2 = np.array(ip)\n",
    "print(arr2)\n",
    "print('dimension', arr2.ndim)\n",
    "print('Shape', arr2.shape)\n",
    "print('type', arr2.dtype)"
   ]
  },
  {
   "cell_type": "code",
   "execution_count": 5,
   "metadata": {},
   "outputs": [
    {
     "name": "stdout",
     "output_type": "stream",
     "text": [
      "[[0. 0. 0.]\n",
      " [0. 0. 0.]]\n"
     ]
    }
   ],
   "source": [
    "#Explain some utility methods provided by numpy for creating different elements?\n",
    "ip4 = np.zeros((2, 3))\n",
    "print(ip4)"
   ]
  },
  {
   "cell_type": "code",
   "execution_count": 6,
   "metadata": {},
   "outputs": [
    {
     "name": "stdout",
     "output_type": "stream",
     "text": [
      "[[1. 1. 1.]\n",
      " [1. 1. 1.]]\n"
     ]
    }
   ],
   "source": [
    "ip4 = np.ones((2, 3))\n",
    "print(ip4)"
   ]
  },
  {
   "cell_type": "code",
   "execution_count": 7,
   "metadata": {},
   "outputs": [
    {
     "name": "stdout",
     "output_type": "stream",
     "text": [
      "[[1. 0. 0.]\n",
      " [0. 1. 0.]\n",
      " [0. 0. 1.]]\n"
     ]
    }
   ],
   "source": [
    "ip8 = np.eye(3, 3)\n",
    "print(ip8)"
   ]
  },
  {
   "cell_type": "code",
   "execution_count": 9,
   "metadata": {},
   "outputs": [
    {
     "name": "stdout",
     "output_type": "stream",
     "text": [
      "shape (2, 3)\n",
      "before [[1 2 3]\n",
      " [4 5 6]]\n",
      "after change [[1 2]\n",
      " [3 4]\n",
      " [5 6]]\n"
     ]
    }
   ],
   "source": [
    "#How can we change shape of the object?\n",
    "import numpy as np\n",
    "a = np.array([[1,2,3], [4,5,6]])\n",
    "print('shape', a.shape)\n",
    "print('before', a)\n",
    "a.shape = (3, 2)\n",
    "print('after change', a)"
   ]
  },
  {
   "cell_type": "code",
   "execution_count": 10,
   "metadata": {},
   "outputs": [
    {
     "name": "stdout",
     "output_type": "stream",
     "text": [
      "reshape [[1 2]\n",
      " [3 4]\n",
      " [5 6]]\n"
     ]
    }
   ],
   "source": [
    "a = np.array([[1,2,3], [4,5,6]])\n",
    "b = a.reshape(3, 2)\n",
    "print('reshape', b)"
   ]
  },
  {
   "cell_type": "code",
   "execution_count": 11,
   "metadata": {},
   "outputs": [
    {
     "name": "stdout",
     "output_type": "stream",
     "text": [
      "[[ 3.  5.  7.]\n",
      " [ 8. 10. 12.]]\n",
      "[[-1. -1. -1.]\n",
      " [ 0.  0.  0.]]\n",
      "[[ 2.  6. 12.]\n",
      " [16. 25. 36.]]\n",
      "[[1.         0.5        0.33333333]\n",
      " [0.25       0.2        0.16666667]]\n",
      "[[1.         1.41421356 1.73205081]\n",
      " [2.         2.23606798 2.44948974]]\n"
     ]
    }
   ],
   "source": [
    "#Explain various simple mathematical operations which can be done on numpy?\n",
    "import numpy as np\n",
    "arr1 = np.array([[1., 2., 3.], [4., 5., 6.]])\n",
    "arr2 = np.array([[2., 3., 4.], [4., 5., 6.]])\n",
    "print(arr1 + arr2)\n",
    "print(arr1 - arr2)\n",
    "print(arr1 * arr2)\n",
    "print(1/arr1)\n",
    "print(arr1**0.5)"
   ]
  },
  {
   "cell_type": "code",
   "execution_count": 12,
   "metadata": {},
   "outputs": [
    {
     "name": "stdout",
     "output_type": "stream",
     "text": [
      "[0 1 2 3 4 5 6 7 8 9]\n",
      "[5 6 7]\n"
     ]
    }
   ],
   "source": [
    "#Explain slicing operation in numpy?\n",
    "import numpy as np\n",
    "arr = np.arange(10)\n",
    "print(arr)\n",
    "print(arr[5:8])"
   ]
  },
  {
   "cell_type": "code",
   "execution_count": 13,
   "metadata": {},
   "outputs": [
    {
     "name": "stdout",
     "output_type": "stream",
     "text": [
      "[[ 0  1  2]\n",
      " [ 3  4  5]\n",
      " [ 6  7  8]\n",
      " [ 9 10 11]]\n",
      "[[ 4  5]\n",
      " [ 7  8]\n",
      " [10 11]]\n"
     ]
    }
   ],
   "source": [
    "x = np.array([[0, 1, 2], [3, 4, 5], [6, 7, 8], [9, 10, 11]])\n",
    "print(x)\n",
    "z = x[1:4, 1:3]\n",
    "print(z)"
   ]
  },
  {
   "cell_type": "code",
   "execution_count": 14,
   "metadata": {},
   "outputs": [
    {
     "name": "stdout",
     "output_type": "stream",
     "text": [
      "[False  True False False  True]\n"
     ]
    }
   ],
   "source": [
    "#Explain Boolean indexing?\n",
    "names = np.array(['Raj', 'Rahul', 'Mahesh', 'Ravi', 'Rahul'])\n",
    "print(names == 'Rahul')"
   ]
  },
  {
   "cell_type": "code",
   "execution_count": 15,
   "metadata": {},
   "outputs": [
    {
     "name": "stdout",
     "output_type": "stream",
     "text": [
      "[[ 0  1  2  3  4]\n",
      " [ 5  6  7  8  9]\n",
      " [10 11 12 13 14]]\n",
      "[[ 0  5 10]\n",
      " [ 1  6 11]\n",
      " [ 2  7 12]\n",
      " [ 3  8 13]\n",
      " [ 4  9 14]]\n",
      "mul [[ 30  80 130]\n",
      " [ 80 255 430]\n",
      " [130 430 730]]\n"
     ]
    }
   ],
   "source": [
    "#Perform matrix multiplication using numpy?\n",
    "import numpy as np\n",
    "arr = np.arange(15).reshape((3, 5))\n",
    "print(arr)\n",
    "print(arr.T)\n",
    "print('mul', np.dot(arr, arr.T))"
   ]
  },
  {
   "cell_type": "code",
   "execution_count": 16,
   "metadata": {},
   "outputs": [
    {
     "name": "stdout",
     "output_type": "stream",
     "text": [
      "(4, 1)\n",
      "(5, 1)\n",
      "(6, 1)\n",
      "(4, 2)\n",
      "(5, 2)\n",
      "(6, 2)\n",
      "(4, 3)\n",
      "(5, 3)\n",
      "(6, 3)\n"
     ]
    }
   ],
   "source": [
    "#What is broadcast?\n",
    "import numpy as np\n",
    "x = np.array([[1], [2], [3]])\n",
    "y = np.array([4, 5, 6])\n",
    "b = np.broadcast(y, x)\n",
    "for t in b:\n",
    "    print(t)"
   ]
  },
  {
   "cell_type": "code",
   "execution_count": 17,
   "metadata": {},
   "outputs": [
    {
     "name": "stdout",
     "output_type": "stream",
     "text": [
      "a\n",
      "[[3 7 5]\n",
      " [6 4 3]\n",
      " [2 4 9]]\n",
      "amin 1\n",
      "[3 3 2]\n",
      "amin 0\n",
      "[2 4 3]\n",
      "ptp\n",
      "7\n",
      "ptp axis 0\n",
      "[4 3 6]\n",
      "percentile axis 1\n",
      "[5. 4. 4.]\n",
      "percentile axis 0\n",
      "[3. 4. 5.]\n",
      "median\n",
      "[3. 4. 5.]\n",
      "mean\n",
      "[3.66666667 5.         5.66666667]\n",
      "average\n",
      "2.0\n",
      "std\n",
      "1.118033988749895\n",
      "var\n",
      "1.25\n"
     ]
    }
   ],
   "source": [
    "#Explain statistical measures supported by numpy.\n",
    "import numpy as np\n",
    "a = np.array([[3, 7, 5], [6, 4, 3], [2, 4, 9]])\n",
    "print('a')\n",
    "print(a)\n",
    "print('amin 1')\n",
    "print(np.amin(a, 1))\n",
    "print('amin 0')\n",
    "print(np.min(a, 0))\n",
    "print('ptp')\n",
    "print(np.ptp(a))\n",
    "print('ptp axis 0')\n",
    "print(np.ptp(a, axis = 0))\n",
    "print('percentile axis 1')\n",
    "print(np.percentile(a, 50, axis = 1))\n",
    "print('percentile axis 0')\n",
    "print(np.percentile(a, 50, axis = 0))\n",
    "print('median')\n",
    "print(np.median(a, axis = 0))\n",
    "print('mean')\n",
    "print(np.mean(a, axis = 0))\n",
    "a = np.array([1, 2, 3, 4])\n",
    "wts = np.array([4, 3, 2, 1])\n",
    "print('average')\n",
    "print(np.average(a, weights = wts))\n",
    "print('std')\n",
    "print(np.std([1,2,3,4,]))\n",
    "print('var')\n",
    "print(np.var([1,2,3,4]))"
   ]
  },
  {
   "cell_type": "code",
   "execution_count": 18,
   "metadata": {},
   "outputs": [
    {
     "name": "stdout",
     "output_type": "stream",
     "text": [
      "[1 2 3 4 5]\n",
      "[1. 2. 3. 4. 5.]\n"
     ]
    }
   ],
   "source": [
    "#How to save numpy data from memory to flat file?\n",
    "import numpy as np\n",
    "a = np.array([1,2,3,4,5])\n",
    "np.save('outfile', a)\n",
    "b = np.load('outfile.npy')\n",
    "print(b)\n",
    "\n",
    "np.savetxt('out.txt', a)\n",
    "b = np.loadtxt('out.txt')\n",
    "print(b)"
   ]
  },
  {
   "cell_type": "code",
   "execution_count": 19,
   "metadata": {},
   "outputs": [
    {
     "name": "stdout",
     "output_type": "stream",
     "text": [
      "[[0. 1. 2.]\n",
      " [3. 4. 5.]\n",
      " [6. 7. 8.]]\n",
      "[4. 5. 6. 7. 8.]\n"
     ]
    }
   ],
   "source": [
    "#What is the use of where and extract?\n",
    "import numpy as np\n",
    "x = np.arange(9.).reshape(3, 3)\n",
    "print(x)\n",
    "y = np.where(x > 3)\n",
    "print(x[y])"
   ]
  },
  {
   "cell_type": "code",
   "execution_count": 20,
   "metadata": {},
   "outputs": [
    {
     "name": "stdout",
     "output_type": "stream",
     "text": [
      "[[ True False  True]\n",
      " [False  True False]\n",
      " [ True False  True]]\n",
      "[0. 2. 4. 6. 8.]\n"
     ]
    }
   ],
   "source": [
    "x = np.arange(9.).reshape(3, 3)\n",
    "condition = np.mod(x, 2) == 0\n",
    "print(condition)\n",
    "print(np.extract(condition, x))"
   ]
  },
  {
   "cell_type": "code",
   "execution_count": 3,
   "metadata": {},
   "outputs": [
    {
     "name": "stdout",
     "output_type": "stream",
     "text": [
      "(0, 0) 11\n",
      "(0, 1) 22\n",
      "(1, 0) 33\n",
      "(1, 1) 43\n"
     ]
    }
   ],
   "source": [
    "#What is the use of ndenumerate?\n",
    "import numpy as np\n",
    "A = np.array([[11, 22], [33, 43]])\n",
    "for index, x in np.ndenumerate(A):\n",
    "    print(index, x)"
   ]
  },
  {
   "cell_type": "code",
   "execution_count": 5,
   "metadata": {},
   "outputs": [
    {
     "name": "stdout",
     "output_type": "stream",
     "text": [
      "[0 2 4 1]\n",
      "[0 1 2 3 4]\n"
     ]
    }
   ],
   "source": [
    "#Explain how can we draw a histogram using numpy?\n",
    "import numpy as np\n",
    "hist, be = np.histogram([1, 1, 2, 2, 2, 2, 3], bins = range(5))\n",
    "print(hist)\n",
    "print(be)"
   ]
  },
  {
   "cell_type": "code",
   "execution_count": 6,
   "metadata": {},
   "outputs": [
    {
     "name": "stdout",
     "output_type": "stream",
     "text": [
      "0    0.25\n",
      "1    0.50\n",
      "2    0.75\n",
      "3    1.00\n",
      "dtype: float64\n",
      "[0.25 0.5  0.75 1.  ]\n",
      "RangeIndex(start=0, stop=4, step=1)\n"
     ]
    }
   ],
   "source": [
    "#How to create series?\n",
    "import pandas as pd\n",
    "data = pd.Series([0.25, 0.5, 0.75, 1.0])\n",
    "print(data)\n",
    "print(data.values)\n",
    "print(data.index)"
   ]
  },
  {
   "cell_type": "code",
   "execution_count": 9,
   "metadata": {},
   "outputs": [
    {
     "name": "stdout",
     "output_type": "stream",
     "text": [
      "       Population  SpaceOccupied\n",
      "India      110000  2000 hectares\n",
      "China    45679000  4000 hectares\n",
      "USA       3400000  3000 hectares\n"
     ]
    }
   ],
   "source": [
    "#How to create Data frame?\n",
    "import pandas as pd\n",
    "country_population = {'India': 110000,\n",
    "'China': 45679000,\n",
    "'USA': 3400000}\n",
    "population = pd.Series(country_population)\n",
    "country_land = {'India': '2000 hectares', 'China': '4000 hectares', 'USA': '3000 hectares'}\n",
    "area = pd.Series(country_land)\n",
    "df = pd.DataFrame({'Population': population, 'SpaceOccupied': area})\n",
    "print(df)"
   ]
  },
  {
   "cell_type": "code",
   "execution_count": 10,
   "metadata": {},
   "outputs": [
    {
     "name": "stdout",
     "output_type": "stream",
     "text": [
      "     a  b    c\n",
      "0  1.0  2  NaN\n",
      "1  NaN  3  4.0\n"
     ]
    }
   ],
   "source": [
    "#How are missing values represented in data frame?\n",
    "import pandas as pd\n",
    "missing = pd.DataFrame([{'a':1, 'b':2}, {'b':3, 'c':4}])\n",
    "print(missing)"
   ]
  },
  {
   "cell_type": "code",
   "execution_count": 11,
   "metadata": {},
   "outputs": [
    {
     "name": "stdout",
     "output_type": "stream",
     "text": [
      "Int64Index([3, 5, 7], dtype='int64')\n",
      "Int64Index([1, 2, 3, 5, 7, 9, 11], dtype='int64')\n"
     ]
    },
    {
     "name": "stderr",
     "output_type": "stream",
     "text": [
      "<ipython-input-11-28d58970dc82>:4: FutureWarning: Index.__and__ operating as a set operation is deprecated, in the future this will be a logical operation matching Series.__and__.  Use index.intersection(other) instead\n",
      "  print(indA & indB)\n",
      "<ipython-input-11-28d58970dc82>:5: FutureWarning: Index.__or__ operating as a set operation is deprecated, in the future this will be a logical operation matching Series.__or__.  Use index.union(other) instead\n",
      "  print(indA | indB)\n"
     ]
    }
   ],
   "source": [
    "#Explain the process of creating indexes w.r.t pandas?\n",
    "indA = pd.Index([1, 3, 5, 7, 9])\n",
    "indB = pd.Index([2, 3, 5, 7, 11])\n",
    "print(indA & indB)\n",
    "print(indA | indB)"
   ]
  },
  {
   "cell_type": "code",
   "execution_count": 12,
   "metadata": {},
   "outputs": [
    {
     "name": "stdout",
     "output_type": "stream",
     "text": [
      "series 0   -0.007619\n",
      "1    0.388730\n",
      "2    0.247268\n",
      "3   -1.456466\n",
      "dtype: float64\n",
      "axes [RangeIndex(start=0, stop=4, step=1)]\n",
      "Empty False\n",
      "Dimensions: \n",
      "1\n",
      "Size of the object: \n",
      "4\n",
      "Underlying data is: \n",
      "[-0.00761934  0.3887296   0.24726765 -1.45646645]\n",
      "Top 2 rows: \n",
      "0   -0.007619\n",
      "1    0.388730\n",
      "dtype: float64\n",
      "Last 2 rows: \n",
      "2    0.247268\n",
      "3   -1.456466\n",
      "dtype: float64\n"
     ]
    }
   ],
   "source": [
    "#Explain various attributes associated with series?\n",
    "import pandas as pd\n",
    "import numpy as np\n",
    "s = pd.Series(np.random.randn(4))\n",
    "print('series', s)\n",
    "print('axes', s.axes)\n",
    "print('Empty', s.empty)\n",
    "print('Dimensions: ')\n",
    "print(s.ndim)\n",
    "print(\"Size of the object: \")\n",
    "print(s.size)\n",
    "print('Underlying data is: ')\n",
    "print(s.values)\n",
    "print('Top 2 rows: ')\n",
    "print(s.head(2))\n",
    "print('Last 2 rows: ')\n",
    "print(s.tail(2))"
   ]
  },
  {
   "cell_type": "code",
   "execution_count": 13,
   "metadata": {},
   "outputs": [],
   "source": [
    "#Explain statistical measures supported by pandas?\n",
    "d = {'Name':pd.Series(['Raja', 'Raju', 'Ricky', 'Shiv', 'Vishnu', 'Ramesh', 'Mahendar', 'Lious', 'Salman', 'SRK', 'VV', 'MM']),\n",
    "    'Age':pd.Series([25, 26, 25, 23, 30, 29, 23, 34, 40, 30, 51, 46]),\n",
    "    'Rating':pd.Series([4.23, 3.24, 3.98, 2.56, 3.20, 4.6, 3.8, 3.78, 2.98, 4.80, 4.10, 3.65])}"
   ]
  },
  {
   "cell_type": "code",
   "execution_count": 14,
   "metadata": {},
   "outputs": [
    {
     "name": "stdout",
     "output_type": "stream",
     "text": [
      "        Name  Age  Rating\n",
      "0       Raja   25    4.23\n",
      "1       Raju   26    3.24\n",
      "2      Ricky   25    3.98\n",
      "3       Shiv   23    2.56\n",
      "4     Vishnu   30    3.20\n",
      "5     Ramesh   29    4.60\n",
      "6   Mahendar   23    3.80\n",
      "7      Lious   34    3.78\n",
      "8     Salman   40    2.98\n",
      "9        SRK   30    4.80\n",
      "10        VV   51    4.10\n",
      "11        MM   46    3.65\n"
     ]
    }
   ],
   "source": [
    "df = pd.DataFrame(d)\n",
    "print(df)"
   ]
  },
  {
   "cell_type": "code",
   "execution_count": 16,
   "metadata": {},
   "outputs": [
    {
     "name": "stdout",
     "output_type": "stream",
     "text": [
      "axes\n",
      "[RangeIndex(start=0, stop=12, step=1), Index(['Name', 'Age', 'Rating'], dtype='object')]\n",
      "sum\n",
      "sum Name      RajaRajuRickyShivVishnuRameshMahendarLiousSalm...\n",
      "Age                                                     382\n",
      "Rating                                                44.92\n",
      "dtype: object\n",
      "sum of axis 1 0     29.23\n",
      "1     29.24\n",
      "2     28.98\n",
      "3     25.56\n",
      "4     33.20\n",
      "5     33.60\n",
      "6     26.80\n",
      "7     37.78\n",
      "8     42.98\n",
      "9     34.80\n",
      "10    55.10\n",
      "11    49.65\n",
      "dtype: float64\n",
      "mean Age       31.833333\n",
      "Rating     3.743333\n",
      "dtype: float64\n",
      "std Age       9.232682\n",
      "Rating    0.661628\n",
      "dtype: float64\n",
      "count Name      12\n",
      "Age       12\n",
      "Rating    12\n",
      "dtype: int64\n",
      "median Age       29.50\n",
      "Rating     3.79\n",
      "dtype: float64\n",
      "cumsum                                                  Name  Age  Rating\n",
      "0                                                Raja   25    4.23\n",
      "1                                            RajaRaju   51    7.47\n",
      "2                                       RajaRajuRicky   76   11.45\n",
      "3                                   RajaRajuRickyShiv   99   14.01\n",
      "4                             RajaRajuRickyShivVishnu  129   17.21\n",
      "5                       RajaRajuRickyShivVishnuRamesh  158   21.81\n",
      "6               RajaRajuRickyShivVishnuRameshMahendar  181   25.61\n",
      "7          RajaRajuRickyShivVishnuRameshMahendarLious  215   29.39\n",
      "8    RajaRajuRickyShivVishnuRameshMahendarLiousSalman  255   32.37\n",
      "9   RajaRajuRickyShivVishnuRameshMahendarLiousSalm...  285   37.17\n",
      "10  RajaRajuRickyShivVishnuRameshMahendarLiousSalm...  336   41.27\n",
      "11  RajaRajuRickyShivVishnuRameshMahendarLiousSalm...  382   44.92\n"
     ]
    },
    {
     "name": "stderr",
     "output_type": "stream",
     "text": [
      "<ipython-input-16-cdb51213ce22>:5: FutureWarning: Dropping of nuisance columns in DataFrame reductions (with 'numeric_only=None') is deprecated; in a future version this will raise TypeError.  Select only valid columns before calling the reduction.\n",
      "  print('sum of axis 1', df.sum(1))\n",
      "<ipython-input-16-cdb51213ce22>:6: FutureWarning: Dropping of nuisance columns in DataFrame reductions (with 'numeric_only=None') is deprecated; in a future version this will raise TypeError.  Select only valid columns before calling the reduction.\n",
      "  print('mean', df.mean())\n",
      "<ipython-input-16-cdb51213ce22>:7: FutureWarning: Dropping of nuisance columns in DataFrame reductions (with 'numeric_only=None') is deprecated; in a future version this will raise TypeError.  Select only valid columns before calling the reduction.\n",
      "  print('std', df.std())\n",
      "<ipython-input-16-cdb51213ce22>:9: FutureWarning: Dropping of nuisance columns in DataFrame reductions (with 'numeric_only=None') is deprecated; in a future version this will raise TypeError.  Select only valid columns before calling the reduction.\n",
      "  print('median', df.median())\n"
     ]
    }
   ],
   "source": [
    "print('axes')\n",
    "print(df.axes)\n",
    "print('sum')\n",
    "print('sum', df.sum())\n",
    "print('sum of axis 1', df.sum(1))\n",
    "print('mean', df.mean())\n",
    "print('std', df.std())\n",
    "print('count', df.count())\n",
    "print('median', df.median())\n",
    "print('cumsum', df.cumsum())"
   ]
  },
  {
   "cell_type": "code",
   "execution_count": 17,
   "metadata": {},
   "outputs": [
    {
     "name": "stdout",
     "output_type": "stream",
     "text": [
      "             Age     Rating\n",
      "count  12.000000  12.000000\n",
      "mean   31.833333   3.746567\n",
      "std     9.232682   0.659021\n",
      "min    23.000000   2.562800\n",
      "25%    25.000000   3.255500\n",
      "50%    29.500000   3.790000\n",
      "75%    35.500000   4.133000\n",
      "max    51.000000   4.800000\n"
     ]
    }
   ],
   "source": [
    "#Most of the measures can be easily made available with the help of describe function.\n",
    "import pandas as pd\n",
    "import numpy as np\n",
    "d = {'Name': pd.Series(['Raja', 'Raju', 'Ricky', 'Shiv', 'Vishnu', 'Ramesh', 'Mahendar', 'Lious', 'Salman', 'SRK', 'VV', 'MM']),\n",
    "    'Age': pd.Series([25.00, 26, 25, 23, 30, 29, 23, 34, 40, 30, 51, 46.00]),\n",
    "    'Rating': pd.Series([4.2320, 3.274, 3.98, 2.5628, 3.20, 4.600, 3.800, 3.780, 2.980, 4.8000, 4.1000, 3.65])}\n",
    "df = pd.DataFrame(d)\n",
    "print(df.describe())"
   ]
  },
  {
   "cell_type": "code",
   "execution_count": 2,
   "metadata": {},
   "outputs": [
    {
     "name": "stdout",
     "output_type": "stream",
     "text": [
      "   Age      Name  Rating\n",
      "1   26      Raju    3.24\n",
      "0   25      Raja    4.23\n",
      "5   29  Mahendar    4.60\n"
     ]
    }
   ],
   "source": [
    "#Explain reindexing?\n",
    "import pandas as pd\n",
    "import numpy as np\n",
    "\n",
    "d = {'Name': pd.Series(['Raja', 'Raju', 'Ricky', 'Vishnu', 'Ramesh', 'Mahendar', 'Lious', 'Salman', 'SRK', 'VV', 'MM']),\n",
    "    'Age':pd.Series([25, 26, 25, 23, 30, 29, 23, 34, 40, 30, 51, 46]),\n",
    "    'Rating': pd.Series([4.23, 3.24, 3.98, 2.56, 3.20, 4.6, 3.8, 3.78, 2.98, 4.80, 4.10, 3.45])}\n",
    "df = pd.DataFrame(d)\n",
    "df_reindexed = df.reindex(index = [1, 0, 5], columns =['Age', 'Name', 'Rating'])\n",
    "print(df_reindexed)"
   ]
  },
  {
   "cell_type": "code",
   "execution_count": 3,
   "metadata": {},
   "outputs": [
    {
     "name": "stdout",
     "output_type": "stream",
     "text": [
      "       col1      col2      col3\n",
      "0 -1.179825 -0.238762 -0.494810\n",
      "1  1.143800  0.989068 -2.325452\n",
      "2       NaN       NaN       NaN\n",
      "3       NaN       NaN       NaN\n"
     ]
    }
   ],
   "source": [
    "#Explain bfill and ffill.\n",
    "import pandas as pd\n",
    "import numpy as np\n",
    "df1 = pd.DataFrame(np.random.randn(4, 3), columns = ['col1', 'col2', 'col3'])\n",
    "df2 = pd.DataFrame(np.random.randn(2, 3), columns = ['col1', 'col2', 'col3'])\n",
    "print(df2.reindex_like(df1))"
   ]
  },
  {
   "cell_type": "code",
   "execution_count": 4,
   "metadata": {},
   "outputs": [
    {
     "name": "stdout",
     "output_type": "stream",
     "text": [
      "       col1      col2      col3\n",
      "0 -1.179825 -0.238762 -0.494810\n",
      "1  1.143800  0.989068 -2.325452\n",
      "2  1.143800  0.989068 -2.325452\n",
      "3  1.143800  0.989068 -2.325452\n"
     ]
    }
   ],
   "source": [
    "print(df2.reindex_like(df1, method = 'ffill'))"
   ]
  },
  {
   "cell_type": "code",
   "execution_count": 5,
   "metadata": {},
   "outputs": [
    {
     "name": "stdout",
     "output_type": "stream",
     "text": [
      "        Name  Age  Rating\n",
      "0       Raja   25    4.23\n",
      "1       Raju   26    3.24\n",
      "2      Ricky   25    3.98\n",
      "3     Vishnu   23    2.56\n",
      "4     Ramesh   30    3.20\n",
      "5   Mahendar   29    4.60\n",
      "6      Lious   23    3.80\n",
      "7     Salman   34    3.78\n",
      "8        SRK   40    2.98\n",
      "9         VV   30    4.80\n",
      "10        MM   51    4.10\n",
      "11       NaN   46    3.45\n"
     ]
    }
   ],
   "source": [
    "#What are all types of iterations are provided in pandas data frame?\n",
    "\"iteritems():, iterrows():, itertuples():\"\n",
    "print(df)"
   ]
  },
  {
   "cell_type": "code",
   "execution_count": 7,
   "metadata": {},
   "outputs": [
    {
     "name": "stdout",
     "output_type": "stream",
     "text": [
      "Name 0         Raja\n",
      "1         Raju\n",
      "2        Ricky\n",
      "3       Vishnu\n",
      "4       Ramesh\n",
      "5     Mahendar\n",
      "6        Lious\n",
      "7       Salman\n",
      "8          SRK\n",
      "9           VV\n",
      "10          MM\n",
      "11         NaN\n",
      "Name: Name, dtype: object\n",
      "Age 0     25\n",
      "1     26\n",
      "2     25\n",
      "3     23\n",
      "4     30\n",
      "5     29\n",
      "6     23\n",
      "7     34\n",
      "8     40\n",
      "9     30\n",
      "10    51\n",
      "11    46\n",
      "Name: Age, dtype: int64\n",
      "Rating 0     4.23\n",
      "1     3.24\n",
      "2     3.98\n",
      "3     2.56\n",
      "4     3.20\n",
      "5     4.60\n",
      "6     3.80\n",
      "7     3.78\n",
      "8     2.98\n",
      "9     4.80\n",
      "10    4.10\n",
      "11    3.45\n",
      "Name: Rating, dtype: float64\n"
     ]
    }
   ],
   "source": [
    "for key, value in df.iteritems():\n",
    "    print(key, value)"
   ]
  },
  {
   "cell_type": "code",
   "execution_count": 8,
   "metadata": {},
   "outputs": [
    {
     "name": "stdout",
     "output_type": "stream",
     "text": [
      "0 Name      Raja\n",
      "Age         25\n",
      "Rating    4.23\n",
      "Name: 0, dtype: object\n",
      "1 Name      Raju\n",
      "Age         26\n",
      "Rating    3.24\n",
      "Name: 1, dtype: object\n",
      "2 Name      Ricky\n",
      "Age          25\n",
      "Rating     3.98\n",
      "Name: 2, dtype: object\n",
      "3 Name      Vishnu\n",
      "Age           23\n",
      "Rating      2.56\n",
      "Name: 3, dtype: object\n",
      "4 Name      Ramesh\n",
      "Age           30\n",
      "Rating       3.2\n",
      "Name: 4, dtype: object\n",
      "5 Name      Mahendar\n",
      "Age             29\n",
      "Rating         4.6\n",
      "Name: 5, dtype: object\n",
      "6 Name      Lious\n",
      "Age          23\n",
      "Rating      3.8\n",
      "Name: 6, dtype: object\n",
      "7 Name      Salman\n",
      "Age           34\n",
      "Rating      3.78\n",
      "Name: 7, dtype: object\n",
      "8 Name       SRK\n",
      "Age         40\n",
      "Rating    2.98\n",
      "Name: 8, dtype: object\n",
      "9 Name       VV\n",
      "Age        30\n",
      "Rating    4.8\n",
      "Name: 9, dtype: object\n",
      "10 Name       MM\n",
      "Age        51\n",
      "Rating    4.1\n",
      "Name: 10, dtype: object\n",
      "11 Name       NaN\n",
      "Age         46\n",
      "Rating    3.45\n",
      "Name: 11, dtype: object\n"
     ]
    }
   ],
   "source": [
    "for row_index, row in df.iterrows():\n",
    "    print(row_index, row)"
   ]
  },
  {
   "cell_type": "code",
   "execution_count": 9,
   "metadata": {},
   "outputs": [
    {
     "name": "stdout",
     "output_type": "stream",
     "text": [
      "Pandas(Index=0, Name='Raja', Age=25, Rating=4.23)\n",
      "Pandas(Index=1, Name='Raju', Age=26, Rating=3.24)\n",
      "Pandas(Index=2, Name='Ricky', Age=25, Rating=3.98)\n",
      "Pandas(Index=3, Name='Vishnu', Age=23, Rating=2.56)\n",
      "Pandas(Index=4, Name='Ramesh', Age=30, Rating=3.2)\n",
      "Pandas(Index=5, Name='Mahendar', Age=29, Rating=4.6)\n",
      "Pandas(Index=6, Name='Lious', Age=23, Rating=3.8)\n",
      "Pandas(Index=7, Name='Salman', Age=34, Rating=3.78)\n",
      "Pandas(Index=8, Name='SRK', Age=40, Rating=2.98)\n",
      "Pandas(Index=9, Name='VV', Age=30, Rating=4.8)\n",
      "Pandas(Index=10, Name='MM', Age=51, Rating=4.1)\n",
      "Pandas(Index=11, Name=nan, Age=46, Rating=3.45)\n"
     ]
    }
   ],
   "source": [
    "for row in df.itertuples():\n",
    "    print(row)"
   ]
  },
  {
   "cell_type": "code",
   "execution_count": 10,
   "metadata": {},
   "outputs": [],
   "source": [
    "#How to override default reload option in pandas?\n",
    "pd.set_option(\"display.max_rows\", 80)\n",
    "pd.set_option(\"display.max_columns\", 30)"
   ]
  },
  {
   "cell_type": "code",
   "execution_count": 14,
   "metadata": {},
   "outputs": [
    {
     "name": "stdout",
     "output_type": "stream",
     "text": [
      "         S1        S2\n",
      "0 -0.021428 -0.805718\n",
      "1  0.581533  0.208635\n",
      "2  2.044803 -0.358715\n",
      "3  0.271614 -0.226399\n",
      "4 -0.763122  0.521536\n",
      "5 -1.863153 -1.270675\n",
      "6  0.869591  2.035722\n",
      "7  0.177342 -0.279637\n",
      "8 -0.573864 -0.142717\n",
      "9 -1.094850  1.273591\n",
      "          S1        S2\n",
      "0        NaN       NaN\n",
      "1 -28.138905 -1.258943\n",
      "2   2.516229 -2.719345\n",
      "3  -0.867169 -0.368861\n",
      "4  -3.809585 -3.303611\n",
      "5   1.441488 -3.436408\n",
      "6  -1.466731 -2.602079\n",
      "7  -0.796062 -1.137365\n",
      "8  -4.235909 -0.489635\n",
      "9   0.907856 -9.923885\n",
      "          S1        S2\n",
      "S1  1.216575  0.195192\n",
      "S2  0.195192  0.948077\n",
      "          S1        S2\n",
      "S1  1.000000  0.181749\n",
      "S2  0.181749  1.000000\n"
     ]
    }
   ],
   "source": [
    "#Explain advanced statistics with pandas?\n",
    "s1 = pd.Series(np.random.randn(10))\n",
    "s2 = pd.Series(np.random.randn(10))\n",
    "frame = pd.DataFrame({'S1':s1, 'S2':s2})\n",
    "print(frame)\n",
    "print(frame.pct_change())\n",
    "print(frame.cov())\n",
    "print(frame.corr())"
   ]
  },
  {
   "cell_type": "code",
   "execution_count": 15,
   "metadata": {},
   "outputs": [
    {
     "name": "stdout",
     "output_type": "stream",
     "text": [
      "          Age    Rating\n",
      "0         NaN       NaN\n",
      "1         NaN       NaN\n",
      "2   25.333333  3.816667\n",
      "3   24.666667  3.260000\n",
      "4   26.000000  3.246667\n",
      "5   27.333333  3.453333\n",
      "6   27.333333  3.866667\n",
      "7   28.666667  4.060000\n",
      "8   32.333333  3.520000\n",
      "9   34.666667  3.853333\n",
      "10  40.333333  3.960000\n",
      "11  42.333333  4.116667\n"
     ]
    }
   ],
   "source": [
    "#Explain rolling function?\n",
    "print(df.rolling(window = 3).mean())"
   ]
  },
  {
   "cell_type": "code",
   "execution_count": 16,
   "metadata": {},
   "outputs": [
    {
     "name": "stdout",
     "output_type": "stream",
     "text": [
      "          Age    Rating\n",
      "0         NaN       NaN\n",
      "1         NaN       NaN\n",
      "2   25.333333  3.816667\n",
      "3   24.750000  3.502500\n",
      "4   25.800000  3.442000\n",
      "5   26.333333  3.635000\n",
      "6   25.857143  3.658571\n",
      "7   26.875000  3.673750\n",
      "8   28.333333  3.596667\n",
      "9   28.500000  3.717000\n",
      "10  30.545455  3.751818\n",
      "11  31.833333  3.726667\n"
     ]
    }
   ],
   "source": [
    "print(df.expanding(min_periods = 3).mean())"
   ]
  },
  {
   "cell_type": "code",
   "execution_count": 17,
   "metadata": {},
   "outputs": [
    {
     "name": "stdout",
     "output_type": "stream",
     "text": [
      "        Name  Age  Rating\n",
      "0       Raja   25    4.23\n",
      "1       Raju   26    3.24\n",
      "2      Ricky   25    3.98\n",
      "3     Vishnu   23    2.56\n",
      "4     Ramesh   30    3.20\n",
      "5   Mahendar   29    4.60\n",
      "6      Lious   23    3.80\n",
      "7     Salman   34    3.78\n",
      "8        SRK   40    2.98\n",
      "9         VV   30    4.80\n",
      "10        MM   51    4.10\n"
     ]
    }
   ],
   "source": [
    "#How can we handle NA in pandas?\n",
    "\"dropna:, pad, backfill\"\n",
    "print(df.dropna())"
   ]
  },
  {
   "cell_type": "code",
   "execution_count": 19,
   "metadata": {},
   "outputs": [
    {
     "name": "stdout",
     "output_type": "stream",
     "text": [
      "        Name  Age  Rating\n",
      "0       Raja   25    4.23\n",
      "1       Raju   26    3.24\n",
      "2      Ricky   25    3.98\n",
      "3     Vishnu   23    2.56\n",
      "4     Ramesh   30    3.20\n",
      "5   Mahendar   29    4.60\n",
      "6      Lious   23    3.80\n",
      "7     Salman   34    3.78\n",
      "8        SRK   40    2.98\n",
      "9         VV   30    4.80\n",
      "10        MM   51    4.10\n",
      "11        MM   46    3.45\n"
     ]
    }
   ],
   "source": [
    "#pad output\n",
    "print(df.fillna(method = 'pad'))"
   ]
  },
  {
   "cell_type": "code",
   "execution_count": 20,
   "metadata": {},
   "outputs": [
    {
     "name": "stdout",
     "output_type": "stream",
     "text": [
      "        Name  Age  Rating\n",
      "0       Raja   25    4.23\n",
      "1       Raju   26    3.24\n",
      "2      Ricky   25    3.98\n",
      "3     Vishnu   23    2.56\n",
      "4     Ramesh   30    3.20\n",
      "5   Mahendar   29    4.60\n",
      "6      Lious   23    3.80\n",
      "7     Salman   34    3.78\n",
      "8        SRK   40    2.98\n",
      "9         VV   30    4.80\n",
      "10        MM   51    4.10\n",
      "11       NaN   46    3.45\n"
     ]
    }
   ],
   "source": [
    "#Backfill:\n",
    "print(df.fillna(method = 'backfill'))"
   ]
  },
  {
   "cell_type": "code",
   "execution_count": 29,
   "metadata": {},
   "outputs": [
    {
     "name": "stdout",
     "output_type": "stream",
     "text": [
      "    Point  Rank Team  Year\n",
      "0     876     1    R  2014\n",
      "1     789     2    R  2015\n",
      "2     863     2    D  2014\n",
      "3     673     3    D  2015\n",
      "4     741     3    K  2014\n",
      "5     812     4    K  2015\n",
      "6     756     1    K  2016\n",
      "7     788     1    K  2017\n",
      "8     694     2    R  2016\n",
      "9     701     4   RR  2014\n",
      "10    804     1   RR  2015\n",
      "11    690     2    R  2017\n"
     ]
    }
   ],
   "source": [
    "df = {'Point': pd.Series([876, 789, 863, 673, 741, 812, 756, 788, 694, 701, 804, 690]),\n",
    "    'Rank': pd.Series([1, 2, 2, 3, 3, 4, 1, 1, 2, 4, 1, 2]), \n",
    "    'Team': pd.Series(['R', 'R', 'D', 'D', 'K', 'K', 'K', 'K', 'R', 'RR', 'RR', 'R']), \n",
    "    'Year': pd.Series([2014, 2015, 2014, 2015, 2014, 2015, 2016, 2017, 2016, 2014, 2015, 2017])}\n",
    "df = pd.DataFrame(df)\n",
    "print(df)"
   ]
  },
  {
   "cell_type": "code",
   "execution_count": 30,
   "metadata": {},
   "outputs": [
    {
     "name": "stdout",
     "output_type": "stream",
     "text": [
      "<pandas.core.groupby.generic.DataFrameGroupBy object at 0x00000235D71F2B20>\n"
     ]
    }
   ],
   "source": [
    "#Explain group by function?\n",
    "grouped = df.groupby('Year')\n",
    "print(grouped)"
   ]
  },
  {
   "cell_type": "code",
   "execution_count": 6,
   "metadata": {},
   "outputs": [
    {
     "name": "stdout",
     "output_type": "stream",
     "text": [
      "  FistName  Id subject_id\n",
      "0   Vishwa  11       sub1\n",
      "1   Mahesh   2       sub2\n",
      "2    Kallu  33       sub4\n",
      "3    Ballu  44       sub6\n",
      "4    Mallu  55       sub5\n"
     ]
    }
   ],
   "source": [
    "Left = {'FistName' : pd.Series(['Vishwa', 'Mahesh', 'Kallu', 'Ballu', 'Mallu']),\n",
    "       'Id': pd.Series([11, 2, 33, 44, 55]),\n",
    "       'subject_id': pd.Series(['sub1', 'sub2', 'sub4', 'sub6', 'sub5'])}\n",
    "Left = pd.DataFrame(Left)\n",
    "print(Left)"
   ]
  },
  {
   "cell_type": "code",
   "execution_count": 7,
   "metadata": {},
   "outputs": [
    {
     "name": "stdout",
     "output_type": "stream",
     "text": [
      "  LastName  Id subject_id\n",
      "0     Nara  11       sub1\n",
      "1      Kal   2       sub4\n",
      "2   Challu   3       sub3\n",
      "3    Shana   4       sub6\n"
     ]
    }
   ],
   "source": [
    "Right = {'LastName': pd.Series(['Nara', 'Kal', 'Challu', 'Shana']),\n",
    "        'Id': pd.Series([11, 2, 3, 4]), \n",
    "        'subject_id': pd.Series(['sub1', 'sub4', 'sub3', 'sub6'])}\n",
    "Right = pd.DataFrame(Right)\n",
    "print(Right)"
   ]
  },
  {
   "cell_type": "code",
   "execution_count": 34,
   "metadata": {},
   "outputs": [
    {
     "name": "stdout",
     "output_type": "stream",
     "text": [
      "id merge   FistName  Id subject_id_x LastName subject_id_y\n",
      "0   Vishwa  11         sub1     Nara         sub1\n",
      "1   Mahesh   2         sub2      Kal         sub4\n"
     ]
    }
   ],
   "source": [
    "print('id merge', pd.merge(Left, Right, on = 'Id'))"
   ]
  },
  {
   "cell_type": "code",
   "execution_count": 35,
   "metadata": {},
   "outputs": [
    {
     "name": "stdout",
     "output_type": "stream",
     "text": [
      "left   FistName  Id subject_id_x LastName subject_id_y\n",
      "0   Vishwa  11         sub1     Nara         sub1\n",
      "1   Mahesh   2         sub2      Kal         sub4\n",
      "2    Kallu  33         sub4      NaN          NaN\n",
      "3    Ballu  44         sub6      NaN          NaN\n",
      "4    Mallu  55         sub5      NaN          NaN\n"
     ]
    }
   ],
   "source": [
    "#Left merge:\n",
    "print('left', pd.merge(Left, Right, on = 'Id', how = 'left'))"
   ]
  },
  {
   "cell_type": "code",
   "execution_count": 10,
   "metadata": {},
   "outputs": [
    {
     "name": "stdout",
     "output_type": "stream",
     "text": [
      "right   FistName  Id subject_id_x LastName subject_id_y\n",
      "0   Vishwa  11         sub1     Nara         sub1\n",
      "1   Mahesh   2         sub2      Kal         sub4\n",
      "2      NaN   3          NaN   Challu         sub3\n",
      "3      NaN   4          NaN    Shana         sub6\n"
     ]
    }
   ],
   "source": [
    "#Right merge\n",
    "import pandas as pd\n",
    "print('right', pd.merge(Left, Right, on = 'Id', how = 'right'))"
   ]
  },
  {
   "cell_type": "code",
   "execution_count": 12,
   "metadata": {},
   "outputs": [
    {
     "name": "stdout",
     "output_type": "stream",
     "text": [
      "  FistName  Id subject_id LastName\n",
      "0   Vishwa  11       sub1      NaN\n",
      "1   Mahesh   2       sub2      NaN\n",
      "2    Kallu  33       sub4      NaN\n",
      "3    Ballu  44       sub6      NaN\n",
      "4    Mallu  55       sub5      NaN\n",
      "0      NaN  11       sub1     Nara\n",
      "1      NaN   2       sub4      Kal\n",
      "2      NaN   3       sub3   Challu\n",
      "3      NaN   4       sub6    Shana\n"
     ]
    }
   ],
   "source": [
    "#Explain concat method?\n",
    "print(pd.concat([Left, Right]))"
   ]
  },
  {
   "cell_type": "code",
   "execution_count": 13,
   "metadata": {},
   "outputs": [
    {
     "name": "stdout",
     "output_type": "stream",
     "text": [
      "  FistName  Id subject_id LastName    Id subject_id\n",
      "0   Vishwa  11       sub1     Nara  11.0       sub1\n",
      "1   Mahesh   2       sub2      Kal   2.0       sub4\n",
      "2    Kallu  33       sub4   Challu   3.0       sub3\n",
      "3    Ballu  44       sub6    Shana   4.0       sub6\n",
      "4    Mallu  55       sub5      NaN   NaN        NaN\n"
     ]
    }
   ],
   "source": [
    "print(pd.concat([Left, Right], axis = 1))"
   ]
  },
  {
   "cell_type": "code",
   "execution_count": 14,
   "metadata": {},
   "outputs": [
    {
     "name": "stdout",
     "output_type": "stream",
     "text": [
      "DatetimeIndex(['2018-01-01', '2018-01-02', '2018-01-03', '2018-01-04',\n",
      "               '2018-01-05', '2018-01-08', '2018-01-09', '2018-01-10',\n",
      "               '2018-01-11', '2018-01-12',\n",
      "               ...\n",
      "               '2019-12-23', '2019-12-24', '2019-12-25', '2019-12-26',\n",
      "               '2019-12-27', '2019-12-30', '2019-12-31', '2020-01-01',\n",
      "               '2020-01-02', '2020-01-03'],\n",
      "              dtype='datetime64[ns]', length=525, freq='B')\n"
     ]
    },
    {
     "name": "stderr",
     "output_type": "stream",
     "text": [
      "<ipython-input-14-3911598ea502>:2: FutureWarning: The pandas.datetime class is deprecated and will be removed from pandas in a future version. Import from datetime module instead.\n",
      "  start = pd.datetime(2018, 1, 1)\n",
      "<ipython-input-14-3911598ea502>:3: FutureWarning: The pandas.datetime class is deprecated and will be removed from pandas in a future version. Import from datetime module instead.\n",
      "  end = pd.datetime(2020, 1, 5)\n"
     ]
    }
   ],
   "source": [
    "#Explain how time related range can be generated in pandas.\n",
    "start = pd.datetime(2018, 1, 1)\n",
    "end = pd.datetime(2020, 1, 5)\n",
    "print(pd.bdate_range(start, end))"
   ]
  },
  {
   "cell_type": "code",
   "execution_count": 15,
   "metadata": {},
   "outputs": [
    {
     "name": "stdout",
     "output_type": "stream",
     "text": [
      "DatetimeIndex(['2011-01-31', '2011-02-28', '2011-03-31', '2011-04-30',\n",
      "               '2011-05-31'],\n",
      "              dtype='datetime64[ns]', freq='M')\n"
     ]
    }
   ],
   "source": [
    "print(pd.date_range('1/1/2011', periods = 5, freq='M'))"
   ]
  },
  {
   "cell_type": "code",
   "execution_count": 16,
   "metadata": {},
   "outputs": [
    {
     "name": "stdout",
     "output_type": "stream",
     "text": [
      "0      1\n",
      "1      1\n",
      "2    100\n",
      "3    120\n",
      "4     30\n",
      "5     40\n",
      "6     60\n",
      "7     60\n",
      "dtype: int64\n",
      "1      2\n",
      "60     2\n",
      "100    1\n",
      "120    1\n",
      "30     1\n",
      "40     1\n",
      "dtype: int64\n"
     ]
    }
   ],
   "source": [
    "#How to print a histogram using pandas?\n",
    "import numpy as np\n",
    "s = pd.Series([1,1,100, 120, 30, 40, 60, 60])\n",
    "print(s)\n",
    "print(s.value_counts())"
   ]
  },
  {
   "cell_type": "code",
   "execution_count": 18,
   "metadata": {},
   "outputs": [
    {
     "data": {
      "image/png": "[encoded data removed]",
      "text/plain": [
       "<Figure size 432x288 with 1 Axes>"
      ]
     },
     "metadata": {
      "needs_background": "light"
     },
     "output_type": "display_data"
    }
   ],
   "source": [
    "#Explain how to draw bar plot.\n",
    "from matplotlib import pyplot as plt\n",
    "a1 = [5, 8, 10]\n",
    "b1 = [12, 16, 6]\n",
    "a2 = [6, 9, 11]\n",
    "b2 = [6, 15, 7]\n",
    "plt.bar(a1, b1, align = 'center')\n",
    "plt.bar(a2, b2, color = 'g', align = 'center')\n",
    "plt.title('Bar graph sample')\n",
    "plt.ylabel('Y axis')\n",
    "plt.xlabel('X axis')\n",
    "plt.show()"
   ]
  },
  {
   "cell_type": "code",
   "execution_count": 19,
   "metadata": {},
   "outputs": [
    {
     "data": {
      "image/png": "[encoded data removed]",
      "text/plain": [
       "<Figure size 432x288 with 1 Axes>"
      ]
     },
     "metadata": {
      "needs_background": "light"
     },
     "output_type": "display_data"
    }
   ],
   "source": [
    "#How to draw histogram?\n",
    "from matplotlib import pyplot as plt\n",
    "import numpy as np\n",
    "\n",
    "data = np.array([22, 87, 5, 43, 56, 73, 55, 54, 11, 20, 51, 5, 79, 31, 27])\n",
    "plt.hist(data, bins = [0,20, 40, 60, 80, 100])\n",
    "plt.title('Histogram of age')\n",
    "plt.show()"
   ]
  },
  {
   "cell_type": "code",
   "execution_count": 21,
   "metadata": {},
   "outputs": [
    {
     "data": {
      "image/png": "[encoded data removed]",
      "text/plain": [
       "<Figure size 432x288 with 1 Axes>"
      ]
     },
     "metadata": {
      "needs_background": "light"
     },
     "output_type": "display_data"
    }
   ],
   "source": [
    "#How to draw line chart?\n",
    "import numpy as np\n",
    "from matplotlib import pyplot as plt\n",
    "from matplotlib.backends.backend_pdf import PdfPages\n",
    "\n",
    "x = np.arange(1, 11)\n",
    "y = 2*x+5\n",
    "f = plt.figure()\n",
    "plt.title(\"Line demo\")\n",
    "plt.xlabel('X axis')\n",
    "plt.ylabel('Y axis')\n",
    "plt.plot(x, y)\n",
    "plt.show()"
   ]
  },
  {
   "cell_type": "code",
   "execution_count": 23,
   "metadata": {},
   "outputs": [
    {
     "data": {
      "image/png": "[encoded data removed]",
      "text/plain": [
       "<Figure size 432x288 with 1 Axes>"
      ]
     },
     "metadata": {},
     "output_type": "display_data"
    }
   ],
   "source": [
    "#Draw pie chart?\n",
    "import matplotlib.pyplot as plt\n",
    "\n",
    "labels = ['Milk', 'Ice Cream', 'Cold Drink', 'Lassi']\n",
    "sizes = [48.4, 30.6, 20, 11]\n",
    "colors = ['Yellowgreen', 'lightskyblue', 'lightcoral', 'gold']\n",
    "patches, texts = plt.pie(sizes, colors = colors, shadow = True, startangle = 90)\n",
    "plt.legend(patches, labels, loc='best')\n",
    "plt.axis('equal')\n",
    "plt.tight_layout()\n",
    "plt.show()"
   ]
  },
  {
   "cell_type": "code",
   "execution_count": 3,
   "metadata": {},
   "outputs": [
    {
     "data": {
      "image/png": "[encoded data removed]",
      "text/plain": [
       "<Figure size 432x288 with 1 Axes>"
      ]
     },
     "metadata": {
      "needs_background": "light"
     },
     "output_type": "display_data"
    }
   ],
   "source": [
    "#Draw scatter plot\n",
    "import numpy as np\n",
    "import matplotlib.pyplot as plt\n",
    "\n",
    "N = 100\n",
    "x = np.random.rand(N)\n",
    "y = np.random.rand(N)\n",
    "#colors = (0,100,100)\n",
    "area = np.pi*4\n",
    "\n",
    "plt.scatter(x, y, s = area, alpha = 0.5)\n",
    "plt.title('Scatter plot sample')\n",
    "plt.xlabel('X')\n",
    "plt.ylabel('Y')\n",
    "plt.show()"
   ]
  },
  {
   "cell_type": "code",
   "execution_count": null,
   "metadata": {},
   "outputs": [],
   "source": []
  }
 ],
 "metadata": {
  "kernelspec": {
   "display_name": "Python 3",
   "language": "python",
   "name": "python3"
  },
  "language_info": {
   "codemirror_mode": {
    "name": "ipython",
    "version": 3
   },
   "file_extension": ".py",
   "mimetype": "text/x-python",
   "name": "python",
   "nbconvert_exporter": "python",
   "pygments_lexer": "ipython3",
   "version": "3.8.5"
  }
 },
 "nbformat": 4,
 "nbformat_minor": 4
}
