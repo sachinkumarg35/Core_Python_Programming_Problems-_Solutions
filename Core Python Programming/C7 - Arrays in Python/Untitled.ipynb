{
 "cells": [
  {
   "cell_type": "markdown",
   "metadata": {},
   "source": [
    "### Importing the Array Module"
   ]
  },
  {
   "cell_type": "code",
   "execution_count": 1,
   "metadata": {},
   "outputs": [
    {
     "name": "stdout",
     "output_type": "stream",
     "text": [
      "The array elements are: \n",
      "5\n",
      "6\n",
      "-7\n",
      "8\n"
     ]
    }
   ],
   "source": [
    "#A python program to create an integer type array.\n",
    "#Creating an array.\n",
    "import array\n",
    "a = array.array('i',[5, 6, -7, 8])\n",
    "\n",
    "print(\"The array elements are: \")\n",
    "for element in a:\n",
    "    print(element)"
   ]
  },
  {
   "cell_type": "code",
   "execution_count": 2,
   "metadata": {},
   "outputs": [
    {
     "name": "stdout",
     "output_type": "stream",
     "text": [
      "The array elements are: \n",
      "5\n",
      "6\n",
      "-7\n",
      "8\n"
     ]
    }
   ],
   "source": [
    "#A python program to create an integer type array.\n",
    "#Creating an array \n",
    "from array import *\n",
    "a = array('i', [5, 6, -7, 8])\n",
    "\n",
    "print(\"The array elements are: \")\n",
    "for element in a:\n",
    "    print(element)"
   ]
  },
  {
   "cell_type": "code",
   "execution_count": 4,
   "metadata": {},
   "outputs": [
    {
     "name": "stdout",
     "output_type": "stream",
     "text": [
      "The elements are: \n",
      "a\n",
      "b\n",
      "c\n",
      "d\n",
      "e\n"
     ]
    }
   ],
   "source": [
    "#A Python program to create an array with a group of characters.\n",
    "#Creating an array with characters\n",
    "from array import *\n",
    "arr = array('u',['a', 'b', 'c', 'd', 'e'])\n",
    "\n",
    "print(\"The elements are: \")\n",
    "for ch in arr:\n",
    "    print(ch)"
   ]
  },
  {
   "cell_type": "code",
   "execution_count": 5,
   "metadata": {},
   "outputs": [
    {
     "name": "stdout",
     "output_type": "stream",
     "text": [
      "The arr2 elements are: \n",
      "4.5\n",
      "7.5\n",
      "-10.5\n",
      "12.0\n"
     ]
    }
   ],
   "source": [
    "#A python program to crate one array from another array.\n",
    "#Creating one array from another array\n",
    "from array import *\n",
    "arr1 = array('d', [1.5, 2.5, -3.5, 4])\n",
    "\n",
    "#use same type code and multiply each element of arr1 with 3\n",
    "arr2 = array(arr1.typecode, (a*3 for a in arr1))\n",
    "print(\"The arr2 elements are: \")\n",
    "for i in arr2:\n",
    "    print(i)"
   ]
  },
  {
   "cell_type": "markdown",
   "metadata": {},
   "source": [
    "### Indexing and Slicing on Arrays"
   ]
  },
  {
   "cell_type": "code",
   "execution_count": null,
   "metadata": {},
   "outputs": [],
   "source": []
  },
  {
   "cell_type": "code",
   "execution_count": 6,
   "metadata": {},
   "outputs": [
    {
     "name": "stdout",
     "output_type": "stream",
     "text": [
      "10 20 30 40 50 "
     ]
    }
   ],
   "source": [
    "#A python program to retrieve the elements of an array using array index.\n",
    "#accesing elements of an array using index.\n",
    "from array import *\n",
    "x = array('i', [10, 20, 30, 40, 50])\n",
    "\n",
    "#find number of elements in the array\n",
    "n = len(x)\n",
    "\n",
    "#display array elements using indexing\n",
    "for i in range(n): #repeat from 0 to n-1\n",
    "    print(x[i], end = \" \")"
   ]
  },
  {
   "cell_type": "code",
   "execution_count": 1,
   "metadata": {},
   "outputs": [
    {
     "name": "stdout",
     "output_type": "stream",
     "text": [
      "10 20 30 40 50 "
     ]
    }
   ],
   "source": [
    "#A python program to retrieve elements of an array using while loop.\n",
    "#accessing elements of an array using index.\n",
    "from array import *\n",
    "x = array('i', [10, 20, 30, 40, 50])\n",
    "\n",
    "#find number of elements in the array\n",
    "n = len(x)\n",
    "\n",
    "#display array elements using indexing\n",
    "i = 0\n",
    "while i < n:\n",
    "    print(x[i], end = \" \")\n",
    "    i+=1"
   ]
  },
  {
   "cell_type": "code",
   "execution_count": 11,
   "metadata": {},
   "outputs": [
    {
     "name": "stdout",
     "output_type": "stream",
     "text": [
      "30\n",
      "40\n",
      "50\n"
     ]
    }
   ],
   "source": [
    "#A python program to retrieve and display only a range of elements from an array using slicing.\n",
    "#using slicing to display elements of an array.\n",
    "from array import *\n",
    "x = array('i', [10, 20, 30, 40, 50, 60, 70])\n",
    "\n",
    "#display elements from 2nd to 4th only.\n",
    "for i in x[2:5]:\n",
    "    print(i)"
   ]
  },
  {
   "cell_type": "markdown",
   "metadata": {},
   "source": [
    "### Processing the Arrays"
   ]
  },
  {
   "cell_type": "code",
   "execution_count": 2,
   "metadata": {},
   "outputs": [
    {
     "name": "stdout",
     "output_type": "stream",
     "text": [
      "Original array:  array('i', [10, 20, 30, 40, 50])\n",
      "After appending 30 and 60:  array('i', [10, 20, 30, 40, 50, 30, 60])\n",
      "After inserting 99 in 1st position:  array('i', [10, 99, 20, 30, 40, 50, 30, 60])\n",
      "After removing 20:  array('i', [10, 99, 30, 40, 50, 30, 60])\n",
      "Array after using pop():  array('i', [10, 99, 30, 40, 50, 30])\n",
      "popped element:  60\n",
      "First occurence of a element 30 is at:  2\n",
      "List:  [10, 99, 30, 40, 50, 30]\n",
      "Array:  array('i', [10, 99, 30, 40, 50, 30])\n"
     ]
    }
   ],
   "source": [
    "#A python program to understand various methods of arrays class.\n",
    "#Operations on arrays\n",
    "from array import *\n",
    "\n",
    "#Create an array with int values\n",
    "arr = array('i', [10, 20, 30, 40, 50])\n",
    "print('Original array: ', arr) \n",
    "\n",
    "#append 30 to the array arr\n",
    "arr.append(30)\n",
    "arr.append(60)\n",
    "print(\"After appending 30 and 60: \", arr)\n",
    "\n",
    "#Insert 99 at position number 1 in arr\n",
    "arr.insert(1, 99)\n",
    "print(\"After inserting 99 in 1st position: \", arr)\n",
    "\n",
    "#remove an element from arr\n",
    "arr.remove(20)\n",
    "print(\"After removing 20: \", arr)\n",
    "\n",
    "#remove last element using pop() method\n",
    "n = arr.pop()\n",
    "print(\"Array after using pop(): \", arr)\n",
    "print(\"popped element: \", n)\n",
    "\n",
    "#finding position of element using index() method\n",
    "n = arr.index(30)\n",
    "print(\"First occurence of a element 30 is at: \", n)\n",
    "\n",
    "#convert an array into a list using tolist() method\n",
    "lst = arr.tolist()\n",
    "print(\"List: \", lst)\n",
    "print(\"Array: \", arr)"
   ]
  },
  {
   "cell_type": "code",
   "execution_count": 1,
   "metadata": {},
   "outputs": [
    {
     "name": "stdout",
     "output_type": "stream",
     "text": [
      "Enter marks: 50, 60, 70, 80, 90\n",
      "50\n",
      "60\n",
      "70\n",
      "80\n",
      "90\n",
      "Total marks:  350\n",
      "Percentage:  70.0\n"
     ]
    }
   ],
   "source": [
    "#A python program to sorting student's marks into an array and finding total marks and percentage of marks.\n",
    "from array import *\n",
    "#accept marks from keyboard into a list\n",
    "lst = [int(i) for i in input(\"Enter marks: \").split(',')]\n",
    "#Create an integer array from the above list\n",
    "marks = array('i', lst)\n",
    "\n",
    "#display the marks and find total\n",
    "sum = 0\n",
    "for x in marks:\n",
    "    print(x)\n",
    "    sum = sum+x\n",
    "print(\"Total marks: \", sum)\n",
    "\n",
    "#display percentage\n",
    "n = len(marks) #no of elements in marks array\n",
    "percent = sum/n\n",
    "print(\"Percentage: \", percent)"
   ]
  },
  {
   "cell_type": "code",
   "execution_count": 4,
   "metadata": {},
   "outputs": [
    {
     "name": "stdout",
     "output_type": "stream",
     "text": [
      "How many elements? 5\n",
      "Enter element: 1\n",
      "Enter element: 5\n",
      "Enter element: 4\n",
      "Enter element: 3\n",
      "Enter element: 2\n",
      "Original array:  array('i', [1, 5, 4, 3, 2])\n",
      "Sorted array=  array('i', [2, 3, 4, 5, 1])\n"
     ]
    }
   ],
   "source": [
    "#A python program to sort the array elements using bubble sort technique.\n",
    "#Sorting an array using Bubble sort technique\n",
    "from array import *\n",
    "#Create an empty array to store integers\n",
    "x = array('i', [])\n",
    "\n",
    "#store elements into the array x\n",
    "print(\"How many elements? \", end = \"\")\n",
    "n = int(input()) #accpet input into n\n",
    "\n",
    "for i in range(n): #repeat for n times\n",
    "    print(\"Enter element: \", end = \"\")\n",
    "    x.append(int(input())) #add the element to the array x\n",
    "print(\"Original array: \", x)\n",
    "\n",
    "#bubble sort\n",
    "flag = False #When swapping is done, flag becomes true\n",
    "for i in range(n-1): #i is from 0 to n-1\n",
    "    for j in range(n-1-i): #i is from 0 to one element lesser than i\n",
    "        t = x[j] #swap j and j+1 elements\n",
    "        x[j] = x[j+1]\n",
    "        x[j+1] = t\n",
    "        flag = True #swapping done, hence flag is true\n",
    "    if flag == False: #no swapping means array is in sorted order\n",
    "        break #come out of inner for loop\n",
    "    else:\n",
    "        flag = False #assign initial value flag\n",
    "        \n",
    "print(\"Sorted array= \", x)"
   ]
  },
  {
   "cell_type": "code",
   "execution_count": 6,
   "metadata": {},
   "outputs": [
    {
     "name": "stdout",
     "output_type": "stream",
     "text": [
      "How many elements? 5\n",
      "Enter element: 5\n",
      "Enter element: 20\n",
      "Enter element: 40\n",
      "Enter element: 20\n",
      "Enter element: 55\n",
      "Original array:  array('i', [5, 20, 40, 20, 55])\n",
      "Enter element to search: 20\n",
      "Found at position=  2\n",
      "Found at position=  4\n"
     ]
    }
   ],
   "source": [
    "#A python program to search for the position of an element in an array using sequential search.\n",
    "#searchin an array for an element.\n",
    "from array import *\n",
    "#Create an empty array to store integers\n",
    "x = array('i', [])\n",
    "\n",
    "#store elements into the array x\n",
    "print(\"How many elements? \", end = \"\")\n",
    "n = int(input()) #accept input into n\n",
    "\n",
    "for i in range(n): #repeat for n times\n",
    "    print(\"Enter element: \", end = \"\")\n",
    "    x.append(int(input())) #add the element to the array x\n",
    "    \n",
    "print(\"Original array: \", x)\n",
    "print(\"Enter element to search: \", end = \"\")\n",
    "s = int(input()) #accept element to be searched\n",
    "\n",
    "#linear search or sepuential search\n",
    "flag = False #this becomes True if element is found\n",
    "\n",
    "for i in range(len(x)): #repeat i from 0 to no. of elements\n",
    "    if s == x[i]:\n",
    "        print(\"Found at position= \", i+1)\n",
    "        flag = True\n",
    "if flag == False:\n",
    "    print(\"Not found in the array\")"
   ]
  },
  {
   "cell_type": "code",
   "execution_count": 7,
   "metadata": {},
   "outputs": [
    {
     "name": "stdout",
     "output_type": "stream",
     "text": [
      "How many element? 5\n",
      "Enter element: 20\n",
      "Enter element: 40\n",
      "Enter element: 50\n",
      "Enter element: 20\n",
      "Enter element: 10\n",
      "Original array:  array('i', [20, 40, 50, 20, 10])\n",
      "Enter element to search: 20\n",
      "Found at position=  1\n"
     ]
    }
   ],
   "source": [
    "#A python program to search for the position of an element in an array using index() method.\n",
    "#Searching an array for an element\n",
    "from array import *\n",
    "#create an empty array to store integers\n",
    "x = array('i', [])\n",
    "\n",
    "#store elements into the array x\n",
    "print(\"How many element? \", end = \"\")\n",
    "n = int(input()) #accept input into n\n",
    "\n",
    "for i in range(n): #repeat for n times.\n",
    "    print(\"Enter element: \", end = \"\")\n",
    "    x.append(int(input())) #add the element to the array x\n",
    "    \n",
    "print(\"Original array: \", x)\n",
    "\n",
    "print(\"Enter element to search: \", end = \"\")\n",
    "s = int(input()) #accept element to be searched\n",
    "\n",
    "#index() method gives the location of the element in the array\n",
    "try:\n",
    "    pos = x.index(s)\n",
    "    print(\"Found at position= \", pos+1)\n",
    "    \n",
    "except ValueError: #if element not found then ValueError will rise\n",
    "    print(\"Not found in the array\")"
   ]
  },
  {
   "cell_type": "markdown",
   "metadata": {},
   "source": [
    "### Working with Arrays using numpy"
   ]
  },
  {
   "cell_type": "code",
   "execution_count": 8,
   "metadata": {},
   "outputs": [
    {
     "name": "stdout",
     "output_type": "stream",
     "text": [
      "[10 20 30 40 50]\n"
     ]
    }
   ],
   "source": [
    "#A python program to create a simple array using numpy.\n",
    "#Creating single dimensional array using numpy.\n",
    "import numpy\n",
    "arr = numpy.array([10, 20, 30, 40, 50]) #create array\n",
    "print(arr) #display array"
   ]
  },
  {
   "cell_type": "code",
   "execution_count": 9,
   "metadata": {},
   "outputs": [
    {
     "name": "stdout",
     "output_type": "stream",
     "text": [
      "[10 20 30 40 50]\n"
     ]
    }
   ],
   "source": [
    "#Another version of above program to create an array.\n",
    "#Creating single dimensional array using numpy.\n",
    "import numpy as np\n",
    "arr = np.array([10, 20, 30, 40, 50]) #Create array\n",
    "print(arr) #display array"
   ]
  },
  {
   "cell_type": "code",
   "execution_count": 10,
   "metadata": {},
   "outputs": [
    {
     "name": "stdout",
     "output_type": "stream",
     "text": [
      "[10 20 30 40 50]\n"
     ]
    }
   ],
   "source": [
    "#Another version of above program to create an array\n",
    "#Creating single dimensional array using numpy.\n",
    "from numpy import *\n",
    "arr = array([10, 20, 30, 40, 50]) #create array\n",
    "print(arr) #display array"
   ]
  },
  {
   "cell_type": "markdown",
   "metadata": {},
   "source": [
    "### Creating Arrays using array()"
   ]
  },
  {
   "cell_type": "code",
   "execution_count": 11,
   "metadata": {},
   "outputs": [
    {
     "name": "stdout",
     "output_type": "stream",
     "text": [
      "['a' 'b' 'c' 'd']\n"
     ]
    }
   ],
   "source": [
    "#A python program to create a character type array with a group of characters.\n",
    "#Creating an array with characters\n",
    "from numpy import *\n",
    "arr = array(['a', 'b', 'c', 'd']) #create array\n",
    "print(arr)"
   ]
  },
  {
   "cell_type": "code",
   "execution_count": 12,
   "metadata": {},
   "outputs": [
    {
     "name": "stdout",
     "output_type": "stream",
     "text": [
      "['Delhi' 'Hyderabad' 'Mumbai' 'Ahmedabad']\n"
     ]
    }
   ],
   "source": [
    "#A python program to create a string type array using numpy\n",
    "#Creating an array with characters\n",
    "from numpy import *\n",
    "\n",
    "#Create array\n",
    "arr = array(['Delhi', 'Hyderabad', 'Mumbai', 'Ahmedabad'], dtype = str)\n",
    "print(arr) #display array"
   ]
  },
  {
   "cell_type": "code",
   "execution_count": 13,
   "metadata": {},
   "outputs": [
    {
     "name": "stdout",
     "output_type": "stream",
     "text": [
      "a=  [1 2 3 4 5]\n",
      "b=  [1 2 3 4 5]\n",
      "c=  [1 2 3 4 5]\n"
     ]
    }
   ],
   "source": [
    "#A python program to create an array from another array.\n",
    "#Creating an array feom another array.\n",
    "from numpy import *\n",
    "a = array([1, 2, 3, 4, 5]) #original array\n",
    "b = array(a) #Create b from a using array() function\n",
    "c = a #create c by assigning a to c\n",
    "\n",
    "#Display the arrays\n",
    "print(\"a= \", a)\n",
    "print(\"b= \", b)\n",
    "print(\"c= \", c)"
   ]
  },
  {
   "cell_type": "markdown",
   "metadata": {},
   "source": [
    "### Creating Arrays using linspace"
   ]
  },
  {
   "cell_type": "code",
   "execution_count": 14,
   "metadata": {},
   "outputs": [
    {
     "name": "stdout",
     "output_type": "stream",
     "text": [
      "a=  [ 0.   2.5  5.   7.5 10. ]\n"
     ]
    }
   ],
   "source": [
    "#A python program to creating an array with 5 equal points using linspace\n",
    "#Creating an array using linspace()\n",
    "from numpy import *\n",
    "\n",
    "#Divide 0 to 10 into 5 parts and take those points in the array\n",
    "a = linspace(0, 10, 5)\n",
    "print(\"a= \", a)"
   ]
  },
  {
   "cell_type": "markdown",
   "metadata": {},
   "source": [
    "### Creating Arrays using logspace"
   ]
  },
  {
   "cell_type": "code",
   "execution_count": 15,
   "metadata": {},
   "outputs": [
    {
     "name": "stdout",
     "output_type": "stream",
     "text": [
      "10.0 56.2 316.2 1778.3 10000.0 "
     ]
    }
   ],
   "source": [
    "#A python program to create an array using logspace()\n",
    "#Creating an array using logspace()\n",
    "from numpy import *\n",
    "\n",
    "#Divide the range: 10 power 1 to 10 power 4 into 5 equal parts\n",
    "#and take those points in the array\n",
    "a = logspace(1, 4, 5)\n",
    "\n",
    "#find no. of element in a\n",
    "n = len(a)\n",
    "\n",
    "#repeat from  0 to n-1 times\n",
    "for i in range(n):\n",
    "    print('%.1f' % a[i], end = \" \") #display 1 digit after decimal point"
   ]
  },
  {
   "cell_type": "markdown",
   "metadata": {},
   "source": [
    "### Creating Arrays using arrange() Function"
   ]
  },
  {
   "cell_type": "code",
   "execution_count": 16,
   "metadata": {},
   "outputs": [
    {
     "name": "stdout",
     "output_type": "stream",
     "text": [
      "[ 2  4  6  8 10]\n"
     ]
    }
   ],
   "source": [
    "#A python program to create an array with even numbers up to 10.\n",
    "#Creating an array with even numbers up to 10\n",
    "from numpy import *\n",
    "\n",
    "#Create an array using array() function\n",
    "a = arange(2, 11, 2)\n",
    "print(a)"
   ]
  },
  {
   "cell_type": "markdown",
   "metadata": {},
   "source": [
    "### Creating Arrays using Zeros() and ones() Function"
   ]
  },
  {
   "cell_type": "code",
   "execution_count": 17,
   "metadata": {},
   "outputs": [
    {
     "name": "stdout",
     "output_type": "stream",
     "text": [
      "[0 0 0 0 0]\n",
      "[1. 1. 1. 1. 1.]\n"
     ]
    }
   ],
   "source": [
    "#A python program to create arrays using zeros() and ones().\n",
    "#Creating arrays using zeros() and ones()\n",
    "from numpy import *\n",
    "\n",
    "a = zeros(5, int)\n",
    "print(a)\n",
    "\n",
    "b = ones(5) #default datatype is float\n",
    "print(b)"
   ]
  },
  {
   "cell_type": "markdown",
   "metadata": {},
   "source": [
    "### Mathematical Operations on Arrays"
   ]
  },
  {
   "cell_type": "code",
   "execution_count": 19,
   "metadata": {},
   "outputs": [
    {
     "name": "stdout",
     "output_type": "stream",
     "text": [
      "Original array:  [ 10.   20.   30.5 -40. ]\n",
      "After adding 5:  [ 15.   25.   35.5 -35. ]\n",
      "After subtracting 5:  [  5.   15.   25.5 -45. ]\n",
      "After multiplying with 5:  [  50.   100.   152.5 -200. ]\n",
      "After dividing with 5:  [ 2.   4.   6.1 -8. ]\n",
      "After modulus with 5:  [0.  0.  0.5 0. ]\n",
      "Expression value:  [ 215.    615.   1250.25 1215.  ]\n",
      "Sin values:  [-0.54402111  0.91294525 -0.79312724 -0.74511316]\n",
      "Cos values:  [-0.83907153  0.40808206  0.60905598 -0.66693806]\n",
      "Tan values:  [ 0.64836083  2.23716094 -1.30222389  1.11721493]\n",
      "Biggest element:  30.5\n",
      "Smallest element:  -40.0\n",
      "Sum of all element:  20.5\n",
      "Average of all elements:  5.125\n"
     ]
    }
   ],
   "source": [
    "#A python program to perform some mathematical operations on a numpy array.\n",
    "#mathematical operations on arrays\n",
    "#import all from numpy module\n",
    "from numpy import *\n",
    "\n",
    "#Create a numpy array using array() function\n",
    "arr = array([10, 20, 30.5, -40])\n",
    "print(\"Original array: \", arr)\n",
    "\n",
    "#do arithmatic operations on the elements of the array.\n",
    "print(\"After adding 5: \", arr+5)\n",
    "print(\"After subtracting 5: \", arr-5)\n",
    "print(\"After multiplying with 5: \", arr*5)\n",
    "print(\"After dividing with 5: \", arr/5)\n",
    "print(\"After modulus with 5: \", arr%5)\n",
    "\n",
    "#we can use the arrays in expressions also\n",
    "print(\"Expression value: \", (arr+5)**2-10)\n",
    "\n",
    "#Do some math functions\n",
    "print(\"Sin values: \", sin(arr))\n",
    "print(\"Cos values: \", cos(arr))\n",
    "print(\"Tan values: \", tan(arr))\n",
    "print(\"Biggest element: \", max(arr))\n",
    "print(\"Smallest element: \", min(arr))\n",
    "print(\"Sum of all element: \", sum(arr))\n",
    "print(\"Average of all elements: \", mean(arr))"
   ]
  },
  {
   "cell_type": "markdown",
   "metadata": {},
   "source": [
    "### Comparing Arrays"
   ]
  },
  {
   "cell_type": "code",
   "execution_count": 20,
   "metadata": {},
   "outputs": [
    {
     "name": "stdout",
     "output_type": "stream",
     "text": [
      "Result of a==b:  [False  True  True False]\n",
      "Result of a>b:  [ True False False False]\n",
      "Result of a <= b:  [False  True  True  True]\n"
     ]
    }
   ],
   "source": [
    "#A python program to compare two arrays and display the resultant Boolean type array.\n",
    "#To know the result of comparing two arrays\n",
    "from  numpy import *\n",
    "a = array([1, 2, 3, 0])\n",
    "b = array([0, 2, 3, 1])\n",
    "\n",
    "c = a == b\n",
    "print(\"Result of a==b: \", c)\n",
    "c = a > b\n",
    "print(\"Result of a>b: \", c)\n",
    "c = a <= b\n",
    "print(\"Result of a <= b: \", c)"
   ]
  },
  {
   "cell_type": "code",
   "execution_count": 21,
   "metadata": {},
   "outputs": [
    {
     "name": "stdout",
     "output_type": "stream",
     "text": [
      "Result of a>b:  [ True False False False]\n",
      "Check if any one element is true:  True\n",
      "Check if all elements are true:  False\n",
      "a contains atleast one element greater than those of b\n"
     ]
    }
   ],
   "source": [
    "#A python program to know the effect of any() and all() functions\n",
    "#using any() and all() functions\n",
    "from numpy import *\n",
    "a = array([1, 2, 3, 0])\n",
    "b = array([0, 2, 3, 1])\n",
    "\n",
    "c = a > b\n",
    "print(\"Result of a>b: \", c)\n",
    "\n",
    "print(\"Check if any one element is true: \", any(c))\n",
    "print(\"Check if all elements are true: \", all(c))\n",
    "\n",
    "if (any(a>b)):\n",
    "    print('a contains atleast one element greater than those of b')"
   ]
  },
  {
   "cell_type": "code",
   "execution_count": 22,
   "metadata": {},
   "outputs": [
    {
     "name": "stdout",
     "output_type": "stream",
     "text": [
      "[ True  True  True]\n",
      "[ True  True  True]\n",
      "[ True False False]\n"
     ]
    }
   ],
   "source": [
    "#A python program to understand the use of logical functions on arrays.\n",
    "#using logical_and(), logical_or(), logical_not()\n",
    "from numpy import *\n",
    "a = array([1, 2, 3], int)\n",
    "b = array([0, 2, 3], int)\n",
    "\n",
    "c = logical_and(a>0, a<4)\n",
    "print(c)\n",
    "\n",
    "c = logical_or(b>=0, b == 1)\n",
    "print(c)\n",
    "\n",
    "c = logical_not(b)\n",
    "print(c)"
   ]
  },
  {
   "cell_type": "code",
   "execution_count": 23,
   "metadata": {},
   "outputs": [
    {
     "name": "stdout",
     "output_type": "stream",
     "text": [
      "[10 21 30 40 51]\n"
     ]
    }
   ],
   "source": [
    "#A python program to compare the corresponding elements of two arrays and retrieve the biggest elements.\n",
    "#using where() function.\n",
    "from numpy import *\n",
    "a = array([10, 20, 30, 40, 50], int)\n",
    "b = array([1, 21, 3, 40, 51], int)\n",
    "#if a>b then take element from a else from b\n",
    "c = where(a>b, a, b)\n",
    "print(c)"
   ]
  },
  {
   "cell_type": "code",
   "execution_count": 24,
   "metadata": {},
   "outputs": [
    {
     "name": "stdout",
     "output_type": "stream",
     "text": [
      "[0 1 3 5]\n",
      "[ 1  2 -1  6]\n"
     ]
    }
   ],
   "source": [
    "#A python program to retrieve non zero elements from an array.\n",
    "#using nonzero() function.\n",
    "from numpy import *\n",
    "a = array([1, 2, 0, -1, 0, 6], int)\n",
    "\n",
    "#retrieves indexes of non zero elements from a\n",
    "c = nonzero(a)\n",
    "\n",
    "#display indexes\n",
    "for i in c:\n",
    "    print(i)\n",
    "    \n",
    "#display the elements\n",
    "print(a[c])"
   ]
  },
  {
   "cell_type": "markdown",
   "metadata": {},
   "source": [
    "### Aliasing the Arrays"
   ]
  },
  {
   "cell_type": "code",
   "execution_count": 25,
   "metadata": {},
   "outputs": [
    {
     "name": "stdout",
     "output_type": "stream",
     "text": [
      "Original array:  [1 2 3 4 5]\n",
      "Alias array:  [1 2 3 4 5]\n",
      "After modification: \n",
      "Original array:  [99  2  3  4  5]\n",
      "Alias array:  [99  2  3  4  5]\n"
     ]
    }
   ],
   "source": [
    "#A python program to alias an array and undestand the effect of aliasing.\n",
    "#aliasing an array\n",
    "from numpy import *\n",
    "\n",
    "a = arange(1, 6) #create a with elements 1 to 5.\n",
    "b = a #give another name b to a\n",
    "\n",
    "print(\"Original array: \", a)\n",
    "print(\"Alias array: \", b)\n",
    "\n",
    "b[0] = 99 #modify the element of b\n",
    "print(\"After modification: \")\n",
    "print(\"Original array: \", a)\n",
    "print(\"Alias array: \", a)"
   ]
  },
  {
   "cell_type": "markdown",
   "metadata": {},
   "source": [
    "### Viewing and Copying Arrays"
   ]
  },
  {
   "cell_type": "code",
   "execution_count": 26,
   "metadata": {},
   "outputs": [
    {
     "name": "stdout",
     "output_type": "stream",
     "text": [
      "Original array:  [1 2 3 4 5]\n",
      "New array:  [1 2 3 4 5]\n",
      "After modification: \n",
      "Original array:  [99  2  3  4  5]\n",
      "New array:  [99  2  3  4  5]\n"
     ]
    }
   ],
   "source": [
    "#A python program to create a view of an existing array.\n",
    "#Creating view for an array\n",
    "from numpy import *\n",
    "\n",
    "a = arange(1, 6) #Create a with element 1 to 5.\n",
    "b = a.view() #create a view of a and call it b.\n",
    "print(\"Original array: \", a)\n",
    "print(\"New array: \", b)\n",
    "\n",
    "b[0] = 99 #modify 0th element of b\n",
    "\n",
    "print(\"After modification: \")\n",
    "print(\"Original array: \", a)\n",
    "print(\"New array: \", b)"
   ]
  },
  {
   "cell_type": "code",
   "execution_count": 27,
   "metadata": {},
   "outputs": [
    {
     "name": "stdout",
     "output_type": "stream",
     "text": [
      "Original array:  [1 2 3 4 5]\n",
      "New array:  [1 2 3 4 5]\n",
      "After modification: \n",
      "Original array:  [1 2 3 4 5]\n",
      "New array:  [99  2  3  4  5]\n"
     ]
    }
   ],
   "source": [
    "#A python program to copy an array as another array.\n",
    "#copying an array\n",
    "from numpy import *\n",
    "\n",
    "a = arange(1, 6) #create a with elements 1 to 5.\n",
    "b = a.copy() #create a copy of a and call it b.\n",
    "\n",
    "print(\"Original array: \", a)\n",
    "print(\"New array: \", b)\n",
    "\n",
    "b[0] = 99 #modify 0th element b\n",
    "\n",
    "print(\"After modification: \")\n",
    "print(\"Original array: \", a)\n",
    "print(\"New array: \", b)"
   ]
  },
  {
   "cell_type": "markdown",
   "metadata": {},
   "source": [
    "### Slicing and Indexing in numpy Arrays"
   ]
  },
  {
   "cell_type": "code",
   "execution_count": 28,
   "metadata": {},
   "outputs": [
    {
     "name": "stdout",
     "output_type": "stream",
     "text": [
      "[10 11 12 13 14 15]\n",
      "[11 13 15]\n",
      "[10 11 12 13 14 15]\n",
      "[14 13]\n",
      "[10 11 12 13]\n"
     ]
    }
   ],
   "source": [
    "#A python program to understand slicing operations on arrays. \n",
    "#slicing an array\n",
    "from numpy import *\n",
    "#Create array a with elements 10 to 15.\n",
    "a = arange(10, 16)\n",
    "print(a)\n",
    "\n",
    "#retrieve from 1st to one element prior to 6th element in steps of 2\n",
    "b = a[1:6:2]\n",
    "print(b)\n",
    "\n",
    "#retrieve all elements from a \n",
    "b = a[::]\n",
    "print(b)\n",
    "\n",
    "#retrieve from 6-2 = 4th to one element prior to 2nd element in decreasing step size.\n",
    "b = a[-2:2:-1]\n",
    "print(b)\n",
    "\n",
    "#retrieve from 0th to one element prior to 4th element (6-2= 4th)\n",
    "b = a[:-2:]\n",
    "print(b)"
   ]
  },
  {
   "cell_type": "code",
   "execution_count": 50,
   "metadata": {},
   "outputs": [
    {
     "name": "stdout",
     "output_type": "stream",
     "text": [
      "[10 11 12 13 14]\n",
      "[11 13]\n",
      "11\n",
      "13\n"
     ]
    }
   ],
   "source": [
    "#A Python program to retieve and display elements of a numpy array using indexing.\n",
    "#indexing an array\n",
    "from numpy import*\n",
    "#create array a with elements 10 to 15.\n",
    "a = arange(10, 15)\n",
    "print(a)\n",
    "#retrieve from 1st to one element prior to 6th element in steps of 2\n",
    "a = a[1:6:2]\n",
    "print(a)\n",
    "\n",
    "#display elements using indexing\n",
    "i = 0\n",
    "while (i < len(a)):\n",
    "    print(a[i])\n",
    "    i += 1"
   ]
  },
  {
   "cell_type": "markdown",
   "metadata": {},
   "source": [
    "### Indexing in Multi-dimensional Arrays"
   ]
  },
  {
   "cell_type": "code",
   "execution_count": 31,
   "metadata": {},
   "outputs": [
    {
     "name": "stdout",
     "output_type": "stream",
     "text": [
      "[1, 2, 3]\n",
      "[4, 5, 6]\n",
      "[7, 8, 9]\n",
      "1 2 3 4 5 6 7 8 9 "
     ]
    }
   ],
   "source": [
    "#A python program to retrieve the elements from a 2D array and display them using for loops.\n",
    "#retrieving the elements from a 2D array using indexing\n",
    "from numpy import *\n",
    "\n",
    "#create a 2D array with 3 rows and 3 cols\n",
    "a = [[1,2,3], [4, 5, 6], [7, 8, 9]]\n",
    "\n",
    "#display only rows\n",
    "for i in range(len(a)):\n",
    "    print(a[i])\n",
    "    \n",
    "#display element by element\n",
    "for i in range(len(a)):\n",
    "    for j in range(len(a[i])):\n",
    "        print(a[i][j], end=' ')"
   ]
  },
  {
   "cell_type": "code",
   "execution_count": 32,
   "metadata": {},
   "outputs": [
    {
     "name": "stdout",
     "output_type": "stream",
     "text": [
      "1\t2\t3\t\n",
      "4\t5\t6\t\n",
      "\n",
      "7\t8\t9\t\n",
      "10\t11\t12\t\n",
      "\n"
     ]
    }
   ],
   "source": [
    "#A python program to retrieve the elements from a 3D array.\n",
    "#Retrieving the elements from a 3D array using indexing.\n",
    "from numpy import *\n",
    "#Create a 3D arrray with size 2*2*3\n",
    "a = [[[1,2,3],\n",
    "    [4,5,6]],\n",
    "\n",
    "    [[7,8,9],\n",
    "    [10,11,12]]]\n",
    "\n",
    "#display element by element\n",
    "for i in range(len(a)):\n",
    "    for j in range(len(a[i])):\n",
    "        for k in range(len(a[i][j])):\n",
    "            print(a[i][j][k], end='\\t')\n",
    "        print()\n",
    "    print()"
   ]
  },
  {
   "cell_type": "markdown",
   "metadata": {},
   "source": [
    "### Transpose of a Matrix"
   ]
  },
  {
   "cell_type": "code",
   "execution_count": 33,
   "metadata": {},
   "outputs": [
    {
     "name": "stdout",
     "output_type": "stream",
     "text": [
      "Enter rows, cols: 2 3\n",
      "Enter matrix elements:\n",
      " 1 2 3 4 5 6\n",
      "The original matrix: \n",
      "[[1 2 3]\n",
      " [4 5 6]]\n",
      "The transpose matrix: \n",
      "[[1 4]\n",
      " [2 5]\n",
      " [3 6]]\n"
     ]
    }
   ],
   "source": [
    "#A python program to accept a matrix from the keyboard and display its transpose matrix.\n",
    "#transpose of a matrix\n",
    "from numpy import *\n",
    "\n",
    "#accept number of rows and cols into r, c\n",
    "r, c = [int(a) for a in input(\"Enter rows, cols: \").split()]\n",
    "\n",
    "#accept matrix elements as a string into str\n",
    "str = input(\"Enter matrix elements:\\n \")\n",
    "\n",
    "#convert the string into a matrix with size r*c\n",
    "x = reshape(matrix(str), (r, c))\n",
    "print(\"The original matrix: \")\n",
    "print(x)\n",
    "\n",
    "print(\"The transpose matrix: \")\n",
    "y = x.transpose()\n",
    "print(y)"
   ]
  },
  {
   "cell_type": "markdown",
   "metadata": {},
   "source": [
    "\n",
    "### Matrix Addition and Multiplication"
   ]
  },
  {
   "cell_type": "code",
   "execution_count": 34,
   "metadata": {},
   "outputs": [
    {
     "name": "stdout",
     "output_type": "stream",
     "text": [
      "First matrix rows, cols: 2 3\n",
      "Second matrix rows, cols: 3 2\n",
      "Enter first matrix elements:\n",
      " 1 2 3 4 5 6\n",
      "Enter second matrix elements:\n",
      " 1 0 0 2 1 -1\n",
      "The product matrix: \n",
      "[[ 4  1]\n",
      " [10  4]]\n"
     ]
    }
   ],
   "source": [
    "#A python program to accept two matrices and find their product.\n",
    "#matrix multiplication\n",
    "import sys\n",
    "from numpy import *\n",
    "\n",
    "#accept number of rows and cols of first matrix into r1, c1\n",
    "r1, c1 = [int(a) for a in input(\"First matrix rows, cols: \").split()]\n",
    "\n",
    "#accept number of rows and cols of second matrix r2, c2\n",
    "r2, c2 = [int(a) for a in input(\"Second matrix rows, cols: \").split()]\n",
    "\n",
    "#test the condition if c1 != r2, then multiplication is not possible\n",
    "if c1 != r2:\n",
    "    print(\"Multiplication is not possible\")\n",
    "    sys.exit() #terminate the program\n",
    "    \n",
    "#accept first matrix elements as a string into str1\n",
    "str1 = input(\"Enter first matrix elements:\\n \")\n",
    "\n",
    "#Convert str1 into a matrix with size r1*c1\n",
    "x = reshape(matrix(str1), (r1, c1))\n",
    "\n",
    "#accept second matrix elements as a string into str2\n",
    "str2 = input(\"Enter second matrix elements:\\n \")\n",
    "\n",
    "#convert str2 into a matrix with size r2*c2\n",
    "y = reshape(matrix(str2), (r2, c2))\n",
    "print(\"The product matrix: \")\n",
    "z = x*y\n",
    "print(z)"
   ]
  },
  {
   "cell_type": "code",
   "execution_count": null,
   "metadata": {},
   "outputs": [],
   "source": [
    "#A python program to accept two matrices and find their product.\n",
    "#matrix multiplication\n",
    "import sys\n",
    "from numpy import *\n",
    "\n",
    "#accept number of rows and cols of first matrix into r1, c1\n",
    "r1, c1 = [int(a) for a in input(\"First matrix rows, cols: \").split()]\n",
    "\n",
    "#accept number of rows and cols of second matrix r2, c2\n",
    "r2, c2 = [int(a) for a in input(\"Second matrix rows, cols: \").split()]\n",
    "\n",
    "#test the condition if c1 != r2, then multiplication is not possible\n",
    "if c1 != r2:\n",
    "    print(\"Multiplication is not possible\")\n",
    "    sys.exit() #terminate the program\n",
    "    \n",
    "#accept first matrix elements as a string into str1\n",
    "str1 = input(\"Enter first matrix elements:\\n \")\n",
    "\n",
    "#Convert str1 into a matrix with size r1*c1\n",
    "x = reshape(matrix(str1), (r1, c1))\n",
    "\n",
    "#accept second matrix elements as a string into str2\n",
    "str2 = input(\"Enter second matrix elements:\\n \")\n",
    "\n",
    "#convert str2 into a matrix with size r2*c2\n",
    "y = reshape(matrix(str2), (r2, c2))\n",
    "print(\"The product matrix: \")\n",
    "z = x*y\n",
    "print(z)"
   ]
  },
  {
   "cell_type": "code",
   "execution_count": null,
   "metadata": {},
   "outputs": [],
   "source": []
  }
 ],
 "metadata": {
  "kernelspec": {
   "display_name": "Python 3 (ipykernel)",
   "language": "python",
   "name": "python3"
  },
  "language_info": {
   "codemirror_mode": {
    "name": "ipython",
    "version": 3
   },
   "file_extension": ".py",
   "mimetype": "text/x-python",
   "name": "python",
   "nbconvert_exporter": "python",
   "pygments_lexer": "ipython3",
   "version": "3.10.9"
  }
 },
 "nbformat": 4,
 "nbformat_minor": 4
}
