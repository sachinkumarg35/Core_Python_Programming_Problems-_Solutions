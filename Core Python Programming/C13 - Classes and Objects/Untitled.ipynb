{
 "cells": [
  {
   "cell_type": "markdown",
   "metadata": {},
   "source": [
    "### Creating a Class"
   ]
  },
  {
   "cell_type": "code",
   "execution_count": 1,
   "metadata": {},
   "outputs": [
    {
     "name": "stdout",
     "output_type": "stream",
     "text": [
      "Hi, I am Vishnu\n",
      "My age is 20\n",
      "My marks are 900\n"
     ]
    }
   ],
   "source": [
    "#A python program to define Student class and create an object to it. Also, we \n",
    "#will call the method and display the student;s details\n",
    "#instance variables and instance method.\n",
    "class Student:\n",
    "    #this is a special method called constructor.\n",
    "    def __init__(self):\n",
    "        self.name = 'Vishnu'\n",
    "        self.age = 20\n",
    "        self.marks = 900\n",
    "        \n",
    "#this is an instance method\n",
    "    def talk(self):\n",
    "        print('Hi, I am', self.name)\n",
    "        print('My age is', self.age)\n",
    "        print('My marks are', self.marks)\n",
    "    \n",
    "#create an instance to student class.\n",
    "s1 = Student()\n",
    "\n",
    "#call the method using the instance.\n",
    "s1.talk()"
   ]
  },
  {
   "cell_type": "markdown",
   "metadata": {},
   "source": [
    "### Constructor"
   ]
  },
  {
   "cell_type": "code",
   "execution_count": 2,
   "metadata": {},
   "outputs": [
    {
     "name": "stdout",
     "output_type": "stream",
     "text": [
      "Hi \n",
      "Your marks 0\n",
      "----------------\n",
      "Hi Laksmi Roy\n",
      "Your marks 880\n",
      "------------------\n"
     ]
    }
   ],
   "source": [
    "#A python program to create student class with a constructor having more than one parameter.\n",
    "#instance var and instance method\n",
    "class Student:\n",
    "    \"Thsi is a constructor\"\n",
    "    def __init__(self, n = '', m = 0):\n",
    "        self.name = n\n",
    "        self.marks = m\n",
    "        \n",
    "    \"This is an instance method\"\n",
    "    def display(self):\n",
    "        print('Hi', self.name)\n",
    "        print('Your marks', self.marks)\n",
    "        \n",
    "#constructor is called without any arguments\n",
    "s = Student()\n",
    "s.display()\n",
    "print('----------------')\n",
    "\n",
    "#constructor is called with 2 arguments\n",
    "s1 = Student('Laksmi Roy', 880)\n",
    "s1.display()\n",
    "print('------------------')"
   ]
  },
  {
   "cell_type": "markdown",
   "metadata": {},
   "source": [
    "### Types of Variables"
   ]
  },
  {
   "cell_type": "code",
   "execution_count": 3,
   "metadata": {},
   "outputs": [
    {
     "name": "stdout",
     "output_type": "stream",
     "text": [
      "x in s1=  10\n",
      "x in s2=  10\n",
      "x in s1=  11\n",
      "x in s2=  10\n"
     ]
    }
   ],
   "source": [
    "#A python program to understand instance variables.\n",
    "#instance vars example.\n",
    "class Sample:\n",
    "    #this is a constructor.\n",
    "    def __init__(self):\n",
    "        self.x = 10\n",
    "        \n",
    "    #this is an instance method.\n",
    "    def modify(self):\n",
    "        self.x+=1\n",
    "    \n",
    "#create 2 instances\n",
    "s1 = Sample()\n",
    "s2 = Sample()\n",
    "print('x in s1= ', s1.x)\n",
    "print('x in s2= ', s2.x)\n",
    "\n",
    "#modify x in s1\n",
    "s1.modify()\n",
    "print('x in s1= ', s1.x)\n",
    "print('x in s2= ', s2.x)"
   ]
  },
  {
   "cell_type": "code",
   "execution_count": 4,
   "metadata": {},
   "outputs": [
    {
     "name": "stdout",
     "output_type": "stream",
     "text": [
      "x in s1=  10\n",
      "x in s2=  10\n",
      "x in s1=  11\n",
      "x in s2=  11\n"
     ]
    }
   ],
   "source": [
    "#A python program to understand class variables or static variables.\n",
    "#class vars or static vars example\n",
    "class Sample:\n",
    "    # this is a class var\n",
    "    x = 10\n",
    "    \n",
    "    #this is a class method.\n",
    "    @classmethod\n",
    "    def modify(cls):\n",
    "        cls.x+=1\n",
    "        \n",
    "#create 2 instances\n",
    "s1 = Sample()\n",
    "s2 = Sample()\n",
    "print('x in s1= ', s1.x)\n",
    "print('x in s2= ', s2.x)\n",
    "\n",
    "#modify x in s1\n",
    "s1.modify()\n",
    "print('x in s1= ', s1.x)\n",
    "print('x in s2= ', s2.x)"
   ]
  },
  {
   "cell_type": "markdown",
   "metadata": {},
   "source": [
    "### Types of Methods\n",
    "#### Instance Methods"
   ]
  },
  {
   "cell_type": "code",
   "execution_count": 5,
   "metadata": {},
   "outputs": [
    {
     "name": "stdout",
     "output_type": "stream",
     "text": [
      "How many students? 3\n",
      "Enter name: Vishnu vardhan\n",
      "Enter marks: 800\n",
      "Hi Vishnu vardhan\n",
      "Your marks 800\n",
      "You got first grade\n",
      "------------------\n",
      "Enter name: Tilak prabhu\n",
      "Enter marks: 360\n",
      "Hi Tilak prabhu\n",
      "Your marks 360\n",
      "You got third grade\n",
      "------------------\n",
      "Enter name: Gunasheela\n",
      "Enter marks: 550\n",
      "Hi Gunasheela\n",
      "Your marks 550\n",
      "You got second grade\n",
      "------------------\n"
     ]
    }
   ],
   "source": [
    "#A python program using a student class with instance methods to process the data of several students.\n",
    "#instance methods to process data of the objects\n",
    "class Student:\n",
    "    def __init__(self, n='', m=0):\n",
    "        self.name = n\n",
    "        self.marks = m\n",
    "    #this is an instance method\n",
    "    def display(self):\n",
    "        print('Hi', self.name)\n",
    "        print('Your marks', self.marks)\n",
    "        \n",
    "    #to calculate grades based on marks.\n",
    "    def calculate(self):\n",
    "        if(self.marks>=600):\n",
    "            print('You got first grade')\n",
    "        elif(self.marks>=500):\n",
    "            print('You got second grade')\n",
    "        elif(self.marks>=350):\n",
    "            print('You got third grade')\n",
    "        else:\n",
    "            print('You are failed')\n",
    "            \n",
    "#Create instances with some data from keyboard\n",
    "n = int(input('How many students? '))\n",
    "\n",
    "i = 0\n",
    "while (i<n):\n",
    "    name = input(\"Enter name: \")\n",
    "    marks = int(input(\"Enter marks: \"))\n",
    "    \n",
    "    #create student class instance and store data\n",
    "    s = Student(name, marks)\n",
    "    s.display()\n",
    "    s.calculate()\n",
    "    i+=1\n",
    "    print('------------------')"
   ]
  },
  {
   "cell_type": "code",
   "execution_count": 6,
   "metadata": {},
   "outputs": [
    {
     "name": "stdout",
     "output_type": "stream",
     "text": [
      "How many students? 2\n",
      "Enter name: Vinay krishna\n",
      "Enter marks: 890\n",
      "Hi Vinay krishna\n",
      "Your marks 890\n",
      "---------------\n",
      "Enter name: Vimala Rao\n",
      "Enter marks: 750\n",
      "Hi Vimala Rao\n",
      "Your marks 750\n",
      "---------------\n"
     ]
    }
   ],
   "source": [
    "#A python program to store data into instances using mutator methods and to retrieve data from the instances using accessor methods\n",
    "#accessor and mutator methods\n",
    "class Student:\n",
    "    \n",
    "    #mutator method\n",
    "    def setName(self, name):\n",
    "        self.name = name\n",
    "        \n",
    "    #accessor method\n",
    "    def getName(self):\n",
    "        return self.name\n",
    "    \n",
    "    #mutator method\n",
    "    def setMarks(self, marks):\n",
    "        self.marks = marks\n",
    "    \n",
    "    #accessor method\n",
    "    def getMarks(self):\n",
    "        return self.marks\n",
    "    \n",
    "#create instances with some data from keyboard\n",
    "n = int(input(\"How many students? \"))\n",
    "\n",
    "i = 0\n",
    "while (i<n):\n",
    "    #Create Student class instance\n",
    "    s = Student()\n",
    "    name = input('Enter name: ')\n",
    "    s.setName(name)\n",
    "    marks = int(input('Enter marks: '))\n",
    "    s.setMarks(marks)\n",
    "    \n",
    "    #retrieve data from student class instance.\n",
    "    print('Hi', s.getName())\n",
    "    print('Your marks', s.getMarks())\n",
    "    \n",
    "    i+=1\n",
    "    print('---------------')"
   ]
  },
  {
   "cell_type": "markdown",
   "metadata": {},
   "source": [
    "#### Class Methods"
   ]
  },
  {
   "cell_type": "code",
   "execution_count": 9,
   "metadata": {},
   "outputs": [
    {
     "name": "stdout",
     "output_type": "stream",
     "text": [
      "Sparrow flies with 2 wings\n",
      "Pigeon flies with 2 wings\n"
     ]
    }
   ],
   "source": [
    "#A python program to use class method to handle the common features of all the instances of Bird class.\n",
    "#understanding class methods\n",
    "class Bird:\n",
    "    #this is a class var\n",
    "    wings = 2\n",
    "    \n",
    "    #this is a class method\n",
    "    @classmethod\n",
    "    def fly(cls, name):\n",
    "        print('{} flies with {} wings'.format(name, cls.wings))\n",
    "        \n",
    "#display information for 2 birds\n",
    "Bird.fly('Sparrow')\n",
    "Bird.fly('Pigeon')"
   ]
  },
  {
   "cell_type": "markdown",
   "metadata": {},
   "source": [
    "#### Static Methods"
   ]
  },
  {
   "cell_type": "code",
   "execution_count": 11,
   "metadata": {},
   "outputs": [
    {
     "name": "stdout",
     "output_type": "stream",
     "text": [
      "No. of instances created:  3\n"
     ]
    }
   ],
   "source": [
    "#A python program to create a static method that counts the number of instances created for a class.\n",
    "#understanding static methods\n",
    "class MyClass:\n",
    "    #this is class var or static var\n",
    "    n = 0\n",
    "    #Constructor that increments n when an instance is created\n",
    "    def __init__(self):\n",
    "        MyClass.n = MyClass.n+1\n",
    "        \n",
    "    #this is a static method to display the no. of instances\n",
    "    @staticmethod\n",
    "    def noObjects():\n",
    "        print('No. of instances created: ', MyClass.n)\n",
    "        \n",
    "#create 3 instances\n",
    "obj1 = MyClass()\n",
    "obj2 = MyClass()\n",
    "obj3 = MyClass()\n",
    "MyClass.noObjects()"
   ]
  },
  {
   "cell_type": "code",
   "execution_count": 12,
   "metadata": {},
   "outputs": [
    {
     "name": "stdout",
     "output_type": "stream",
     "text": [
      "Enter a number: 49\n",
      "The square root of 49.0 is 7.00\n"
     ]
    }
   ],
   "source": [
    "#A python program to create a static method that calculates the square root value of a given number.\n",
    "#A static method to find square root value.\n",
    "import math\n",
    "class Sample:\n",
    "    @staticmethod\n",
    "    def calculate(x):\n",
    "        result = math.sqrt(x)\n",
    "        return result\n",
    "    \n",
    "#accept a number from keyboard\n",
    "num = float(input('Enter a number: '))\n",
    "\n",
    "#call the static method and pass num\n",
    "res = Sample.calculate(num)\n",
    "print('The square root of {} is {:.2f}'.format(num, res))"
   ]
  },
  {
   "cell_type": "code",
   "execution_count": 16,
   "metadata": {},
   "outputs": [
    {
     "name": "stdout",
     "output_type": "stream",
     "text": [
      "Enter name: Madhuri\n",
      "d -Deposit, w -Withdraw, e -Exit\n",
      "Your Choice: d\n",
      "Enter amount: 10000\n",
      "Balance after deposit:  10000.0\n",
      "d -Deposit, w -Withdraw, e -Exit\n",
      "Your Choice: w\n",
      "Enter amount: 3500\n",
      "Balance after withdrawal:  6500.0\n",
      "d -Deposit, w -Withdraw, e -Exit\n",
      "Your Choice: e\n"
     ]
    },
    {
     "ename": "SystemExit",
     "evalue": "",
     "output_type": "error",
     "traceback": [
      "An exception has occurred, use %tb to see the full traceback.\n",
      "\u001b[1;31mSystemExit\u001b[0m\n"
     ]
    },
    {
     "name": "stderr",
     "output_type": "stream",
     "text": [
      "C:\\Users\\HP\\anaconda3\\lib\\site-packages\\IPython\\core\\interactiveshell.py:3426: UserWarning: To exit: use 'exit', 'quit', or Ctrl-D.\n",
      "  warn(\"To exit: use 'exit', 'quit', or Ctrl-D.\", stacklevel=1)\n"
     ]
    }
   ],
   "source": [
    "#A python program to create a Bank class where deposit and withdrawals can be handled by using instance methods.\n",
    "#A class to handle deposits and withdrawals in a bank\n",
    "import sys\n",
    "class Bank(object):\n",
    "    \"\"\" Bank related transactions \"\"\"\n",
    "    \n",
    "    #to initialize name and balance instance vars\n",
    "    def __init__(self, name, balance=0.0):\n",
    "        self.name = name\n",
    "        self.balance = balance\n",
    "        \n",
    "    #to add deposit amount to balance\n",
    "    def deposit(self, amount):\n",
    "        self.balance += amount\n",
    "        return self.balance\n",
    "    \n",
    "    #to deduct withdrawals amount from balance\n",
    "    def withdraw(self, amount):\n",
    "        if amount > self.balance:\n",
    "            print('Balance amount is less, so no withdrawal.')\n",
    "        else:\n",
    "            self.balance -= amount\n",
    "        return self.balance\n",
    "    \n",
    "#using the Bank class\n",
    "#create an account with the given name and balance 0.00\n",
    "name = input('Enter name: ')\n",
    "b = Bank(name) #this is instance of Bank Class\n",
    "\n",
    "#repeat continuously till choice is 'e' or 'E'.\n",
    "while(True):\n",
    "    print('d -Deposit, w -Withdraw, e -Exit')\n",
    "    Choice = input('Your Choice: ')\n",
    "    if Choice == 'e' or Choice == 'E':\n",
    "        sys.exit()\n",
    "    #amount for deposit or withdraw\n",
    "    amt = float(input('Enter amount: '))\n",
    "    \n",
    "    #do the transaction\n",
    "    if Choice == 'd' or Choice == 'D':\n",
    "        print('Balance after deposit: ', b.deposit(amt))\n",
    "    elif Choice == 'w' or Choice == 'W':\n",
    "        print('Balance after withdrawal: ', b.withdraw(amt))"
   ]
  },
  {
   "cell_type": "markdown",
   "metadata": {},
   "source": [
    "### Passing Members of One Class to Another Class"
   ]
  },
  {
   "cell_type": "code",
   "execution_count": 4,
   "metadata": {},
   "outputs": [
    {
     "name": "stdout",
     "output_type": "stream",
     "text": [
      "Id=  10\n",
      "Name=  Raj kumar\n",
      "Salary=  16000.75\n"
     ]
    }
   ],
   "source": [
    "#A python program to create Emp class and make all the members of the Emp class available to another class, i.e., Myclass.\n",
    "#this class contains employee details\n",
    "class Emp:\n",
    "    #this is a constructor\n",
    "    def __init__(self, id, name, salary):\n",
    "        self.id = id\n",
    "        self.name = name\n",
    "        self.salary = salary\n",
    "        \n",
    "    #this is an instance method\n",
    "    def display(self):\n",
    "        print('Id= ', self.id)\n",
    "        print('Name= ', self.name)\n",
    "        print('Salary= ', self.salary)\n",
    "        \n",
    "#this class displays employee details\n",
    "class Myclass:\n",
    "    #method to retrieve Emp class instance\n",
    "    #and display employee details\n",
    "    @staticmethod\n",
    "    def mymethod(e):\n",
    "        #increment salary of e by 1000\n",
    "        e.salary+=1000\n",
    "        e.display()\n",
    "        \n",
    "#create Emp class instance e\n",
    "e = Emp(10, 'Raj kumar', 15000.75)\n",
    "#call static method of Myclass and pass e\n",
    "Myclass.mymethod(e)"
   ]
  },
  {
   "cell_type": "code",
   "execution_count": 5,
   "metadata": {},
   "outputs": [
    {
     "name": "stdout",
     "output_type": "stream",
     "text": [
      "5 to the power of 3 is 125\n",
      "5 to the power of 4 is 625\n"
     ]
    }
   ],
   "source": [
    "#A python program to calculate power value of a number with the help of a static method\n",
    "#another example for static method\n",
    "class Myclass:\n",
    "    #method to calculate x to the power of n\n",
    "    @staticmethod\n",
    "    def mymethod(x, n):\n",
    "        result = x**n\n",
    "        print('{} to the power of {} is {}'.format(x, n, result))\n",
    "        \n",
    "#call the static method\n",
    "Myclass.mymethod(5, 3)\n",
    "Myclass.mymethod(5, 4)"
   ]
  },
  {
   "cell_type": "markdown",
   "metadata": {},
   "source": [
    "### Inner Classes"
   ]
  },
  {
   "cell_type": "code",
   "execution_count": 7,
   "metadata": {},
   "outputs": [
    {
     "ename": "AttributeError",
     "evalue": "'Person' object has no attribute 'Dob'",
     "output_type": "error",
     "traceback": [
      "\u001b[1;31m---------------------------------------------------------------------------\u001b[0m",
      "\u001b[1;31mAttributeError\u001b[0m                            Traceback (most recent call last)",
      "\u001b[1;32m<ipython-input-7-64585805c8fd>\u001b[0m in \u001b[0;36m<module>\u001b[1;34m\u001b[0m\n\u001b[0;32m     19\u001b[0m \u001b[1;33m\u001b[0m\u001b[0m\n\u001b[0;32m     20\u001b[0m \u001b[1;31m#creating Person class object\u001b[0m\u001b[1;33m\u001b[0m\u001b[1;33m\u001b[0m\u001b[1;33m\u001b[0m\u001b[0m\n\u001b[1;32m---> 21\u001b[1;33m \u001b[0mp\u001b[0m \u001b[1;33m=\u001b[0m \u001b[0mPerson\u001b[0m\u001b[1;33m(\u001b[0m\u001b[1;33m)\u001b[0m\u001b[1;33m\u001b[0m\u001b[1;33m\u001b[0m\u001b[0m\n\u001b[0m\u001b[0;32m     22\u001b[0m \u001b[0mp\u001b[0m\u001b[1;33m.\u001b[0m\u001b[0mdisplay\u001b[0m\u001b[1;33m(\u001b[0m\u001b[1;33m)\u001b[0m\u001b[1;33m\u001b[0m\u001b[1;33m\u001b[0m\u001b[0m\n\u001b[0;32m     23\u001b[0m \u001b[1;33m\u001b[0m\u001b[0m\n",
      "\u001b[1;32m<ipython-input-7-64585805c8fd>\u001b[0m in \u001b[0;36m__init__\u001b[1;34m(self)\u001b[0m\n\u001b[0;32m      4\u001b[0m     \u001b[1;32mdef\u001b[0m \u001b[0m__init__\u001b[0m\u001b[1;33m(\u001b[0m\u001b[0mself\u001b[0m\u001b[1;33m)\u001b[0m\u001b[1;33m:\u001b[0m\u001b[1;33m\u001b[0m\u001b[1;33m\u001b[0m\u001b[0m\n\u001b[0;32m      5\u001b[0m         \u001b[0mself\u001b[0m\u001b[1;33m.\u001b[0m\u001b[0mname\u001b[0m \u001b[1;33m=\u001b[0m \u001b[1;34m'Charles'\u001b[0m\u001b[1;33m\u001b[0m\u001b[1;33m\u001b[0m\u001b[0m\n\u001b[1;32m----> 6\u001b[1;33m         \u001b[0mself\u001b[0m\u001b[1;33m.\u001b[0m\u001b[0mdb\u001b[0m \u001b[1;33m=\u001b[0m \u001b[0mself\u001b[0m\u001b[1;33m.\u001b[0m\u001b[0mDob\u001b[0m\u001b[1;33m(\u001b[0m\u001b[1;33m)\u001b[0m\u001b[1;33m\u001b[0m\u001b[1;33m\u001b[0m\u001b[0m\n\u001b[0m\u001b[0;32m      7\u001b[0m \u001b[1;33m\u001b[0m\u001b[0m\n\u001b[0;32m      8\u001b[0m     \u001b[1;32mdef\u001b[0m \u001b[0mdisplay\u001b[0m\u001b[1;33m(\u001b[0m\u001b[0mself\u001b[0m\u001b[1;33m)\u001b[0m\u001b[1;33m:\u001b[0m\u001b[1;33m\u001b[0m\u001b[1;33m\u001b[0m\u001b[0m\n",
      "\u001b[1;31mAttributeError\u001b[0m: 'Person' object has no attribute 'Dob'"
     ]
    }
   ],
   "source": [
    "#A python program to create Dob class within Person class.\n",
    "#inner class example\n",
    "class Person:\n",
    "    def __init__(self):\n",
    "        self.name = 'Charles'\n",
    "        self.db = self.Dob()\n",
    "        \n",
    "    def display(self):\n",
    "        print('Name= ', self.name)\n",
    "        \n",
    "#this is inner class\n",
    "class Dob:\n",
    "    def __init__(self):\n",
    "        self.dd = 10\n",
    "        self.mm = 5\n",
    "        self.yy = 1988\n",
    "    def display(self):\n",
    "        print('Dob= {}/{}/{}'.format(self.dd, self.mm, self.yy))\n",
    "            \n",
    "#creating Person class object\n",
    "p = Person()\n",
    "p.display()\n",
    "\n",
    "#create inner class object\n",
    "x = p.db()\n",
    "x.display()\n",
    "x = Person().Dob()\n",
    "x.display()\n",
    "print(x.yy)"
   ]
  },
  {
   "cell_type": "code",
   "execution_count": 2,
   "metadata": {},
   "outputs": [
    {
     "name": "stdout",
     "output_type": "stream",
     "text": [
      "Name=  Charles\n",
      "Dob= 10/5/1988\n",
      "1988\n"
     ]
    }
   ],
   "source": [
    "#A python program to create another version of Dob class within Person class\n",
    "#inner class Example\n",
    "class Person:\n",
    "    def __init__(self):\n",
    "        self.name = 'Charles'\n",
    "        \n",
    "    def display(self):\n",
    "        print('Name= ', self.name)\n",
    "        \n",
    "    #this is inner class\n",
    "    class Dob:\n",
    "        def __init__(self):\n",
    "            self.dd = 10\n",
    "            self.mm = 5\n",
    "            self.yy = 1988\n",
    "            \n",
    "        def display(self):\n",
    "            print('Dob= {}/{}/{}'.format(self.dd, self.mm, self.yy))\n",
    "            \n",
    "#creating Person class object\n",
    "p = Person()\n",
    "p.display()\n",
    "#create Dob class object as sub object to Person class object\n",
    "x = Person().Dob()\n",
    "x.display()\n",
    "print(x.yy)"
   ]
  },
  {
   "cell_type": "code",
   "execution_count": null,
   "metadata": {},
   "outputs": [],
   "source": []
  }
 ],
 "metadata": {
  "kernelspec": {
   "display_name": "Python 3",
   "language": "python",
   "name": "python3"
  },
  "language_info": {
   "codemirror_mode": {
    "name": "ipython",
    "version": 3
   },
   "file_extension": ".py",
   "mimetype": "text/x-python",
   "name": "python",
   "nbconvert_exporter": "python",
   "pygments_lexer": "ipython3",
   "version": "3.8.5"
  }
 },
 "nbformat": 4,
 "nbformat_minor": 4
}
