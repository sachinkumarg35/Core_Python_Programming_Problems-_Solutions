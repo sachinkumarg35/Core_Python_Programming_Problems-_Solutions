{
 "cells": [
  {
   "cell_type": "markdown",
   "metadata": {},
   "source": [
    "### Errors in a program\n",
    "#### Compile-Time Errors"
   ]
  },
  {
   "cell_type": "code",
   "execution_count": 1,
   "metadata": {},
   "outputs": [
    {
     "ename": "SyntaxError",
     "evalue": "invalid syntax (<ipython-input-1-6736941c3515>, line 4)",
     "output_type": "error",
     "traceback": [
      "\u001b[1;36m  File \u001b[1;32m\"<ipython-input-1-6736941c3515>\"\u001b[1;36m, line \u001b[1;32m4\u001b[0m\n\u001b[1;33m    if x == 1\u001b[0m\n\u001b[1;37m             ^\u001b[0m\n\u001b[1;31mSyntaxError\u001b[0m\u001b[1;31m:\u001b[0m invalid syntax\n"
     ]
    }
   ],
   "source": [
    "#A python program to understand the compile-time error.\n",
    "#example for compile-time error.\n",
    "x = 1\n",
    "if x == 1\n",
    "    print('Where is colon? ')"
   ]
  },
  {
   "cell_type": "code",
   "execution_count": 2,
   "metadata": {},
   "outputs": [
    {
     "ename": "IndentationError",
     "evalue": "unexpected indent (<ipython-input-2-ca8a04cf9098>, line 6)",
     "output_type": "error",
     "traceback": [
      "\u001b[1;36m  File \u001b[1;32m\"<ipython-input-2-ca8a04cf9098>\"\u001b[1;36m, line \u001b[1;32m6\u001b[0m\n\u001b[1;33m    print(x, 'is even number')\u001b[0m\n\u001b[1;37m    ^\u001b[0m\n\u001b[1;31mIndentationError\u001b[0m\u001b[1;31m:\u001b[0m unexpected indent\n"
     ]
    }
   ],
   "source": [
    "#A python program to demonstrate compile-time error.\n",
    "#another compile-time error\n",
    "x = 10\n",
    "if x%2 == 0:\n",
    "    print(x, ' is divisible by 2 ')\n",
    "        print(x, 'is even number')"
   ]
  },
  {
   "cell_type": "markdown",
   "metadata": {},
   "source": [
    "#### Runtime Errors"
   ]
  },
  {
   "cell_type": "code",
   "execution_count": 3,
   "metadata": {},
   "outputs": [
    {
     "ename": "TypeError",
     "evalue": "can only concatenate str (not \"int\") to str",
     "output_type": "error",
     "traceback": [
      "\u001b[1;31m---------------------------------------------------------------------------\u001b[0m",
      "\u001b[1;31mTypeError\u001b[0m                                 Traceback (most recent call last)",
      "\u001b[1;32m<ipython-input-3-7e52d2d8cd9e>\u001b[0m in \u001b[0;36m<module>\u001b[1;34m\u001b[0m\n\u001b[0;32m      5\u001b[0m \u001b[1;33m\u001b[0m\u001b[0m\n\u001b[0;32m      6\u001b[0m \u001b[1;31m#call concat() and pass arguments\u001b[0m\u001b[1;33m\u001b[0m\u001b[1;33m\u001b[0m\u001b[1;33m\u001b[0m\u001b[0m\n\u001b[1;32m----> 7\u001b[1;33m \u001b[0mconcat\u001b[0m\u001b[1;33m(\u001b[0m\u001b[1;34m'Hai'\u001b[0m\u001b[1;33m,\u001b[0m \u001b[1;36m25\u001b[0m\u001b[1;33m)\u001b[0m\u001b[1;33m\u001b[0m\u001b[1;33m\u001b[0m\u001b[0m\n\u001b[0m",
      "\u001b[1;32m<ipython-input-3-7e52d2d8cd9e>\u001b[0m in \u001b[0;36mconcat\u001b[1;34m(a, b)\u001b[0m\n\u001b[0;32m      2\u001b[0m \u001b[1;31m#example for runtime error.\u001b[0m\u001b[1;33m\u001b[0m\u001b[1;33m\u001b[0m\u001b[1;33m\u001b[0m\u001b[0m\n\u001b[0;32m      3\u001b[0m \u001b[1;32mdef\u001b[0m \u001b[0mconcat\u001b[0m\u001b[1;33m(\u001b[0m\u001b[0ma\u001b[0m\u001b[1;33m,\u001b[0m \u001b[0mb\u001b[0m\u001b[1;33m)\u001b[0m\u001b[1;33m:\u001b[0m\u001b[1;33m\u001b[0m\u001b[1;33m\u001b[0m\u001b[0m\n\u001b[1;32m----> 4\u001b[1;33m     \u001b[0mprint\u001b[0m\u001b[1;33m(\u001b[0m\u001b[0ma\u001b[0m\u001b[1;33m+\u001b[0m\u001b[0mb\u001b[0m\u001b[1;33m)\u001b[0m\u001b[1;33m\u001b[0m\u001b[1;33m\u001b[0m\u001b[0m\n\u001b[0m\u001b[0;32m      5\u001b[0m \u001b[1;33m\u001b[0m\u001b[0m\n\u001b[0;32m      6\u001b[0m \u001b[1;31m#call concat() and pass arguments\u001b[0m\u001b[1;33m\u001b[0m\u001b[1;33m\u001b[0m\u001b[1;33m\u001b[0m\u001b[0m\n",
      "\u001b[1;31mTypeError\u001b[0m: can only concatenate str (not \"int\") to str"
     ]
    }
   ],
   "source": [
    "#A python program to understand runtime errors.\n",
    "#example for runtime error.\n",
    "def concat(a, b):\n",
    "    print(a+b)\n",
    "    \n",
    "#call concat() and pass arguments\n",
    "concat('Hai', 25)"
   ]
  },
  {
   "cell_type": "code",
   "execution_count": 4,
   "metadata": {},
   "outputs": [
    {
     "ename": "IndexError",
     "evalue": "list index out of range",
     "output_type": "error",
     "traceback": [
      "\u001b[1;31m---------------------------------------------------------------------------\u001b[0m",
      "\u001b[1;31mIndexError\u001b[0m                                Traceback (most recent call last)",
      "\u001b[1;32m<ipython-input-4-b78e92396771>\u001b[0m in \u001b[0;36m<module>\u001b[1;34m\u001b[0m\n\u001b[0;32m      2\u001b[0m \u001b[1;31m#another runtime error.\u001b[0m\u001b[1;33m\u001b[0m\u001b[1;33m\u001b[0m\u001b[1;33m\u001b[0m\u001b[0m\n\u001b[0;32m      3\u001b[0m \u001b[0manimal\u001b[0m \u001b[1;33m=\u001b[0m \u001b[1;33m[\u001b[0m\u001b[1;34m'Dog'\u001b[0m\u001b[1;33m,\u001b[0m \u001b[1;34m'Cat'\u001b[0m\u001b[1;33m,\u001b[0m \u001b[1;34m'Horse'\u001b[0m\u001b[1;33m,\u001b[0m \u001b[1;34m'Donkey'\u001b[0m\u001b[1;33m]\u001b[0m\u001b[1;33m\u001b[0m\u001b[1;33m\u001b[0m\u001b[0m\n\u001b[1;32m----> 4\u001b[1;33m \u001b[0mprint\u001b[0m\u001b[1;33m(\u001b[0m\u001b[0manimal\u001b[0m\u001b[1;33m[\u001b[0m\u001b[1;36m4\u001b[0m\u001b[1;33m]\u001b[0m\u001b[1;33m)\u001b[0m\u001b[1;33m\u001b[0m\u001b[1;33m\u001b[0m\u001b[0m\n\u001b[0m",
      "\u001b[1;31mIndexError\u001b[0m: list index out of range"
     ]
    }
   ],
   "source": [
    "#A python program to demonstrate runtime error.\n",
    "#another runtime error.\n",
    "animal = ['Dog', 'Cat', 'Horse', 'Donkey']\n",
    "print(animal[4])"
   ]
  },
  {
   "cell_type": "markdown",
   "metadata": {},
   "source": [
    "#### Logical Errors"
   ]
  },
  {
   "cell_type": "code",
   "execution_count": 5,
   "metadata": {},
   "outputs": [
    {
     "name": "stdout",
     "output_type": "stream",
     "text": [
      "Incremented salary= 750.00\n"
     ]
    }
   ],
   "source": [
    "#A python program to implement the salary of an employee by 15%.\n",
    "#logical error\n",
    "def increment(sal):\n",
    "    sal = sal*15/100\n",
    "    return sal\n",
    "\n",
    "#call increment() and pass salary\n",
    "sal = increment(5000.00)\n",
    "print('Incremented salary= %.2f' %sal)"
   ]
  },
  {
   "cell_type": "code",
   "execution_count": 15,
   "metadata": {},
   "outputs": [
    {
     "name": "stdout",
     "output_type": "stream",
     "text": [
      "Enter two numbers: 5 2\n",
      "File closed\n"
     ]
    }
   ],
   "source": [
    "#A python program to understand the effect of an exception.\n",
    "#an exception example.\n",
    "#open a file\n",
    "f = open(\"water.csv\", \"w\")\n",
    "\n",
    "#do some processing on the file\n",
    "#accept a, b values, store the result of a/b into the file.\n",
    "a, b = [int(x) for x in input(\"Enter two numbers: \").split()]\n",
    "c = a/b\n",
    "f.write(\"Writing %d into myfile \" %c)\n",
    "\n",
    "#close the file\n",
    "f.close()\n",
    "print(\"File closed\")"
   ]
  },
  {
   "cell_type": "markdown",
   "metadata": {},
   "source": [
    "#### Exception Handling"
   ]
  },
  {
   "cell_type": "code",
   "execution_count": 11,
   "metadata": {},
   "outputs": [
    {
     "name": "stdout",
     "output_type": "stream",
     "text": [
      "Enter two numbers: 10 2\n",
      "File closed\n"
     ]
    }
   ],
   "source": [
    "#A python program to handle the ZeroDivisionError exception.\n",
    "#an exception handling example\n",
    "try:\n",
    "    f = open(\"water.csv\", \"w\")\n",
    "    a, b = [int(x) for x in input(\"Enter two numbers: \").split()]\n",
    "    c = a/b\n",
    "    f.write(\"Writing %d into water.csv\" %c)\n",
    "    \n",
    "except ZeroDivisionError:\n",
    "    print('Division by zero happened')\n",
    "    print('Please do not enter 0 in input')\n",
    "    \n",
    "finally:\n",
    "    f.close()\n",
    "    print('File closed')"
   ]
  },
  {
   "cell_type": "markdown",
   "metadata": {},
   "source": [
    "#### Types of Exceptions"
   ]
  },
  {
   "cell_type": "code",
   "execution_count": 6,
   "metadata": {},
   "outputs": [
    {
     "name": "stdout",
     "output_type": "stream",
     "text": [
      "Enter date: 2016, 10, 3\n",
      "You entered:  (2016, 10, 3)\n"
     ]
    }
   ],
   "source": [
    "#A python program to handle syntax error given by eval() function.\n",
    "#example for syntax error\n",
    "try:\n",
    "    date = eval(input(\"Enter date: \"))\n",
    "except SyntaxError:\n",
    "    print(\"Invalid date entered\")\n",
    "else:\n",
    "    print('You entered: ', date)"
   ]
  },
  {
   "cell_type": "code",
   "execution_count": 9,
   "metadata": {},
   "outputs": [
    {
     "name": "stdout",
     "output_type": "stream",
     "text": [
      "Enter filename: water.csv\n",
      "water.csv has 80 lines\n"
     ]
    }
   ],
   "source": [
    "#A python program to handle IOError produced by open() function.\n",
    "#Example for IOError\n",
    "#accept a file name\n",
    "try:\n",
    "    name = input('Enter filename: ')\n",
    "    f = open(name, 'r')\n",
    "except IOError:\n",
    "    print('File not found: ', name)\n",
    "else:\n",
    "    n = len(f.readlines())\n",
    "    print(name, 'has', n, 'lines')\n",
    "    f.close()"
   ]
  },
  {
   "cell_type": "code",
   "execution_count": 12,
   "metadata": {},
   "outputs": [
    {
     "name": "stdout",
     "output_type": "stream",
     "text": [
      "Type Error, please provide numbers. \n"
     ]
    }
   ],
   "source": [
    "#A python program to handle multiple exceptions\n",
    "#example for two exceptions\n",
    "#a function to find total and average of list elements\n",
    "def avg(list):\n",
    "    tot = 0\n",
    "    for x in list:\n",
    "        tot += x\n",
    "    avg = tot/len(list)\n",
    "    return tot, avg\n",
    "\n",
    "#call the avg() and pass a list\n",
    "try:\n",
    "    t, a = avg([1, 2, 3, 4, 5, 'a']) #here, give empty list and try.\n",
    "    print('Total= {}, Average= {}'.format(t, a))\n",
    "except TypeError:\n",
    "    print('Type Error, please provide numbers. ')\n",
    "except ZeroDivisionError:\n",
    "    print('ZeroDivisionError, please do not give empty list.')"
   ]
  },
  {
   "cell_type": "markdown",
   "metadata": {},
   "source": [
    "#### The Except Block"
   ]
  },
  {
   "cell_type": "code",
   "execution_count": 14,
   "metadata": {},
   "outputs": [
    {
     "name": "stdout",
     "output_type": "stream",
     "text": [
      "Enter a number: 5\n",
      "We are not catching the exception.\n",
      "The inverse is:  0.2\n"
     ]
    }
   ],
   "source": [
    "#A python program to understand the usage of try with finally bloks.\n",
    "#try without except block.\n",
    "try:\n",
    "    x = int(input(\"Enter a number: \"))\n",
    "    y = 1/x\n",
    "finally:\n",
    "    print(\"We are not catching the exception.\")\n",
    "print(\"The inverse is: \", y)"
   ]
  },
  {
   "cell_type": "markdown",
   "metadata": {},
   "source": [
    "#### The assert Statement"
   ]
  },
  {
   "cell_type": "code",
   "execution_count": 15,
   "metadata": {},
   "outputs": [
    {
     "name": "stdout",
     "output_type": "stream",
     "text": [
      "Enter a number between 5 and 10: 12\n",
      "The condition is not fulfilled\n"
     ]
    }
   ],
   "source": [
    "#A python program using the assert statement and catching AssertionError.\n",
    "#handling AssertionError\n",
    "try:\n",
    "    x = int(input(\"Enter a number between 5 and 10: \"))\n",
    "    assert x >= 5 and x <= 10\n",
    "    print(\"The number entered: \", x)\n",
    "except AssertionError:\n",
    "    print('The condition is not fulfilled')"
   ]
  },
  {
   "cell_type": "code",
   "execution_count": 16,
   "metadata": {},
   "outputs": [
    {
     "name": "stdout",
     "output_type": "stream",
     "text": [
      "Enter a number between 5 and 10: 12\n",
      "Your input is not correct\n"
     ]
    }
   ],
   "source": [
    "#A python program to use the assert statement with a message.\n",
    "#handling AssertionError.\n",
    "try:\n",
    "    x = int(input(\"Enter a number between 5 and 10: \"))\n",
    "    assert x >= 5 and x <= 10, \"Your input is not correct\"\n",
    "    print(\"The number entered: \", x)\n",
    "except AssertionError as obj:\n",
    "    print(obj)"
   ]
  },
  {
   "cell_type": "markdown",
   "metadata": {},
   "source": [
    "### User-Defined Exceptions"
   ]
  },
  {
   "cell_type": "code",
   "execution_count": 18,
   "metadata": {},
   "outputs": [
    {
     "name": "stdout",
     "output_type": "stream",
     "text": [
      "Name= Raj             Balance =    5000.00\n",
      "Name= Vani            Balance =    8900.50\n",
      "Name= Ajay            Balance =    1990.00\n",
      "Balance amount is less in the account ofAjay\n"
     ]
    }
   ],
   "source": [
    "#A python program to create our own exception and raise it when needed.\n",
    "#create our own class as sub class to Exception class.\n",
    "class MyException(Exception):\n",
    "    def __init__(self, arg):\n",
    "        self.msg = arg\n",
    "        \n",
    "#write code where exception may raise.\n",
    "#to raise the exception, use raise statement\n",
    "def check(dict):\n",
    "    for k, v in dict.items():\n",
    "        print('Name= {:15s} Balance = {:10.2f}'.format(k, v))\n",
    "        if (v<2000.00):\n",
    "            raise MyException('Balance amount is less in the account of'+k)\n",
    "    \n",
    "#our own exception is handled using try and except blocks\n",
    "bank = {'Raj':5000.00, 'Vani':8900.50, 'Ajay':1990.00, 'Naresh':3000.00}\n",
    "try:\n",
    "    check(bank)\n",
    "except MyException as me:\n",
    "    print(me)"
   ]
  },
  {
   "cell_type": "markdown",
   "metadata": {},
   "source": [
    "### Logging the Exceptions"
   ]
  },
  {
   "cell_type": "code",
   "execution_count": 19,
   "metadata": {},
   "outputs": [],
   "source": [
    "#A python program that creates a log file with errors and critical messages.\n",
    "#understanding logging of error messages.\n",
    "import logging\n",
    "\n",
    "#store messages into mylog.txt file.\n",
    "#store only the messages with level equal to or more than that of ERROR\n",
    "logging.basicConfig(filename = 'mylog.txt', level = logging.ERROR)\n",
    "\n",
    "#these messages are stored into the file.\n",
    "logging.error(\"There is an error in the problem.\")\n",
    "logging.critical(\"There is a problem in the design.\")\n",
    "\n",
    "#but these are not stored\n",
    "logging.warning(\"The project is going slow.\")\n",
    "logging.info(\"You are a junior programmer.\")\n",
    "logging.debug(\"Line no. 10 contains Syntax error.\")"
   ]
  },
  {
   "cell_type": "code",
   "execution_count": 20,
   "metadata": {},
   "outputs": [
    {
     "name": "stdout",
     "output_type": "stream",
     "text": [
      "Enter a number: 10\n",
      "Enter another number: 20\n",
      "The result of division:  0.5\n"
     ]
    }
   ],
   "source": [
    "#A python program to store the messages released by any exception into a file.\n",
    "#logging all messages from a program.\n",
    "import logging\n",
    "\n",
    "#store logging messages into log.txt file\n",
    "logging.basicConfig(filename = 'water.csv', level = logging.ERROR)\n",
    "try:\n",
    "    a = int(input(\"Enter a number: \"))\n",
    "    b = int(input(\"Enter another number: \"))\n",
    "    c = a/b\n",
    "    \n",
    "except Exception as e:\n",
    "    logging.exception(e)\n",
    "else:\n",
    "    print('The result of division: ', c)"
   ]
  },
  {
   "cell_type": "code",
   "execution_count": null,
   "metadata": {},
   "outputs": [],
   "source": []
  }
 ],
 "metadata": {
  "kernelspec": {
   "display_name": "Python 3",
   "language": "python",
   "name": "python3"
  },
  "language_info": {
   "codemirror_mode": {
    "name": "ipython",
    "version": 3
   },
   "file_extension": ".py",
   "mimetype": "text/x-python",
   "name": "python",
   "nbconvert_exporter": "python",
   "pygments_lexer": "ipython3",
   "version": "3.8.5"
  }
 },
 "nbformat": 4,
 "nbformat_minor": 4
}
