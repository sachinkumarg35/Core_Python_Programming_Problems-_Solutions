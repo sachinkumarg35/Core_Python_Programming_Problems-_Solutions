{
 "cells": [
  {
   "cell_type": "code",
   "execution_count": 1,
   "metadata": {},
   "outputs": [
    {
     "name": "stdout",
     "output_type": "stream",
     "text": [
      "Square value=  4\n",
      "Square value=  9\n",
      "Square value=  16\n"
     ]
    }
   ],
   "source": [
    "#A python program to understand that Myclass method is shared by all of its objects.\n",
    "#A class with a method\n",
    "class Myclass:\n",
    "    def calculate(self, x):\n",
    "        print('Square value= ', x*x)\n",
    "        \n",
    "#all objects share same calculate() method\n",
    "obj1 = Myclass()\n",
    "obj1.calculate(2)\n",
    "\n",
    "obj2 = Myclass()\n",
    "obj2.calculate(3)\n",
    "\n",
    "obj3 = Myclass()\n",
    "obj3.calculate(4)"
   ]
  },
  {
   "cell_type": "markdown",
   "metadata": {},
   "source": [
    "### Abstract Method and Abstract Class"
   ]
  },
  {
   "cell_type": "code",
   "execution_count": 2,
   "metadata": {},
   "outputs": [
    {
     "name": "stdout",
     "output_type": "stream",
     "text": [
      "Square value=  256\n",
      "Square root=  4.0\n",
      "Cube value=  4096\n"
     ]
    }
   ],
   "source": [
    "#A python program to create abstract class and sub classes which implement the abstract method of the abstract class.\n",
    "#Abstract class example.\n",
    "from abc import ABC, abstractmethod\n",
    "class Myclass(ABC):\n",
    "    @abstractmethod\n",
    "    def calculate(self, x):\n",
    "        pass #empty body, no code\n",
    "    \n",
    "#this is sub class of Myclass\n",
    "class Sub1(Myclass):\n",
    "    def calculate(self, x):\n",
    "        print('Square value= ', x*x)\n",
    "        \n",
    "#this is another sub class for Myclass\n",
    "import math\n",
    "class Sub2(Myclass):\n",
    "    def calculate(self, x):\n",
    "        print('Square root= ', math.sqrt(x))\n",
    "        \n",
    "#third sub class for Myclass\n",
    "class Sub3(Myclass):\n",
    "    def calculate(self, x):\n",
    "        print('Cube value= ', x**3)\n",
    "        \n",
    "#Create sub2 class object and call calculate() method\n",
    "obj1 = Sub1()\n",
    "obj1.calculate(16)\n",
    "\n",
    "#Create Sub2 class object and call calculate() method\n",
    "obj2 = Sub2()\n",
    "obj2.calculate(16)\n",
    "\n",
    "#Create Sub3 class object and call calculate() method\n",
    "obj3 = Sub3()\n",
    "obj3.calculate(16)"
   ]
  },
  {
   "cell_type": "code",
   "execution_count": null,
   "metadata": {},
   "outputs": [],
   "source": []
  },
  {
   "cell_type": "code",
   "execution_count": null,
   "metadata": {},
   "outputs": [],
   "source": []
  },
  {
   "cell_type": "code",
   "execution_count": 4,
   "metadata": {},
   "outputs": [
    {
     "name": "stdout",
     "output_type": "stream",
     "text": [
      "Fill the fuel into the tank\n",
      "for the car with regno  1001\n",
      "Maruti uses manual steering\n",
      "Drive the car\n",
      "Maruti uses hydraulic brakes\n",
      "Apply brakes and stop it\n"
     ]
    }
   ],
   "source": [
    "#A python program in which Maruti sub class implements the abstract methods of the super class, Car.\n",
    "#this is a Sub class for abstract Car class\n",
    "from abs import Car\n",
    "class Maruti(Car):\n",
    "    def steering(self):\n",
    "        print('Maruti uses manual steering')\n",
    "        print('Drive the car')\n",
    "    def braking(self):\n",
    "        print('Maruti uses hydraulic brakes')\n",
    "        print('Apply brakes and stop it')\n",
    "#create object to Maruti and use its features\n",
    "m = Maruti(1001)\n",
    "m.openTank()\n",
    "m.steering()\n",
    "m.braking()"
   ]
  },
  {
   "cell_type": "code",
   "execution_count": 5,
   "metadata": {},
   "outputs": [
    {
     "name": "stdout",
     "output_type": "stream",
     "text": [
      "Fill the fuel into the tank\n",
      "for the car with regno  7878\n",
      "Santro uses power steering\n",
      "Drive the car\n",
      "Santro uses gas brakes\n",
      "Apply brakes and stop it\n"
     ]
    }
   ],
   "source": [
    "#A python program in which Santro sub class implements the abstract methods of the super class, Car.\n",
    "#this is sub class for abstract car class.\n",
    "from abs import Car\n",
    "class Santro(Car):\n",
    "    \n",
    "    def steering(self):\n",
    "        print('Santro uses power steering')\n",
    "        print('Drive the car')\n",
    "        \n",
    "    def braking(self):\n",
    "        print('Santro uses gas brakes')\n",
    "        print('Apply brakes and stop it')\n",
    "        \n",
    "#Create object to Santro and use its features\n",
    "s = Santro(7878)\n",
    "s.openTank()\n",
    "s.steering()\n",
    "s.braking()"
   ]
  },
  {
   "cell_type": "markdown",
   "metadata": {},
   "source": [
    "### Interfaces in Python"
   ]
  },
  {
   "cell_type": "code",
   "execution_count": 7,
   "metadata": {},
   "outputs": [
    {
     "name": "stdout",
     "output_type": "stream",
     "text": [
      "Enter database name.Oracle\n",
      "Connecting to Oracle database.....\n",
      "Disconnected from oracle.\n"
     ]
    }
   ],
   "source": [
    "#A python program to develop an interface that connects to any database.\n",
    "#abstract class works like an interface.\n",
    "from abc import *\n",
    "class Myclass(ABC):\n",
    "    @abstractmethod\n",
    "    def connect(self):\n",
    "        pass\n",
    "    @abstractmethod\n",
    "    def disconnect(self):\n",
    "        pass\n",
    "    \n",
    "#this is a sub class\n",
    "class Oracle(Myclass):\n",
    "    def connect(self):\n",
    "        print('Connecting to Oracle database.....')\n",
    "        \n",
    "    def disconnect(self):\n",
    "        print('Disconnected from oracle.')\n",
    "        \n",
    "#this is another sub class\n",
    "class Sybase(Myclass):\n",
    "    def connect(self):\n",
    "        print('Connecting to Sybase database....')\n",
    "        \n",
    "    def disconnect(self):\n",
    "        print('Disconnected from Sybase.')\n",
    "        \n",
    "class Database:\n",
    "    #accept database name as a string\n",
    "    str = input('Enter database name.')\n",
    "    \n",
    "    #convert the string into classname\n",
    "    classname = globals()[str]\n",
    "    \n",
    "    #Create an object to that class.\n",
    "    x = classname()\n",
    "    \n",
    "    #call the connect() and disconnect() methods\n",
    "    x.connect()\n",
    "    x.disconnect()"
   ]
  },
  {
   "cell_type": "code",
   "execution_count": null,
   "metadata": {},
   "outputs": [],
   "source": []
  },
  {
   "cell_type": "code",
   "execution_count": null,
   "metadata": {},
   "outputs": [],
   "source": []
  },
  {
   "cell_type": "code",
   "execution_count": 8,
   "metadata": {},
   "outputs": [
    {
     "ename": "FileNotFoundError",
     "evalue": "[Errno 2] No such file or directory: 'config.txt'",
     "output_type": "error",
     "traceback": [
      "\u001b[1;31m---------------------------------------------------------------------------\u001b[0m",
      "\u001b[1;31mFileNotFoundError\u001b[0m                         Traceback (most recent call last)",
      "\u001b[1;32m<ipython-input-8-52f3388e458d>\u001b[0m in \u001b[0;36m<module>\u001b[1;34m\u001b[0m\n\u001b[0;32m     27\u001b[0m         \u001b[0mprint\u001b[0m\u001b[1;33m(\u001b[0m\u001b[1;34m'Printing completed on Epson printer.'\u001b[0m\u001b[1;33m)\u001b[0m\u001b[1;33m\u001b[0m\u001b[1;33m\u001b[0m\u001b[0m\n\u001b[0;32m     28\u001b[0m \u001b[1;33m\u001b[0m\u001b[0m\n\u001b[1;32m---> 29\u001b[1;33m \u001b[1;32mclass\u001b[0m \u001b[0mUsePrinter\u001b[0m\u001b[1;33m:\u001b[0m\u001b[1;33m\u001b[0m\u001b[1;33m\u001b[0m\u001b[0m\n\u001b[0m\u001b[0;32m     30\u001b[0m     \u001b[1;31m#accept printer name as a string from configuration file\u001b[0m\u001b[1;33m\u001b[0m\u001b[1;33m\u001b[0m\u001b[1;33m\u001b[0m\u001b[0m\n\u001b[0;32m     31\u001b[0m     \u001b[1;32mwith\u001b[0m \u001b[0mopen\u001b[0m\u001b[1;33m(\u001b[0m\u001b[1;34m\"config.txt\"\u001b[0m\u001b[1;33m,\u001b[0m \u001b[1;34m\"r\"\u001b[0m\u001b[1;33m)\u001b[0m \u001b[1;32mas\u001b[0m \u001b[0mf\u001b[0m\u001b[1;33m:\u001b[0m\u001b[1;33m\u001b[0m\u001b[1;33m\u001b[0m\u001b[0m\n",
      "\u001b[1;32m<ipython-input-8-52f3388e458d>\u001b[0m in \u001b[0;36mUsePrinter\u001b[1;34m()\u001b[0m\n\u001b[0;32m     29\u001b[0m \u001b[1;32mclass\u001b[0m \u001b[0mUsePrinter\u001b[0m\u001b[1;33m:\u001b[0m\u001b[1;33m\u001b[0m\u001b[1;33m\u001b[0m\u001b[0m\n\u001b[0;32m     30\u001b[0m     \u001b[1;31m#accept printer name as a string from configuration file\u001b[0m\u001b[1;33m\u001b[0m\u001b[1;33m\u001b[0m\u001b[1;33m\u001b[0m\u001b[0m\n\u001b[1;32m---> 31\u001b[1;33m     \u001b[1;32mwith\u001b[0m \u001b[0mopen\u001b[0m\u001b[1;33m(\u001b[0m\u001b[1;34m\"config.txt\"\u001b[0m\u001b[1;33m,\u001b[0m \u001b[1;34m\"r\"\u001b[0m\u001b[1;33m)\u001b[0m \u001b[1;32mas\u001b[0m \u001b[0mf\u001b[0m\u001b[1;33m:\u001b[0m\u001b[1;33m\u001b[0m\u001b[1;33m\u001b[0m\u001b[0m\n\u001b[0m\u001b[0;32m     32\u001b[0m         \u001b[0mstr\u001b[0m \u001b[1;33m=\u001b[0m \u001b[0mf\u001b[0m\u001b[1;33m.\u001b[0m\u001b[0mreadline\u001b[0m\u001b[1;33m(\u001b[0m\u001b[1;33m)\u001b[0m\u001b[1;33m\u001b[0m\u001b[1;33m\u001b[0m\u001b[0m\n\u001b[0;32m     33\u001b[0m \u001b[1;33m\u001b[0m\u001b[0m\n",
      "\u001b[1;31mFileNotFoundError\u001b[0m: [Errno 2] No such file or directory: 'config.txt'"
     ]
    }
   ],
   "source": [
    "#A python program which contains a Printer interface and its sub classes to send text to any printer.\n",
    "#An interface to send text to any printer.\n",
    "from abc import *\n",
    "#Create an interface\n",
    "class Printer(ABC):\n",
    "    @abstractmethod\n",
    "    def printit(self, text):\n",
    "        pass\n",
    "    @abstractmethod\n",
    "    def disconnect(self):\n",
    "        pass\n",
    "    \n",
    "#this is sub class for IBM printer\n",
    "class IBM(Printer):\n",
    "    def printit(self, text):\n",
    "        print(text)\n",
    "    \n",
    "    def disconnect(self):\n",
    "        print('Printing completed on IBM printer.')\n",
    "        \n",
    "#this is sub class for Epson printer.\n",
    "class Epson(Printer):\n",
    "    def printit(self, text):\n",
    "        print(text)\n",
    "        \n",
    "    def disconnect(self):\n",
    "        print('Printing completed on Epson printer.')\n",
    "        \n",
    "class UsePrinter:\n",
    "    #accept printer name as a string from configuration file\n",
    "    with open(\"config.txt\", \"r\") as f:\n",
    "        str = f.readline()\n",
    "        \n",
    "    #Convert the string into classname\n",
    "    Classname = globals()[str]\n",
    "    \n",
    "    #Create an object to that class\n",
    "    x = classname()\n",
    "    \n",
    "    #call the printit() and disconnect() methods\n",
    "    x.printit('Hello, this is sent to printer')\n",
    "    x.disconnect()"
   ]
  },
  {
   "cell_type": "code",
   "execution_count": null,
   "metadata": {},
   "outputs": [],
   "source": []
  }
 ],
 "metadata": {
  "kernelspec": {
   "display_name": "Python 3",
   "language": "python",
   "name": "python3"
  },
  "language_info": {
   "codemirror_mode": {
    "name": "ipython",
    "version": 3
   },
   "file_extension": ".py",
   "mimetype": "text/x-python",
   "name": "python",
   "nbconvert_exporter": "python",
   "pygments_lexer": "ipython3",
   "version": "3.8.5"
  }
 },
 "nbformat": 4,
 "nbformat_minor": 4
}
