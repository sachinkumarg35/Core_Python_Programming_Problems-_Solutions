{
 "cells": [
  {
   "cell_type": "markdown",
   "metadata": {},
   "source": [
    "### Creating Data Frame from an Excel Spreadsheet"
   ]
  },
  {
   "cell_type": "code",
   "execution_count": 3,
   "metadata": {},
   "outputs": [],
   "source": [
    "import pandas as pd\n",
    "import xlrd\n",
    "df = pd.read_excel(\"C:\\\\Users\\HP\\Downloads\\empdata.xlsx\")"
   ]
  },
  {
   "cell_type": "code",
   "execution_count": 4,
   "metadata": {},
   "outputs": [
    {
     "data": {
      "text/html": [
       "<div>\n",
       "<style scoped>\n",
       "    .dataframe tbody tr th:only-of-type {\n",
       "        vertical-align: middle;\n",
       "    }\n",
       "\n",
       "    .dataframe tbody tr th {\n",
       "        vertical-align: top;\n",
       "    }\n",
       "\n",
       "    .dataframe thead th {\n",
       "        text-align: right;\n",
       "    }\n",
       "</style>\n",
       "<table border=\"1\" class=\"dataframe\">\n",
       "  <thead>\n",
       "    <tr style=\"text-align: right;\">\n",
       "      <th></th>\n",
       "      <th>empid</th>\n",
       "      <th>ename</th>\n",
       "      <th>sal</th>\n",
       "      <th>doj</th>\n",
       "    </tr>\n",
       "  </thead>\n",
       "  <tbody>\n",
       "    <tr>\n",
       "      <th>0</th>\n",
       "      <td>1001</td>\n",
       "      <td>Ganesh Rao</td>\n",
       "      <td>10000.00</td>\n",
       "      <td>2000-10-10 00:00:00</td>\n",
       "    </tr>\n",
       "    <tr>\n",
       "      <th>1</th>\n",
       "      <td>1002</td>\n",
       "      <td>Anil Kumar</td>\n",
       "      <td>23000.50</td>\n",
       "      <td>3-20-2002</td>\n",
       "    </tr>\n",
       "    <tr>\n",
       "      <th>2</th>\n",
       "      <td>1003</td>\n",
       "      <td>Gaurav Gupta</td>\n",
       "      <td>18000.33</td>\n",
       "      <td>2002-03-03 00:00:00</td>\n",
       "    </tr>\n",
       "    <tr>\n",
       "      <th>3</th>\n",
       "      <td>1004</td>\n",
       "      <td>Hema Chandra</td>\n",
       "      <td>16500.50</td>\n",
       "      <td>2000-10-09 00:00:00</td>\n",
       "    </tr>\n",
       "    <tr>\n",
       "      <th>4</th>\n",
       "      <td>1005</td>\n",
       "      <td>Laxmi Prasanna</td>\n",
       "      <td>12000.75</td>\n",
       "      <td>2000-08-10 00:00:00</td>\n",
       "    </tr>\n",
       "    <tr>\n",
       "      <th>5</th>\n",
       "      <td>1006</td>\n",
       "      <td>Anant Nag</td>\n",
       "      <td>9999.99</td>\n",
       "      <td>1999-09-09 00:00:00</td>\n",
       "    </tr>\n",
       "  </tbody>\n",
       "</table>\n",
       "</div>"
      ],
      "text/plain": [
       "   empid           ename       sal                              doj\n",
       "0   1001      Ganesh Rao  10000.00              2000-10-10 00:00:00\n",
       "1   1002      Anil Kumar  23000.50                        3-20-2002\n",
       "2   1003    Gaurav Gupta  18000.33              2002-03-03 00:00:00\n",
       "3   1004    Hema Chandra  16500.50              2000-10-09 00:00:00\n",
       "4   1005  Laxmi Prasanna  12000.75              2000-08-10 00:00:00\n",
       "5   1006       Anant Nag   9999.99              1999-09-09 00:00:00"
      ]
     },
     "execution_count": 4,
     "metadata": {},
     "output_type": "execute_result"
    }
   ],
   "source": [
    "df"
   ]
  },
  {
   "cell_type": "markdown",
   "metadata": {},
   "source": [
    "### Creating Data Frame from .csv Files"
   ]
  },
  {
   "cell_type": "code",
   "execution_count": 6,
   "metadata": {},
   "outputs": [],
   "source": [
    "import pandas as pd\n",
    "df = pd.read_csv(\"C:\\\\Users\\HP\\Downloads\\empdata.csv\")"
   ]
  },
  {
   "cell_type": "code",
   "execution_count": 7,
   "metadata": {},
   "outputs": [
    {
     "data": {
      "text/html": [
       "<div>\n",
       "<style scoped>\n",
       "    .dataframe tbody tr th:only-of-type {\n",
       "        vertical-align: middle;\n",
       "    }\n",
       "\n",
       "    .dataframe tbody tr th {\n",
       "        vertical-align: top;\n",
       "    }\n",
       "\n",
       "    .dataframe thead th {\n",
       "        text-align: right;\n",
       "    }\n",
       "</style>\n",
       "<table border=\"1\" class=\"dataframe\">\n",
       "  <thead>\n",
       "    <tr style=\"text-align: right;\">\n",
       "      <th></th>\n",
       "      <th>empid</th>\n",
       "      <th>ename</th>\n",
       "      <th>sal</th>\n",
       "      <th>doj</th>\n",
       "    </tr>\n",
       "  </thead>\n",
       "  <tbody>\n",
       "    <tr>\n",
       "      <th>0</th>\n",
       "      <td>1001</td>\n",
       "      <td>Ganesh Rao</td>\n",
       "      <td>10000.00</td>\n",
       "      <td>10-10-2000</td>\n",
       "    </tr>\n",
       "    <tr>\n",
       "      <th>1</th>\n",
       "      <td>1002</td>\n",
       "      <td>Anil Kumar</td>\n",
       "      <td>23000.50</td>\n",
       "      <td>3-20-2002</td>\n",
       "    </tr>\n",
       "    <tr>\n",
       "      <th>2</th>\n",
       "      <td>1003</td>\n",
       "      <td>Gaurav Gupta</td>\n",
       "      <td>18000.33</td>\n",
       "      <td>03-03-2002</td>\n",
       "    </tr>\n",
       "    <tr>\n",
       "      <th>3</th>\n",
       "      <td>1004</td>\n",
       "      <td>Hema Chandra</td>\n",
       "      <td>16500.50</td>\n",
       "      <td>09-10-2000</td>\n",
       "    </tr>\n",
       "    <tr>\n",
       "      <th>4</th>\n",
       "      <td>1005</td>\n",
       "      <td>Laxmi Prasanna</td>\n",
       "      <td>12000.75</td>\n",
       "      <td>10-08-2000</td>\n",
       "    </tr>\n",
       "    <tr>\n",
       "      <th>5</th>\n",
       "      <td>1006</td>\n",
       "      <td>Anant Nag</td>\n",
       "      <td>9999.99</td>\n",
       "      <td>09-09-1999</td>\n",
       "    </tr>\n",
       "  </tbody>\n",
       "</table>\n",
       "</div>"
      ],
      "text/plain": [
       "   empid           ename       sal                              doj\n",
       "0   1001      Ganesh Rao  10000.00                       10-10-2000\n",
       "1   1002      Anil Kumar  23000.50                        3-20-2002\n",
       "2   1003    Gaurav Gupta  18000.33                       03-03-2002\n",
       "3   1004    Hema Chandra  16500.50                       09-10-2000\n",
       "4   1005  Laxmi Prasanna  12000.75                       10-08-2000\n",
       "5   1006       Anant Nag   9999.99                       09-09-1999"
      ]
     },
     "execution_count": 7,
     "metadata": {},
     "output_type": "execute_result"
    }
   ],
   "source": [
    "df"
   ]
  },
  {
   "cell_type": "markdown",
   "metadata": {},
   "source": [
    "### Creating Data Frame from a Python Dictionary"
   ]
  },
  {
   "cell_type": "code",
   "execution_count": 2,
   "metadata": {},
   "outputs": [],
   "source": [
    "empdata = {'empid': ([1001, 1002, 1003, 1004, 1005, 1006]),\n",
    "          'ename': (['Ganesh Rao', 'Anil Kumar', 'Gaurav Gupta', 'Hema Chandra', 'Laxmi Prasanna', 'Anant Nag']),\n",
    "          'sal': ([10000.00, 23000.50, 18000.33, 16500.50, 12000.75, 9999.99]),\n",
    "          'doj': ([\"10-10-2000\", \"03-20-2002\", \"03-03-2002\", \"09-10-2000\", \"10-8-2000\", \"09-09-1999\"])}"
   ]
  },
  {
   "cell_type": "code",
   "execution_count": 3,
   "metadata": {},
   "outputs": [
    {
     "name": "stdout",
     "output_type": "stream",
     "text": [
      "   empid           ename       sal         doj\n",
      "0   1001      Ganesh Rao  10000.00  10-10-2000\n",
      "1   1002      Anil Kumar  23000.50  03-20-2002\n",
      "2   1003    Gaurav Gupta  18000.33  03-03-2002\n",
      "3   1004    Hema Chandra  16500.50  09-10-2000\n",
      "4   1005  Laxmi Prasanna  12000.75   10-8-2000\n",
      "5   1006       Anant Nag   9999.99  09-09-1999\n"
     ]
    }
   ],
   "source": [
    "import pandas as pd\n",
    "df = pd.DataFrame(empdata)\n",
    "print(df)"
   ]
  },
  {
   "cell_type": "markdown",
   "metadata": {},
   "source": [
    "### Creating Data Frame from Python List of Tuples"
   ]
  },
  {
   "cell_type": "code",
   "execution_count": 4,
   "metadata": {},
   "outputs": [],
   "source": [
    "empdata = [(1001, 'Ganesh Rao', 10000.00, '10-10-2000'),\n",
    "          (1002, 'Anil Kumar', 23000.50, '03-20-2002'),\n",
    "          (1003, 'Gaurav Gupta', 18000.33, '03-03-2002'),\n",
    "          (1004, 'Hema Chandra', 16500.50, '09-10-2000'),\n",
    "          (1005, 'Laxmi Prasanna', 12000.75, '10-08-2000'),\n",
    "          (1006, 'Anant Nag', 9999.99, '09-09-1999')]"
   ]
  },
  {
   "cell_type": "code",
   "execution_count": 5,
   "metadata": {},
   "outputs": [
    {
     "data": {
      "text/html": [
       "<div>\n",
       "<style scoped>\n",
       "    .dataframe tbody tr th:only-of-type {\n",
       "        vertical-align: middle;\n",
       "    }\n",
       "\n",
       "    .dataframe tbody tr th {\n",
       "        vertical-align: top;\n",
       "    }\n",
       "\n",
       "    .dataframe thead th {\n",
       "        text-align: right;\n",
       "    }\n",
       "</style>\n",
       "<table border=\"1\" class=\"dataframe\">\n",
       "  <thead>\n",
       "    <tr style=\"text-align: right;\">\n",
       "      <th></th>\n",
       "      <th>eno</th>\n",
       "      <th>ename</th>\n",
       "      <th>sal</th>\n",
       "      <th>doj</th>\n",
       "    </tr>\n",
       "  </thead>\n",
       "  <tbody>\n",
       "    <tr>\n",
       "      <th>0</th>\n",
       "      <td>1001</td>\n",
       "      <td>Ganesh Rao</td>\n",
       "      <td>10000.00</td>\n",
       "      <td>10-10-2000</td>\n",
       "    </tr>\n",
       "    <tr>\n",
       "      <th>1</th>\n",
       "      <td>1002</td>\n",
       "      <td>Anil Kumar</td>\n",
       "      <td>23000.50</td>\n",
       "      <td>03-20-2002</td>\n",
       "    </tr>\n",
       "    <tr>\n",
       "      <th>2</th>\n",
       "      <td>1003</td>\n",
       "      <td>Gaurav Gupta</td>\n",
       "      <td>18000.33</td>\n",
       "      <td>03-03-2002</td>\n",
       "    </tr>\n",
       "    <tr>\n",
       "      <th>3</th>\n",
       "      <td>1004</td>\n",
       "      <td>Hema Chandra</td>\n",
       "      <td>16500.50</td>\n",
       "      <td>09-10-2000</td>\n",
       "    </tr>\n",
       "    <tr>\n",
       "      <th>4</th>\n",
       "      <td>1005</td>\n",
       "      <td>Laxmi Prasanna</td>\n",
       "      <td>12000.75</td>\n",
       "      <td>10-08-2000</td>\n",
       "    </tr>\n",
       "    <tr>\n",
       "      <th>5</th>\n",
       "      <td>1006</td>\n",
       "      <td>Anant Nag</td>\n",
       "      <td>9999.99</td>\n",
       "      <td>09-09-1999</td>\n",
       "    </tr>\n",
       "  </tbody>\n",
       "</table>\n",
       "</div>"
      ],
      "text/plain": [
       "    eno           ename       sal         doj\n",
       "0  1001      Ganesh Rao  10000.00  10-10-2000\n",
       "1  1002      Anil Kumar  23000.50  03-20-2002\n",
       "2  1003    Gaurav Gupta  18000.33  03-03-2002\n",
       "3  1004    Hema Chandra  16500.50  09-10-2000\n",
       "4  1005  Laxmi Prasanna  12000.75  10-08-2000\n",
       "5  1006       Anant Nag   9999.99  09-09-1999"
      ]
     },
     "execution_count": 5,
     "metadata": {},
     "output_type": "execute_result"
    }
   ],
   "source": [
    "df = pd.DataFrame(empdata, columns = ['eno', 'ename', 'sal', 'doj'])\n",
    "df"
   ]
  },
  {
   "cell_type": "markdown",
   "metadata": {},
   "source": [
    "### Operations on Data Frame"
   ]
  },
  {
   "cell_type": "code",
   "execution_count": 6,
   "metadata": {},
   "outputs": [
    {
     "data": {
      "text/html": [
       "<div>\n",
       "<style scoped>\n",
       "    .dataframe tbody tr th:only-of-type {\n",
       "        vertical-align: middle;\n",
       "    }\n",
       "\n",
       "    .dataframe tbody tr th {\n",
       "        vertical-align: top;\n",
       "    }\n",
       "\n",
       "    .dataframe thead th {\n",
       "        text-align: right;\n",
       "    }\n",
       "</style>\n",
       "<table border=\"1\" class=\"dataframe\">\n",
       "  <thead>\n",
       "    <tr style=\"text-align: right;\">\n",
       "      <th></th>\n",
       "      <th>empid</th>\n",
       "      <th>ename</th>\n",
       "      <th>sal</th>\n",
       "      <th>doj</th>\n",
       "    </tr>\n",
       "  </thead>\n",
       "  <tbody>\n",
       "    <tr>\n",
       "      <th>0</th>\n",
       "      <td>1001</td>\n",
       "      <td>Ganesh Rao</td>\n",
       "      <td>10000.00</td>\n",
       "      <td>10-10-2000</td>\n",
       "    </tr>\n",
       "    <tr>\n",
       "      <th>1</th>\n",
       "      <td>1002</td>\n",
       "      <td>Anil Kumar</td>\n",
       "      <td>23000.50</td>\n",
       "      <td>3-20-2002</td>\n",
       "    </tr>\n",
       "    <tr>\n",
       "      <th>2</th>\n",
       "      <td>1003</td>\n",
       "      <td>Gaurav Gupta</td>\n",
       "      <td>18000.33</td>\n",
       "      <td>03-03-2002</td>\n",
       "    </tr>\n",
       "    <tr>\n",
       "      <th>3</th>\n",
       "      <td>1004</td>\n",
       "      <td>Hema Chandra</td>\n",
       "      <td>16500.50</td>\n",
       "      <td>09-10-2000</td>\n",
       "    </tr>\n",
       "    <tr>\n",
       "      <th>4</th>\n",
       "      <td>1005</td>\n",
       "      <td>Laxmi Prasanna</td>\n",
       "      <td>12000.75</td>\n",
       "      <td>10-08-2000</td>\n",
       "    </tr>\n",
       "    <tr>\n",
       "      <th>5</th>\n",
       "      <td>1006</td>\n",
       "      <td>Anant Nag</td>\n",
       "      <td>9999.99</td>\n",
       "      <td>09-09-1999</td>\n",
       "    </tr>\n",
       "  </tbody>\n",
       "</table>\n",
       "</div>"
      ],
      "text/plain": [
       "   empid           ename       sal                              doj\n",
       "0   1001      Ganesh Rao  10000.00                       10-10-2000\n",
       "1   1002      Anil Kumar  23000.50                        3-20-2002\n",
       "2   1003    Gaurav Gupta  18000.33                       03-03-2002\n",
       "3   1004    Hema Chandra  16500.50                       09-10-2000\n",
       "4   1005  Laxmi Prasanna  12000.75                       10-08-2000\n",
       "5   1006       Anant Nag   9999.99                       09-09-1999"
      ]
     },
     "execution_count": 6,
     "metadata": {},
     "output_type": "execute_result"
    }
   ],
   "source": [
    "df = pd.read_csv(\"C:\\\\Users\\HP\\Downloads\\empdata.csv\")\n",
    "df"
   ]
  },
  {
   "cell_type": "markdown",
   "metadata": {},
   "source": [
    "### Knowing Number of Rows and Columns"
   ]
  },
  {
   "cell_type": "code",
   "execution_count": 13,
   "metadata": {},
   "outputs": [
    {
     "data": {
      "text/plain": [
       "(6, 4)"
      ]
     },
     "execution_count": 13,
     "metadata": {},
     "output_type": "execute_result"
    }
   ],
   "source": [
    "df.shape #6 rows, 4 cols"
   ]
  },
  {
   "cell_type": "code",
   "execution_count": 14,
   "metadata": {},
   "outputs": [
    {
     "name": "stdout",
     "output_type": "stream",
     "text": [
      "6\n"
     ]
    }
   ],
   "source": [
    "r, c = df.shape\n",
    "print(r) # display only no of rows"
   ]
  },
  {
   "cell_type": "code",
   "execution_count": 15,
   "metadata": {},
   "outputs": [
    {
     "name": "stdout",
     "output_type": "stream",
     "text": [
      "4\n"
     ]
    }
   ],
   "source": [
    "r, c = df.shape\n",
    "print(c) #display only no of cols"
   ]
  },
  {
   "cell_type": "markdown",
   "metadata": {},
   "source": [
    "### Retrieving Rows from Data Frame"
   ]
  },
  {
   "cell_type": "code",
   "execution_count": 18,
   "metadata": {},
   "outputs": [
    {
     "data": {
      "text/html": [
       "<div>\n",
       "<style scoped>\n",
       "    .dataframe tbody tr th:only-of-type {\n",
       "        vertical-align: middle;\n",
       "    }\n",
       "\n",
       "    .dataframe tbody tr th {\n",
       "        vertical-align: top;\n",
       "    }\n",
       "\n",
       "    .dataframe thead th {\n",
       "        text-align: right;\n",
       "    }\n",
       "</style>\n",
       "<table border=\"1\" class=\"dataframe\">\n",
       "  <thead>\n",
       "    <tr style=\"text-align: right;\">\n",
       "      <th></th>\n",
       "      <th>empid</th>\n",
       "      <th>ename</th>\n",
       "      <th>sal</th>\n",
       "      <th>doj</th>\n",
       "    </tr>\n",
       "  </thead>\n",
       "  <tbody>\n",
       "    <tr>\n",
       "      <th>0</th>\n",
       "      <td>1001</td>\n",
       "      <td>Ganesh Rao</td>\n",
       "      <td>10000.00</td>\n",
       "      <td>10-10-2000</td>\n",
       "    </tr>\n",
       "    <tr>\n",
       "      <th>1</th>\n",
       "      <td>1002</td>\n",
       "      <td>Anil Kumar</td>\n",
       "      <td>23000.50</td>\n",
       "      <td>3-20-2002</td>\n",
       "    </tr>\n",
       "    <tr>\n",
       "      <th>2</th>\n",
       "      <td>1003</td>\n",
       "      <td>Gaurav Gupta</td>\n",
       "      <td>18000.33</td>\n",
       "      <td>03-03-2002</td>\n",
       "    </tr>\n",
       "    <tr>\n",
       "      <th>3</th>\n",
       "      <td>1004</td>\n",
       "      <td>Hema Chandra</td>\n",
       "      <td>16500.50</td>\n",
       "      <td>09-10-2000</td>\n",
       "    </tr>\n",
       "    <tr>\n",
       "      <th>4</th>\n",
       "      <td>1005</td>\n",
       "      <td>Laxmi Prasanna</td>\n",
       "      <td>12000.75</td>\n",
       "      <td>10-08-2000</td>\n",
       "    </tr>\n",
       "  </tbody>\n",
       "</table>\n",
       "</div>"
      ],
      "text/plain": [
       "   empid           ename       sal                              doj\n",
       "0   1001      Ganesh Rao  10000.00                       10-10-2000\n",
       "1   1002      Anil Kumar  23000.50                        3-20-2002\n",
       "2   1003    Gaurav Gupta  18000.33                       03-03-2002\n",
       "3   1004    Hema Chandra  16500.50                       09-10-2000\n",
       "4   1005  Laxmi Prasanna  12000.75                       10-08-2000"
      ]
     },
     "execution_count": 18,
     "metadata": {},
     "output_type": "execute_result"
    }
   ],
   "source": [
    "df.head() #first 5 rows"
   ]
  },
  {
   "cell_type": "code",
   "execution_count": 19,
   "metadata": {},
   "outputs": [
    {
     "data": {
      "text/html": [
       "<div>\n",
       "<style scoped>\n",
       "    .dataframe tbody tr th:only-of-type {\n",
       "        vertical-align: middle;\n",
       "    }\n",
       "\n",
       "    .dataframe tbody tr th {\n",
       "        vertical-align: top;\n",
       "    }\n",
       "\n",
       "    .dataframe thead th {\n",
       "        text-align: right;\n",
       "    }\n",
       "</style>\n",
       "<table border=\"1\" class=\"dataframe\">\n",
       "  <thead>\n",
       "    <tr style=\"text-align: right;\">\n",
       "      <th></th>\n",
       "      <th>empid</th>\n",
       "      <th>ename</th>\n",
       "      <th>sal</th>\n",
       "      <th>doj</th>\n",
       "    </tr>\n",
       "  </thead>\n",
       "  <tbody>\n",
       "    <tr>\n",
       "      <th>1</th>\n",
       "      <td>1002</td>\n",
       "      <td>Anil Kumar</td>\n",
       "      <td>23000.50</td>\n",
       "      <td>3-20-2002</td>\n",
       "    </tr>\n",
       "    <tr>\n",
       "      <th>2</th>\n",
       "      <td>1003</td>\n",
       "      <td>Gaurav Gupta</td>\n",
       "      <td>18000.33</td>\n",
       "      <td>03-03-2002</td>\n",
       "    </tr>\n",
       "    <tr>\n",
       "      <th>3</th>\n",
       "      <td>1004</td>\n",
       "      <td>Hema Chandra</td>\n",
       "      <td>16500.50</td>\n",
       "      <td>09-10-2000</td>\n",
       "    </tr>\n",
       "    <tr>\n",
       "      <th>4</th>\n",
       "      <td>1005</td>\n",
       "      <td>Laxmi Prasanna</td>\n",
       "      <td>12000.75</td>\n",
       "      <td>10-08-2000</td>\n",
       "    </tr>\n",
       "    <tr>\n",
       "      <th>5</th>\n",
       "      <td>1006</td>\n",
       "      <td>Anant Nag</td>\n",
       "      <td>9999.99</td>\n",
       "      <td>09-09-1999</td>\n",
       "    </tr>\n",
       "  </tbody>\n",
       "</table>\n",
       "</div>"
      ],
      "text/plain": [
       "   empid           ename       sal                              doj\n",
       "1   1002      Anil Kumar  23000.50                        3-20-2002\n",
       "2   1003    Gaurav Gupta  18000.33                       03-03-2002\n",
       "3   1004    Hema Chandra  16500.50                       09-10-2000\n",
       "4   1005  Laxmi Prasanna  12000.75                       10-08-2000\n",
       "5   1006       Anant Nag   9999.99                       09-09-1999"
      ]
     },
     "execution_count": 19,
     "metadata": {},
     "output_type": "execute_result"
    }
   ],
   "source": [
    "df.tail() #last 5 rows"
   ]
  },
  {
   "cell_type": "code",
   "execution_count": 20,
   "metadata": {},
   "outputs": [
    {
     "data": {
      "text/html": [
       "<div>\n",
       "<style scoped>\n",
       "    .dataframe tbody tr th:only-of-type {\n",
       "        vertical-align: middle;\n",
       "    }\n",
       "\n",
       "    .dataframe tbody tr th {\n",
       "        vertical-align: top;\n",
       "    }\n",
       "\n",
       "    .dataframe thead th {\n",
       "        text-align: right;\n",
       "    }\n",
       "</style>\n",
       "<table border=\"1\" class=\"dataframe\">\n",
       "  <thead>\n",
       "    <tr style=\"text-align: right;\">\n",
       "      <th></th>\n",
       "      <th>empid</th>\n",
       "      <th>ename</th>\n",
       "      <th>sal</th>\n",
       "      <th>doj</th>\n",
       "    </tr>\n",
       "  </thead>\n",
       "  <tbody>\n",
       "    <tr>\n",
       "      <th>0</th>\n",
       "      <td>1001</td>\n",
       "      <td>Ganesh Rao</td>\n",
       "      <td>10000.0</td>\n",
       "      <td>10-10-2000</td>\n",
       "    </tr>\n",
       "    <tr>\n",
       "      <th>1</th>\n",
       "      <td>1002</td>\n",
       "      <td>Anil Kumar</td>\n",
       "      <td>23000.5</td>\n",
       "      <td>3-20-2002</td>\n",
       "    </tr>\n",
       "  </tbody>\n",
       "</table>\n",
       "</div>"
      ],
      "text/plain": [
       "   empid       ename      sal                              doj\n",
       "0   1001  Ganesh Rao  10000.0                       10-10-2000\n",
       "1   1002  Anil Kumar  23000.5                        3-20-2002"
      ]
     },
     "execution_count": 20,
     "metadata": {},
     "output_type": "execute_result"
    }
   ],
   "source": [
    "df.head(2) #display only first 2 rows"
   ]
  },
  {
   "cell_type": "code",
   "execution_count": 21,
   "metadata": {},
   "outputs": [
    {
     "data": {
      "text/html": [
       "<div>\n",
       "<style scoped>\n",
       "    .dataframe tbody tr th:only-of-type {\n",
       "        vertical-align: middle;\n",
       "    }\n",
       "\n",
       "    .dataframe tbody tr th {\n",
       "        vertical-align: top;\n",
       "    }\n",
       "\n",
       "    .dataframe thead th {\n",
       "        text-align: right;\n",
       "    }\n",
       "</style>\n",
       "<table border=\"1\" class=\"dataframe\">\n",
       "  <thead>\n",
       "    <tr style=\"text-align: right;\">\n",
       "      <th></th>\n",
       "      <th>empid</th>\n",
       "      <th>ename</th>\n",
       "      <th>sal</th>\n",
       "      <th>doj</th>\n",
       "    </tr>\n",
       "  </thead>\n",
       "  <tbody>\n",
       "    <tr>\n",
       "      <th>4</th>\n",
       "      <td>1005</td>\n",
       "      <td>Laxmi Prasanna</td>\n",
       "      <td>12000.75</td>\n",
       "      <td>10-08-2000</td>\n",
       "    </tr>\n",
       "    <tr>\n",
       "      <th>5</th>\n",
       "      <td>1006</td>\n",
       "      <td>Anant Nag</td>\n",
       "      <td>9999.99</td>\n",
       "      <td>09-09-1999</td>\n",
       "    </tr>\n",
       "  </tbody>\n",
       "</table>\n",
       "</div>"
      ],
      "text/plain": [
       "   empid           ename       sal         doj\n",
       "4   1005  Laxmi Prasanna  12000.75  10-08-2000\n",
       "5   1006       Anant Nag   9999.99  09-09-1999"
      ]
     },
     "execution_count": 21,
     "metadata": {},
     "output_type": "execute_result"
    }
   ],
   "source": [
    "df.tail(2) #display only last 2 rows"
   ]
  },
  {
   "cell_type": "markdown",
   "metadata": {},
   "source": [
    "### Retrieving a Range of Rows"
   ]
  },
  {
   "cell_type": "code",
   "execution_count": 22,
   "metadata": {},
   "outputs": [
    {
     "data": {
      "text/html": [
       "<div>\n",
       "<style scoped>\n",
       "    .dataframe tbody tr th:only-of-type {\n",
       "        vertical-align: middle;\n",
       "    }\n",
       "\n",
       "    .dataframe tbody tr th {\n",
       "        vertical-align: top;\n",
       "    }\n",
       "\n",
       "    .dataframe thead th {\n",
       "        text-align: right;\n",
       "    }\n",
       "</style>\n",
       "<table border=\"1\" class=\"dataframe\">\n",
       "  <thead>\n",
       "    <tr style=\"text-align: right;\">\n",
       "      <th></th>\n",
       "      <th>empid</th>\n",
       "      <th>ename</th>\n",
       "      <th>sal</th>\n",
       "      <th>doj</th>\n",
       "    </tr>\n",
       "  </thead>\n",
       "  <tbody>\n",
       "    <tr>\n",
       "      <th>2</th>\n",
       "      <td>1003</td>\n",
       "      <td>Gaurav Gupta</td>\n",
       "      <td>18000.33</td>\n",
       "      <td>03-03-2002</td>\n",
       "    </tr>\n",
       "    <tr>\n",
       "      <th>3</th>\n",
       "      <td>1004</td>\n",
       "      <td>Hema Chandra</td>\n",
       "      <td>16500.50</td>\n",
       "      <td>09-10-2000</td>\n",
       "    </tr>\n",
       "    <tr>\n",
       "      <th>4</th>\n",
       "      <td>1005</td>\n",
       "      <td>Laxmi Prasanna</td>\n",
       "      <td>12000.75</td>\n",
       "      <td>10-08-2000</td>\n",
       "    </tr>\n",
       "  </tbody>\n",
       "</table>\n",
       "</div>"
      ],
      "text/plain": [
       "   empid           ename       sal         doj\n",
       "2   1003    Gaurav Gupta  18000.33  03-03-2002\n",
       "3   1004    Hema Chandra  16500.50  09-10-2000\n",
       "4   1005  Laxmi Prasanna  12000.75  10-08-2000"
      ]
     },
     "execution_count": 22,
     "metadata": {},
     "output_type": "execute_result"
    }
   ],
   "source": [
    "df[2:5] #display 2nd row to 4th row(excludes 5th row)"
   ]
  },
  {
   "cell_type": "code",
   "execution_count": 23,
   "metadata": {},
   "outputs": [
    {
     "data": {
      "text/html": [
       "<div>\n",
       "<style scoped>\n",
       "    .dataframe tbody tr th:only-of-type {\n",
       "        vertical-align: middle;\n",
       "    }\n",
       "\n",
       "    .dataframe tbody tr th {\n",
       "        vertical-align: top;\n",
       "    }\n",
       "\n",
       "    .dataframe thead th {\n",
       "        text-align: right;\n",
       "    }\n",
       "</style>\n",
       "<table border=\"1\" class=\"dataframe\">\n",
       "  <thead>\n",
       "    <tr style=\"text-align: right;\">\n",
       "      <th></th>\n",
       "      <th>empid</th>\n",
       "      <th>ename</th>\n",
       "      <th>sal</th>\n",
       "      <th>doj</th>\n",
       "    </tr>\n",
       "  </thead>\n",
       "  <tbody>\n",
       "    <tr>\n",
       "      <th>0</th>\n",
       "      <td>1001</td>\n",
       "      <td>Ganesh Rao</td>\n",
       "      <td>10000.00</td>\n",
       "      <td>10-10-2000</td>\n",
       "    </tr>\n",
       "    <tr>\n",
       "      <th>2</th>\n",
       "      <td>1003</td>\n",
       "      <td>Gaurav Gupta</td>\n",
       "      <td>18000.33</td>\n",
       "      <td>03-03-2002</td>\n",
       "    </tr>\n",
       "    <tr>\n",
       "      <th>4</th>\n",
       "      <td>1005</td>\n",
       "      <td>Laxmi Prasanna</td>\n",
       "      <td>12000.75</td>\n",
       "      <td>10-08-2000</td>\n",
       "    </tr>\n",
       "  </tbody>\n",
       "</table>\n",
       "</div>"
      ],
      "text/plain": [
       "   empid           ename       sal         doj\n",
       "0   1001      Ganesh Rao  10000.00  10-10-2000\n",
       "2   1003    Gaurav Gupta  18000.33  03-03-2002\n",
       "4   1005  Laxmi Prasanna  12000.75  10-08-2000"
      ]
     },
     "execution_count": 23,
     "metadata": {},
     "output_type": "execute_result"
    }
   ],
   "source": [
    "df[::2] #display alternate rows "
   ]
  },
  {
   "cell_type": "code",
   "execution_count": 24,
   "metadata": {},
   "outputs": [
    {
     "data": {
      "text/html": [
       "<div>\n",
       "<style scoped>\n",
       "    .dataframe tbody tr th:only-of-type {\n",
       "        vertical-align: middle;\n",
       "    }\n",
       "\n",
       "    .dataframe tbody tr th {\n",
       "        vertical-align: top;\n",
       "    }\n",
       "\n",
       "    .dataframe thead th {\n",
       "        text-align: right;\n",
       "    }\n",
       "</style>\n",
       "<table border=\"1\" class=\"dataframe\">\n",
       "  <thead>\n",
       "    <tr style=\"text-align: right;\">\n",
       "      <th></th>\n",
       "      <th>empid</th>\n",
       "      <th>ename</th>\n",
       "      <th>sal</th>\n",
       "      <th>doj</th>\n",
       "    </tr>\n",
       "  </thead>\n",
       "  <tbody>\n",
       "    <tr>\n",
       "      <th>0</th>\n",
       "      <td>1001</td>\n",
       "      <td>Ganesh Rao</td>\n",
       "      <td>10000.00</td>\n",
       "      <td>10-10-2000</td>\n",
       "    </tr>\n",
       "    <tr>\n",
       "      <th>2</th>\n",
       "      <td>1003</td>\n",
       "      <td>Gaurav Gupta</td>\n",
       "      <td>18000.33</td>\n",
       "      <td>03-03-2002</td>\n",
       "    </tr>\n",
       "    <tr>\n",
       "      <th>4</th>\n",
       "      <td>1005</td>\n",
       "      <td>Laxmi Prasanna</td>\n",
       "      <td>12000.75</td>\n",
       "      <td>10-08-2000</td>\n",
       "    </tr>\n",
       "  </tbody>\n",
       "</table>\n",
       "</div>"
      ],
      "text/plain": [
       "   empid           ename       sal         doj\n",
       "0   1001      Ganesh Rao  10000.00  10-10-2000\n",
       "2   1003    Gaurav Gupta  18000.33  03-03-2002\n",
       "4   1005  Laxmi Prasanna  12000.75  10-08-2000"
      ]
     },
     "execution_count": 24,
     "metadata": {},
     "output_type": "execute_result"
    }
   ],
   "source": [
    "df[0::2]"
   ]
  },
  {
   "cell_type": "code",
   "execution_count": 25,
   "metadata": {},
   "outputs": [
    {
     "data": {
      "text/html": [
       "<div>\n",
       "<style scoped>\n",
       "    .dataframe tbody tr th:only-of-type {\n",
       "        vertical-align: middle;\n",
       "    }\n",
       "\n",
       "    .dataframe tbody tr th {\n",
       "        vertical-align: top;\n",
       "    }\n",
       "\n",
       "    .dataframe thead th {\n",
       "        text-align: right;\n",
       "    }\n",
       "</style>\n",
       "<table border=\"1\" class=\"dataframe\">\n",
       "  <thead>\n",
       "    <tr style=\"text-align: right;\">\n",
       "      <th></th>\n",
       "      <th>empid</th>\n",
       "      <th>ename</th>\n",
       "      <th>sal</th>\n",
       "      <th>doj</th>\n",
       "    </tr>\n",
       "  </thead>\n",
       "  <tbody>\n",
       "    <tr>\n",
       "      <th>5</th>\n",
       "      <td>1006</td>\n",
       "      <td>Anant Nag</td>\n",
       "      <td>9999.99</td>\n",
       "      <td>09-09-1999</td>\n",
       "    </tr>\n",
       "    <tr>\n",
       "      <th>4</th>\n",
       "      <td>1005</td>\n",
       "      <td>Laxmi Prasanna</td>\n",
       "      <td>12000.75</td>\n",
       "      <td>10-08-2000</td>\n",
       "    </tr>\n",
       "    <tr>\n",
       "      <th>3</th>\n",
       "      <td>1004</td>\n",
       "      <td>Hema Chandra</td>\n",
       "      <td>16500.50</td>\n",
       "      <td>09-10-2000</td>\n",
       "    </tr>\n",
       "    <tr>\n",
       "      <th>2</th>\n",
       "      <td>1003</td>\n",
       "      <td>Gaurav Gupta</td>\n",
       "      <td>18000.33</td>\n",
       "      <td>03-03-2002</td>\n",
       "    </tr>\n",
       "    <tr>\n",
       "      <th>1</th>\n",
       "      <td>1002</td>\n",
       "      <td>Anil Kumar</td>\n",
       "      <td>23000.50</td>\n",
       "      <td>3-20-2002</td>\n",
       "    </tr>\n",
       "  </tbody>\n",
       "</table>\n",
       "</div>"
      ],
      "text/plain": [
       "   empid           ename       sal                              doj\n",
       "5   1006       Anant Nag   9999.99                       09-09-1999\n",
       "4   1005  Laxmi Prasanna  12000.75                       10-08-2000\n",
       "3   1004    Hema Chandra  16500.50                       09-10-2000\n",
       "2   1003    Gaurav Gupta  18000.33                       03-03-2002\n",
       "1   1002      Anil Kumar  23000.50                        3-20-2002"
      ]
     },
     "execution_count": 25,
     "metadata": {},
     "output_type": "execute_result"
    }
   ],
   "source": [
    "df[5:0:-1] #display the rows in reverse order, use -ve step size"
   ]
  },
  {
   "cell_type": "markdown",
   "metadata": {},
   "source": [
    "### To Retrieve Column Names"
   ]
  },
  {
   "cell_type": "code",
   "execution_count": 28,
   "metadata": {},
   "outputs": [
    {
     "data": {
      "text/plain": [
       "Index(['empid', 'ename', 'sal', 'doj'], dtype='object')"
      ]
     },
     "execution_count": 28,
     "metadata": {},
     "output_type": "execute_result"
    }
   ],
   "source": [
    "df.columns"
   ]
  },
  {
   "cell_type": "markdown",
   "metadata": {},
   "source": [
    "### To Retrieve Column Data"
   ]
  },
  {
   "cell_type": "code",
   "execution_count": 29,
   "metadata": {},
   "outputs": [
    {
     "data": {
      "text/plain": [
       "0    1001\n",
       "1    1002\n",
       "2    1003\n",
       "3    1004\n",
       "4    1005\n",
       "5    1006\n",
       "Name: empid, dtype: int64"
      ]
     },
     "execution_count": 29,
     "metadata": {},
     "output_type": "execute_result"
    }
   ],
   "source": [
    "df.empid #To get the column data, we can mention the column name as subscript."
   ]
  },
  {
   "cell_type": "code",
   "execution_count": 30,
   "metadata": {},
   "outputs": [
    {
     "data": {
      "text/plain": [
       "0    1001\n",
       "1    1002\n",
       "2    1003\n",
       "3    1004\n",
       "4    1005\n",
       "5    1006\n",
       "Name: empid, dtype: int64"
      ]
     },
     "execution_count": 30,
     "metadata": {},
     "output_type": "execute_result"
    }
   ],
   "source": [
    "df['empid']"
   ]
  },
  {
   "cell_type": "markdown",
   "metadata": {},
   "source": [
    "### Retrieving Data from Multiple Columns"
   ]
  },
  {
   "cell_type": "code",
   "execution_count": 32,
   "metadata": {},
   "outputs": [
    {
     "data": {
      "text/html": [
       "<div>\n",
       "<style scoped>\n",
       "    .dataframe tbody tr th:only-of-type {\n",
       "        vertical-align: middle;\n",
       "    }\n",
       "\n",
       "    .dataframe tbody tr th {\n",
       "        vertical-align: top;\n",
       "    }\n",
       "\n",
       "    .dataframe thead th {\n",
       "        text-align: right;\n",
       "    }\n",
       "</style>\n",
       "<table border=\"1\" class=\"dataframe\">\n",
       "  <thead>\n",
       "    <tr style=\"text-align: right;\">\n",
       "      <th></th>\n",
       "      <th>empid</th>\n",
       "      <th>ename</th>\n",
       "    </tr>\n",
       "  </thead>\n",
       "  <tbody>\n",
       "    <tr>\n",
       "      <th>0</th>\n",
       "      <td>1001</td>\n",
       "      <td>Ganesh Rao</td>\n",
       "    </tr>\n",
       "    <tr>\n",
       "      <th>1</th>\n",
       "      <td>1002</td>\n",
       "      <td>Anil Kumar</td>\n",
       "    </tr>\n",
       "    <tr>\n",
       "      <th>2</th>\n",
       "      <td>1003</td>\n",
       "      <td>Gaurav Gupta</td>\n",
       "    </tr>\n",
       "    <tr>\n",
       "      <th>3</th>\n",
       "      <td>1004</td>\n",
       "      <td>Hema Chandra</td>\n",
       "    </tr>\n",
       "    <tr>\n",
       "      <th>4</th>\n",
       "      <td>1005</td>\n",
       "      <td>Laxmi Prasanna</td>\n",
       "    </tr>\n",
       "    <tr>\n",
       "      <th>5</th>\n",
       "      <td>1006</td>\n",
       "      <td>Anant Nag</td>\n",
       "    </tr>\n",
       "  </tbody>\n",
       "</table>\n",
       "</div>"
      ],
      "text/plain": [
       "   empid           ename\n",
       "0   1001      Ganesh Rao\n",
       "1   1002      Anil Kumar\n",
       "2   1003    Gaurav Gupta\n",
       "3   1004    Hema Chandra\n",
       "4   1005  Laxmi Prasanna\n",
       "5   1006       Anant Nag"
      ]
     },
     "execution_count": 32,
     "metadata": {},
     "output_type": "execute_result"
    }
   ],
   "source": [
    "df[['empid', 'ename']]"
   ]
  },
  {
   "cell_type": "markdown",
   "metadata": {},
   "source": [
    "### Finding Maximum and Minimum Values"
   ]
  },
  {
   "cell_type": "code",
   "execution_count": 5,
   "metadata": {},
   "outputs": [
    {
     "data": {
      "text/plain": [
       "23000.5"
      ]
     },
     "execution_count": 5,
     "metadata": {},
     "output_type": "execute_result"
    }
   ],
   "source": [
    "df['sal'].max()"
   ]
  },
  {
   "cell_type": "code",
   "execution_count": 6,
   "metadata": {},
   "outputs": [
    {
     "data": {
      "text/plain": [
       "9999.99"
      ]
     },
     "execution_count": 6,
     "metadata": {},
     "output_type": "execute_result"
    }
   ],
   "source": [
    "df['sal'].min()"
   ]
  },
  {
   "cell_type": "markdown",
   "metadata": {},
   "source": [
    "### Displaying statistical information."
   ]
  },
  {
   "cell_type": "code",
   "execution_count": 7,
   "metadata": {},
   "outputs": [
    {
     "data": {
      "text/html": [
       "<div>\n",
       "<style scoped>\n",
       "    .dataframe tbody tr th:only-of-type {\n",
       "        vertical-align: middle;\n",
       "    }\n",
       "\n",
       "    .dataframe tbody tr th {\n",
       "        vertical-align: top;\n",
       "    }\n",
       "\n",
       "    .dataframe thead th {\n",
       "        text-align: right;\n",
       "    }\n",
       "</style>\n",
       "<table border=\"1\" class=\"dataframe\">\n",
       "  <thead>\n",
       "    <tr style=\"text-align: right;\">\n",
       "      <th></th>\n",
       "      <th>empid</th>\n",
       "      <th>sal</th>\n",
       "    </tr>\n",
       "  </thead>\n",
       "  <tbody>\n",
       "    <tr>\n",
       "      <th>count</th>\n",
       "      <td>6.000000</td>\n",
       "      <td>6.000000</td>\n",
       "    </tr>\n",
       "    <tr>\n",
       "      <th>mean</th>\n",
       "      <td>1003.500000</td>\n",
       "      <td>14917.011667</td>\n",
       "    </tr>\n",
       "    <tr>\n",
       "      <th>std</th>\n",
       "      <td>1.870829</td>\n",
       "      <td>5181.037711</td>\n",
       "    </tr>\n",
       "    <tr>\n",
       "      <th>min</th>\n",
       "      <td>1001.000000</td>\n",
       "      <td>9999.990000</td>\n",
       "    </tr>\n",
       "    <tr>\n",
       "      <th>25%</th>\n",
       "      <td>1002.250000</td>\n",
       "      <td>10500.187500</td>\n",
       "    </tr>\n",
       "    <tr>\n",
       "      <th>50%</th>\n",
       "      <td>1003.500000</td>\n",
       "      <td>14250.625000</td>\n",
       "    </tr>\n",
       "    <tr>\n",
       "      <th>75%</th>\n",
       "      <td>1004.750000</td>\n",
       "      <td>17625.372500</td>\n",
       "    </tr>\n",
       "    <tr>\n",
       "      <th>max</th>\n",
       "      <td>1006.000000</td>\n",
       "      <td>23000.500000</td>\n",
       "    </tr>\n",
       "  </tbody>\n",
       "</table>\n",
       "</div>"
      ],
      "text/plain": [
       "             empid           sal\n",
       "count     6.000000      6.000000\n",
       "mean   1003.500000  14917.011667\n",
       "std       1.870829   5181.037711\n",
       "min    1001.000000   9999.990000\n",
       "25%    1002.250000  10500.187500\n",
       "50%    1003.500000  14250.625000\n",
       "75%    1004.750000  17625.372500\n",
       "max    1006.000000  23000.500000"
      ]
     },
     "execution_count": 7,
     "metadata": {},
     "output_type": "execute_result"
    }
   ],
   "source": [
    "df.describe()"
   ]
  },
  {
   "cell_type": "markdown",
   "metadata": {},
   "source": [
    "### Performing Queries on Data."
   ]
  },
  {
   "cell_type": "code",
   "execution_count": 8,
   "metadata": {},
   "outputs": [
    {
     "data": {
      "text/html": [
       "<div>\n",
       "<style scoped>\n",
       "    .dataframe tbody tr th:only-of-type {\n",
       "        vertical-align: middle;\n",
       "    }\n",
       "\n",
       "    .dataframe tbody tr th {\n",
       "        vertical-align: top;\n",
       "    }\n",
       "\n",
       "    .dataframe thead th {\n",
       "        text-align: right;\n",
       "    }\n",
       "</style>\n",
       "<table border=\"1\" class=\"dataframe\">\n",
       "  <thead>\n",
       "    <tr style=\"text-align: right;\">\n",
       "      <th></th>\n",
       "      <th>empid</th>\n",
       "      <th>ename</th>\n",
       "      <th>sal</th>\n",
       "      <th>doj</th>\n",
       "    </tr>\n",
       "  </thead>\n",
       "  <tbody>\n",
       "    <tr>\n",
       "      <th>1</th>\n",
       "      <td>1002</td>\n",
       "      <td>Anil Kumar</td>\n",
       "      <td>23000.50</td>\n",
       "      <td>3-20-2002</td>\n",
       "    </tr>\n",
       "    <tr>\n",
       "      <th>2</th>\n",
       "      <td>1003</td>\n",
       "      <td>Gaurav Gupta</td>\n",
       "      <td>18000.33</td>\n",
       "      <td>03-03-2002</td>\n",
       "    </tr>\n",
       "    <tr>\n",
       "      <th>3</th>\n",
       "      <td>1004</td>\n",
       "      <td>Hema Chandra</td>\n",
       "      <td>16500.50</td>\n",
       "      <td>09-10-2000</td>\n",
       "    </tr>\n",
       "    <tr>\n",
       "      <th>4</th>\n",
       "      <td>1005</td>\n",
       "      <td>Laxmi Prasanna</td>\n",
       "      <td>12000.75</td>\n",
       "      <td>10-08-2000</td>\n",
       "    </tr>\n",
       "  </tbody>\n",
       "</table>\n",
       "</div>"
      ],
      "text/plain": [
       "   empid           ename       sal                              doj\n",
       "1   1002      Anil Kumar  23000.50                        3-20-2002\n",
       "2   1003    Gaurav Gupta  18000.33                       03-03-2002\n",
       "3   1004    Hema Chandra  16500.50                       09-10-2000\n",
       "4   1005  Laxmi Prasanna  12000.75                       10-08-2000"
      ]
     },
     "execution_count": 8,
     "metadata": {},
     "output_type": "execute_result"
    }
   ],
   "source": [
    "#to retrieve all the rows where salary is greater than Rs. 10000 we can write.\n",
    "df[df.sal>10000]"
   ]
  },
  {
   "cell_type": "code",
   "execution_count": 9,
   "metadata": {},
   "outputs": [
    {
     "data": {
      "text/html": [
       "<div>\n",
       "<style scoped>\n",
       "    .dataframe tbody tr th:only-of-type {\n",
       "        vertical-align: middle;\n",
       "    }\n",
       "\n",
       "    .dataframe tbody tr th {\n",
       "        vertical-align: top;\n",
       "    }\n",
       "\n",
       "    .dataframe thead th {\n",
       "        text-align: right;\n",
       "    }\n",
       "</style>\n",
       "<table border=\"1\" class=\"dataframe\">\n",
       "  <thead>\n",
       "    <tr style=\"text-align: right;\">\n",
       "      <th></th>\n",
       "      <th>empid</th>\n",
       "      <th>ename</th>\n",
       "      <th>sal</th>\n",
       "      <th>doj</th>\n",
       "    </tr>\n",
       "  </thead>\n",
       "  <tbody>\n",
       "    <tr>\n",
       "      <th>1</th>\n",
       "      <td>1002</td>\n",
       "      <td>Anil Kumar</td>\n",
       "      <td>23000.5</td>\n",
       "      <td>3-20-2002</td>\n",
       "    </tr>\n",
       "  </tbody>\n",
       "</table>\n",
       "</div>"
      ],
      "text/plain": [
       "   empid       ename      sal                              doj\n",
       "1   1002  Anil Kumar  23000.5                        3-20-2002"
      ]
     },
     "execution_count": 9,
     "metadata": {},
     "output_type": "execute_result"
    }
   ],
   "source": [
    "#To retrieve the rows where salary is maximum, we can write.\n",
    "df[df.sal == df.sal.max()]"
   ]
  },
  {
   "cell_type": "code",
   "execution_count": 10,
   "metadata": {},
   "outputs": [
    {
     "data": {
      "text/html": [
       "<div>\n",
       "<style scoped>\n",
       "    .dataframe tbody tr th:only-of-type {\n",
       "        vertical-align: middle;\n",
       "    }\n",
       "\n",
       "    .dataframe tbody tr th {\n",
       "        vertical-align: top;\n",
       "    }\n",
       "\n",
       "    .dataframe thead th {\n",
       "        text-align: right;\n",
       "    }\n",
       "</style>\n",
       "<table border=\"1\" class=\"dataframe\">\n",
       "  <thead>\n",
       "    <tr style=\"text-align: right;\">\n",
       "      <th></th>\n",
       "      <th>empid</th>\n",
       "      <th>ename</th>\n",
       "    </tr>\n",
       "  </thead>\n",
       "  <tbody>\n",
       "    <tr>\n",
       "      <th>1</th>\n",
       "      <td>1002</td>\n",
       "      <td>Anil Kumar</td>\n",
       "    </tr>\n",
       "    <tr>\n",
       "      <th>2</th>\n",
       "      <td>1003</td>\n",
       "      <td>Gaurav Gupta</td>\n",
       "    </tr>\n",
       "    <tr>\n",
       "      <th>3</th>\n",
       "      <td>1004</td>\n",
       "      <td>Hema Chandra</td>\n",
       "    </tr>\n",
       "    <tr>\n",
       "      <th>4</th>\n",
       "      <td>1005</td>\n",
       "      <td>Laxmi Prasanna</td>\n",
       "    </tr>\n",
       "  </tbody>\n",
       "</table>\n",
       "</div>"
      ],
      "text/plain": [
       "   empid           ename\n",
       "1   1002      Anil Kumar\n",
       "2   1003    Gaurav Gupta\n",
       "3   1004    Hema Chandra\n",
       "4   1005  Laxmi Prasanna"
      ]
     },
     "execution_count": 10,
     "metadata": {},
     "output_type": "execute_result"
    }
   ],
   "source": [
    "#To display only id numbers and names where the salary is greater than Rs10000.\n",
    "df[['empid', 'ename']][df.sal>10000]"
   ]
  },
  {
   "cell_type": "markdown",
   "metadata": {},
   "source": [
    "### Knowing the Index range"
   ]
  },
  {
   "cell_type": "code",
   "execution_count": 7,
   "metadata": {},
   "outputs": [
    {
     "data": {
      "text/plain": [
       "RangeIndex(start=0, stop=6, step=1)"
      ]
     },
     "execution_count": 7,
     "metadata": {},
     "output_type": "execute_result"
    }
   ],
   "source": [
    "df.index"
   ]
  },
  {
   "cell_type": "markdown",
   "metadata": {},
   "source": [
    "### Setting a column as Index"
   ]
  },
  {
   "cell_type": "code",
   "execution_count": 8,
   "metadata": {},
   "outputs": [
    {
     "data": {
      "text/html": [
       "<div>\n",
       "<style scoped>\n",
       "    .dataframe tbody tr th:only-of-type {\n",
       "        vertical-align: middle;\n",
       "    }\n",
       "\n",
       "    .dataframe tbody tr th {\n",
       "        vertical-align: top;\n",
       "    }\n",
       "\n",
       "    .dataframe thead th {\n",
       "        text-align: right;\n",
       "    }\n",
       "</style>\n",
       "<table border=\"1\" class=\"dataframe\">\n",
       "  <thead>\n",
       "    <tr style=\"text-align: right;\">\n",
       "      <th></th>\n",
       "      <th>ename</th>\n",
       "      <th>sal</th>\n",
       "      <th>doj</th>\n",
       "    </tr>\n",
       "    <tr>\n",
       "      <th>empid</th>\n",
       "      <th></th>\n",
       "      <th></th>\n",
       "      <th></th>\n",
       "    </tr>\n",
       "  </thead>\n",
       "  <tbody>\n",
       "    <tr>\n",
       "      <th>1001</th>\n",
       "      <td>Ganesh Rao</td>\n",
       "      <td>10000.00</td>\n",
       "      <td>10-10-2000</td>\n",
       "    </tr>\n",
       "    <tr>\n",
       "      <th>1002</th>\n",
       "      <td>Anil Kumar</td>\n",
       "      <td>23000.50</td>\n",
       "      <td>3-20-2002</td>\n",
       "    </tr>\n",
       "    <tr>\n",
       "      <th>1003</th>\n",
       "      <td>Gaurav Gupta</td>\n",
       "      <td>18000.33</td>\n",
       "      <td>03-03-2002</td>\n",
       "    </tr>\n",
       "    <tr>\n",
       "      <th>1004</th>\n",
       "      <td>Hema Chandra</td>\n",
       "      <td>16500.50</td>\n",
       "      <td>09-10-2000</td>\n",
       "    </tr>\n",
       "    <tr>\n",
       "      <th>1005</th>\n",
       "      <td>Laxmi Prasanna</td>\n",
       "      <td>12000.75</td>\n",
       "      <td>10-08-2000</td>\n",
       "    </tr>\n",
       "    <tr>\n",
       "      <th>1006</th>\n",
       "      <td>Anant Nag</td>\n",
       "      <td>9999.99</td>\n",
       "      <td>09-09-1999</td>\n",
       "    </tr>\n",
       "  </tbody>\n",
       "</table>\n",
       "</div>"
      ],
      "text/plain": [
       "                ename       sal                              doj\n",
       "empid                                                           \n",
       "1001       Ganesh Rao  10000.00                       10-10-2000\n",
       "1002       Anil Kumar  23000.50                        3-20-2002\n",
       "1003     Gaurav Gupta  18000.33                       03-03-2002\n",
       "1004     Hema Chandra  16500.50                       09-10-2000\n",
       "1005   Laxmi Prasanna  12000.75                       10-08-2000\n",
       "1006        Anant Nag   9999.99                       09-09-1999"
      ]
     },
     "execution_count": 8,
     "metadata": {},
     "output_type": "execute_result"
    }
   ],
   "source": [
    "df1 = df.set_index('empid')\n",
    "df1"
   ]
  },
  {
   "cell_type": "code",
   "execution_count": 9,
   "metadata": {},
   "outputs": [
    {
     "data": {
      "text/html": [
       "<div>\n",
       "<style scoped>\n",
       "    .dataframe tbody tr th:only-of-type {\n",
       "        vertical-align: middle;\n",
       "    }\n",
       "\n",
       "    .dataframe tbody tr th {\n",
       "        vertical-align: top;\n",
       "    }\n",
       "\n",
       "    .dataframe thead th {\n",
       "        text-align: right;\n",
       "    }\n",
       "</style>\n",
       "<table border=\"1\" class=\"dataframe\">\n",
       "  <thead>\n",
       "    <tr style=\"text-align: right;\">\n",
       "      <th></th>\n",
       "      <th>ename</th>\n",
       "      <th>sal</th>\n",
       "      <th>doj</th>\n",
       "    </tr>\n",
       "    <tr>\n",
       "      <th>empid</th>\n",
       "      <th></th>\n",
       "      <th></th>\n",
       "      <th></th>\n",
       "    </tr>\n",
       "  </thead>\n",
       "  <tbody>\n",
       "    <tr>\n",
       "      <th>1001</th>\n",
       "      <td>Ganesh Rao</td>\n",
       "      <td>10000.00</td>\n",
       "      <td>10-10-2000</td>\n",
       "    </tr>\n",
       "    <tr>\n",
       "      <th>1002</th>\n",
       "      <td>Anil Kumar</td>\n",
       "      <td>23000.50</td>\n",
       "      <td>3-20-2002</td>\n",
       "    </tr>\n",
       "    <tr>\n",
       "      <th>1003</th>\n",
       "      <td>Gaurav Gupta</td>\n",
       "      <td>18000.33</td>\n",
       "      <td>03-03-2002</td>\n",
       "    </tr>\n",
       "    <tr>\n",
       "      <th>1004</th>\n",
       "      <td>Hema Chandra</td>\n",
       "      <td>16500.50</td>\n",
       "      <td>09-10-2000</td>\n",
       "    </tr>\n",
       "    <tr>\n",
       "      <th>1005</th>\n",
       "      <td>Laxmi Prasanna</td>\n",
       "      <td>12000.75</td>\n",
       "      <td>10-08-2000</td>\n",
       "    </tr>\n",
       "    <tr>\n",
       "      <th>1006</th>\n",
       "      <td>Anant Nag</td>\n",
       "      <td>9999.99</td>\n",
       "      <td>09-09-1999</td>\n",
       "    </tr>\n",
       "  </tbody>\n",
       "</table>\n",
       "</div>"
      ],
      "text/plain": [
       "                ename       sal                              doj\n",
       "empid                                                           \n",
       "1001       Ganesh Rao  10000.00                       10-10-2000\n",
       "1002       Anil Kumar  23000.50                        3-20-2002\n",
       "1003     Gaurav Gupta  18000.33                       03-03-2002\n",
       "1004     Hema Chandra  16500.50                       09-10-2000\n",
       "1005   Laxmi Prasanna  12000.75                       10-08-2000\n",
       "1006        Anant Nag   9999.99                       09-09-1999"
      ]
     },
     "execution_count": 9,
     "metadata": {},
     "output_type": "execute_result"
    }
   ],
   "source": [
    "#If we want to modify the original 'df' and set empid as index column, we should add 'inplace = True' as shown below.\n",
    "df.set_index('empid', inplace = True)\n",
    "df"
   ]
  },
  {
   "cell_type": "code",
   "execution_count": 11,
   "metadata": {},
   "outputs": [
    {
     "data": {
      "text/plain": [
       "ename    Hema Chandra\n",
       "sal           16500.5\n",
       "doj        09-10-2000\n",
       "Name: 1004, dtype: object"
      ]
     },
     "execution_count": 11,
     "metadata": {},
     "output_type": "execute_result"
    }
   ],
   "source": [
    "#Once we set 'empid' as index, it is possible to locate the data of any employee by passing employee id number to loc attribute as:\n",
    "df.loc[1004]"
   ]
  },
  {
   "cell_type": "markdown",
   "metadata": {},
   "source": [
    "### Resetting the Index"
   ]
  },
  {
   "cell_type": "code",
   "execution_count": 12,
   "metadata": {},
   "outputs": [
    {
     "data": {
      "text/html": [
       "<div>\n",
       "<style scoped>\n",
       "    .dataframe tbody tr th:only-of-type {\n",
       "        vertical-align: middle;\n",
       "    }\n",
       "\n",
       "    .dataframe tbody tr th {\n",
       "        vertical-align: top;\n",
       "    }\n",
       "\n",
       "    .dataframe thead th {\n",
       "        text-align: right;\n",
       "    }\n",
       "</style>\n",
       "<table border=\"1\" class=\"dataframe\">\n",
       "  <thead>\n",
       "    <tr style=\"text-align: right;\">\n",
       "      <th></th>\n",
       "      <th>empid</th>\n",
       "      <th>ename</th>\n",
       "      <th>sal</th>\n",
       "      <th>doj</th>\n",
       "    </tr>\n",
       "  </thead>\n",
       "  <tbody>\n",
       "    <tr>\n",
       "      <th>0</th>\n",
       "      <td>1001</td>\n",
       "      <td>Ganesh Rao</td>\n",
       "      <td>10000.00</td>\n",
       "      <td>10-10-2000</td>\n",
       "    </tr>\n",
       "    <tr>\n",
       "      <th>1</th>\n",
       "      <td>1002</td>\n",
       "      <td>Anil Kumar</td>\n",
       "      <td>23000.50</td>\n",
       "      <td>3-20-2002</td>\n",
       "    </tr>\n",
       "    <tr>\n",
       "      <th>2</th>\n",
       "      <td>1003</td>\n",
       "      <td>Gaurav Gupta</td>\n",
       "      <td>18000.33</td>\n",
       "      <td>03-03-2002</td>\n",
       "    </tr>\n",
       "    <tr>\n",
       "      <th>3</th>\n",
       "      <td>1004</td>\n",
       "      <td>Hema Chandra</td>\n",
       "      <td>16500.50</td>\n",
       "      <td>09-10-2000</td>\n",
       "    </tr>\n",
       "    <tr>\n",
       "      <th>4</th>\n",
       "      <td>1005</td>\n",
       "      <td>Laxmi Prasanna</td>\n",
       "      <td>12000.75</td>\n",
       "      <td>10-08-2000</td>\n",
       "    </tr>\n",
       "    <tr>\n",
       "      <th>5</th>\n",
       "      <td>1006</td>\n",
       "      <td>Anant Nag</td>\n",
       "      <td>9999.99</td>\n",
       "      <td>09-09-1999</td>\n",
       "    </tr>\n",
       "  </tbody>\n",
       "</table>\n",
       "</div>"
      ],
      "text/plain": [
       "   empid           ename       sal                              doj\n",
       "0   1001      Ganesh Rao  10000.00                       10-10-2000\n",
       "1   1002      Anil Kumar  23000.50                        3-20-2002\n",
       "2   1003    Gaurav Gupta  18000.33                       03-03-2002\n",
       "3   1004    Hema Chandra  16500.50                       09-10-2000\n",
       "4   1005  Laxmi Prasanna  12000.75                       10-08-2000\n",
       "5   1006       Anant Nag   9999.99                       09-09-1999"
      ]
     },
     "execution_count": 12,
     "metadata": {},
     "output_type": "execute_result"
    }
   ],
   "source": [
    "df.reset_index(inplace = True)\n",
    "df"
   ]
  },
  {
   "cell_type": "markdown",
   "metadata": {},
   "source": [
    "### Sorting the data"
   ]
  },
  {
   "cell_type": "code",
   "execution_count": 13,
   "metadata": {},
   "outputs": [],
   "source": [
    "df = pd.read_csv(\"C:\\\\Users\\HP\\Downloads\\empdata.csv\")"
   ]
  },
  {
   "cell_type": "code",
   "execution_count": 14,
   "metadata": {},
   "outputs": [
    {
     "data": {
      "text/html": [
       "<div>\n",
       "<style scoped>\n",
       "    .dataframe tbody tr th:only-of-type {\n",
       "        vertical-align: middle;\n",
       "    }\n",
       "\n",
       "    .dataframe tbody tr th {\n",
       "        vertical-align: top;\n",
       "    }\n",
       "\n",
       "    .dataframe thead th {\n",
       "        text-align: right;\n",
       "    }\n",
       "</style>\n",
       "<table border=\"1\" class=\"dataframe\">\n",
       "  <thead>\n",
       "    <tr style=\"text-align: right;\">\n",
       "      <th></th>\n",
       "      <th>empid</th>\n",
       "      <th>ename</th>\n",
       "      <th>sal</th>\n",
       "      <th>doj</th>\n",
       "    </tr>\n",
       "  </thead>\n",
       "  <tbody>\n",
       "    <tr>\n",
       "      <th>0</th>\n",
       "      <td>1001</td>\n",
       "      <td>Ganesh Rao</td>\n",
       "      <td>10000.00</td>\n",
       "      <td>10-10-2000</td>\n",
       "    </tr>\n",
       "    <tr>\n",
       "      <th>1</th>\n",
       "      <td>1002</td>\n",
       "      <td>Anil Kumar</td>\n",
       "      <td>23000.50</td>\n",
       "      <td>3-20-2002</td>\n",
       "    </tr>\n",
       "    <tr>\n",
       "      <th>2</th>\n",
       "      <td>1003</td>\n",
       "      <td>Gaurav Gupta</td>\n",
       "      <td>18000.33</td>\n",
       "      <td>03-03-2002</td>\n",
       "    </tr>\n",
       "    <tr>\n",
       "      <th>3</th>\n",
       "      <td>1004</td>\n",
       "      <td>Hema Chandra</td>\n",
       "      <td>16500.50</td>\n",
       "      <td>09-10-2000</td>\n",
       "    </tr>\n",
       "    <tr>\n",
       "      <th>4</th>\n",
       "      <td>1005</td>\n",
       "      <td>Laxmi Prasanna</td>\n",
       "      <td>12000.75</td>\n",
       "      <td>10-08-2000</td>\n",
       "    </tr>\n",
       "    <tr>\n",
       "      <th>5</th>\n",
       "      <td>1006</td>\n",
       "      <td>Anant Nag</td>\n",
       "      <td>9999.99</td>\n",
       "      <td>09-09-1999</td>\n",
       "    </tr>\n",
       "  </tbody>\n",
       "</table>\n",
       "</div>"
      ],
      "text/plain": [
       "   empid           ename       sal                              doj\n",
       "0   1001      Ganesh Rao  10000.00                       10-10-2000\n",
       "1   1002      Anil Kumar  23000.50                        3-20-2002\n",
       "2   1003    Gaurav Gupta  18000.33                       03-03-2002\n",
       "3   1004    Hema Chandra  16500.50                       09-10-2000\n",
       "4   1005  Laxmi Prasanna  12000.75                       10-08-2000\n",
       "5   1006       Anant Nag   9999.99                       09-09-1999"
      ]
     },
     "execution_count": 14,
     "metadata": {},
     "output_type": "execute_result"
    }
   ],
   "source": [
    "df"
   ]
  },
  {
   "cell_type": "code",
   "execution_count": 15,
   "metadata": {},
   "outputs": [
    {
     "data": {
      "text/html": [
       "<div>\n",
       "<style scoped>\n",
       "    .dataframe tbody tr th:only-of-type {\n",
       "        vertical-align: middle;\n",
       "    }\n",
       "\n",
       "    .dataframe tbody tr th {\n",
       "        vertical-align: top;\n",
       "    }\n",
       "\n",
       "    .dataframe thead th {\n",
       "        text-align: right;\n",
       "    }\n",
       "</style>\n",
       "<table border=\"1\" class=\"dataframe\">\n",
       "  <thead>\n",
       "    <tr style=\"text-align: right;\">\n",
       "      <th></th>\n",
       "      <th>empid</th>\n",
       "      <th>ename</th>\n",
       "      <th>sal</th>\n",
       "      <th>doj</th>\n",
       "    </tr>\n",
       "  </thead>\n",
       "  <tbody>\n",
       "    <tr>\n",
       "      <th>1</th>\n",
       "      <td>1002</td>\n",
       "      <td>Anil Kumar</td>\n",
       "      <td>23000.50</td>\n",
       "      <td>3-20-2002</td>\n",
       "    </tr>\n",
       "    <tr>\n",
       "      <th>2</th>\n",
       "      <td>1003</td>\n",
       "      <td>Gaurav Gupta</td>\n",
       "      <td>18000.33</td>\n",
       "      <td>03-03-2002</td>\n",
       "    </tr>\n",
       "    <tr>\n",
       "      <th>5</th>\n",
       "      <td>1006</td>\n",
       "      <td>Anant Nag</td>\n",
       "      <td>9999.99</td>\n",
       "      <td>09-09-1999</td>\n",
       "    </tr>\n",
       "    <tr>\n",
       "      <th>3</th>\n",
       "      <td>1004</td>\n",
       "      <td>Hema Chandra</td>\n",
       "      <td>16500.50</td>\n",
       "      <td>09-10-2000</td>\n",
       "    </tr>\n",
       "    <tr>\n",
       "      <th>4</th>\n",
       "      <td>1005</td>\n",
       "      <td>Laxmi Prasanna</td>\n",
       "      <td>12000.75</td>\n",
       "      <td>10-08-2000</td>\n",
       "    </tr>\n",
       "    <tr>\n",
       "      <th>0</th>\n",
       "      <td>1001</td>\n",
       "      <td>Ganesh Rao</td>\n",
       "      <td>10000.00</td>\n",
       "      <td>10-10-2000</td>\n",
       "    </tr>\n",
       "  </tbody>\n",
       "</table>\n",
       "</div>"
      ],
      "text/plain": [
       "   empid           ename       sal                              doj\n",
       "1   1002      Anil Kumar  23000.50                        3-20-2002\n",
       "2   1003    Gaurav Gupta  18000.33                       03-03-2002\n",
       "5   1006       Anant Nag   9999.99                       09-09-1999\n",
       "3   1004    Hema Chandra  16500.50                       09-10-2000\n",
       "4   1005  Laxmi Prasanna  12000.75                       10-08-2000\n",
       "0   1001      Ganesh Rao  10000.00                       10-10-2000"
      ]
     },
     "execution_count": 15,
     "metadata": {},
     "output_type": "execute_result"
    }
   ],
   "source": [
    "#To sort the rows on 'doj' column into ascending order, we can use sort_values() method as:\n",
    "df1 = df.sort_values('doj')\n",
    "df1"
   ]
  },
  {
   "cell_type": "code",
   "execution_count": 17,
   "metadata": {},
   "outputs": [
    {
     "data": {
      "text/html": [
       "<div>\n",
       "<style scoped>\n",
       "    .dataframe tbody tr th:only-of-type {\n",
       "        vertical-align: middle;\n",
       "    }\n",
       "\n",
       "    .dataframe tbody tr th {\n",
       "        vertical-align: top;\n",
       "    }\n",
       "\n",
       "    .dataframe thead th {\n",
       "        text-align: right;\n",
       "    }\n",
       "</style>\n",
       "<table border=\"1\" class=\"dataframe\">\n",
       "  <thead>\n",
       "    <tr style=\"text-align: right;\">\n",
       "      <th></th>\n",
       "      <th>empid</th>\n",
       "      <th>ename</th>\n",
       "      <th>sal</th>\n",
       "      <th>doj</th>\n",
       "    </tr>\n",
       "  </thead>\n",
       "  <tbody>\n",
       "    <tr>\n",
       "      <th>0</th>\n",
       "      <td>1001</td>\n",
       "      <td>Ganesh Rao</td>\n",
       "      <td>10000.00</td>\n",
       "      <td>10-10-2000</td>\n",
       "    </tr>\n",
       "    <tr>\n",
       "      <th>4</th>\n",
       "      <td>1005</td>\n",
       "      <td>Laxmi Prasanna</td>\n",
       "      <td>12000.75</td>\n",
       "      <td>10-08-2000</td>\n",
       "    </tr>\n",
       "    <tr>\n",
       "      <th>3</th>\n",
       "      <td>1004</td>\n",
       "      <td>Hema Chandra</td>\n",
       "      <td>16500.50</td>\n",
       "      <td>09-10-2000</td>\n",
       "    </tr>\n",
       "    <tr>\n",
       "      <th>5</th>\n",
       "      <td>1006</td>\n",
       "      <td>Anant Nag</td>\n",
       "      <td>9999.99</td>\n",
       "      <td>09-09-1999</td>\n",
       "    </tr>\n",
       "    <tr>\n",
       "      <th>2</th>\n",
       "      <td>1003</td>\n",
       "      <td>Gaurav Gupta</td>\n",
       "      <td>18000.33</td>\n",
       "      <td>03-03-2002</td>\n",
       "    </tr>\n",
       "    <tr>\n",
       "      <th>1</th>\n",
       "      <td>1002</td>\n",
       "      <td>Anil Kumar</td>\n",
       "      <td>23000.50</td>\n",
       "      <td>3-20-2002</td>\n",
       "    </tr>\n",
       "  </tbody>\n",
       "</table>\n",
       "</div>"
      ],
      "text/plain": [
       "   empid           ename       sal                              doj\n",
       "0   1001      Ganesh Rao  10000.00                       10-10-2000\n",
       "4   1005  Laxmi Prasanna  12000.75                       10-08-2000\n",
       "3   1004    Hema Chandra  16500.50                       09-10-2000\n",
       "5   1006       Anant Nag   9999.99                       09-09-1999\n",
       "2   1003    Gaurav Gupta  18000.33                       03-03-2002\n",
       "1   1002      Anil Kumar  23000.50                        3-20-2002"
      ]
     },
     "execution_count": 17,
     "metadata": {},
     "output_type": "execute_result"
    }
   ],
   "source": [
    "#To sort in descending order.\n",
    "df1 = df.sort_values('doj', ascending = False)\n",
    "df1"
   ]
  },
  {
   "cell_type": "code",
   "execution_count": 18,
   "metadata": {},
   "outputs": [
    {
     "data": {
      "text/html": [
       "<div>\n",
       "<style scoped>\n",
       "    .dataframe tbody tr th:only-of-type {\n",
       "        vertical-align: middle;\n",
       "    }\n",
       "\n",
       "    .dataframe tbody tr th {\n",
       "        vertical-align: top;\n",
       "    }\n",
       "\n",
       "    .dataframe thead th {\n",
       "        text-align: right;\n",
       "    }\n",
       "</style>\n",
       "<table border=\"1\" class=\"dataframe\">\n",
       "  <thead>\n",
       "    <tr style=\"text-align: right;\">\n",
       "      <th></th>\n",
       "      <th>empid</th>\n",
       "      <th>ename</th>\n",
       "      <th>sal</th>\n",
       "      <th>doj</th>\n",
       "    </tr>\n",
       "  </thead>\n",
       "  <tbody>\n",
       "    <tr>\n",
       "      <th>0</th>\n",
       "      <td>1001</td>\n",
       "      <td>Ganesh Rao</td>\n",
       "      <td>10000.00</td>\n",
       "      <td>10-10-2000</td>\n",
       "    </tr>\n",
       "    <tr>\n",
       "      <th>4</th>\n",
       "      <td>1005</td>\n",
       "      <td>Laxmi Prasanna</td>\n",
       "      <td>12000.75</td>\n",
       "      <td>10-08-2000</td>\n",
       "    </tr>\n",
       "    <tr>\n",
       "      <th>3</th>\n",
       "      <td>1004</td>\n",
       "      <td>Hema Chandra</td>\n",
       "      <td>16500.50</td>\n",
       "      <td>09-10-2000</td>\n",
       "    </tr>\n",
       "    <tr>\n",
       "      <th>5</th>\n",
       "      <td>1006</td>\n",
       "      <td>Anant Nag</td>\n",
       "      <td>9999.99</td>\n",
       "      <td>09-09-1999</td>\n",
       "    </tr>\n",
       "    <tr>\n",
       "      <th>2</th>\n",
       "      <td>1003</td>\n",
       "      <td>Gaurav Gupta</td>\n",
       "      <td>18000.33</td>\n",
       "      <td>03-03-2002</td>\n",
       "    </tr>\n",
       "    <tr>\n",
       "      <th>1</th>\n",
       "      <td>1002</td>\n",
       "      <td>Anil Kumar</td>\n",
       "      <td>23000.50</td>\n",
       "      <td>3-20-2002</td>\n",
       "    </tr>\n",
       "  </tbody>\n",
       "</table>\n",
       "</div>"
      ],
      "text/plain": [
       "   empid           ename       sal                              doj\n",
       "0   1001      Ganesh Rao  10000.00                       10-10-2000\n",
       "4   1005  Laxmi Prasanna  12000.75                       10-08-2000\n",
       "3   1004    Hema Chandra  16500.50                       09-10-2000\n",
       "5   1006       Anant Nag   9999.99                       09-09-1999\n",
       "2   1003    Gaurav Gupta  18000.33                       03-03-2002\n",
       "1   1002      Anil Kumar  23000.50                        3-20-2002"
      ]
     },
     "execution_count": 18,
     "metadata": {},
     "output_type": "execute_result"
    }
   ],
   "source": [
    "#Sorting on multiple columns is also possible.\n",
    "df1 = df.sort_values(by=['doj', 'sal'], ascending=[False, True])\n",
    "df1"
   ]
  },
  {
   "cell_type": "code",
   "execution_count": 20,
   "metadata": {},
   "outputs": [
    {
     "data": {
      "text/html": [
       "<div>\n",
       "<style scoped>\n",
       "    .dataframe tbody tr th:only-of-type {\n",
       "        vertical-align: middle;\n",
       "    }\n",
       "\n",
       "    .dataframe tbody tr th {\n",
       "        vertical-align: top;\n",
       "    }\n",
       "\n",
       "    .dataframe thead th {\n",
       "        text-align: right;\n",
       "    }\n",
       "</style>\n",
       "<table border=\"1\" class=\"dataframe\">\n",
       "  <thead>\n",
       "    <tr style=\"text-align: right;\">\n",
       "      <th></th>\n",
       "      <th>empid</th>\n",
       "      <th>ename</th>\n",
       "      <th>sal</th>\n",
       "      <th>doj</th>\n",
       "    </tr>\n",
       "  </thead>\n",
       "  <tbody>\n",
       "    <tr>\n",
       "      <th>0</th>\n",
       "      <td>1001</td>\n",
       "      <td>Ganesh Rao</td>\n",
       "      <td>10000.00</td>\n",
       "      <td>10-10-2000</td>\n",
       "    </tr>\n",
       "    <tr>\n",
       "      <th>1</th>\n",
       "      <td>1002</td>\n",
       "      <td>Anil Kumar</td>\n",
       "      <td>23000.50</td>\n",
       "      <td>03-03-2002</td>\n",
       "    </tr>\n",
       "    <tr>\n",
       "      <th>2</th>\n",
       "      <td>1003</td>\n",
       "      <td>NaN</td>\n",
       "      <td>18000.33</td>\n",
       "      <td>03-03-2002</td>\n",
       "    </tr>\n",
       "    <tr>\n",
       "      <th>3</th>\n",
       "      <td>1004</td>\n",
       "      <td>Hema Chandra</td>\n",
       "      <td>NaN</td>\n",
       "      <td>NaN</td>\n",
       "    </tr>\n",
       "    <tr>\n",
       "      <th>4</th>\n",
       "      <td>1005</td>\n",
       "      <td>Laxmi Prasanna</td>\n",
       "      <td>12000.75</td>\n",
       "      <td>10-08-2000</td>\n",
       "    </tr>\n",
       "    <tr>\n",
       "      <th>5</th>\n",
       "      <td>1006</td>\n",
       "      <td>Anant Nag</td>\n",
       "      <td>9999.99</td>\n",
       "      <td>09-09-1999</td>\n",
       "    </tr>\n",
       "  </tbody>\n",
       "</table>\n",
       "</div>"
      ],
      "text/plain": [
       "   empid           ename       sal         doj\n",
       "0   1001      Ganesh Rao  10000.00  10-10-2000\n",
       "1   1002      Anil Kumar  23000.50  03-03-2002\n",
       "2   1003             NaN  18000.33  03-03-2002\n",
       "3   1004    Hema Chandra       NaN         NaN\n",
       "4   1005  Laxmi Prasanna  12000.75  10-08-2000\n",
       "5   1006       Anant Nag   9999.99  09-09-1999"
      ]
     },
     "execution_count": 20,
     "metadata": {},
     "output_type": "execute_result"
    }
   ],
   "source": [
    "import pandas as pd\n",
    "df = pd.read_csv(\"C:\\\\Users\\HP\\Downloads\\empdata1.csv\")\n",
    "df"
   ]
  },
  {
   "cell_type": "code",
   "execution_count": 21,
   "metadata": {},
   "outputs": [
    {
     "data": {
      "text/html": [
       "<div>\n",
       "<style scoped>\n",
       "    .dataframe tbody tr th:only-of-type {\n",
       "        vertical-align: middle;\n",
       "    }\n",
       "\n",
       "    .dataframe tbody tr th {\n",
       "        vertical-align: top;\n",
       "    }\n",
       "\n",
       "    .dataframe thead th {\n",
       "        text-align: right;\n",
       "    }\n",
       "</style>\n",
       "<table border=\"1\" class=\"dataframe\">\n",
       "  <thead>\n",
       "    <tr style=\"text-align: right;\">\n",
       "      <th></th>\n",
       "      <th>empid</th>\n",
       "      <th>ename</th>\n",
       "      <th>sal</th>\n",
       "      <th>doj</th>\n",
       "    </tr>\n",
       "  </thead>\n",
       "  <tbody>\n",
       "    <tr>\n",
       "      <th>0</th>\n",
       "      <td>1001</td>\n",
       "      <td>Ganesh Rao</td>\n",
       "      <td>10000.00</td>\n",
       "      <td>10-10-2000</td>\n",
       "    </tr>\n",
       "    <tr>\n",
       "      <th>1</th>\n",
       "      <td>1002</td>\n",
       "      <td>Anil Kumar</td>\n",
       "      <td>23000.50</td>\n",
       "      <td>03-03-2002</td>\n",
       "    </tr>\n",
       "    <tr>\n",
       "      <th>2</th>\n",
       "      <td>1003</td>\n",
       "      <td>0</td>\n",
       "      <td>18000.33</td>\n",
       "      <td>03-03-2002</td>\n",
       "    </tr>\n",
       "    <tr>\n",
       "      <th>3</th>\n",
       "      <td>1004</td>\n",
       "      <td>Hema Chandra</td>\n",
       "      <td>0.00</td>\n",
       "      <td>0</td>\n",
       "    </tr>\n",
       "    <tr>\n",
       "      <th>4</th>\n",
       "      <td>1005</td>\n",
       "      <td>Laxmi Prasanna</td>\n",
       "      <td>12000.75</td>\n",
       "      <td>10-08-2000</td>\n",
       "    </tr>\n",
       "    <tr>\n",
       "      <th>5</th>\n",
       "      <td>1006</td>\n",
       "      <td>Anant Nag</td>\n",
       "      <td>9999.99</td>\n",
       "      <td>09-09-1999</td>\n",
       "    </tr>\n",
       "  </tbody>\n",
       "</table>\n",
       "</div>"
      ],
      "text/plain": [
       "   empid           ename       sal         doj\n",
       "0   1001      Ganesh Rao  10000.00  10-10-2000\n",
       "1   1002      Anil Kumar  23000.50  03-03-2002\n",
       "2   1003               0  18000.33  03-03-2002\n",
       "3   1004    Hema Chandra      0.00           0\n",
       "4   1005  Laxmi Prasanna  12000.75  10-08-2000\n",
       "5   1006       Anant Nag   9999.99  09-09-1999"
      ]
     },
     "execution_count": 21,
     "metadata": {},
     "output_type": "execute_result"
    }
   ],
   "source": [
    "#We can use fillna() method to replace the Na or NaN values by a specified value. For Example, to fill the NaN values by 0.\n",
    "df1 = df.fillna(0)\n",
    "df1"
   ]
  },
  {
   "cell_type": "code",
   "execution_count": 23,
   "metadata": {},
   "outputs": [
    {
     "data": {
      "text/html": [
       "<div>\n",
       "<style scoped>\n",
       "    .dataframe tbody tr th:only-of-type {\n",
       "        vertical-align: middle;\n",
       "    }\n",
       "\n",
       "    .dataframe tbody tr th {\n",
       "        vertical-align: top;\n",
       "    }\n",
       "\n",
       "    .dataframe thead th {\n",
       "        text-align: right;\n",
       "    }\n",
       "</style>\n",
       "<table border=\"1\" class=\"dataframe\">\n",
       "  <thead>\n",
       "    <tr style=\"text-align: right;\">\n",
       "      <th></th>\n",
       "      <th>empid</th>\n",
       "      <th>ename</th>\n",
       "      <th>sal</th>\n",
       "      <th>doj</th>\n",
       "    </tr>\n",
       "  </thead>\n",
       "  <tbody>\n",
       "    <tr>\n",
       "      <th>0</th>\n",
       "      <td>1001</td>\n",
       "      <td>Ganesh Rao</td>\n",
       "      <td>10000.00</td>\n",
       "      <td>10-10-2000</td>\n",
       "    </tr>\n",
       "    <tr>\n",
       "      <th>1</th>\n",
       "      <td>1002</td>\n",
       "      <td>Anil Kumar</td>\n",
       "      <td>23000.50</td>\n",
       "      <td>03-03-2002</td>\n",
       "    </tr>\n",
       "    <tr>\n",
       "      <th>2</th>\n",
       "      <td>1003</td>\n",
       "      <td>Name missing</td>\n",
       "      <td>18000.33</td>\n",
       "      <td>03-03-2002</td>\n",
       "    </tr>\n",
       "    <tr>\n",
       "      <th>3</th>\n",
       "      <td>1004</td>\n",
       "      <td>Hema Chandra</td>\n",
       "      <td>0.00</td>\n",
       "      <td>00-00-00</td>\n",
       "    </tr>\n",
       "    <tr>\n",
       "      <th>4</th>\n",
       "      <td>1005</td>\n",
       "      <td>Laxmi Prasanna</td>\n",
       "      <td>12000.75</td>\n",
       "      <td>10-08-2000</td>\n",
       "    </tr>\n",
       "    <tr>\n",
       "      <th>5</th>\n",
       "      <td>1006</td>\n",
       "      <td>Anant Nag</td>\n",
       "      <td>9999.99</td>\n",
       "      <td>09-09-1999</td>\n",
       "    </tr>\n",
       "  </tbody>\n",
       "</table>\n",
       "</div>"
      ],
      "text/plain": [
       "   empid           ename       sal         doj\n",
       "0   1001      Ganesh Rao  10000.00  10-10-2000\n",
       "1   1002      Anil Kumar  23000.50  03-03-2002\n",
       "2   1003    Name missing  18000.33  03-03-2002\n",
       "3   1004    Hema Chandra      0.00    00-00-00\n",
       "4   1005  Laxmi Prasanna  12000.75  10-08-2000\n",
       "5   1006       Anant Nag   9999.99  09-09-1999"
      ]
     },
     "execution_count": 23,
     "metadata": {},
     "output_type": "execute_result"
    }
   ],
   "source": [
    "#We can fill each column with a different values by passing the column names and the value to be used to fill in the column.\n",
    "df1 = df.fillna({'ename': 'Name missing', 'sal': 0.0, 'doj': '00-00-00'})\n",
    "df1"
   ]
  },
  {
   "cell_type": "code",
   "execution_count": 24,
   "metadata": {},
   "outputs": [
    {
     "data": {
      "text/html": [
       "<div>\n",
       "<style scoped>\n",
       "    .dataframe tbody tr th:only-of-type {\n",
       "        vertical-align: middle;\n",
       "    }\n",
       "\n",
       "    .dataframe tbody tr th {\n",
       "        vertical-align: top;\n",
       "    }\n",
       "\n",
       "    .dataframe thead th {\n",
       "        text-align: right;\n",
       "    }\n",
       "</style>\n",
       "<table border=\"1\" class=\"dataframe\">\n",
       "  <thead>\n",
       "    <tr style=\"text-align: right;\">\n",
       "      <th></th>\n",
       "      <th>empid</th>\n",
       "      <th>ename</th>\n",
       "      <th>sal</th>\n",
       "      <th>doj</th>\n",
       "    </tr>\n",
       "  </thead>\n",
       "  <tbody>\n",
       "    <tr>\n",
       "      <th>0</th>\n",
       "      <td>1001</td>\n",
       "      <td>Ganesh Rao</td>\n",
       "      <td>10000.00</td>\n",
       "      <td>10-10-2000</td>\n",
       "    </tr>\n",
       "    <tr>\n",
       "      <th>1</th>\n",
       "      <td>1002</td>\n",
       "      <td>Anil Kumar</td>\n",
       "      <td>23000.50</td>\n",
       "      <td>03-03-2002</td>\n",
       "    </tr>\n",
       "    <tr>\n",
       "      <th>4</th>\n",
       "      <td>1005</td>\n",
       "      <td>Laxmi Prasanna</td>\n",
       "      <td>12000.75</td>\n",
       "      <td>10-08-2000</td>\n",
       "    </tr>\n",
       "    <tr>\n",
       "      <th>5</th>\n",
       "      <td>1006</td>\n",
       "      <td>Anant Nag</td>\n",
       "      <td>9999.99</td>\n",
       "      <td>09-09-1999</td>\n",
       "    </tr>\n",
       "  </tbody>\n",
       "</table>\n",
       "</div>"
      ],
      "text/plain": [
       "   empid           ename       sal         doj\n",
       "0   1001      Ganesh Rao  10000.00  10-10-2000\n",
       "1   1002      Anil Kumar  23000.50  03-03-2002\n",
       "4   1005  Laxmi Prasanna  12000.75  10-08-2000\n",
       "5   1006       Anant Nag   9999.99  09-09-1999"
      ]
     },
     "execution_count": 24,
     "metadata": {},
     "output_type": "execute_result"
    }
   ],
   "source": [
    "#If we do not want the missing data and want to remove those rows having Na or NaN values, then we can dropna() method as:\n",
    "df1 =df.dropna()\n",
    "df1"
   ]
  },
  {
   "cell_type": "markdown",
   "metadata": {},
   "source": [
    "### Data Visualization"
   ]
  },
  {
   "cell_type": "markdown",
   "metadata": {},
   "source": [
    "### Bar Plot"
   ]
  },
  {
   "cell_type": "code",
   "execution_count": 2,
   "metadata": {},
   "outputs": [
    {
     "data": {
      "image/png": "[encoded data removed]",
      "text/plain": [
       "<Figure size 432x288 with 1 Axes>"
      ]
     },
     "metadata": {
      "needs_background": "light"
     },
     "output_type": "display_data"
    }
   ],
   "source": [
    "#A Python program to display employee id numbers on X-axis and the salaries on Y-axis in the form a bar graph.\n",
    "#bar graph with ids, salaries\n",
    "import matplotlib.pyplot as plt\n",
    "import pandas as pd\n",
    "\n",
    "#take employee data as a dictionary.\n",
    "empdata = {\"empid\": [1001, 1002, 1003, 1004, 1005, 1006],\n",
    "          \"ename\": [\"Ganesh Rao\", \"Anil Kumar\", \"Gaurav Gupta\", \"Hema Chandra\", \"Laxmi Prasanna\", \"Anant Nag\"],\n",
    "          \"sal\": [10000, 23000.50, 18000.33, 16500.50, 12000.75, 9999.99],\n",
    "          \"doj\": [\"10-10-2000\", \"03-20-2002\", \"03-03-2002\", \"09-10-2000\", \"10-08-2000\", \"09-09-1999\"]}\n",
    "\n",
    "#Create a data frame.\n",
    "df = pd.DataFrame(empdata)\n",
    "\n",
    "#extract empid and salary data into x and y vars\n",
    "x = df['empid']\n",
    "y = df['sal']\n",
    "\n",
    "#Create bar graph\n",
    "plt.bar(x, y, label='Employee data', color = 'red')\n",
    "\n",
    "#set x axis and y axis label\n",
    "plt.xlabel(\"Employee ids\")\n",
    "plt.ylabel(\"Employee salaries\")\n",
    "\n",
    "#set company title.\n",
    "plt.title(\"MICROSOFT INC\")\n",
    "\n",
    "#show legend\n",
    "plt.legend()\n",
    "\n",
    "#display the graph\n",
    "plt.show()"
   ]
  },
  {
   "cell_type": "code",
   "execution_count": 4,
   "metadata": {},
   "outputs": [
    {
     "data": {
      "image/png": "[encoded data removed]",
      "text/plain": [
       "<Figure size 432x288 with 1 Axes>"
      ]
     },
     "metadata": {
      "needs_background": "light"
     },
     "output_type": "display_data"
    }
   ],
   "source": [
    "#A Python program to display employee id numbers on X-axis and their salaries on Y-axis in the form of a bar graph for two\n",
    "#departments of a company.\n",
    "#bar graph with ids, salaries for two depts\n",
    "import matplotlib.pyplot as plt\n",
    "\n",
    "#take employee ids and salaries for sales dept.\n",
    "x = [1001, 1003, 1006, 1007, 1009, 1011]\n",
    "y = [10000, 23000.50, 18000.33, 16500.50, 12500.75, 9999.99]\n",
    "\n",
    "#take employee ids and salaries for production dept.\n",
    "x1 = [1002, 1004, 1010, 1008, 1014, 1015]\n",
    "y1 = [5000, 6000, 4500.00, 12000, 9000, 10000]\n",
    "\n",
    "#Create bar graphs\n",
    "plt.bar(x, y, label='Sales dept', color = 'red')\n",
    "plt.bar(x1, y1, label='Production dept', color = 'green')\n",
    "\n",
    "#set the labels and legend\n",
    "plt.xlabel('emp id')\n",
    "plt.ylabel('salaries')\n",
    "plt.title('MICROSOFT INC')\n",
    "plt.legend()\n",
    "\n",
    "#display the bar graph\n",
    "plt.show()"
   ]
  },
  {
   "cell_type": "markdown",
   "metadata": {},
   "source": [
    "### Histogram"
   ]
  },
  {
   "cell_type": "code",
   "execution_count": 5,
   "metadata": {},
   "outputs": [
    {
     "name": "stderr",
     "output_type": "stream",
     "text": [
      "No handles with labels found to put in legend.\n"
     ]
    },
    {
     "data": {
      "image/png": "[encoded data removed]",
      "text/plain": [
       "<Figure size 432x288 with 1 Axes>"
      ]
     },
     "metadata": {
      "needs_background": "light"
     },
     "output_type": "display_data"
    }
   ],
   "source": [
    "#A Python program to display a histogram showing the number of employees in specific age groups.\n",
    "#histogram of employee ages\n",
    "import matplotlib.pyplot as plt\n",
    "\n",
    "#take individual employee ages and range of ages.\n",
    "emp_ages = [22, 45, 30, 59, 58, 56, 57, 45, 43, 50, 40, 34, 33, 25, 19]\n",
    "bins = [0, 10, 20, 30, 40, 50, 60]\n",
    "\n",
    "#Create histogram of bar type.\n",
    "plt.hist(emp_ages, bins, histtype='bar', rwidth=0.8, color='cyan')\n",
    "\n",
    "#set labels\n",
    "plt.xlabel('employee ages')\n",
    "plt.ylabel('no. of employees')\n",
    "plt.title('ORACLE CORP')\n",
    "plt.legend()\n",
    "\n",
    "#draw the histogram\n",
    "plt.show()"
   ]
  },
  {
   "cell_type": "markdown",
   "metadata": {},
   "source": [
    "### Creating a pie chart."
   ]
  },
  {
   "cell_type": "code",
   "execution_count": 8,
   "metadata": {},
   "outputs": [
    {
     "data": {
      "image/png": "[encoded data removed]",
      "text/plain": [
       "<Figure size 432x288 with 1 Axes>"
      ]
     },
     "metadata": {},
     "output_type": "display_data"
    }
   ],
   "source": [
    "#A Python program to display a pie chart showing the percentage of employees in each department of a company.\n",
    "#to display employees of different depts in pie chart.\n",
    "import matplotlib.pyplot as plt\n",
    "\n",
    "#take the percentages of employees of 4 departments\n",
    "slices = [50, 20, 15, 15]\n",
    "\n",
    "#take the department names\n",
    "dept = ['Sales', 'Production', 'HR', 'Finance']\n",
    "\n",
    "#take the colors of each department.\n",
    "cols = ['magenta', 'cyan', 'brown', 'gold']\n",
    "\n",
    "#create a pie chart\n",
    "plt.pie(slices, labels = dept, colors=cols, startangle=90, explode = (0, 0.2, 0, 0), shadow = True, autopct = '%.1f%%')\n",
    "\n",
    "#set title and legend\n",
    "plt.title('WIPRO')\n",
    "plt.legend()\n",
    "\n",
    "#Show the pie chart\n",
    "plt.show()"
   ]
  },
  {
   "cell_type": "markdown",
   "metadata": {},
   "source": [
    "### Creating line chart"
   ]
  },
  {
   "cell_type": "code",
   "execution_count": 9,
   "metadata": {},
   "outputs": [
    {
     "data": {
      "image/png": "[encoded data removed]",
      "text/plain": [
       "<Figure size 432x288 with 1 Axes>"
      ]
     },
     "metadata": {
      "needs_background": "light"
     },
     "output_type": "display_data"
    }
   ],
   "source": [
    "#A Python program to create a line graph to show the profits of a company in various years.\n",
    "#to display profits of a company year-wise.\n",
    "import matplotlib.pyplot as plt\n",
    "\n",
    "years = ['2012', '2013', '2014', '2015', '2016', '2017']\n",
    "profits = [9, 10, 10.5, 8.8, 10.9, 9.75]\n",
    "\n",
    "#create line graph\n",
    "plt.plot(years,profits, 'blue')\n",
    "\n",
    "#set title and labels\n",
    "plt.title('Sachin Company')\n",
    "plt.xlabel('Years')\n",
    "plt.ylabel('Profits in Million Rs')\n",
    "\n",
    "#show the line chart.\n",
    "plt.show()"
   ]
  },
  {
   "cell_type": "markdown",
   "metadata": {},
   "source": [
    "## Machine Learning"
   ]
  },
  {
   "cell_type": "code",
   "execution_count": null,
   "metadata": {},
   "outputs": [],
   "source": []
  }
 ],
 "metadata": {
  "kernelspec": {
   "display_name": "Python 3",
   "language": "python",
   "name": "python3"
  },
  "language_info": {
   "codemirror_mode": {
    "name": "ipython",
    "version": 3
   },
   "file_extension": ".py",
   "mimetype": "text/x-python",
   "name": "python",
   "nbconvert_exporter": "python",
   "pygments_lexer": "ipython3",
   "version": "3.8.5"
  }
 },
 "nbformat": 4,
 "nbformat_minor": 4
}
