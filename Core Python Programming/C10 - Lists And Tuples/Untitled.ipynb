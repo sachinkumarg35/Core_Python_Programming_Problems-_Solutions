{
 "cells": [
  {
   "cell_type": "markdown",
   "metadata": {},
   "source": [
    "### Lists"
   ]
  },
  {
   "cell_type": "code",
   "execution_count": 2,
   "metadata": {},
   "outputs": [
    {
     "name": "stdout",
     "output_type": "stream",
     "text": [
      "Total list=  [10, 20, 30, 40, 50]\n",
      "First= 10, Last= 50\n",
      "Total list=  ['Raju', 'Vani', 'Gopal', 'Laxmi']\n",
      "First= Raju, Last= Laxmi\n",
      "Total list=  [10, 20, 10.5, 2.55, 'Ganesh', 'Vishnu']\n",
      "First= 10, Last= Vishnu\n"
     ]
    }
   ],
   "source": [
    "#A python program to create lists with different types of elements.\n",
    "#a general way to create lists\n",
    "#Create list with integer numbers\n",
    "num = [10, 20, 30, 40, 50]\n",
    "print(\"Total list= \", num) #display total list\n",
    "print(\"First= %d, Last= %d\" % (num[0], num[4])) #display first and last elements\n",
    "\n",
    "#Create a list with strings\n",
    "names = [\"Raju\", \"Vani\", \"Gopal\", \"Laxmi\"]\n",
    "print(\"Total list= \", names) #display entire list\n",
    "print(\"First= %s, Last= %s\" % (names[0], names[3])) #display first and last elements\n",
    "\n",
    "#Create a list with different elements\n",
    "x = [10, 20, 10.5, 2.55, 'Ganesh', 'Vishnu']\n",
    "print(\"Total list= \", x) #display entire list\n",
    "print(\"First= %d, Last= %s\" % (x[0], x[5])) #display first and last elements"
   ]
  },
  {
   "cell_type": "markdown",
   "metadata": {},
   "source": [
    "### Creating Lists using range() Function"
   ]
  },
  {
   "cell_type": "code",
   "execution_count": 11,
   "metadata": {},
   "outputs": [
    {
     "name": "stdout",
     "output_type": "stream",
     "text": [
      "0 , 1 , 2 , 3 , 4 , 5 , 6 , 7 , 8 , 9 , \n",
      "5 , 6 , 7 , 8 , 9 , \n",
      "5 , 7 , 9 , "
     ]
    }
   ],
   "source": [
    "#A python program to create lists using range() function\n",
    "#Create a list with 0 to 9 consecutive integer numbers\n",
    "list1 = range(10)\n",
    "for i in list1: #display element by element\n",
    "    print(i, ', ', end = '')\n",
    "print() #Throw cursor to next line\n",
    "\n",
    "#Create list with integers from 5 to 9\n",
    "list2 = range(5, 10)\n",
    "for i in list2:\n",
    "    print(i, ', ', end='')\n",
    "print()\n",
    "\n",
    "#Create a list with odd numbers from 5 to 9\n",
    "list3 = range(5, 10, 2) #step size is 2\n",
    "for i in list3:\n",
    "    print(i, ', ', end='')"
   ]
  },
  {
   "cell_type": "code",
   "execution_count": 12,
   "metadata": {},
   "outputs": [
    {
     "name": "stdout",
     "output_type": "stream",
     "text": [
      "Using while loop\n",
      "10\n",
      "20\n",
      "30\n",
      "40\n",
      "50\n",
      "Using for loop\n",
      "10\n",
      "20\n",
      "30\n",
      "40\n",
      "50\n"
     ]
    }
   ],
   "source": [
    "#A python program to access list elements using loops\n",
    "#Displaying list elements using while and for loops\n",
    "list = [10, 20, 30, 40, 50]\n",
    "\n",
    "print('Using while loop')\n",
    "i=0\n",
    "while i<len(list): #repeat from 0 to length of list\n",
    "    print(list[i])\n",
    "    i = i+1\n",
    "    \n",
    "print(\"Using for loop\")\n",
    "for i in list: #repeat for all elements\n",
    "    print(i)"
   ]
  },
  {
   "cell_type": "markdown",
   "metadata": {},
   "source": [
    "### Updating the Elements of a List"
   ]
  },
  {
   "cell_type": "code",
   "execution_count": 13,
   "metadata": {},
   "outputs": [
    {
     "name": "stdout",
     "output_type": "stream",
     "text": [
      "\n",
      "In reverse order: \n",
      "Thursday\n",
      "Wednesday\n",
      "Tuesday\n",
      "Monday\n",
      "Sunday\n",
      "\n",
      "In reverse order: \n",
      "Wednesday\n",
      "Tuesday\n",
      "Monday\n",
      "Sunday\n"
     ]
    }
   ],
   "source": [
    "#A python program to display the elements of a list in reverse order.\n",
    "#displaying list element in reverse order.\n",
    "days = ['Sunday', 'Monday', 'Tuesday', 'Wednesday', 'Thursday']\n",
    "\n",
    "print('\\nIn reverse order: ')\n",
    "i = len(days)-1 # i will be 4\n",
    "while i >= 0:\n",
    "    print(days[i]) #display from 4th to oth elements\n",
    "    i-=1\n",
    "    \n",
    "print('\\nIn reverse order: ')\n",
    "i-=1 #days[-1] represents last element\n",
    "while i>=-len(days): #display from -1th to -5th elements\n",
    "    print(days[i])\n",
    "    i-=1"
   ]
  },
  {
   "cell_type": "markdown",
   "metadata": {},
   "source": [
    "### Methods process Lists"
   ]
  },
  {
   "cell_type": "code",
   "execution_count": 14,
   "metadata": {},
   "outputs": [
    {
     "name": "stdout",
     "output_type": "stream",
     "text": [
      "No. of elements in num:  5\n",
      "num after appending 60:  [10, 20, 30, 40, 50, 60]\n",
      "num after inserting 5 at 0th position:  [5, 10, 20, 30, 40, 50, 60]\n",
      "Newly created list num1:  [5, 10, 20, 30, 40, 50, 60]\n",
      "num after extending num1:  [5, 10, 20, 30, 40, 50, 60, 5, 10, 20, 30, 40, 50, 60]\n",
      "No. of times 50 found in the list num [5, 10, 20, 30, 40, 50, 60, 5, 10, 20, 30, 40, 50, 60]\n",
      "num after removing ending element:  [5, 10, 20, 30, 40, 60, 5, 10, 20, 30, 40, 50, 60]\n",
      "num after removing ending element:  [5, 10, 20, 30, 40, 60, 5, 10, 20, 30, 40, 50]\n",
      "num after sorting:  [5, 5, 10, 10, 20, 20, 30, 30, 40, 40, 50, 60]\n",
      "num after reversing:  [60, 50, 40, 40, 30, 30, 20, 20, 10, 10, 5, 5]\n",
      "num after removing all elements:  []\n"
     ]
    }
   ],
   "source": [
    "#A python program to understand list processing methods\n",
    "#Python's list methods\n",
    "num = [10, 20, 30, 40, 50]\n",
    "\n",
    "n = len(num)\n",
    "print('No. of elements in num: ', n)\n",
    "\n",
    "num.append(60)\n",
    "print('num after appending 60: ', num)\n",
    "\n",
    "num.insert(0, 5)\n",
    "print('num after inserting 5 at 0th position: ', num)\n",
    "\n",
    "num1 = num.copy()\n",
    "print('Newly created list num1: ', num1)\n",
    "\n",
    "num.extend(num1)\n",
    "print('num after extending num1: ', num)\n",
    "\n",
    "n = num.count(50)\n",
    "print('No. of times 50 found in the list num', num)\n",
    "\n",
    "num.remove(50)\n",
    "print('num after removing ending element: ', num)\n",
    "\n",
    "num.pop()\n",
    "print('num after removing ending element: ', num)\n",
    "\n",
    "num.sort()\n",
    "print('num after sorting: ', num)\n",
    "\n",
    "num.reverse()\n",
    "print('num after reversing: ', num)\n",
    "\n",
    "num.clear()\n",
    "print('num after removing all elements: ', num)"
   ]
  },
  {
   "cell_type": "code",
   "execution_count": 15,
   "metadata": {},
   "outputs": [
    {
     "name": "stdout",
     "output_type": "stream",
     "text": [
      "How many elements? 5\n",
      "Enter element: 20\n",
      "Enter element: 10\n",
      "Enter element: 5\n",
      "Enter element: 20\n",
      "Enter element: 12\n",
      "The list is:  [20, 10, 5, 20, 12]\n",
      "Maximum is:  20\n",
      "Minimum is:  5\n"
     ]
    }
   ],
   "source": [
    "#A python program to find maximum and minimum elements in a list of elements.\n",
    "#finding biggest and smallest numbers in a list of numbers\n",
    "x = [] #take an empty list\n",
    "\n",
    "print('How many elements? ', end='')\n",
    "n = int(input()) #accept input into n\n",
    "\n",
    "for i in range(n): #repeat for n times\n",
    "    print('Enter element: ', end='')\n",
    "    x.append(int(input())) #add the element to the list x\n",
    "    \n",
    "print('The list is: ', x) #display the list\n",
    "\n",
    "big=x[0] #initially 0th element becomes maximum and minimum\n",
    "small = x[0]\n",
    "\n",
    "for i in range(1, n): #repeat from 1 to n-1 elements\n",
    "    if x[i] > big:\n",
    "        big = x[i] #if any other element is > big, take it as big\n",
    "    if x[i]<small:\n",
    "        small = x[i] #if any other element is < small.\n",
    "        #take it as small\n",
    "print('Maximum is: ', big) #display max and min elements\n",
    "print('Minimum is: ', small)"
   ]
  },
  {
   "cell_type": "markdown",
   "metadata": {},
   "source": [
    "### Sorting the list elements"
   ]
  },
  {
   "cell_type": "code",
   "execution_count": 18,
   "metadata": {},
   "outputs": [
    {
     "name": "stdout",
     "output_type": "stream",
     "text": [
      "How many elements? 5\n",
      "Enter element: 1\n",
      "Enter element: 5\n",
      "Enter element: 4\n",
      "Enter element: 3\n",
      "Enter element: 2\n",
      "Original list:  [1, 5, 4, 3, 2]\n",
      "Sorted list:  [1, 2, 3, 4, 5]\n"
     ]
    }
   ],
   "source": [
    "#A python program to sort the list elements using bubble sort technique.\n",
    "#Sorting a list using bubble sort technique\n",
    "x = []\n",
    "\n",
    "#Store elements into the list x\n",
    "print('How many elements? ', end='')\n",
    "n = int(input()) #accept input into n\n",
    "\n",
    "for i in range(n): #repeat for n times\n",
    "    print('Enter element: ', end='')\n",
    "    x.append(int(input())) #add the element to the list x\n",
    "print('Original list: ', x)\n",
    "\n",
    "#Bubble sort\n",
    "flag = False #When swapping is done, flag becomes True\n",
    "for i in range(n-1): #i is from 0 to n-1\n",
    "    for j in range(n-1-i): #j is from 0 to one element lesser than i\n",
    "        if x[j] > x[j+1]: #if 1st element is bigger than the 2nd one\n",
    "            t = x[j] # swap j and j+1 elements\n",
    "            x[j] = x[j+1]\n",
    "            x[j+1] = t\n",
    "            flag = True #swapping done, hence flag is True\n",
    "    if flag == False: #no swapping means list is in sorted order\n",
    "        break #come out of inner for loop\n",
    "    else:\n",
    "        flag = False #Assign initial value to flag\n",
    "print('Sorted list: ', x)"
   ]
  },
  {
   "cell_type": "markdown",
   "metadata": {},
   "source": [
    "### Number of occurences of an Element in the list"
   ]
  },
  {
   "cell_type": "code",
   "execution_count": 19,
   "metadata": {},
   "outputs": [
    {
     "name": "stdout",
     "output_type": "stream",
     "text": [
      "How many elements? 5\n",
      "Enter element: 40\n",
      "Enter element: 20\n",
      "Enter element: 30\n",
      "Enter element: 40\n",
      "Enter element: 50\n",
      "The list is:  [40, 20, 30, 40, 50]\n",
      "Enter element to count: 40\n",
      "40 is found 2 times.\n"
     ]
    }
   ],
   "source": [
    "#A python program to know how many times an element occured in the list.\n",
    "#Counting how many times an element occured in the list\n",
    "x = [] #take an empty list\n",
    "\n",
    "n = int(input('How many elements? ')) #accept input into n\n",
    "\n",
    "for i in range(n): #repeat for n times\n",
    "    print('Enter element: ', end = '')\n",
    "    x.append(int(input())) #add the element to the list x\n",
    "    \n",
    "print('The list is: ', x) #display the list\n",
    "\n",
    "y = int(input('Enter element to count: '))\n",
    "c = 0\n",
    "for i in x:\n",
    "    if (y==i): c+=1\n",
    "print('{} is found {} times.'.format(y, c))"
   ]
  },
  {
   "cell_type": "markdown",
   "metadata": {},
   "source": [
    "### Finding common Elements in Two lists"
   ]
  },
  {
   "cell_type": "code",
   "execution_count": 28,
   "metadata": {},
   "outputs": [
    {
     "ename": "TypeError",
     "evalue": "'list' object is not callable",
     "output_type": "error",
     "traceback": [
      "\u001b[1;31m---------------------------------------------------------------------------\u001b[0m",
      "\u001b[1;31mTypeError\u001b[0m                                 Traceback (most recent call last)",
      "\u001b[1;32m<ipython-input-28-e48139b3c155>\u001b[0m in \u001b[0;36m<module>\u001b[1;34m\u001b[0m\n\u001b[0;32m     14\u001b[0m \u001b[1;33m\u001b[0m\u001b[0m\n\u001b[0;32m     15\u001b[0m \u001b[1;31m#convert the resultant set into a list\u001b[0m\u001b[1;33m\u001b[0m\u001b[1;33m\u001b[0m\u001b[1;33m\u001b[0m\u001b[0m\n\u001b[1;32m---> 16\u001b[1;33m \u001b[0mcommon\u001b[0m \u001b[1;33m=\u001b[0m \u001b[0mlist\u001b[0m\u001b[1;33m(\u001b[0m\u001b[0ms3\u001b[0m\u001b[1;33m)\u001b[0m\u001b[1;33m\u001b[0m\u001b[1;33m\u001b[0m\u001b[0m\n\u001b[0m\u001b[0;32m     17\u001b[0m \u001b[1;33m\u001b[0m\u001b[0m\n\u001b[0;32m     18\u001b[0m \u001b[1;31m#Display the list\u001b[0m\u001b[1;33m\u001b[0m\u001b[1;33m\u001b[0m\u001b[1;33m\u001b[0m\u001b[0m\n",
      "\u001b[1;31mTypeError\u001b[0m: 'list' object is not callable"
     ]
    }
   ],
   "source": [
    "#A python program to find common elements in two lists.\n",
    "#finding common elements in two lists\n",
    "\n",
    "#take two lists\n",
    "scholar1 = ['Vinay', 'Krishna', 'Saraswathi', 'Govind']\n",
    "scholar2 = ['Rosy', 'Govind', 'Tanusri', 'Vinay', 'Vishal']\n",
    "\n",
    "#Convert them into sets\n",
    "s1 = set(scholar1)\n",
    "s2 = set(scholar2)\n",
    "\n",
    "#find intersection of two sets\n",
    "s3 = s1.intersection(s2)\n",
    "\n",
    "#convert the resultant set into a list\n",
    "common = list(s3)\n",
    "\n",
    "#Display the list\n",
    "print(common)"
   ]
  },
  {
   "cell_type": "markdown",
   "metadata": {},
   "source": [
    "### Storing Different Types of Data in a List"
   ]
  },
  {
   "cell_type": "code",
   "execution_count": 26,
   "metadata": {},
   "outputs": [
    {
     "name": "stdout",
     "output_type": "stream",
     "text": [
      "How many employees? 4\n",
      "Enter id: 10\n",
      "Enter name: Vijaya Laxmi\n",
      "Enter salary: 7000.50\n",
      "Enter id: 11\n",
      "Enter name: Gouri Shankar\n",
      "Enter salary: 9500.50\n",
      "Enter id: 12\n",
      "Enter name: Anil Kumar\n",
      "Enter salary: 8000\n",
      "Enter id: 13\n",
      "Enter name: Hema Chandra\n",
      "Enter salary: 8500.75\n",
      "The list is created with employee data.\n",
      "Enter employee id: 12\n",
      "Id= 12, Name= Anil Kumar, Salary= 8000.00\n"
     ]
    }
   ],
   "source": [
    "#A python program to create a list with employee data and then retrieve a particular employee details.\n",
    "#retrieving employee details from a list.\n",
    "emp = [] #take an empty list\n",
    "\n",
    "n = int(input('How many employees? ')) #accept input into n\n",
    "\n",
    "for i in range(n): #repeat for n times\n",
    "    print('Enter id: ', end = '')\n",
    "    emp.append(int(input()))\n",
    "    print('Enter name: ', end='')\n",
    "    emp.append(input())\n",
    "    print('Enter salary: ', end = '')\n",
    "    emp.append(float(input()))\n",
    "    \n",
    "print('The list is created with employee data.')\n",
    "\n",
    "id = int(input('Enter employee id: '))\n",
    "\n",
    "#Display  employee details upon taking id.\n",
    "for i in range(len(emp)):\n",
    "    if id == emp[i]:\n",
    "        print('Id= {:d}, Name= {:s}, Salary= {:.2f}'.format(emp[i], emp[i+1], emp[i+2]))\n",
    "        break"
   ]
  },
  {
   "cell_type": "markdown",
   "metadata": {},
   "source": [
    "### Nested Lists"
   ]
  },
  {
   "cell_type": "code",
   "execution_count": 28,
   "metadata": {},
   "outputs": [
    {
     "name": "stdout",
     "output_type": "stream",
     "text": [
      "Total list=  [10, 20, 30, [80, 90]]\n",
      "First element=  10\n",
      "Last element is nested list=  [80, 90]\n",
      "80\n",
      "90\n"
     ]
    }
   ],
   "source": [
    "#A python program to create a nested list and display its elements\n",
    "#To create a list with another list as element.\n",
    "list = [10, 20, 30, [80, 90]]\n",
    "print(\"Total list= \", list) #Display entire list\n",
    "print(\"First element= \", list[0]) #Display first element\n",
    "print(\"Last element is nested list= \", list[3]) #display nested list\n",
    "for x in list[3]: #display all elements in nested list\n",
    "    print(x)"
   ]
  },
  {
   "cell_type": "code",
   "execution_count": 30,
   "metadata": {},
   "outputs": [
    {
     "name": "stdout",
     "output_type": "stream",
     "text": [
      "Display the list as it is: \n",
      "[[1, 2, 3], [4, 5, 6], [7, 8, 9]]\n",
      "Display row by row: \n",
      "[1, 2, 3]\n",
      "[4, 5, 6]\n",
      "[7, 8, 9]\n",
      "Display each column in row 0: \n",
      "1 2 3 \n",
      "Display each column in row1: \n",
      "%d %c%d %c%d %c\n",
      "Display each column in row2: \n",
      "7 8 9 \n",
      "Display all elements using for: \n",
      "1 2 3 \n",
      "4 5 6 \n",
      "7 8 9 \n",
      "Display all elements using for: \n",
      "1 2 3 \n",
      "4 5 6 \n",
      "7 8 9 \n"
     ]
    }
   ],
   "source": [
    "#A python program to retrieve elements from a matrix and display them.\n",
    "#displaying nested list as a matrix\n",
    "#take a nested list\n",
    "mat = [[1, 2, 3], [4, 5, 6], [7, 8, 9]]\n",
    "\n",
    "print('Display the list as it is: ')\n",
    "print(mat)\n",
    "\n",
    "print('Display row by row: ')\n",
    "for r in mat:\n",
    "    print(r)\n",
    "    \n",
    "print('Display each column in row 0: ')\n",
    "for c in mat[0]:\n",
    "    print('%d ' %c, end='')\n",
    "print()\n",
    "    \n",
    "print('Display each column in row1: ')\n",
    "for c in mat[1]:\n",
    "    print('%d %c', end='')\n",
    "print()\n",
    "    \n",
    "print('Display each column in row2: ')\n",
    "for c in mat[2]:\n",
    "    print('%d ' %c, end = '')\n",
    "print()\n",
    "\n",
    "print('Display all elements using for: ')\n",
    "for r in mat:\n",
    "    for c in r: #display column in each row\n",
    "        print(c, end= ' ')\n",
    "    print()\n",
    "    \n",
    "print('Display all elements using for: ')\n",
    "for i in range(len(mat)):\n",
    "    for j in range(len(mat[i])):\n",
    "        print('%d ' %mat[i][j], end='')\n",
    "    print()"
   ]
  },
  {
   "cell_type": "code",
   "execution_count": 31,
   "metadata": {},
   "outputs": [
    {
     "name": "stdout",
     "output_type": "stream",
     "text": [
      "2 4 6 4 \n",
      "5 5 7 0 \n",
      "9 7 7 1 \n"
     ]
    }
   ],
   "source": [
    "#A python program to add two matrices and display the sum matrix using lists\n",
    "#nested lists - matrix addition.\n",
    "m1 = [ [1, 2, 3, 0], \n",
    "     [4, 5, 6, 0], \n",
    "     [7, 8, 9, 0] ]\n",
    "\n",
    "#take matrix two with 3 rows and 4 cols\n",
    "m2 = [ [1, 2, 3, 4], \n",
    "     [1, 0, 1, 0], \n",
    "     [2, -1, -2, 1] ]\n",
    "\n",
    "#take matrix three with 3 rows and 4 cols and initialize with all 0s.\n",
    "m3 = [4 *[0] for i in range(3) ]#repeat four 0s for 3times\n",
    "\n",
    "#add the corresponding elements of m1 and m2 and store into m3\n",
    "for i in range(3):\n",
    "    for j in range(4):\n",
    "        m3[i][j] = m1[i][j]+m2[i][j]\n",
    "        \n",
    "#display the third matrix using for loop\n",
    "for i in range(3):\n",
    "    for j in range(4):\n",
    "        print('%d ' %m3[i][j], end='')\n",
    "    print()"
   ]
  },
  {
   "cell_type": "markdown",
   "metadata": {},
   "source": [
    "### List Comprehensions"
   ]
  },
  {
   "cell_type": "markdown",
   "metadata": {},
   "source": [
    "#### Example 1:"
   ]
  },
  {
   "cell_type": "code",
   "execution_count": 4,
   "metadata": {},
   "outputs": [
    {
     "name": "stdout",
     "output_type": "stream",
     "text": [
      "[1, 4, 9, 16, 25, 36, 49, 64, 81, 100]\n"
     ]
    }
   ],
   "source": [
    "#We want to create a list with squares of integers from 1 to 10. we can write code as:\n",
    "squares = [] #create empty list\n",
    "for x in range(1, 11): #repeat x values from 1 to 10\n",
    "    squares.append(x**2) #add squares of x to the list\n",
    "print(squares)    "
   ]
  },
  {
   "cell_type": "markdown",
   "metadata": {},
   "source": [
    "#### Example 2:"
   ]
  },
  {
   "cell_type": "code",
   "execution_count": 5,
   "metadata": {},
   "outputs": [
    {
     "name": "stdout",
     "output_type": "stream",
     "text": [
      "[4, 16, 36, 64, 100]\n"
     ]
    }
   ],
   "source": [
    "#Suppose, we want to get squares of integers from 1 to 10 and take only the even numbers from the result, we can write a list\n",
    "#comprehension as:\n",
    "even_squares = [x**2 for x in range(1, 11) if x%2==0]\n",
    "print(even_squares)"
   ]
  },
  {
   "cell_type": "code",
   "execution_count": 8,
   "metadata": {},
   "outputs": [
    {
     "name": "stdout",
     "output_type": "stream",
     "text": [
      "[4, 16, 36, 64, 100]\n"
     ]
    }
   ],
   "source": [
    "even_squares = [x**2 for x in range(2, 11, 2)]\n",
    "print(even_squares)"
   ]
  },
  {
   "cell_type": "code",
   "execution_count": 11,
   "metadata": {},
   "outputs": [
    {
     "name": "stdout",
     "output_type": "stream",
     "text": [
      "[11, 12, 13, 14, 21, 22, 23, 24, 31, 32, 33, 34]\n"
     ]
    }
   ],
   "source": [
    "#If we have two lists 'x' and 'y' and we want to add each element of 'x' with each element of 'y', we can write for loop as:\n",
    "x = [10, 20, 30]\n",
    "y = [1, 2, 3, 4]\n",
    "lst = []\n",
    "for i in x:\n",
    "    for j in y:\n",
    "        lst.append(i+j)\n",
    "print(lst)"
   ]
  },
  {
   "cell_type": "code",
   "execution_count": 12,
   "metadata": {},
   "outputs": [
    {
     "name": "stdout",
     "output_type": "stream",
     "text": [
      "[11, 12, 13, 14, 21, 22, 23, 24, 31, 32, 33, 34]\n"
     ]
    }
   ],
   "source": [
    "#The same result can be achieved by using list comprehension as:\n",
    "lst = [i+j for i in x for j in y]\n",
    "print(lst)"
   ]
  },
  {
   "cell_type": "code",
   "execution_count": 13,
   "metadata": {},
   "outputs": [
    {
     "name": "stdout",
     "output_type": "stream",
     "text": [
      "[11, 12, 13, 14, 21, 22, 23, 24, 31, 32, 33, 34]\n"
     ]
    }
   ],
   "source": [
    "#or we can directly mention the lists in the list comprehension as:\n",
    "lst = [i+j for i in [10, 20, 30] for j in [1, 2, 3, 4]]\n",
    "print(lst)"
   ]
  },
  {
   "cell_type": "code",
   "execution_count": 14,
   "metadata": {},
   "outputs": [
    {
     "name": "stdout",
     "output_type": "stream",
     "text": [
      "['AD', 'AE', 'BD', 'BE', 'CD', 'CE']\n"
     ]
    }
   ],
   "source": [
    "#The previous list comprehension can be written using string as:\n",
    "lst = [ i+j for i in 'ABC' for j in 'DE']\n",
    "print(lst)"
   ]
  },
  {
   "cell_type": "markdown",
   "metadata": {},
   "source": [
    "#### Example 4:"
   ]
  },
  {
   "cell_type": "code",
   "execution_count": 15,
   "metadata": {},
   "outputs": [],
   "source": [
    "#Let's take a list 'words' that contains a group of words or string as:\n",
    "words = ['Apple', 'Grapes', 'Banana', 'Orange']"
   ]
  },
  {
   "cell_type": "code",
   "execution_count": 17,
   "metadata": {},
   "outputs": [
    {
     "name": "stdout",
     "output_type": "stream",
     "text": [
      "['A', 'G', 'B', 'O']\n"
     ]
    }
   ],
   "source": [
    "\"\"\"We want to retrieve only the first letter of each word from the above list and store those first letters into another list\n",
    "'lst'. we can write code as;\"\"\"\n",
    "lst = []\n",
    "for w in words:\n",
    "    lst.append(w[0])\n",
    "print(lst)"
   ]
  },
  {
   "cell_type": "code",
   "execution_count": 19,
   "metadata": {},
   "outputs": [
    {
     "name": "stdout",
     "output_type": "stream",
     "text": [
      "['A', 'G', 'B', 'O']\n"
     ]
    }
   ],
   "source": [
    "#This task can be achieved through list comprehension as;\n",
    "lst = [w[0] for w in words]\n",
    "print(lst)"
   ]
  },
  {
   "cell_type": "markdown",
   "metadata": {},
   "source": [
    "#### Example 5:"
   ]
  },
  {
   "cell_type": "code",
   "execution_count": 20,
   "metadata": {},
   "outputs": [],
   "source": [
    "#Let's take two lists 'num1' and 'num2' with some numbers as:\n",
    "num1 = [1, 2, 3, 4, 5]\n",
    "num2 = [10, 11, 1, 2]"
   ]
  },
  {
   "cell_type": "code",
   "execution_count": 22,
   "metadata": {},
   "outputs": [
    {
     "name": "stdout",
     "output_type": "stream",
     "text": [
      "[3, 4, 5]\n"
     ]
    }
   ],
   "source": [
    "\"\"\"We want to create another list 'num3' with numbers present in 'num1' but not in 'num2'.\n",
    "We can develop the logic like this: \"\"\"\n",
    "num3 = []\n",
    "for i in num1:\n",
    "    if i not in num2:\n",
    "        num3.append(i)\n",
    "print(num3)"
   ]
  },
  {
   "cell_type": "code",
   "execution_count": 24,
   "metadata": {},
   "outputs": [
    {
     "name": "stdout",
     "output_type": "stream",
     "text": [
      "[3, 4, 5]\n"
     ]
    }
   ],
   "source": [
    "#The same can be achieved using list comprehension as:\n",
    "num3 = [i for i in num1 if i not in num2]\n",
    "print(num3)"
   ]
  },
  {
   "cell_type": "markdown",
   "metadata": {},
   "source": [
    "### Tuples"
   ]
  },
  {
   "cell_type": "code",
   "execution_count": 25,
   "metadata": {},
   "outputs": [
    {
     "name": "stdout",
     "output_type": "stream",
     "text": [
      "Enter elements in (): 1, 2, 3, 4, 5, 6\n",
      "Sum of numbers:  21\n",
      "Average of numbers:  3.5\n"
     ]
    }
   ],
   "source": [
    "#A python program to accept elements in the form of a tuple and display their sum and average.\n",
    "#Program to find sum and average of elements in a tuple.\n",
    "num = eval(input(\"Enter elements in (): \"))\n",
    "sum = 0\n",
    "n = len(num) #n is no. of elements in the tuple\n",
    "for i in range(n): #repeat i from 0 to n-1\n",
    "    sum+=num[i] #add each element to sum\n",
    "print('Sum of numbers: ', sum) #display sum\n",
    "print('Average of numbers: ', sum/n) #display average"
   ]
  },
  {
   "cell_type": "code",
   "execution_count": 27,
   "metadata": {},
   "outputs": [
    {
     "name": "stdout",
     "output_type": "stream",
     "text": [
      "Enter elements separated by commas: 10, 20, 30, 20, 40\n",
      "The tuple is:  (10, 20, 30, 20, 40)\n",
      "Enter an element to search: 20\n",
      "Element position no:  2\n"
     ]
    }
   ],
   "source": [
    "#A python program to find the first occurence of an element in a tuple.\n",
    "#inserting elements from keyboard into the tuple and finding element position\n",
    "#accept elements from keyboard as strings separated by commas\n",
    "str = input('Enter elements separated by commas: ').split(',')\n",
    "\n",
    "lst = [int(num) for num in str] #convert strings into integers and store into a list\n",
    "tup = tuple(lst) #Convert list into tuple\n",
    "\n",
    "print(\"The tuple is: \", tup) #display the tuple\n",
    "\n",
    "ele = int(input(\"Enter an element to search: \"))\n",
    "try:\n",
    "    pos = tup.index(ele) #returns first occurence of element\n",
    "    print('Element position no: ', pos+1)\n",
    "    \n",
    "except ValueError: #if element not found, value error will be\n",
    "    print(\"Element not found in tuple\")"
   ]
  },
  {
   "cell_type": "code",
   "execution_count": 28,
   "metadata": {},
   "outputs": [
    {
     "name": "stdout",
     "output_type": "stream",
     "text": [
      "[(10, 'Vijay', 9000.9), (20, 'Nihaar', 5500.75), (30, 'Vinaja', 8900.0), (40, 'kapoor', 5000.5)]\n",
      "[(40, 'kapoor', 5000.5), (30, 'Vinaja', 8900.0), (20, 'Nihaar', 5500.75), (10, 'Vijay', 9000.9)]\n",
      "[(20, 'Nihaar', 5500.75), (10, 'Vijay', 9000.9), (30, 'Vinaja', 8900.0), (40, 'kapoor', 5000.5)]\n",
      "[(40, 'kapoor', 5000.5), (20, 'Nihaar', 5500.75), (30, 'Vinaja', 8900.0), (10, 'Vijay', 9000.9)]\n"
     ]
    }
   ],
   "source": [
    "#A python program to sort a tuple with nested tuples.\n",
    "#sorting a tuple that contains tuples as elements\n",
    "#take employee tuple with id number, name and salary\n",
    "emp = ((10, \"Vijay\", 9000.90), (20, \"Nihaar\", 5500.75), (30, \"Vinaja\", 8900.00), (40, \"kapoor\", 5000.50))\n",
    "\n",
    "print(sorted(emp)) #sorts by default on id\n",
    "print(sorted(emp, reverse = True)) #reverses on id\n",
    "print(sorted(emp, key = lambda x: x[1])) #sort on name\n",
    "print(sorted(emp, key = lambda x: x[2])) #sort on salary"
   ]
  },
  {
   "cell_type": "markdown",
   "metadata": {},
   "source": [
    "### Inserting Elements in a Tuple"
   ]
  },
  {
   "cell_type": "code",
   "execution_count": 30,
   "metadata": {},
   "outputs": [
    {
     "name": "stdout",
     "output_type": "stream",
     "text": [
      "('Vishnu', 'Anupama', 'Laksmi', 'Bheeshma')\n",
      "Enter a new name: Ganesh\n",
      "Enter position no: 2\n",
      "('Vishnu', 'Ganesh', 'Anupama', 'Laksmi', 'Bheeshma')\n"
     ]
    }
   ],
   "source": [
    "#A python program to insert a new element into a tuple of elements at a specified position.\n",
    "#inserting a new element into a tuple\n",
    "names = ('Vishnu', 'Anupama', 'Laksmi', 'Bheeshma')\n",
    "print(names)\n",
    "\n",
    "#accept new name and position number\n",
    "lst = [input('Enter a new name: ')]\n",
    "new = tuple(lst)\n",
    "pos = int(input(\"Enter position no: \"))\n",
    "\n",
    "#copy from 0th to pos-2 into another tuple names1\n",
    "names1 = names[0:pos-1]\n",
    "\n",
    "#Concatenate new element at pos-1\n",
    "names1 = names1+new\n",
    "\n",
    "#concatenate the remaining elements of names from pos-1 till end\n",
    "names = names1 + names[pos-1:]\n",
    "print(names)"
   ]
  },
  {
   "cell_type": "markdown",
   "metadata": {},
   "source": [
    "### Modifying Elements of a Tuple"
   ]
  },
  {
   "cell_type": "code",
   "execution_count": 31,
   "metadata": {},
   "outputs": [
    {
     "name": "stdout",
     "output_type": "stream",
     "text": [
      "(10, 20, 30, 40, 50)\n",
      "Enter a new element: 88\n",
      "Enter position no: 3\n",
      "(10, 20, 88, 40, 50)\n"
     ]
    }
   ],
   "source": [
    "#A python program to modify or replace an existing element of a tuple with a new element.\n",
    "#modifying an existing element of a tuple\n",
    "num = (10, 20, 30, 40, 50)\n",
    "print(num)\n",
    "\n",
    "#accept new element and position number\n",
    "lst = [int(input('Enter a new element: '))]\n",
    "new = tuple(lst)\n",
    "pos = int(input(\"Enter position no: \"))\n",
    "\n",
    "#copy from 0th to pos-2 into another tuple num1\n",
    "num1 = num[0:pos-1]\n",
    "\n",
    "#concatenate new element at pos-1\n",
    "num1 = num1 + new\n",
    "\n",
    "#concatenate the remaining elements of num from pos till end\n",
    "num = num1 + num[pos:]\n",
    "print(num)"
   ]
  },
  {
   "cell_type": "markdown",
   "metadata": {},
   "source": [
    "### Deleting Elements from a Tuple"
   ]
  },
  {
   "cell_type": "code",
   "execution_count": 64,
   "metadata": {},
   "outputs": [
    {
     "name": "stdout",
     "output_type": "stream",
     "text": [
      "(10, 20, 30, 40, 50)\n",
      "Enter position no= 1\n",
      "(20, 30, 40, 50)\n"
     ]
    }
   ],
   "source": [
    "#A Python program to delete an element from a particular position in the tuple.\n",
    "#deleting an element of a tuple\n",
    "num = (10, 20, 30, 40, 50)\n",
    "print(num)\n",
    "\n",
    "#accept position number of the element to delete\n",
    "pos = int(input(\"Enter position no= \"))\n",
    "\n",
    "#copy from 0th to pos-2 into another tuple num1\n",
    "num1 = num[0:pos-1]\n",
    "\n",
    "#concatenate the remaining elements of num from pos till end\n",
    "num = num1+num[pos:]\n",
    "print(num)"
   ]
  },
  {
   "cell_type": "code",
   "execution_count": null,
   "metadata": {},
   "outputs": [],
   "source": []
  }
 ],
 "metadata": {
  "kernelspec": {
   "display_name": "Python 3",
   "language": "python",
   "name": "python3"
  },
  "language_info": {
   "codemirror_mode": {
    "name": "ipython",
    "version": 3
   },
   "file_extension": ".py",
   "mimetype": "text/x-python",
   "name": "python",
   "nbconvert_exporter": "python",
   "pygments_lexer": "ipython3",
   "version": "3.8.5"
  }
 },
 "nbformat": 4,
 "nbformat_minor": 4
}
