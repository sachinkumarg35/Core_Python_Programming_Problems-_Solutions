{
 "cells": [
  {
   "cell_type": "code",
   "execution_count": 1,
   "metadata": {},
   "outputs": [
    {
     "name": "stdout",
     "output_type": "stream",
     "text": [
      "man\n"
     ]
    }
   ],
   "source": [
    "#A Python program to create a regular expression to search for strings starting with m and having total 3 characters using\n",
    "#the search() method.\n",
    "import re\n",
    "\n",
    "str = 'man sun mop run'\n",
    "result = re.search(r'm\\w\\w', str)\n",
    "if result: #if result is not none\n",
    "    print(result.group())"
   ]
  },
  {
   "cell_type": "code",
   "execution_count": 2,
   "metadata": {},
   "outputs": [
    {
     "name": "stdout",
     "output_type": "stream",
     "text": [
      "['man', 'mop']\n"
     ]
    }
   ],
   "source": [
    "#A Python program to create a regular expression to search for strings starting with m and having total 3 characters using \n",
    "#the findall() method.\n",
    "import re\n",
    "str = 'man sun mop run'\n",
    "result = re.findall(r'm\\w\\w', str)\n",
    "print(result)"
   ]
  },
  {
   "cell_type": "code",
   "execution_count": 3,
   "metadata": {},
   "outputs": [
    {
     "name": "stdout",
     "output_type": "stream",
     "text": [
      "man\n"
     ]
    }
   ],
   "source": [
    "\"\"\"A Python program to create a regular expression using the match() method to search for strings starting with m and having \n",
    "total 3 characters.\"\"\"\n",
    "import re\n",
    "str = 'man sun mop run'\n",
    "result = re.match(r'm\\w\\w', str)\n",
    "print(result.group())"
   ]
  },
  {
   "cell_type": "code",
   "execution_count": 1,
   "metadata": {},
   "outputs": [
    {
     "name": "stdout",
     "output_type": "stream",
     "text": [
      "<re.Match object; span=(0, 3), match='man'>\n"
     ]
    }
   ],
   "source": [
    "\"\"\"A Python program to create a regular expression using the match() method to search for strings starting with m and having \n",
    "total 3 characters.\"\"\"\n",
    "\n",
    "import re\n",
    "str = 'man sun mop run'\n",
    "result = re.match(r'm\\w\\w', str)\n",
    "print(result)"
   ]
  },
  {
   "cell_type": "code",
   "execution_count": 3,
   "metadata": {},
   "outputs": [
    {
     "name": "stdout",
     "output_type": "stream",
     "text": [
      "['This', 'is', 'the', 'core', 'Python', 's', 'book']\n"
     ]
    }
   ],
   "source": [
    "\"\"\"A Python program to create a regular expression to split a string into pieces where one or more non alpha numeric characters\n",
    "are found.\"\"\"\n",
    "import re\n",
    "str = 'This; is the: \"core\" Python\\'s book'\n",
    "\n",
    "result = re.split(r'\\W+', str)\n",
    "print(result)"
   ]
  },
  {
   "cell_type": "code",
   "execution_count": 4,
   "metadata": {},
   "outputs": [
    {
     "name": "stdout",
     "output_type": "stream",
     "text": [
      "kumbhmela will be conducted at Allahabad in India\n"
     ]
    }
   ],
   "source": [
    "\"\"\"A Python program to create a regular expression to replace a string with a new string.\"\"\"\n",
    "import re\n",
    "str = 'kumbhmela will be conducted at Ahmedabad in India'\n",
    "res = re.sub(r'Ahmedabad', 'Allahabad', str)\n",
    "print(res)"
   ]
  },
  {
   "cell_type": "code",
   "execution_count": 6,
   "metadata": {},
   "outputs": [
    {
     "name": "stdout",
     "output_type": "stream",
     "text": [
      "an\n",
      "apple\n",
      "a\n",
      "ay\n",
      "away\n"
     ]
    }
   ],
   "source": [
    "\"\"\"A Python program to create a regular expression to retrieve all words starting with a given string.\"\"\"\n",
    "import re\n",
    "str = 'an apple a day keeps the doctor away'\n",
    "result = re.findall(r'a[\\w]*', str)\n",
    "\n",
    "#findall() returns a list. retrieve the elements from list\n",
    "for word in result:\n",
    "    print(word)"
   ]
  },
  {
   "cell_type": "code",
   "execution_count": 7,
   "metadata": {},
   "outputs": [
    {
     "name": "stdout",
     "output_type": "stream",
     "text": [
      "1st\n",
      "21st\n"
     ]
    }
   ],
   "source": [
    "\"\"\"A Python program to create a regular expression to retrieve all words starting with a numeric digit.\"\"\"\n",
    "import re\n",
    "str = 'The meeting will be conducted on 1st and 21st of every month.'\n",
    "result = re.findall(r'\\d[\\w]*', str)\n",
    "for word in result:\n",
    "    print(word)"
   ]
  },
  {
   "cell_type": "code",
   "execution_count": 8,
   "metadata": {},
   "outputs": [
    {
     "name": "stdout",
     "output_type": "stream",
     "text": [
      "['three', 'seven']\n"
     ]
    }
   ],
   "source": [
    "\"\"\"A Python program to create a regular expression to retrieve all words having 5 characters length.\"\"\"\n",
    "import re\n",
    "str = 'one two three four five six seven 8 9 10'\n",
    "result = re.findall(r'\\b\\w{5}\\b', str)\n",
    "print(result)"
   ]
  },
  {
   "cell_type": "code",
   "execution_count": 9,
   "metadata": {},
   "outputs": [
    {
     "name": "stdout",
     "output_type": "stream",
     "text": [
      "three\n"
     ]
    }
   ],
   "source": [
    "\"\"\"A Python program to regular expression to retrieve all words having 5 characters length using search().\"\"\"\n",
    "#search() will give the first matching word only.\n",
    "import re\n",
    "str = 'one two three four five six seven 8 9 10'\n",
    "result = re.search(r'\\b\\w{5}\\b', str)\n",
    "#to retrieve the word from result object, use group()\n",
    "print(result.group())"
   ]
  },
  {
   "cell_type": "code",
   "execution_count": 10,
   "metadata": {},
   "outputs": [
    {
     "name": "stdout",
     "output_type": "stream",
     "text": [
      "['three', 'four', 'five', 'seven']\n"
     ]
    }
   ],
   "source": [
    "\"\"\"A Python program to create a regular expression to retrieve all the words that are having the length of at least 4 characters.\"\"\"\n",
    "import re\n",
    "str = 'one two three four five six seven 8 9 10'\n",
    "result = re.findall(r'\\b\\w{4,}\\b', str)\n",
    "print(result)"
   ]
  },
  {
   "cell_type": "code",
   "execution_count": 12,
   "metadata": {},
   "outputs": [
    {
     "name": "stdout",
     "output_type": "stream",
     "text": [
      "['one', 'two', 'three', 'four', 'five', 'six', 'seven']\n"
     ]
    }
   ],
   "source": [
    "\"\"\"A Python program to create a regular expression to retrieve all words with 3 or 4 or 5 characters length.\"\"\"\n",
    "import re\n",
    "str = 'one two three four five six seven 8 9 10'\n",
    "\n",
    "result = re.findall(r'\\b\\w{3,5}\\b', str)\n",
    "print(result)"
   ]
  },
  {
   "cell_type": "code",
   "execution_count": 13,
   "metadata": {},
   "outputs": [
    {
     "name": "stdout",
     "output_type": "stream",
     "text": [
      "['8', '9']\n"
     ]
    }
   ],
   "source": [
    "\"\"\"A Python program to create a regular expression to retrieve only sigle digits from a string.\"\"\"\n",
    "import re\n",
    "str = 'one two three four five six seven 8 9 10'\n",
    "\n",
    "result = re.findall(r'\\b\\d\\b', str)\n",
    "print(result)"
   ]
  },
  {
   "cell_type": "code",
   "execution_count": 27,
   "metadata": {},
   "outputs": [
    {
     "name": "stdout",
     "output_type": "stream",
     "text": [
      "['8', '9']\n"
     ]
    }
   ],
   "source": [
    "#to retrieve only single digits from a string\n",
    "import re\n",
    "str = 'one two three four five six seven 8 9 10'\n",
    "\n",
    "result = re.findall(r'\\b\\d\\b', str)\n",
    "print(result)"
   ]
  },
  {
   "cell_type": "code",
   "execution_count": null,
   "metadata": {},
   "outputs": [],
   "source": [
    "#To retrive only single digits from a string\n",
    "import re\n",
    "str = 'one two three fo'"
   ]
  },
  {
   "cell_type": "code",
   "execution_count": 2,
   "metadata": {},
   "outputs": [
    {
     "name": "stdout",
     "output_type": "stream",
     "text": [
      "['three']\n"
     ]
    }
   ],
   "source": [
    "\"\"\"A Python program to create a regular expression to retrieve the last word of a string, if it starts with t.\"\"\"\n",
    "import re\n",
    "str = 'one two three one two three'\n",
    "result = re.findall(r't[\\w]*\\Z', str)\n",
    "print(result)"
   ]
  },
  {
   "cell_type": "code",
   "execution_count": 3,
   "metadata": {},
   "outputs": [
    {
     "name": "stdout",
     "output_type": "stream",
     "text": [
      "9901292356\n"
     ]
    }
   ],
   "source": [
    "\"\"\"A Python program to create a regular expression to retrieve the phone number of a person.\"\"\"\n",
    "import re\n",
    "str = 'Sachin: 9901292356'\n",
    "res = re.search(r'\\d+', str)\n",
    "print(res.group())"
   ]
  },
  {
   "cell_type": "code",
   "execution_count": 2,
   "metadata": {},
   "outputs": [
    {
     "name": "stdout",
     "output_type": "stream",
     "text": [
      "Sachin: \n"
     ]
    }
   ],
   "source": [
    "\"\"\"A Python program to create a regular expression to extract only name but not number from a string.\"\"\"\n",
    "import re\n",
    "str = 'Sachin: 9901292356'\n",
    "res = re.search(r'\\D+', str)\n",
    "print(res.group())"
   ]
  },
  {
   "cell_type": "code",
   "execution_count": 3,
   "metadata": {},
   "outputs": [
    {
     "name": "stdout",
     "output_type": "stream",
     "text": [
      "['anil', 'akhil', 'anant', 'ankur']\n"
     ]
    }
   ],
   "source": [
    "\"\"\"A Python program to create a regular expression to find all words starting with 'an' or 'ak'.\"\"\"\n",
    "import re\n",
    "str = 'anil akhil anant arati arundati abhijit ankur'\n",
    "res = re.findall(r'a[nk][\\w]*', str)\n",
    "print(res)"
   ]
  },
  {
   "cell_type": "code",
   "execution_count": 4,
   "metadata": {},
   "outputs": [
    {
     "name": "stdout",
     "output_type": "stream",
     "text": [
      "['22-10-1990', '15-09-2000']\n"
     ]
    }
   ],
   "source": [
    "\"\"\"A Python program to create a regular expression to retrieve date of births from a string.\"\"\"\n",
    "import re\n",
    "str = 'Vijay 20 1-5-2001, Rohit 21 22-10-1990, Sita 22 15-09-2000'\n",
    "res = re.findall(r'\\d{2}-\\d{2}-\\d{4}', str)\n",
    "print(res)"
   ]
  },
  {
   "cell_type": "code",
   "execution_count": 6,
   "metadata": {},
   "outputs": [
    {
     "name": "stdout",
     "output_type": "stream",
     "text": [
      "['1-5-2001', '22-10-1990', '15-09-2000']\n"
     ]
    }
   ],
   "source": [
    "res = re.findall(r'\\d{1,2}-\\d{1,2}-\\d{4}', str)\n",
    "print(res)"
   ]
  },
  {
   "cell_type": "markdown",
   "metadata": {},
   "source": [
    "### Special Characters in Regular Expressions"
   ]
  },
  {
   "cell_type": "code",
   "execution_count": 7,
   "metadata": {},
   "outputs": [
    {
     "name": "stdout",
     "output_type": "stream",
     "text": [
      "String starts with He'\n"
     ]
    }
   ],
   "source": [
    "\"\"\"A Python program to create a regular expression to search whether a given string is with 'He' or not.\"\"\"\n",
    "import re\n",
    "str = \"Hello World\"\n",
    "res = re.search('^He', str)\n",
    "if res:\n",
    "    print(\"String starts with He'\")\n",
    "else:\n",
    "    print(\"String does not starts with 'He'\")"
   ]
  },
  {
   "cell_type": "code",
   "execution_count": 8,
   "metadata": {},
   "outputs": [
    {
     "name": "stdout",
     "output_type": "stream",
     "text": [
      "String ends with 'world'\n"
     ]
    }
   ],
   "source": [
    "\"\"\"A Python program to create a regular expression to search for a word at the ending of a string.\"\"\"\n",
    "import re\n",
    "str = \"Hello World\"\n",
    "res = re.search(r\"World$\", str)\n",
    "if res:\n",
    "    print(\"String ends with 'world'\")\n",
    "else:\n",
    "    print(\"String does not ends with 'World'\")"
   ]
  },
  {
   "cell_type": "code",
   "execution_count": 9,
   "metadata": {},
   "outputs": [
    {
     "name": "stdout",
     "output_type": "stream",
     "text": [
      "String ends with 'world'\n"
     ]
    }
   ],
   "source": [
    "\"\"\"A Python program to create a regular expression to search at the ending of a string by ignoring the case.\"\"\"\n",
    "import re\n",
    "str = \"Hello World\"\n",
    "res = re.search(r\"world$\", str, re.IGNORECASE)\n",
    "if res:\n",
    "    print(\"String ends with 'world'\")\n",
    "else:\n",
    "    print(\"String does not end with 'world'\")"
   ]
  },
  {
   "cell_type": "code",
   "execution_count": 10,
   "metadata": {},
   "outputs": [
    {
     "name": "stdout",
     "output_type": "stream",
     "text": [
      "['75', '55', '88']\n",
      "['Rahul', 'Vijay', 'Subbu']\n"
     ]
    }
   ],
   "source": [
    "\"\"\"A Python program to create a regular expression to retrieve marks and names from a given string.\"\"\"\n",
    "#displaying marks and names\n",
    "import re;\n",
    "str = 'Rahul got 75 marks, Vijay got 55 marks, whereas Subbu got 88 marks.'\n",
    "\n",
    "#extract only marks having 2 digits.\n",
    "marks = re.findall('\\d{2}', str)\n",
    "print(marks)\n",
    "\n",
    "#Extract name starting with a capital letter.\n",
    "#and remaining alphabetic characters\n",
    "names = re.findall('[A-Z][a-z]*', str)\n",
    "print(names)"
   ]
  },
  {
   "cell_type": "code",
   "execution_count": 11,
   "metadata": {},
   "outputs": [
    {
     "name": "stdout",
     "output_type": "stream",
     "text": [
      "['8am', '9am', '4pm', '5pm']\n"
     ]
    }
   ],
   "source": [
    "\"\"\"A Python program to create a regular expression to retrieve the timings either 'am' or 'pm'.\"\"\"\n",
    "import re\n",
    "str = 'The meeting may be at 8am or 9am or 4pm or 5pm.'\n",
    "res = re.findall(r'\\dam|\\dpm', str)\n",
    "print(res)"
   ]
  },
  {
   "cell_type": "markdown",
   "metadata": {},
   "source": [
    "### Using Regular Expressions on Files."
   ]
  },
  {
   "cell_type": "code",
   "execution_count": 12,
   "metadata": {},
   "outputs": [
    {
     "ename": "FileNotFoundError",
     "evalue": "[Errno 2] No such file or directory: 'mails.txt'",
     "output_type": "error",
     "traceback": [
      "\u001b[1;31m---------------------------------------------------------------------------\u001b[0m",
      "\u001b[1;31mFileNotFoundError\u001b[0m                         Traceback (most recent call last)",
      "\u001b[1;32m<ipython-input-12-028919b05e7a>\u001b[0m in \u001b[0;36m<module>\u001b[1;34m\u001b[0m\n\u001b[0;32m      2\u001b[0m \u001b[1;32mimport\u001b[0m \u001b[0mre\u001b[0m\u001b[1;33m\u001b[0m\u001b[1;33m\u001b[0m\u001b[0m\n\u001b[0;32m      3\u001b[0m \u001b[1;31m#open the file for reading\u001b[0m\u001b[1;33m\u001b[0m\u001b[1;33m\u001b[0m\u001b[1;33m\u001b[0m\u001b[0m\n\u001b[1;32m----> 4\u001b[1;33m \u001b[0mf\u001b[0m \u001b[1;33m=\u001b[0m \u001b[0mopen\u001b[0m\u001b[1;33m(\u001b[0m\u001b[1;34m'mails.txt'\u001b[0m\u001b[1;33m,\u001b[0m \u001b[1;34m'r'\u001b[0m\u001b[1;33m)\u001b[0m\u001b[1;33m\u001b[0m\u001b[1;33m\u001b[0m\u001b[0m\n\u001b[0m\u001b[0;32m      5\u001b[0m \u001b[1;33m\u001b[0m\u001b[0m\n\u001b[0;32m      6\u001b[0m \u001b[1;31m#repeat for each line of the file\u001b[0m\u001b[1;33m\u001b[0m\u001b[1;33m\u001b[0m\u001b[1;33m\u001b[0m\u001b[0m\n",
      "\u001b[1;31mFileNotFoundError\u001b[0m: [Errno 2] No such file or directory: 'mails.txt'"
     ]
    }
   ],
   "source": [
    "#A Python program to create a regular expression that reads email-ids from a text file.\n",
    "import re\n",
    "#open the file for reading\n",
    "f = open('mails.txt', 'r')\n",
    "\n",
    "#repeat for each line of the file\n",
    "for line in f:\n",
    "    res = re.findall(r'\\S+@S+', line)\n",
    "    \n",
    "#display if there are some elements in result\n",
    "if len(res) > 0:\n",
    "    print(res)\n",
    "    \n",
    "#close the file\n",
    "f.close()"
   ]
  },
  {
   "cell_type": "code",
   "execution_count": null,
   "metadata": {},
   "outputs": [],
   "source": []
  }
 ],
 "metadata": {
  "kernelspec": {
   "display_name": "Python 3",
   "language": "python",
   "name": "python3"
  },
  "language_info": {
   "codemirror_mode": {
    "name": "ipython",
    "version": 3
   },
   "file_extension": ".py",
   "mimetype": "text/x-python",
   "name": "python",
   "nbconvert_exporter": "python",
   "pygments_lexer": "ipython3",
   "version": "3.8.5"
  }
 },
 "nbformat": 4,
 "nbformat_minor": 4
}
