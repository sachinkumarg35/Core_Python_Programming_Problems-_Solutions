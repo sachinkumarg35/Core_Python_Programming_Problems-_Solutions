{
 "cells": [
  {
   "cell_type": "code",
   "execution_count": 2,
   "metadata": {},
   "outputs": [
    {
     "name": "stdout",
     "output_type": "stream",
     "text": [
      "Enter radius: 15.5\n",
      "Area of circle =  754.7676350249478\n",
      "Area of circle = 754.77\n"
     ]
    }
   ],
   "source": [
    "#A python program to calculate the area of a circle\n",
    "#to find area of a circle.\n",
    "import math #here math module is imported\n",
    "r = float(input('Enter radius: '))\n",
    "area = math.pi*r**2 #pi is a constant in math module.\n",
    "print(\"Area of circle = \", area)\n",
    "print(\"Area of circle = {:0.2f}\".format(area))"
   ]
  },
  {
   "cell_type": "markdown",
   "metadata": {},
   "source": [
    "### if statement"
   ]
  },
  {
   "cell_type": "code",
   "execution_count": 4,
   "metadata": {},
   "outputs": [
    {
     "name": "stdout",
     "output_type": "stream",
     "text": [
      "one\n"
     ]
    }
   ],
   "source": [
    "#A python program to express a digit in a word\n",
    "#understanding if statement\n",
    "num = 1\n",
    "if num == 1:\n",
    "    print(\"one\")"
   ]
  },
  {
   "cell_type": "code",
   "execution_count": 5,
   "metadata": {},
   "outputs": [
    {
     "name": "stdout",
     "output_type": "stream",
     "text": [
      "Yes\n",
      "This is what you said\n",
      "Your response is good\n"
     ]
    }
   ],
   "source": [
    "#A python program to display a group of messages when the condition is true.\n",
    "#understanding if statement.\n",
    "str = \"Yes\"\n",
    "if str == \"Yes\":\n",
    "    print(\"Yes\")\n",
    "    print(\"This is what you said\")\n",
    "    print(\"Your response is good\")"
   ]
  },
  {
   "cell_type": "markdown",
   "metadata": {},
   "source": [
    "### if...else statement"
   ]
  },
  {
   "cell_type": "code",
   "execution_count": 6,
   "metadata": {},
   "outputs": [
    {
     "name": "stdout",
     "output_type": "stream",
     "text": [
      "10 is even number\n"
     ]
    }
   ],
   "source": [
    "#A python program to test whether a number is even or odd.\n",
    "#to know if a given number is even or odd\n",
    "x = 10\n",
    "if x % 2 == 0:\n",
    "    print(x, \"is even number\")\n",
    "else:\n",
    "    print(x, \"is odd number\")"
   ]
  },
  {
   "cell_type": "code",
   "execution_count": 7,
   "metadata": {},
   "outputs": [
    {
     "name": "stdout",
     "output_type": "stream",
     "text": [
      "Enter a number: 5\n",
      "5 is odd number\n"
     ]
    }
   ],
   "source": [
    "#A python program to accept a number from the keyboard and test whether it is even or odd.\n",
    "#to know if a given number is even or odd.\n",
    "x = int(input(\"Enter a number: \"))\n",
    "if x % 2 == 0:\n",
    "    print(x, \"is even number\")\n",
    "else:\n",
    "    print(x, \"is odd number\")"
   ]
  },
  {
   "cell_type": "code",
   "execution_count": 9,
   "metadata": {},
   "outputs": [
    {
     "name": "stdout",
     "output_type": "stream",
     "text": [
      "Enter a number: 2\n",
      "You typed 2 which is between 1 and 10\n"
     ]
    }
   ],
   "source": [
    "#A python program to test whether a given number is in between 1 and 10.\n",
    "#using 'and' in if ... else statement\n",
    "x = int(input(\"Enter a number: \"))\n",
    "if x >= 1 and x <= 10:\n",
    "    print(\"You typed\", x, \"which is between 1 and 10\")\n",
    "else:\n",
    "    print(\"You typed\", x, \"Which is below 1 or above 10\")"
   ]
  },
  {
   "cell_type": "markdown",
   "metadata": {},
   "source": [
    "### if...elif...else statement"
   ]
  },
  {
   "cell_type": "code",
   "execution_count": 11,
   "metadata": {},
   "outputs": [
    {
     "name": "stdout",
     "output_type": "stream",
     "text": [
      "5 is positive\n"
     ]
    }
   ],
   "source": [
    "#A python program to know if a given number is zero, positive or negative.\n",
    "#to know if a given number is zero or +ve or -ve.\n",
    "num = 5\n",
    "if num == 0:\n",
    "    print(num, \"is zero\")\n",
    "elif num > 0:\n",
    "    print(num, \"is positive\")\n",
    "else:\n",
    "    print(num, \"is negative\")"
   ]
  },
  {
   "cell_type": "code",
   "execution_count": 12,
   "metadata": {},
   "outputs": [
    {
     "name": "stdout",
     "output_type": "stream",
     "text": [
      "Enter a digit: 5\n",
      "five\n"
     ]
    }
   ],
   "source": [
    "#A program to accept a numeric digit from keyboard and display in words.\n",
    "#to display a numeric digit in words\n",
    "x = int(input(\"Enter a digit: \"))\n",
    "if x == 0:\n",
    "    print(\"zero\")\n",
    "elif x == 1:\n",
    "    print(\"one\")\n",
    "elif x == 2:\n",
    "    print(\"two\")\n",
    "elif x == 3:\n",
    "    print(\"three\")\n",
    "elif x == 4:\n",
    "    print(\"four\")\n",
    "elif x == 5:\n",
    "    print(\"five\")\n",
    "elif x == 6:\n",
    "    print(\"six\")\n",
    "elif x == 7:\n",
    "    print(\"seven\")\n",
    "elif x == 8:\n",
    "    print(\"eight\")\n",
    "elif x == 9:\n",
    "    print(\"nine\")\n",
    "#else part is not compulsary"
   ]
  },
  {
   "cell_type": "markdown",
   "metadata": {},
   "source": [
    "### while loop"
   ]
  },
  {
   "cell_type": "code",
   "execution_count": 13,
   "metadata": {},
   "outputs": [
    {
     "name": "stdout",
     "output_type": "stream",
     "text": [
      "1\n",
      "2\n",
      "3\n",
      "4\n",
      "5\n",
      "6\n",
      "7\n",
      "8\n",
      "9\n",
      "10\n",
      "End\n"
     ]
    }
   ],
   "source": [
    "#A python program to display numbers from 1 to 10 using while loop.\n",
    "#to display numbers from 1 to 10\n",
    "x = 1\n",
    "while x <= 10:\n",
    "    print(x)\n",
    "    x += 1\n",
    "print(\"End\")"
   ]
  },
  {
   "cell_type": "code",
   "execution_count": 14,
   "metadata": {},
   "outputs": [
    {
     "name": "stdout",
     "output_type": "stream",
     "text": [
      "100\n",
      "102\n",
      "104\n",
      "106\n",
      "108\n",
      "110\n",
      "112\n",
      "114\n",
      "116\n",
      "118\n",
      "120\n",
      "122\n",
      "124\n",
      "126\n",
      "128\n",
      "130\n",
      "132\n",
      "134\n",
      "136\n",
      "138\n",
      "140\n",
      "142\n",
      "144\n",
      "146\n",
      "148\n",
      "150\n",
      "152\n",
      "154\n",
      "156\n",
      "158\n",
      "160\n",
      "162\n",
      "164\n",
      "166\n",
      "168\n",
      "170\n",
      "172\n",
      "174\n",
      "176\n",
      "178\n",
      "180\n",
      "182\n",
      "184\n",
      "186\n",
      "188\n",
      "190\n",
      "192\n",
      "194\n",
      "196\n",
      "198\n",
      "200\n"
     ]
    }
   ],
   "source": [
    "#A python progran to display even numbers betweenn 100 and 200.\n",
    "#to display even numbers between 100 and 200.\n",
    "x = 100\n",
    "while x >= 100 and x <= 200:\n",
    "    print(x)\n",
    "    x += 2"
   ]
  },
  {
   "cell_type": "code",
   "execution_count": 15,
   "metadata": {},
   "outputs": [
    {
     "name": "stdout",
     "output_type": "stream",
     "text": [
      "Enter minimum and maximum range: 11, 20\n",
      "12\n",
      "14\n",
      "16\n",
      "18\n",
      "20\n"
     ]
    }
   ],
   "source": [
    "#A python program to display even numbers between m and n.\n",
    "#to display even numbers between m and n\n",
    "m, n = [int(i) for i in input(\"Enter minimum and maximum range: \").split(',')]\n",
    "x=m #start from m onwards\n",
    "if x % 2 != 0: # if x is not even, start from next number\n",
    "    x = x + 1\n",
    "while x >= m and x <= n:\n",
    "    print(x)\n",
    "    x += 2"
   ]
  },
  {
   "cell_type": "markdown",
   "metadata": {},
   "source": [
    "### for loop"
   ]
  },
  {
   "cell_type": "code",
   "execution_count": 16,
   "metadata": {},
   "outputs": [
    {
     "name": "stdout",
     "output_type": "stream",
     "text": [
      "h\n",
      "e\n",
      "l\n",
      "l\n",
      "o\n"
     ]
    }
   ],
   "source": [
    "#A python progrom to display characters of a string using for loop.\n",
    "#to display each character from a string.\n",
    "str = 'hello'\n",
    "for ch in str:\n",
    "    print(ch)"
   ]
  },
  {
   "cell_type": "code",
   "execution_count": 17,
   "metadata": {},
   "outputs": [
    {
     "name": "stdout",
     "output_type": "stream",
     "text": [
      "h\n",
      "e\n",
      "l\n",
      "l\n",
      "o\n"
     ]
    }
   ],
   "source": [
    "#A python program to display each characters from a string using sequence index.\n",
    "#to display each character from a string.\n",
    "str = 'hello'\n",
    "n = len(str)\n",
    "#find no. of chars in str\n",
    "for i in range(n):\n",
    "    print(str[i])"
   ]
  },
  {
   "cell_type": "code",
   "execution_count": 18,
   "metadata": {},
   "outputs": [
    {
     "name": "stdout",
     "output_type": "stream",
     "text": [
      "1\n",
      "3\n",
      "5\n",
      "7\n",
      "9\n"
     ]
    }
   ],
   "source": [
    "#A python program to display odd numbers from 1 to 10 using range() object.\n",
    "#to display odd numbers between 1 and 10\n",
    "for i in range(1, 10, 2):\n",
    "    print(i)"
   ]
  },
  {
   "cell_type": "code",
   "execution_count": 19,
   "metadata": {},
   "outputs": [
    {
     "name": "stdout",
     "output_type": "stream",
     "text": [
      "10\n",
      "9\n",
      "8\n",
      "7\n",
      "6\n",
      "5\n",
      "4\n",
      "3\n",
      "2\n",
      "1\n"
     ]
    }
   ],
   "source": [
    "#A python program to display numbers from 10 to 1 in descending order.\n",
    "#to display numbers in descending order.\n",
    "for x in range(10, 0, -1):\n",
    "    print(x)"
   ]
  },
  {
   "cell_type": "code",
   "execution_count": 20,
   "metadata": {},
   "outputs": [
    {
     "name": "stdout",
     "output_type": "stream",
     "text": [
      "10\n",
      "20.5\n",
      "A\n",
      "USA\n"
     ]
    }
   ],
   "source": [
    "#A program to display the elements of a list using for loop.\n",
    "# take a list of elements.\n",
    "list = [10, 20.5, 'A', 'USA']\n",
    "\n",
    "#display each element from the list\n",
    "for element in list:\n",
    "    print(element)"
   ]
  },
  {
   "cell_type": "code",
   "execution_count": 21,
   "metadata": {},
   "outputs": [
    {
     "name": "stdout",
     "output_type": "stream",
     "text": [
      "10\n",
      "20\n",
      "30\n",
      "40\n",
      "50\n",
      "sum =  150\n"
     ]
    }
   ],
   "source": [
    "#A python program to display and find the sum of a list of numbers using for loop.\n",
    "#to find sum of list of numbers using for.\n",
    "#take a list of numbers.\n",
    "list = [10, 20, 30, 40, 50]\n",
    "sum = 0 #initially sum is zero\n",
    "for i in list:\n",
    "    print(i) #display the element from list\n",
    "    sum += i #add each element to sum\n",
    "print('sum = ', sum)"
   ]
  },
  {
   "cell_type": "code",
   "execution_count": 22,
   "metadata": {},
   "outputs": [
    {
     "name": "stdout",
     "output_type": "stream",
     "text": [
      "10\n",
      "20\n",
      "30\n",
      "40\n",
      "50\n",
      "sum =  150\n"
     ]
    }
   ],
   "source": [
    "#A python program to display and sum of a list of numbers using while loop.\n",
    "#to find sum of a list of numbers using while.\n",
    "#take a list of numbers\n",
    "list = [10, 20, 30, 40, 50]\n",
    "sum = 0 #initially sum is zero\n",
    "i = 0 #take a variable\n",
    "while i < len(list):\n",
    "    print(list[i]) #display the element from list\n",
    "    sum += list[i] #add each element to sum\n",
    "    i += 1\n",
    "print('sum = ', sum)"
   ]
  },
  {
   "cell_type": "markdown",
   "metadata": {},
   "source": [
    "### Nested loops"
   ]
  },
  {
   "cell_type": "code",
   "execution_count": 23,
   "metadata": {},
   "outputs": [
    {
     "name": "stdout",
     "output_type": "stream",
     "text": [
      "* \n",
      "* * \n",
      "* * * \n",
      "* * * * \n",
      "* * * * * \n",
      "* * * * * * \n",
      "* * * * * * * \n",
      "* * * * * * * * \n",
      "* * * * * * * * * \n",
      "* * * * * * * * * * \n"
     ]
    }
   ],
   "source": [
    "#A python program that displays stars in right angled triangular form using nested loops.\n",
    "#to display stars in right angled triangular form.\n",
    "for i in range(1, 11):\n",
    "    for j in range(1, i+1): #to display 10 rows\n",
    "        print('* ', end = \"\")\n",
    "    print()"
   ]
  },
  {
   "cell_type": "code",
   "execution_count": 24,
   "metadata": {},
   "outputs": [
    {
     "name": "stdout",
     "output_type": "stream",
     "text": [
      "* \n",
      "* * \n",
      "* * * \n",
      "* * * * \n",
      "* * * * * \n",
      "* * * * * * \n",
      "* * * * * * * \n",
      "* * * * * * * * \n",
      "* * * * * * * * * \n",
      "* * * * * * * * * * \n"
     ]
    }
   ],
   "source": [
    "#A python program that displays stars in right angled triangular form using a single loop.\n",
    "#to display stars in right angled triangular form.\n",
    "for i in range(1, 11):\n",
    "    print(\"* \"*(i)) #repeat star for i times"
   ]
  },
  {
   "cell_type": "code",
   "execution_count": 25,
   "metadata": {},
   "outputs": [
    {
     "name": "stdout",
     "output_type": "stream",
     "text": [
      "                                        * \n",
      "                                       * * \n",
      "                                      * * * \n",
      "                                     * * * * \n",
      "                                    * * * * * \n",
      "                                   * * * * * * \n",
      "                                  * * * * * * * \n",
      "                                 * * * * * * * * \n",
      "                                * * * * * * * * * \n",
      "                               * * * * * * * * * * \n"
     ]
    }
   ],
   "source": [
    "#A python program to display the stars in an  equilateral triangular form using a single for loop.\n",
    "#to display stars in equilateral triangular form\n",
    "n = 40\n",
    "for i in range(1, 11):\n",
    "    print(\" \"*n, end = \"\") #repeat space for n times\n",
    "    print(\"* \"*i) #repeat star for i times\n",
    "    n-=1"
   ]
  },
  {
   "cell_type": "code",
   "execution_count": 26,
   "metadata": {},
   "outputs": [
    {
     "name": "stdout",
     "output_type": "stream",
     "text": [
      "       1       2       3       4       5       6       7       8       9      10\n",
      "       2       4       6       8      10      12      14      16      18      20\n",
      "       3       6       9      12      15      18      21      24      27      30\n",
      "       4       8      12      16      20      24      28      32      36      40\n",
      "       5      10      15      20      25      30      35      40      45      50\n",
      "       6      12      18      24      30      36      42      48      54      60\n",
      "       7      14      21      28      35      42      49      56      63      70\n",
      "       8      16      24      32      40      48      56      64      72      80\n",
      "       9      18      27      36      45      54      63      72      81      90\n",
      "      10      20      30      40      50      60      70      80      90     100\n"
     ]
    }
   ],
   "source": [
    "#A python program to display numbers from 1 to 100 in a proper format.\n",
    "#Displaying numbers from 1 to 100 in 10 rows and 10 cols.\n",
    "for x in range(1, 11):\n",
    "    for y in range(1, 11):\n",
    "        print('{:8}'.format(x*y), end = '') #each column size is 8\n",
    "    print()"
   ]
  },
  {
   "cell_type": "markdown",
   "metadata": {},
   "source": [
    "### The else Suite"
   ]
  },
  {
   "cell_type": "code",
   "execution_count": 28,
   "metadata": {},
   "outputs": [
    {
     "name": "stdout",
     "output_type": "stream",
     "text": [
      "Enter element to search: 6\n",
      "Element not found in group1\n"
     ]
    }
   ],
   "source": [
    "#A python program to search for an element in the list of elements.\n",
    "#searching for an element in list\n",
    "group1 = [1, 2, 3, 4, 5] #take a list of elements\n",
    "search = int(input(\"Enter element to search: \"))\n",
    "for element in group1:\n",
    "    if search == element:\n",
    "        print(\"Element found in group1\")\n",
    "        break #come out of for loop\n",
    "else:\n",
    "    print(\"Element not found in group1\")"
   ]
  },
  {
   "cell_type": "markdown",
   "metadata": {},
   "source": [
    "### The break statement"
   ]
  },
  {
   "cell_type": "code",
   "execution_count": 29,
   "metadata": {},
   "outputs": [
    {
     "name": "stdout",
     "output_type": "stream",
     "text": [
      "x=  10\n",
      "x=  9\n",
      "x=  8\n",
      "x=  7\n",
      "x=  6\n",
      "out of loop\n"
     ]
    }
   ],
   "source": [
    "#A python program to display numbers from 10 to 6 and break the loop when the number about to display is 5.\n",
    "#using break to come out of while loop.\n",
    "x = 10\n",
    "while x >= 1:\n",
    "    print('x= ', x)\n",
    "    x -= 1\n",
    "    if x == 5: #if x is 5 then come out from while loop\n",
    "        break\n",
    "print(\"out of loop\")"
   ]
  },
  {
   "cell_type": "markdown",
   "metadata": {},
   "source": [
    "### The continue statement"
   ]
  },
  {
   "cell_type": "code",
   "execution_count": 30,
   "metadata": {},
   "outputs": [
    {
     "name": "stdout",
     "output_type": "stream",
     "text": [
      "x =  1\n",
      "x =  2\n",
      "x =  3\n",
      "x =  4\n",
      "x =  5\n",
      "Out of loop\n"
     ]
    }
   ],
   "source": [
    "#A python program to display numbers from 1 to 5 using continue statement.\n",
    "#using continue to execute next iteration of while loop\n",
    "x = 0\n",
    "while x < 10:\n",
    "    x += 1\n",
    "    if x > 5: #if x > 5 then continue next iteration\n",
    "        continue\n",
    "    print(\"x = \", x)\n",
    "print(\"Out of loop\")"
   ]
  },
  {
   "cell_type": "markdown",
   "metadata": {},
   "source": [
    "### The pass statement"
   ]
  },
  {
   "cell_type": "code",
   "execution_count": 31,
   "metadata": {},
   "outputs": [
    {
     "name": "stdout",
     "output_type": "stream",
     "text": [
      "x =  1\n",
      "x =  2\n",
      "x =  3\n",
      "x =  4\n",
      "x =  5\n",
      "x =  6\n",
      "x =  7\n",
      "x =  8\n",
      "x =  9\n",
      "x =  10\n",
      "Out of loop\n"
     ]
    }
   ],
   "source": [
    "#A program to know that pass does nothing.\n",
    "#using pass to do nothig\n",
    "x = 0\n",
    "while x < 10:\n",
    "    x += 1\n",
    "    if x > 5: #if x > 5 then continue next iteration\n",
    "        pass\n",
    "    print(\"x = \", x)\n",
    "print(\"Out of loop\")"
   ]
  },
  {
   "cell_type": "code",
   "execution_count": 34,
   "metadata": {},
   "outputs": [
    {
     "name": "stdout",
     "output_type": "stream",
     "text": [
      "Enter a number greater than 0: 5\n",
      "U entered:  5\n"
     ]
    }
   ],
   "source": [
    "#A python program to assert that the user enters a number greater than zero.\n",
    "#understanding assert statement\n",
    "x = int(input(\"Enter a number greater than 0: \"))\n",
    "assert x > 0, \"Wrong input entered\"\n",
    "print(\"U entered: \", x)"
   ]
  },
  {
   "cell_type": "markdown",
   "metadata": {},
   "source": [
    "The 'Assertion Error' shown is called exception. An exception is an error that occurs during runtime. To avoid such type of \n",
    "exceptions, we can handle them using 'try...except' statement. After 'try', we use 'assert' and after 'except', we write the exception\n",
    "name to be handled. In the except block. we write the statements that are executed in case of exception. consider below program."
   ]
  },
  {
   "cell_type": "code",
   "execution_count": 36,
   "metadata": {},
   "outputs": [
    {
     "name": "stdout",
     "output_type": "stream",
     "text": [
      "Enter a number greater than 0: -4\n",
      "Wrong input entered\n"
     ]
    }
   ],
   "source": [
    "#A python program to handle the AssertionError exception that is given by assert statement.\n",
    "#to handle AssertionError raised by assert\n",
    "x = int(input(\"Enter a number greater than 0: \"))\n",
    "try:\n",
    "    assert(x > 0) #exception may occur here\n",
    "    print(\"U entered: \", x)\n",
    "except AssertionError:\n",
    "    print(\"Wrong input entered\") #this is executed in case of\n",
    "    #exception"
   ]
  },
  {
   "cell_type": "markdown",
   "metadata": {},
   "source": [
    "### The return statement"
   ]
  },
  {
   "cell_type": "code",
   "execution_count": 1,
   "metadata": {},
   "outputs": [
    {
     "name": "stdout",
     "output_type": "stream",
     "text": [
      "sum =  15\n",
      "sum =  4.0\n"
     ]
    }
   ],
   "source": [
    "#A function to find sum of two numbers\n",
    "def sum(a, b):\n",
    "    print('sum = ', a+b)\n",
    "\n",
    "sum(5, 10) #call sum() and pass 5 and 10\n",
    "sum(1.5, 2.5) #call sum() and pass 1.5 and 2.5"
   ]
  },
  {
   "cell_type": "code",
   "execution_count": 13,
   "metadata": {},
   "outputs": [
    {
     "name": "stdout",
     "output_type": "stream",
     "text": [
      "The result is:  5\n"
     ]
    }
   ],
   "source": [
    "#A function to return sub of two numbers\n",
    "def sub(x , y):\n",
    "    return x - y\n",
    "\n",
    "result = sub(10, 5)\n",
    "print(\"The result is: \", result)"
   ]
  },
  {
   "cell_type": "code",
   "execution_count": 3,
   "metadata": {},
   "outputs": [
    {
     "name": "stdout",
     "output_type": "stream",
     "text": [
      "Upto what number: 30\n",
      "2\n",
      "3\n",
      "5\n",
      "7\n",
      "11\n",
      "13\n",
      "17\n",
      "19\n",
      "23\n",
      "29\n"
     ]
    }
   ],
   "source": [
    "#Write a python program to display prime number series.\n",
    "#program to print prime numbers upto a given number\n",
    "#accept upto what number the user wants\n",
    "max = int(input(\"Upto what number: \"))\n",
    "\n",
    "for num in range(2, max+1): #generate from 2 onwards till max\n",
    "    for i in range(2, num): #i represents numbers from 2 to num - 1\n",
    "        if (num % i) == 0: #if num is divisible by i\n",
    "            break #it is not prime, hence go back and check next num\n",
    "    else:\n",
    "        print(num) #otherwise it is prime and hence display."
   ]
  },
  {
   "cell_type": "code",
   "execution_count": 5,
   "metadata": {},
   "outputs": [
    {
     "name": "stdout",
     "output_type": "stream",
     "text": [
      "How many Fibonaccis ? 10\n",
      "0\n",
      "1\n",
      "1\n",
      "2\n",
      "3\n",
      "5\n",
      "8\n",
      "13\n",
      "21\n",
      "34\n"
     ]
    }
   ],
   "source": [
    "#Write a python program to generate Fibonacci number series.\n",
    "#program to display Fibonacci series.\n",
    "n = int(input(\"How many Fibonaccis ? \"))\n",
    "f1 = 0 #this is first Fibonacci no\n",
    "f2 = 1 #this is the second one\n",
    "c = 2 #counts the no of Fibonaccis\n",
    "if n == 1:\n",
    "    print(f1)\n",
    "elif n == 2:\n",
    "    print(f1, '\\n', f2, sep = \"\")\n",
    "else:\n",
    "    print(f1, '\\n', f2, sep = \"\")\n",
    "    while c<n:\n",
    "        f = f1+f2 #add two Fibonaccis to get the new one\n",
    "        print(f)\n",
    "        f1, f2 = f2, f #this is same as f1 = f2 , f2 = f\n",
    "        c+=1 #increment counter"
   ]
  },
  {
   "cell_type": "code",
   "execution_count": 6,
   "metadata": {},
   "outputs": [
    {
     "name": "stdout",
     "output_type": "stream",
     "text": [
      "Enter angle value, no. of iterations: 60, 10\n",
      "Iteration= 1\tsum= 1.047197\n",
      "Iteration= 2\tsum= 0.855800\n",
      "Iteration= 3\tsum= 0.866295\n",
      "Iteration= 4\tsum= 0.866021\n",
      "Iteration= 5\tsum= 0.866025\n",
      "Iteration= 6\tsum= 0.866025\n",
      "Iteration= 7\tsum= 0.866025\n",
      "Iteration= 8\tsum= 0.866025\n",
      "Iteration= 9\tsum= 0.866025\n",
      "Iteration= 10\tsum= 0.866025\n"
     ]
    }
   ],
   "source": [
    "#Write a python program to calculate the sine value of a given angle in degrees by evaluating sine series.\n",
    "#program to evaluate sine series.\n",
    "#accept user input\n",
    "x, n = [int(i) for i in input(\"Enter angle value, no. of iterations: \").split(',')]\n",
    "#convert the angle from degrees into radians\n",
    "r = (x*3.14159)/180\n",
    "\n",
    "#this becomes the first term\n",
    "t = r\n",
    "\n",
    "#till now, find the sum\n",
    "sum = r\n",
    "\n",
    "#display the iteration number and sum\n",
    "print('Iteration= %d\\tsum= %f' % (1, sum))\n",
    "\n",
    "#denominator for the second term\n",
    "i=2\n",
    "\n",
    "#repeat for 2nd to nth terms\n",
    "for j in range(2, n+1):\n",
    "    t=(-1)*t*r*r/(i*(i+1)) #find the next term\n",
    "    sum = sum + t #add it to sum\n",
    "    print('Iteration= %d\\tsum= %f' % (j, sum))\n",
    "    i += 2 #increase i value by 2 for denominator for next term"
   ]
  },
  {
   "cell_type": "code",
   "execution_count": 7,
   "metadata": {},
   "outputs": [
    {
     "name": "stdout",
     "output_type": "stream",
     "text": [
      "Enter angle value, no. of iterations: 60, 10\n",
      "Iteration= 1\tSum= 1.000000\n",
      "Iteration= 2\tSum= 0.451690\n",
      "Iteration= 3\tSum= 0.501797\n",
      "Iteration= 4\tSum= 0.499965\n",
      "Iteration= 5\tSum= 0.500001\n",
      "Iteration= 6\tSum= 0.500001\n",
      "Iteration= 7\tSum= 0.500001\n",
      "Iteration= 8\tSum= 0.500001\n",
      "Iteration= 9\tSum= 0.500001\n",
      "Iteration= 10\tSum= 0.500001\n"
     ]
    }
   ],
   "source": [
    "#Write a python program to find cosine value of a given angle in degrees by evaluating the Cosine series.\n",
    "#accept user input\n",
    "x, n = [int(i) for i in input(\"Enter angle value, no. of iterations: \").split(',')]\n",
    "\n",
    "#convert the angle from degrees into radians\n",
    "r=(x*3.14159)/180\n",
    "\n",
    "#this becomes the first term\n",
    "t = 1\n",
    "\n",
    "#till now, sum is 1 only\n",
    "sum = 1 \n",
    "\n",
    "#display the iteration number and sum\n",
    "print('Iteration= %d\\tSum= %f' % (1, sum))\n",
    "\n",
    "#denominator for the second term\n",
    "i = 1\n",
    "\n",
    "#repeat for 2nd to nth terms\n",
    "for j in range(2, n+1):\n",
    "    t=(-1)*t*r**2/(i*(i+1)) #find the next term\n",
    "    sum = sum + t #add it to sum\n",
    "    print('Iteration= %d\\tSum= %f' % (j, sum))\n",
    "    i += 2#increase i value by 2 for denominator for next term"
   ]
  },
  {
   "cell_type": "code",
   "execution_count": 8,
   "metadata": {},
   "outputs": [
    {
     "name": "stdout",
     "output_type": "stream",
     "text": [
      "Enter power of e, no. of iterations: 2, 15\n",
      "Iteration= 1\tSum= 1.000000\n",
      "Iteration= 2\tSum= 3.000000\n",
      "Iteration= 3\tSum= 5.000000\n",
      "Iteration= 4\tSum= 6.333333\n",
      "Iteration= 5\tSum= 7.000000\n",
      "Iteration= 6\tSum= 7.266667\n",
      "Iteration= 7\tSum= 7.355556\n",
      "Iteration= 8\tSum= 7.380952\n",
      "Iteration= 9\tSum= 7.387302\n",
      "Iteration= 10\tSum= 7.388713\n",
      "Iteration= 11\tSum= 7.388995\n",
      "Iteration= 12\tSum= 7.389046\n",
      "Iteration= 13\tSum= 7.389055\n",
      "Iteration= 14\tSum= 7.389056\n",
      "Iteration= 15\tSum= 7.389056\n"
     ]
    }
   ],
   "source": [
    "#Write a python program to evaluate exponential series.\n",
    "#program to evaluate Exponential series.\n",
    "#accept user input\n",
    "x, n = [int(i) for i in input(\"Enter power of e, no. of iterations: \").split(',')]\n",
    "\n",
    "#this becomes the first term\n",
    "t = 1\n",
    "\n",
    "#till now, sum  is 1 only\n",
    "sum = t\n",
    "\n",
    "#display the iteration number and sum\n",
    "print(\"Iteration= %d\\tSum= %f\" % (1, sum))\n",
    "\n",
    "#repeat for 1st to nth terms\n",
    "for j in range(1, n):\n",
    "    t = t * x/j #find the next term \n",
    "    sum = sum + t #add it to sum\n",
    "    print('Iteration= %d\\tSum= %f' % (j+1, sum))"
   ]
  },
  {
   "cell_type": "code",
   "execution_count": null,
   "metadata": {},
   "outputs": [],
   "source": []
  }
 ],
 "metadata": {
  "kernelspec": {
   "display_name": "Python 3 (ipykernel)",
   "language": "python",
   "name": "python3"
  },
  "language_info": {
   "codemirror_mode": {
    "name": "ipython",
    "version": 3
   },
   "file_extension": ".py",
   "mimetype": "text/x-python",
   "name": "python",
   "nbconvert_exporter": "python",
   "pygments_lexer": "ipython3",
   "version": "3.10.9"
  }
 },
 "nbformat": 4,
 "nbformat_minor": 4
}
