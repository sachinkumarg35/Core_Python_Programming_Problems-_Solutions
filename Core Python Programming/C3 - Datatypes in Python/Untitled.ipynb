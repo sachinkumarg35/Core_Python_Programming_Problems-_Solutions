{
 "cells": [
  {
   "cell_type": "markdown",
   "metadata": {},
   "source": [
    "### Complex Datatype"
   ]
  },
  {
   "cell_type": "code",
   "execution_count": 1,
   "metadata": {},
   "outputs": [
    {
     "name": "stdout",
     "output_type": "stream",
     "text": [
      "sum=  (4+7.5j)\n"
     ]
    }
   ],
   "source": [
    "#A Python program to display the sum of two complex numbers\n",
    "c1 = 1+5j\n",
    "c2 = 3.0+2.5j\n",
    "c3 = c1 + c2\n",
    "print('sum= ', c3)"
   ]
  },
  {
   "cell_type": "markdown",
   "metadata": {},
   "source": [
    "### Converting Datatypes Explicitly"
   ]
  },
  {
   "cell_type": "code",
   "execution_count": 5,
   "metadata": {},
   "outputs": [
    {
     "name": "stdout",
     "output_type": "stream",
     "text": [
      "Octal 17 =  15\n",
      "Binary 1110010 114\n",
      "Hexadecimal lc2 450\n"
     ]
    }
   ],
   "source": [
    "#A Python program to convert numbers from octal, binary and hexadecimal systems into decimal number system.\n",
    "n1 = 0o17\n",
    "n2 = 0B1110010\n",
    "n3 = 0x1c2\n",
    "\n",
    "n = int(n1)\n",
    "print('Octal 17 = ', n)\n",
    "n = int(n2)\n",
    "print('Binary 1110010', n)\n",
    "n = int(n3)\n",
    "print('Hexadecimal lc2', n)"
   ]
  },
  {
   "cell_type": "code",
   "execution_count": 20,
   "metadata": {},
   "outputs": [
    {
     "name": "stdout",
     "output_type": "stream",
     "text": [
      "octal 18 =  13\n",
      "Binary 111010 73\n",
      "Hexadecimal lc2 =  407\n"
     ]
    }
   ],
   "source": [
    "#Different number system into decimal number system\n",
    "s1 = '15'\n",
    "s2 = '01001001'\n",
    "s3 = '1c2'\n",
    "\n",
    "n = int(s1, 8)\n",
    "print('octal 18 = ', n)\n",
    "n = int(s2, 2)\n",
    "print('Binary 111010', n)\n",
    "n = int(s3, 15)\n",
    "print('Hexadecimal lc2 = ', n)"
   ]
  },
  {
   "cell_type": "markdown",
   "metadata": {},
   "source": [
    "### bytes Datatype"
   ]
  },
  {
   "cell_type": "code",
   "execution_count": 10,
   "metadata": {},
   "outputs": [
    {
     "name": "stdout",
     "output_type": "stream",
     "text": [
      "10\n",
      "20\n",
      "0\n",
      "40\n",
      "15\n"
     ]
    }
   ],
   "source": [
    "#A Python program to create a byte type array, read and display the elements of the array.\n",
    "#create a list of byte numbers\n",
    "elements = [10, 20, 0, 40, 15]\n",
    "\n",
    "#convert the list into byte type array\n",
    "x = bytes(elements)\n",
    "\n",
    "#retrieve elements from x using for loop and display\n",
    "for i in x:\n",
    "    print(i)"
   ]
  },
  {
   "cell_type": "markdown",
   "metadata": {},
   "source": [
    "### bytearray Datatype"
   ]
  },
  {
   "cell_type": "code",
   "execution_count": 13,
   "metadata": {},
   "outputs": [
    {
     "name": "stdout",
     "output_type": "stream",
     "text": [
      "10\n",
      "20\n",
      "0\n",
      "45\n",
      "12\n"
     ]
    }
   ],
   "source": [
    "#A Python program to create a bytearray types array and retrieve elements.\n",
    "#program to understand bytearray type array.\n",
    "#create a list of byte numbers\n",
    "elements = [10, 20, 0, 45, 12]\n",
    "\n",
    "#convert the list into bytearray type array\n",
    "x = bytearray(elements)\n",
    "\n",
    "#retrieve elements from x using for loop and display\n",
    "for i in x:\n",
    "    print(i)"
   ]
  },
  {
   "cell_type": "code",
   "execution_count": null,
   "metadata": {},
   "outputs": [],
   "source": []
  }
 ],
 "metadata": {
  "kernelspec": {
   "display_name": "Python 3 (ipykernel)",
   "language": "python",
   "name": "python3"
  },
  "language_info": {
   "codemirror_mode": {
    "name": "ipython",
    "version": 3
   },
   "file_extension": ".py",
   "mimetype": "text/x-python",
   "name": "python",
   "nbconvert_exporter": "python",
   "pygments_lexer": "ipython3",
   "version": "3.10.9"
  }
 },
 "nbformat": 4,
 "nbformat_minor": 4
}
