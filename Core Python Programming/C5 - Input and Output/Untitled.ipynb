{
 "cells": [
  {
   "cell_type": "code",
   "execution_count": 1,
   "metadata": {},
   "outputs": [
    {
     "name": "stdout",
     "output_type": "stream",
     "text": [
      "Enter a string: Hello code\n",
      "U entered:  Hello code\n"
     ]
    }
   ],
   "source": [
    "#A python program to accept a string from keyboard and display it.\n",
    "#accepting a string from keyboard.\n",
    "str = input(\"Enter a string: \")\n",
    "print(\"U entered: \", str) #display the entire string"
   ]
  },
  {
   "cell_type": "code",
   "execution_count": 2,
   "metadata": {},
   "outputs": [
    {
     "name": "stdout",
     "output_type": "stream",
     "text": [
      "Enter a char: python\n",
      "U entered: python\n"
     ]
    }
   ],
   "source": [
    "#A python program to accept a character as a string:\n",
    "#accepting a single character or string from keyboard.\n",
    "ch = input(\"Enter a char: \")\n",
    "print(\"U entered: \"+ch)"
   ]
  },
  {
   "cell_type": "code",
   "execution_count": 3,
   "metadata": {},
   "outputs": [
    {
     "name": "stdout",
     "output_type": "stream",
     "text": [
      "Enter a char: abcd\n",
      "U entered: a\n"
     ]
    }
   ],
   "source": [
    "#A python program to accept a single character from keyboard.\n",
    "#Accepting a single character from keyboard.\n",
    "ch = input(\"Enter a char: \")\n",
    "print(\"U entered: \"+ch[0])"
   ]
  },
  {
   "cell_type": "code",
   "execution_count": 4,
   "metadata": {},
   "outputs": [
    {
     "name": "stdout",
     "output_type": "stream",
     "text": [
      "Enter a number: 2999\n",
      "U entered:  2999\n"
     ]
    }
   ],
   "source": [
    "#A python program to accept an integer number from keyboard.\n",
    "#Accepting integer from keyboard\n",
    "str = input(\"Enter a number: \")\n",
    "x = int(str) #Conver string into int\n",
    "print(\"U entered: \", x) #display the integer number."
   ]
  },
  {
   "cell_type": "code",
   "execution_count": 5,
   "metadata": {},
   "outputs": [
    {
     "name": "stdout",
     "output_type": "stream",
     "text": [
      "Enter a number: 0123456789\n",
      "U entered:  123456789\n"
     ]
    }
   ],
   "source": [
    "#A python program to accept an integer number from keyboard.\n",
    "#accepting integer number from keyboard.\n",
    "x = int(input(\"Enter a number: \"))\n",
    "print(\"U entered: \", x) #display the integer number."
   ]
  },
  {
   "cell_type": "code",
   "execution_count": 6,
   "metadata": {},
   "outputs": [
    {
     "name": "stdout",
     "output_type": "stream",
     "text": [
      "Enter a number: 5.123\n",
      "U entered:  5.123\n"
     ]
    }
   ],
   "source": [
    "#A python program to accept a float number from keyboard.\n",
    "#accepting float number from keyboard.\n",
    "x = float(input(\"Enter a number: \"))\n",
    "print(\"U entered: \", x) #display the float number"
   ]
  },
  {
   "cell_type": "code",
   "execution_count": 7,
   "metadata": {},
   "outputs": [
    {
     "name": "stdout",
     "output_type": "stream",
     "text": [
      "Enter first number: 5\n",
      "Enter second number: 10\n",
      "U entered:  5 10\n"
     ]
    }
   ],
   "source": [
    "#A python program to accept two integer numbers from keyboard.\n",
    "#accepting two numbers from keyboard.\n",
    "x = int(input(\"Enter first number: \"))\n",
    "y = int(input(\"Enter second number: \"))\n",
    "print(\"U entered: \", x, y) #display both the numbers seperating with a space"
   ]
  },
  {
   "cell_type": "code",
   "execution_count": 8,
   "metadata": {},
   "outputs": [
    {
     "name": "stdout",
     "output_type": "stream",
     "text": [
      "Enter first number: 88\n",
      "Enter second number: 98\n",
      "The sun of  88  and  98  is  186\n",
      "The sum of 88 and 98 is 186\n"
     ]
    }
   ],
   "source": [
    "#A python program to accept two numbers and find their sum\n",
    "#Find sum of two numbers.\n",
    "x = int(input(\"Enter first number: \"))\n",
    "y = int(input(\"Enter second number: \"))\n",
    "print(\"The sun of \", x, \" and \", y, \" is \", x+y) #display sum\n",
    "print(\"The sum of {} and {} is {}\".format(x, y, x+y)) #display again"
   ]
  },
  {
   "cell_type": "code",
   "execution_count": 9,
   "metadata": {},
   "outputs": [
    {
     "name": "stdout",
     "output_type": "stream",
     "text": [
      "Enter first number: 10\n",
      "Enter second number: 15\n",
      "The sum of 10 and 15 is 25\n",
      "The product of 10 and 15 is 150\n",
      "The sum of 10 and 15 is 25 and product of 10 and 15 is 150\n"
     ]
    }
   ],
   "source": [
    "#A python program to find sum anf product of two numbers.\n",
    "#find sum and product of two numbers.\n",
    "x = int(input(\"Enter first number: \"))\n",
    "y = int(input(\"Enter second number: \"))\n",
    "\n",
    "#display sum\n",
    "print(\"The sum of {0} and {1} is {2}\".format(x, y, x+y))\n",
    "\n",
    "#display product\n",
    "print(\"The product of {0} and {1} is {2}\".format(x, y, x*y))\n",
    "\n",
    "#display both sum and product.\n",
    "print(\"The sum of {0} and {1} is {2} and product of {0} and {1} is {3}\".format(x, y, x+y, x*y))"
   ]
  },
  {
   "cell_type": "code",
   "execution_count": 11,
   "metadata": {},
   "outputs": [
    {
     "name": "stdout",
     "output_type": "stream",
     "text": [
      "Enter hexadecimal number: a\n",
      "Hexadecimal to Decimal=  10\n",
      "Enter octal number: 10\n",
      "Octal to Decimal=  8\n",
      "Enter binary number: 1101\n",
      "Binary to Decimal=  13\n"
     ]
    }
   ],
   "source": [
    "#A python program to numbers from other systems into decimal number system.\n",
    "#input from other number systems.\n",
    "str = input(\"Enter hexadecimal number: \") #accept input as a string\n",
    "n = int(str, 16) #inform the number is base 16'\n",
    "print(\"Hexadecimal to Decimal= \", n)\n",
    "\n",
    "str = input(\"Enter octal number: \")\n",
    "n = int(str, 8) #inform the number is base 8\n",
    "print(\"Octal to Decimal= \", n)\n",
    "\n",
    "str = input(\"Enter binary number: \")\n",
    "n = int(str, 2) #inform the number is base 2\n",
    "print(\"Binary to Decimal= \", n)"
   ]
  },
  {
   "cell_type": "code",
   "execution_count": 13,
   "metadata": {},
   "outputs": [
    {
     "name": "stdout",
     "output_type": "stream",
     "text": [
      "Enter three numbers: 10 20 30\n",
      "sum =  60\n"
     ]
    }
   ],
   "source": [
    "#A python program to accept 3 integers in the same line and display their sum.\n",
    "#Accepting 3 numbers separated by a space.\n",
    "var1, var2, var3 = [int(x) for x in input(\"Enter three numbers: \").split()]\n",
    "print('sum = ', var1+var2+var3)"
   ]
  },
  {
   "cell_type": "code",
   "execution_count": 1,
   "metadata": {},
   "outputs": [
    {
     "name": "stdout",
     "output_type": "stream",
     "text": [
      "Enter three numbers: 10, 20, 30\n",
      "sum =  60\n"
     ]
    }
   ],
   "source": [
    "#A python program to accept 3 integers seperated by commas and display their sum.\n",
    "#accepting 3 numbers separated by comma.\n",
    "var1, var2, var3 = [int(x) for x in input(\"Enter three numbers: \").split(',')]\n",
    "print('sum = ', var1+var2+var3)"
   ]
  },
  {
   "cell_type": "code",
   "execution_count": 2,
   "metadata": {},
   "outputs": [
    {
     "name": "stdout",
     "output_type": "stream",
     "text": [
      "Enter strings: hello, world, friend, love\n",
      "You entered:\n",
      " ['hello', ' world', ' friend', ' love']\n"
     ]
    }
   ],
   "source": [
    "#A python to accept a group of strings separated by commas and display them again.\n",
    "#accepting a group of strings from keyboard.\n",
    "lst = [x for x in input(\"Enter strings: \").split(',')]\n",
    "print(\"You entered:\\n\", lst)"
   ]
  },
  {
   "cell_type": "code",
   "execution_count": 3,
   "metadata": {},
   "outputs": [
    {
     "name": "stdout",
     "output_type": "stream",
     "text": [
      "Enter an expression: 10 + 5 - 4\n",
      "Result = 11\n"
     ]
    }
   ],
   "source": [
    "#Evaluating an expression entered from keyboard.\n",
    "#Using eval() along with input() function.\n",
    "x = eval(input(\"Enter an expression: \"))\n",
    "print(\"Result = %d\" % x)"
   ]
  },
  {
   "cell_type": "code",
   "execution_count": 4,
   "metadata": {},
   "outputs": [
    {
     "name": "stdout",
     "output_type": "stream",
     "text": [
      "Enter a list: ['Ajay', 11, 'Vinay']\n",
      "List =  ['Ajay', 11, 'Vinay']\n"
     ]
    }
   ],
   "source": [
    "#A python propgram to accept a list and display it.\n",
    "#accepting a list from the keyboard.\n",
    "lst = eval(input(\"Enter a list: \"))\n",
    "print(\"List = \", lst)"
   ]
  },
  {
   "cell_type": "code",
   "execution_count": 5,
   "metadata": {},
   "outputs": [
    {
     "name": "stdout",
     "output_type": "stream",
     "text": [
      "Enter a tuple: (10, 'a', 20, 'b', 30)\n",
      "Tuple =  (10, 'a', 20, 'b', 30)\n"
     ]
    }
   ],
   "source": [
    "#A python program to accept a tuple and display it.\n",
    "#accepting a tuple from keyboard.\n",
    "tpl = eval(input(\"Enter a tuple: \"))\n",
    "print(\"Tuple = \", tpl)"
   ]
  },
  {
   "cell_type": "code",
   "execution_count": null,
   "metadata": {},
   "outputs": [],
   "source": []
  }
 ],
 "metadata": {
  "kernelspec": {
   "display_name": "Python 3 (ipykernel)",
   "language": "python",
   "name": "python3"
  },
  "language_info": {
   "codemirror_mode": {
    "name": "ipython",
    "version": 3
   },
   "file_extension": ".py",
   "mimetype": "text/x-python",
   "name": "python",
   "nbconvert_exporter": "python",
   "pygments_lexer": "ipython3",
   "version": "3.10.9"
  }
 },
 "nbformat": 4,
 "nbformat_minor": 4
}
