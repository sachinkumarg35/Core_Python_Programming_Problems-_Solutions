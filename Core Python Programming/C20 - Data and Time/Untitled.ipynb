{
 "cells": [
  {
   "cell_type": "markdown",
   "metadata": {},
   "source": [
    "### The epoch"
   ]
  },
  {
   "cell_type": "code",
   "execution_count": 1,
   "metadata": {},
   "outputs": [
    {
     "name": "stdout",
     "output_type": "stream",
     "text": [
      "1682325681.3740847\n"
     ]
    }
   ],
   "source": [
    "#A Python program to measure the time in seconds since the epoch.\n",
    "#Knowing the time since epoch\n",
    "import time\n",
    "epoch = time.time() #call time() function of time module.\n",
    "print(epoch)"
   ]
  },
  {
   "cell_type": "code",
   "execution_count": 2,
   "metadata": {},
   "outputs": [
    {
     "name": "stdout",
     "output_type": "stream",
     "text": [
      "Current date is: 24 - 4 - 2023\n",
      "Current time is: 14 : 11 : 21\n"
     ]
    }
   ],
   "source": [
    "#A Python program to get date and time from the epoch time.\n",
    "#converting the epoch time into date and time.\n",
    "\n",
    "#local time() converts the epoch time into time_struct object.\n",
    "t = time.localtime(1682325681.3740847)\n",
    "\n",
    "#retrieve the date from the structure t\n",
    "d = t.tm_mday\n",
    "m = t.tm_mon\n",
    "y = t.tm_year\n",
    "print('Current date is: %d - %d - %d' %(d, m, y))\n",
    "\n",
    "#retrieve the time from the structure t\n",
    "h = t.tm_hour\n",
    "m = t.tm_min\n",
    "s = t.tm_sec\n",
    "print('Current time is: %d : %d : %d' %(h, m, s))"
   ]
  },
  {
   "cell_type": "code",
   "execution_count": 3,
   "metadata": {},
   "outputs": [
    {
     "name": "stdout",
     "output_type": "stream",
     "text": [
      "Mon Apr 24 14:11:21 2023\n"
     ]
    }
   ],
   "source": [
    "#A Python program to convert epoch time into corresponding date and time.\n",
    "#convert epoch time into date and time using ctime()\n",
    "import time\n",
    "t = time.ctime(1682325681.3740847) #ctime() with epoch seconds\n",
    "print(t)"
   ]
  },
  {
   "cell_type": "markdown",
   "metadata": {},
   "source": [
    "### Date and Time Now"
   ]
  },
  {
   "cell_type": "code",
   "execution_count": 4,
   "metadata": {},
   "outputs": [
    {
     "name": "stdout",
     "output_type": "stream",
     "text": [
      "Mon Apr 24 14:20:47 2023\n"
     ]
    }
   ],
   "source": [
    "#A Python program to know the current date and time using ctime() function.\n",
    "#finding current date and time using ctime()\n",
    "import time\n",
    "t = time.ctime() #ctime() without epoch time\n",
    "print(t)"
   ]
  },
  {
   "cell_type": "code",
   "execution_count": 5,
   "metadata": {},
   "outputs": [
    {
     "name": "stdout",
     "output_type": "stream",
     "text": [
      "2023-04-24 14:23:48.708967\n",
      "Date now: 24/4/2023\n",
      "Time now: 14:23:48\n"
     ]
    }
   ],
   "source": [
    "#A Python program to know the local date and time.\n",
    "#finding current date and time.\n",
    "from datetime import *\n",
    "now = datetime.now()\n",
    "print(now)\n",
    "\n",
    "print('Date now: {}/{}/{}'.format(now.day, now.month, now.year))\n",
    "print('Time now: {}:{}:{}'.format(now.hour, now.minute, now.second))"
   ]
  },
  {
   "cell_type": "code",
   "execution_count": 6,
   "metadata": {},
   "outputs": [
    {
     "name": "stdout",
     "output_type": "stream",
     "text": [
      "Today's date and time=  2023-04-24 14:27:11.369718\n",
      "Today's date=  2023-04-24\n"
     ]
    }
   ],
   "source": [
    "#A Python program to know today's date and time.\n",
    "#finding today's date and time.\n",
    "from datetime import *\n",
    "\n",
    "#today() of datetime class gives date and time\n",
    "tdm = datetime.today()\n",
    "print(\"Today's date and time= \", tdm)\n",
    "\n",
    "#today() of date class gives the date only\n",
    "td = date.today()\n",
    "print(\"Today's date= \", td)"
   ]
  },
  {
   "cell_type": "markdown",
   "metadata": {},
   "source": [
    "### Combining Date and Time."
   ]
  },
  {
   "cell_type": "code",
   "execution_count": 7,
   "metadata": {},
   "outputs": [
    {
     "name": "stdout",
     "output_type": "stream",
     "text": [
      "2016-04-29 15:30:00\n"
     ]
    }
   ],
   "source": [
    "#A Python program to create datetime object by combining date and time objects.\n",
    "#combining date and time.\n",
    "from datetime import *\n",
    "d = date(2016, 4, 29)\n",
    "t = time(15, 30)\n",
    "dt = datetime.combine(d, t)\n",
    "print(dt)"
   ]
  },
  {
   "cell_type": "code",
   "execution_count": 8,
   "metadata": {},
   "outputs": [
    {
     "name": "stdout",
     "output_type": "stream",
     "text": [
      "2016-06-24 15:30:15\n",
      "2017-10-24 20:30:15\n"
     ]
    }
   ],
   "source": [
    "#A Python program to create a datetime object and then change its contents.\n",
    "#creating datetime object and change its contents.\n",
    "from datetime import *\n",
    "\n",
    "#create a datetime object.\n",
    "dt1 = datetime(year = 2016, month = 6, day = 24, hour = 15, minute = 30, second=15)\n",
    "print(dt1)\n",
    "\n",
    "#change its year, month and hour values.\n",
    "dt2 = dt1.replace(year=2017, hour = 20, month = 10)\n",
    "print(dt2)"
   ]
  },
  {
   "cell_type": "markdown",
   "metadata": {},
   "source": [
    "### Formatting Dates and Times"
   ]
  },
  {
   "cell_type": "code",
   "execution_count": 9,
   "metadata": {},
   "outputs": [
    {
     "name": "stdout",
     "output_type": "stream",
     "text": [
      "2023-04-24\n",
      "24, April, 23\n"
     ]
    }
   ],
   "source": [
    "#A Python program to convert a date into a required string format.\n",
    "#formating the date.\n",
    "from datetime import *\n",
    "\n",
    "#get current date into td object\n",
    "td = date.today()\n",
    "print(td)\n",
    "\n",
    "#format the td and convert into string str\n",
    "str = td.strftime(\"%d, %B, %y\")\n",
    "print(str)"
   ]
  },
  {
   "cell_type": "code",
   "execution_count": 10,
   "metadata": {},
   "outputs": [
    {
     "name": "stdout",
     "output_type": "stream",
     "text": [
      "2023-04-24\n",
      "Today is  114 th day of the current year\n",
      "It is  Monday\n"
     ]
    }
   ],
   "source": [
    "#A Python program to find the day of the year and the week day name.\n",
    "#finding the day of the year.\n",
    "from datetime import *\n",
    "\n",
    "#get today's date\n",
    "td = date.today()\n",
    "print(td) #display content of td object\n",
    "\n",
    "#%j returns day of the year as: 001, 002,...366.\n",
    "s1 = td.strftime(\"%j\")\n",
    "print('Today is ', s1, 'th day of the current year')\n",
    "\n",
    "#find the week day name.\n",
    "s2 = td.strftime(\"%A\")\n",
    "print('It is ', s2)"
   ]
  },
  {
   "cell_type": "code",
   "execution_count": 11,
   "metadata": {},
   "outputs": [
    {
     "name": "stdout",
     "output_type": "stream",
     "text": [
      "2023-04-24 15:25:59.621422\n",
      "Current time:  15:25:59\n"
     ]
    }
   ],
   "source": [
    "#A Python program to format the time using strftime() method.\n",
    "#formatting the current time.\n",
    "from datetime import *\n",
    "\n",
    "#create datetime object with current date and time\n",
    "dt = datetime.now()\n",
    "print(dt) #display content of dt object\n",
    "\n",
    "#display only time\n",
    "print(\"Current time: \", dt.strftime(\"%H:%M:%S\"))"
   ]
  },
  {
   "cell_type": "code",
   "execution_count": 12,
   "metadata": {},
   "outputs": [
    {
     "name": "stdout",
     "output_type": "stream",
     "text": [
      "Enter date: 29/6/1966\n",
      "Day 3 of the week. This is Wednesday\n"
     ]
    }
   ],
   "source": [
    "#A Python program to accept a date from the keyboard and display the day of the week.\n",
    "#finding day of the week.\n",
    "from datetime import *\n",
    "\n",
    "#accept date, month and year from the keyboard.\n",
    "d, m, y = [int(x) for x in input(\"Enter date: \").split('/')]\n",
    "\n",
    "#store them in date class object 'dt'.\n",
    "dt = date(y, m, d)\n",
    "\n",
    "#%w - day number and %A full name of the week day\n",
    "print(dt.strftime('Day %w of the week. This is %A'))"
   ]
  },
  {
   "cell_type": "code",
   "execution_count": null,
   "metadata": {},
   "outputs": [
    {
     "name": "stdout",
     "output_type": "stream",
     "text": [
      "Enter first date: 12/2/1970\n",
      "Enter second date: 11/5/1968\n",
      "Days difference=  642 days, 0:00:00\n",
      "weeks difference=  91\n",
      "Month difference=  21\n"
     ]
    }
   ],
   "source": [
    "#A Python program to find the difference in number of days, weeks and months between two given dates.\n",
    "#difference days, weeks and months between two dates.\n",
    "from datetime import *\n",
    "\n",
    "#enter the two dates from the keyboard.\n",
    "d1, m1, y1 = [int(x) for x in input(\"Enter first date: \").split('/')]\n",
    "d2, m2, y2 = [int(x) for x in input(\"Enter second date: \").split('/')]\n",
    "\n",
    "#create date class objects with the input.\n",
    "dt1 = date(y1, m1, d1)\n",
    "dt2 = date(y2, m2, d2)\n",
    "\n",
    "#find days difference between these two dates.\n",
    "dt = dt1 - dt2\n",
    "print('Days difference= ', dt)\n",
    "\n",
    "#find difference weeks\n",
    "weeks, days = divmod(dt.days, 7)\n",
    "print('weeks difference= ', weeks)\n",
    "\n",
    "#find difference in months\n",
    "months, days = divmod(dt.days, 30)\n",
    "print('Month difference= ', months)"
   ]
  },
  {
   "cell_type": "code",
   "execution_count": 1,
   "metadata": {},
   "outputs": [
    {
     "name": "stdout",
     "output_type": "stream",
     "text": [
      "5807 days, 23:54:50\n",
      "Difference is 829 weeks, 4 days, 23 hours, 54 minutes, and 50 seconds\n"
     ]
    }
   ],
   "source": [
    "#A Python program to find difference between two dates along with times.\n",
    "#difference between two dates along with times.\n",
    "from datetime import *\n",
    "\n",
    "#Create two datetime objects that score date and time.\n",
    "d1 = datetime(2000, 6, 25, 8, 00, 25)\n",
    "d2 = datetime(2016, 5, 20, 7, 55, 15)\n",
    "\n",
    "#find the difference in days and time.\n",
    "diff = d2 - d1\n",
    "print(diff)\n",
    "\n",
    "#divide days by 7 to get weeks and remaining days\n",
    "weeks, days = divmod(diff.days, 7)\n",
    "\n",
    "#divide seconds by 3600 to get hours and remaining seconds\n",
    "hrs, secs = divmod(diff.seconds, 3600)\n",
    "\n",
    "#devide remaining seconds by 60 to get minutes.\n",
    "mins = secs // 60 #get minutes\n",
    "\n",
    "#take remaining seconds from the remainder of division\n",
    "secs = secs % 60 #get remaining seconds\n",
    "\n",
    "print('Difference is %d weeks, %d days, %d hours, %d minutes, and %d seconds' % (weeks, days, hrs, mins, secs))"
   ]
  },
  {
   "cell_type": "markdown",
   "metadata": {},
   "source": [
    "### Finding Durations using 'timedelta'"
   ]
  },
  {
   "cell_type": "code",
   "execution_count": 2,
   "metadata": {},
   "outputs": [
    {
     "name": "stdout",
     "output_type": "stream",
     "text": [
      "The new date and time is:  2016-05-10 05:05:10\n"
     ]
    }
   ],
   "source": [
    "#A Python program to find future date and time from an existing date and time.\n",
    "#Finding future date and time.\n",
    "from datetime import *\n",
    "\n",
    "#store the date and time in datetime object: d1\n",
    "d1 = datetime(2016, 4, 29, 16, 45, 0)\n",
    "\n",
    "#define the duration using timedelta object: period1\n",
    "period1 = timedelta(days = 10, seconds=10, minutes = 20, hours = 12)\n",
    "\n",
    "#add the duration to d1 and display\n",
    "print('The new date and time is: ', d1 + period1)"
   ]
  },
  {
   "cell_type": "code",
   "execution_count": 3,
   "metadata": {},
   "outputs": [
    {
     "name": "stdout",
     "output_type": "stream",
     "text": [
      "2023-04-24\n",
      "2023-04-25\n",
      "2023-04-26\n",
      "2023-04-27\n",
      "2023-04-28\n",
      "2023-04-29\n",
      "2023-04-30\n",
      "2023-05-01\n",
      "2023-05-02\n",
      "2023-05-03\n"
     ]
    }
   ],
   "source": [
    "#A Python program to display the next 10 dates continuously.\n",
    "#displaying a range of continuous dates\n",
    "from datetime import *\n",
    "\n",
    "#start with today.\n",
    "d = date.today()\n",
    "print(d)\n",
    "\n",
    "#or any other date\n",
    "#d = date(1966, 6, 29)\n",
    "\n",
    "#add 1 to 9 days and get future dates.\n",
    "for x in range(1, 10):\n",
    "    nextdate = d + timedelta(days = x)\n",
    "    print(nextdate)"
   ]
  },
  {
   "cell_type": "markdown",
   "metadata": {},
   "source": [
    "### Comparing Two dates."
   ]
  },
  {
   "cell_type": "code",
   "execution_count": 4,
   "metadata": {},
   "outputs": [
    {
     "name": "stdout",
     "output_type": "stream",
     "text": [
      "Enter first person's birth date(DD/MM/YYYY): 10/1/1990\n",
      "Enter second person's birth date(DD/MM/YYYY): 10/2/1989\n",
      "The second person is older\n"
     ]
    }
   ],
   "source": [
    "#A Python program to accept date of births of two persons and determining the older person.\n",
    "#to know who is older.\n",
    "from datetime import *\n",
    "\n",
    "#enter birth dates and store into date class objects.\n",
    "d1, m1, y1 = [int(x) for x in input(\"Enter first person's birth date(DD/MM/YYYY): \").split('/')]\n",
    "b1 = date(y1, m1, d1)\n",
    "\n",
    "d2, m2, y2 = [int(x) for x in input(\"Enter second person's birth date(DD/MM/YYYY): \").split('/')]\n",
    "b2 = date(y2, m2, d2)\n",
    "\n",
    "#Compare the birth dates\n",
    "if b1 == b2:\n",
    "    print(\"Both persons are of equal age\")\n",
    "elif b1 > b2:\n",
    "    print(\"The second person is older\")\n",
    "else:\n",
    "    print(\"The first person is older\")"
   ]
  },
  {
   "cell_type": "markdown",
   "metadata": {},
   "source": [
    "### Sorting Dates"
   ]
  },
  {
   "cell_type": "code",
   "execution_count": 5,
   "metadata": {},
   "outputs": [
    {
     "name": "stdout",
     "output_type": "stream",
     "text": [
      "2014-06-30\n",
      "2014-07-25\n",
      "2015-06-29\n",
      "2023-04-24\n"
     ]
    }
   ],
   "source": [
    "#A Python program to sort a group of given dates in ascending order.\n",
    "#sorting dates\n",
    "from datetime import *\n",
    "\n",
    "#take an empty list\n",
    "group = []\n",
    "\n",
    "#Add today's date to list, i.e., 2016-04-30\n",
    "group.append(date.today())\n",
    "\n",
    "#create some more dates and add them to list\n",
    "d = date(2015, 6, 29)\n",
    "group.append(d)\n",
    "d = date(2014, 6, 30)\n",
    "group.append(d)\n",
    "\n",
    "#add 25 days to the date and add to list\n",
    "group.append(d+timedelta(days=25))\n",
    "\n",
    "#sort the list\n",
    "group.sort()\n",
    "\n",
    "#display sorted dates\n",
    "for d in group:\n",
    "    print(d)"
   ]
  },
  {
   "cell_type": "markdown",
   "metadata": {},
   "source": [
    "### Stopping Execution Temporarily"
   ]
  },
  {
   "cell_type": "code",
   "execution_count": 6,
   "metadata": {},
   "outputs": [
    {
     "name": "stdout",
     "output_type": "stream",
     "text": [
      "140\n",
      "175\n",
      "140\n",
      "140\n",
      "185\n",
      "105\n",
      "150\n",
      "145\n",
      "100\n",
      "130\n"
     ]
    }
   ],
   "source": [
    "#A Python program to generate random numbers in a range with some time delay between each number.\n",
    "#to generate random numbers between 100 and 200 every 3.5 secs\n",
    "import time, random\n",
    "\n",
    "#generate 10 random numbers\n",
    "for i in range(10):\n",
    "    #generate in the range 100 to 200\n",
    "    num = random.randrange(100, 200, 5)\n",
    "    print(num)\n",
    "    #suspend execution for 3.5 seconds\n",
    "    time.sleep(3.5)"
   ]
  },
  {
   "cell_type": "markdown",
   "metadata": {},
   "source": [
    "### Knowing the Time taken by a Program"
   ]
  },
  {
   "cell_type": "code",
   "execution_count": 1,
   "metadata": {},
   "outputs": [
    {
     "name": "stdout",
     "output_type": "stream",
     "text": [
      "Execution time= 3.220914 seconds\n"
     ]
    }
   ],
   "source": [
    "#A Python program to find the execution time of a program.\n",
    "#to measure the time taken by the program\n",
    "from time import *\n",
    "\n",
    "#note the starting time of the program\n",
    "t1 = perf_counter()\n",
    "\n",
    "#do some processing\n",
    "i, sum = 0, 0\n",
    "while (i<1000000):\n",
    "    sum += i\n",
    "    i+=1\n",
    "    \n",
    "#make the processor or PVM  sleep for 3 seconds\n",
    "#this is also measured by the perf_counter()\n",
    "sleep(3)\n",
    "\n",
    "#note the ending time of the program\n",
    "t2 = perf_counter()\n",
    "\n",
    "#find time for the program in seconds\n",
    "print('Execution time= %f seconds' % (t2 - t1))"
   ]
  },
  {
   "cell_type": "markdown",
   "metadata": {},
   "source": [
    "### Working with Calendar Module"
   ]
  },
  {
   "cell_type": "code",
   "execution_count": 2,
   "metadata": {},
   "outputs": [
    {
     "name": "stdout",
     "output_type": "stream",
     "text": [
      "Enter year: 2016\n",
      "2016 is leap year\n"
     ]
    }
   ],
   "source": [
    "#A Python program to enter a year number and display whether it is leap or not.\n",
    "#to test whether leap year or not.\n",
    "from calendar import *\n",
    "y = int(input(\"Enter year: \"))\n",
    "\n",
    "if(isleap(y)):\n",
    "    print(y, 'is leap year')\n",
    "else:\n",
    "    print(y, 'is not leap')"
   ]
  },
  {
   "cell_type": "code",
   "execution_count": 3,
   "metadata": {},
   "outputs": [
    {
     "name": "stdout",
     "output_type": "stream",
     "text": [
      "      May 2016\n",
      "Mo Tu We Th Fr Sa Su\n",
      "                   1\n",
      " 2  3  4  5  6  7  8\n",
      " 9 10 11 12 13 14 15\n",
      "16 17 18 19 20 21 22\n",
      "23 24 25 26 27 28 29\n",
      "30 31\n",
      "\n"
     ]
    }
   ],
   "source": [
    "str = month(2016, 5)\n",
    "print(str)"
   ]
  },
  {
   "cell_type": "code",
   "execution_count": 4,
   "metadata": {},
   "outputs": [
    {
     "name": "stdout",
     "output_type": "stream",
     "text": [
      "Enter year: 2016\n",
      "Enter month: 5\n",
      "      May 2016\n",
      "Mo Tu We Th Fr Sa Su\n",
      "                   1\n",
      " 2  3  4  5  6  7  8\n",
      " 9 10 11 12 13 14 15\n",
      "16 17 18 19 20 21 22\n",
      "23 24 25 26 27 28 29\n",
      "30 31\n",
      "\n"
     ]
    }
   ],
   "source": [
    "#A Python program to display the calendar for a given month and year.\n",
    "#to display calendar of given month of the year.\n",
    "from calendar import *\n",
    "\n",
    "#ask for month and year\n",
    "yy = int(input(\"Enter year: \"))\n",
    "mm = int(input(\"Enter month: \"))\n",
    "\n",
    "#display the calendar for that month\n",
    "str = month(yy, mm)\n",
    "print(str)"
   ]
  },
  {
   "cell_type": "code",
   "execution_count": 5,
   "metadata": {},
   "outputs": [
    {
     "name": "stdout",
     "output_type": "stream",
     "text": [
      "Enter year: 2016\n",
      "                                    2016\n",
      "\n",
      "      January                     February                     March\n",
      "Mo Tu We Th Fr Sa Su        Mo Tu We Th Fr Sa Su        Mo Tu We Th Fr Sa Su\n",
      "             1  2  3         1  2  3  4  5  6  7            1  2  3  4  5  6\n",
      " 4  5  6  7  8  9 10         8  9 10 11 12 13 14         7  8  9 10 11 12 13\n",
      "11 12 13 14 15 16 17        15 16 17 18 19 20 21        14 15 16 17 18 19 20\n",
      "18 19 20 21 22 23 24        22 23 24 25 26 27 28        21 22 23 24 25 26 27\n",
      "25 26 27 28 29 30 31        29                          28 29 30 31\n",
      "\n",
      "       April                        May                         June\n",
      "Mo Tu We Th Fr Sa Su        Mo Tu We Th Fr Sa Su        Mo Tu We Th Fr Sa Su\n",
      "             1  2  3                           1               1  2  3  4  5\n",
      " 4  5  6  7  8  9 10         2  3  4  5  6  7  8         6  7  8  9 10 11 12\n",
      "11 12 13 14 15 16 17         9 10 11 12 13 14 15        13 14 15 16 17 18 19\n",
      "18 19 20 21 22 23 24        16 17 18 19 20 21 22        20 21 22 23 24 25 26\n",
      "25 26 27 28 29 30           23 24 25 26 27 28 29        27 28 29 30\n",
      "                            30 31\n",
      "\n",
      "        July                       August                    September\n",
      "Mo Tu We Th Fr Sa Su        Mo Tu We Th Fr Sa Su        Mo Tu We Th Fr Sa Su\n",
      "             1  2  3         1  2  3  4  5  6  7                  1  2  3  4\n",
      " 4  5  6  7  8  9 10         8  9 10 11 12 13 14         5  6  7  8  9 10 11\n",
      "11 12 13 14 15 16 17        15 16 17 18 19 20 21        12 13 14 15 16 17 18\n",
      "18 19 20 21 22 23 24        22 23 24 25 26 27 28        19 20 21 22 23 24 25\n",
      "25 26 27 28 29 30 31        29 30 31                    26 27 28 29 30\n",
      "\n",
      "      October                     November                    December\n",
      "Mo Tu We Th Fr Sa Su        Mo Tu We Th Fr Sa Su        Mo Tu We Th Fr Sa Su\n",
      "                1  2            1  2  3  4  5  6                  1  2  3  4\n",
      " 3  4  5  6  7  8  9         7  8  9 10 11 12 13         5  6  7  8  9 10 11\n",
      "10 11 12 13 14 15 16        14 15 16 17 18 19 20        12 13 14 15 16 17 18\n",
      "17 18 19 20 21 22 23        21 22 23 24 25 26 27        19 20 21 22 23 24 25\n",
      "24 25 26 27 28 29 30        28 29 30                    26 27 28 29 30 31\n",
      "31\n",
      "\n"
     ]
    }
   ],
   "source": [
    "#A Python program to display the calendar for all months of a given year.\n",
    "#to display calendar for entire year.\n",
    "from calendar import*\n",
    "year = int(input(\"Enter year: \"))\n",
    "print(calendar(year, 2, 1, 8, 3))"
   ]
  },
  {
   "cell_type": "code",
   "execution_count": null,
   "metadata": {},
   "outputs": [],
   "source": []
  }
 ],
 "metadata": {
  "kernelspec": {
   "display_name": "Python 3",
   "language": "python",
   "name": "python3"
  },
  "language_info": {
   "codemirror_mode": {
    "name": "ipython",
    "version": 3
   },
   "file_extension": ".py",
   "mimetype": "text/x-python",
   "name": "python",
   "nbconvert_exporter": "python",
   "pygments_lexer": "ipython3",
   "version": "3.8.5"
  }
 },
 "nbformat": 4,
 "nbformat_minor": 4
}
