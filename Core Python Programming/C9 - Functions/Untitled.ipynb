{
 "cells": [
  {
   "cell_type": "markdown",
   "metadata": {},
   "source": [
    "### Calling a Function"
   ]
  },
  {
   "cell_type": "code",
   "execution_count": 1,
   "metadata": {},
   "outputs": [
    {
     "name": "stdout",
     "output_type": "stream",
     "text": [
      "Sum =  25\n",
      "Sum =  12.25\n"
     ]
    }
   ],
   "source": [
    "#A function that accepts two values and find their sum.\n",
    "#a function to add two numbers\n",
    "def sum(a, b):\n",
    "    \"\"\" This function finds sum of two numbers \"\"\"\n",
    "    c = a+b\n",
    "    print(\"Sum = \", c)\n",
    "#Call the function\n",
    "sum(10, 15)\n",
    "sum(1.5, 10.75) #Call second time"
   ]
  },
  {
   "cell_type": "markdown",
   "metadata": {},
   "source": [
    "### Returning Results from a Function"
   ]
  },
  {
   "cell_type": "code",
   "execution_count": 4,
   "metadata": {},
   "outputs": [
    {
     "name": "stdout",
     "output_type": "stream",
     "text": [
      "The sum is:  25\n",
      "The sum is:  12.25\n"
     ]
    }
   ],
   "source": [
    "#A python program to find the sum of two numbers and return the results from the function.\n",
    "#a function to add two numbers.\n",
    "def sum(a, b):\n",
    "    \"\"\" This function finds sum of two numbers \"\"\"\n",
    "    c = a+b\n",
    "    return c #return result\n",
    "#call the function\n",
    "x = sum(10, 15)\n",
    "print(\"The sum is: \", x)\n",
    "y = sum(1.5, 10.75)\n",
    "print(\"The sum is: \", y)"
   ]
  },
  {
   "cell_type": "code",
   "execution_count": 7,
   "metadata": {},
   "outputs": [
    {
     "name": "stdout",
     "output_type": "stream",
     "text": [
      "12  is even \n",
      "13  is odd \n"
     ]
    }
   ],
   "source": [
    "#A function to test whether a number is even or odd.\n",
    "#a function to test whether a number is even or odd.\n",
    "def even_odd(num):\n",
    "    \"\"\" to know num is even or odd \"\"\"\n",
    "    if num % 2 == 0:\n",
    "        print(num, \" is even \")\n",
    "    else:\n",
    "        print(num, \" is odd \")\n",
    "        \n",
    "#call the function\n",
    "even_odd(12)\n",
    "even_odd(13)"
   ]
  },
  {
   "cell_type": "code",
   "execution_count": 10,
   "metadata": {},
   "outputs": [
    {
     "name": "stdout",
     "output_type": "stream",
     "text": [
      "Factorial of 1 is 1\n",
      "Factorial of 2 is 2\n",
      "Factorial of 3 is 6\n",
      "Factorial of 4 is 24\n",
      "Factorial of 5 is 120\n",
      "Factorial of 6 is 720\n",
      "Factorial of 7 is 5040\n",
      "Factorial of 8 is 40320\n",
      "Factorial of 9 is 362880\n",
      "Factorial of 10 is 3628800\n"
     ]
    }
   ],
   "source": [
    "#a function to calculate factorial value\n",
    "def fact(n):\n",
    "    \"\"\" to find factorial value \"\"\"\n",
    "    prod = 1\n",
    "    while n>=1:\n",
    "        prod*=n\n",
    "        n-=1\n",
    "        \n",
    "    return prod\n",
    "\n",
    "#display factorials of first 10 numbers\n",
    "#call fact() function and pass the numbers from 1 to 10\n",
    "for i in range(1, 11):\n",
    "    print(\"Factorial of {} is {}\".format(i, fact(i)))"
   ]
  },
  {
   "cell_type": "code",
   "execution_count": 14,
   "metadata": {},
   "outputs": [
    {
     "name": "stdout",
     "output_type": "stream",
     "text": [
      "Enter a number: 2\n",
      "2  is prime\n"
     ]
    }
   ],
   "source": [
    "#A python function to check if a given number is even or not.\n",
    "#a function to test whether a number is even or not\n",
    "def prime(n):\n",
    "    \"\"\" To check if n is prime or not \"\"\"\n",
    "    x = 1 #this will be 0 if not prime\n",
    "    for i in range(2, n): #divide n from 2 to n-1\n",
    "        if n%i == 0: #if divisible by any number\n",
    "            x = 0 #take x as 0\n",
    "            break\n",
    "        else:\n",
    "            x = 1 #else take x as 1\n",
    "    return x\n",
    "\n",
    "#test if a number is prime or not\n",
    "num = int(input(\"Enter a number: \"))\n",
    "\n",
    "#Check if num is prime or not\n",
    "result  = prime(num)\n",
    "if result == 1:\n",
    "    print(num, \" is prime\")\n",
    "else:\n",
    "    print(num, \" is not prime\")"
   ]
  },
  {
   "cell_type": "code",
   "execution_count": 17,
   "metadata": {},
   "outputs": [
    {
     "name": "stdout",
     "output_type": "stream",
     "text": [
      "How many primes do you want? 3\n",
      "2\n",
      "3\n",
      "5\n"
     ]
    }
   ],
   "source": [
    "#A python program that generates prime numbers with the help of a function to test prime or not.\n",
    "#A function to test whether a number is prime or not\n",
    "def prime(n):\n",
    "    \"\"\" to check if n is prime or not \"\"\"\n",
    "    x = 1 #this will be 0 if not prime\n",
    "    for i in range(2, n):\n",
    "        if n%i == 0:\n",
    "            x=0\n",
    "            break\n",
    "        else:\n",
    "            x=1\n",
    "    return x\n",
    "\n",
    "#generate prime number series\n",
    "num = int(input(\"How many primes do you want? \"))\n",
    "i = 2 #start with i value 2\n",
    "c = 1 #this counts the no. of primes\n",
    "while True: #repeat forever\n",
    "    if prime(i): #if i is prime, display it\n",
    "        print(i)\n",
    "        c+=1 #increase counter\n",
    "    i+=1 #generate next number to test\n",
    "    if c > num: #if count exceeds num\n",
    "        break #come out of while loop"
   ]
  },
  {
   "cell_type": "markdown",
   "metadata": {},
   "source": [
    "### Returning Multiple Values from a Function"
   ]
  },
  {
   "cell_type": "code",
   "execution_count": 20,
   "metadata": {},
   "outputs": [
    {
     "name": "stdout",
     "output_type": "stream",
     "text": [
      "Result of addition:  15\n",
      "Result of subtraction:  5\n"
     ]
    }
   ],
   "source": [
    "#A python program to understand how a function returns two values.\n",
    "#a function that returns two results\n",
    "def sum_sub(a, b):\n",
    "    \"\"\" this function returns results of\n",
    "    addition and subtraction of a, b \"\"\"\n",
    "    c = a + b\n",
    "    d = a - b\n",
    "    return c, d\n",
    "\n",
    "#get the results from the sum_sub() function\n",
    "x, y = sum_sub(10, 5)\n",
    "#display the results\n",
    "print(\"Result of addition: \", x)\n",
    "print(\"Result of subtraction: \", y)"
   ]
  },
  {
   "cell_type": "code",
   "execution_count": 23,
   "metadata": {},
   "outputs": [
    {
     "name": "stdout",
     "output_type": "stream",
     "text": [
      "The results are: \n",
      "15, 5, 50, 2.0, "
     ]
    }
   ],
   "source": [
    "#A function that returns results of addition, subtraction, multiplication and division.\n",
    "#a function that returns multiple values\n",
    "def sum_sub_mul_div(a, b):\n",
    "    \"\"\"This function returns results of addition, \n",
    "    subtraction, multiplication and division of a, b \"\"\"\n",
    "    c = a + b\n",
    "    d = a - b\n",
    "    e = a * b\n",
    "    f = a / b\n",
    "    return c, d, e, f\n",
    "\n",
    "#get results from sum_sub_mul_div() function and store into t\n",
    "t = sum_sub_mul_div(10, 5)\n",
    "\n",
    "#display the results using for loop.\n",
    "print(\"The results are: \")\n",
    "for i in t:\n",
    "    print(i, end=\", \")"
   ]
  },
  {
   "cell_type": "markdown",
   "metadata": {},
   "source": [
    "### Functions are First Class Objects"
   ]
  },
  {
   "cell_type": "code",
   "execution_count": 26,
   "metadata": {},
   "outputs": [
    {
     "name": "stdout",
     "output_type": "stream",
     "text": [
      "Hai Krishna\n"
     ]
    }
   ],
   "source": [
    "#A python program to see how to assign a function to a variable.\n",
    "#assign a function to a variable\n",
    "def display(str):\n",
    "    return \"Hai \" + str\n",
    "\n",
    "#Assign function to variable x\n",
    "x = display(\"Krishna\")\n",
    "print(x)"
   ]
  },
  {
   "cell_type": "code",
   "execution_count": 29,
   "metadata": {},
   "outputs": [
    {
     "name": "stdout",
     "output_type": "stream",
     "text": [
      "How are U? Krishna\n"
     ]
    }
   ],
   "source": [
    "#A python program to know how to define a function inside another function.\n",
    "#define a function inside another function\n",
    "def display(str):\n",
    "    def message():\n",
    "        return \"How are U? \"\n",
    "    \n",
    "    result = message() + str\n",
    "    return result\n",
    "\n",
    "#call display() function\n",
    "print(display(\"Krishna\"))"
   ]
  },
  {
   "cell_type": "code",
   "execution_count": 33,
   "metadata": {},
   "outputs": [
    {
     "name": "stdout",
     "output_type": "stream",
     "text": [
      "Hai How are U? \n"
     ]
    }
   ],
   "source": [
    "#A python program to know how to pass a function as parameter to another function\n",
    "#Functions can be passed as parameters to other functions\n",
    "def display(fun):\n",
    "    return \"Hai \" + fun\n",
    "\n",
    "def message():\n",
    "    return \"How are U? \"\n",
    "\n",
    "#call display() function and pass message() function\n",
    "print(display(message()))"
   ]
  },
  {
   "cell_type": "code",
   "execution_count": 36,
   "metadata": {},
   "outputs": [
    {
     "name": "stdout",
     "output_type": "stream",
     "text": [
      "How are U? \n"
     ]
    }
   ],
   "source": [
    "#A python program to know how a function can return another function\n",
    "#functions can return other functions\n",
    "def display():\n",
    "    def message():\n",
    "        return \"How are U? \"\n",
    "    \n",
    "    return message\n",
    "\n",
    "#call display() function and it returns message() function\n",
    "#in the following code, fun refers to the name: message.\n",
    "fun = display()\n",
    "print(fun())"
   ]
  },
  {
   "cell_type": "markdown",
   "metadata": {},
   "source": [
    "### Pass by Object Reference"
   ]
  },
  {
   "cell_type": "code",
   "execution_count": 40,
   "metadata": {},
   "outputs": [
    {
     "name": "stdout",
     "output_type": "stream",
     "text": [
      "15 140706203904224\n",
      "10 140706203904064\n"
     ]
    }
   ],
   "source": [
    "#A python program to pass an integer to a function and modify it.\n",
    "#passing an integer to a function\n",
    "def modify(x):\n",
    "    \"\"\" reassign a value to the variable \"\"\"\n",
    "    x = 15\n",
    "    print(x, id(x))\n",
    "    \n",
    "#call modify() and pass x\n",
    "x = 10\n",
    "modify(x)\n",
    "print(x, id(x))"
   ]
  },
  {
   "cell_type": "code",
   "execution_count": 43,
   "metadata": {},
   "outputs": [
    {
     "name": "stdout",
     "output_type": "stream",
     "text": [
      "[1, 2, 3, 4, 9] 1669812794816\n",
      "[1, 2, 3, 4, 9] 1669812794816\n"
     ]
    }
   ],
   "source": [
    "#A python program to pass a list to a function and modify it.\n",
    "#passing a list to a function\n",
    "def modify(x):\n",
    "    \"\"\" to add a new element to list \"\"\"\n",
    "    lst.append(9)\n",
    "    print(lst, id(lst))\n",
    "    \n",
    "#call modify() and pass lst\n",
    "lst = [1, 2, 3, 4]\n",
    "modify(lst)\n",
    "print(lst, id(lst))"
   ]
  },
  {
   "cell_type": "code",
   "execution_count": 46,
   "metadata": {},
   "outputs": [
    {
     "name": "stdout",
     "output_type": "stream",
     "text": [
      "[10, 11, 12] 1669813109760\n",
      "[1, 2, 3, 4] 1669813109824\n"
     ]
    }
   ],
   "source": [
    "#A python program to create a new object inside the function does not modify outside object.\n",
    "#passing a list to a function\n",
    "def modify(lst):\n",
    "    \"\"\" to create a new list \"\"\"\n",
    "    lst = [10, 11, 12]\n",
    "    print(lst, id(lst))\n",
    "    \n",
    "#call modify() and pass lst\n",
    "lst = [1, 2, 3, 4]\n",
    "modify(lst)\n",
    "print(lst, id(lst))"
   ]
  },
  {
   "cell_type": "markdown",
   "metadata": {},
   "source": [
    "## Formal and Actual Arguments\n",
    "1. positional arguments\n",
    "2. keyword arguments\n",
    "3. Default arguments\n",
    "4. Variable length arguments"
   ]
  },
  {
   "cell_type": "markdown",
   "metadata": {},
   "source": [
    "### Positional Arguments"
   ]
  },
  {
   "cell_type": "code",
   "execution_count": 49,
   "metadata": {},
   "outputs": [
    {
     "name": "stdout",
     "output_type": "stream",
     "text": [
      "Total string: NewYork\n"
     ]
    }
   ],
   "source": [
    "#A python program to understand the positional arguments of a function.\n",
    "# positional arguments demo\n",
    "def attach(s1, s2):\n",
    "    \"\"\" to join s1 and s2 and display  total string \"\"\"\n",
    "    s3 = s1 + s2\n",
    "    print(\"Total string: \" +s3)\n",
    "    \n",
    "#call attach() and pass 2 strings\n",
    "attach(\"New\", \"York\") #positional arguments"
   ]
  },
  {
   "cell_type": "markdown",
   "metadata": {},
   "source": [
    "### Keyword Arguments"
   ]
  },
  {
   "cell_type": "code",
   "execution_count": 53,
   "metadata": {},
   "outputs": [
    {
     "name": "stdout",
     "output_type": "stream",
     "text": [
      "Item = sugar\n",
      "Price = 50.75\n",
      "Item = oil\n",
      "Price = 88.00\n"
     ]
    }
   ],
   "source": [
    "#A python program to understand the keyword arguments of a function.\n",
    "#key word arguments demo\n",
    "def grocery(item, price):\n",
    "    \"\"\" to display the given arguments \"\"\"\n",
    "    print(\"Item = %s\" % item)\n",
    "    print(\"Price = %.2f\" % price)\n",
    "    \n",
    "#call grocery() and pass 2 arguments\n",
    "grocery(item = 'sugar', price = 50.75) #keyword arguments\n",
    "grocery(price = 88.00, item = \"oil\") #keyword arguments"
   ]
  },
  {
   "cell_type": "markdown",
   "metadata": {},
   "source": [
    "### Default Arguments"
   ]
  },
  {
   "cell_type": "code",
   "execution_count": 59,
   "metadata": {},
   "outputs": [
    {
     "name": "stdout",
     "output_type": "stream",
     "text": [
      "Item = Sugar\n",
      "Price = 50.75\n",
      "Item = Sugar\n",
      "Price = 40.00\n"
     ]
    }
   ],
   "source": [
    "#A python program to understand the use of default arguments in a function.\n",
    "#default arguments demo\n",
    "def grocery(item, price=40.00):\n",
    "    \"\"\" to display the given arguments \"\"\"\n",
    "    print(\"Item = %s\" % item)\n",
    "    print(\"Price = %.2f\" % price)\n",
    "#call grocery() and pass arguments\n",
    "grocery(item = 'Sugar', price = 50.75) #pass 2 arguments\n",
    "grocery(item = 'Sugar') #default value for price is used"
   ]
  },
  {
   "cell_type": "markdown",
   "metadata": {},
   "source": [
    "### Variable Length Arguments"
   ]
  },
  {
   "cell_type": "code",
   "execution_count": 64,
   "metadata": {},
   "outputs": [
    {
     "name": "stdout",
     "output_type": "stream",
     "text": [
      "Formal arguments=  5\n",
      "Sum of all numbers=  15\n",
      "Formal arguments=  5\n",
      "Sum of all numbers=  65\n"
     ]
    }
   ],
   "source": [
    "#A python program to show variable length arguments and its use.\n",
    "#variable length arguments demo\n",
    "def add(farg, *args): #args can take 0 or more values\n",
    "    \"\"\" to add given numbers \"\"\"\n",
    "    print(\"Formal arguments= \", farg)\n",
    "    \n",
    "    sum = 0\n",
    "    for i in args:\n",
    "        sum+=i\n",
    "    print(\"Sum of all numbers= \", (farg+sum))\n",
    "    \n",
    "#call add() and pass arguments\n",
    "add(5, 10)\n",
    "add(5, 10, 20, 30)"
   ]
  },
  {
   "cell_type": "code",
   "execution_count": 67,
   "metadata": {},
   "outputs": [
    {
     "name": "stdout",
     "output_type": "stream",
     "text": [
      "Formal arguments=  5\n",
      "key = rno, value = 10\n",
      "\n",
      "Formal arguments=  5\n",
      "key = rno, value = 10\n",
      "key = name, value = Prakash\n"
     ]
    }
   ],
   "source": [
    "#A python program to understand keyword variable argument.\n",
    "#keyword variable argument demo\n",
    "def display(farg, **kwargs): #**kwargs can take 0 more values\n",
    "    \"\"\" to display given values \"\"\"\n",
    "    print(\"Formal arguments= \", farg)\n",
    "    \n",
    "    for x, y in kwargs.items(): #items() will give pairs of items\n",
    "        print('key = {}, value = {}'.format(x, y))\n",
    "        \n",
    "#pass 1 formal argument and 2 keyword arguments\n",
    "display(5, rno=10)\n",
    "print()\n",
    "#pass 1 formal argument and 4 keyword arguments\n",
    "display(5, rno=10, name = 'Prakash')"
   ]
  },
  {
   "cell_type": "markdown",
   "metadata": {},
   "source": [
    "## Local and Global Variables"
   ]
  },
  {
   "cell_type": "markdown",
   "metadata": {},
   "source": [
    "### Global Keyword"
   ]
  },
  {
   "cell_type": "code",
   "execution_count": 71,
   "metadata": {},
   "outputs": [
    {
     "name": "stdout",
     "output_type": "stream",
     "text": [
      "a=  2\n",
      "a=  1\n"
     ]
    }
   ],
   "source": [
    "#A python program to understand global and local variables\n",
    "#same name for global and local variables\n",
    "a = 1 #this is global var\n",
    "def myfunction():\n",
    "    a = 2 #this is local var\n",
    "    print(\"a= \", a)# display local var\n",
    "myfunction()\n",
    "print(\"a= \", a) #display global var"
   ]
  },
  {
   "cell_type": "code",
   "execution_count": 74,
   "metadata": {},
   "outputs": [
    {
     "name": "stdout",
     "output_type": "stream",
     "text": [
      "global a=  1\n",
      "modified a=  2\n",
      "global a=  2\n"
     ]
    }
   ],
   "source": [
    "#A python program to access global variable inside a function and modify it.\n",
    "#accessing the global variable inside a function\n",
    "a = 1 #this is global var\n",
    "def myfunction():\n",
    "    global a #this is global var\n",
    "    print(\"global a= \", a) #display global var\n",
    "    a = 2 #modify global var value\n",
    "    print(\"modified a= \", a) #display  new value\n",
    "    \n",
    "myfunction()\n",
    "print(\"global a= \", a) #display modified value"
   ]
  },
  {
   "cell_type": "code",
   "execution_count": 1,
   "metadata": {},
   "outputs": [
    {
     "name": "stdout",
     "output_type": "stream",
     "text": [
      "global var a=  1\n",
      "local var a=  2\n",
      "global var a=  1\n"
     ]
    }
   ],
   "source": [
    "#A python program to get a copy of global variable into a function and work with it.\n",
    "#same name for global and local variables\n",
    "a = 1 #this is global var\n",
    "def myfunction():\n",
    "    a = 2 #a is local var\n",
    "    x = globals()['a'] #get global var into x\n",
    "    print('global var a= ', x)\n",
    "    print('local var a= ', a)\n",
    "    \n",
    "myfunction()\n",
    "print('global var a= ', a)"
   ]
  },
  {
   "cell_type": "markdown",
   "metadata": {},
   "source": [
    "### Passing Group of Elements to a Function"
   ]
  },
  {
   "cell_type": "code",
   "execution_count": 3,
   "metadata": {},
   "outputs": [
    {
     "name": "stdout",
     "output_type": "stream",
     "text": [
      "Enter strings separated by comma: \n",
      "savitha,shruthi,savithri\n",
      "savitha\n",
      "shruthi\n",
      "savithri\n"
     ]
    }
   ],
   "source": [
    "#A function to display group of strings\n",
    "def display(lst):\n",
    "    \"\"\" to display the strings \"\"\"\n",
    "    for i in lst:\n",
    "        print(i)\n",
    "        \n",
    "#take a group of strings from keyboard\n",
    "print(\"Enter strings separated by comma: \")\n",
    "lst = [x for x in input().split(',')]\n",
    "\n",
    "#call display() and pass the list\n",
    "display(lst)"
   ]
  },
  {
   "cell_type": "markdown",
   "metadata": {},
   "source": [
    "### Recursive Functions"
   ]
  },
  {
   "cell_type": "code",
   "execution_count": 4,
   "metadata": {},
   "outputs": [
    {
     "name": "stdout",
     "output_type": "stream",
     "text": [
      "Factorial of 1 is 1\n",
      "Factorial of 2 is 2\n",
      "Factorial of 3 is 6\n",
      "Factorial of 4 is 24\n",
      "Factorial of 5 is 120\n",
      "Factorial of 6 is 720\n",
      "Factorial of 7 is 5040\n",
      "Factorial of 8 is 40320\n",
      "Factorial of 9 is 362880\n",
      "Factorial of 10 is 3628800\n"
     ]
    }
   ],
   "source": [
    "#A python program to calculate factorial values using recursion.\n",
    "#recursive function to  calculate factorial\n",
    "def factorial(n):\n",
    "    \"\"\" to find factorial of n \"\"\"\n",
    "    if n == 0:\n",
    "        result = 1\n",
    "    else:\n",
    "        result = n*factorial(n-1)\n",
    "    return result\n",
    "\n",
    "#find factorial values for first 10 numbers\n",
    "for i in range(1, 11):\n",
    "    print('Factorial of {} is {}'.format(i, factorial(i)))"
   ]
  },
  {
   "cell_type": "code",
   "execution_count": 5,
   "metadata": {},
   "outputs": [
    {
     "name": "stdout",
     "output_type": "stream",
     "text": [
      "Enter number of disks: 3\n",
      "Move disk 1 from pole A to pole C\n",
      "move disk 2 from pole A to pole B\n",
      "Move disk 1 from pole C to pole B\n",
      "move disk 3 from pole A to pole C\n",
      "Move disk 1 from pole B to pole A\n",
      "move disk 2 from pole B to pole C\n",
      "Move disk 1 from pole A to pole C\n"
     ]
    }
   ],
   "source": [
    "#A python program to solve towers of Hanoi problem\n",
    "#recursive function to solve Towers of Hanoi\n",
    "def towers(n, a, c, b):\n",
    "    if n == 1:\n",
    "        #if only 1 disk, then move it from A to C\n",
    "        print('Move disk %i from pole %s to pole %s' %(n, a, c))\n",
    "    else: #if more than 1 disk\n",
    "        #move first n-1 disks from A to B using C as intermediate pole\n",
    "        towers(n-1, a, b, c)\n",
    "        \n",
    "        #move remaining 1 disk from A to C\n",
    "        print('move disk %i from pole %s to pole %s'%(n, a, c))\n",
    "        \n",
    "        #move n-1 disks from B to C using A as intermediate pole\n",
    "        towers(n-1, b, c, a)\n",
    "        \n",
    "#call the function\n",
    "n = int(input(\"Enter number of disks: \"))\n",
    "\n",
    "#we should change n disks from A to C using B as intermediate pole\n",
    "towers(n, 'A', 'C', 'B')"
   ]
  },
  {
   "cell_type": "markdown",
   "metadata": {},
   "source": [
    "### Anonymous Functions or Lambdas"
   ]
  },
  {
   "cell_type": "code",
   "execution_count": 6,
   "metadata": {},
   "outputs": [
    {
     "name": "stdout",
     "output_type": "stream",
     "text": [
      "square of 5 =  25\n"
     ]
    }
   ],
   "source": [
    "#A python program to create a lambda function that returns a square value of a given numbers.\n",
    "#a lambda function to calculate square value\n",
    "f = lambda x: x*x #write lambda function\n",
    "value = f(5) #call lambda function\n",
    "print('square of 5 = ', value) #display result"
   ]
  },
  {
   "cell_type": "code",
   "execution_count": 7,
   "metadata": {},
   "outputs": [
    {
     "name": "stdout",
     "output_type": "stream",
     "text": [
      "sum =  11.55\n"
     ]
    }
   ],
   "source": [
    "#A lambda function to calculate the sum of two numbers\n",
    "f = lambda x, y: x+y #write lambda function\n",
    "result = f(1.55, 10) #call lambda function\n",
    "print('sum = ', result) #display result"
   ]
  },
  {
   "cell_type": "code",
   "execution_count": 8,
   "metadata": {},
   "outputs": [
    {
     "name": "stdout",
     "output_type": "stream",
     "text": [
      "Enter two numbers: 10, 25\n",
      "Bigger number =  25\n"
     ]
    }
   ],
   "source": [
    "#A lambda function to find the bigger number in two given numbers\n",
    "#a lambda function that returns bigger number\n",
    "max = lambda x, y: x if x>y else y #write lambda function\n",
    "a, b = [int(n) for n in input(\"Enter two numbers: \").split(',')]\n",
    "print(\"Bigger number = \", max(a, b)) #call lambda function"
   ]
  },
  {
   "cell_type": "markdown",
   "metadata": {},
   "source": [
    "#### using lambda with filter() function"
   ]
  },
  {
   "cell_type": "code",
   "execution_count": 10,
   "metadata": {},
   "outputs": [
    {
     "name": "stdout",
     "output_type": "stream",
     "text": [
      "[10, 46, 70]\n"
     ]
    }
   ],
   "source": [
    "#A python program using filter() to filter out even numbers from a list.\n",
    "#filter() function that returns even numbers from a list.\n",
    "def is_even(x):\n",
    "    if x%2 == 0:\n",
    "        return True\n",
    "    else:\n",
    "        return False\n",
    "    \n",
    "#let us take a list of numbers\n",
    "lst = [10, 23, 45, 46, 70, 99]\n",
    "\n",
    "#call filter() with is_even() and lst\n",
    "lst1 = list(filter(is_even, lst))\n",
    "print(lst1)"
   ]
  },
  {
   "cell_type": "code",
   "execution_count": 11,
   "metadata": {},
   "outputs": [
    {
     "name": "stdout",
     "output_type": "stream",
     "text": [
      "[10, 46, 70]\n"
     ]
    }
   ],
   "source": [
    "#a lambda function that returns even numbers from a list\n",
    "lst = [10, 23, 45, 46, 70, 99]\n",
    "lst1 = list(filter(lambda x: (x%2 == 0), lst))\n",
    "print(lst1)"
   ]
  },
  {
   "cell_type": "markdown",
   "metadata": {},
   "source": [
    "#### Using lambdas with map() function"
   ]
  },
  {
   "cell_type": "code",
   "execution_count": 12,
   "metadata": {},
   "outputs": [
    {
     "name": "stdout",
     "output_type": "stream",
     "text": [
      "[1, 4, 9, 16, 25]\n"
     ]
    }
   ],
   "source": [
    "#A python program to find squares of elements of list.\n",
    "#map() function that gives squares\n",
    "def squares(x):\n",
    "    return x*x\n",
    "\n",
    "#let us take a list of numbers\n",
    "lst = [1, 2, 3, 4, 5]\n",
    "\n",
    "#call map() with squares() and lst\n",
    "lst1 = list(map(squares, lst))\n",
    "print(lst1)"
   ]
  },
  {
   "cell_type": "code",
   "execution_count": 13,
   "metadata": {},
   "outputs": [
    {
     "name": "stdout",
     "output_type": "stream",
     "text": [
      "[1, 4, 9, 16, 25]\n"
     ]
    }
   ],
   "source": [
    "#A lambda function that returns squares of elements in a list.\n",
    "lst = [1, 2, 3, 4, 5]\n",
    "lst1 = list(map(lambda x: x*x, lst))\n",
    "print(lst1)"
   ]
  },
  {
   "cell_type": "code",
   "execution_count": 14,
   "metadata": {},
   "outputs": [
    {
     "name": "stdout",
     "output_type": "stream",
     "text": [
      "[10, 40, 90, 160, 250]\n"
     ]
    }
   ],
   "source": [
    "#A python program to find the products of elements of two differents lists using lambda function.\n",
    "#lambda that returns products of elements of two lists\n",
    "lst1 = [1, 2, 3, 4, 5]\n",
    "lst2 = [10, 20, 30, 40, 50]\n",
    "lst3 = list(map(lambda x, y: x*y, lst1, lst2))\n",
    "print(lst3)"
   ]
  },
  {
   "cell_type": "markdown",
   "metadata": {},
   "source": [
    "#### Using lambdas with reduce() Function"
   ]
  },
  {
   "cell_type": "code",
   "execution_count": 15,
   "metadata": {},
   "outputs": [
    {
     "name": "stdout",
     "output_type": "stream",
     "text": [
      "120\n"
     ]
    }
   ],
   "source": [
    "#A lambda function to calculate products of elements of a list.\n",
    "#lambda that returns products of elements of list\n",
    "from functools import *\n",
    "lst = [1, 2, 3, 4, 5]\n",
    "result = reduce(lambda x, y: x*y, lst)\n",
    "print(result)"
   ]
  },
  {
   "cell_type": "markdown",
   "metadata": {},
   "source": [
    "### Function Decorators"
   ]
  },
  {
   "cell_type": "code",
   "execution_count": 16,
   "metadata": {},
   "outputs": [
    {
     "name": "stdout",
     "output_type": "stream",
     "text": [
      "12\n"
     ]
    }
   ],
   "source": [
    "#A decorator to increase the value of a function.\n",
    "#a decorator that increments the value of a function.\n",
    "def decor(fun): #this is decorator function\n",
    "    def inner(): #this is the inner function that modifies\n",
    "        value = fun()\n",
    "        return value + 2\n",
    "    return inner #return inner function\n",
    "\n",
    "#take a function to which decorator should be applied\n",
    "def num():\n",
    "    return 10\n",
    "\n",
    "#call decorator function and pass num\n",
    "result_fun = decor(num) #result_fun represents 'inner' function\n",
    "print(result_fun()) #call result_fun and display the result"
   ]
  },
  {
   "cell_type": "code",
   "execution_count": 17,
   "metadata": {},
   "outputs": [
    {
     "name": "stdout",
     "output_type": "stream",
     "text": [
      "12\n"
     ]
    }
   ],
   "source": [
    "#A python program to apply a decorator to a function using @symbol.\n",
    "#a decorator that increments the value of a function by 2.\n",
    "def decor(fun): #this is decorator function\n",
    "    def inner(): #this is the inner function that modifies\n",
    "        value = fun()\n",
    "        return value + 2\n",
    "    return inner #return inner function\n",
    "\n",
    "#take a function to which decorator should be applied\n",
    "@decor #apply decor to the below function\n",
    "def num():\n",
    "    return 10\n",
    "\n",
    "#call num() function and display its result\n",
    "print(num())"
   ]
  },
  {
   "cell_type": "code",
   "execution_count": 18,
   "metadata": {},
   "outputs": [
    {
     "name": "stdout",
     "output_type": "stream",
     "text": [
      "22\n"
     ]
    }
   ],
   "source": [
    "#A python program to create two decorators.\n",
    "#a decorator that increments the value of a function by 2\n",
    "def decor(fun):\n",
    "    def inner():\n",
    "        value = fun()\n",
    "        return value + 2\n",
    "    return inner\n",
    "\n",
    "#a decorator that doubles the value of a function\n",
    "def decor1(fun):\n",
    "    def inner():\n",
    "        value = fun()\n",
    "        return value * 2\n",
    "    return inner\n",
    "\n",
    "#take a function to which decorator should be applied\n",
    "def num():\n",
    "    return 10\n",
    "\n",
    "#callnum() function and apply decor1 and then decor\n",
    "result_fun = decor(decor1(num))\n",
    "print(result_fun())"
   ]
  },
  {
   "cell_type": "code",
   "execution_count": 19,
   "metadata": {},
   "outputs": [
    {
     "name": "stdout",
     "output_type": "stream",
     "text": [
      "22\n"
     ]
    }
   ],
   "source": [
    "#A python program to apply two decorators to the same function using @symbol.\n",
    "#a decorator that increments the value of a function by 2.\n",
    "def decor(fun):\n",
    "    def inner():\n",
    "        value = fun()\n",
    "        return value + 2\n",
    "    return inner\n",
    "\n",
    "#a decorator that doubles the value of a function\n",
    "def decor1(fun):\n",
    "    def inner():\n",
    "        value = fun()\n",
    "        return value * 2\n",
    "    return inner\n",
    "\n",
    "#take a function to which decorator should be applied\n",
    "@decor\n",
    "@decor1\n",
    "def num():\n",
    "    return 10\n",
    "\n",
    "#call num() function and apply decor1 and then decor\n",
    "print(num())"
   ]
  },
  {
   "cell_type": "code",
   "execution_count": 30,
   "metadata": {},
   "outputs": [
    {
     "name": "stdout",
     "output_type": "stream",
     "text": [
      "22\n"
     ]
    }
   ],
   "source": [
    "#a decorator that increments the value of a function by 2.\n",
    "def decor(fun):\n",
    "    def inner():\n",
    "        value = fun()\n",
    "        return value + 2\n",
    "    return inner\n",
    "\n",
    "#a decorator that doubles the value of a function\n",
    "def decor1(fun):\n",
    "    def inner():\n",
    "        value = fun()\n",
    "        return value * 2\n",
    "    return inner\n",
    "\n",
    "#take a function to which decorator should be applied\n",
    "@decor\n",
    "@decor1\n",
    "def num():\n",
    "    return 10\n",
    "\n",
    "#call num() function and apply decor1 and then decor\n",
    "print(num())"
   ]
  },
  {
   "cell_type": "code",
   "execution_count": 31,
   "metadata": {},
   "outputs": [
    {
     "name": "stdout",
     "output_type": "stream",
     "text": [
      "22\n"
     ]
    }
   ],
   "source": [
    "#a decorator that increments the value of a function by 2.\n",
    "def decor(fun):\n",
    "    def inner():\n",
    "        value = fun()\n",
    "        return value + 2\n",
    "    return inner\n",
    "\n",
    "#a decorator that doubles the value of a function\n",
    "def decor1(fun):\n",
    "    def inner():\n",
    "        value = fun()\n",
    "        return value * 2\n",
    "    return inner\n",
    "\n",
    "#take a function to which decorator should be applied\n",
    "@decor\n",
    "@decor1\n",
    "def num():\n",
    "    return 10\n",
    "\n",
    "#call num() function and apply decor1 and then decor\n",
    "print(num())"
   ]
  },
  {
   "cell_type": "markdown",
   "metadata": {},
   "source": [
    "### Generators"
   ]
  },
  {
   "cell_type": "code",
   "execution_count": 20,
   "metadata": {},
   "outputs": [
    {
     "name": "stdout",
     "output_type": "stream",
     "text": [
      "5 6 7 8 9 10 "
     ]
    }
   ],
   "source": [
    "#A python program to create a generator that returns a sequence of numbers from x to y.\n",
    "#generator that returns sequence from x to y.\n",
    "def mygen(x, y):\n",
    "    while x<=y:\n",
    "        yield x\n",
    "        x+=1\n",
    "#fill generator object with 5 and 10\n",
    "g = mygen(5, 10)\n",
    "\n",
    "#display all numbers in the generator\n",
    "for i in g:\n",
    "    print(i, end = ' ')"
   ]
  },
  {
   "cell_type": "code",
   "execution_count": 21,
   "metadata": {},
   "outputs": [
    {
     "name": "stdout",
     "output_type": "stream",
     "text": [
      "A\n",
      "B\n",
      "C\n"
     ]
    },
    {
     "ename": "StopIteration",
     "evalue": "",
     "output_type": "error",
     "traceback": [
      "\u001b[1;31m---------------------------------------------------------------------------\u001b[0m",
      "\u001b[1;31mStopIteration\u001b[0m                             Traceback (most recent call last)",
      "\u001b[1;32m<ipython-input-21-f19dbb4ad776>\u001b[0m in \u001b[0;36m<module>\u001b[1;34m\u001b[0m\n\u001b[0;32m     13\u001b[0m \u001b[0mprint\u001b[0m\u001b[1;33m(\u001b[0m\u001b[0mnext\u001b[0m\u001b[1;33m(\u001b[0m\u001b[0mg\u001b[0m\u001b[1;33m)\u001b[0m\u001b[1;33m)\u001b[0m \u001b[1;31m#display 'B'\u001b[0m\u001b[1;33m\u001b[0m\u001b[1;33m\u001b[0m\u001b[0m\n\u001b[0;32m     14\u001b[0m \u001b[0mprint\u001b[0m\u001b[1;33m(\u001b[0m\u001b[0mnext\u001b[0m\u001b[1;33m(\u001b[0m\u001b[0mg\u001b[0m\u001b[1;33m)\u001b[0m\u001b[1;33m)\u001b[0m \u001b[1;31m#display 'C'\u001b[0m\u001b[1;33m\u001b[0m\u001b[1;33m\u001b[0m\u001b[0m\n\u001b[1;32m---> 15\u001b[1;33m \u001b[0mprint\u001b[0m\u001b[1;33m(\u001b[0m\u001b[0mnext\u001b[0m\u001b[1;33m(\u001b[0m\u001b[0mg\u001b[0m\u001b[1;33m)\u001b[0m\u001b[1;33m)\u001b[0m \u001b[1;31m#error\u001b[0m\u001b[1;33m\u001b[0m\u001b[1;33m\u001b[0m\u001b[0m\n\u001b[0m",
      "\u001b[1;31mStopIteration\u001b[0m: "
     ]
    }
   ],
   "source": [
    "#A generator that returns characters from A to c.\n",
    "#generator that returns characters from A to C.\n",
    "def mygen():\n",
    "    yield 'A'\n",
    "    yield 'B'\n",
    "    yield 'C'\n",
    "    \n",
    "#call generator function and get generator object g\n",
    "g = mygen()\n",
    "\n",
    "#display all characters in the generator\n",
    "print(next(g)) #display 'A'\n",
    "print(next(g)) #display 'B'\n",
    "print(next(g)) #display 'C'\n",
    "print(next(g)) #error"
   ]
  },
  {
   "cell_type": "markdown",
   "metadata": {},
   "source": [
    "### Sturctured Programming"
   ]
  },
  {
   "cell_type": "code",
   "execution_count": 22,
   "metadata": {},
   "outputs": [
    {
     "name": "stdout",
     "output_type": "stream",
     "text": [
      "Enter basic salary: 20000\n",
      "Your gross salary:   39000.00\n",
      "Your net salary:   32700.00\n"
     ]
    }
   ],
   "source": [
    "#A python program to calculate the gross salary and net salary of an employee.\n",
    "#to calculate dearness allowance\n",
    "def da(basic):\n",
    "    \"\"\" da is 80% of basic salary \"\"\"\n",
    "    da = basic*80/100\n",
    "    return da\n",
    "\n",
    "#to calculate house rent allowance\n",
    "def hra(basic):\n",
    "    \"\"\" hra is 15% of basic salary \"\"\"\n",
    "    hra = basic*15/100\n",
    "    return hra\n",
    "\n",
    "#to calculate provident fund amount\n",
    "def pf(basic):\n",
    "    \"\"\" pf is 12% of basic salary \"\"\"\n",
    "    pf = basic*12/100\n",
    "    return pf\n",
    "\n",
    "#to calculate income tax payable by employee\n",
    "def itax(gross):\n",
    "    \"\"\" tax is calculated at 10% on gross \"\"\"\n",
    "    tax = gross*0.1\n",
    "    return tax\n",
    "\n",
    "#this is main program\n",
    "#Calculate gross salary of employee by taking basic\n",
    "basic = float(input('Enter basic salary: '))\n",
    "\n",
    "#calculate gross salary\n",
    "gross = basic+da(basic)+hra(basic)\n",
    "print('Your gross salary: {:10.2f}'.format(gross))\n",
    "\n",
    "#calculate net salary\n",
    "net = gross - pf(basic) - itax(gross)\n",
    "print('Your net salary: {:10.2f}'.format(net))"
   ]
  },
  {
   "cell_type": "code",
   "execution_count": 36,
   "metadata": {},
   "outputs": [
    {
     "name": "stdout",
     "output_type": "stream",
     "text": [
      "Enter basic salary: 15000\n",
      "Your gross salary:    29250.00\n",
      "your net salary:   24525.00\n"
     ]
    }
   ],
   "source": [
    "#A Python program to calculate the gross salary and net salary of an employee.\n",
    "#to calculate dearness allowance.\n",
    "def da(basic):\n",
    "    \"\"\" da is 80% of basic salary \"\"\"\n",
    "    da = basic*80/100\n",
    "    return da\n",
    "\n",
    "#to calculate house rent allowance\n",
    "def hra(basic):\n",
    "    \"\"\" hra is 15% of basic salary \"\"\"\n",
    "    hra = basic*15/100\n",
    "    return hra\n",
    "\n",
    "#to calculate provident fund amount\n",
    "def pf(basic):\n",
    "    \"\"\" pf is 12% of basic salary \"\"\"\n",
    "    pf = basic*12/100\n",
    "    return pf\n",
    "\n",
    "#to calculate income tax payable by employee\n",
    "def itax(gross):\n",
    "    \"\"\" tax is calculated at 10% on gross\"\"\"\n",
    "    tax = gross*0.1\n",
    "    return tax\n",
    "\n",
    "#this is the main program\n",
    "#calculate gross salary of employee by taking basic\n",
    "basic = float(input(\"Enter basic salary: \"))\n",
    "\n",
    "#calculate gross salary\n",
    "gross = basic + da(basic) + hra(basic)\n",
    "print(\"Your gross salary:  {:10.2f}\".format(gross))\n",
    "\n",
    "#calculate net salary\n",
    "net = gross - pf(basic) - itax(gross)\n",
    "print(\"your net salary: {:10.2f}\".format(net))"
   ]
  },
  {
   "cell_type": "code",
   "execution_count": null,
   "metadata": {},
   "outputs": [],
   "source": []
  },
  {
   "cell_type": "code",
   "execution_count": 23,
   "metadata": {},
   "outputs": [],
   "source": []
  },
  {
   "cell_type": "code",
   "execution_count": 25,
   "metadata": {},
   "outputs": [
    {
     "name": "stdout",
     "output_type": "stream",
     "text": [
      "Sum of two nos= : 32\n",
      "Result of subtraction=  -12\n"
     ]
    }
   ],
   "source": [
    "#A program to import and use the arith.py module\n",
    "#this is use.py program\n",
    "#import arith module using one of the above 4 ways\n",
    "import arith\n",
    "\n",
    "#call the functions of the module\n",
    "arith.add(10, 22)\n",
    "result = arith.sub(10, 22)\n",
    "print(\"Result of subtraction= \", result)"
   ]
  },
  {
   "cell_type": "code",
   "execution_count": 1,
   "metadata": {},
   "outputs": [
    {
     "name": "stdout",
     "output_type": "stream",
     "text": [
      "Hello Python!\n",
      "This code is run as a program\n"
     ]
    }
   ],
   "source": [
    "#A python program using the special __name__ variable.\n",
    "#python program to display a message. \n",
    "def display():\n",
    "    print('Hello Python!')\n",
    "    \n",
    "if __name__ == '__main__':\n",
    "    display() #call display function\n",
    "    print(\"This code is run as a program\")\n",
    "else:\n",
    "    print(\"This code is run as a module\")"
   ]
  },
  {
   "cell_type": "code",
   "execution_count": null,
   "metadata": {},
   "outputs": [],
   "source": [
    "#"
   ]
  }
 ],
 "metadata": {
  "kernelspec": {
   "display_name": "Python 3",
   "language": "python",
   "name": "python3"
  },
  "language_info": {
   "codemirror_mode": {
    "name": "ipython",
    "version": 3
   },
   "file_extension": ".py",
   "mimetype": "text/x-python",
   "name": "python",
   "nbconvert_exporter": "python",
   "pygments_lexer": "ipython3",
   "version": "3.8.5"
  }
 },
 "nbformat": 4,
 "nbformat_minor": 4
}
