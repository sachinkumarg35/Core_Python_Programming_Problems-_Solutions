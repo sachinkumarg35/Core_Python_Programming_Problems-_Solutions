{
 "cells": [
  {
   "cell_type": "markdown",
   "metadata": {},
   "source": [
    "### Indexing in Strings"
   ]
  },
  {
   "cell_type": "code",
   "execution_count": 1,
   "metadata": {},
   "outputs": [
    {
     "name": "stdout",
     "output_type": "stream",
     "text": [
      "C o r e   P y t h o n \n",
      "n o h t y P   e r o C \n",
      "n o h t y P   e r o C "
     ]
    }
   ],
   "source": [
    "#A python program to access each element of a string forward and reverse orders using while loop.\n",
    "#indexing on strings\n",
    "str = \"Core Python\"\n",
    "\n",
    "#access each character using while loop\n",
    "n = len(str) #n = no. of chars in str\n",
    "i = 0 #i = 0,1,2,....n-1\n",
    "while i<n:\n",
    "    print(str[i], end = ' ')\n",
    "    i+=1\n",
    "    \n",
    "print() #put cursor into next line\n",
    "#access in reverse order\n",
    "i=-1 #i = -1, -2, -3,....-n\n",
    "while i>=-n:\n",
    "    print(str[i], end = \" \")\n",
    "    i-=1\n",
    "    \n",
    "print() #put cursor into next line\n",
    "\n",
    "#access in reverse order using negative index\n",
    "i = 1 #i = 1,2,3, ...n\n",
    "n = len(str) #n = no. of chars in str\n",
    "while i <= n:\n",
    "    print(str[-i], end = ' ')\n",
    "    i+=1"
   ]
  },
  {
   "cell_type": "code",
   "execution_count": 2,
   "metadata": {},
   "outputs": [
    {
     "name": "stdout",
     "output_type": "stream",
     "text": [
      "C o r e   P y t h o n \n",
      "n o h t y P   e r o C "
     ]
    }
   ],
   "source": [
    "#A python program to access the characters of a string using for loop.\n",
    "#accessing elements of a string using for loop.\n",
    "str = \"Core Python\"\n",
    "\n",
    "#access each letter using for loop\n",
    "for i in str:\n",
    "    print(i, end = ' ')\n",
    "    \n",
    "print() #put cursor into next line\n",
    "\n",
    "#access in reverse order\n",
    "for i in str[::-1]:\n",
    "    print(i, end=\" \")"
   ]
  },
  {
   "cell_type": "markdown",
   "metadata": {},
   "source": [
    "### Checking Membership"
   ]
  },
  {
   "cell_type": "code",
   "execution_count": 3,
   "metadata": {},
   "outputs": [
    {
     "name": "stdout",
     "output_type": "stream",
     "text": [
      "Enter main string: This is core python\n",
      "Enter sub string: core\n",
      "core is found in main string\n"
     ]
    }
   ],
   "source": [
    "#A python program to know whether a sub string exists in main string or not.\n",
    "#to know whether sub string is in main string or not\n",
    "str = input(\"Enter main string: \")\n",
    "sub = input(\"Enter sub string: \")\n",
    "if sub in str:\n",
    "    print(sub+ ' is found in main string')\n",
    "else:\n",
    "    print(sub+' is not found in the main string')"
   ]
  },
  {
   "cell_type": "markdown",
   "metadata": {},
   "source": [
    "### Finding Sub Strings"
   ]
  },
  {
   "cell_type": "code",
   "execution_count": 4,
   "metadata": {},
   "outputs": [
    {
     "name": "stdout",
     "output_type": "stream",
     "text": [
      "Enter main string: This is a book\n",
      "Enter sub string: is\n",
      "Sub string found at position:  3\n"
     ]
    }
   ],
   "source": [
    "#A python program to find the first occurence of sub string in a given main string.\n",
    "#to find first occurences of sub string in a main string\n",
    "str = input(\"Enter main string: \")\n",
    "sub = input(\"Enter sub string: \")\n",
    "\n",
    "#find position of sub in str\n",
    "#search from 0th to last characters in str\n",
    "n = str.find(sub, 0, len(str))\n",
    "\n",
    "#find() returns -1 if sub string is not found\n",
    "if n == -1:\n",
    "    print(\"Sub string not found\")\n",
    "else:\n",
    "    print(\"Sub string found at position: \", n+1)"
   ]
  },
  {
   "cell_type": "code",
   "execution_count": 5,
   "metadata": {},
   "outputs": [
    {
     "name": "stdout",
     "output_type": "stream",
     "text": [
      "Enter main string: This is a book\n",
      "Enter sub string: is\n",
      "sub string not found\n"
     ]
    }
   ],
   "source": [
    "#A python program to find the first occurence of sub string in a given string using index() method.\n",
    "#to find first occurences of sub string in a main string\n",
    "str = input(\"Enter main string: \")\n",
    "sub = input(\"Enter sub string: \")\n",
    "\n",
    "#find position of sub in str\n",
    "#search from 0th to last characters in str\n",
    "try:\n",
    "    n = str.index(sub, len(str))\n",
    "except ValueError:\n",
    "    print(\"sub string not found\")\n",
    "else:\n",
    "    print(\"Sub string found at position: \", n+1)"
   ]
  },
  {
   "cell_type": "code",
   "execution_count": 6,
   "metadata": {},
   "outputs": [
    {
     "name": "stdout",
     "output_type": "stream",
     "text": [
      "Enter main string: This is a book\n",
      "Enter sub string: is\n",
      "Found at position:  3\n",
      "Found at position:  6\n"
     ]
    }
   ],
   "source": [
    "#A python program to display all positions of a string in a given main string.\n",
    "#to find all occurence of sub string in a main string\n",
    "str = input(\"Enter main string: \")\n",
    "sub = input(\"Enter sub string: \")\n",
    "\n",
    "i = 0\n",
    "flag = False #Becomes true if sub string is found\n",
    "n = len(str)\n",
    "while i < n:#repeat from 0th to nth characters\n",
    "    pos = str.find(sub, i, n)\n",
    "    if pos != -1: #if found display its position\n",
    "        print(\"Found at position: \", pos+1)\n",
    "        i = pos+1 #search from pos+1 position onwards\n",
    "        flag = True\n",
    "    else:\n",
    "        i=i+1 #search from next character onwards\n",
    "    if flag == False:\n",
    "        print(\"Sub string not found\")"
   ]
  },
  {
   "cell_type": "code",
   "execution_count": 7,
   "metadata": {},
   "outputs": [
    {
     "name": "stdout",
     "output_type": "stream",
     "text": [
      "Enter main string: This is a book\n",
      "Enter sub string: is\n",
      "Found at position:  3\n",
      "Found at position:  6\n"
     ]
    }
   ],
   "source": [
    "#A python program to display all positions of a sub string in a given main string\n",
    "#to find all occurences of sub string in a main string\n",
    "str = input(\"Enter main string: \")\n",
    "sub = input(\"Enter sub string: \")\n",
    "\n",
    "flag = False\n",
    "pos = -1\n",
    "n =len(str)\n",
    "while True: #repeat forever\n",
    "    pos = str.find(sub, pos+1, n)\n",
    "    if pos == -1:\n",
    "        break\n",
    "        \n",
    "    print(\"Found at position: \", pos+1) \n",
    "    flag = True\n",
    "    \n",
    "if flag == False:\n",
    "    print(\"Not found\")"
   ]
  },
  {
   "cell_type": "markdown",
   "metadata": {},
   "source": [
    "### Splitting and Joining Strings"
   ]
  },
  {
   "cell_type": "code",
   "execution_count": 9,
   "metadata": {},
   "outputs": [
    {
     "name": "stdout",
     "output_type": "stream",
     "text": [
      "Enter  numbers separated by space: 10 20 30 40 50\n",
      "10\n",
      "20\n",
      "30\n",
      "40\n",
      "50\n"
     ]
    }
   ],
   "source": [
    "#A python program to accept and display a group of numbers\n",
    "#to accept a group of numbers and display them\n",
    "str = input(\"Enter  numbers separated by space: \")\n",
    "\n",
    "#cut the string where a space is found\n",
    "lst = str.split(' ')\n",
    "\n",
    "#display the numbers from the list\n",
    "for i in lst:\n",
    "    print(i)"
   ]
  },
  {
   "cell_type": "markdown",
   "metadata": {},
   "source": [
    "### Working with Characters"
   ]
  },
  {
   "cell_type": "code",
   "execution_count": 1,
   "metadata": {},
   "outputs": [
    {
     "name": "stdout",
     "output_type": "stream",
     "text": [
      "Enter a character: a\n",
      "It is alphabet or numeric character\n",
      "It is an alphabet\n",
      "It is lowercase letter\n"
     ]
    }
   ],
   "source": [
    "#A python program to know the type of character entered by the user.\n",
    "#to know the nature of a character.\n",
    "str = input(\"Enter a character: \")\n",
    "ch = str[0] #take only the 0th character into ch\n",
    "\n",
    "#test ch\n",
    "if ch.isalnum():\n",
    "    print(\"It is alphabet or numeric character\")\n",
    "    if ch.isalpha():\n",
    "        print(\"It is an alphabet\")\n",
    "        if ch.isupper():\n",
    "            print(\"It is capital letter\")\n",
    "        else:\n",
    "            print(\"It is lowercase letter\")\n",
    "    else:\n",
    "        print(\"It is a numeric digit\")\n",
    "elif ch.isspace():\n",
    "    print(\"It is a space\")\n",
    "else:\n",
    "    print(\"It may be a special character\")"
   ]
  },
  {
   "cell_type": "markdown",
   "metadata": {},
   "source": [
    "### Sorting Strings"
   ]
  },
  {
   "cell_type": "code",
   "execution_count": 2,
   "metadata": {},
   "outputs": [
    {
     "name": "stdout",
     "output_type": "stream",
     "text": [
      "How many strings? 5\n",
      "Enter string: Hyderabad\n",
      "Enter string: Delhi\n",
      "Enter string: Ahmedabad\n",
      "Enter string: Kolkata\n",
      "Enter string: Chennai\n",
      "Sorted list: \n",
      "Ahmedabad\n",
      "Chennai\n",
      "Delhi\n",
      "Hyderabad\n",
      "Kolkata\n"
     ]
    }
   ],
   "source": [
    "#A python program to sort a group of strings into alphabetical order.\n",
    "#Sorting a group of strings.\n",
    "#take an empty array.\n",
    "str = []\n",
    "\n",
    "#accept how many strings\n",
    "n = int(input(\"How many strings? \"))\n",
    "\n",
    "#append strings to str array\n",
    "for i in range(n):\n",
    "    print(\"Enter string: \", end=\"\")\n",
    "    str.append(input())\n",
    "    \n",
    "#Sort the array\n",
    "#str.sort()\n",
    "str1 = sorted(str)\n",
    "\n",
    "#display the sorted array\n",
    "print(\"Sorted list: \")\n",
    "for i in str1:\n",
    "    print(i)"
   ]
  },
  {
   "cell_type": "markdown",
   "metadata": {},
   "source": [
    "### Searching in the Strings"
   ]
  },
  {
   "cell_type": "code",
   "execution_count": 3,
   "metadata": {},
   "outputs": [
    {
     "name": "stdout",
     "output_type": "stream",
     "text": [
      "How many strings? 5\n",
      "Enter string: Ramesh\n",
      "Enter string: kumar\n",
      "Enter string: Sriya\n",
      "Enter string: Vinod\n",
      "Enter string: Ramesh\n",
      "Enter string to search: Ramesh\n",
      "Found at:  1\n",
      "Found at:  5\n"
     ]
    }
   ],
   "source": [
    "#A python program to search for the position of a strings in a given group of strings.\n",
    "#Searching for a string in a group of strings\n",
    "#take an empty array.\n",
    "str = []\n",
    "\n",
    "#accept how many strings\n",
    "n = int(input(\"How many strings? \"))\n",
    "\n",
    "#Append strings to str array\n",
    "for i in range(n):\n",
    "    print(\"Enter string: \", end = \"\")\n",
    "    str.append(input())\n",
    "    \n",
    "#ask for the string to search\n",
    "s = input(\"Enter string to search: \")\n",
    "\n",
    "#linear search or sequential search\n",
    "flag = False\n",
    "\n",
    "for i in range(len(str)):\n",
    "    if s == str[i]:\n",
    "        print(\"Found at: \", i+1)\n",
    "        flag = True\n",
    "        \n",
    "if flag == False:\n",
    "    print(\"Not found\")"
   ]
  },
  {
   "cell_type": "markdown",
   "metadata": {},
   "source": [
    "### Finding Number of Characters and Words"
   ]
  },
  {
   "cell_type": "code",
   "execution_count": 4,
   "metadata": {},
   "outputs": [
    {
     "name": "stdout",
     "output_type": "stream",
     "text": [
      "Enter a string: This is a book\n",
      "This is a book\n",
      "No. of characters:  14\n"
     ]
    }
   ],
   "source": [
    "#A python program to find the length of a string without using len() function.\n",
    "#to find no. of characters in a string\n",
    "str = input(\"Enter a string: \")\n",
    "\n",
    "i = 0\n",
    "for s in str:\n",
    "    print(str[i], end = \"\")\n",
    "    i+=1\n",
    "print(\"\\nNo. of characters: \", i)"
   ]
  },
  {
   "cell_type": "code",
   "execution_count": 5,
   "metadata": {},
   "outputs": [
    {
     "name": "stdout",
     "output_type": "stream",
     "text": [
      "Enter a string: R Nageshwara Rao\n",
      "No. of words:  3\n"
     ]
    }
   ],
   "source": [
    "#A python program to find the number of words in string.\n",
    "#to find the no. of words in a string\n",
    "str = input(\"Enter a string: \")\n",
    "\n",
    "i=c=0\n",
    "flag = True #this becomes False when no space is found\n",
    "for s in str:\n",
    "    #count only when there is no space previously\n",
    "    if flag == False and str[i] == ' ':\n",
    "        c+=1\n",
    "    #if a space is found take flag as True.\n",
    "    if str[i] == ' ':\n",
    "        flag = True\n",
    "    else:\n",
    "        flag = False\n",
    "    i+=1\n",
    "print('No. of words: ', c+1)"
   ]
  },
  {
   "cell_type": "code",
   "execution_count": 7,
   "metadata": {},
   "outputs": [
    {
     "name": "stdout",
     "output_type": "stream",
     "text": [
      "Enter a string: It is summer\n",
      "Enter a sub string: hot\n",
      "Enter position no: 6\n"
     ]
    },
    {
     "ename": "IndexError",
     "evalue": "string index out of range",
     "output_type": "error",
     "traceback": [
      "\u001b[1;31m---------------------------------------------------------------------------\u001b[0m",
      "\u001b[1;31mIndexError\u001b[0m                                Traceback (most recent call last)",
      "\u001b[1;32m<ipython-input-7-ba1fe29290f9>\u001b[0m in \u001b[0;36m<module>\u001b[1;34m\u001b[0m\n\u001b[0;32m     21\u001b[0m \u001b[1;31m#append sub string to str1\u001b[0m\u001b[1;33m\u001b[0m\u001b[1;33m\u001b[0m\u001b[1;33m\u001b[0m\u001b[0m\n\u001b[0;32m     22\u001b[0m \u001b[1;32mfor\u001b[0m \u001b[0mi\u001b[0m \u001b[1;32min\u001b[0m \u001b[0mrange\u001b[0m\u001b[1;33m(\u001b[0m\u001b[1;36m12\u001b[0m\u001b[1;33m)\u001b[0m\u001b[1;33m:\u001b[0m\u001b[1;33m\u001b[0m\u001b[1;33m\u001b[0m\u001b[0m\n\u001b[1;32m---> 23\u001b[1;33m     \u001b[0mstr1\u001b[0m\u001b[1;33m.\u001b[0m\u001b[0mappend\u001b[0m\u001b[1;33m(\u001b[0m\u001b[0msub\u001b[0m\u001b[1;33m[\u001b[0m\u001b[0mi\u001b[0m\u001b[1;33m]\u001b[0m\u001b[1;33m)\u001b[0m\u001b[1;33m\u001b[0m\u001b[1;33m\u001b[0m\u001b[0m\n\u001b[0m\u001b[0;32m     24\u001b[0m \u001b[1;33m\u001b[0m\u001b[0m\n\u001b[0;32m     25\u001b[0m \u001b[1;31m#append the remaining characters from str to str1\u001b[0m\u001b[1;33m\u001b[0m\u001b[1;33m\u001b[0m\u001b[1;33m\u001b[0m\u001b[0m\n",
      "\u001b[1;31mIndexError\u001b[0m: string index out of range"
     ]
    }
   ],
   "source": [
    "#A python program to insert a sub string in a string in a particular string.\n",
    "#to insert a sub string in a string\n",
    "str = input(\"Enter a string: \")\n",
    "sub = input(\"Enter a sub string: \")\n",
    "n = int(input(\"Enter position no: \"))\n",
    "\n",
    "#decrease n by 1 to insert in correct position\n",
    "n-=1\n",
    "\n",
    "#Find the number of characters in str, sub\n",
    "l1 = len(str)\n",
    "l2 = len(sub)\n",
    "\n",
    "#take another string as a list\n",
    "str1 = []\n",
    "\n",
    "#append 0 to n-1 characters from str to str1\n",
    "for i in range(n):\n",
    "    str1.append(str[i])\n",
    "    \n",
    "#append sub string to str1\n",
    "for i in range(12):\n",
    "    str1.append(sub[i])\n",
    "    \n",
    "#append the remaining characters from str to str1\n",
    "for i in range(n, l1):\n",
    "    str1.append(str[i])\n",
    "    \n",
    "#convert the individual characters of list into\n",
    "#a string using join() method with empty string as separator\n",
    "str1 = ''.join(str1)\n",
    "\n",
    "#display the total string\n",
    "print(str1)"
   ]
  },
  {
   "cell_type": "code",
   "execution_count": null,
   "metadata": {},
   "outputs": [],
   "source": []
  }
 ],
 "metadata": {
  "kernelspec": {
   "display_name": "Python 3",
   "language": "python",
   "name": "python3"
  },
  "language_info": {
   "codemirror_mode": {
    "name": "ipython",
    "version": 3
   },
   "file_extension": ".py",
   "mimetype": "text/x-python",
   "name": "python",
   "nbconvert_exporter": "python",
   "pygments_lexer": "ipython3",
   "version": "3.8.5"
  }
 },
 "nbformat": 4,
 "nbformat_minor": 4
}
