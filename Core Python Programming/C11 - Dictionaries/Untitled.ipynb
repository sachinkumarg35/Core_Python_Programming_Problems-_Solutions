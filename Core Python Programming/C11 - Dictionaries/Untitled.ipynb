{
 "cells": [
  {
   "cell_type": "markdown",
   "metadata": {},
   "source": [
    "### Dictionary"
   ]
  },
  {
   "cell_type": "code",
   "execution_count": 1,
   "metadata": {},
   "outputs": [
    {
     "name": "stdout",
     "output_type": "stream",
     "text": [
      "Name of employee=  Chandra\n",
      "Id number=  200\n",
      "Salary=  9080.5\n"
     ]
    }
   ],
   "source": [
    "#A python program to create a dictionary with employee details and retieve the values upon giving the keys.\n",
    "#Creating dictionary with key - value pairs\n",
    "\"\"\"\n",
    "Create a dictionary with employee details.\n",
    "Here 'Name' is key and 'Chandra' is its value.\n",
    "'Id' is key and 200 is its value.\n",
    "'Salary' is key and 9080.50 is its value.\n",
    "\"\"\"\n",
    "\n",
    "dict = {'Name': 'Chandra', 'Id': 200, 'Salary': 9080.50}\n",
    "\n",
    "#access value by giving key\n",
    "print('Name of employee= ', dict['Name'])\n",
    "print('Id number= ', dict['Id'])\n",
    "print('Salary= ', dict['Salary'])"
   ]
  },
  {
   "cell_type": "markdown",
   "metadata": {},
   "source": [
    "### Dictionary Methods"
   ]
  },
  {
   "cell_type": "code",
   "execution_count": 2,
   "metadata": {},
   "outputs": [
    {
     "name": "stdout",
     "output_type": "stream",
     "text": [
      "{'Name': 'Chandra', 'Id': 200, 'Salary': 9080.5}\n",
      "keys in dict=  dict_keys(['Name', 'Id', 'Salary'])\n",
      "Values in dict=  dict_values(['Chandra', 200, 9080.5])\n",
      "Item in dict=  dict_items([('Name', 'Chandra'), ('Id', 200), ('Salary', 9080.5)])\n"
     ]
    }
   ],
   "source": [
    "#A python program to retrieve keys, value and key - value pairs from a dictionary.\n",
    "#dictionary methods\n",
    "#Create a dictionary with employee details.\n",
    "dict = {'Name': 'Chandra', 'Id': 200, 'Salary': 9080.50}\n",
    "\n",
    "#print entire dictionary\n",
    "print(dict)\n",
    "\n",
    "#display only keys\n",
    "print('keys in dict= ', dict.keys())\n",
    "\n",
    "#display only values\n",
    "print('Values in dict= ', dict.values())\n",
    "\n",
    "#display both key and value pairs as tuples\n",
    "print('Item in dict= ', dict.items())"
   ]
  },
  {
   "cell_type": "code",
   "execution_count": 4,
   "metadata": {},
   "outputs": [
    {
     "name": "stdout",
     "output_type": "stream",
     "text": [
      "Enter elements in { }: {'A':10, 'B':20, 'C':30, 'D':40}\n",
      "sum of values in the dictionary:  100\n"
     ]
    }
   ],
   "source": [
    "#A python program to create a dictionary and find the sum of values.\n",
    "#program to find sum of values in a dictionary\n",
    "#enter the dictionary entries from keyboard\n",
    "dict = eval(input(\"Enter elements in { }: \"))\n",
    "\n",
    "#find the sum  of values\n",
    "s = sum(dict.values())\n",
    "print('sum of values in the dictionary: ', s) #display sum"
   ]
  },
  {
   "cell_type": "code",
   "execution_count": 5,
   "metadata": {},
   "outputs": [
    {
     "name": "stdout",
     "output_type": "stream",
     "text": [
      "How many elements? 3\n",
      "Enter key: Raju\n",
      "Enter its value: 10\n",
      "Enter key: Laxmi\n",
      "Enter its value: 22\n",
      "Enter key: Salman\n",
      "Enter its value: 33\n",
      "The dictionary is:  {'Raju': 10, 'Laxmi': 22, 'Salman': 33}\n"
     ]
    }
   ],
   "source": [
    "#A python program to create a dictionary from keyboard and display the elements.\n",
    "#Creating a dictionary from the keyboard\n",
    "x = {} #take an empty dictionary\n",
    "\n",
    "print('How many elements? ', end = '')\n",
    "n = int(input()) #n indicates no. of key-value pairs\n",
    "\n",
    "for i in range(n): #repeat for n times\n",
    "    print('Enter key: ', end='')\n",
    "    k = input() #key is string\n",
    "    print('Enter its value: ', end='')\n",
    "    v = int(input()) #value is integer\n",
    "    x.update({k:v}) #store the key-value pair in dictionary x\n",
    "    \n",
    "#display the dictionary\n",
    "print('The dictionary is: ', x)"
   ]
  },
  {
   "cell_type": "code",
   "execution_count": 6,
   "metadata": {},
   "outputs": [
    {
     "name": "stdout",
     "output_type": "stream",
     "text": [
      "How many players? 3\n",
      "Enter player name: Sachin\n",
      "Enter runs: 77\n",
      "Enter player name: Kohli\n",
      "Enter runs: 40\n",
      "Enter player name: Sehwag\n",
      "Enter runs: 89\n",
      "\n",
      "Players in this match: \n",
      "Sachin\n",
      "Kohli\n",
      "Sehwag\n",
      "Enter player name: Kohli\n",
      "Kohli made runs 40.\n"
     ]
    }
   ],
   "source": [
    "#A python program to create a dictionary with cricket players names and score in a match. Also we are retrieving runs by \n",
    "#entering the players name.\n",
    "\n",
    "#Create a dictionary with cricket players name and scores\n",
    "x = {} #take an empty dictionary\n",
    "\n",
    "print('How many players? ', end = '')\n",
    "n = int(input()) #n indicates no. of key-value pairs\n",
    "\n",
    "for i in range(n): #repeat for n times\n",
    "    print('Enter player name: ', end = '')\n",
    "    k = input() #key is string\n",
    "    print('Enter runs: ', end = '')\n",
    "    v = int(input()) #value is integer\n",
    "    x.update({k:v}) #store the key-value pair in dictionary x\n",
    "    \n",
    "#display only players names\n",
    "print('\\nPlayers in this match: ')\n",
    "for pname in x.keys(): #keys() will give only keys\n",
    "    print(pname)\n",
    "    \n",
    "#accept a player name from keyboard\n",
    "print('Enter player name: ', end = '')\n",
    "name = input()\n",
    "\n",
    "#find the runs done by the player\n",
    "runs = x.get(name, -1)\n",
    "if(runs == -1):\n",
    "    print('Player not found')\n",
    "else:\n",
    "    print('{} made runs {}.'.format(name, runs))"
   ]
  },
  {
   "cell_type": "markdown",
   "metadata": {},
   "source": [
    "### Using for Loop with Dictionaries"
   ]
  },
  {
   "cell_type": "code",
   "execution_count": 7,
   "metadata": {},
   "outputs": [
    {
     "name": "stdout",
     "output_type": "stream",
     "text": [
      "r\n",
      "g\n",
      "b\n",
      "w\n",
      "Red\n",
      "Green\n",
      "Blue\n",
      "White\n",
      "key= r value= Red\n",
      "key= g value= Green\n",
      "key= b value= Blue\n",
      "key= w value= White\n"
     ]
    }
   ],
   "source": [
    "# A python program to show the usage of for loop to retrieve elements of dictionaries.\n",
    "#using for loop with dictionaries\n",
    "#take an dictionary\n",
    "colors = {'r':'Red', 'g':'Green', 'b':'Blue', 'w':'White'}\n",
    "\n",
    "#display only keys\n",
    "for k in colors:\n",
    "    print(k)\n",
    "    \n",
    "#pass key to dictionary and display the values\n",
    "for k in colors:\n",
    "    print(colors[k])\n",
    "    \n",
    "#items() method returns key and value pair into k, v\n",
    "for k, v in colors.items():\n",
    "    print('key= {} value= {}'.format(k, v))"
   ]
  },
  {
   "cell_type": "code",
   "execution_count": 8,
   "metadata": {},
   "outputs": [
    {
     "name": "stdout",
     "output_type": "stream",
     "text": [
      "key = B\t Its occurences= 1\n",
      "key = o\t Its occurences= 2\n",
      "key = k\t Its occurences= 1\n"
     ]
    }
   ],
   "source": [
    "#A python program to find the number of occurences of each letter in a string using dictionary.\n",
    "#Finding how many times each letter is repeated in a string.\n",
    "#take a string with some letters\n",
    "str = \"Book\"\n",
    "\n",
    "#take an empty dictionary\n",
    "dict = {}\n",
    "\n",
    "#Store into dict each letter as keys and its number of occurences as value\n",
    "for x in str:\n",
    "    dict[x] = dict.get(x, 0) + 1\n",
    "    \n",
    "#display key and value pairs of dict\n",
    "for k, v in dict.items():\n",
    "    print('key = {}\\t Its occurences= {}'.format(k, v))"
   ]
  },
  {
   "cell_type": "markdown",
   "metadata": {},
   "source": [
    "### Sorting the Elements of a Dictionary using Lambdas"
   ]
  },
  {
   "cell_type": "code",
   "execution_count": 9,
   "metadata": {},
   "outputs": [
    {
     "name": "stdout",
     "output_type": "stream",
     "text": [
      "[(10, 'Red'), (15, 'Blue'), (25, 'White'), (35, 'Green')]\n",
      "[(15, 'Blue'), (35, 'Green'), (10, 'Red'), (25, 'White')]\n"
     ]
    }
   ],
   "source": [
    "#A python program to sort the elements of a dictionary based on a key or value.\n",
    "#sorting a dictionary by key or value\n",
    "#take a dictionary\n",
    "colors = {10:\"Red\", 35:\"Green\", 15:\"Blue\", 25:\"White\"}\n",
    "\n",
    "#Sort the dictionary by keys i.e. 0th element\n",
    "c1 = sorted(colors.items(), key = lambda t: t[0])\n",
    "print(c1)\n",
    "\n",
    "#Sort the dictionary by values, i.e., 1st element\n",
    "c2 = sorted(colors.items(), key = lambda t: t[1])\n",
    "print(c2)"
   ]
  },
  {
   "cell_type": "markdown",
   "metadata": {},
   "source": [
    "### Converting Lists into Dictionary"
   ]
  },
  {
   "cell_type": "code",
   "execution_count": 1,
   "metadata": {},
   "outputs": [
    {
     "name": "stdout",
     "output_type": "stream",
     "text": [
      "COUNTRY         -- CAPITAL        \n",
      "USA             -- Washington     \n",
      "India           -- New Delhi      \n",
      "Germany         -- Berlin         \n",
      "France          -- Paris          \n"
     ]
    }
   ],
   "source": [
    "#A python program to convert the elements of two lists into key-value pairs of a dictionary.\n",
    "#Converting lists into a dictionary\n",
    "#take two separate lists with elements\n",
    "countries = [\"USA\", \"India\", \"Germany\", \"France\"]\n",
    "cities = [\"Washington\", \"New Delhi\", \"Berlin\", \"Paris\"]\n",
    "\n",
    "#make a dictionary\n",
    "z = zip(countries, cities)\n",
    "d = dict(z)\n",
    "\n",
    "#display key -- value pairs from dictionary d\n",
    "print('{:15s} -- {:15s}'.format('COUNTRY', 'CAPITAL'))\n",
    "for k in d:\n",
    "    print('{:15s} -- {:15s}'.format(k, d[k]))"
   ]
  },
  {
   "cell_type": "markdown",
   "metadata": {},
   "source": [
    "### Converting Strings into Dictionary"
   ]
  },
  {
   "cell_type": "code",
   "execution_count": 3,
   "metadata": {},
   "outputs": [
    {
     "name": "stdout",
     "output_type": "stream",
     "text": [
      "{'Vijay': 23, ' Ganesh': 20, ' Laksmi': 19, ' Nikhil': 22}\n"
     ]
    }
   ],
   "source": [
    "#A python program to convert a string into key-value pairs and store them into a dictionary.\n",
    "#converting a string into a dictionary\n",
    "#take a string\n",
    "str = \"Vijay=23, Ganesh=20, Laksmi=19, Nikhil=22\"\n",
    "\n",
    "#brake the string at ',' and then at '='\n",
    "#store the pieces into a list lst\n",
    "lst = []\n",
    "for x in str.split(','):\n",
    "    v = x.split('=')\n",
    "    lst.append(v)\n",
    "    \n",
    "#convert the list into dictionary 'd'\n",
    "#but this 'd' will have both name and age as strings\n",
    "d = dict(lst)\n",
    "\n",
    "#Create a new dictionary 'd1' with name as string and age as integer\n",
    "d1 = {}\n",
    "for k, v in d.items():\n",
    "    d1[k] = int(v)\n",
    "    \n",
    "#display the final dictionary\n",
    "print(d1)"
   ]
  },
  {
   "cell_type": "markdown",
   "metadata": {},
   "source": [
    "### Passing Dictionaries to Functions"
   ]
  },
  {
   "cell_type": "code",
   "execution_count": 4,
   "metadata": {},
   "outputs": [
    {
     "name": "stdout",
     "output_type": "stream",
     "text": [
      "a -- Apple\n",
      "b -- Book\n",
      "c -- Cook\n"
     ]
    }
   ],
   "source": [
    "#A python function to accept a dictionary and display its elements.\n",
    "#A function that takes a dictionary as parameter\n",
    "def fun(dictionary):\n",
    "    for i, j in dictionary.items():\n",
    "        print(i, '--', j)\n",
    "        \n",
    "#take a dictionary\n",
    "d = {'a':'Apple', 'b':'Book', 'c':'Cook'}\n",
    "\n",
    "#call the function and pass the dictionary\n",
    "fun(d)"
   ]
  },
  {
   "cell_type": "markdown",
   "metadata": {},
   "source": [
    "### Ordered Dictionaries"
   ]
  },
  {
   "cell_type": "code",
   "execution_count": 5,
   "metadata": {},
   "outputs": [
    {
     "name": "stdout",
     "output_type": "stream",
     "text": [
      "10 A\n",
      "11 B\n",
      "12 C\n",
      "13 D\n"
     ]
    }
   ],
   "source": [
    "#A python program to create a dictionary that does not changes the order of elements.\n",
    "#Create an ordered dictionary\n",
    "from collections import OrderedDict\n",
    "d = OrderedDict() #d is ordered dictionary\n",
    "d[10] = 'A'\n",
    "d[11] = 'B'\n",
    "d[12] = 'C'\n",
    "d[13] = 'D'\n",
    "\n",
    "#display the ordered dictionary\n",
    "for i, j in d.items():\n",
    "    print(i, j)"
   ]
  },
  {
   "cell_type": "code",
   "execution_count": null,
   "metadata": {},
   "outputs": [],
   "source": []
  }
 ],
 "metadata": {
  "kernelspec": {
   "display_name": "Python 3",
   "language": "python",
   "name": "python3"
  },
  "language_info": {
   "codemirror_mode": {
    "name": "ipython",
    "version": 3
   },
   "file_extension": ".py",
   "mimetype": "text/x-python",
   "name": "python",
   "nbconvert_exporter": "python",
   "pygments_lexer": "ipython3",
   "version": "3.8.5"
  }
 },
 "nbformat": 4,
 "nbformat_minor": 4
}
