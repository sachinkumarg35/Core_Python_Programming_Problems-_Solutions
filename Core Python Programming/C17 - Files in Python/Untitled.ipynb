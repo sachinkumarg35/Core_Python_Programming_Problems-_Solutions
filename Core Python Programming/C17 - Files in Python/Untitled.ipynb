{
 "cells": [
  {
   "cell_type": "code",
   "execution_count": 1,
   "metadata": {},
   "outputs": [
    {
     "name": "stdout",
     "output_type": "stream",
     "text": [
      "Enter text: This is my first line\n"
     ]
    }
   ],
   "source": [
    "#A Python program to create text file to store individual characters\n",
    "#Creating a file to store characters.\n",
    "#open the file for writing data.\n",
    "f = open('myfile.txt', 'w')\n",
    "\n",
    "#enter characters from keyboard\n",
    "str = input(\"Enter text: \")\n",
    "\n",
    "#write the string into file.\n",
    "f.write(str)\n",
    "\n",
    "#closing the file\n",
    "f.close()"
   ]
  },
  {
   "cell_type": "code",
   "execution_count": null,
   "metadata": {},
   "outputs": [],
   "source": []
  },
  {
   "cell_type": "code",
   "execution_count": null,
   "metadata": {},
   "outputs": [],
   "source": []
  },
  {
   "cell_type": "code",
   "execution_count": 2,
   "metadata": {},
   "outputs": [
    {
     "name": "stdout",
     "output_type": "stream",
     "text": [
      "This is my first line\n"
     ]
    }
   ],
   "source": [
    "#A python program to read characters from a text file.\n",
    "#reading characters for reading data.\n",
    "f = open('myfile.txt', 'r')\n",
    "\n",
    "#read all characters from file\n",
    "str = f.read()\n",
    "\n",
    "#display them on the screen\n",
    "print(str)\n",
    "\n",
    "#Closing the file\n",
    "f.close()"
   ]
  },
  {
   "cell_type": "markdown",
   "metadata": {},
   "source": [
    "### Working with Text Files Containing Strings"
   ]
  },
  {
   "cell_type": "code",
   "execution_count": 1,
   "metadata": {},
   "outputs": [
    {
     "name": "stdout",
     "output_type": "stream",
     "text": [
      "Enter text (@ at end): \n",
      "This is my file line one.\n",
      "This is line two\n",
      "@\n"
     ]
    }
   ],
   "source": [
    "#A python program to store a group of strings into a text file.\n",
    "#creating a file strings\n",
    "#open the file for writing data\n",
    "f = open('myfile.txt', 'w')\n",
    "\n",
    "#enter string from keyboard\n",
    "print('Enter text (@ at end): ')\n",
    "while str != '@':\n",
    "    str = input() #accept string into str\n",
    "    #write the string into file\n",
    "    if(str != '@'):\n",
    "        f.write(str+\"\\n\")\n",
    "        \n",
    "#closing the file\n",
    "f.close()"
   ]
  },
  {
   "cell_type": "code",
   "execution_count": 3,
   "metadata": {},
   "outputs": [
    {
     "name": "stdout",
     "output_type": "stream",
     "text": [
      "The file contents are: \n",
      "This is my file line one.\n",
      "This is line two\n",
      "\n"
     ]
    }
   ],
   "source": [
    "#A Python program to read all the strings from the text file and display them.\n",
    "#reading strings from a file.\n",
    "f = open('myfile.txt', 'r')\n",
    "\n",
    "#read strings from the file\n",
    "print('The file contents are: ')\n",
    "str = f.read()\n",
    "print(str)\n",
    "\n",
    "#closing the file\n",
    "f.close()"
   ]
  },
  {
   "cell_type": "code",
   "execution_count": 4,
   "metadata": {},
   "outputs": [
    {
     "name": "stdout",
     "output_type": "stream",
     "text": [
      "Enter text to append (@at end): \n",
      "This line is added.\n",
      "@\n",
      "The file contents are: \n",
      "This is my file line one.\n",
      "This is line two\n",
      "This line is added.\n",
      "\n"
     ]
    }
   ],
   "source": [
    "#A Python program to append data to an existing file and then displaying the entire file.\n",
    "#appending then reading strings\n",
    "f = open('myfile.txt', 'a+')\n",
    "\n",
    "print('Enter text to append (@at end): ')\n",
    "while str != '@':\n",
    "    str = input() # accept sting into str\n",
    "    \n",
    "    #write the string into file\n",
    "    if(str!= '@'):\n",
    "        f.write(str+'\\n')\n",
    "        \n",
    "#put the file pointer to the beginning of the file\n",
    "f.seek(0,0)\n",
    "\n",
    "#read strings from the file.\n",
    "print('The file contents are: ')\n",
    "str = f.read()\n",
    "print(str)\n",
    "\n",
    "#closing the file\n",
    "f.close()"
   ]
  },
  {
   "cell_type": "markdown",
   "metadata": {},
   "source": [
    "### Knowing Whether a File Exists or Not."
   ]
  },
  {
   "cell_type": "code",
   "execution_count": 5,
   "metadata": {},
   "outputs": [
    {
     "name": "stdout",
     "output_type": "stream",
     "text": [
      "Enter filename: myfile.txt\n",
      "The file contents are: \n",
      "This is my file line one.\n",
      "This is line two\n",
      "This line is added.\n",
      "\n"
     ]
    }
   ],
   "source": [
    "#A Python program to know whether a file exists or not.\n",
    "#Checking if file exists and then reading data.\n",
    "import os, sys\n",
    "\n",
    "#open the file for reading data.\n",
    "fname = input('Enter filename: ')\n",
    "\n",
    "if os.path.isfile(fname):\n",
    "    f = open(fname, 'r')\n",
    "else:\n",
    "    print(fname+ ' does not exist')\n",
    "    sys.exit()\n",
    "    \n",
    "#read strings from file\n",
    "print('The file contents are: ')\n",
    "str = f.read()\n",
    "print(str)\n",
    "\n",
    "#closing the file\n",
    "f.close()"
   ]
  },
  {
   "cell_type": "code",
   "execution_count": 7,
   "metadata": {},
   "outputs": [
    {
     "name": "stdout",
     "output_type": "stream",
     "text": [
      "Enter filename: myfile.txt\n",
      "No of lines:  3\n",
      "No of words:  14\n",
      "No of characters:  63\n"
     ]
    }
   ],
   "source": [
    "#A python program to count number of lines, words and characters in a text file.\n",
    "#counting number of lines, words and characters in a file.\n",
    "import os, sys\n",
    "\n",
    "#open the file for reading data\n",
    "fname = input(\"Enter filename: \")\n",
    "\n",
    "if os.path.isfile(fname):\n",
    "    f = open(fname, 'r')\n",
    "else:\n",
    "    print(fname+' does not exist')\n",
    "    sys.exit()\n",
    "    \n",
    "#initialize the counters to 0\n",
    "cl = cw = cc = 0\n",
    "\n",
    "#read line by line from the file\n",
    "for line in f:\n",
    "    words = line.split()\n",
    "    cl += 1\n",
    "    cw += len(words)\n",
    "    cc += len(line)\n",
    "    \n",
    "print('No of lines: ', cl)\n",
    "print('No of words: ', cw)\n",
    "print('No of characters: ', cc)\n",
    "\n",
    "#close the file\n",
    "f.close()"
   ]
  },
  {
   "cell_type": "markdown",
   "metadata": {},
   "source": [
    "### Working with Binary Files"
   ]
  },
  {
   "cell_type": "code",
   "execution_count": 9,
   "metadata": {},
   "outputs": [
    {
     "ename": "FileNotFoundError",
     "evalue": "[Errno 2] No such file or directory: 'cat.jpg'",
     "output_type": "error",
     "traceback": [
      "\u001b[1;31m---------------------------------------------------------------------------\u001b[0m",
      "\u001b[1;31mFileNotFoundError\u001b[0m                         Traceback (most recent call last)",
      "\u001b[1;32m<ipython-input-9-4d0e8fff6997>\u001b[0m in \u001b[0;36m<module>\u001b[1;34m\u001b[0m\n\u001b[0;32m      2\u001b[0m \u001b[1;31m#Copying an image into a file.\u001b[0m\u001b[1;33m\u001b[0m\u001b[1;33m\u001b[0m\u001b[1;33m\u001b[0m\u001b[0m\n\u001b[0;32m      3\u001b[0m \u001b[1;31m#open the file in binary mode.\u001b[0m\u001b[1;33m\u001b[0m\u001b[1;33m\u001b[0m\u001b[1;33m\u001b[0m\u001b[0m\n\u001b[1;32m----> 4\u001b[1;33m \u001b[0mf1\u001b[0m \u001b[1;33m=\u001b[0m \u001b[0mopen\u001b[0m\u001b[1;33m(\u001b[0m\u001b[1;34m'cat.jpg'\u001b[0m\u001b[1;33m,\u001b[0m \u001b[1;34m'rb'\u001b[0m\u001b[1;33m)\u001b[0m\u001b[1;33m\u001b[0m\u001b[1;33m\u001b[0m\u001b[0m\n\u001b[0m\u001b[0;32m      5\u001b[0m \u001b[0mf2\u001b[0m \u001b[1;33m=\u001b[0m \u001b[0mopen\u001b[0m\u001b[1;33m(\u001b[0m\u001b[1;34m'new.jpg'\u001b[0m\u001b[1;33m,\u001b[0m \u001b[1;34m'wb'\u001b[0m\u001b[1;33m)\u001b[0m\u001b[1;33m\u001b[0m\u001b[1;33m\u001b[0m\u001b[0m\n\u001b[0;32m      6\u001b[0m \u001b[1;33m\u001b[0m\u001b[0m\n",
      "\u001b[1;31mFileNotFoundError\u001b[0m: [Errno 2] No such file or directory: 'cat.jpg'"
     ]
    }
   ],
   "source": [
    "#A Python program to copy an image file into another file.\n",
    "#Copying an image into a file.\n",
    "#open the file in binary mode.\n",
    "f1 = open('cat.jpg', 'rb')\n",
    "f2 = open('new.jpg', 'wb')\n",
    "\n",
    "#Read bytes from f1 and write into f2\n",
    "bytes = f1.read()\n",
    "f2.write(bytes)\n",
    "\n",
    "#closing the files\n",
    "f1.close()\n",
    "f2.close()"
   ]
  },
  {
   "cell_type": "markdown",
   "metadata": {},
   "source": [
    "### The with statement"
   ]
  },
  {
   "cell_type": "code",
   "execution_count": 10,
   "metadata": {},
   "outputs": [],
   "source": [
    "#A Python program to use 'with' to open a file and write some strings into the file.\n",
    "#with statement to open a file\n",
    "with open('sample.txt', 'w') as f:\n",
    "    f.write('I am a learner\\n')\n",
    "    f.write('Python is attractive\\n')"
   ]
  },
  {
   "cell_type": "code",
   "execution_count": 11,
   "metadata": {},
   "outputs": [
    {
     "name": "stdout",
     "output_type": "stream",
     "text": [
      "I am a learner\n",
      "\n",
      "Python is attractive\n",
      "\n"
     ]
    }
   ],
   "source": [
    "#A Python program to use 'with' to open a file and read data from it.\n",
    "#using with statement to open a file.\n",
    "with open('sample.txt','r') as f:\n",
    "    for line in f:\n",
    "        print(line)"
   ]
  },
  {
   "cell_type": "markdown",
   "metadata": {},
   "source": [
    "### Pickle in Python"
   ]
  },
  {
   "cell_type": "code",
   "execution_count": 1,
   "metadata": {},
   "outputs": [
    {
     "name": "stdout",
     "output_type": "stream",
     "text": [
      "How many employees? 3\n",
      "Enter id: 100\n",
      "Enter name: Sai Kumar\n",
      "Enter salary: 9000.00\n",
      "Enter id: 101\n",
      "Enter name: Ravi Teja\n",
      "Enter salary: 8900.50\n",
      "Enter id: 102\n",
      "Enter name: Harsh deep\n",
      "Enter salary: 12000.75\n"
     ]
    }
   ],
   "source": [
    "#A Python program to pickle Emp class objects.\n",
    "#pickle - store Emp class objects into emp.dat file\n",
    "import Emp, pickle\n",
    "\n",
    "#open emp.dat file as a binary file for writing\n",
    "f = open('emp.dat', 'wb')\n",
    "n = int(input(\"How many employees? \"))\n",
    "\n",
    "for i in range(n):\n",
    "    id = int(input('Enter id: '))\n",
    "    name = input(\"Enter name: \")\n",
    "    sal = float(input(\"Enter salary: \"))\n",
    "    \n",
    "    #create Emp class object\n",
    "    e = Emp.Emp(id, name, sal)\n",
    "    \n",
    "    #store the object e into the file f\n",
    "    pickle.dump(e, f)\n",
    "    \n",
    "#close the file\n",
    "f.close()"
   ]
  },
  {
   "cell_type": "code",
   "execution_count": 2,
   "metadata": {},
   "outputs": [
    {
     "name": "stdout",
     "output_type": "stream",
     "text": [
      "Employee details: \n",
      "  100 Sai Kumar               9000.00\n",
      "  101 Ravi Teja               8900.50\n",
      "  102 Harsh deep             12000.75\n",
      "End of file reached...\n"
     ]
    }
   ],
   "source": [
    "#A Python program to unpickle Emp class objects\n",
    "#unpickle or object de - serialization.\n",
    "import Emp, pickle\n",
    "\n",
    "#open the file to read objects\n",
    "f = open('emp.dat', 'rb')\n",
    "\n",
    "print('Employee details: ')\n",
    "while True:\n",
    "    try:\n",
    "        #read objects from file f\n",
    "        obj = pickle.load(f)\n",
    "        #display the contents of employee obj\n",
    "        obj.display()\n",
    "        \n",
    "    except EOFError:\n",
    "        print('End of file reached...')\n",
    "        break\n",
    "        \n",
    "#close the file\n",
    "f.close()"
   ]
  },
  {
   "cell_type": "markdown",
   "metadata": {},
   "source": [
    "### Random Accessing of Binary Files"
   ]
  },
  {
   "cell_type": "code",
   "execution_count": 3,
   "metadata": {},
   "outputs": [
    {
     "name": "stdout",
     "output_type": "stream",
     "text": [
      "How many entries? 4\n",
      "Enter city name: Delhi\n",
      "Enter city name: Hyderabad\n",
      "Enter city name: Pune\n",
      "Enter city name: Ahmedabad\n"
     ]
    }
   ],
   "source": [
    "#A Python program to create a binary file and store a few records.\n",
    "#create cities.bin file with cities names\n",
    "reclen = 20\n",
    "\n",
    "#open the file in wb mode as binary file.\n",
    "with open('cities.bin', 'wb') as f:\n",
    "    #write data into the file\n",
    "    n = int(input('How many entries? '))\n",
    "    \n",
    "    for i in range(n):\n",
    "        city = input(\"Enter city name: \")\n",
    "        #find the length of the city\n",
    "        ln = len(city)\n",
    "        #increase the city name to 20 chars\n",
    "        #by adding remaining spaces\n",
    "        city = city + (reclen - ln)*' '\n",
    "        #convert city name into byte string\n",
    "        city = city.encode()\n",
    "        #write the city name into the file\n",
    "        f.write(city)"
   ]
  },
  {
   "cell_type": "code",
   "execution_count": 4,
   "metadata": {},
   "outputs": [
    {
     "name": "stdout",
     "output_type": "stream",
     "text": [
      "Enter record number: 3\n",
      "Pune                \n"
     ]
    }
   ],
   "source": [
    "#A Python program to randomly access a record from a binary file\n",
    "#reading city name based on record numbers\n",
    "#take record length as 20 characters\n",
    "reclen = 20 \n",
    "\n",
    "#open the file in binary mode for reading\n",
    "with open('cities.bin', 'rb') as f:\n",
    "    n = int(input(\"Enter record number: \"))\n",
    "    #move the file pointer to the end of n-1 th record\n",
    "    f.seek(reclen * (n-1))\n",
    "    \n",
    "    #get the nth record with 20 chars\n",
    "    str = f.read(reclen)\n",
    "    #convert the bytes string into ordinary string.\n",
    "    print(str.decode())"
   ]
  },
  {
   "cell_type": "code",
   "execution_count": 3,
   "metadata": {},
   "outputs": [
    {
     "name": "stdout",
     "output_type": "stream",
     "text": [
      "size of file = 80 bytes\n",
      "No. of records = 4\n",
      "Enter city name: Pune\n"
     ]
    },
    {
     "ename": "ValueError",
     "evalue": "seek of closed file",
     "output_type": "error",
     "traceback": [
      "\u001b[1;31m---------------------------------------------------------------------------\u001b[0m",
      "\u001b[1;31mValueError\u001b[0m                                Traceback (most recent call last)",
      "\u001b[1;32m<ipython-input-3-003e29316ff3>\u001b[0m in \u001b[0;36m<module>\u001b[1;34m\u001b[0m\n\u001b[0;32m     29\u001b[0m \u001b[1;32mfor\u001b[0m \u001b[0mi\u001b[0m \u001b[1;32min\u001b[0m \u001b[0mrange\u001b[0m\u001b[1;33m(\u001b[0m\u001b[0mn\u001b[0m\u001b[1;33m)\u001b[0m\u001b[1;33m:\u001b[0m\u001b[1;33m\u001b[0m\u001b[1;33m\u001b[0m\u001b[0m\n\u001b[0;32m     30\u001b[0m     \u001b[1;31m#place the file pointer at position\u001b[0m\u001b[1;33m\u001b[0m\u001b[1;33m\u001b[0m\u001b[1;33m\u001b[0m\u001b[0m\n\u001b[1;32m---> 31\u001b[1;33m     \u001b[0mf\u001b[0m\u001b[1;33m.\u001b[0m\u001b[0mseek\u001b[0m\u001b[1;33m(\u001b[0m\u001b[0mposition\u001b[0m\u001b[1;33m)\u001b[0m\u001b[1;33m\u001b[0m\u001b[1;33m\u001b[0m\u001b[0m\n\u001b[0m\u001b[0;32m     32\u001b[0m     \u001b[1;31m#read 20 characters\u001b[0m\u001b[1;33m\u001b[0m\u001b[1;33m\u001b[0m\u001b[1;33m\u001b[0m\u001b[0m\n\u001b[0;32m     33\u001b[0m     \u001b[0mstr\u001b[0m \u001b[1;33m=\u001b[0m \u001b[0mf\u001b[0m\u001b[1;33m.\u001b[0m\u001b[0mread\u001b[0m\u001b[1;33m(\u001b[0m\u001b[1;36m20\u001b[0m\u001b[1;33m)\u001b[0m\u001b[1;33m\u001b[0m\u001b[1;33m\u001b[0m\u001b[0m\n",
      "\u001b[1;31mValueError\u001b[0m: seek of closed file"
     ]
    }
   ],
   "source": [
    "#A Python program to search for city name in the file and display the record number that contains the city name.\n",
    "#Searching the city name in the file.\n",
    "import os\n",
    "\n",
    "#take record length as 20 characters\n",
    "reclen = 20\n",
    "\n",
    "#find size of the file\n",
    "size = os.path.getsize('cities.bin')\n",
    "print('size of file = {} bytes'.format(size))\n",
    "\n",
    "#find number of records in the file\n",
    "n = int(size/reclen)\n",
    "print('No. of records = {}'.format(n))\n",
    "\n",
    "#open the file in binary mode for reading\n",
    "with open('cities.bin', 'rb') as f:\n",
    "    name = input('Enter city name: ')\n",
    "    #convert name into binary string\n",
    "    name = name.encode()\n",
    "    \n",
    "    #position represents the position of the pointer\n",
    "    position = 0 \n",
    "    \n",
    "    #found becomes True if city is found in the file\n",
    "    found = False\n",
    "    \n",
    "#repeat for n records in the file\n",
    "for i in range(n):\n",
    "    #place the file pointer at position\n",
    "    f.seek(position)\n",
    "    #read 20 characters\n",
    "    str = f.read(20)\n",
    "    #if found\n",
    "    if name in str:\n",
    "        print('Found at record no: ', (i+1))\n",
    "        found = True\n",
    "    #go to the next record\n",
    "    position += reclen\n",
    "    \n",
    "if not found:\n",
    "    print('city not found')"
   ]
  },
  {
   "cell_type": "code",
   "execution_count": 4,
   "metadata": {},
   "outputs": [
    {
     "name": "stdout",
     "output_type": "stream",
     "text": [
      "size of the file = 80 bytes\n",
      "No. of records = 4\n",
      "Enter city name: Hyderabad\n",
      "Enter new name: Bangalore\n",
      "Updated record no:  2\n"
     ]
    }
   ],
   "source": [
    "#A Python program to update or modify a record in a binary file.\n",
    "#updating the city name in the file\n",
    "import os\n",
    "\n",
    "#take record length as 20 characters\n",
    "reclen = 20\n",
    "\n",
    "#find size of the file\n",
    "size = os.path.getsize('cities.bin')\n",
    "print('size of the file = {} bytes'.format(size))\n",
    "\n",
    "#find number of records in the file\n",
    "n = int(size/reclen)\n",
    "print('No. of records = {}'.format(n))\n",
    "\n",
    "#Open the file in binary mode for reading\n",
    "with open('cities.bin', 'r+b') as f:\n",
    "    name = input('Enter city name: ')\n",
    "    #convert name into binary string\n",
    "    name = name.encode()\n",
    "    \n",
    "    newname = input(\"Enter new name: \")\n",
    "    #find length of newname\n",
    "    ln = len(newname)\n",
    "    #add spaces to make its length to be 20\n",
    "    newname = newname+ (20-ln)*' '\n",
    "    #convert newname into binary string\n",
    "    newname = newname.encode()\n",
    "    \n",
    "    #position represents the position of file pointer\n",
    "    position = 0\n",
    "    \n",
    "    #found becomes True if city is found in the file\n",
    "    found = False\n",
    "    \n",
    "    #repeat for n records in the file\n",
    "    for i in range(n):\n",
    "        #Place the file pointer at position\n",
    "        f.seek(position)\n",
    "        #read 20 characters\n",
    "        str = f.read(20)\n",
    "        #if found\n",
    "        if name in str:\n",
    "            print('Updated record no: ', (i+1))\n",
    "            found = True\n",
    "            #go back 20 bytes from current position\n",
    "            f.seek(-20, 1)\n",
    "            #update the record\n",
    "            f.write(newname)\n",
    "            \n",
    "        #go to the next record\n",
    "        position += reclen\n",
    "        \n",
    "    if not found:\n",
    "        print('City not found')"
   ]
  },
  {
   "cell_type": "code",
   "execution_count": 6,
   "metadata": {},
   "outputs": [
    {
     "name": "stdout",
     "output_type": "stream",
     "text": [
      "Enter city name to delete: Bangalore\n",
      "Record deleted....\n"
     ]
    }
   ],
   "source": [
    "#A Python program to delete a specific record from the binary file.\n",
    "#Deleting a record from the file\n",
    "import os\n",
    "\n",
    "#take record length as 20 characters\n",
    "reclen = 20\n",
    "\n",
    "#find size of the file\n",
    "size = os.path.getsize('cities.bin')\n",
    "\n",
    "#find number of records in the file\n",
    "n = int(size/reclen)\n",
    "\n",
    "#open the cities.bin for reading\n",
    "f1 = open('cities.bin', 'rb')\n",
    "\n",
    "#open file2.bin for writing\n",
    "f2 = open('file2.bin', 'wb')\n",
    "\n",
    "#accept city name from keyboard\n",
    "city = input('Enter city name to delete: ')\n",
    "\n",
    "#add spaces so that it will have 20 characters length\n",
    "ln = len(city)\n",
    "city = city+(reclen-ln)*' '\n",
    "\n",
    "#covert city name to binary string\n",
    "city = city.encode()\n",
    "\n",
    "#repeat for all the n records\n",
    "for i in range(n):\n",
    "    #read one record from f1 file\n",
    "    str = f1.read(reclen)\n",
    "    #if it is not the city name, store into f2 file\n",
    "    if (str != city):\n",
    "        f2.write(str)\n",
    "        \n",
    "print(\"Record deleted....\")\n",
    "\n",
    "#close the file\n",
    "f1.close()\n",
    "f2.close()\n",
    "\n",
    "#delete the cities.bin file\n",
    "os.remove('cities.bin')\n",
    "\n",
    "#rename file2.bin as cities.bin\n",
    "os.rename('file2.bin', 'cities.bin')"
   ]
  },
  {
   "cell_type": "code",
   "execution_count": 7,
   "metadata": {},
   "outputs": [
    {
     "name": "stdout",
     "output_type": "stream",
     "text": [
      "How many entries? 3\n",
      "Enter name: Sachin\n",
      "Enter phone no: 9901292356\n",
      "Enter name: Appa\n",
      "Enter phone no: 9632075625\n",
      "Enter name: Ajji\n",
      "Enter phone no: 9632302602\n"
     ]
    }
   ],
   "source": [
    "#A Python program to create phone book with names and phone numbers\n",
    "#Create phonebook .dat file\n",
    "with open(\"phonebook.dat\", \"wb\") as f:\n",
    "    #write data into the file\n",
    "    n = int(input(\"How many entries? \"))\n",
    "    \n",
    "    for i in range(n):\n",
    "        name = input(\"Enter name: \")\n",
    "        phone = input(\"Enter phone no: \")\n",
    "        #convert name and phone from strings to bytes\n",
    "        name = name.encode()\n",
    "        phone = phone.encode()\n",
    "        #write the data into the file\n",
    "        f.write(name+phone)"
   ]
  },
  {
   "cell_type": "code",
   "execution_count": 9,
   "metadata": {},
   "outputs": [
    {
     "name": "stdout",
     "output_type": "stream",
     "text": [
      "1 to display all the entries\n",
      "2 to display phone number\n",
      "3 to modify an entry\n",
      "4 exit\n",
      "Your choice: 2\n",
      "Enter name: Sachin\n",
      "Phone no:  9901292356\n"
     ]
    }
   ],
   "source": [
    "#A Python program to use mmap and performing various operations on a binary file.\n",
    "#using mmap on a binary file.\n",
    "import mmap, sys\n",
    "\n",
    "#display a menu\n",
    "print('1 to display all the entries')\n",
    "print('2 to display phone number')\n",
    "print('3 to modify an entry')\n",
    "print('4 exit')\n",
    "ch = input('Your choice: ')\n",
    "if ch == 4:\n",
    "    sys.exit()\n",
    "    \n",
    "with open('phonebook.dat', 'r+b') as f:\n",
    "    \n",
    "    #memory-map the file, size 0 means whole file\n",
    "    mm = mmap.mmap(f.fileno(), 0)\n",
    "    \n",
    "    #display the entire file\n",
    "    if (ch == '1'):\n",
    "        print(mm.read().decode())\n",
    "        \n",
    "    #display phone number\n",
    "    if (ch == '2'):\n",
    "        name = input('Enter name: ')\n",
    "        #find position of name\n",
    "        n = mm.find(name.encode())\n",
    "        #go to end of name\n",
    "        n1 = n+len(name)\n",
    "        #display the next 10 bytes\n",
    "        ph = mm[n1: n1+10]\n",
    "        print('Phone no: ', ph.decode())\n",
    "        \n",
    "    #modify phone number\n",
    "    if (ch == '3'):\n",
    "        name = input('Enter name: ')\n",
    "        #find position of name\n",
    "        n = mm.find(name.encode())\n",
    "        #go to end of name\n",
    "        n1 = n + len(name)\n",
    "        #enter new phone number\n",
    "        ph1 = input(\"Enter new phone number: \")\n",
    "        #the old phone number is 10 bytes after n1\n",
    "        mm[n1: n1+10] = ph1.encode()\n",
    "        \n",
    "    #close the map\n",
    "    mm.close()"
   ]
  },
  {
   "cell_type": "markdown",
   "metadata": {},
   "source": [
    "### Zipping and Unzipping Files"
   ]
  },
  {
   "cell_type": "code",
   "execution_count": 5,
   "metadata": {},
   "outputs": [
    {
     "ename": "NotImplementedError",
     "evalue": "That compression method is not supported",
     "output_type": "error",
     "traceback": [
      "\u001b[1;31m---------------------------------------------------------------------------\u001b[0m",
      "\u001b[1;31mNotImplementedError\u001b[0m                       Traceback (most recent call last)",
      "\u001b[1;32m<ipython-input-5-d16c79564d07>\u001b[0m in \u001b[0;36m<module>\u001b[1;34m\u001b[0m\n\u001b[0;32m      4\u001b[0m \u001b[1;33m\u001b[0m\u001b[0m\n\u001b[0;32m      5\u001b[0m \u001b[1;31m#Create zipfile\u001b[0m\u001b[1;33m\u001b[0m\u001b[1;33m\u001b[0m\u001b[1;33m\u001b[0m\u001b[0m\n\u001b[1;32m----> 6\u001b[1;33m \u001b[0mf\u001b[0m \u001b[1;33m=\u001b[0m \u001b[0mZipFile\u001b[0m\u001b[1;33m(\u001b[0m\u001b[1;34m'test.Zip'\u001b[0m\u001b[1;33m,\u001b[0m \u001b[1;34m'w'\u001b[0m\u001b[1;33m,\u001b[0m \u001b[1;34m'ZIP_DEFLATED'\u001b[0m\u001b[1;33m)\u001b[0m\u001b[1;33m\u001b[0m\u001b[1;33m\u001b[0m\u001b[0m\n\u001b[0m\u001b[0;32m      7\u001b[0m \u001b[1;33m\u001b[0m\u001b[0m\n\u001b[0;32m      8\u001b[0m \u001b[1;31m#add some files. these are zipped\u001b[0m\u001b[1;33m\u001b[0m\u001b[1;33m\u001b[0m\u001b[1;33m\u001b[0m\u001b[0m\n",
      "\u001b[1;32m~\\anaconda3\\lib\\zipfile.py\u001b[0m in \u001b[0;36m__init__\u001b[1;34m(self, file, mode, compression, allowZip64, compresslevel, strict_timestamps)\u001b[0m\n\u001b[0;32m   1223\u001b[0m             \u001b[1;32mraise\u001b[0m \u001b[0mValueError\u001b[0m\u001b[1;33m(\u001b[0m\u001b[1;34m\"ZipFile requires mode 'r', 'w', 'x', or 'a'\"\u001b[0m\u001b[1;33m)\u001b[0m\u001b[1;33m\u001b[0m\u001b[1;33m\u001b[0m\u001b[0m\n\u001b[0;32m   1224\u001b[0m \u001b[1;33m\u001b[0m\u001b[0m\n\u001b[1;32m-> 1225\u001b[1;33m         \u001b[0m_check_compression\u001b[0m\u001b[1;33m(\u001b[0m\u001b[0mcompression\u001b[0m\u001b[1;33m)\u001b[0m\u001b[1;33m\u001b[0m\u001b[1;33m\u001b[0m\u001b[0m\n\u001b[0m\u001b[0;32m   1226\u001b[0m \u001b[1;33m\u001b[0m\u001b[0m\n\u001b[0;32m   1227\u001b[0m         \u001b[0mself\u001b[0m\u001b[1;33m.\u001b[0m\u001b[0m_allowZip64\u001b[0m \u001b[1;33m=\u001b[0m \u001b[0mallowZip64\u001b[0m\u001b[1;33m\u001b[0m\u001b[1;33m\u001b[0m\u001b[0m\n",
      "\u001b[1;32m~\\anaconda3\\lib\\zipfile.py\u001b[0m in \u001b[0;36m_check_compression\u001b[1;34m(compression)\u001b[0m\n\u001b[0;32m    698\u001b[0m                 \"Compression requires the (missing) lzma module\")\n\u001b[0;32m    699\u001b[0m     \u001b[1;32melse\u001b[0m\u001b[1;33m:\u001b[0m\u001b[1;33m\u001b[0m\u001b[1;33m\u001b[0m\u001b[0m\n\u001b[1;32m--> 700\u001b[1;33m         \u001b[1;32mraise\u001b[0m \u001b[0mNotImplementedError\u001b[0m\u001b[1;33m(\u001b[0m\u001b[1;34m\"That compression method is not supported\"\u001b[0m\u001b[1;33m)\u001b[0m\u001b[1;33m\u001b[0m\u001b[1;33m\u001b[0m\u001b[0m\n\u001b[0m\u001b[0;32m    701\u001b[0m \u001b[1;33m\u001b[0m\u001b[0m\n\u001b[0;32m    702\u001b[0m \u001b[1;33m\u001b[0m\u001b[0m\n",
      "\u001b[1;31mNotImplementedError\u001b[0m: That compression method is not supported"
     ]
    }
   ],
   "source": [
    "#A Python program to compress the contents of files.\n",
    "#Zipping the contents are.\n",
    "from zipfile import *\n",
    "\n",
    "#Create zipfile\n",
    "f = ZipFile('test.Zip', 'w', 'ZIP_DEFLATED')\n",
    "\n",
    "#add some files. these are zipped\n",
    "f.write('file1.txt')\n",
    "f.write('file2.txt')\n",
    "f.write('file3.txt')\n",
    "\n",
    "#close the zip file\n",
    "print('test.zip file created...')\n",
    "f.close()"
   ]
  },
  {
   "cell_type": "code",
   "execution_count": 6,
   "metadata": {},
   "outputs": [
    {
     "ename": "FileNotFoundError",
     "evalue": "[Errno 2] No such file or directory: 'test.zip'",
     "output_type": "error",
     "traceback": [
      "\u001b[1;31m---------------------------------------------------------------------------\u001b[0m",
      "\u001b[1;31mFileNotFoundError\u001b[0m                         Traceback (most recent call last)",
      "\u001b[1;32m<ipython-input-6-35243f796782>\u001b[0m in \u001b[0;36m<module>\u001b[1;34m\u001b[0m\n\u001b[0;32m      4\u001b[0m \u001b[1;33m\u001b[0m\u001b[0m\n\u001b[0;32m      5\u001b[0m \u001b[1;31m#open the zip file\u001b[0m\u001b[1;33m\u001b[0m\u001b[1;33m\u001b[0m\u001b[1;33m\u001b[0m\u001b[0m\n\u001b[1;32m----> 6\u001b[1;33m \u001b[0mZ\u001b[0m \u001b[1;33m=\u001b[0m \u001b[0mZipFile\u001b[0m\u001b[1;33m(\u001b[0m\u001b[1;34m'test.zip'\u001b[0m\u001b[1;33m,\u001b[0m \u001b[1;34m'r'\u001b[0m\u001b[1;33m)\u001b[0m\u001b[1;33m\u001b[0m\u001b[1;33m\u001b[0m\u001b[0m\n\u001b[0m\u001b[0;32m      7\u001b[0m \u001b[1;33m\u001b[0m\u001b[0m\n\u001b[0;32m      8\u001b[0m \u001b[1;31m#extract all the file names which are in the zip file.\u001b[0m\u001b[1;33m\u001b[0m\u001b[1;33m\u001b[0m\u001b[1;33m\u001b[0m\u001b[0m\n",
      "\u001b[1;32m~\\anaconda3\\lib\\zipfile.py\u001b[0m in \u001b[0;36m__init__\u001b[1;34m(self, file, mode, compression, allowZip64, compresslevel, strict_timestamps)\u001b[0m\n\u001b[0;32m   1249\u001b[0m             \u001b[1;32mwhile\u001b[0m \u001b[1;32mTrue\u001b[0m\u001b[1;33m:\u001b[0m\u001b[1;33m\u001b[0m\u001b[1;33m\u001b[0m\u001b[0m\n\u001b[0;32m   1250\u001b[0m                 \u001b[1;32mtry\u001b[0m\u001b[1;33m:\u001b[0m\u001b[1;33m\u001b[0m\u001b[1;33m\u001b[0m\u001b[0m\n\u001b[1;32m-> 1251\u001b[1;33m                     \u001b[0mself\u001b[0m\u001b[1;33m.\u001b[0m\u001b[0mfp\u001b[0m \u001b[1;33m=\u001b[0m \u001b[0mio\u001b[0m\u001b[1;33m.\u001b[0m\u001b[0mopen\u001b[0m\u001b[1;33m(\u001b[0m\u001b[0mfile\u001b[0m\u001b[1;33m,\u001b[0m \u001b[0mfilemode\u001b[0m\u001b[1;33m)\u001b[0m\u001b[1;33m\u001b[0m\u001b[1;33m\u001b[0m\u001b[0m\n\u001b[0m\u001b[0;32m   1252\u001b[0m                 \u001b[1;32mexcept\u001b[0m \u001b[0mOSError\u001b[0m\u001b[1;33m:\u001b[0m\u001b[1;33m\u001b[0m\u001b[1;33m\u001b[0m\u001b[0m\n\u001b[0;32m   1253\u001b[0m                     \u001b[1;32mif\u001b[0m \u001b[0mfilemode\u001b[0m \u001b[1;32min\u001b[0m \u001b[0mmodeDict\u001b[0m\u001b[1;33m:\u001b[0m\u001b[1;33m\u001b[0m\u001b[1;33m\u001b[0m\u001b[0m\n",
      "\u001b[1;31mFileNotFoundError\u001b[0m: [Errno 2] No such file or directory: 'test.zip'"
     ]
    }
   ],
   "source": [
    "#A Python program to unzip the contents of the files that are available in a zip file.\n",
    "#To view contents of zipped files\n",
    "from zipfile import *\n",
    "\n",
    "#open the zip file\n",
    "Z = ZipFile('test.zip', 'r')\n",
    "\n",
    "#extract all the file names which are in the zip file.\n",
    "z.extractall()"
   ]
  },
  {
   "cell_type": "markdown",
   "metadata": {},
   "source": [
    "### Working with Directories"
   ]
  },
  {
   "cell_type": "code",
   "execution_count": 7,
   "metadata": {},
   "outputs": [
    {
     "name": "stdout",
     "output_type": "stream",
     "text": [
      "Current directory=  C:\\Users\\HP\\Books\\Core Python Programming\\C17 - Files in Python\n"
     ]
    }
   ],
   "source": [
    "#A Python program to know the current working directory.\n",
    "import os\n",
    "#get current working directory\n",
    "current = os.getcwd()\n",
    "print('Current directory= ', current)"
   ]
  },
  {
   "cell_type": "code",
   "execution_count": 8,
   "metadata": {},
   "outputs": [],
   "source": [
    "#A Python program to create a sub directory and then sub-sub directory in the current directory.\n",
    "import os\n",
    "#create a sub directory by the name mysub\n",
    "os.mkdir('mysub')\n",
    "\n",
    "#Create a sub-sub directory by the name mysub2\n",
    "os.mkdir('mysub/mysub2')"
   ]
  },
  {
   "cell_type": "code",
   "execution_count": 9,
   "metadata": {},
   "outputs": [],
   "source": [
    "#A Python program to use the makedirs() function to create sub and sub-sub directories.\n",
    "import os\n",
    "#Create sub and sub-sub directories\n",
    "os.makedirs('newsub/newsub2')"
   ]
  },
  {
   "cell_type": "code",
   "execution_count": 10,
   "metadata": {},
   "outputs": [
    {
     "name": "stdout",
     "output_type": "stream",
     "text": [
      "current directory=  C:\\Users\\HP\\Books\\Core Python Programming\\C17 - Files in Python\\newsub\\newsub2\n"
     ]
    }
   ],
   "source": [
    "#A Python program to change to another directory.\n",
    "import os\n",
    "#Change to newsub2 directory\n",
    "goto = os.chdir('newsub/newsub2')\n",
    "\n",
    "#get current working directory\n",
    "current = os.getcwd()\n",
    "print('current directory= ', current)"
   ]
  },
  {
   "cell_type": "code",
   "execution_count": 1,
   "metadata": {},
   "outputs": [],
   "source": [
    "#A Python program to remove a sub directory that is inside another directory.\n",
    "import os\n",
    "#to remove newsub2 directory\n",
    "os.rmdir('newsub/newsub2')"
   ]
  },
  {
   "cell_type": "code",
   "execution_count": 1,
   "metadata": {},
   "outputs": [],
   "source": [
    "#A Python program to remove a group of directories in the path.\n",
    "import os \n",
    "#to remove musub3, mysub2 and then mysub\n",
    "os.removedirs('mysub/mysub2')"
   ]
  },
  {
   "cell_type": "code",
   "execution_count": 1,
   "metadata": {},
   "outputs": [
    {
     "ename": "FileNotFoundError",
     "evalue": "[WinError 2] The system cannot find the file specified: 'enum' -> 'newenum'",
     "output_type": "error",
     "traceback": [
      "\u001b[1;31m---------------------------------------------------------------------------\u001b[0m",
      "\u001b[1;31mFileNotFoundError\u001b[0m                         Traceback (most recent call last)",
      "\u001b[1;32m<ipython-input-1-99c9849827bf>\u001b[0m in \u001b[0;36m<module>\u001b[1;34m\u001b[0m\n\u001b[0;32m      2\u001b[0m \u001b[1;32mimport\u001b[0m \u001b[0mos\u001b[0m\u001b[1;33m\u001b[0m\u001b[1;33m\u001b[0m\u001b[0m\n\u001b[0;32m      3\u001b[0m \u001b[1;31m#to rename enum as newenum\u001b[0m\u001b[1;33m\u001b[0m\u001b[1;33m\u001b[0m\u001b[1;33m\u001b[0m\u001b[0m\n\u001b[1;32m----> 4\u001b[1;33m \u001b[0mos\u001b[0m\u001b[1;33m.\u001b[0m\u001b[0mrename\u001b[0m\u001b[1;33m(\u001b[0m\u001b[1;34m'enum'\u001b[0m\u001b[1;33m,\u001b[0m \u001b[1;34m'newenum'\u001b[0m\u001b[1;33m)\u001b[0m\u001b[1;33m\u001b[0m\u001b[1;33m\u001b[0m\u001b[0m\n\u001b[0m",
      "\u001b[1;31mFileNotFoundError\u001b[0m: [WinError 2] The system cannot find the file specified: 'enum' -> 'newenum'"
     ]
    }
   ],
   "source": [
    "#A Python program to rename a directory\n",
    "import os\n",
    "#to rename enum as newenum\n",
    "os.rename('enum', 'newenum')"
   ]
  },
  {
   "cell_type": "code",
   "execution_count": 3,
   "metadata": {},
   "outputs": [
    {
     "name": "stdout",
     "output_type": "stream",
     "text": [
      "Current path:  .\n",
      "Directories:  ['.ipynb_checkpoints', 'newsub', '__pycache__']\n",
      "Files:  ['cities.bin', 'emp.dat', 'Emp.py', 'myfile.txt', 'phonebook.dat', 'sample.txt', 'Untitled.ipynb', 'Zipfile']\n",
      "\n",
      "Current path:  .\\.ipynb_checkpoints\n",
      "Directories:  []\n",
      "Files:  ['Untitled-checkpoint.ipynb']\n",
      "\n",
      "Current path:  .\\newsub\n",
      "Directories:  []\n",
      "Files:  []\n",
      "\n",
      "Current path:  .\\__pycache__\n",
      "Directories:  []\n",
      "Files:  ['Emp.cpython-38.pyc']\n",
      "\n"
     ]
    }
   ],
   "source": [
    "#A Python program to display all contents of the current directory.\n",
    "import os\n",
    "for dirpath, dirnames, filenames in os.walk('.'):\n",
    "    print('Current path: ', dirpath)\n",
    "    print('Directories: ', dirnames)\n",
    "    print('Files: ', filenames)\n",
    "    print()"
   ]
  },
  {
   "cell_type": "markdown",
   "metadata": {},
   "source": [
    "### Running Other Programs from Python Program."
   ]
  },
  {
   "cell_type": "code",
   "execution_count": 4,
   "metadata": {},
   "outputs": [
    {
     "data": {
      "text/plain": [
       "0"
      ]
     },
     "execution_count": 4,
     "metadata": {},
     "output_type": "execute_result"
    }
   ],
   "source": [
    "#A Python program to display Python program files available in the current directory.\n",
    "import os\n",
    "#Execute dir command of DOS operating system.\n",
    "os.system('dir *.py')"
   ]
  },
  {
   "cell_type": "code",
   "execution_count": null,
   "metadata": {},
   "outputs": [],
   "source": []
  }
 ],
 "metadata": {
  "kernelspec": {
   "display_name": "Python 3",
   "language": "python",
   "name": "python3"
  },
  "language_info": {
   "codemirror_mode": {
    "name": "ipython",
    "version": 3
   },
   "file_extension": ".py",
   "mimetype": "text/x-python",
   "name": "python",
   "nbconvert_exporter": "python",
   "pygments_lexer": "ipython3",
   "version": "3.8.5"
  }
 },
 "nbformat": 4,
 "nbformat_minor": 4
}
