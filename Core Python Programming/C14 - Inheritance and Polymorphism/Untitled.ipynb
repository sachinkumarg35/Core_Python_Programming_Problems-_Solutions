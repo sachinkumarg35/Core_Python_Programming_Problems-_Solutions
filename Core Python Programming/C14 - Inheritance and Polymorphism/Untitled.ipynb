{
 "cells": [
  {
   "cell_type": "code",
   "execution_count": 1,
   "metadata": {},
   "outputs": [
    {
     "name": "stdout",
     "output_type": "stream",
     "text": [
      "id=  10\n",
      "name=  Prakash\n",
      "address=  HNO-10, Rajouri gardens, Delhi\n",
      "salary=  25000.5\n"
     ]
    }
   ],
   "source": [
    "#A python program to use the Teacher class.\n",
    "#save this code as inh.py file\n",
    "from teacher import Teacher\n",
    "#create instance\n",
    "t = Teacher()\n",
    "\n",
    "#store data into the instance\n",
    "t.setid(10)\n",
    "t.setname('Prakash')\n",
    "t.setaddress('HNO-10, Rajouri gardens, Delhi')\n",
    "t.setsalary(25000.50)\n",
    "\n",
    "#retrieve data from instance and display\n",
    "print('id= ', t.getid())\n",
    "print('name= ', t.getname())\n",
    "print('address= ', t.getaddress())\n",
    "print('salary= ', t.getsalary())"
   ]
  },
  {
   "cell_type": "code",
   "execution_count": 2,
   "metadata": {},
   "outputs": [
    {
     "name": "stdout",
     "output_type": "stream",
     "text": [
      "id=  100\n",
      "name=  Rakesh\n",
      "address=  HNO-22, Ameerpet, Hyderabad\n",
      "marks=  970\n"
     ]
    }
   ],
   "source": [
    "#save this code as inh.py\n",
    "#using Student class\n",
    "from student import Student\n",
    "#create instance\n",
    "s = Student()\n",
    "\n",
    "#store data into the instance\n",
    "s.setid(100)\n",
    "s.setname('Rakesh')\n",
    "s.setaddress('HNO-22, Ameerpet, Hyderabad')\n",
    "s.setmarks(970)\n",
    "\n",
    "#retrieve data from instance and display\n",
    "print('id= ', s.getid())\n",
    "print('name= ', s.getname())\n",
    "print('address= ', s.getaddress())\n",
    "print('marks= ', s.getmarks())"
   ]
  },
  {
   "cell_type": "markdown",
   "metadata": {},
   "source": [
    "### Constructors in Inheritance"
   ]
  },
  {
   "cell_type": "code",
   "execution_count": 3,
   "metadata": {},
   "outputs": [
    {
     "name": "stdout",
     "output_type": "stream",
     "text": [
      "Father's property=  800000.0\n"
     ]
    }
   ],
   "source": [
    "#A python program to access the base class constructor from sub class.\n",
    "#base class constructor is available to sub class\n",
    "class Father:\n",
    "    def __init__(self):\n",
    "        self.property = 800000.00\n",
    "        \n",
    "    def display_property(self):\n",
    "        print('Father\\'s property= ', self.property)\n",
    "        \n",
    "class Son(Father):\n",
    "    pass #we do not want to write anything in the sub class \n",
    "\n",
    "#create sub class instance and display father's property\n",
    "s = Son()\n",
    "s.display_property()"
   ]
  },
  {
   "cell_type": "markdown",
   "metadata": {},
   "source": [
    "### Overriding Super Class Constructors and Methods"
   ]
  },
  {
   "cell_type": "code",
   "execution_count": 4,
   "metadata": {},
   "outputs": [
    {
     "name": "stdout",
     "output_type": "stream",
     "text": [
      "Child's property=  200000.0\n"
     ]
    }
   ],
   "source": [
    "#A python program to override superclass constructor and method in subclass.\n",
    "#overriding the base class constructor and method in sub class.\n",
    "class Father:\n",
    "    def __init__(self):\n",
    "        self.property = 800000.00\n",
    "        \n",
    "    def display_property(self):\n",
    "        print('Father\\'s property= ', self.property)\n",
    "        \n",
    "class Son(Father):\n",
    "    def __init__(self):\n",
    "        self.property = 200000.00\n",
    "        \n",
    "    def display_property(self):\n",
    "        print('Child\\'s property= ', self.property)\n",
    "        \n",
    "#create sub class instance and display father's property\n",
    "s = Son()\n",
    "s.display_property()"
   ]
  },
  {
   "cell_type": "markdown",
   "metadata": {},
   "source": [
    "### The super() Method"
   ]
  },
  {
   "cell_type": "code",
   "execution_count": 5,
   "metadata": {},
   "outputs": [
    {
     "name": "stdout",
     "output_type": "stream",
     "text": [
      "Total property of child=  1000000.0\n"
     ]
    }
   ],
   "source": [
    "#A python program to call the super class constructor in the sub class super().\n",
    "#accesing base class constructor in sub class\n",
    "class Father:\n",
    "    def __init__(self, property=0):\n",
    "        self.property = property\n",
    "        \n",
    "    def display_property(self):\n",
    "        print('Father\\'s property= ', self.property)\n",
    "        \n",
    "class Son(Father):\n",
    "    def __init__(self, property1 = 0, property = 0):\n",
    "        super().__init__(property)\n",
    "        self.property1 = property1\n",
    "        \n",
    "    def display_property(self):\n",
    "        print('Total property of child= ', self.property1 + self.property)\n",
    "        \n",
    "#create sub class instance and display father's property\n",
    "s = Son(200000.00, 800000.00)\n",
    "s.display_property()"
   ]
  },
  {
   "cell_type": "code",
   "execution_count": 6,
   "metadata": {},
   "outputs": [
    {
     "name": "stdout",
     "output_type": "stream",
     "text": [
      "Enter two measurement: 10 5.5\n",
      "Area of square=  100.0\n",
      "Area of Rectangle=  55.0\n"
     ]
    }
   ],
   "source": [
    "#A python program to access base class constructor and method in the sub class using super().\n",
    "#Accessing base class constructor and method in the sub class\n",
    "class Square:\n",
    "    def __init__(self, x):\n",
    "        self.x =  x\n",
    "        \n",
    "    def area(self):\n",
    "        print('Area of square= ', self.x*self.x)\n",
    "        \n",
    "class Rectangle(Square):\n",
    "    def __init__(self, x, y):\n",
    "        super().__init__(x)\n",
    "        self.y = y\n",
    "        \n",
    "    def area(self):\n",
    "        super().area()\n",
    "        print('Area of Rectangle= ', self.x*self.y)\n",
    "        \n",
    "#find areas of square and rectangle\n",
    "a, b = [float(x) for x in input(\"Enter two measurement: \").split()]\n",
    "r = Rectangle(a, b)\n",
    "r.area()"
   ]
  },
  {
   "cell_type": "markdown",
   "metadata": {},
   "source": [
    "### Types of Inheritance\n",
    "#### Single Inheritance"
   ]
  },
  {
   "cell_type": "code",
   "execution_count": 8,
   "metadata": {},
   "outputs": [
    {
     "name": "stdout",
     "output_type": "stream",
     "text": [
      "100000000\n",
      "120000000\n"
     ]
    }
   ],
   "source": [
    "#A python program showing single inheritance in which two sub classes are derived from a single base class.\n",
    "#Single inheritance\n",
    "class Bank(object):\n",
    "    cash = 100000000\n",
    "    @classmethod\n",
    "    \n",
    "    def available_cash(cls):\n",
    "        print(cls.cash)\n",
    "        \n",
    "class AndhraBank(Bank):\n",
    "    pass\n",
    "\n",
    "class StateBank(Bank):\n",
    "    cash = 20000000\n",
    "    @classmethod\n",
    "    def available_cash(cls):\n",
    "        print(cls.cash+Bank.cash)\n",
    "        \n",
    "a = AndhraBank()\n",
    "a.available_cash()\n",
    "\n",
    "s = StateBank()\n",
    "s.available_cash()"
   ]
  },
  {
   "cell_type": "markdown",
   "metadata": {},
   "source": [
    "#### Multiple Inheritance"
   ]
  },
  {
   "cell_type": "code",
   "execution_count": 9,
   "metadata": {},
   "outputs": [
    {
     "name": "stdout",
     "output_type": "stream",
     "text": [
      "Child's inherited qualities: \n",
      "Height is 6.0 foot\n",
      "Color is brown\n"
     ]
    }
   ],
   "source": [
    "#A python program to implement multiple inheritance using two base classes.\n",
    "#multiple inheritance\n",
    "class Father:\n",
    "    def height(self):\n",
    "        print('Height is 6.0 foot')\n",
    "        \n",
    "class Mother:\n",
    "    def color(self):\n",
    "        print('Color is brown')\n",
    "        \n",
    "class Child(Father, Mother):\n",
    "    pass\n",
    "\n",
    "c = Child()\n",
    "print('Child\\'s inherited qualities: ')\n",
    "c.height()\n",
    "c.color()"
   ]
  },
  {
   "cell_type": "code",
   "execution_count": 11,
   "metadata": {},
   "outputs": [
    {
     "name": "stdout",
     "output_type": "stream",
     "text": [
      "c\n",
      "a\n"
     ]
    }
   ],
   "source": [
    "#A python program to prove that only one class constructor is available to sub class in multiple inheritance.\n",
    "#When super classes have constructors\n",
    "class A(object):\n",
    "    def __init__(self):\n",
    "        self.a = 'a'\n",
    "        print(self.a)\n",
    "        \n",
    "class B(object):\n",
    "    def __init__(self):\n",
    "        self.b = 'b'\n",
    "        print(self.b)\n",
    "        \n",
    "class C(A, B):\n",
    "    def __init__(self):\n",
    "        self.c = 'c'\n",
    "        print(self.c)\n",
    "        super().__init__()\n",
    "        \n",
    "#access the super class instance vars from c\n",
    "o = C() #o is object of class C"
   ]
  },
  {
   "cell_type": "code",
   "execution_count": 14,
   "metadata": {},
   "outputs": [
    {
     "name": "stdout",
     "output_type": "stream",
     "text": [
      "c\n",
      "a\n",
      "b\n"
     ]
    }
   ],
   "source": [
    "#A python program to access all the instances variables of both the base classes in multiple inheritance.\n",
    "#when super classes have constructors \n",
    "class A(object):\n",
    "    def __init__(self):\n",
    "        self.a = 'a'\n",
    "        print(self.a)\n",
    "        super().__init__()\n",
    "        \n",
    "class B(object):\n",
    "    def __init__(self):\n",
    "        self.b = 'b'\n",
    "        print(self.b)\n",
    "        super().__init__()\n",
    "        \n",
    "class C(A, B):\n",
    "    def __init__(self):\n",
    "        self.c = 'c'\n",
    "        print(self.c)\n",
    "        super().__init__()\n",
    "        \n",
    "#access the super class instance vars from c\n",
    "o = C() #o is object of class c"
   ]
  },
  {
   "cell_type": "markdown",
   "metadata": {},
   "source": [
    "### Method Resolution Order(MRO)"
   ]
  },
  {
   "cell_type": "code",
   "execution_count": 15,
   "metadata": {},
   "outputs": [
    {
     "name": "stdout",
     "output_type": "stream",
     "text": [
      "P class method\n",
      "X class method\n",
      "A class method\n",
      "Y class method\n",
      "B class method\n",
      "C class method\n"
     ]
    }
   ],
   "source": [
    "#A python program to understand the order of execution of methods in several base classes according to MRO.\n",
    "#multiple inheritance with several classes.\n",
    "class A(object):\n",
    "    def method(self):\n",
    "        print('A class method')\n",
    "        super().method()\n",
    "        \n",
    "class B(object):\n",
    "    def method(self):\n",
    "        print('B class method')\n",
    "        super().method()\n",
    "        \n",
    "class C(object):\n",
    "    def method(self):\n",
    "        print('C class method')\n",
    "        \n",
    "class X(A, B):\n",
    "    def method(self):\n",
    "        print('X class method')\n",
    "        super().method()\n",
    "        \n",
    "class Y(B, C):\n",
    "    def method(self):\n",
    "        print('Y class method')\n",
    "        super().method()\n",
    "        \n",
    "class P(X, Y, C):\n",
    "    def method(self):\n",
    "        print('P class method')\n",
    "        super().method()\n",
    "        \n",
    "p = P()\n",
    "p.method()"
   ]
  },
  {
   "cell_type": "code",
   "execution_count": null,
   "metadata": {},
   "outputs": [],
   "source": []
  },
  {
   "cell_type": "code",
   "execution_count": null,
   "metadata": {},
   "outputs": [],
   "source": []
  },
  {
   "cell_type": "code",
   "execution_count": 16,
   "metadata": {},
   "outputs": [
    {
     "name": "stdout",
     "output_type": "stream",
     "text": [
      "[<class '__main__.P'>, <class '__main__.X'>, <class '__main__.A'>, <class '__main__.Y'>, <class '__main__.B'>, <class '__main__.C'>, <class 'object'>]\n"
     ]
    }
   ],
   "source": [
    "print(P.mro())"
   ]
  },
  {
   "cell_type": "markdown",
   "metadata": {},
   "source": [
    "### Polymorphism\n",
    "#### Duck Typing Philosophy of Python"
   ]
  },
  {
   "cell_type": "code",
   "execution_count": 17,
   "metadata": {},
   "outputs": [
    {
     "name": "stdout",
     "output_type": "stream",
     "text": [
      "Quack, quack!\n",
      "Hello, hi!\n"
     ]
    }
   ],
   "source": [
    "#A python program to invoke a method on an object without knowing the type (or class) of the object.\n",
    "#duck typing example\n",
    "#Duck class contains talk() method\n",
    "class Duck:\n",
    "    def talk(self):\n",
    "        print('Quack, quack!')\n",
    "        \n",
    "#Human class contains talk() method\n",
    "class Human:\n",
    "    def talk(self):\n",
    "        print('Hello, hi!')\n",
    "        \n",
    "#this method accepts an objects and calls talk() method\n",
    "def call_talk(obj):\n",
    "    obj.talk()\n",
    "    \n",
    "#call call_talk() method and pass an object\n",
    "#depending on type of object, talk() method is executed\n",
    "x = Duck()\n",
    "call_talk(x)\n",
    "x = Human()\n",
    "call_talk(x)"
   ]
  },
  {
   "cell_type": "code",
   "execution_count": 15,
   "metadata": {},
   "outputs": [
    {
     "name": "stdout",
     "output_type": "stream",
     "text": [
      "Quack quack!\n",
      "Hello, hi!\n"
     ]
    }
   ],
   "source": [
    "#A Python program to invoke a method on an object without knowing the type (or class) of the object.\n",
    "class Duck():\n",
    "    def talk(self):\n",
    "        print(\"Quack quack!\")\n",
    "        \n",
    "#human class contains talk() method\n",
    "class Human:\n",
    "    def talk(self):\n",
    "        print(\"Hello, hi!\")\n",
    "        \n",
    "#this method accepts an objects and call talk() method\n",
    "def call_talk(obj):\n",
    "    obj.talk()\n",
    "    \n",
    "#call call_talk() method and pass an object\n",
    "#depending on type of object, talk() method is executed\n",
    "x = Duck()\n",
    "call_talk(x)\n",
    "x = Human()\n",
    "call_talk(x)"
   ]
  },
  {
   "cell_type": "code",
   "execution_count": 21,
   "metadata": {},
   "outputs": [
    {
     "name": "stdout",
     "output_type": "stream",
     "text": [
      "Quack quack!\n",
      "Hello, Hi!\n",
      "Hello, Hi!\n",
      "Bow, bow!\n"
     ]
    }
   ],
   "source": [
    "#A python program to check the object type to know whether the method exists in the object or not.\n",
    "#strong typing example.\n",
    "#Dog class contains bark() method\n",
    "class Dog:\n",
    "    def bark(self):\n",
    "        print('Bow, bow!')\n",
    "        \n",
    "#Duck class contains talk() method\n",
    "class Duck:\n",
    "    def talk(self):\n",
    "        print('Quack quack!')\n",
    "        \n",
    "#Human class contains talk() method\n",
    "class Human:\n",
    "    def talk(self):\n",
    "        print('Hello, Hi!')\n",
    "        \n",
    "#this method accepts an object and calls talk() method\n",
    "def call_talk(obj):\n",
    "    if hasattr(obj, 'talk'):\n",
    "        obj.talk()\n",
    "    elif hasattr(obj, 'bark'):\n",
    "        obj.bark()\n",
    "    else:\n",
    "        print('Wrong object passed.....')\n",
    "        \n",
    "#call call_talk() method and pass an object\n",
    "#depending on type of object, talk() method is executed\n",
    "x = Duck()\n",
    "call_talk(x)\n",
    "x = Human()\n",
    "call_talk(x)\n",
    "call_talk(x)\n",
    "x = Dog()\n",
    "call_talk(x)"
   ]
  },
  {
   "cell_type": "markdown",
   "metadata": {},
   "source": [
    "### Operator Overloading"
   ]
  },
  {
   "cell_type": "code",
   "execution_count": 22,
   "metadata": {},
   "outputs": [
    {
     "name": "stdout",
     "output_type": "stream",
     "text": [
      "25\n",
      "RedFort\n",
      "[10, 20, 30, 5, 15, -10]\n"
     ]
    }
   ],
   "source": [
    "#A python program to use addition operator to act on different types of objects.\n",
    "#overloading the + operator\n",
    "#using + on integers to add them\n",
    "print(10+15)\n",
    "\n",
    "#using + on strings to concatenate them\n",
    "s1 = \"Red\"\n",
    "s2 = \"Fort\"\n",
    "print(s1+s2)\n",
    "\n",
    "#using + on lists to make a sinle list\n",
    "a = [10, 20, 30]\n",
    "b = [5, 15, -10]\n",
    "print(a+b)"
   ]
  },
  {
   "cell_type": "code",
   "execution_count": 23,
   "metadata": {},
   "outputs": [
    {
     "name": "stdout",
     "output_type": "stream",
     "text": [
      "Total pages =  250\n"
     ]
    }
   ],
   "source": [
    "#A python program to overload the addition operator (+) to make it act an class objects.\n",
    "#overloading + operator to act on objects\n",
    "class BookX:\n",
    "    def __init__(self, pages):\n",
    "        self.pages = pages\n",
    "        \n",
    "    def __add__(self, other):\n",
    "        return self.pages + other.pages\n",
    "    \n",
    "class BookY:\n",
    "    def __init__(self, pages):\n",
    "        self.pages = pages\n",
    "        \n",
    "b1 = BookX(100)\n",
    "b2 = BookY(150)\n",
    "print('Total pages = ', b1+b2)"
   ]
  },
  {
   "cell_type": "code",
   "execution_count": 24,
   "metadata": {},
   "outputs": [
    {
     "name": "stdout",
     "output_type": "stream",
     "text": [
      "Mahabharat has more pages\n"
     ]
    }
   ],
   "source": [
    "#A python program to overload greater than(>) operator to make it act on class objects.\n",
    "#overloading > operator\n",
    "class Ramayan:\n",
    "    def __init__(self, pages):\n",
    "        self.pages = pages\n",
    "        \n",
    "    def __gt__(self, other):\n",
    "        return self.pages>other.pages\n",
    "    \n",
    "class Mahabharat:\n",
    "    def __init__(self, pages):\n",
    "        self.pages = pages\n",
    "        \n",
    "b1 = Ramayan(1000)\n",
    "b2 = Mahabharat(1500)\n",
    "if (b1>b2):\n",
    "    print('Ramayan has more pages')\n",
    "else:\n",
    "    print('Mahabharat has more pages')"
   ]
  },
  {
   "cell_type": "code",
   "execution_count": 25,
   "metadata": {},
   "outputs": [
    {
     "name": "stdout",
     "output_type": "stream",
     "text": [
      "This month salary=  12500.0\n"
     ]
    }
   ],
   "source": [
    "#A python program to overload the multiplication (*) operator to make it act on objects.\n",
    "#Overloading the * operator\n",
    "class Employee:\n",
    "    def __init__(self, name, salary):\n",
    "        self.name = name\n",
    "        self.salary = salary\n",
    "        \n",
    "    def __mul__(self, other):\n",
    "        return self.salary*other.days\n",
    "    \n",
    "class Attendance:\n",
    "    def __init__(self, name, days):\n",
    "        self.name = name\n",
    "        self.days = days\n",
    "        \n",
    "x1 = Employee('Srinu', 500.00)\n",
    "x2 = Attendance('Srinu', 25)\n",
    "print('This month salary= ', x1*x2)"
   ]
  },
  {
   "cell_type": "markdown",
   "metadata": {},
   "source": [
    "### Method Overloading"
   ]
  },
  {
   "cell_type": "code",
   "execution_count": 28,
   "metadata": {},
   "outputs": [
    {
     "name": "stdout",
     "output_type": "stream",
     "text": [
      "Sum of three=  45\n",
      "Sum of two=  36.05\n",
      "Please enter two or three arguments\n"
     ]
    }
   ],
   "source": [
    "#A python program to show method overloading to find sum of two or three numbers.\n",
    "#method overloading\n",
    "class Myclass:\n",
    "    def sum(self, a=None, b=None,c=None):\n",
    "        if a != None and b != None and c != None:\n",
    "            print('Sum of three= ', a+b+c)\n",
    "        elif a != None and b != None:\n",
    "            print('Sum of two= ', a+b)\n",
    "        else:\n",
    "            print('Please enter two or three arguments')\n",
    "            \n",
    "#call sum() using Object\n",
    "m = Myclass()\n",
    "m.sum(10, 15, 20)\n",
    "m.sum(10.5, 25.55)\n",
    "m.sum(100)"
   ]
  },
  {
   "cell_type": "markdown",
   "metadata": {},
   "source": [
    "### Method Overriding"
   ]
  },
  {
   "cell_type": "code",
   "execution_count": 29,
   "metadata": {},
   "outputs": [
    {
     "name": "stdout",
     "output_type": "stream",
     "text": [
      "Circle area= 706.8583\n"
     ]
    }
   ],
   "source": [
    "#A python program to override the super class method in sub class.\n",
    "#method overriding\n",
    "import math\n",
    "class Square:\n",
    "    def area(self, x):\n",
    "        print('Square area= %.4f'% x*x)\n",
    "        \n",
    "class Circle(Square):\n",
    "    def area(self, x):\n",
    "        print('Circle area= %.4f'% (math.pi*x*x))\n",
    "        \n",
    "#call area() using sub class object\n",
    "c = Circle()\n",
    "c.area(15)"
   ]
  },
  {
   "cell_type": "code",
   "execution_count": null,
   "metadata": {},
   "outputs": [],
   "source": []
  }
 ],
 "metadata": {
  "kernelspec": {
   "display_name": "Python 3",
   "language": "python",
   "name": "python3"
  },
  "language_info": {
   "codemirror_mode": {
    "name": "ipython",
    "version": 3
   },
   "file_extension": ".py",
   "mimetype": "text/x-python",
   "name": "python",
   "nbconvert_exporter": "python",
   "pygments_lexer": "ipython3",
   "version": "3.8.5"
  }
 },
 "nbformat": 4,
 "nbformat_minor": 4
}
